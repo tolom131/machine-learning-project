{
  "nbformat": 4,
  "nbformat_minor": 0,
  "metadata": {
    "colab": {
      "name": "assignment_02.ipynb",
      "provenance": [],
      "collapsed_sections": []
    },
    "kernelspec": {
      "name": "python3",
      "display_name": "Python 3.8.8 64-bit ('base': conda)"
    },
    "language_info": {
      "name": "python",
      "version": "3.8.8",
      "mimetype": "text/x-python",
      "codemirror_mode": {
        "name": "ipython",
        "version": 3
      },
      "pygments_lexer": "ipython3",
      "nbconvert_exporter": "python",
      "file_extension": ".py"
    },
    "interpreter": {
      "hash": "dca0ade3e726a953b501b15e8e990130d2b7799f14cfd9f4271676035ebe5511"
    },
    "accelerator": "GPU"
  },
  "cells": [
    {
      "cell_type": "markdown",
      "metadata": {
        "id": "K29I-OwCEYzW",
        "outputId": "db8b297c-a4b8-457a-b43f-7570135306c7"
      },
      "source": [
        "# Logistic regression for multi-class classification"
      ]
    },
    {
      "cell_type": "markdown",
      "metadata": {
        "id": "bTlC-YS9l3N2"
      },
      "source": [
        "## import libraries"
      ]
    },
    {
      "cell_type": "code",
      "metadata": {
        "id": "D_ZBAMLYl3N3"
      },
      "source": [
        "import numpy as np\n",
        "import matplotlib.pyplot as plt\n",
        "import os\n",
        "from tqdm import tqdm"
      ],
      "execution_count": 1,
      "outputs": []
    },
    {
      "cell_type": "markdown",
      "metadata": {
        "id": "tkQMLGKIl3N5"
      },
      "source": [
        "## load data"
      ]
    },
    {
      "cell_type": "code",
      "metadata": {
        "colab": {
          "base_uri": "https://localhost:8080/"
        },
        "id": "4J50G5Z_l3N6",
        "outputId": "f6d897a3-867a-4432-dc0c-850994b48861"
      },
      "source": [
        "directory_data  = './data/'\n",
        "filename_data   = 'assignment_05_data.npz'\n",
        "data            = np.load(os.path.join(directory_data, filename_data))\n",
        "\n",
        "x_train = data['x_train']\n",
        "y_train = data['y_train']\n",
        "\n",
        "x_test  = data['x_test']\n",
        "y_test  = data['y_test']\n",
        "\n",
        "num_data_train  = x_train.shape[0]\n",
        "num_data_test   = x_test.shape[0]\n",
        "\n",
        "print('*************************************************')\n",
        "print('size of x_train :', x_train.shape)\n",
        "print('size of y_train :', y_train.shape)\n",
        "print('*************************************************')\n",
        "print('size of x_test :', x_test.shape)\n",
        "print('size of y_test :', y_test.shape)\n",
        "print('*************************************************')\n",
        "print('number of training image :', x_train.shape[0])\n",
        "print('height of training image :', x_train.shape[1])\n",
        "print('width of training image :', x_train.shape[2])\n",
        "print('*************************************************')\n",
        "print('number of testing image :', x_test.shape[0])\n",
        "print('height of testing image :', x_test.shape[1])\n",
        "print('width of testing image :', x_test.shape[2])\n",
        "print('*************************************************')"
      ],
      "execution_count": 3,
      "outputs": [
        {
          "output_type": "stream",
          "name": "stdout",
          "text": [
            "*************************************************\n",
            "size of x_train : (20000, 28, 28)\n",
            "size of y_train : (20000, 10)\n",
            "*************************************************\n",
            "size of x_test : (8000, 28, 28)\n",
            "size of y_test : (8000, 10)\n",
            "*************************************************\n",
            "number of training image : 20000\n",
            "height of training image : 28\n",
            "width of training image : 28\n",
            "*************************************************\n",
            "number of testing image : 8000\n",
            "height of testing image : 28\n",
            "width of testing image : 28\n",
            "*************************************************\n"
          ]
        }
      ]
    },
    {
      "cell_type": "markdown",
      "metadata": {
        "id": "5EqHvjvQl3N9"
      },
      "source": [
        "## number of classes"
      ]
    },
    {
      "cell_type": "code",
      "metadata": {
        "colab": {
          "base_uri": "https://localhost:8080/"
        },
        "id": "nTpmKgzWl3N-",
        "outputId": "7e18c999-2821-41f4-c52d-e609aae905af"
      },
      "source": [
        "nClass = y_train.shape[1]\n",
        "\n",
        "print('*************************************************')\n",
        "print('number of classes :', nClass)\n",
        "print('*************************************************')"
      ],
      "execution_count": 4,
      "outputs": [
        {
          "output_type": "stream",
          "name": "stdout",
          "text": [
            "*************************************************\n",
            "number of classes : 10\n",
            "*************************************************\n"
          ]
        }
      ]
    },
    {
      "cell_type": "markdown",
      "metadata": {
        "id": "bqQ4wBOQl3OA"
      },
      "source": [
        "## vectorize image data"
      ]
    },
    {
      "cell_type": "code",
      "metadata": {
        "colab": {
          "base_uri": "https://localhost:8080/"
        },
        "id": "RZDxrbCNl3OB",
        "outputId": "51afb4ce-4a7f-43c7-88fe-7d7944f443e8"
      },
      "source": [
        "vector_x_train  = x_train.reshape(x_train.shape[0], x_train.shape[1] * x_train.shape[2])\n",
        "vector_x_test   = x_test.reshape(x_test.shape[0], x_test.shape[1] * x_test.shape[2])\n",
        "\n",
        "print('*************************************************')\n",
        "print('dimension of the training data :', vector_x_train.shape)\n",
        "print('dimension of the testing data :', vector_x_test.shape)\n",
        "print('*************************************************')\n",
        "print('dimension of the training label :', y_train.shape)\n",
        "print('dimension of the testing label :', y_test.shape)\n",
        "print('*************************************************')"
      ],
      "execution_count": 5,
      "outputs": [
        {
          "output_type": "stream",
          "name": "stdout",
          "text": [
            "*************************************************\n",
            "dimension of the training data : (20000, 784)\n",
            "dimension of the testing data : (8000, 784)\n",
            "*************************************************\n",
            "dimension of the training label : (20000, 10)\n",
            "dimension of the testing label : (8000, 10)\n",
            "*************************************************\n"
          ]
        }
      ]
    },
    {
      "cell_type": "markdown",
      "metadata": {
        "id": "ssITugQ5l3OC"
      },
      "source": [
        "## index for each class"
      ]
    },
    {
      "cell_type": "code",
      "metadata": {
        "colab": {
          "base_uri": "https://localhost:8080/"
        },
        "id": "v_AjWkvXl3OD",
        "outputId": "5f15d7fe-d52f-4021-9467-90aed5cf6f28"
      },
      "source": [
        "index_train = {}\n",
        "index_test  = {}\n",
        "\n",
        "number_index_train  = np.zeros(nClass)\n",
        "number_index_test   = np.zeros(nClass)\n",
        "\n",
        "print('*************************************************')\n",
        "\n",
        "for i in range(nClass):\n",
        "\n",
        "    index_train[i]  = np.where(y_train[:, i] == 1)\n",
        "    index_test[i]   = np.where(y_test[:, i] == 1)\n",
        "\n",
        "    number_index_train[i]   = np.shape(index_train[i])[1]\n",
        "    number_index_test[i]    = np.shape(index_test[i])[1]\n",
        "\n",
        "    print('number of the training data for class %2d : %5d' % (i, number_index_train[i]))\n",
        "    print('number of the testing data for class %2d : %5d' % (i, number_index_test[i]))\n",
        "\n",
        "print('*************************************************')"
      ],
      "execution_count": 9,
      "outputs": [
        {
          "output_type": "stream",
          "name": "stdout",
          "text": [
            "*************************************************\n",
            "number of the training data for class  0 :  2000\n",
            "number of the testing data for class  0 :   800\n",
            "number of the training data for class  1 :  2000\n",
            "number of the testing data for class  1 :   800\n",
            "number of the training data for class  2 :  2000\n",
            "number of the testing data for class  2 :   800\n",
            "number of the training data for class  3 :  2000\n",
            "number of the testing data for class  3 :   800\n",
            "number of the training data for class  4 :  2000\n",
            "number of the testing data for class  4 :   800\n",
            "number of the training data for class  5 :  2000\n",
            "number of the testing data for class  5 :   800\n",
            "number of the training data for class  6 :  2000\n",
            "number of the testing data for class  6 :   800\n",
            "number of the training data for class  7 :  2000\n",
            "number of the testing data for class  7 :   800\n",
            "number of the training data for class  8 :  2000\n",
            "number of the testing data for class  8 :   800\n",
            "number of the training data for class  9 :  2000\n",
            "number of the testing data for class  9 :   800\n",
            "*************************************************\n"
          ]
        }
      ]
    },
    {
      "cell_type": "markdown",
      "metadata": {
        "id": "h1Otozzfl3OF"
      },
      "source": [
        "## plot data"
      ]
    },
    {
      "cell_type": "code",
      "metadata": {
        "id": "qCx2jrqXl3OF"
      },
      "source": [
        "def plot_data_grid(data, index_data, nRow, nCol):\n",
        "\n",
        "    fig, axes = plt.subplots(nRow, nCol, constrained_layout=True, figsize=(nCol * 3, nRow * 3))\n",
        "\n",
        "    for i in range(nRow):\n",
        "        for j in range(nCol):\n",
        "\n",
        "            k       = i * nCol + j\n",
        "            index   = index_data[k]\n",
        "\n",
        "            axes[i, j].imshow(data[index], cmap='gray', vmin=0, vmax=1)\n",
        "            axes[i, j].xaxis.set_visible(False)\n",
        "            axes[i, j].yaxis.set_visible(False)\n",
        "\n",
        "    plt.show()"
      ],
      "execution_count": 6,
      "outputs": []
    },
    {
      "cell_type": "code",
      "metadata": {
        "id": "x0IOffwtl3OG"
      },
      "source": [
        "nRow    = 2\n",
        "nCol    = 4\n",
        "nPlot   = nRow * nCol"
      ],
      "execution_count": 7,
      "outputs": []
    },
    {
      "cell_type": "code",
      "metadata": {
        "colab": {
          "base_uri": "https://localhost:8080/",
          "height": 1000
        },
        "id": "Rjh1LGaVl3OH",
        "outputId": "fdd30b6d-a324-4f5b-8ed8-e9f9650fb934"
      },
      "source": [
        "for i in range(nClass):\n",
        "\n",
        "    index_class_plot = index_train[i][0][0:nPlot]\n",
        "    plot_data_grid(x_train, index_class_plot, nRow, nCol)"
      ],
      "execution_count": 10,
      "outputs": [
        {
          "output_type": "stream",
          "name": "stderr",
          "text": [
            "Exception ignored in: <function NpzFile.__del__ at 0x7f27f15e9200>\n",
            "Traceback (most recent call last):\n",
            "  File \"/usr/local/lib/python3.7/dist-packages/numpy/lib/npyio.py\", line 223, in __del__\n",
            "    self.close()\n",
            "  File \"/usr/local/lib/python3.7/dist-packages/numpy/lib/npyio.py\", line 214, in close\n",
            "    if self.zip is not None:\n",
            "AttributeError: 'NpzFile' object has no attribute 'zip'\n"
          ]
        },
        {
          "output_type": "display_data",
          "data": {
            "image/png": "[encoded data removed]",
            "text/plain": [
              "<Figure size 864x432 with 8 Axes>"
            ]
          },
          "metadata": {
            "needs_background": "light"
          }
        },
        {
          "output_type": "display_data",
          "data": {
            "image/png": "[encoded data removed]",
            "text/plain": [
              "<Figure size 864x432 with 8 Axes>"
            ]
          },
          "metadata": {
            "needs_background": "light"
          }
        },
        {
          "output_type": "display_data",
          "data": {
            "image/png": "[encoded data removed]",
            "text/plain": [
              "<Figure size 864x432 with 8 Axes>"
            ]
          },
          "metadata": {
            "needs_background": "light"
          }
        },
        {
          "output_type": "display_data",
          "data": {
            "image/png": "[encoded data removed]",
            "text/plain": [
              "<Figure size 864x432 with 8 Axes>"
            ]
          },
          "metadata": {
            "needs_background": "light"
          }
        },
        {
          "output_type": "display_data",
          "data": {
            "image/png": "[encoded data removed]",
            "text/plain": [
              "<Figure size 864x432 with 8 Axes>"
            ]
          },
          "metadata": {
            "needs_background": "light"
          }
        },
        {
          "output_type": "display_data",
          "data": {
            "image/png": "[encoded data removed]",
            "text/plain": [
              "<Figure size 864x432 with 8 Axes>"
            ]
          },
          "metadata": {
            "needs_background": "light"
          }
        },
        {
          "output_type": "display_data",
          "data": {
            "image/png": "[encoded data removed]",
            "text/plain": [
              "<Figure size 864x432 with 8 Axes>"
            ]
          },
          "metadata": {
            "needs_background": "light"
          }
        },
        {
          "output_type": "display_data",
          "data": {
            "image/png": "[encoded data removed]",
            "text/plain": [
              "<Figure size 864x432 with 8 Axes>"
            ]
          },
          "metadata": {
            "needs_background": "light"
          }
        },
        {
          "output_type": "display_data",
          "data": {
            "image/png": "[encoded data removed]",
            "text/plain": [
              "<Figure size 864x432 with 8 Axes>"
            ]
          },
          "metadata": {
            "needs_background": "light"
          }
        },
        {
          "output_type": "display_data",
          "data": {
            "image/png": "[encoded data removed]",
            "text/plain": [
              "<Figure size 864x432 with 8 Axes>"
            ]
          },
          "metadata": {
            "needs_background": "light"
          }
        }
      ]
    },
    {
      "cell_type": "markdown",
      "metadata": {
        "id": "Nkff96pQl3OH"
      },
      "source": [
        "## linear layer"
      ]
    },
    {
      "cell_type": "code",
      "metadata": {
        "id": "7e6yYRsRl3OI"
      },
      "source": [
        "def layer_linear(input, weight):\n",
        "\n",
        "    output = np.dot(input, weight)\n",
        "\n",
        "    return output"
      ],
      "execution_count": null,
      "outputs": []
    },
    {
      "cell_type": "markdown",
      "metadata": {
        "id": "gfsAPCaql3OK"
      },
      "source": [
        "## Softmax function"
      ]
    },
    {
      "cell_type": "code",
      "metadata": {
        "id": "c76ttS5Bl3OK"
      },
      "source": [
        "def activation_softmax(input):\n",
        "    max = np.max(input, axis=1,keepdims=True) #returns max of each row and keeps same dims\n",
        "    e_x = np.exp(input - max) #subtracts each row with its max value\n",
        "    sum = np.sum(e_x,axis=1,keepdims=True) #returns sum of each row and keeps same dims\n",
        "    f_x = e_x / sum\n",
        "     \n",
        "    return f_x"
      ],
      "execution_count": 11,
      "outputs": []
    },
    {
      "cell_type": "markdown",
      "metadata": {
        "id": "aqFEm0YVl3OL"
      },
      "source": [
        "## compute prediction by the forward propagation of the neural network"
      ]
    },
    {
      "cell_type": "code",
      "metadata": {
        "id": "39dwEGJjl3OL"
      },
      "source": [
        "def compute_prediction(input, weight):\n",
        "\n",
        "    output      = layer_linear(input, weight)\n",
        "    prediction  = activation_softmax(output)\n",
        "\n",
        "    return prediction"
      ],
      "execution_count": 12,
      "outputs": []
    },
    {
      "cell_type": "markdown",
      "metadata": {
        "id": "TOQpdIYKl3OM"
      },
      "source": [
        "## compute loss for the cross-entropy term"
      ]
    },
    {
      "cell_type": "code",
      "metadata": {
        "id": "9R90GQjul3OM"
      },
      "source": [
        "def compute_loss_cross_entropy(prediction, label):\n",
        "    delta = 1e-7\n",
        "    loss = -np.sum(label * np.log(prediction+delta)) / label.shape[0] \n",
        "    return loss"
      ],
      "execution_count": 13,
      "outputs": []
    },
    {
      "cell_type": "markdown",
      "metadata": {
        "id": "eT5XQMZxl3ON"
      },
      "source": [
        "## compute loss for the regularization term"
      ]
    },
    {
      "cell_type": "code",
      "metadata": {
        "id": "zvQt82TVl3ON"
      },
      "source": [
        "def compute_loss_regularization(alpha, weight):\n",
        "    \n",
        "    loss = np.linalg(weight, ord=2)\n",
        "    loss = (alpha / 2) * loss\n",
        "    return loss"
      ],
      "execution_count": 14,
      "outputs": []
    },
    {
      "cell_type": "markdown",
      "metadata": {
        "id": "uFTqxDT4l3ON"
      },
      "source": [
        "## compute loss function"
      ]
    },
    {
      "cell_type": "code",
      "metadata": {
        "id": "dVe2v1HPl3OO"
      },
      "source": [
        "def compute_loss(prediction, label, alpha, weight):\n",
        "\n",
        "    loss = compute_loss_cross_entropy(prediction, label) + compute_loss_cross_entropy(alpha, weight)\n",
        "    \n",
        "    return loss"
      ],
      "execution_count": 15,
      "outputs": []
    },
    {
      "cell_type": "markdown",
      "metadata": {
        "id": "3zWDyVQHl3OO"
      },
      "source": [
        "## compute gradient for the cross-entropy term"
      ]
    },
    {
      "cell_type": "code",
      "metadata": {
        "id": "_OMB4hnOl3OO"
      },
      "source": [
        "def compute_gradient_cross_entropy(input, prediction, label):\n",
        "    batch_size = label.shape[0]\n",
        "    gradient = (prediction - label) / batch_size \n",
        "    gradient = np.dot(input.T, gradient)\n",
        "    \n",
        "    return gradient"
      ],
      "execution_count": 16,
      "outputs": []
    },
    {
      "cell_type": "markdown",
      "metadata": {
        "id": "yn5x1PGNl3OP"
      },
      "source": [
        "## compute gradient for the regularization term"
      ]
    },
    {
      "cell_type": "code",
      "metadata": {
        "id": "K3_oTpsKl3OP"
      },
      "source": [
        "def compute_gradient_regularization(alpha, weight):\n",
        "    \n",
        "    gradient = weight * alpha\n",
        "    \n",
        "    return gradient"
      ],
      "execution_count": 17,
      "outputs": []
    },
    {
      "cell_type": "markdown",
      "metadata": {
        "id": "rhB7tJanl3OP"
      },
      "source": [
        "## compute gradient"
      ]
    },
    {
      "cell_type": "code",
      "metadata": {
        "id": "JtdwYFGNl3OQ"
      },
      "source": [
        "def compute_gradient(input, prediction, label, alpha, weight):\n",
        "\n",
        "    gradient = compute_gradient_cross_entropy(input, prediction, label) + compute_gradient_regularization(alpha, weight) \n",
        "\n",
        "    return gradient"
      ],
      "execution_count": 18,
      "outputs": []
    },
    {
      "cell_type": "markdown",
      "metadata": {
        "id": "QZ1brxyql3OQ"
      },
      "source": [
        "## compute accuracy"
      ]
    },
    {
      "cell_type": "code",
      "metadata": {
        "id": "FPq59MNWl3OQ"
      },
      "source": [
        "def compute_accuracy(prediction, label):\n",
        "    a = np.argmax(prediction, axis=1)\n",
        "    b = np.argmax(label, axis=1)\n",
        "    bCorrect    = (a == b)\n",
        "    accuracy    = np.sum(bCorrect) / len(label)\n",
        "    \n",
        "    return accuracy"
      ],
      "execution_count": 19,
      "outputs": []
    },
    {
      "cell_type": "markdown",
      "metadata": {
        "id": "vnF558cFl3OR"
      },
      "source": [
        "## consider bias in the data"
      ]
    },
    {
      "cell_type": "code",
      "metadata": {
        "colab": {
          "base_uri": "https://localhost:8080/"
        },
        "id": "yL1u0Aspl3OR",
        "outputId": "c3336a86-97eb-47eb-ff90-f31b787b4a73"
      },
      "source": [
        "\n",
        "one_train   = np.ones((num_data_train, 1))\n",
        "one_test    = np.ones((num_data_test, 1))\n",
        "\n",
        "vector_x_train_bias = np.concatenate((vector_x_train, one_train), axis=1)\n",
        "vector_x_test_bias  = np.concatenate((vector_x_test, one_test), axis=1)\n",
        "\n",
        "print('dimension of the training data with bias :', vector_x_train_bias.shape)\n",
        "print('dimension of the testing data with bias :', vector_x_test_bias.shape)"
      ],
      "execution_count": 34,
      "outputs": [
        {
          "output_type": "stream",
          "name": "stdout",
          "text": [
            "dimension of the training data with bias : (20000, 785)\n",
            "dimension of the testing data with bias : (8000, 785)\n"
          ]
        }
      ]
    },
    {
      "cell_type": "markdown",
      "metadata": {
        "id": "Z6MT2YpAl3OR"
      },
      "source": [
        "## construct model parameters and initialize them"
      ]
    },
    {
      "cell_type": "code",
      "metadata": {
        "id": "dwuiPub8l3OS"
      },
      "source": [
        "def get_weight(dim_input, dim_output):\n",
        "    \n",
        "    weight = np.zeros((dim_input, dim_output))\n",
        "    # initialize the model parameters (linear = 0.001, bias = 1)\n",
        "    weight[:dim_input-1, :] = 0.001\n",
        "    weight[dim_input-1, :] = 1\n",
        "\n",
        "    return weight"
      ],
      "execution_count": 27,
      "outputs": []
    },
    {
      "cell_type": "code",
      "metadata": {
        "colab": {
          "base_uri": "https://localhost:8080/"
        },
        "id": "TlRzveN9l3OS",
        "outputId": "1992a57d-9649-4d94-94f7-867fe71ac1c3"
      },
      "source": [
        "dim_input   = vector_x_train_bias.shape[1]\n",
        "dim_output  =  nClass\n",
        "\n",
        "weight = get_weight(dim_input, dim_output)\n",
        "\n",
        "print('dimension of the model parameters: ', weight.shape)\n",
        "print('first row of the weight matrix: ', weight[:, 0])"
      ],
      "execution_count": 29,
      "outputs": [
        {
          "output_type": "stream",
          "name": "stdout",
          "text": [
            "dimension of the model parameters:  (785, 10)\n",
            "first row of the weight matrix:  [0.001 0.001 0.001 0.001 0.001 0.001 0.001 0.001 0.001 0.001 0.001 0.001\n",
            " 0.001 0.001 0.001 0.001 0.001 0.001 0.001 0.001 0.001 0.001 0.001 0.001\n",
            " 0.001 0.001 0.001 0.001 0.001 0.001 0.001 0.001 0.001 0.001 0.001 0.001\n",
            " 0.001 0.001 0.001 0.001 0.001 0.001 0.001 0.001 0.001 0.001 0.001 0.001\n",
            " 0.001 0.001 0.001 0.001 0.001 0.001 0.001 0.001 0.001 0.001 0.001 0.001\n",
            " 0.001 0.001 0.001 0.001 0.001 0.001 0.001 0.001 0.001 0.001 0.001 0.001\n",
            " 0.001 0.001 0.001 0.001 0.001 0.001 0.001 0.001 0.001 0.001 0.001 0.001\n",
            " 0.001 0.001 0.001 0.001 0.001 0.001 0.001 0.001 0.001 0.001 0.001 0.001\n",
            " 0.001 0.001 0.001 0.001 0.001 0.001 0.001 0.001 0.001 0.001 0.001 0.001\n",
            " 0.001 0.001 0.001 0.001 0.001 0.001 0.001 0.001 0.001 0.001 0.001 0.001\n",
            " 0.001 0.001 0.001 0.001 0.001 0.001 0.001 0.001 0.001 0.001 0.001 0.001\n",
            " 0.001 0.001 0.001 0.001 0.001 0.001 0.001 0.001 0.001 0.001 0.001 0.001\n",
            " 0.001 0.001 0.001 0.001 0.001 0.001 0.001 0.001 0.001 0.001 0.001 0.001\n",
            " 0.001 0.001 0.001 0.001 0.001 0.001 0.001 0.001 0.001 0.001 0.001 0.001\n",
            " 0.001 0.001 0.001 0.001 0.001 0.001 0.001 0.001 0.001 0.001 0.001 0.001\n",
            " 0.001 0.001 0.001 0.001 0.001 0.001 0.001 0.001 0.001 0.001 0.001 0.001\n",
            " 0.001 0.001 0.001 0.001 0.001 0.001 0.001 0.001 0.001 0.001 0.001 0.001\n",
            " 0.001 0.001 0.001 0.001 0.001 0.001 0.001 0.001 0.001 0.001 0.001 0.001\n",
            " 0.001 0.001 0.001 0.001 0.001 0.001 0.001 0.001 0.001 0.001 0.001 0.001\n",
            " 0.001 0.001 0.001 0.001 0.001 0.001 0.001 0.001 0.001 0.001 0.001 0.001\n",
            " 0.001 0.001 0.001 0.001 0.001 0.001 0.001 0.001 0.001 0.001 0.001 0.001\n",
            " 0.001 0.001 0.001 0.001 0.001 0.001 0.001 0.001 0.001 0.001 0.001 0.001\n",
            " 0.001 0.001 0.001 0.001 0.001 0.001 0.001 0.001 0.001 0.001 0.001 0.001\n",
            " 0.001 0.001 0.001 0.001 0.001 0.001 0.001 0.001 0.001 0.001 0.001 0.001\n",
            " 0.001 0.001 0.001 0.001 0.001 0.001 0.001 0.001 0.001 0.001 0.001 0.001\n",
            " 0.001 0.001 0.001 0.001 0.001 0.001 0.001 0.001 0.001 0.001 0.001 0.001\n",
            " 0.001 0.001 0.001 0.001 0.001 0.001 0.001 0.001 0.001 0.001 0.001 0.001\n",
            " 0.001 0.001 0.001 0.001 0.001 0.001 0.001 0.001 0.001 0.001 0.001 0.001\n",
            " 0.001 0.001 0.001 0.001 0.001 0.001 0.001 0.001 0.001 0.001 0.001 0.001\n",
            " 0.001 0.001 0.001 0.001 0.001 0.001 0.001 0.001 0.001 0.001 0.001 0.001\n",
            " 0.001 0.001 0.001 0.001 0.001 0.001 0.001 0.001 0.001 0.001 0.001 0.001\n",
            " 0.001 0.001 0.001 0.001 0.001 0.001 0.001 0.001 0.001 0.001 0.001 0.001\n",
            " 0.001 0.001 0.001 0.001 0.001 0.001 0.001 0.001 0.001 0.001 0.001 0.001\n",
            " 0.001 0.001 0.001 0.001 0.001 0.001 0.001 0.001 0.001 0.001 0.001 0.001\n",
            " 0.001 0.001 0.001 0.001 0.001 0.001 0.001 0.001 0.001 0.001 0.001 0.001\n",
            " 0.001 0.001 0.001 0.001 0.001 0.001 0.001 0.001 0.001 0.001 0.001 0.001\n",
            " 0.001 0.001 0.001 0.001 0.001 0.001 0.001 0.001 0.001 0.001 0.001 0.001\n",
            " 0.001 0.001 0.001 0.001 0.001 0.001 0.001 0.001 0.001 0.001 0.001 0.001\n",
            " 0.001 0.001 0.001 0.001 0.001 0.001 0.001 0.001 0.001 0.001 0.001 0.001\n",
            " 0.001 0.001 0.001 0.001 0.001 0.001 0.001 0.001 0.001 0.001 0.001 0.001\n",
            " 0.001 0.001 0.001 0.001 0.001 0.001 0.001 0.001 0.001 0.001 0.001 0.001\n",
            " 0.001 0.001 0.001 0.001 0.001 0.001 0.001 0.001 0.001 0.001 0.001 0.001\n",
            " 0.001 0.001 0.001 0.001 0.001 0.001 0.001 0.001 0.001 0.001 0.001 0.001\n",
            " 0.001 0.001 0.001 0.001 0.001 0.001 0.001 0.001 0.001 0.001 0.001 0.001\n",
            " 0.001 0.001 0.001 0.001 0.001 0.001 0.001 0.001 0.001 0.001 0.001 0.001\n",
            " 0.001 0.001 0.001 0.001 0.001 0.001 0.001 0.001 0.001 0.001 0.001 0.001\n",
            " 0.001 0.001 0.001 0.001 0.001 0.001 0.001 0.001 0.001 0.001 0.001 0.001\n",
            " 0.001 0.001 0.001 0.001 0.001 0.001 0.001 0.001 0.001 0.001 0.001 0.001\n",
            " 0.001 0.001 0.001 0.001 0.001 0.001 0.001 0.001 0.001 0.001 0.001 0.001\n",
            " 0.001 0.001 0.001 0.001 0.001 0.001 0.001 0.001 0.001 0.001 0.001 0.001\n",
            " 0.001 0.001 0.001 0.001 0.001 0.001 0.001 0.001 0.001 0.001 0.001 0.001\n",
            " 0.001 0.001 0.001 0.001 0.001 0.001 0.001 0.001 0.001 0.001 0.001 0.001\n",
            " 0.001 0.001 0.001 0.001 0.001 0.001 0.001 0.001 0.001 0.001 0.001 0.001\n",
            " 0.001 0.001 0.001 0.001 0.001 0.001 0.001 0.001 0.001 0.001 0.001 0.001\n",
            " 0.001 0.001 0.001 0.001 0.001 0.001 0.001 0.001 0.001 0.001 0.001 0.001\n",
            " 0.001 0.001 0.001 0.001 0.001 0.001 0.001 0.001 0.001 0.001 0.001 0.001\n",
            " 0.001 0.001 0.001 0.001 0.001 0.001 0.001 0.001 0.001 0.001 0.001 0.001\n",
            " 0.001 0.001 0.001 0.001 0.001 0.001 0.001 0.001 0.001 0.001 0.001 0.001\n",
            " 0.001 0.001 0.001 0.001 0.001 0.001 0.001 0.001 0.001 0.001 0.001 0.001\n",
            " 0.001 0.001 0.001 0.001 0.001 0.001 0.001 0.001 0.001 0.001 0.001 0.001\n",
            " 0.001 0.001 0.001 0.001 0.001 0.001 0.001 0.001 0.001 0.001 0.001 0.001\n",
            " 0.001 0.001 0.001 0.001 0.001 0.001 0.001 0.001 0.001 0.001 0.001 0.001\n",
            " 0.001 0.001 0.001 0.001 0.001 0.001 0.001 0.001 0.001 0.001 0.001 0.001\n",
            " 0.001 0.001 0.001 0.001 0.001 0.001 0.001 0.001 0.001 0.001 0.001 0.001\n",
            " 0.001 0.001 0.001 0.001 0.001 0.001 0.001 0.001 0.001 0.001 0.001 0.001\n",
            " 0.001 0.001 0.001 0.001 1.   ]\n"
          ]
        }
      ]
    },
    {
      "cell_type": "markdown",
      "metadata": {
        "id": "8UY8A2XXl3OT"
      },
      "source": [
        "## hyper-parameters"
      ]
    },
    {
      "cell_type": "code",
      "metadata": {
        "id": "uanNtleal3OT"
      },
      "source": [
        "number_iteration    = 1000\n",
        "learning_rate       = 0.001\n",
        "\n",
        "list_size_minibatch = [50, 100, 200]\n",
        "list_weight_decay   = [0.001, 0.01, 0.1]\n",
        "\n",
        "num_size_minibatch  = len(list_size_minibatch)\n",
        "num_weight_decay    = len(list_weight_decay)"
      ],
      "execution_count": 30,
      "outputs": []
    },
    {
      "cell_type": "markdown",
      "metadata": {
        "id": "7L8E-kACl3OT"
      },
      "source": [
        "## variables for optimization information for different minibatch"
      ]
    },
    {
      "cell_type": "code",
      "metadata": {
        "id": "rwelIl9sl3OU"
      },
      "source": [
        "train_loss_mean_minibatch     = np.zeros((num_size_minibatch, number_iteration))\n",
        "train_loss_std_minibatch      = np.zeros((num_size_minibatch, number_iteration))\n",
        "\n",
        "train_accuracy_mean_minibatch = np.zeros((num_size_minibatch, number_iteration))\n",
        "train_accuracy_std_minibatch  = np.zeros((num_size_minibatch, number_iteration))\n",
        "\n",
        "test_loss_minibatch           = np.zeros((num_size_minibatch, number_iteration))\n",
        "test_accuracy_minibatch       = np.zeros((num_size_minibatch, number_iteration))"
      ],
      "execution_count": 31,
      "outputs": []
    },
    {
      "cell_type": "markdown",
      "metadata": {
        "id": "_Lth0Nkzl3OU"
      },
      "source": [
        "## variables for optimization information for different weight decay"
      ]
    },
    {
      "cell_type": "code",
      "metadata": {
        "id": "_nUezOLcl3OU"
      },
      "source": [
        "train_loss_mean_weight_decay        = np.zeros((num_weight_decay, number_iteration))\n",
        "train_loss_std_weight_decay         = np.zeros((num_weight_decay, number_iteration))\n",
        "\n",
        "train_accuracy_mean_weight_decay    = np.zeros((num_weight_decay, number_iteration))\n",
        "train_accuracy_std_weight_decay     = np.zeros((num_weight_decay, number_iteration))\n",
        "\n",
        "test_loss_weight_decay              = np.zeros((num_weight_decay, number_iteration))\n",
        "test_accuracy_weight_decay          = np.zeros((num_weight_decay, number_iteration))"
      ],
      "execution_count": 32,
      "outputs": []
    },
    {
      "cell_type": "markdown",
      "metadata": {
        "id": "yNaSe__8l3OV"
      },
      "source": [
        "## stochastic gradient descent iterations with different mini-batch (with alpha = 0)"
      ]
    },
    {
      "cell_type": "code",
      "metadata": {
        "id": "0CBRPZtOl3OV"
      },
      "source": [
        "# iteration for mini-batch\n",
        "for k in range(num_size_minibatch):\n",
        "\n",
        "    size_minibatch  = list_size_minibatch[k]\n",
        "    num_minibatch   = num_data_train / size_minibatch\n",
        "    alpha           = 0\n",
        "\n",
        "    print('mini-batch size = %3d, alpha = %4.3f' % (size_minibatch, alpha))\n",
        "    \n",
        "    weight = \n",
        "    # initialze seed for generating random number \n",
        "    np.random.seed(0)\n",
        "    # iteration for epoch\n",
        "    for i in tqdm(range(number_iteration)):\n",
        "\n",
        "        index_shuffle   = np.random.permutation(num_data_train)\n",
        "        loss_epoch      = []\n",
        "        accuracy_epoch  = []\n",
        "\n",
        "        for j in range(num_minibatch):\n",
        "\n",
        "            index_minibatch = index_shuffle[j:j+size_minibatch]\n",
        "\n",
        "            data    = vector_x_train[index_minibatch]\n",
        "            label   = y_train[index_minibatch]\n",
        "\n",
        "            prediction  = compute_prediction(data, )\n",
        "            gradient    = \n",
        "            weight      = \n",
        "\n",
        "            prediction  = \n",
        "            loss        = \n",
        "            accuracy    = \n",
        "\n",
        "            loss_epoch.append(loss)\n",
        "            accuracy_epoch.append(accuracy)\n",
        "\n",
        "        train_loss_mean_minibatch[k, i] = \n",
        "        train_loss_std_minibatch[k, i]  = \n",
        "\n",
        "        train_accuracy_mean_minibatch[k, i] = \n",
        "        train_accuracy_std_minibatch[k, i]  = \n",
        "\n",
        "        # testing\n",
        "        data    = \n",
        "        label   = \n",
        "\n",
        "        prediction      = \n",
        "        loss_test       = \n",
        "        accuracy_test   = \n",
        "\n",
        "        test_loss_minibatch[k, i]       = \n",
        "        test_accuracy_minibatch[k, i]   = "
      ],
      "execution_count": null,
      "outputs": []
    },
    {
      "cell_type": "markdown",
      "metadata": {
        "id": "By8JJVehl3OV"
      },
      "source": [
        "## stochastic gradient descent iterations with different regularization parameter (weight decay) (with mini-batch size = 100)"
      ]
    },
    {
      "cell_type": "code",
      "metadata": {
        "id": "Rq0e3BMDl3OW"
      },
      "source": [
        "# iteration for mini-batch\n",
        "for k in range(num_weight_decay):\n",
        "\n",
        "    size_minibatch  = 100\n",
        "    num_minibatch   = \n",
        "    alpha           = list_weight_decay[k]\n",
        "    \n",
        "    print('mini-batch size = %3d, alpha = %4.3f' % (size_minibatch, alpha))\n",
        "    \n",
        "    weight = \n",
        "    # initialze seed for generating random number \n",
        "    np.random.seed(0)\n",
        "    # iteration for epoch\n",
        "    for i in tqdm(range(number_iteration)):\n",
        "\n",
        "        index_shuffle   = np.random.permutation(num_data_train)\n",
        "        loss_epoch      = []\n",
        "        accuracy_epoch  = []\n",
        "\n",
        "        for j in range(num_minibatch):\n",
        "\n",
        "            index_minibatch = \n",
        "\n",
        "            data    = \n",
        "            label   = \n",
        "\n",
        "            prediction  = \n",
        "            gradient    = \n",
        "            weight      = \n",
        "\n",
        "            prediction  = \n",
        "            loss        = \n",
        "            accuracy    = \n",
        "\n",
        "            loss_epoch.append(loss)\n",
        "            accuracy_epoch.append(accuracy)\n",
        "\n",
        "        train_loss_mean_weight_decay[k, i] = \n",
        "        train_loss_std_weight_decay[k, i]  = \n",
        "\n",
        "        train_accuracy_mean_weight_decay[k, i] = \n",
        "        train_accuracy_std_weight_decay[k, i]  = \n",
        "\n",
        "        # testing\n",
        "        data    =\n",
        "        label   = \n",
        "\n",
        "        prediction      = \n",
        "        loss_test       = \n",
        "        accuracy_test   = \n",
        "\n",
        "        test_loss_weight_decay[k, i]       = \n",
        "        test_accuracy_weight_decay[k, i]   = \n"
      ],
      "execution_count": null,
      "outputs": []
    },
    {
      "cell_type": "markdown",
      "metadata": {
        "id": "AabCUMI_l3OW"
      },
      "source": [
        "## plot curve"
      ]
    },
    {
      "cell_type": "code",
      "metadata": {
        "id": "oLvNSuoGl3OW"
      },
      "source": [
        "def plot_curve(data, x_label, y_label, title):\n",
        "    \n",
        "    plt.figure(figsize=(8, 6))\n",
        "    plt.title(title)\n",
        "\n",
        "    plt.plot(range(len(data)), data, '-', color='red')\n",
        "    \n",
        "    plt.xlabel(x_label)\n",
        "    plt.ylabel(y_label)\n",
        "\n",
        "    plt.tight_layout()\n",
        "    plt.show()"
      ],
      "execution_count": null,
      "outputs": []
    },
    {
      "cell_type": "code",
      "metadata": {
        "id": "6zwacPfQl3OX"
      },
      "source": [
        "def plot_curve2(data1, label_data1, data2, label_data2, x_label, y_label, title):\n",
        "    \n",
        "    plt.figure(figsize=(8, 6))\n",
        "    plt.title(title)\n",
        "\n",
        "    plt.plot(range(len(data1)), data1, '-', color = 'blue', label = label_data1)\n",
        "    plt.plot(range(len(data2)), data2, '-', color = 'red', label = label_data2)\n",
        "     \n",
        "    plt.xlabel(x_label)\n",
        "    plt.ylabel(y_label)\n",
        "\n",
        "    plt.legend()\n",
        "    plt.tight_layout()\n",
        "    plt.show()"
      ],
      "execution_count": null,
      "outputs": []
    },
    {
      "cell_type": "code",
      "metadata": {
        "id": "nbbzFjhVl3OX"
      },
      "source": [
        "def plot_curve3(data1, label_data1, data2, label_data2, data3, label_data3, x_label, y_label, title):\n",
        "    \n",
        "    plt.figure(figsize=(8, 6))\n",
        "    plt.title(title)\n",
        "\n",
        "    plt.plot(range(len(data1)), data1, '-', color = 'blue', label = label_data1)\n",
        "    plt.plot(range(len(data2)), data2, '-', color = 'red', label = label_data2)\n",
        "    plt.plot(range(len(data3)), data3, '-', color = 'green', label = label_data3)\n",
        "     \n",
        "    plt.xlabel(x_label)\n",
        "    plt.ylabel(y_label)\n",
        "\n",
        "    plt.legend()\n",
        "    plt.tight_layout()\n",
        "    plt.show()"
      ],
      "execution_count": null,
      "outputs": []
    },
    {
      "cell_type": "code",
      "metadata": {
        "id": "3_TmAK9xl3OX"
      },
      "source": [
        "def plot_curve_error(data_mean, data_std, x_label, y_label, title):\n",
        "\n",
        "    plt.figure(figsize=(8, 6))\n",
        "    plt.title(title)\n",
        "\n",
        "    alpha = 0.3\n",
        "    \n",
        "    plt.plot(range(len(data_mean)), data_mean, '-', color = 'red')\n",
        "    plt.fill_between(range(len(data_mean)), data_mean - data_std, data_mean + data_std, facecolor = 'blue', alpha = alpha) \n",
        "    \n",
        "    plt.xlabel(x_label)\n",
        "    plt.ylabel(y_label)\n",
        "\n",
        "    plt.tight_layout()\n",
        "    plt.show()"
      ],
      "execution_count": null,
      "outputs": []
    },
    {
      "cell_type": "code",
      "metadata": {
        "id": "rbU3Wh7zl3OY"
      },
      "source": [
        "def plot_curve_error2(data1_mean, data1_std, data1_label, data2_mean, data2_std, data2_label, x_label, y_label, title):\n",
        "    \n",
        "    plt.figure(figsize=(8, 6))\n",
        "    plt.title(title)\n",
        "\n",
        "    alpha = 0.3\n",
        "\n",
        "    plt.plot(range(len(data1_mean)), data1_mean, '-', color = 'blue', label = data1_label)\n",
        "    plt.fill_between(range(len(data1_mean)), data1_mean - data1_std, data1_mean + data1_std, facecolor = 'blue', alpha = alpha)\n",
        "\n",
        "    plt.plot(range(len(data2_mean)), data2_mean, '-', color = 'red', label = data2_label)\n",
        "    plt.fill_between(range(len(data2_mean)), data2_mean - data2_std, data2_mean + data2_std, facecolor = 'red', alpha = alpha)\n",
        "\n",
        "    plt.xlabel(x_label)\n",
        "    plt.ylabel(y_label)\n",
        "\n",
        "    plt.tight_layout()\n",
        "    plt.show()"
      ],
      "execution_count": null,
      "outputs": []
    },
    {
      "cell_type": "markdown",
      "metadata": {
        "id": "9TZ0A39Ml3OY"
      },
      "source": [
        "## loss (training) curve : mini-batch size = 50, weight decay = 0"
      ]
    },
    {
      "cell_type": "code",
      "metadata": {
        "id": "6PccYqvWl3OZ"
      },
      "source": [
        "plot_curve_error(train_loss_mean_minibatch[0], train_loss_std_minibatch[0], 'epoch', 'loss', 'loss (training)')"
      ],
      "execution_count": null,
      "outputs": []
    },
    {
      "cell_type": "markdown",
      "metadata": {
        "id": "F-gXpsUZl3OZ"
      },
      "source": [
        "## loss (training) curve : mini-batch size = 100, weight decay = 0"
      ]
    },
    {
      "cell_type": "code",
      "metadata": {
        "id": "iWeBRBYel3OZ"
      },
      "source": [
        "plot_curve_error(train_loss_mean_minibatch[1], train_loss_std_minibatch[1], 'epoch', 'loss', 'loss (training)')"
      ],
      "execution_count": null,
      "outputs": []
    },
    {
      "cell_type": "markdown",
      "metadata": {
        "id": "uDipPhkMl3Oa"
      },
      "source": [
        "## loss (training) curve : mini-batch size = 200, weight decay = 0"
      ]
    },
    {
      "cell_type": "code",
      "metadata": {
        "id": "WjUyozIEl3Oa"
      },
      "source": [
        "\n",
        "plot_curve_error(train_loss_mean_minibatch[2], train_loss_std_minibatch[2], 'epoch', 'loss', 'loss (training)')"
      ],
      "execution_count": null,
      "outputs": []
    },
    {
      "cell_type": "markdown",
      "metadata": {
        "id": "jM4o46-al3Oa"
      },
      "source": [
        "## accuracy (training) curve : mini-batch size = 50, weight decay = 0"
      ]
    },
    {
      "cell_type": "code",
      "metadata": {
        "id": "oZtGxIL7l3Oa"
      },
      "source": [
        "plot_curve_error(train_accuracy_mean_minibatch[0], train_accuracy_std_minibatch[0], 'epoch', 'accuracy', 'accuracy (training)')"
      ],
      "execution_count": null,
      "outputs": []
    },
    {
      "cell_type": "markdown",
      "metadata": {
        "id": "qJ6fZJQll3Ob"
      },
      "source": [
        "## accuracy (training) curve : mini-batch size = 100, weight decay = 0"
      ]
    },
    {
      "cell_type": "code",
      "metadata": {
        "id": "90zmXD5Fl3Ob"
      },
      "source": [
        "plot_curve_error(train_accuracy_mean_minibatch[1], train_accuracy_std_minibatch[1], 'epoch', 'accuracy', 'accuracy (training)')"
      ],
      "execution_count": null,
      "outputs": []
    },
    {
      "cell_type": "markdown",
      "metadata": {
        "id": "CxkQGOyDl3Od"
      },
      "source": [
        "## accuracy (training) curve : mini-batch size = 200, weight decay = 0"
      ]
    },
    {
      "cell_type": "code",
      "metadata": {
        "id": "-WKN5c8Gl3Od"
      },
      "source": [
        "plot_curve_error(train_accuracy_mean_minibatch[2], train_accuracy_std_minibatch[2], 'epoch', 'accuracy', 'accuracy (training)')"
      ],
      "execution_count": null,
      "outputs": []
    },
    {
      "cell_type": "markdown",
      "metadata": {
        "id": "Gnuzn52Ml3Oe"
      },
      "source": [
        "## loss (testing) curve with different mini-batch"
      ]
    },
    {
      "cell_type": "code",
      "metadata": {
        "id": "wc4mBBFsl3Oe"
      },
      "source": [
        "plot_curve3(test_loss_minibatch[0], 'mini-batch = 50', test_loss_minibatch[1], 'mini-batch = 100', test_loss_minibatch[2], 'mini-batch = 200', 'epoch', 'loss', 'loss (testing)')"
      ],
      "execution_count": null,
      "outputs": []
    },
    {
      "cell_type": "markdown",
      "metadata": {
        "id": "t3XAMtQ6l3Oe"
      },
      "source": [
        "## accuracy (testing) curve with different mini-batch"
      ]
    },
    {
      "cell_type": "code",
      "metadata": {
        "id": "tNohTRukl3Oe"
      },
      "source": [
        "plot_curve3(test_accuracy_minibatch[0], 'mini-batch = 50', test_accuracy_minibatch[1], 'mini-batch = 100', test_accuracy_minibatch[2], 'mini-batch = 200', 'epoch', 'accuracy', 'accuracy (testing)')"
      ],
      "execution_count": null,
      "outputs": []
    },
    {
      "cell_type": "markdown",
      "metadata": {
        "id": "d7jDpjFSl3Of"
      },
      "source": [
        "## loss (testing) curve with different weight-decay"
      ]
    },
    {
      "cell_type": "code",
      "metadata": {
        "id": "71KUvGa2l3Og"
      },
      "source": [
        "plot_curve3(test_loss_weight_decay[0], 'weight-decay = 0.001', test_loss_weight_decay[1], 'weight-decay = 0.01', test_loss_weight_decay[2], 'weight-decay = 0.1', 'epoch', 'loss', 'loss (testing)')"
      ],
      "execution_count": null,
      "outputs": []
    },
    {
      "cell_type": "markdown",
      "metadata": {
        "id": "kypsSrwDl3Og"
      },
      "source": [
        "## accuracy (testing) curve with different weight-decay"
      ]
    },
    {
      "cell_type": "code",
      "metadata": {
        "id": "hJmOUob0l3Og"
      },
      "source": [
        "plot_curve3(test_accuracy_weight_decay[0], 'weight-decay = 0.001', test_accuracy_weight_decay[1], 'weight-decay = 0.01', test_accuracy_weight_decay[2], 'weight-decay = 0.1', 'epoch', 'accuracy', 'accuracy (testing)')"
      ],
      "execution_count": null,
      "outputs": []
    },
    {
      "cell_type": "markdown",
      "metadata": {
        "id": "5F83pE8Sl3Oh"
      },
      "source": [
        "## print values"
      ]
    },
    {
      "cell_type": "code",
      "metadata": {
        "id": "3Stlxqzjl3Oh"
      },
      "source": [
        "def print_curve(data, index):\n",
        "\n",
        "    for i in range(len(index)):\n",
        "\n",
        "        idx = index[i]\n",
        "        val = data[idx]\n",
        "\n",
        "        print('index = %4d, value = %12.10f' % (idx, val))"
      ],
      "execution_count": null,
      "outputs": []
    },
    {
      "cell_type": "markdown",
      "metadata": {
        "id": "UpDc7AZGl3Oh"
      },
      "source": [
        "## given iterations at which the values are presented"
      ]
    },
    {
      "cell_type": "code",
      "metadata": {
        "id": "0o-7V2Zbl3Oh"
      },
      "source": [
        "index = np.array([0, 100, 200, 300, 400, 500, 600, 700, 800, 900])"
      ],
      "execution_count": null,
      "outputs": []
    },
    {
      "cell_type": "markdown",
      "metadata": {
        "id": "T0JYsHfil3Oi"
      },
      "source": [
        "## training loss (mean) : mini-batch = 50, weight-decay = 0"
      ]
    },
    {
      "cell_type": "code",
      "metadata": {
        "id": "wK_rDy2Wl3Oi"
      },
      "source": [
        "print_curve(train_loss_mean_minibatch[0], index)"
      ],
      "execution_count": null,
      "outputs": []
    },
    {
      "cell_type": "markdown",
      "metadata": {
        "id": "A46av3BOl3Oi"
      },
      "source": [
        "## training loss (mean) : mini-batch = 100, weight-decay = 0"
      ]
    },
    {
      "cell_type": "code",
      "metadata": {
        "id": "p04NdYLhl3Oi"
      },
      "source": [
        "print_curve(train_loss_mean_minibatch[1], index)"
      ],
      "execution_count": null,
      "outputs": []
    },
    {
      "cell_type": "markdown",
      "metadata": {
        "id": "e6sBcPbdl3Oj"
      },
      "source": [
        "## training loss (mean) : mini-batch = 200, weight-decay = 0"
      ]
    },
    {
      "cell_type": "code",
      "metadata": {
        "id": "Tbl-qW2il3Oj"
      },
      "source": [
        "print_curve(train_loss_mean_minibatch[2], index)"
      ],
      "execution_count": null,
      "outputs": []
    },
    {
      "cell_type": "markdown",
      "metadata": {
        "id": "FiutEb3wl3Oj"
      },
      "source": [
        "## training accuracy (mean) : mini-batch = 50, weight-decay = 0 "
      ]
    },
    {
      "cell_type": "code",
      "metadata": {
        "id": "4vrOzSUcl3Ok"
      },
      "source": [
        "print_curve(train_accuracy_mean_minibatch[0], index)"
      ],
      "execution_count": null,
      "outputs": []
    },
    {
      "cell_type": "markdown",
      "metadata": {
        "id": "DjGx2q1cl3Ok"
      },
      "source": [
        "## training accuracy (mean) : mini-batch = 100, weight-decay = 0"
      ]
    },
    {
      "cell_type": "code",
      "metadata": {
        "id": "OQeEnpaXl3Ok"
      },
      "source": [
        "print_curve(train_accuracy_mean_minibatch[1], index)"
      ],
      "execution_count": null,
      "outputs": []
    },
    {
      "cell_type": "markdown",
      "metadata": {
        "id": "V79TDbbgl3Ok"
      },
      "source": [
        "## training accuracy (mean) : mini-batch = 200, weight-decay = 0"
      ]
    },
    {
      "cell_type": "code",
      "metadata": {
        "id": "RN4p17bIl3Ol"
      },
      "source": [
        "print_curve(train_accuracy_mean_minibatch[2], index)"
      ],
      "execution_count": null,
      "outputs": []
    },
    {
      "cell_type": "markdown",
      "metadata": {
        "id": "llqDfaJbl3Ol"
      },
      "source": [
        "## training loss (mean) : mini-batch = 100, weight-decay = 0.001"
      ]
    },
    {
      "cell_type": "code",
      "metadata": {
        "id": "jEz_NXWSl3Ol"
      },
      "source": [
        "print_curve(train_loss_mean_weight_decay[0], index)"
      ],
      "execution_count": null,
      "outputs": []
    },
    {
      "cell_type": "markdown",
      "metadata": {
        "id": "NWokRNSzl3Ol"
      },
      "source": [
        "## training loss (mean) : mini-batch = 100, weight-decay = 0.01"
      ]
    },
    {
      "cell_type": "code",
      "metadata": {
        "id": "hlfPC26Zl3Ol"
      },
      "source": [
        "print_curve(train_loss_mean_weight_decay[1], index)"
      ],
      "execution_count": null,
      "outputs": []
    },
    {
      "cell_type": "markdown",
      "metadata": {
        "id": "TqOn6G5kl3Om"
      },
      "source": [
        "## training loss (mean) : mini-batch = 100, weight-decay = 0.1"
      ]
    },
    {
      "cell_type": "code",
      "metadata": {
        "id": "cg9-jpPdl3Om"
      },
      "source": [
        "print_curve(train_loss_mean_weight_decay[2], index)"
      ],
      "execution_count": null,
      "outputs": []
    },
    {
      "cell_type": "markdown",
      "metadata": {
        "id": "T4BqUs2Kl3Om"
      },
      "source": [
        "## training accuracy (mean) : mini-batch = 100, weight-decay = 0.001"
      ]
    },
    {
      "cell_type": "code",
      "metadata": {
        "id": "bgXdMiU_l3Om"
      },
      "source": [
        "print_curve(train_accuracy_mean_weight_decay[0], index)"
      ],
      "execution_count": null,
      "outputs": []
    },
    {
      "cell_type": "markdown",
      "metadata": {
        "id": "XQDf2Hful3Om"
      },
      "source": [
        "## training accuracy (mean) : mini-batch = 100, weight-decay = 0.01"
      ]
    },
    {
      "cell_type": "code",
      "metadata": {
        "id": "J4M4VTUhl3On"
      },
      "source": [
        "print_curve(train_accuracy_mean_weight_decay[1], index)"
      ],
      "execution_count": null,
      "outputs": []
    },
    {
      "cell_type": "markdown",
      "metadata": {
        "id": "IYuU3Y92l3On"
      },
      "source": [
        "## training accuracy (mean) : mini-batch = 100, weight-decay = 0.1"
      ]
    },
    {
      "cell_type": "code",
      "metadata": {
        "id": "TLPnwWS4l3Oo"
      },
      "source": [
        "print_curve(train_accuracy_mean_weight_decay[2], index)"
      ],
      "execution_count": null,
      "outputs": []
    },
    {
      "cell_type": "markdown",
      "metadata": {
        "id": "SQpp8o41l3Op"
      },
      "source": [
        "## function definition for presenting the results"
      ]
    },
    {
      "cell_type": "code",
      "metadata": {
        "id": "Vz73w7w5l3Op"
      },
      "source": [
        "def function_results_01(*args):\n",
        "    \n",
        "    pass"
      ],
      "execution_count": null,
      "outputs": []
    },
    {
      "cell_type": "code",
      "metadata": {
        "id": "hW2HNR0Bl3Or"
      },
      "source": [
        "def function_results_02(*args):\n",
        "    \n",
        "    pass"
      ],
      "execution_count": null,
      "outputs": []
    },
    {
      "cell_type": "code",
      "metadata": {
        "id": "JHe2UkaZl3Or"
      },
      "source": [
        "def function_results_03(*args):\n",
        "    \n",
        "    pass"
      ],
      "execution_count": null,
      "outputs": []
    },
    {
      "cell_type": "code",
      "metadata": {
        "id": "XkZjk3ejl3Or"
      },
      "source": [
        "def function_results_04(*args):\n",
        "    \n",
        "    pass"
      ],
      "execution_count": null,
      "outputs": []
    },
    {
      "cell_type": "code",
      "metadata": {
        "id": "Yji1EEI7l3Os"
      },
      "source": [
        "def function_results_05(*args):\n",
        "    \n",
        "    pass"
      ],
      "execution_count": null,
      "outputs": []
    },
    {
      "cell_type": "code",
      "metadata": {
        "id": "YLXUR-a6l3Os"
      },
      "source": [
        "def function_results_06(*args):\n",
        "    \n",
        "    pass"
      ],
      "execution_count": null,
      "outputs": []
    },
    {
      "cell_type": "code",
      "metadata": {
        "id": "BpxIuZfQl3Os"
      },
      "source": [
        "def function_results_07(*args):\n",
        "    \n",
        "    pass"
      ],
      "execution_count": null,
      "outputs": []
    },
    {
      "cell_type": "code",
      "metadata": {
        "id": "r3Am0klpl3Os"
      },
      "source": [
        "def function_results_08(*args):\n",
        "    \n",
        "    pass"
      ],
      "execution_count": null,
      "outputs": []
    },
    {
      "cell_type": "code",
      "metadata": {
        "id": "4e_7lN9gl3Ot"
      },
      "source": [
        "def function_results_09(*args):\n",
        "    \n",
        "    pass"
      ],
      "execution_count": null,
      "outputs": []
    },
    {
      "cell_type": "code",
      "metadata": {
        "id": "FYKGf14Il3Ot"
      },
      "source": [
        "def function_results_10(*args):\n",
        "    \n",
        "    pass"
      ],
      "execution_count": null,
      "outputs": []
    },
    {
      "cell_type": "code",
      "metadata": {
        "id": "iI5HV0u6l3Ot"
      },
      "source": [
        "def function_results_11(*args):\n",
        "    \n",
        "    pass"
      ],
      "execution_count": null,
      "outputs": []
    },
    {
      "cell_type": "code",
      "metadata": {
        "id": "WV2AJPfLl3Ou"
      },
      "source": [
        "def function_results_12(*args):\n",
        "    \n",
        "    pass"
      ],
      "execution_count": null,
      "outputs": []
    },
    {
      "cell_type": "code",
      "metadata": {
        "id": "64Mca6ial3Ou"
      },
      "source": [
        "def function_results_13(*args):\n",
        "    \n",
        "    pass"
      ],
      "execution_count": null,
      "outputs": []
    },
    {
      "cell_type": "code",
      "metadata": {
        "id": "3IDylNA-l3Ou"
      },
      "source": [
        "def function_results_14(*args):\n",
        "    \n",
        "    pass"
      ],
      "execution_count": null,
      "outputs": []
    },
    {
      "cell_type": "code",
      "metadata": {
        "id": "tB42nK0il3Ou"
      },
      "source": [
        "def function_results_15(*args):\n",
        "    \n",
        "    pass"
      ],
      "execution_count": null,
      "outputs": []
    },
    {
      "cell_type": "code",
      "metadata": {
        "id": "7DNPugjPl3Ov"
      },
      "source": [
        "def function_results_16(*args):\n",
        "    \n",
        "    pass"
      ],
      "execution_count": null,
      "outputs": []
    },
    {
      "cell_type": "code",
      "metadata": {
        "id": "OD6lVrc4l3Ov"
      },
      "source": [
        "def function_results_17(*args):\n",
        "    \n",
        "    pass"
      ],
      "execution_count": null,
      "outputs": []
    },
    {
      "cell_type": "code",
      "metadata": {
        "id": "-xh-FH15l3Ov"
      },
      "source": [
        "def function_results_18(*args):\n",
        "    \n",
        "    pass"
      ],
      "execution_count": null,
      "outputs": []
    },
    {
      "cell_type": "code",
      "metadata": {
        "id": "L7nVpaDFl3Ov"
      },
      "source": [
        "def function_results_19(*args):\n",
        "    \n",
        "    pass"
      ],
      "execution_count": null,
      "outputs": []
    },
    {
      "cell_type": "code",
      "metadata": {
        "id": "-HqOm2vGl3Ow"
      },
      "source": [
        "def function_results_20(*args):\n",
        "    \n",
        "    pass"
      ],
      "execution_count": null,
      "outputs": []
    },
    {
      "cell_type": "code",
      "metadata": {
        "id": "YzLwMdvbl3Ow"
      },
      "source": [
        "def function_results_21(*args):\n",
        "    \n",
        "    pass"
      ],
      "execution_count": null,
      "outputs": []
    },
    {
      "cell_type": "code",
      "metadata": {
        "id": "bs1JtqR0l3Ow"
      },
      "source": [
        "def function_results_22(*args):\n",
        "    \n",
        "    pass"
      ],
      "execution_count": null,
      "outputs": []
    },
    {
      "cell_type": "code",
      "metadata": {
        "id": "pSWF8Y_6l3Ow"
      },
      "source": [
        "def function_results_23(*args):\n",
        "    \n",
        "    pass"
      ],
      "execution_count": null,
      "outputs": []
    },
    {
      "cell_type": "code",
      "metadata": {
        "id": "Hy700L-Cl3Ow"
      },
      "source": [
        "def function_results_24(*args):\n",
        "    \n",
        "    pass"
      ],
      "execution_count": null,
      "outputs": []
    },
    {
      "cell_type": "markdown",
      "metadata": {
        "id": "K_gIm4Xpl3Ow"
      },
      "source": [
        "---"
      ]
    },
    {
      "cell_type": "markdown",
      "metadata": {
        "id": "kltLpKyHl3Ox"
      },
      "source": [
        "# RESULTS"
      ]
    },
    {
      "cell_type": "markdown",
      "metadata": {
        "id": "sVhvXxjrl3Ox"
      },
      "source": [
        "---"
      ]
    },
    {
      "cell_type": "markdown",
      "metadata": {
        "id": "VilcraPVl3Ox"
      },
      "source": [
        "## # 01. plot the input images for '0'"
      ]
    },
    {
      "cell_type": "code",
      "metadata": {
        "id": "a8drv-hZl3Ox"
      },
      "source": [
        "function_results_01(...)"
      ],
      "execution_count": null,
      "outputs": []
    },
    {
      "cell_type": "markdown",
      "metadata": {
        "id": "dT27k6f6l3Ox"
      },
      "source": [
        "## # 02. plot the input images for '1'"
      ]
    },
    {
      "cell_type": "code",
      "metadata": {
        "id": "Geh2OYX9l3Ox"
      },
      "source": [
        "function_results_02(...)"
      ],
      "execution_count": null,
      "outputs": []
    },
    {
      "cell_type": "markdown",
      "metadata": {
        "id": "9wx3DT2tl3Oy"
      },
      "source": [
        "## # 03. plot the input images for '2'"
      ]
    },
    {
      "cell_type": "code",
      "metadata": {
        "id": "xS67aeRll3Oy"
      },
      "source": [
        "function_results_03(...)"
      ],
      "execution_count": null,
      "outputs": []
    },
    {
      "cell_type": "markdown",
      "metadata": {
        "id": "AHgFMAjXl3Oy"
      },
      "source": [
        "## # 04. plot the input images for '3'"
      ]
    },
    {
      "cell_type": "code",
      "metadata": {
        "id": "QWpP8BMul3Oy"
      },
      "source": [
        "function_results_04(...)"
      ],
      "execution_count": null,
      "outputs": []
    },
    {
      "cell_type": "markdown",
      "metadata": {
        "id": "nZh4wTCzl3Oy"
      },
      "source": [
        "## # 05. plot the input images for '4'"
      ]
    },
    {
      "cell_type": "code",
      "metadata": {
        "id": "KP9lZN-Cl3Oy"
      },
      "source": [
        "function_results_05(...)"
      ],
      "execution_count": null,
      "outputs": []
    },
    {
      "cell_type": "markdown",
      "metadata": {
        "id": "9BNmaaqkl3Oy"
      },
      "source": [
        "## # 06. plot the input images for '5'"
      ]
    },
    {
      "cell_type": "code",
      "metadata": {
        "id": "VHOy72bgl3Oy"
      },
      "source": [
        "function_results_06(...)"
      ],
      "execution_count": null,
      "outputs": []
    },
    {
      "cell_type": "markdown",
      "metadata": {
        "id": "AA4koQWLl3Oz"
      },
      "source": [
        "## # 07. plot the input images for '6'"
      ]
    },
    {
      "cell_type": "code",
      "metadata": {
        "id": "LjoYH37rl3Oz"
      },
      "source": [
        "function_results_07(...)"
      ],
      "execution_count": null,
      "outputs": []
    },
    {
      "cell_type": "markdown",
      "metadata": {
        "id": "uA1DwFEcl3Oz"
      },
      "source": [
        "## # 08. plot the input images for '7'"
      ]
    },
    {
      "cell_type": "code",
      "metadata": {
        "id": "RLaxumlbl3O0"
      },
      "source": [
        "function_results_08(...)"
      ],
      "execution_count": null,
      "outputs": []
    },
    {
      "cell_type": "markdown",
      "metadata": {
        "id": "ZCnLJBSnl3O0"
      },
      "source": [
        "## # 09. plot the input images for '8'"
      ]
    },
    {
      "cell_type": "code",
      "metadata": {
        "id": "KmaxGueBl3O0"
      },
      "source": [
        "function_results_09(...)"
      ],
      "execution_count": null,
      "outputs": []
    },
    {
      "cell_type": "markdown",
      "metadata": {
        "id": "d-HFLeQsl3O0"
      },
      "source": [
        "## # 10. plot the input images for '9'"
      ]
    },
    {
      "cell_type": "code",
      "metadata": {
        "id": "Rjocka6cl3O0"
      },
      "source": [
        "function_results_10(...)"
      ],
      "execution_count": null,
      "outputs": []
    },
    {
      "cell_type": "markdown",
      "metadata": {
        "id": "7pi2xJG6l3O1"
      },
      "source": [
        "## # 11. plot loss (training) curve (mean, std) : mini-batch size = 50, weight decay = 0"
      ]
    },
    {
      "cell_type": "code",
      "metadata": {
        "id": "QIVXE30cl3O1"
      },
      "source": [
        "function_results_11(...)"
      ],
      "execution_count": null,
      "outputs": []
    },
    {
      "cell_type": "markdown",
      "metadata": {
        "id": "D7A_WGiMl3O1"
      },
      "source": [
        "## # 12. plot loss (training) curve (mean, std) : mini-batch size = 100, weight decay = 0"
      ]
    },
    {
      "cell_type": "code",
      "metadata": {
        "id": "0-ID_xP_l3O1"
      },
      "source": [
        "function_results_12(...)"
      ],
      "execution_count": null,
      "outputs": []
    },
    {
      "cell_type": "markdown",
      "metadata": {
        "id": "tXvc0L2pl3O1"
      },
      "source": [
        "## # 13. plot loss (training) curve (mean, std) : mini-batch size = 200, weight decay = 0"
      ]
    },
    {
      "cell_type": "code",
      "metadata": {
        "id": "cZFsxDrml3O1"
      },
      "source": [
        "function_results_13(...)"
      ],
      "execution_count": null,
      "outputs": []
    },
    {
      "cell_type": "markdown",
      "metadata": {
        "id": "kn3wUPzel3O1"
      },
      "source": [
        "## # 14. plot accuracy (training) curve (mean, std) : mini-batch size = 50, weight decay = 0"
      ]
    },
    {
      "cell_type": "code",
      "metadata": {
        "id": "bkcZBUvLl3O1"
      },
      "source": [
        "function_results_14(...)"
      ],
      "execution_count": null,
      "outputs": []
    },
    {
      "cell_type": "markdown",
      "metadata": {
        "id": "GjT3-SnFl3O1"
      },
      "source": [
        "## # 15. plot accuracy (training) curve (mean, std) : mini-batch size = 100, weight decay = 0"
      ]
    },
    {
      "cell_type": "code",
      "metadata": {
        "id": "ZCMEeAeml3O2"
      },
      "source": [
        "function_results_15(...)"
      ],
      "execution_count": null,
      "outputs": []
    },
    {
      "cell_type": "markdown",
      "metadata": {
        "id": "SfjhOHoSl3O2"
      },
      "source": [
        "## # 16. plot accuracy (training) curve (mean, std) : mini-batch size = 200, weight decay = 0"
      ]
    },
    {
      "cell_type": "code",
      "metadata": {
        "id": "YmMy4uI-l3O2"
      },
      "source": [
        "function_results_16(...)"
      ],
      "execution_count": null,
      "outputs": []
    },
    {
      "cell_type": "markdown",
      "metadata": {
        "id": "mM3Ws-JMl3O2"
      },
      "source": [
        "## # 17. plot loss (testing) curve (mean) with different mini-batch"
      ]
    },
    {
      "cell_type": "code",
      "metadata": {
        "id": "xfqR5IFNl3O2"
      },
      "source": [
        "function_results_17(...)"
      ],
      "execution_count": null,
      "outputs": []
    },
    {
      "cell_type": "markdown",
      "metadata": {
        "id": "_BB7LtMBl3O2"
      },
      "source": [
        "## # 18. plot accuracy (testing) curve (mean) with different mini-batch"
      ]
    },
    {
      "cell_type": "code",
      "metadata": {
        "id": "PWSAm2Igl3O2"
      },
      "source": [
        "function_results_18(...)"
      ],
      "execution_count": null,
      "outputs": []
    },
    {
      "cell_type": "markdown",
      "metadata": {
        "id": "ITm7f0g_l3O3"
      },
      "source": [
        "## # 19. plot loss (testing) curve (mean) with different weight-decay"
      ]
    },
    {
      "cell_type": "code",
      "metadata": {
        "id": "kew7PlHul3O3"
      },
      "source": [
        "function_results_19(...)"
      ],
      "execution_count": null,
      "outputs": []
    },
    {
      "cell_type": "markdown",
      "metadata": {
        "id": "3_lvL4Unl3O3"
      },
      "source": [
        "## # 20. plot accuracy (testing) curve (mean) with different weight-decay"
      ]
    },
    {
      "cell_type": "code",
      "metadata": {
        "id": "aGlN5zz3l3O3"
      },
      "source": [
        "function_results_20(...)"
      ],
      "execution_count": null,
      "outputs": []
    },
    {
      "cell_type": "markdown",
      "metadata": {
        "id": "s0AaBk12l3O3"
      },
      "source": [
        "## # 21. print training loss (mean) at iterations 0, 100, 200, 300, 400, 500, 600, 700, 800, 900 : mini-batch = 100, weight-decay = 0"
      ]
    },
    {
      "cell_type": "code",
      "metadata": {
        "id": "u9RFVVg_l3O3"
      },
      "source": [
        "function_results_21(...)"
      ],
      "execution_count": null,
      "outputs": []
    },
    {
      "cell_type": "markdown",
      "metadata": {
        "id": "fNdBPVyQl3O4"
      },
      "source": [
        "## # 22. print training accuracy (mean) at iterations 0, 100, 200, 300, 400, 500, 600, 700, 800, 900 : mini-batch = 100, weight-decay = 0"
      ]
    },
    {
      "cell_type": "code",
      "metadata": {
        "id": "MvF9BRasl3O4"
      },
      "source": [
        "function_results_22(...)"
      ],
      "execution_count": null,
      "outputs": []
    },
    {
      "cell_type": "markdown",
      "metadata": {
        "id": "4qR-R2aQl3O4"
      },
      "source": [
        "## # 23. print training loss (mean) at iterations 0, 100, 200, 300, 400, 500, 600, 700, 800, 900 : mini-batch = 100, weight-decay = 0.001"
      ]
    },
    {
      "cell_type": "code",
      "metadata": {
        "id": "uohkXD8ml3O4"
      },
      "source": [
        "function_results_23(...)"
      ],
      "execution_count": null,
      "outputs": []
    },
    {
      "cell_type": "markdown",
      "metadata": {
        "id": "tVK_SLXZl3O4"
      },
      "source": [
        "## # 24. print training accuracy (mean) at iterations 0, 100, 200, 300, 400, 500, 600, 700, 800, 900 : mini-batch = 100, weight-decay = 0.001"
      ]
    },
    {
      "cell_type": "code",
      "metadata": {
        "id": "853U2iKfl3O4"
      },
      "source": [
        "function_results_24(...)"
      ],
      "execution_count": null,
      "outputs": []
    }
  ]
}