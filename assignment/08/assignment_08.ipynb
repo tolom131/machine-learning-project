{
  "nbformat": 4,
  "nbformat_minor": 0,
  "metadata": {
    "accelerator": "GPU",
    "colab": {
      "name": "assignment_08_solution_latest.ipynb",
      "provenance": [],
      "collapsed_sections": [
        "rgD-FF4MA9Kg",
        "SnBT9fWXA9Kj"
      ]
    },
    "interpreter": {
      "hash": "84bbda367bac7e7bffd9b7890a44d65326aaedad40e5a9021c2651157391b1ef"
    },
    "kernelspec": {
      "display_name": "Python 3.8.5 64-bit ('base': conda)",
      "name": "python3"
    },
    "language_info": {
      "codemirror_mode": {
        "name": "ipython",
        "version": 3
      },
      "file_extension": ".py",
      "mimetype": "text/x-python",
      "name": "python",
      "nbconvert_exporter": "python",
      "pygments_lexer": "ipython3",
      "version": "3.8.5"
    },
    "widgets": {
      "application/vnd.jupyter.widget-state+json": {
        "6822395ed62840328205f1c0b04e85bf": {
          "model_module": "@jupyter-widgets/controls",
          "model_name": "HBoxModel",
          "model_module_version": "1.5.0",
          "state": {
            "_view_name": "HBoxView",
            "_dom_classes": [],
            "_model_name": "HBoxModel",
            "_view_module": "@jupyter-widgets/controls",
            "_model_module_version": "1.5.0",
            "_view_count": null,
            "_view_module_version": "1.5.0",
            "box_style": "",
            "layout": "IPY_MODEL_9fcd5207f97542c9ba565260ed064fa2",
            "_model_module": "@jupyter-widgets/controls",
            "children": [
              "IPY_MODEL_019dab8f8bed41db8d9193ac910d12fb",
              "IPY_MODEL_4b3cace9cb70429998a18796a68e9a10",
              "IPY_MODEL_3ae5e2cbc5074231bb105c0b47bafda4"
            ]
          }
        },
        "9fcd5207f97542c9ba565260ed064fa2": {
          "model_module": "@jupyter-widgets/base",
          "model_name": "LayoutModel",
          "model_module_version": "1.2.0",
          "state": {
            "_view_name": "LayoutView",
            "grid_template_rows": null,
            "right": null,
            "justify_content": null,
            "_view_module": "@jupyter-widgets/base",
            "overflow": null,
            "_model_module_version": "1.2.0",
            "_view_count": null,
            "flex_flow": null,
            "width": null,
            "min_width": null,
            "border": null,
            "align_items": null,
            "bottom": null,
            "_model_module": "@jupyter-widgets/base",
            "top": null,
            "grid_column": null,
            "overflow_y": null,
            "overflow_x": null,
            "grid_auto_flow": null,
            "grid_area": null,
            "grid_template_columns": null,
            "flex": null,
            "_model_name": "LayoutModel",
            "justify_items": null,
            "grid_row": null,
            "max_height": null,
            "align_content": null,
            "visibility": null,
            "align_self": null,
            "height": null,
            "min_height": null,
            "padding": null,
            "grid_auto_rows": null,
            "grid_gap": null,
            "max_width": null,
            "order": null,
            "_view_module_version": "1.2.0",
            "grid_template_areas": null,
            "object_position": null,
            "object_fit": null,
            "grid_auto_columns": null,
            "margin": null,
            "display": null,
            "left": null
          }
        },
        "019dab8f8bed41db8d9193ac910d12fb": {
          "model_module": "@jupyter-widgets/controls",
          "model_name": "HTMLModel",
          "model_module_version": "1.5.0",
          "state": {
            "_view_name": "HTMLView",
            "style": "IPY_MODEL_2481ad1317ae4dce8580b27f3dc41216",
            "_dom_classes": [],
            "description": "",
            "_model_name": "HTMLModel",
            "placeholder": "​",
            "_view_module": "@jupyter-widgets/controls",
            "_model_module_version": "1.5.0",
            "value": " 68%",
            "_view_count": null,
            "_view_module_version": "1.5.0",
            "description_tooltip": null,
            "_model_module": "@jupyter-widgets/controls",
            "layout": "IPY_MODEL_1709ed476b484631bfb1a2b68ad6efcc"
          }
        },
        "4b3cace9cb70429998a18796a68e9a10": {
          "model_module": "@jupyter-widgets/controls",
          "model_name": "FloatProgressModel",
          "model_module_version": "1.5.0",
          "state": {
            "_view_name": "ProgressView",
            "style": "IPY_MODEL_b689f67d524d4c52864c36aeeacc53a2",
            "_dom_classes": [],
            "description": "",
            "_model_name": "FloatProgressModel",
            "bar_style": "",
            "max": 300,
            "_view_module": "@jupyter-widgets/controls",
            "_model_module_version": "1.5.0",
            "value": 206,
            "_view_count": null,
            "_view_module_version": "1.5.0",
            "orientation": "horizontal",
            "min": 0,
            "description_tooltip": null,
            "_model_module": "@jupyter-widgets/controls",
            "layout": "IPY_MODEL_ee796b962e654b4195fb69c290da6a23"
          }
        },
        "3ae5e2cbc5074231bb105c0b47bafda4": {
          "model_module": "@jupyter-widgets/controls",
          "model_name": "HTMLModel",
          "model_module_version": "1.5.0",
          "state": {
            "_view_name": "HTMLView",
            "style": "IPY_MODEL_0c482b5205234f35961403f19bb55526",
            "_dom_classes": [],
            "description": "",
            "_model_name": "HTMLModel",
            "placeholder": "​",
            "_view_module": "@jupyter-widgets/controls",
            "_model_module_version": "1.5.0",
            "value": " 205/300 [18:34&lt;08:36,  5.44s/it]",
            "_view_count": null,
            "_view_module_version": "1.5.0",
            "description_tooltip": null,
            "_model_module": "@jupyter-widgets/controls",
            "layout": "IPY_MODEL_20a0df3182ed4f1fa34718a439d826a3"
          }
        },
        "2481ad1317ae4dce8580b27f3dc41216": {
          "model_module": "@jupyter-widgets/controls",
          "model_name": "DescriptionStyleModel",
          "model_module_version": "1.5.0",
          "state": {
            "_view_name": "StyleView",
            "_model_name": "DescriptionStyleModel",
            "description_width": "",
            "_view_module": "@jupyter-widgets/base",
            "_model_module_version": "1.5.0",
            "_view_count": null,
            "_view_module_version": "1.2.0",
            "_model_module": "@jupyter-widgets/controls"
          }
        },
        "1709ed476b484631bfb1a2b68ad6efcc": {
          "model_module": "@jupyter-widgets/base",
          "model_name": "LayoutModel",
          "model_module_version": "1.2.0",
          "state": {
            "_view_name": "LayoutView",
            "grid_template_rows": null,
            "right": null,
            "justify_content": null,
            "_view_module": "@jupyter-widgets/base",
            "overflow": null,
            "_model_module_version": "1.2.0",
            "_view_count": null,
            "flex_flow": null,
            "width": null,
            "min_width": null,
            "border": null,
            "align_items": null,
            "bottom": null,
            "_model_module": "@jupyter-widgets/base",
            "top": null,
            "grid_column": null,
            "overflow_y": null,
            "overflow_x": null,
            "grid_auto_flow": null,
            "grid_area": null,
            "grid_template_columns": null,
            "flex": null,
            "_model_name": "LayoutModel",
            "justify_items": null,
            "grid_row": null,
            "max_height": null,
            "align_content": null,
            "visibility": null,
            "align_self": null,
            "height": null,
            "min_height": null,
            "padding": null,
            "grid_auto_rows": null,
            "grid_gap": null,
            "max_width": null,
            "order": null,
            "_view_module_version": "1.2.0",
            "grid_template_areas": null,
            "object_position": null,
            "object_fit": null,
            "grid_auto_columns": null,
            "margin": null,
            "display": null,
            "left": null
          }
        },
        "b689f67d524d4c52864c36aeeacc53a2": {
          "model_module": "@jupyter-widgets/controls",
          "model_name": "ProgressStyleModel",
          "model_module_version": "1.5.0",
          "state": {
            "_view_name": "StyleView",
            "_model_name": "ProgressStyleModel",
            "description_width": "",
            "_view_module": "@jupyter-widgets/base",
            "_model_module_version": "1.5.0",
            "_view_count": null,
            "_view_module_version": "1.2.0",
            "bar_color": null,
            "_model_module": "@jupyter-widgets/controls"
          }
        },
        "ee796b962e654b4195fb69c290da6a23": {
          "model_module": "@jupyter-widgets/base",
          "model_name": "LayoutModel",
          "model_module_version": "1.2.0",
          "state": {
            "_view_name": "LayoutView",
            "grid_template_rows": null,
            "right": null,
            "justify_content": null,
            "_view_module": "@jupyter-widgets/base",
            "overflow": null,
            "_model_module_version": "1.2.0",
            "_view_count": null,
            "flex_flow": null,
            "width": null,
            "min_width": null,
            "border": null,
            "align_items": null,
            "bottom": null,
            "_model_module": "@jupyter-widgets/base",
            "top": null,
            "grid_column": null,
            "overflow_y": null,
            "overflow_x": null,
            "grid_auto_flow": null,
            "grid_area": null,
            "grid_template_columns": null,
            "flex": null,
            "_model_name": "LayoutModel",
            "justify_items": null,
            "grid_row": null,
            "max_height": null,
            "align_content": null,
            "visibility": null,
            "align_self": null,
            "height": null,
            "min_height": null,
            "padding": null,
            "grid_auto_rows": null,
            "grid_gap": null,
            "max_width": null,
            "order": null,
            "_view_module_version": "1.2.0",
            "grid_template_areas": null,
            "object_position": null,
            "object_fit": null,
            "grid_auto_columns": null,
            "margin": null,
            "display": null,
            "left": null
          }
        },
        "0c482b5205234f35961403f19bb55526": {
          "model_module": "@jupyter-widgets/controls",
          "model_name": "DescriptionStyleModel",
          "model_module_version": "1.5.0",
          "state": {
            "_view_name": "StyleView",
            "_model_name": "DescriptionStyleModel",
            "description_width": "",
            "_view_module": "@jupyter-widgets/base",
            "_model_module_version": "1.5.0",
            "_view_count": null,
            "_view_module_version": "1.2.0",
            "_model_module": "@jupyter-widgets/controls"
          }
        },
        "20a0df3182ed4f1fa34718a439d826a3": {
          "model_module": "@jupyter-widgets/base",
          "model_name": "LayoutModel",
          "model_module_version": "1.2.0",
          "state": {
            "_view_name": "LayoutView",
            "grid_template_rows": null,
            "right": null,
            "justify_content": null,
            "_view_module": "@jupyter-widgets/base",
            "overflow": null,
            "_model_module_version": "1.2.0",
            "_view_count": null,
            "flex_flow": null,
            "width": null,
            "min_width": null,
            "border": null,
            "align_items": null,
            "bottom": null,
            "_model_module": "@jupyter-widgets/base",
            "top": null,
            "grid_column": null,
            "overflow_y": null,
            "overflow_x": null,
            "grid_auto_flow": null,
            "grid_area": null,
            "grid_template_columns": null,
            "flex": null,
            "_model_name": "LayoutModel",
            "justify_items": null,
            "grid_row": null,
            "max_height": null,
            "align_content": null,
            "visibility": null,
            "align_self": null,
            "height": null,
            "min_height": null,
            "padding": null,
            "grid_auto_rows": null,
            "grid_gap": null,
            "max_width": null,
            "order": null,
            "_view_module_version": "1.2.0",
            "grid_template_areas": null,
            "object_position": null,
            "object_fit": null,
            "grid_auto_columns": null,
            "margin": null,
            "display": null,
            "left": null
          }
        }
      }
    }
  },
  "cells": [
    {
      "cell_type": "markdown",
      "metadata": {
        "id": "AQGQXmOpA9J-"
      },
      "source": [
        "# Unsupervised image denoising"
      ]
    },
    {
      "cell_type": "markdown",
      "metadata": {
        "id": "TGBcGR2LA9KI"
      },
      "source": [
        "## Import libraries"
      ]
    },
    {
      "cell_type": "code",
      "metadata": {
        "id": "NNpI2DZ6A9KJ"
      },
      "source": [
        "import torch\n",
        "import torchvision\n",
        "import torchvision.transforms as transforms\n",
        "from torch.utils.data import Dataset\n",
        "from os import listdir\n",
        "from os.path import join\n",
        "from torchvision.transforms import Compose, ToTensor, ToPILImage, Resize, Lambda, Normalize, Grayscale\n",
        "from torch.utils.data import DataLoader\n",
        "from PIL import Image\n",
        "import matplotlib.pyplot as plt\n",
        "import numpy as np\n",
        "import torch.nn as nn\n",
        "import torch.nn.functional as F\n",
        "import torch.optim as optim\n",
        "from math import log10\n",
        "from tqdm.notebook import tqdm\n",
        "import os"
      ],
      "execution_count": 1,
      "outputs": []
    },
    {
      "cell_type": "markdown",
      "metadata": {
        "id": "OU32jTFuA9KM"
      },
      "source": [
        "## Load data"
      ]
    },
    {
      "cell_type": "code",
      "metadata": {
        "colab": {
          "base_uri": "https://localhost:8080/"
        },
        "id": "gf-s-8nrA9KN",
        "outputId": "6e46559f-87b9-450d-ab6a-00c4192b2e80"
      },
      "source": [
        "from google.colab import drive \n",
        "drive.mount('/content/drive/')\n",
        "\n",
        "directory_data  = './drive/MyDrive/Machine_Learning/'\n",
        "filename_data   = 'assignment_08_data.npz'\n",
        "data            = np.load(os.path.join(directory_data, filename_data))\n",
        "\n",
        "\n",
        "original_train = data['original_train'] \n",
        "noise_train    = data['noise_train']\n",
        "\n",
        "original_test = data['original_test'] \n",
        "noise_test    = data['noise_test']\n",
        "\n",
        "print('*************************************************')\n",
        "print('size of noise_train    : ', noise_train.shape)\n",
        "print('*************************************************')\n",
        "print('size of noise_test    : ', noise_test.shape)\n",
        "print('*************************************************')\n",
        "print('number of training image :', noise_train.shape[0])\n",
        "print('height of training image :', noise_train.shape[1])\n",
        "print('width of training image  :', noise_train.shape[2])\n",
        "print('*************************************************')\n",
        "print('number of testing image :', noise_test.shape[0])\n",
        "print('height of testing image :', noise_test.shape[1])\n",
        "print('width of testing image  :', noise_test.shape[2])\n",
        "print('*************************************************')\n"
      ],
      "execution_count": 2,
      "outputs": [
        {
          "output_type": "stream",
          "name": "stdout",
          "text": [
            "Mounted at /content/drive/\n",
            "*************************************************\n",
            "size of noise_train    :  (2000, 64, 64)\n",
            "*************************************************\n",
            "size of noise_test    :  (900, 64, 64)\n",
            "*************************************************\n",
            "number of training image : 2000\n",
            "height of training image : 64\n",
            "width of training image  : 64\n",
            "*************************************************\n",
            "number of testing image : 900\n",
            "height of testing image : 64\n",
            "width of testing image  : 64\n",
            "*************************************************\n"
          ]
        }
      ]
    },
    {
      "cell_type": "markdown",
      "metadata": {
        "id": "20TiZsA_A9KO"
      },
      "source": [
        "## Hyper parameters"
      ]
    },
    {
      "cell_type": "code",
      "metadata": {
        "id": "KtDynD4nA9KP"
      },
      "source": [
        "device        = torch.device('cuda' if torch.cuda.is_available() else 'cpu')\n",
        "\n",
        "# ==================================================\n",
        "# determine optimal hyper-parameters to obtain best testing performance\n",
        "number_epoch    = 300\n",
        "size_minibatch  = 50\n",
        "learning_rate   = 0.1\n",
        "momentum        = 0.9\n",
        "weight_decay    = 0.0001\n",
        "weight_total_variation = 0.1\n",
        "# =================================================="
      ],
      "execution_count": 3,
      "outputs": []
    },
    {
      "cell_type": "markdown",
      "metadata": {
        "id": "9AbHCZPpA9KR"
      },
      "source": [
        "## Costumize dataloader for pytorch"
      ]
    },
    {
      "cell_type": "code",
      "metadata": {
        "id": "1UveCjrBA9KS"
      },
      "source": [
        "class dataset (Dataset):\n",
        "  def  __init__(self, original,noise):\n",
        "\n",
        "    self.original = original\n",
        "    self.noise    = noise\n",
        "        \n",
        "  def __getitem__(self, index):\n",
        "\n",
        "    original    = self.original[index]\n",
        "    noise       = self.noise[index]\n",
        "    \n",
        "    original   = torch.FloatTensor(original).unsqueeze(dim=0)\n",
        "    noise      = torch.FloatTensor(noise).unsqueeze(dim=0)\n",
        "\n",
        "\n",
        "    return (original , noise)\n",
        "  \n",
        "  def __len__(self):\n",
        "\n",
        "     return self.original.shape[0]"
      ],
      "execution_count": 4,
      "outputs": []
    },
    {
      "cell_type": "code",
      "metadata": {
        "id": "YAG5Ks0eMjfM"
      },
      "source": [
        "from torchvision.transforms import Compose, ToTensor, ToPILImage, Resize, Lambda, Normalize, Grayscale\n",
        "\n",
        "class argu_dataset (Dataset):\n",
        "  def  __init__(self, original, noise, transform):\n",
        "\n",
        "    original = original.astype('float32')\n",
        "    noise    = noise.astype('float32')\n",
        "       \n",
        "  def __getitem__(self, index):\n",
        "\n",
        "    original    = self.original[index]\n",
        "    noise       = self.noise[index]\n",
        "\n",
        "    original = original.astype('float32')\n",
        "    noise = noise.astype('float32')\n",
        "\n",
        "    original   = self.transform(original)\n",
        "    noise      = self.transform(noise)\n",
        "\n",
        "    original   = torch.FloatTensor(original).unsqueeze(dim=0)\n",
        "    noise      = torch.FloatTensor(noise).unsqueeze(dim=0)\n",
        "    \n",
        "    return (original , noise)\n",
        "  \n",
        "  def __len__(self):\n",
        "\n",
        "     return self.original.shape[0]\n"
      ],
      "execution_count": 5,
      "outputs": []
    },
    {
      "cell_type": "code",
      "metadata": {
        "id": "ioZm7YkvObj1"
      },
      "source": [
        "# transform_90 = transforms.Compose([\n",
        "#                               transforms.ToPILImage(),\n",
        "#                               transforms.RandomRotation(degrees=90),\n",
        "#                               transforms.ToTensor()\n",
        "#                               ])\n",
        "\n",
        "# transform_180 = transforms.Compose([\n",
        "#                               transforms.ToPILImage(),\n",
        "#                               transforms.RandomRotation(degrees=180),\n",
        "#                               transforms.ToTensor()\n",
        "#                               ])\n",
        "\n",
        "# transform_270 = transforms.Compose([\n",
        "#                               transforms.ToPILImage(),\n",
        "#                               transforms.RandomRotation(degrees=270),\n",
        "#                               transforms.ToTensor()\n",
        "#                               ])\n",
        "\n",
        "# t_dataset_train_90 = argu_dataset(original_train, noise_train, transform_90)\n",
        "# t_dataset_train_180 = argu_dataset(original_train, noise_train, transform_180)\n",
        "# t_dataset_train_270 = argu_dataset(original_train, noise_train, transform_270)\n",
        "\n",
        "# dataloader_train_90 = DataLoader(dataset_train, batch_size=size_minibatch, shuffle=True, drop_last=True, num_workers=2)\n",
        "\n",
        "# original, noise = next(iter(t_dataloader_train))\n",
        "# print(type(noise))\n",
        "# img = noise[0][0]\n",
        "# plt.imshow(img, cmap='gray')\n",
        "# plt.show()"
      ],
      "execution_count": 6,
      "outputs": []
    },
    {
      "cell_type": "markdown",
      "metadata": {
        "id": "357alwWgA9KU"
      },
      "source": [
        "## Construct datasets and dataloaders for training and testing"
      ]
    },
    {
      "cell_type": "code",
      "metadata": {
        "id": "b7JDqjSVA9KU"
      },
      "source": [
        "dataset_train = dataset(original_train, noise_train) \n",
        "dataset_test  = dataset(original_test, noise_test) \n",
        "\n",
        "dataloader_train = DataLoader(dataset_train, batch_size=size_minibatch, shuffle=True, drop_last=True, num_workers=2)\n",
        "dataloader_test  = DataLoader(dataset_test,  batch_size=size_minibatch, shuffle=False, drop_last=True, num_workers=2) "
      ],
      "execution_count": 7,
      "outputs": []
    },
    {
      "cell_type": "markdown",
      "metadata": {
        "id": "9DQ3_o-VA9KV"
      },
      "source": [
        "## Shape of the data with data loader"
      ]
    },
    {
      "cell_type": "code",
      "metadata": {
        "colab": {
          "base_uri": "https://localhost:8080/"
        },
        "id": "hCNL_T-HA9KW",
        "outputId": "6d7e0398-2165-4bc2-b476-4816077c86f7"
      },
      "source": [
        "(original_train, noise_train)   = dataset_train[0]\n",
        "(original_test, noise_test)     = dataset_test[0]\n",
        "\n",
        "print('************************************************************')\n",
        "print('shape of the original image in the training dataset:', original_train.shape)\n",
        "print('shape of the noisy image in the training dataset:', noise_train.shape)\n",
        "print('************************************************************')\n",
        "print('shape of the original image in the testing dataset:', original_test.shape)\n",
        "print('shape of the noisy image in the testing dataset:', noise_test.shape)\n",
        "print('************************************************************')"
      ],
      "execution_count": 8,
      "outputs": [
        {
          "output_type": "stream",
          "name": "stdout",
          "text": [
            "************************************************************\n",
            "shape of the original image in the training dataset: torch.Size([1, 64, 64])\n",
            "shape of the noisy image in the training dataset: torch.Size([1, 64, 64])\n",
            "************************************************************\n",
            "shape of the original image in the testing dataset: torch.Size([1, 64, 64])\n",
            "shape of the noisy image in the testing dataset: torch.Size([1, 64, 64])\n",
            "************************************************************\n"
          ]
        }
      ]
    },
    {
      "cell_type": "markdown",
      "metadata": {
        "id": "5Yn9jMLrA9KX"
      },
      "source": [
        "## Class for the neural network"
      ]
    },
    {
      "cell_type": "code",
      "metadata": {
        "id": "Esyw9M--A9KY"
      },
      "source": [
        "class conv2DBatchNormRelu(nn.Module):\n",
        "    def __init__(\n",
        "            self,\n",
        "            in_channels,\n",
        "            n_filters,\n",
        "            k_size,\n",
        "            stride,\n",
        "            padding,\n",
        "            bias=True,\n",
        "            dilation=1,\n",
        "            with_bn=True,\n",
        "    ):\n",
        "        super(conv2DBatchNormRelu, self).__init__()\n",
        "\n",
        "        conv_mod = nn.Conv2d(int(in_channels),\n",
        "                             int(n_filters),\n",
        "                             kernel_size=k_size,\n",
        "                             padding=padding,\n",
        "                             stride=stride,\n",
        "                             bias=bias,\n",
        "                             dilation=dilation, )\n",
        "\n",
        "        if with_bn:\n",
        "            self.cbr_unit = nn.Sequential(conv_mod,\n",
        "                                          nn.BatchNorm2d(int(n_filters)),\n",
        "                                          nn.ReLU(inplace=True))\n",
        "        else:\n",
        "            self.cbr_unit = nn.Sequential(conv_mod, nn.ReLU(inplace=True))\n",
        "\n",
        "    def forward(self, inputs):\n",
        "        outputs = self.cbr_unit(inputs)\n",
        "        return outputs\n",
        "\n",
        "\n",
        "class segnetDown2(nn.Module):\n",
        "    def __init__(self, in_size, out_size):\n",
        "        super(segnetDown2, self).__init__()\n",
        "        self.conv1 = conv2DBatchNormRelu(in_size, out_size, 3, 1, 1)\n",
        "        self.conv2 = conv2DBatchNormRelu(out_size, out_size, 3, 1, 1)\n",
        "        self.maxpool_with_argmax = nn.MaxPool2d(2, 2, return_indices=True)\n",
        "\n",
        "    def forward(self, inputs):\n",
        "        outputs = self.conv1(inputs)\n",
        "        outputs = self.conv2(outputs)\n",
        "        unpooled_shape = outputs.size()\n",
        "        outputs, indices = self.maxpool_with_argmax(outputs)\n",
        "        return outputs, indices, unpooled_shape\n",
        "\n",
        "\n",
        "class segnetDown3(nn.Module):\n",
        "    def __init__(self, in_size, out_size):\n",
        "        super(segnetDown3, self).__init__()\n",
        "        self.conv1 = conv2DBatchNormRelu(in_size, out_size, 3, 1, 1)\n",
        "        self.conv2 = conv2DBatchNormRelu(out_size, out_size, 3, 1, 1)\n",
        "        self.conv3 = conv2DBatchNormRelu(out_size, out_size, 3, 1, 1)\n",
        "        self.maxpool_with_argmax = nn.MaxPool2d(2, 2, return_indices=True)\n",
        "\n",
        "    def forward(self, inputs):\n",
        "        outputs = self.conv1(inputs)\n",
        "        outputs = self.conv2(outputs)\n",
        "        outputs = self.conv3(outputs)\n",
        "        unpooled_shape = outputs.size()\n",
        "        outputs, indices = self.maxpool_with_argmax(outputs)\n",
        "        return outputs, indices, unpooled_shape\n",
        "\n",
        "\n",
        "class segnetUp2(nn.Module):\n",
        "    def __init__(self, in_size, out_size):\n",
        "        super(segnetUp2, self).__init__()\n",
        "        self.unpool = nn.MaxUnpool2d(2, 2)\n",
        "        self.conv1 = conv2DBatchNormRelu(in_size, in_size, 3, 1, 1)\n",
        "        self.conv2 = conv2DBatchNormRelu(in_size, out_size, 3, 1, 1)\n",
        "\n",
        "    def forward(self, inputs, indices, output_shape):\n",
        "        outputs = self.unpool(input=inputs, indices=indices, output_size=output_shape)\n",
        "        outputs = self.conv1(outputs)\n",
        "        outputs = self.conv2(outputs)\n",
        "        return outputs\n",
        "\n",
        "\n",
        "class segnetUp3(nn.Module):\n",
        "    def __init__(self, in_size, out_size):\n",
        "        super(segnetUp3, self).__init__()\n",
        "        self.unpool = nn.MaxUnpool2d(2, 2)\n",
        "        self.conv1 = conv2DBatchNormRelu(in_size, in_size, 3, 1, 1)\n",
        "        self.conv2 = conv2DBatchNormRelu(in_size, in_size, 3, 1, 1)\n",
        "        self.conv3 = conv2DBatchNormRelu(in_size, out_size, 3, 1, 1)\n",
        "\n",
        "    def forward(self, inputs, indices, output_shape):\n",
        "        outputs = self.unpool(input=inputs, indices=indices, output_size=output_shape)\n",
        "        outputs = self.conv1(outputs)\n",
        "        outputs = self.conv2(outputs)\n",
        "        outputs = self.conv3(outputs)\n",
        "        return outputs\n",
        "\n",
        "\n",
        "class SegNet(nn.Module):\n",
        "    def __init__(self, n_classes=1, in_channels=1, is_unpooling=True):\n",
        "        super(SegNet, self).__init__()\n",
        "\n",
        "        self.in_channels = in_channels\n",
        "        self.is_unpooling = is_unpooling\n",
        "\n",
        "        self.down1 = segnetDown2(self.in_channels, 64)\n",
        "        self.down2 = segnetDown2(64, 128)\n",
        "        self.down3 = segnetDown3(128, 256)\n",
        "        self.down4 = segnetDown3(256, 512)\n",
        "        self.down5 = segnetDown3(512, 512)\n",
        "\n",
        "        self.up5 = segnetUp3(512, 512)\n",
        "        self.up4 = segnetUp3(512, 256)\n",
        "        self.up3 = segnetUp3(256, 128)\n",
        "        self.up2 = segnetUp2(128, 64)\n",
        "        self.up1 = segnetUp2(64, n_classes)\n",
        "\n",
        "    def forward(self, inputs):\n",
        "\n",
        "        down1, indices_1, unpool_shape1 = self.down1(inputs)\n",
        "        down2, indices_2, unpool_shape2 = self.down2(down1)\n",
        "        down3, indices_3, unpool_shape3 = self.down3(down2)\n",
        "        down4, indices_4, unpool_shape4 = self.down4(down3)\n",
        "        down5, indices_5, unpool_shape5 = self.down5(down4)\n",
        "\n",
        "        up5 = self.up5(down5, indices_5, unpool_shape5)\n",
        "        up4 = self.up4(up5, indices_4, unpool_shape4)\n",
        "        up3 = self.up3(up4, indices_3, unpool_shape3)\n",
        "        up2 = self.up2(up3, indices_2, unpool_shape2)\n",
        "        up1 = self.up1(up2, indices_1, unpool_shape1)\n",
        "\n",
        "        return up1"
      ],
      "execution_count": 9,
      "outputs": []
    },
    {
      "cell_type": "markdown",
      "metadata": {
        "id": "tTptbDGZA9KZ"
      },
      "source": [
        "## Build the network"
      ]
    },
    {
      "cell_type": "code",
      "metadata": {
        "id": "6MgUbMJdA9KZ"
      },
      "source": [
        "model = SegNet().to(device)\n",
        "optimizer = torch.optim.SGD(model.parameters(), lr=learning_rate, momentum=momentum , weight_decay=weight_decay)\n",
        "# optimizer = torch.optim.Adam(model.parameters(), lr=0.01)"
      ],
      "execution_count": 10,
      "outputs": []
    },
    {
      "cell_type": "markdown",
      "metadata": {
        "id": "iAMmqhrUA9KZ"
      },
      "source": [
        "## Compute prediction (denoised image)"
      ]
    },
    {
      "cell_type": "code",
      "metadata": {
        "id": "7sE58VDWA9Ka"
      },
      "source": [
        "def compute_prediction(input, model):\n",
        "    \n",
        "    # ==================================================\n",
        "    # fill up the blank\n",
        "    prediction = model(input)\n",
        "    # ==================================================\n",
        "    \n",
        "    return prediction"
      ],
      "execution_count": 11,
      "outputs": []
    },
    {
      "cell_type": "markdown",
      "metadata": {
        "id": "b4MU2uUwA9Kc"
      },
      "source": [
        "## Compute loss"
      ]
    },
    {
      "cell_type": "code",
      "metadata": {
        "id": "SzLZ5_ijB13L"
      },
      "source": [
        "def compute_fidelity(input, prediction):\n",
        "    \n",
        "    mse = nn.MSELoss()\n",
        "    \n",
        "    # ==================================================\n",
        "    # fill up the blank\n",
        "    loss_mse = mse(prediction, input)\n",
        "    # ==================================================\n",
        "    \n",
        "    loss_mse_value = loss_mse.item() \n",
        "    \n",
        "    return loss_mse, loss_mse_value"
      ],
      "execution_count": 12,
      "outputs": []
    },
    {
      "cell_type": "code",
      "metadata": {
        "id": "-J9-SmZeDDHW"
      },
      "source": [
        "def compute_regularization(data, weight):\n",
        "    \n",
        "    bs_img, c_img, h_img, w_img = data.size()\n",
        "   \n",
        "    tv_height = torch.abs(data[:, :, 1:, :] - data[:, :, :- 1, :]).sum()\n",
        "    tv_width  = torch.abs(data[:, :, :, 1:] - data[:, :, :, :-1]).sum()\n",
        "\n",
        "    total_variation = (tv_height + tv_width) / (bs_img * c_img * h_img * w_img)\n",
        "    \n",
        "    # ==================================================\n",
        "    # fill up the blank\n",
        "    loss_regularization = weight * total_variation\n",
        "    # ==================================================\n",
        "    \n",
        "    loss_regularization_value = loss_regularization.item()\n",
        "     \n",
        "    return loss_regularization, loss_regularization_value"
      ],
      "execution_count": 13,
      "outputs": []
    },
    {
      "cell_type": "code",
      "metadata": {
        "id": "grQ11S2uA9Kc"
      },
      "source": [
        "def compute_loss(input, prediction, weight):\n",
        "\n",
        "    (loss_fidelity, loss_fidelity_value) = compute_fidelity(input, prediction)\n",
        "    (loss_regularization, loss_regularization_value) = compute_regularization(prediction, weight) \n",
        "\n",
        "    # ==================================================\n",
        "    # fill up the blank\n",
        "    loss = loss_fidelity + loss_regularization\n",
        "    # ==================================================\n",
        "    \n",
        "    loss_value = loss.item()\n",
        "    \n",
        "    return loss, loss_value , loss_fidelity_value, loss_regularization_value"
      ],
      "execution_count": 14,
      "outputs": []
    },
    {
      "cell_type": "markdown",
      "metadata": {
        "id": "T1EWYXG6A9Kc"
      },
      "source": [
        "## Compute PSNR metric"
      ]
    },
    {
      "cell_type": "code",
      "metadata": {
        "id": "FtVX7nLCA9Kd"
      },
      "source": [
        "def compute_PSNR(mse):\n",
        "\n",
        "    if (mse==0.):\n",
        "        PSNR=100    \n",
        "    else :\n",
        "        PSNR=10*log10(1.0 / mse)\n",
        "        \n",
        "    return PSNR"
      ],
      "execution_count": 15,
      "outputs": []
    },
    {
      "cell_type": "markdown",
      "metadata": {
        "id": "vfi3toLTA9Kd"
      },
      "source": [
        "## Variable for the learning curves"
      ]
    },
    {
      "cell_type": "code",
      "metadata": {
        "id": "re9vSZWLA9Kd"
      },
      "source": [
        "loss_fidelity_mean_train       = np.zeros(number_epoch)\n",
        "loss_fidelity_std_train        = np.zeros(number_epoch)\n",
        "loss_regularization_mean_train = np.zeros(number_epoch)\n",
        "loss_regularization_std_train  = np.zeros(number_epoch)\n",
        "loss_mean_train                = np.zeros(number_epoch)\n",
        "loss_std_train                 = np.zeros(number_epoch)\n",
        "PSNR_mean_train                = np.zeros(number_epoch)\n",
        "PSNR_std_train                 = np.zeros(number_epoch)\n",
        "\n",
        "loss_fidelity_mean_test       = np.zeros(number_epoch)\n",
        "loss_fidelity_std_test        = np.zeros(number_epoch)\n",
        "loss_regularization_mean_test = np.zeros(number_epoch)\n",
        "loss_regularization_std_test  = np.zeros(number_epoch)\n",
        "loss_mean_test                = np.zeros(number_epoch)\n",
        "loss_std_test                 = np.zeros(number_epoch)\n",
        "PSNR_mean_test                = np.zeros(number_epoch)\n",
        "PSNR_std_test                 = np.zeros(number_epoch)"
      ],
      "execution_count": 16,
      "outputs": []
    },
    {
      "cell_type": "markdown",
      "metadata": {
        "id": "M2DK1BgcA9Ke"
      },
      "source": [
        "## Train"
      ]
    },
    {
      "cell_type": "code",
      "metadata": {
        "id": "6z6RHIxcA9Ke"
      },
      "source": [
        "def train(model, dataloader):\n",
        "\n",
        "    loss_epoch          = []\n",
        "    loss_fidelity_epoch = []\n",
        "    loss_reg_epoch      = []\n",
        "    psnr_epoch          = []\n",
        "\n",
        "    model.train()\n",
        "\n",
        "    for index_batch, (original, noise) in enumerate(dataloader):\n",
        "\n",
        "        original = original.to(device)\n",
        "        noise    = noise.to(device)\n",
        "        \n",
        "        prediction = compute_prediction(noise, model)\n",
        "        (loss, loss_value, loss_fidelity_value, loss_regularization_value) = compute_loss(noise, prediction, weight_total_variation)\n",
        "        \n",
        "        # ==================================================\n",
        "        # fill up the blank\n",
        "        (mse, mse_value)    = compute_fidelity(original, prediction)\n",
        "        psnr                = compute_PSNR(mse_value)\n",
        "        # ==================================================\n",
        "\n",
        "        optimizer.zero_grad()\n",
        "        loss.backward()\n",
        "        optimizer.step()\n",
        "\n",
        "        loss_epoch.append(loss_value)\n",
        "        loss_fidelity_epoch.append(loss_fidelity_value)\n",
        "        loss_reg_epoch.append(loss_regularization_value)\n",
        "        psnr_epoch.append(psnr)\n",
        "\n",
        "    loss_mean_epoch     = np.mean(loss_epoch)\n",
        "    loss_std_epoch      = np.std(loss_epoch)\n",
        "    \n",
        "    loss_fidelity_mean_epoch     = np.mean(loss_fidelity_epoch)\n",
        "    loss_fidelity_std_epoch      = np.std(loss_fidelity_epoch)\n",
        "    \n",
        "    loss_reg_mean_epoch     = np.mean(loss_reg_epoch)\n",
        "    loss_reg_std_epoch      = np.std(loss_reg_epoch)\n",
        "\n",
        "    psnr_mean_epoch = np.mean(psnr_epoch)\n",
        "    psnr_std_epoch  = np.std(psnr_epoch)\n",
        "\n",
        "    loss                       = {'mean' : loss_mean_epoch, 'std' : loss_std_epoch}\n",
        "    loss_fidelity              = {'mean' : loss_fidelity_mean_epoch, 'std' : loss_fidelity_std_epoch}\n",
        "    loss_regularization        = {'mean' : loss_reg_mean_epoch, 'std' : loss_reg_std_epoch}\n",
        "    psnr                       = {'mean' : psnr_mean_epoch, 'std' : psnr_std_epoch}\n",
        "\n",
        "    return (loss, loss_fidelity, loss_regularization, psnr)    \n"
      ],
      "execution_count": 17,
      "outputs": []
    },
    {
      "cell_type": "markdown",
      "metadata": {
        "id": "Z76W6RQWA9Ke"
      },
      "source": [
        "## Test"
      ]
    },
    {
      "cell_type": "code",
      "metadata": {
        "id": "c9FO3jlwA9Ke"
      },
      "source": [
        "def test(model, dataloader):\n",
        "\n",
        "    loss_epoch          = []\n",
        "    loss_fidelity_epoch = []\n",
        "    loss_reg_epoch      = []\n",
        "    psnr_epoch          = []\n",
        "\n",
        "    model.eval()\n",
        "\n",
        "    for index_batch, (original, noise) in enumerate(dataloader):\n",
        "\n",
        "        original = original.to(device)\n",
        "        noise    = noise.to(device)\n",
        "\n",
        "        prediction = compute_prediction(noise, model)\n",
        "        (loss, loss_value, loss_fidelity_value, loss_regularization_value) = compute_loss(noise, prediction, weight_total_variation)\n",
        "        \n",
        "        # ==================================================\n",
        "        # fill up the blank\n",
        "        (mse, mse_value)    = compute_fidelity(original, prediction)\n",
        "        psnr                = compute_PSNR(mse_value)\n",
        "        # ==================================================\n",
        "\n",
        "        loss_epoch.append(loss_value)\n",
        "        loss_fidelity_epoch.append(loss_fidelity_value)\n",
        "        loss_reg_epoch.append(loss_regularization_value)\n",
        "        psnr_epoch.append(psnr)\n",
        "\n",
        "    loss_mean_epoch     = np.mean(loss_epoch)\n",
        "    loss_std_epoch      = np.std(loss_epoch)\n",
        "    \n",
        "    loss_fidelity_mean_epoch     = np.mean(loss_fidelity_epoch)\n",
        "    loss_fidelity_std_epoch      = np.std(loss_fidelity_epoch)\n",
        "    \n",
        "    loss_reg_mean_epoch     = np.mean(loss_reg_epoch)\n",
        "    loss_reg_std_epoch      = np.std(loss_reg_epoch)\n",
        "\n",
        "    psnr_mean_epoch = np.mean(psnr_epoch)\n",
        "    psnr_std_epoch  = np.std(psnr_epoch)\n",
        "\n",
        "    loss                       = {'mean' : loss_mean_epoch, 'std' : loss_std_epoch}\n",
        "    loss_fidelity              = {'mean' : loss_fidelity_mean_epoch, 'std' : loss_fidelity_std_epoch}\n",
        "    loss_regularization        = {'mean' : loss_reg_mean_epoch, 'std' : loss_reg_std_epoch}\n",
        "    psnr                       = {'mean' : psnr_mean_epoch, 'std' : psnr_std_epoch}\n",
        "\n",
        "    return (loss, loss_fidelity, loss_regularization, psnr)    \n"
      ],
      "execution_count": 18,
      "outputs": []
    },
    {
      "cell_type": "markdown",
      "metadata": {
        "id": "Nl_p_5B2A9Kf"
      },
      "source": [
        "## train and test"
      ]
    },
    {
      "cell_type": "code",
      "metadata": {
        "colab": {
          "base_uri": "https://localhost:8080/",
          "height": 1000,
          "referenced_widgets": [
            "6822395ed62840328205f1c0b04e85bf",
            "9fcd5207f97542c9ba565260ed064fa2",
            "019dab8f8bed41db8d9193ac910d12fb",
            "4b3cace9cb70429998a18796a68e9a10",
            "3ae5e2cbc5074231bb105c0b47bafda4",
            "2481ad1317ae4dce8580b27f3dc41216",
            "1709ed476b484631bfb1a2b68ad6efcc",
            "b689f67d524d4c52864c36aeeacc53a2",
            "ee796b962e654b4195fb69c290da6a23",
            "0c482b5205234f35961403f19bb55526",
            "20a0df3182ed4f1fa34718a439d826a3"
          ]
        },
        "id": "-kpLyy6bA9Kf",
        "outputId": "db749d8d-b879-4140-f438-de7e7f789cf2"
      },
      "source": [
        "# ================================================================================\n",
        "# \n",
        "# iterations for epochs\n",
        "#\n",
        "# ================================================================================\n",
        "for i in tqdm(range(number_epoch)):\n",
        "    \n",
        "    # ================================================================================\n",
        "    # \n",
        "    # training\n",
        "    #\n",
        "    # ================================================================================\n",
        "    (loss_train, loss_fidelity_train, loss_reg_train, psnr_train) = train(model, dataloader_train)\n",
        "\n",
        "    loss_mean_train[i] = loss_train['mean']\n",
        "    loss_std_train[i]  = loss_train['std']\n",
        "    \n",
        "    loss_fidelity_mean_train[i] = loss_fidelity_train['mean']\n",
        "    loss_fidelity_std_train[i]  = loss_fidelity_train['std']\n",
        "    \n",
        "    loss_regularization_mean_train[i] = loss_reg_train['mean']\n",
        "    loss_regularization_std_train[i]  = loss_reg_train['std']\n",
        "\n",
        "    PSNR_mean_train[i]  = psnr_train['mean']\n",
        "    PSNR_std_train[i]   = psnr_train['std']\n",
        "\n",
        "    # ================================================================================\n",
        "    # \n",
        "    # testing\n",
        "    #\n",
        "    # ================================================================================\n",
        "    (loss_test, loss_fidelity_test, loss_reg_test, psnr_test) = test(model, dataloader_test)\n",
        "\n",
        "    loss_mean_test[i] = loss_test['mean']\n",
        "    loss_std_test[i]  = loss_test['std']\n",
        "\n",
        "    loss_fidelity_mean_test[i] = loss_fidelity_test['mean']\n",
        "    loss_fidelity_std_test[i]  = loss_fidelity_test['std']\n",
        "    \n",
        "    loss_regularization_mean_test[i] = loss_reg_test['mean']\n",
        "    loss_regularization_std_test[i]  = loss_reg_test['std']\n",
        "\n",
        "    PSNR_mean_test[i]  = psnr_test['mean']\n",
        "    PSNR_std_test[i]   = psnr_test['std']\n",
        "\n",
        "    print(f\"epooch : {i}, train loss : {loss_train['mean']}, train PSNR : {PSNR_mean_train[i]}, test loss : {loss_mean_test[i]}, test PSNR : {PSNR_mean_test[i]}\")"
      ],
      "execution_count": null,
      "outputs": [
        {
          "output_type": "display_data",
          "data": {
            "application/vnd.jupyter.widget-view+json": {
              "model_id": "6822395ed62840328205f1c0b04e85bf",
              "version_minor": 0,
              "version_major": 2
            },
            "text/plain": [
              "  0%|          | 0/300 [00:00<?, ?it/s]"
            ]
          },
          "metadata": {}
        },
        {
          "output_type": "stream",
          "name": "stdout",
          "text": [
            "epooch : 0, train loss : 0.10257997270673513, train PSNR : 10.52876512463373, test loss : 0.08499005974994765, test PSNR : 10.942497443562287\n",
            "epooch : 1, train loss : 0.0721281778998673, train PSNR : 11.696044877667882, test loss : 0.07214045069283909, test PSNR : 11.693430049851868\n",
            "epooch : 2, train loss : 0.05393777973949909, train PSNR : 13.488202091650555, test loss : 0.03369753217945496, test PSNR : 16.07696995447947\n",
            "epooch : 3, train loss : 0.030882244324311615, train PSNR : 16.788193991908997, test loss : 0.0287971758387155, test PSNR : 17.175015237059\n",
            "epooch : 4, train loss : 0.02732459669932723, train PSNR : 17.582881405860554, test loss : 0.026239764876663685, test PSNR : 17.801322494671574\n",
            "epooch : 5, train loss : 0.02615527119487524, train PSNR : 17.8726868560569, test loss : 0.025115777738392353, test PSNR : 18.084838009214142\n",
            "epooch : 6, train loss : 0.024564269930124283, train PSNR : 18.294551230098072, test loss : 0.024615593151085906, test PSNR : 18.312444371301765\n",
            "epooch : 7, train loss : 0.024178265873342753, train PSNR : 18.433690533805724, test loss : 0.024161150782472558, test PSNR : 18.42139907395218\n",
            "epooch : 8, train loss : 0.024151659291237592, train PSNR : 18.465527353810014, test loss : 0.023340541662441358, test PSNR : 18.68664176981507\n",
            "epooch : 9, train loss : 0.02307870634831488, train PSNR : 18.780198954397044, test loss : 0.023589015420940187, test PSNR : 18.6203399480999\n",
            "epooch : 10, train loss : 0.022902867244556546, train PSNR : 18.886503787968298, test loss : 0.022433996614482667, test PSNR : 19.024218852073087\n",
            "epooch : 11, train loss : 0.022800893569365144, train PSNR : 18.899618939771223, test loss : 0.022206948552694585, test PSNR : 19.064439702038143\n",
            "epooch : 12, train loss : 0.022138086846098304, train PSNR : 19.130671425886838, test loss : 0.021673739577333134, test PSNR : 19.307664528260364\n",
            "epooch : 13, train loss : 0.02174544329755008, train PSNR : 19.266730370102188, test loss : 0.021656345576047897, test PSNR : 19.266554716114022\n",
            "epooch : 14, train loss : 0.02200741176493466, train PSNR : 19.179217968052917, test loss : 0.021837441043721303, test PSNR : 19.17544972234131\n",
            "epooch : 15, train loss : 0.02173414179123938, train PSNR : 19.30756605593236, test loss : 0.021001172665920522, test PSNR : 19.526318270190657\n",
            "epooch : 16, train loss : 0.0210537223611027, train PSNR : 19.513647873787523, test loss : 0.02109260701884826, test PSNR : 19.514227534509043\n",
            "epooch : 17, train loss : 0.020488470373675228, train PSNR : 19.725780789988995, test loss : 0.020581499569945864, test PSNR : 19.726199557819136\n",
            "epooch : 18, train loss : 0.020683702593669296, train PSNR : 19.67487572126151, test loss : 0.02015525692452987, test PSNR : 19.893650478303844\n",
            "epooch : 19, train loss : 0.020241231936961413, train PSNR : 19.850644786449465, test loss : 0.020058089556793373, test PSNR : 19.915542334433912\n",
            "epooch : 20, train loss : 0.020263152476400138, train PSNR : 19.81049080366461, test loss : 0.019908207261727914, test PSNR : 19.97301206269192\n",
            "epooch : 21, train loss : 0.020033003855496646, train PSNR : 19.940812668393633, test loss : 0.020726757641467784, test PSNR : 19.566908761193744\n",
            "epooch : 22, train loss : 0.019928457541391255, train PSNR : 19.957953579225475, test loss : 0.01962443792985545, test PSNR : 20.12154368346078\n",
            "epooch : 23, train loss : 0.019613268226385115, train PSNR : 20.064090085753826, test loss : 0.01948914449248049, test PSNR : 20.167833032560534\n",
            "epooch : 24, train loss : 0.01952041401527822, train PSNR : 20.094943358594264, test loss : 0.020650759753253724, test PSNR : 19.627073686221976\n",
            "epooch : 25, train loss : 0.019927139300853013, train PSNR : 19.91994321699982, test loss : 0.01913315575155947, test PSNR : 20.261070829678022\n",
            "epooch : 26, train loss : 0.01978726116940379, train PSNR : 20.013760223814064, test loss : 0.019574770807392068, test PSNR : 20.091732303747854\n",
            "epooch : 27, train loss : 0.019161342876031995, train PSNR : 20.245395068374837, test loss : 0.01923510877208577, test PSNR : 20.22632758942497\n",
            "epooch : 28, train loss : 0.01906385044567287, train PSNR : 20.307662629634493, test loss : 0.01919478064195977, test PSNR : 20.28490506239963\n",
            "epooch : 29, train loss : 0.019007720053195953, train PSNR : 20.32162398733389, test loss : 0.018679941693941753, test PSNR : 20.4836545136639\n",
            "epooch : 30, train loss : 0.018566718976944684, train PSNR : 20.496071008692233, test loss : 0.018477268723977938, test PSNR : 20.611683488823914\n",
            "epooch : 31, train loss : 0.018683412950485943, train PSNR : 20.45031845836133, test loss : 0.018560568595098123, test PSNR : 20.5557940373075\n",
            "epooch : 32, train loss : 0.01885659256950021, train PSNR : 20.384929491473613, test loss : 0.018542529911630683, test PSNR : 20.558621926400477\n",
            "epooch : 33, train loss : 0.01868291720747948, train PSNR : 20.510775626765366, test loss : 0.018318637170725398, test PSNR : 20.705826533327013\n",
            "epooch : 34, train loss : 0.018495992524549365, train PSNR : 20.57065882646831, test loss : 0.018476702686813142, test PSNR : 20.696477998623347\n",
            "epooch : 35, train loss : 0.018253243900835513, train PSNR : 20.686010376401065, test loss : 0.018196575136648283, test PSNR : 20.710396306383036\n",
            "epooch : 36, train loss : 0.018210306437686084, train PSNR : 20.69338769181092, test loss : 0.018143226703008015, test PSNR : 20.75157142380866\n",
            "epooch : 37, train loss : 0.01821842002682388, train PSNR : 20.704906944850872, test loss : 0.018207060483594734, test PSNR : 20.732497277208054\n",
            "epooch : 38, train loss : 0.01857243771664798, train PSNR : 20.551180530123453, test loss : 0.017880410369899537, test PSNR : 20.962210360969703\n",
            "epooch : 39, train loss : 0.018259665416553616, train PSNR : 20.681513993137855, test loss : 0.017948421442674264, test PSNR : 20.845696974459152\n",
            "epooch : 40, train loss : 0.01814433969557285, train PSNR : 20.755016403786925, test loss : 0.018106364438103303, test PSNR : 20.778762732674522\n",
            "epooch : 41, train loss : 0.018109124060720204, train PSNR : 20.726318024174134, test loss : 0.01786677177167601, test PSNR : 20.89138139541881\n",
            "epooch : 42, train loss : 0.01808770433999598, train PSNR : 20.790623353085522, test loss : 0.017923384697900877, test PSNR : 20.888440469717796\n",
            "epooch : 43, train loss : 0.017781920125707985, train PSNR : 20.924236510256712, test loss : 0.0179739852125446, test PSNR : 20.859307467247575\n",
            "epooch : 44, train loss : 0.017923230305314064, train PSNR : 20.849464253437823, test loss : 0.018040541352497205, test PSNR : 20.78979233795041\n",
            "epooch : 45, train loss : 0.018018096266314388, train PSNR : 20.828584509856547, test loss : 0.018029987605081663, test PSNR : 20.849792007603313\n",
            "epooch : 46, train loss : 0.01788553982041776, train PSNR : 20.853957372333845, test loss : 0.018341175177031092, test PSNR : 20.6650498118636\n",
            "epooch : 47, train loss : 0.017698902683332563, train PSNR : 20.98047758931669, test loss : 0.01761085819453001, test PSNR : 21.044771944690904\n",
            "epooch : 48, train loss : 0.018466893304139375, train PSNR : 20.631622836314776, test loss : 0.018418813745180767, test PSNR : 20.597331110591753\n",
            "epooch : 49, train loss : 0.017516808584332466, train PSNR : 21.07855564273416, test loss : 0.018303806686566934, test PSNR : 20.66771027450436\n",
            "epooch : 50, train loss : 0.017466327594593167, train PSNR : 21.089405516371954, test loss : 0.017309961426589224, test PSNR : 21.212481658174646\n",
            "epooch : 51, train loss : 0.01750928577966988, train PSNR : 21.082567916844983, test loss : 0.017483681440353394, test PSNR : 21.147650138403538\n",
            "epooch : 52, train loss : 0.018207992101088165, train PSNR : 20.75448943746452, test loss : 0.017458802606496546, test PSNR : 21.173873360155575\n",
            "epooch : 53, train loss : 0.017542250081896783, train PSNR : 21.087117574332755, test loss : 0.017298040601114433, test PSNR : 21.2563681676223\n",
            "epooch : 54, train loss : 0.017800394631922244, train PSNR : 20.93170728409517, test loss : 0.017219913709494803, test PSNR : 21.31715237981633\n",
            "epooch : 55, train loss : 0.017536201514303684, train PSNR : 21.0554616159022, test loss : 0.017139928622378245, test PSNR : 21.3352032576489\n",
            "epooch : 56, train loss : 0.017591923871077598, train PSNR : 21.04068049542307, test loss : 0.01734836616863807, test PSNR : 21.215105169822614\n",
            "epooch : 57, train loss : 0.01815742109902203, train PSNR : 20.78965118929559, test loss : 0.017347453472514946, test PSNR : 21.223631465302\n",
            "epooch : 58, train loss : 0.01741671047639102, train PSNR : 21.1239540696366, test loss : 0.017158483258552022, test PSNR : 21.31804959863714\n",
            "epooch : 59, train loss : 0.01731533007696271, train PSNR : 21.182174117221113, test loss : 0.017101770266890526, test PSNR : 21.318257065042488\n",
            "epooch : 60, train loss : 0.01744896490126848, train PSNR : 21.11766137399392, test loss : 0.017669236494435206, test PSNR : 21.082030806112815\n",
            "epooch : 61, train loss : 0.017704104515723885, train PSNR : 21.004594918717412, test loss : 0.0171696064579818, test PSNR : 21.254044017757515\n",
            "epooch : 62, train loss : 0.017618102789856493, train PSNR : 21.059925359420752, test loss : 0.017345347855654027, test PSNR : 21.178289921355073\n",
            "epooch : 63, train loss : 0.017207526485435665, train PSNR : 21.242180733398868, test loss : 0.017069372969369095, test PSNR : 21.3306238400106\n",
            "epooch : 64, train loss : 0.016984998388215898, train PSNR : 21.354963783346967, test loss : 0.01724468802826272, test PSNR : 21.218902315991116\n",
            "epooch : 65, train loss : 0.01692485245876014, train PSNR : 21.388362506207717, test loss : 0.01688101328909397, test PSNR : 21.4572985120795\n",
            "epooch : 66, train loss : 0.016839434532448648, train PSNR : 21.476088423245436, test loss : 0.01691618251303832, test PSNR : 21.433661344715638\n",
            "epooch : 67, train loss : 0.016816654126159847, train PSNR : 21.46551871890164, test loss : 0.017086342598001163, test PSNR : 21.39335553414995\n",
            "epooch : 68, train loss : 0.016993200173601508, train PSNR : 21.345757436668215, test loss : 0.016876684915688302, test PSNR : 21.44930626041576\n",
            "epooch : 69, train loss : 0.017385200364515185, train PSNR : 21.1626322292881, test loss : 0.01684806351032522, test PSNR : 21.439250373061586\n",
            "epooch : 70, train loss : 0.017015282670035957, train PSNR : 21.371407449514276, test loss : 0.01690365539656745, test PSNR : 21.47096781525583\n",
            "epooch : 71, train loss : 0.01704676100052893, train PSNR : 21.4050230448402, test loss : 0.016809891184998885, test PSNR : 21.545426601580186\n",
            "epooch : 72, train loss : 0.01701179132796824, train PSNR : 21.37162325047712, test loss : 0.018296141280896135, test PSNR : 20.699699129383543\n",
            "epooch : 73, train loss : 0.017862661136314274, train PSNR : 21.000338060516537, test loss : 0.016662975773215294, test PSNR : 21.64083758589972\n",
            "epooch : 74, train loss : 0.016806958708912134, train PSNR : 21.46936224108946, test loss : 0.01753012566930718, test PSNR : 21.12013068121785\n",
            "epooch : 75, train loss : 0.01715044879820198, train PSNR : 21.30412357779577, test loss : 0.016860996579958334, test PSNR : 21.54287876000926\n",
            "epooch : 76, train loss : 0.016823156829923393, train PSNR : 21.492567576239182, test loss : 0.016725448477599356, test PSNR : 21.60411633578754\n",
            "epooch : 77, train loss : 0.016746846865862607, train PSNR : 21.537328029542664, test loss : 0.016921687974698015, test PSNR : 21.47626425029776\n",
            "epooch : 78, train loss : 0.017224944289773704, train PSNR : 21.252776821176827, test loss : 0.01685859728604555, test PSNR : 21.55082866287482\n",
            "epooch : 79, train loss : 0.017372536961920558, train PSNR : 21.204678699958283, test loss : 0.017226012113193672, test PSNR : 21.372146411434596\n",
            "epooch : 80, train loss : 0.016906684217974543, train PSNR : 21.435323005125447, test loss : 0.016701838105089135, test PSNR : 21.5814570212871\n",
            "epooch : 81, train loss : 0.01729146025609225, train PSNR : 21.226269732972135, test loss : 0.01801333576440811, test PSNR : 20.858798083809855\n",
            "epooch : 82, train loss : 0.016551701189018785, train PSNR : 21.666936843838872, test loss : 0.016476127836439345, test PSNR : 21.774003915835443\n",
            "epooch : 83, train loss : 0.01667595934122801, train PSNR : 21.609070042205623, test loss : 0.016733565367758274, test PSNR : 21.564888118063745\n",
            "epooch : 84, train loss : 0.01695563120301813, train PSNR : 21.43575614100984, test loss : 0.016542398370802402, test PSNR : 21.6755498743047\n",
            "epooch : 85, train loss : 0.016788402013480662, train PSNR : 21.524905374706144, test loss : 0.016692753777735762, test PSNR : 21.589240762108886\n",
            "epooch : 86, train loss : 0.017039375333115458, train PSNR : 21.365122045167176, test loss : 0.016443245061155822, test PSNR : 21.77271806610593\n",
            "epooch : 87, train loss : 0.016681025456637143, train PSNR : 21.57456998250583, test loss : 0.01648450528995858, test PSNR : 21.742655079785404\n",
            "epooch : 88, train loss : 0.01746873261872679, train PSNR : 21.163686603226104, test loss : 0.016862852084967826, test PSNR : 21.48061189644715\n",
            "epooch : 89, train loss : 0.016378841432742774, train PSNR : 21.75169403769423, test loss : 0.016417545939071312, test PSNR : 21.764350224958843\n",
            "epooch : 90, train loss : 0.01678409273736179, train PSNR : 21.531051634561685, test loss : 0.01666083000600338, test PSNR : 21.62464721360783\n",
            "epooch : 91, train loss : 0.01643847341183573, train PSNR : 21.704424364799586, test loss : 0.016384063702490594, test PSNR : 21.76581093636849\n",
            "epooch : 92, train loss : 0.016588069661520422, train PSNR : 21.63973391268087, test loss : 0.016339600189692445, test PSNR : 21.814373277670022\n",
            "epooch : 93, train loss : 0.016732427477836608, train PSNR : 21.540693173311325, test loss : 0.016327486890885565, test PSNR : 21.857914351705137\n",
            "epooch : 94, train loss : 0.01721119696740061, train PSNR : 21.31645526709884, test loss : 0.01646531456046634, test PSNR : 21.727266748571584\n",
            "epooch : 95, train loss : 0.016972454194910825, train PSNR : 21.42648040584258, test loss : 0.01638215562949578, test PSNR : 21.775007225259824\n",
            "epooch : 96, train loss : 0.016682319808751345, train PSNR : 21.611814455468963, test loss : 0.016353847769399483, test PSNR : 21.837881474329386\n",
            "epooch : 97, train loss : 0.016775967366993428, train PSNR : 21.517283023040417, test loss : 0.016288999209387436, test PSNR : 21.88849938963221\n",
            "epooch : 98, train loss : 0.016432777978479862, train PSNR : 21.711496562952014, test loss : 0.01625513181918197, test PSNR : 21.957735283344636\n",
            "epooch : 99, train loss : 0.01641096060629934, train PSNR : 21.72332513761266, test loss : 0.01633935985672805, test PSNR : 21.82445387160104\n",
            "epooch : 100, train loss : 0.016947131929919125, train PSNR : 21.409105578126592, test loss : 0.016313917676193848, test PSNR : 21.906984024112703\n",
            "epooch : 101, train loss : 0.01647171569056809, train PSNR : 21.69071015252152, test loss : 0.016189602979769308, test PSNR : 21.971963001134625\n",
            "epooch : 102, train loss : 0.016630951431579888, train PSNR : 21.60729585896967, test loss : 0.01659366964466042, test PSNR : 21.678492797525394\n",
            "epooch : 103, train loss : 0.017265621642582118, train PSNR : 21.254426897240542, test loss : 0.016247123686803713, test PSNR : 21.862046857080628\n",
            "epooch : 104, train loss : 0.016707544005475937, train PSNR : 21.558443691819868, test loss : 0.01626076725208097, test PSNR : 21.84336152115589\n",
            "epooch : 105, train loss : 0.016727848304435612, train PSNR : 21.532259574515557, test loss : 0.016311786654922698, test PSNR : 21.811201146873266\n",
            "epooch : 106, train loss : 0.016572997067123653, train PSNR : 21.649671635083415, test loss : 0.01647978700283501, test PSNR : 21.67772775889834\n",
            "epooch : 107, train loss : 0.016674273344688118, train PSNR : 21.562804920471255, test loss : 0.016413995168275304, test PSNR : 21.76545753720318\n",
            "epooch : 108, train loss : 0.016426066122949123, train PSNR : 21.725854711306994, test loss : 0.016278232758243878, test PSNR : 21.849556524513297\n",
            "epooch : 109, train loss : 0.01616327327210456, train PSNR : 21.86197433333722, test loss : 0.01612769051765402, test PSNR : 21.951641506419257\n",
            "epooch : 110, train loss : 0.016117819491773842, train PSNR : 21.880769134585524, test loss : 0.01627358194026682, test PSNR : 21.851087428262545\n",
            "epooch : 111, train loss : 0.01621958175674081, train PSNR : 21.83304250671087, test loss : 0.016165720350626443, test PSNR : 21.909106580611418\n",
            "epooch : 112, train loss : 0.016610163357108833, train PSNR : 21.594812018565733, test loss : 0.016055916539496846, test PSNR : 22.00162365910704\n",
            "epooch : 113, train loss : 0.016513332608155906, train PSNR : 21.647977849305416, test loss : 0.016202987119969394, test PSNR : 21.930115481141797\n",
            "epooch : 114, train loss : 0.01641808613203466, train PSNR : 21.710660361230435, test loss : 0.01620378267640869, test PSNR : 21.884445426730665\n",
            "epooch : 115, train loss : 0.01626400628592819, train PSNR : 21.800141738826948, test loss : 0.016046595863170095, test PSNR : 21.97608069886663\n",
            "epooch : 116, train loss : 0.016756267100572587, train PSNR : 21.52602485373592, test loss : 0.016396119880179565, test PSNR : 21.69536697976641\n",
            "epooch : 117, train loss : 0.016417272761464118, train PSNR : 21.72781358157797, test loss : 0.016002213737616938, test PSNR : 22.0935933247842\n",
            "epooch : 118, train loss : 0.016321799322031438, train PSNR : 21.757969724920994, test loss : 0.016064298235707812, test PSNR : 21.928766989405503\n",
            "epooch : 119, train loss : 0.016468956810422243, train PSNR : 21.722354857829878, test loss : 0.016013647998786636, test PSNR : 22.01822161150899\n",
            "epooch : 120, train loss : 0.016362695232965054, train PSNR : 21.745068785523113, test loss : 0.01613586913380358, test PSNR : 21.989059457130793\n",
            "epooch : 121, train loss : 0.016065715136937796, train PSNR : 21.91675843551217, test loss : 0.016021775857855875, test PSNR : 22.06830801778894\n",
            "epooch : 122, train loss : 0.016396575910039245, train PSNR : 21.73603937441939, test loss : 0.016630789937658444, test PSNR : 21.562399204607022\n",
            "epooch : 123, train loss : 0.016277608601376413, train PSNR : 21.759282057538627, test loss : 0.016021612617704604, test PSNR : 21.92597250825549\n",
            "epooch : 124, train loss : 0.016275469143874944, train PSNR : 21.812837336141097, test loss : 0.016782262983421486, test PSNR : 21.434265351447767\n",
            "epooch : 125, train loss : 0.016367215057834984, train PSNR : 21.77167330073303, test loss : 0.016271775174472067, test PSNR : 21.913430548980397\n",
            "epooch : 126, train loss : 0.016127691394649445, train PSNR : 21.919973077495733, test loss : 0.01599365674580137, test PSNR : 22.016496861903665\n",
            "epooch : 127, train loss : 0.01628071831073612, train PSNR : 21.815649769446942, test loss : 0.016161676289306745, test PSNR : 21.928106554955342\n",
            "epooch : 128, train loss : 0.016253679990768433, train PSNR : 21.825804769281643, test loss : 0.01596069811946816, test PSNR : 22.02392710216089\n",
            "epooch : 129, train loss : 0.016645459271967412, train PSNR : 21.616972084647692, test loss : 0.016003753162092633, test PSNR : 21.99275155575957\n",
            "epooch : 130, train loss : 0.016406752914190293, train PSNR : 21.729653933274797, test loss : 0.01586907243149148, test PSNR : 22.101281306478015\n",
            "epooch : 131, train loss : 0.015838278597220777, train PSNR : 22.08191958757787, test loss : 0.01594182165960471, test PSNR : 22.04677473678593\n",
            "epooch : 132, train loss : 0.016213008435443044, train PSNR : 21.873536551973068, test loss : 0.016138385826100905, test PSNR : 22.015994187710593\n",
            "epooch : 133, train loss : 0.01622547977603972, train PSNR : 21.846940997352636, test loss : 0.01634224581842621, test PSNR : 21.859262082412133\n",
            "epooch : 134, train loss : 0.01706615639850497, train PSNR : 21.387593239221484, test loss : 0.017465422447356913, test PSNR : 21.150099850237737\n",
            "epooch : 135, train loss : 0.016699368436820804, train PSNR : 21.57292019600835, test loss : 0.015832907830675442, test PSNR : 22.20509868020616\n",
            "epooch : 136, train loss : 0.016031008400022983, train PSNR : 21.958404872542957, test loss : 0.017185578019254737, test PSNR : 21.36440171698075\n",
            "epooch : 137, train loss : 0.016200787713751198, train PSNR : 21.828081779261442, test loss : 0.01628017435885138, test PSNR : 21.75362366773028\n",
            "epooch : 138, train loss : 0.016069038794375955, train PSNR : 21.944557166921864, test loss : 0.01579401735216379, test PSNR : 22.115319027194335\n",
            "epooch : 139, train loss : 0.015906372317112984, train PSNR : 22.030902355008468, test loss : 0.015783694469266467, test PSNR : 22.21162044738342\n",
            "epooch : 140, train loss : 0.01609779130667448, train PSNR : 21.929720729765798, test loss : 0.01577190775424242, test PSNR : 22.200436466104957\n",
            "epooch : 141, train loss : 0.016017964016646145, train PSNR : 21.935491372575864, test loss : 0.015752600609428354, test PSNR : 22.225525948413225\n",
            "epooch : 142, train loss : 0.0157912784954533, train PSNR : 22.100645265517016, test loss : 0.01587428669962618, test PSNR : 22.105443266881597\n",
            "epooch : 143, train loss : 0.016371583356522022, train PSNR : 21.765141820306418, test loss : 0.01577631751489308, test PSNR : 22.256636361504135\n",
            "epooch : 144, train loss : 0.016482904134318233, train PSNR : 21.70270320301819, test loss : 0.017244889193938837, test PSNR : 21.223160583846386\n",
            "epooch : 145, train loss : 0.01722636925987899, train PSNR : 21.281191662802204, test loss : 0.016128422019796237, test PSNR : 21.862380770477873\n",
            "epooch : 146, train loss : 0.016066929628141224, train PSNR : 21.91730830898373, test loss : 0.016293877839214273, test PSNR : 21.858180001011277\n",
            "epooch : 147, train loss : 0.016079007112421096, train PSNR : 21.905316611718458, test loss : 0.015851838928129938, test PSNR : 22.161894439776173\n",
            "epooch : 148, train loss : 0.016083074500784278, train PSNR : 21.90527828313273, test loss : 0.016142962810893852, test PSNR : 21.839949830785027\n",
            "epooch : 149, train loss : 0.015909963310696183, train PSNR : 22.02411422108894, test loss : 0.015694799470818706, test PSNR : 22.286337126864602\n",
            "epooch : 150, train loss : 0.015683925338089467, train PSNR : 22.181503883805114, test loss : 0.015835793274972174, test PSNR : 22.170956908665666\n",
            "epooch : 151, train loss : 0.016243410157039763, train PSNR : 21.82752366461338, test loss : 0.015681989956647158, test PSNR : 22.20195528533494\n",
            "epooch : 152, train loss : 0.015883161942474543, train PSNR : 22.04382966372153, test loss : 0.016179342961145773, test PSNR : 21.951970421471117\n",
            "epooch : 153, train loss : 0.016027723508886992, train PSNR : 21.994359810796823, test loss : 0.015780846795274153, test PSNR : 22.265691574865794\n",
            "epooch : 154, train loss : 0.0161195955472067, train PSNR : 21.895430373023096, test loss : 0.016468631155374978, test PSNR : 21.64797186011019\n",
            "epooch : 155, train loss : 0.01622022727970034, train PSNR : 21.859439837363347, test loss : 0.016550962761458423, test PSNR : 21.608560731942376\n",
            "epooch : 156, train loss : 0.016257178410887717, train PSNR : 21.828293105081634, test loss : 0.015627547736383147, test PSNR : 22.282489750801737\n",
            "epooch : 157, train loss : 0.016308599547483028, train PSNR : 21.82446929677615, test loss : 0.0156999870410396, test PSNR : 22.15535642287735\n",
            "epooch : 158, train loss : 0.015925653232261538, train PSNR : 21.9919187230349, test loss : 0.0157100649860998, test PSNR : 22.139540862016418\n",
            "epooch : 159, train loss : 0.015863205771893263, train PSNR : 22.07627188091663, test loss : 0.015659208823409345, test PSNR : 22.17384073216513\n",
            "epooch : 160, train loss : 0.016451088059693576, train PSNR : 21.709334541656176, test loss : 0.015595235085735718, test PSNR : 22.26814889495941\n",
            "epooch : 161, train loss : 0.016233816370368005, train PSNR : 21.850080928930925, test loss : 0.015589808889975151, test PSNR : 22.277843148729715\n",
            "epooch : 162, train loss : 0.015560037246905268, train PSNR : 22.278250394430113, test loss : 0.015513590950932767, test PSNR : 22.402654265040624\n",
            "epooch : 163, train loss : 0.015838433615863325, train PSNR : 22.087261666667423, test loss : 0.015606076974007819, test PSNR : 22.210250563465447\n",
            "epooch : 164, train loss : 0.016007620678283273, train PSNR : 21.973724900515826, test loss : 0.016385104403727584, test PSNR : 21.708765051556224\n",
            "epooch : 165, train loss : 0.015739427623339, train PSNR : 22.165428313374935, test loss : 0.015752048283401463, test PSNR : 22.203708522243176\n",
            "epooch : 166, train loss : 0.016009958181530237, train PSNR : 21.985593672516973, test loss : 0.015634897061520152, test PSNR : 22.28794966460877\n",
            "epooch : 167, train loss : 0.01615843642503023, train PSNR : 21.887623194255838, test loss : 0.01573754671133227, test PSNR : 22.215169861852736\n",
            "epooch : 168, train loss : 0.016099085449241102, train PSNR : 21.939139333519723, test loss : 0.0158378175045881, test PSNR : 22.11724163459929\n",
            "epooch : 169, train loss : 0.015564061980694533, train PSNR : 22.26070569821805, test loss : 0.015860333986994293, test PSNR : 22.129187685638524\n",
            "epooch : 170, train loss : 0.015819756942801178, train PSNR : 22.122518630592236, test loss : 0.015585185183833042, test PSNR : 22.400179286791857\n",
            "epooch : 171, train loss : 0.01577266356907785, train PSNR : 22.123976332509805, test loss : 0.015622059348970652, test PSNR : 22.22447248721992\n",
            "epooch : 172, train loss : 0.01589493576902896, train PSNR : 22.07432248346324, test loss : 0.01576000912528899, test PSNR : 22.216205392185792\n",
            "epooch : 173, train loss : 0.015866012149490415, train PSNR : 22.039784986447607, test loss : 0.015519844212879738, test PSNR : 22.31382684049477\n",
            "epooch : 174, train loss : 0.015975544042885304, train PSNR : 22.055939860522408, test loss : 0.015659935927639406, test PSNR : 22.299303696646156\n",
            "epooch : 175, train loss : 0.016025546728633343, train PSNR : 21.983799060259198, test loss : 0.015508473850786686, test PSNR : 22.27890544327165\n",
            "epooch : 176, train loss : 0.015435410826466978, train PSNR : 22.373404904145804, test loss : 0.015613079071044922, test PSNR : 22.28546236814897\n",
            "epooch : 177, train loss : 0.016144859115593137, train PSNR : 21.914225618683144, test loss : 0.015452983633925518, test PSNR : 22.448752419592324\n",
            "epooch : 178, train loss : 0.01565546456258744, train PSNR : 22.216678238719755, test loss : 0.016596537393828232, test PSNR : 21.549317656062733\n",
            "epooch : 179, train loss : 0.01563634767662734, train PSNR : 22.187302048569215, test loss : 0.01552943316184812, test PSNR : 22.27363591518558\n",
            "epooch : 180, train loss : 0.015566808334551752, train PSNR : 22.244613739798194, test loss : 0.01584565184182591, test PSNR : 22.209147075616023\n",
            "epooch : 181, train loss : 0.015730891260318458, train PSNR : 22.158113654120598, test loss : 0.015942455114175875, test PSNR : 22.073854296783683\n",
            "epooch : 182, train loss : 0.015639293985441328, train PSNR : 22.21351190094604, test loss : 0.015480124443355534, test PSNR : 22.428658747330996\n",
            "epooch : 183, train loss : 0.015811331407167017, train PSNR : 22.08066503590531, test loss : 0.015394028845346637, test PSNR : 22.36663715234009\n",
            "epooch : 184, train loss : 0.015549233928322793, train PSNR : 22.274139516216575, test loss : 0.01536609423864219, test PSNR : 22.486424602818662\n",
            "epooch : 185, train loss : 0.015428135311231017, train PSNR : 22.35644356450029, test loss : 0.015420811457766427, test PSNR : 22.468384588198525\n",
            "epooch : 186, train loss : 0.015483189933001995, train PSNR : 22.300517390447496, test loss : 0.015478376971764697, test PSNR : 22.402433968454122\n",
            "epooch : 187, train loss : 0.015458589349873365, train PSNR : 22.342398416549866, test loss : 0.015527279374914037, test PSNR : 22.24068014073616\n",
            "epooch : 188, train loss : 0.015754659194499254, train PSNR : 22.16254428799178, test loss : 0.01562700617230601, test PSNR : 22.11568571114706\n",
            "epooch : 189, train loss : 0.016195557592436672, train PSNR : 21.876568288344714, test loss : 0.015564805879775021, test PSNR : 22.227146933011102\n",
            "epooch : 190, train loss : 0.015614426345564425, train PSNR : 22.251532106000163, test loss : 0.015820058166152902, test PSNR : 22.11947774936252\n",
            "epooch : 191, train loss : 0.015795934246852994, train PSNR : 22.135627881669752, test loss : 0.015430795960128307, test PSNR : 22.426431156378452\n",
            "epooch : 192, train loss : 0.015572078549303115, train PSNR : 22.256891089523926, test loss : 0.015272028019858731, test PSNR : 22.575175581227874\n",
            "epooch : 193, train loss : 0.015606420044787229, train PSNR : 22.226489681853934, test loss : 0.015476515361418327, test PSNR : 22.321973987854964\n",
            "epooch : 194, train loss : 0.01576217121910304, train PSNR : 22.15061237935505, test loss : 0.01578962564882305, test PSNR : 22.012095084716723\n",
            "epooch : 195, train loss : 0.015690270834602414, train PSNR : 22.22680734906266, test loss : 0.01571796803424756, test PSNR : 22.130745264847448\n",
            "epooch : 196, train loss : 0.015749233309179544, train PSNR : 22.11922778366011, test loss : 0.015293190462721718, test PSNR : 22.472912807857583\n",
            "epooch : 197, train loss : 0.015474426746368408, train PSNR : 22.33184672335397, test loss : 0.015435937326401472, test PSNR : 22.393465829055714\n",
            "epooch : 198, train loss : 0.015771669265814126, train PSNR : 22.12641239293444, test loss : 0.016255426168855693, test PSNR : 21.802963769395877\n",
            "epooch : 199, train loss : 0.01548004182986915, train PSNR : 22.338853350338127, test loss : 0.015962673040727775, test PSNR : 22.048986292491236\n",
            "epooch : 200, train loss : 0.015467754984274506, train PSNR : 22.314145885025788, test loss : 0.015432947780936956, test PSNR : 22.28862996563345\n",
            "epooch : 201, train loss : 0.015508248074911534, train PSNR : 22.26821134572932, test loss : 0.015404386031958792, test PSNR : 22.28529284918356\n",
            "epooch : 202, train loss : 0.015763045591302215, train PSNR : 22.12518677676865, test loss : 0.015389380873077445, test PSNR : 22.281160873440427\n",
            "epooch : 203, train loss : 0.015406683296896517, train PSNR : 22.350826523083914, test loss : 0.015349244388441244, test PSNR : 22.354441726793837\n",
            "epooch : 204, train loss : 0.015481306798756122, train PSNR : 22.29358818780266, test loss : 0.015321811609384086, test PSNR : 22.508868813210405\n"
          ]
        }
      ]
    },
    {
      "cell_type": "markdown",
      "metadata": {
        "id": "bxek0ypkA9Kf"
      },
      "source": [
        "---"
      ]
    },
    {
      "cell_type": "markdown",
      "metadata": {
        "id": "Q4N32do7A9Kg"
      },
      "source": [
        "# functions for visualizing the results"
      ]
    },
    {
      "cell_type": "markdown",
      "metadata": {
        "id": "cY1ul6ttA9Kg"
      },
      "source": [
        "---"
      ]
    },
    {
      "cell_type": "markdown",
      "metadata": {
        "id": "rgD-FF4MA9Kg"
      },
      "source": [
        "## Plot functions"
      ]
    },
    {
      "cell_type": "code",
      "metadata": {
        "id": "V7SzyQnaA9Kg"
      },
      "source": [
        "def plot_data_grid(data, index_data, nRow, nCol):\n",
        "    \n",
        "    fig, axes = plt.subplots(nRow, nCol, constrained_layout=True, figsize=(nCol * 3, nRow * 3))\n",
        "\n",
        "    for i in range(nRow):\n",
        "        for j in range(nCol):\n",
        "\n",
        "            k       = i * nCol + j\n",
        "            index   = index_data[k]\n",
        "\n",
        "            axes[i, j].imshow(data[index], cmap='gray', vmin=0, vmax=1)\n",
        "            axes[i, j].xaxis.set_visible(False)\n",
        "            axes[i, j].yaxis.set_visible(False)\n",
        "\n",
        "    plt.show()"
      ],
      "execution_count": null,
      "outputs": []
    },
    {
      "cell_type": "code",
      "metadata": {
        "id": "PVYA6nBGA9Kh"
      },
      "source": [
        "def plot_data_tensor_grid(data, index_data, nRow, nCol):\n",
        "    \n",
        "    fig, axes = plt.subplots(nRow, nCol, constrained_layout=True, figsize=(nCol * 3, nRow * 3))\n",
        "\n",
        "    data = data.detach().cpu().squeeze(axis=1)\n",
        "\n",
        "    for i in range(nRow):\n",
        "        for j in range(nCol):\n",
        "\n",
        "            k       = i * nCol + j\n",
        "            index   = index_data[k]\n",
        "\n",
        "            axes[i, j].imshow(data[index], cmap='gray', vmin=0, vmax=1)\n",
        "            axes[i, j].xaxis.set_visible(False)\n",
        "            axes[i, j].yaxis.set_visible(False)\n",
        "\n",
        "    plt.show()"
      ],
      "execution_count": null,
      "outputs": []
    },
    {
      "cell_type": "code",
      "metadata": {
        "id": "r06Lf6UNA9Kh"
      },
      "source": [
        "def plot_curve_error(data_mean, data_std, x_label, y_label, title):\n",
        "\n",
        "    plt.figure(figsize=(8, 6))\n",
        "    plt.title(title)\n",
        "\n",
        "    alpha = 0.3\n",
        "    \n",
        "    plt.plot(range(len(data_mean)), data_mean, '-', color = 'red')\n",
        "    plt.fill_between(range(len(data_mean)), data_mean - data_std, data_mean + data_std, facecolor = 'blue', alpha = alpha) \n",
        "    \n",
        "    plt.xlabel(x_label)\n",
        "    plt.ylabel(y_label)\n",
        "\n",
        "    plt.tight_layout()\n",
        "    plt.show()"
      ],
      "execution_count": null,
      "outputs": []
    },
    {
      "cell_type": "code",
      "metadata": {
        "id": "ZBmjFM9tA9Kh"
      },
      "source": [
        "def print_curve(data, index):\n",
        "    \n",
        "    for i in range(len(index)):\n",
        "\n",
        "        idx = index[i]\n",
        "        val = data[idx]\n",
        "\n",
        "        print('index = %2d, value = %12.10f' % (idx, val))"
      ],
      "execution_count": null,
      "outputs": []
    },
    {
      "cell_type": "code",
      "metadata": {
        "id": "k5_ePFORA9Ki"
      },
      "source": [
        "def get_data_last(data, index_start):\n",
        "\n",
        "    data_last = data[index_start:]\n",
        "\n",
        "    return data_last"
      ],
      "execution_count": null,
      "outputs": []
    },
    {
      "cell_type": "code",
      "metadata": {
        "id": "YFNAv5nnA9Ki"
      },
      "source": [
        "def get_max_last_range(data, index_start):\n",
        "\n",
        "    data_range = get_data_last(data, index_start)\n",
        "    value = data_range.max()\n",
        "\n",
        "    return value"
      ],
      "execution_count": null,
      "outputs": []
    },
    {
      "cell_type": "code",
      "metadata": {
        "id": "C0FhjnneA9Ki"
      },
      "source": [
        "def get_min_last_range(data, index_start):\n",
        "\n",
        "    data_range = get_data_last(data, index_start)\n",
        "    value = data_range.min()\n",
        "\n",
        "    return value"
      ],
      "execution_count": null,
      "outputs": []
    },
    {
      "cell_type": "markdown",
      "metadata": {
        "id": "ZR2U5WquA9Kj"
      },
      "source": [
        "---"
      ]
    },
    {
      "cell_type": "markdown",
      "metadata": {
        "id": "SnBT9fWXA9Kj"
      },
      "source": [
        "# functions for presenting the results"
      ]
    },
    {
      "cell_type": "markdown",
      "metadata": {
        "id": "ak9mEQ11A9Kj"
      },
      "source": [
        "---"
      ]
    },
    {
      "cell_type": "code",
      "metadata": {
        "id": "6mSysHDcA9Kk"
      },
      "source": [
        "def function_result_01():\n",
        "\n",
        "    print('[plot examples of the training images]')\n",
        "    print('') \n",
        "\n",
        "    nRow = 5 \n",
        "    nCol = 4\n",
        "    index_data  = np.arange(0, nRow * nCol)\n",
        "    image_train = dataset_train.noise[index_data]\n",
        "\n",
        "    plot_data_grid(image_train, index_data, nRow, nCol)"
      ],
      "execution_count": null,
      "outputs": []
    },
    {
      "cell_type": "code",
      "metadata": {
        "id": "gG5Dv-BtA9Kk"
      },
      "source": [
        "def function_result_02():\n",
        "\n",
        "    print('[plot examples of the training denoising results]')\n",
        "    print('') \n",
        "\n",
        "    nRow = 5\n",
        "    nCol = 4\n",
        "    index_data          = np.arange(0, nRow * nCol)\n",
        "    image_train         = torch.FloatTensor(dataset_train.noise[index_data]).unsqueeze(dim=1).to(device)\n",
        "    prediction_train    = compute_prediction(image_train, model)\n",
        "    \n",
        "    plot_data_tensor_grid(prediction_train, index_data, nRow, nCol)"
      ],
      "execution_count": null,
      "outputs": []
    },
    {
      "cell_type": "code",
      "metadata": {
        "id": "3AOFrS4wA9Kk"
      },
      "source": [
        "def function_result_03():\n",
        "\n",
        "    print('[plot examples of the testing images]')\n",
        "    print('') \n",
        "    \n",
        "    nRow = 5\n",
        "    nCol = 4\n",
        "    index_data = np.arange(0, nRow * nCol)\n",
        "    image_test = dataset_test.noise[index_data]\n",
        "\n",
        "    plot_data_grid(image_test, index_data, nRow, nCol)"
      ],
      "execution_count": null,
      "outputs": []
    },
    {
      "cell_type": "code",
      "metadata": {
        "id": "v2jAuO-HA9Kl"
      },
      "source": [
        "def function_result_04():\n",
        "\n",
        "    print('[plot examples of the testing denoising results]')\n",
        "    print('') \n",
        "\n",
        "    nRow = 5\n",
        "    nCol = 4\n",
        "    index_data      = np.arange(0, nRow * nCol)\n",
        "    image_test      = torch.FloatTensor(dataset_test.noise[index_data]).unsqueeze(dim=1).to(device)\n",
        "    prediction_test = compute_prediction(image_test, model)\n",
        "\n",
        "    plot_data_tensor_grid(prediction_test, index_data, nRow, nCol)"
      ],
      "execution_count": null,
      "outputs": []
    },
    {
      "cell_type": "code",
      "metadata": {
        "id": "4q_8MOVKA9Kl"
      },
      "source": [
        "def function_result_05():\n",
        "\n",
        "    print('[plot the training loss]')\n",
        "    print('') \n",
        "\n",
        "    plot_curve_error(loss_mean_train, loss_std_train, 'epoch', 'loss', 'training loss')"
      ],
      "execution_count": null,
      "outputs": []
    },
    {
      "cell_type": "code",
      "metadata": {
        "id": "N4aH0BefQhUi"
      },
      "source": [
        "def function_result_06():\n",
        "\n",
        "    print('[plot the training fidelity loss]')\n",
        "    print('') \n",
        "\n",
        "    plot_curve_error(loss_fidelity_mean_train, loss_fidelity_std_train, 'epoch', 'loss', 'training loss (fidelity)')"
      ],
      "execution_count": null,
      "outputs": []
    },
    {
      "cell_type": "code",
      "metadata": {
        "id": "iBHnNBNcQw9a"
      },
      "source": [
        "def function_result_07():\n",
        "\n",
        "    print('[plot the training regularization loss]')\n",
        "    print('') \n",
        "\n",
        "    plot_curve_error(loss_regularization_mean_train, loss_regularization_std_train, 'epoch', 'loss', 'training loss (regularization)')"
      ],
      "execution_count": null,
      "outputs": []
    },
    {
      "cell_type": "code",
      "metadata": {
        "id": "nvRfH6ejA9Kl"
      },
      "source": [
        "def function_result_08():\n",
        "\n",
        "    print('[plot the training PSNR]')\n",
        "    print('') \n",
        "    \n",
        "    plot_curve_error(PSNR_mean_train, PSNR_std_train, 'epoch', 'PSNR', 'training PSNR')"
      ],
      "execution_count": null,
      "outputs": []
    },
    {
      "cell_type": "code",
      "metadata": {
        "id": "08ILy67PA9Km"
      },
      "source": [
        "def function_result_09():\n",
        "    \n",
        "    print('[plot the testing loss]')\n",
        "    print('') \n",
        "    \n",
        "    plot_curve_error(loss_mean_test, loss_std_test, 'epoch', 'loss', 'testing loss')"
      ],
      "execution_count": null,
      "outputs": []
    },
    {
      "cell_type": "code",
      "metadata": {
        "id": "RzRElUYcREsr"
      },
      "source": [
        "def function_result_10():\n",
        "    \n",
        "    print('[plot the testing fidelity loss]')\n",
        "    print('') \n",
        "    \n",
        "    plot_curve_error(loss_fidelity_mean_test, loss_fidelity_std_test, 'epoch', 'loss', 'testing loss (fidelity)')"
      ],
      "execution_count": null,
      "outputs": []
    },
    {
      "cell_type": "code",
      "metadata": {
        "id": "cp0_wwYyRM8f"
      },
      "source": [
        "def function_result_11():\n",
        "    \n",
        "    print('[plot the testing regularization loss]')\n",
        "    print('') \n",
        "    \n",
        "    plot_curve_error(loss_regularization_mean_test, loss_regularization_std_test, 'epoch', 'loss', 'testing loss (regularization)')"
      ],
      "execution_count": null,
      "outputs": []
    },
    {
      "cell_type": "code",
      "metadata": {
        "id": "gHDnt4ndA9Km"
      },
      "source": [
        "def function_result_12():\n",
        "    \n",
        "    print('[plot the testing PSNR]') \n",
        "    print('') \n",
        "    \n",
        "    plot_curve_error(PSNR_mean_test, PSNR_std_test, 'epoch', 'PSNR', 'testing PSNR')"
      ],
      "execution_count": null,
      "outputs": []
    },
    {
      "cell_type": "code",
      "metadata": {
        "id": "1HlkP764A9Km"
      },
      "source": [
        "def function_result_13():\n",
        "    \n",
        "    print('[print the training loss (mean) at the last 10 epochs]')\n",
        "    print('') \n",
        "\n",
        "    data_last = get_data_last(loss_mean_train, -10)\n",
        "    index = np.arange(0, 10)\n",
        "    print_curve(data_last, index)"
      ],
      "execution_count": null,
      "outputs": []
    },
    {
      "cell_type": "code",
      "metadata": {
        "id": "0JAxHIggA9Kn"
      },
      "source": [
        "def function_result_14():\n",
        "    \n",
        "    print('[print the training PSNR (mean) at the last 10 epochs]')\n",
        "    print('') \n",
        "    \n",
        "    data_last = get_data_last(PSNR_mean_train, -10)\n",
        "    index = np.arange(0, 10)\n",
        "    print_curve(data_last, index)"
      ],
      "execution_count": null,
      "outputs": []
    },
    {
      "cell_type": "code",
      "metadata": {
        "id": "YHP4nAgxA9Kn"
      },
      "source": [
        "def function_result_15():\n",
        "    \n",
        "    print('[print the testing loss (mean) at the last 10 epochs]')\n",
        "    print('') \n",
        "    \n",
        "    data_last = get_data_last(loss_mean_test, -10)\n",
        "    index = np.arange(0, 10)\n",
        "    print_curve(data_last, index)"
      ],
      "execution_count": null,
      "outputs": []
    },
    {
      "cell_type": "code",
      "metadata": {
        "id": "lslaY-A1A9Ko"
      },
      "source": [
        "def function_result_16():\n",
        "    \n",
        "    print('[print the testing PSNR (mean) at the last 10 epochs]')\n",
        "    print('') \n",
        "    \n",
        "    data_last = get_data_last(PSNR_mean_test, -10)\n",
        "    index = np.arange(0, 10)\n",
        "    print_curve(data_last, index)"
      ],
      "execution_count": null,
      "outputs": []
    },
    {
      "cell_type": "code",
      "metadata": {
        "id": "G_xYLoXkA9Ko"
      },
      "source": [
        "def function_result_17():\n",
        "    \n",
        "    print('[print the best training PSNR (mean) within the last 10 epochs]')\n",
        "    print('') \n",
        "\n",
        "    value = get_max_last_range(PSNR_mean_train, -10)\n",
        "    print('best training PSNR = %12.10f' % (value))"
      ],
      "execution_count": null,
      "outputs": []
    },
    {
      "cell_type": "code",
      "metadata": {
        "id": "-d0Zf7lsA9Ko"
      },
      "source": [
        "def function_result_18():\n",
        "    \n",
        "    print('[print the best testing PSNR (mean) within the last 10 epochs]')\n",
        "    print('') \n",
        "    \n",
        "    value = get_max_last_range(PSNR_mean_test, -10)\n",
        "    print('best testing PSNR = %12.10f' % (value))"
      ],
      "execution_count": null,
      "outputs": []
    },
    {
      "cell_type": "markdown",
      "metadata": {
        "id": "8-Nw6A2jA9Kp"
      },
      "source": [
        "---"
      ]
    },
    {
      "cell_type": "markdown",
      "metadata": {
        "id": "Oa6-Ktz8A9Kp"
      },
      "source": [
        "# RESULTS"
      ]
    },
    {
      "cell_type": "markdown",
      "metadata": {
        "id": "AHREmjnvA9Kp"
      },
      "source": [
        "---"
      ]
    },
    {
      "cell_type": "code",
      "metadata": {
        "id": "3cGBA-ccA9Kp"
      },
      "source": [
        "number_result = 18\n",
        "\n",
        "for i in range(number_result):\n",
        "\n",
        "    title           = '# RESULT # {:02d}'.format(i+1) \n",
        "    name_function   = 'function_result_{:02d}()'.format(i+1)\n",
        "\n",
        "    print('') \n",
        "    print('################################################################################')\n",
        "    print('#') \n",
        "    print(title)\n",
        "    print('#') \n",
        "    print('################################################################################')\n",
        "    print('') \n",
        "\n",
        "    eval(name_function)"
      ],
      "execution_count": null,
      "outputs": []
    },
    {
      "cell_type": "code",
      "metadata": {
        "id": "MjCUpOCI0gzH"
      },
      "source": [
        ""
      ],
      "execution_count": null,
      "outputs": []
    },
    {
      "cell_type": "code",
      "metadata": {
        "id": "ZPqP95L2U2Mh"
      },
      "source": [
        ""
      ],
      "execution_count": null,
      "outputs": []
    }
  ]
}