{
  "nbformat": 4,
  "nbformat_minor": 0,
  "metadata": {
    "colab": {
      "name": "assignment_02.ipynb",
      "provenance": [],
      "collapsed_sections": [],
      "machine_shape": "hm"
    },
    "interpreter": {
      "hash": "17ed1555cfbb96ddcf655400d6c25a9cebe961c1b69daf25bae91d698acdd2a7"
    },
    "kernelspec": {
      "display_name": "Python 3.8.12 64-bit ('hsh': conda)",
      "name": "python3"
    },
    "language_info": {
      "codemirror_mode": {
        "name": "ipython",
        "version": 3
      },
      "file_extension": ".py",
      "mimetype": "text/x-python",
      "name": "python",
      "nbconvert_exporter": "python",
      "pygments_lexer": "ipython3",
      "version": "3.8.8"
    },
    "accelerator": "GPU",
    "widgets": {
      "application/vnd.jupyter.widget-state+json": {
        "453e0c683b0243e086a588901bfabb6e": {
          "model_module": "@jupyter-widgets/controls",
          "model_name": "HBoxModel",
          "model_module_version": "1.5.0",
          "state": {
            "_view_name": "HBoxView",
            "_dom_classes": [],
            "_model_name": "HBoxModel",
            "_view_module": "@jupyter-widgets/controls",
            "_model_module_version": "1.5.0",
            "_view_count": null,
            "_view_module_version": "1.5.0",
            "box_style": "",
            "layout": "IPY_MODEL_805aed9b41bc4975ba5b0c89a96c7e3a",
            "_model_module": "@jupyter-widgets/controls",
            "children": [
              "IPY_MODEL_9cf27d9f997c40d9a78bf72e29012d0a",
              "IPY_MODEL_9d592fe3321b4984838b079a442756c0",
              "IPY_MODEL_33e64f25f21449b5baf7a4f03571ee56"
            ]
          }
        },
        "805aed9b41bc4975ba5b0c89a96c7e3a": {
          "model_module": "@jupyter-widgets/base",
          "model_name": "LayoutModel",
          "model_module_version": "1.2.0",
          "state": {
            "_view_name": "LayoutView",
            "grid_template_rows": null,
            "right": null,
            "justify_content": null,
            "_view_module": "@jupyter-widgets/base",
            "overflow": null,
            "_model_module_version": "1.2.0",
            "_view_count": null,
            "flex_flow": null,
            "width": null,
            "min_width": null,
            "border": null,
            "align_items": null,
            "bottom": null,
            "_model_module": "@jupyter-widgets/base",
            "top": null,
            "grid_column": null,
            "overflow_y": null,
            "overflow_x": null,
            "grid_auto_flow": null,
            "grid_area": null,
            "grid_template_columns": null,
            "flex": null,
            "_model_name": "LayoutModel",
            "justify_items": null,
            "grid_row": null,
            "max_height": null,
            "align_content": null,
            "visibility": null,
            "align_self": null,
            "height": null,
            "min_height": null,
            "padding": null,
            "grid_auto_rows": null,
            "grid_gap": null,
            "max_width": null,
            "order": null,
            "_view_module_version": "1.2.0",
            "grid_template_areas": null,
            "object_position": null,
            "object_fit": null,
            "grid_auto_columns": null,
            "margin": null,
            "display": null,
            "left": null
          }
        },
        "9cf27d9f997c40d9a78bf72e29012d0a": {
          "model_module": "@jupyter-widgets/controls",
          "model_name": "HTMLModel",
          "model_module_version": "1.5.0",
          "state": {
            "_view_name": "HTMLView",
            "style": "IPY_MODEL_e996a7910f664dd08315d49779d8d8eb",
            "_dom_classes": [],
            "description": "",
            "_model_name": "HTMLModel",
            "placeholder": "​",
            "_view_module": "@jupyter-widgets/controls",
            "_model_module_version": "1.5.0",
            "value": " 69%",
            "_view_count": null,
            "_view_module_version": "1.5.0",
            "description_tooltip": null,
            "_model_module": "@jupyter-widgets/controls",
            "layout": "IPY_MODEL_de93f8d944c94341b15e63aec0007d96"
          }
        },
        "9d592fe3321b4984838b079a442756c0": {
          "model_module": "@jupyter-widgets/controls",
          "model_name": "FloatProgressModel",
          "model_module_version": "1.5.0",
          "state": {
            "_view_name": "ProgressView",
            "style": "IPY_MODEL_5b3f9f113f2645cea29ca3384b4ffb40",
            "_dom_classes": [],
            "description": "",
            "_model_name": "FloatProgressModel",
            "bar_style": "",
            "max": 100,
            "_view_module": "@jupyter-widgets/controls",
            "_model_module_version": "1.5.0",
            "value": 69,
            "_view_count": null,
            "_view_module_version": "1.5.0",
            "orientation": "horizontal",
            "min": 0,
            "description_tooltip": null,
            "_model_module": "@jupyter-widgets/controls",
            "layout": "IPY_MODEL_733d3278cde74b248019e0d2618a4ff9"
          }
        },
        "33e64f25f21449b5baf7a4f03571ee56": {
          "model_module": "@jupyter-widgets/controls",
          "model_name": "HTMLModel",
          "model_module_version": "1.5.0",
          "state": {
            "_view_name": "HTMLView",
            "style": "IPY_MODEL_dd44ad10ae0049bba391211f85a69994",
            "_dom_classes": [],
            "description": "",
            "_model_name": "HTMLModel",
            "placeholder": "​",
            "_view_module": "@jupyter-widgets/controls",
            "_model_module_version": "1.5.0",
            "value": " 69/100 [10:44&lt;04:49,  9.33s/it]",
            "_view_count": null,
            "_view_module_version": "1.5.0",
            "description_tooltip": null,
            "_model_module": "@jupyter-widgets/controls",
            "layout": "IPY_MODEL_34115f2155a44b5db67ca3102e810cb1"
          }
        },
        "e996a7910f664dd08315d49779d8d8eb": {
          "model_module": "@jupyter-widgets/controls",
          "model_name": "DescriptionStyleModel",
          "model_module_version": "1.5.0",
          "state": {
            "_view_name": "StyleView",
            "_model_name": "DescriptionStyleModel",
            "description_width": "",
            "_view_module": "@jupyter-widgets/base",
            "_model_module_version": "1.5.0",
            "_view_count": null,
            "_view_module_version": "1.2.0",
            "_model_module": "@jupyter-widgets/controls"
          }
        },
        "de93f8d944c94341b15e63aec0007d96": {
          "model_module": "@jupyter-widgets/base",
          "model_name": "LayoutModel",
          "model_module_version": "1.2.0",
          "state": {
            "_view_name": "LayoutView",
            "grid_template_rows": null,
            "right": null,
            "justify_content": null,
            "_view_module": "@jupyter-widgets/base",
            "overflow": null,
            "_model_module_version": "1.2.0",
            "_view_count": null,
            "flex_flow": null,
            "width": null,
            "min_width": null,
            "border": null,
            "align_items": null,
            "bottom": null,
            "_model_module": "@jupyter-widgets/base",
            "top": null,
            "grid_column": null,
            "overflow_y": null,
            "overflow_x": null,
            "grid_auto_flow": null,
            "grid_area": null,
            "grid_template_columns": null,
            "flex": null,
            "_model_name": "LayoutModel",
            "justify_items": null,
            "grid_row": null,
            "max_height": null,
            "align_content": null,
            "visibility": null,
            "align_self": null,
            "height": null,
            "min_height": null,
            "padding": null,
            "grid_auto_rows": null,
            "grid_gap": null,
            "max_width": null,
            "order": null,
            "_view_module_version": "1.2.0",
            "grid_template_areas": null,
            "object_position": null,
            "object_fit": null,
            "grid_auto_columns": null,
            "margin": null,
            "display": null,
            "left": null
          }
        },
        "5b3f9f113f2645cea29ca3384b4ffb40": {
          "model_module": "@jupyter-widgets/controls",
          "model_name": "ProgressStyleModel",
          "model_module_version": "1.5.0",
          "state": {
            "_view_name": "StyleView",
            "_model_name": "ProgressStyleModel",
            "description_width": "",
            "_view_module": "@jupyter-widgets/base",
            "_model_module_version": "1.5.0",
            "_view_count": null,
            "_view_module_version": "1.2.0",
            "bar_color": null,
            "_model_module": "@jupyter-widgets/controls"
          }
        },
        "733d3278cde74b248019e0d2618a4ff9": {
          "model_module": "@jupyter-widgets/base",
          "model_name": "LayoutModel",
          "model_module_version": "1.2.0",
          "state": {
            "_view_name": "LayoutView",
            "grid_template_rows": null,
            "right": null,
            "justify_content": null,
            "_view_module": "@jupyter-widgets/base",
            "overflow": null,
            "_model_module_version": "1.2.0",
            "_view_count": null,
            "flex_flow": null,
            "width": null,
            "min_width": null,
            "border": null,
            "align_items": null,
            "bottom": null,
            "_model_module": "@jupyter-widgets/base",
            "top": null,
            "grid_column": null,
            "overflow_y": null,
            "overflow_x": null,
            "grid_auto_flow": null,
            "grid_area": null,
            "grid_template_columns": null,
            "flex": null,
            "_model_name": "LayoutModel",
            "justify_items": null,
            "grid_row": null,
            "max_height": null,
            "align_content": null,
            "visibility": null,
            "align_self": null,
            "height": null,
            "min_height": null,
            "padding": null,
            "grid_auto_rows": null,
            "grid_gap": null,
            "max_width": null,
            "order": null,
            "_view_module_version": "1.2.0",
            "grid_template_areas": null,
            "object_position": null,
            "object_fit": null,
            "grid_auto_columns": null,
            "margin": null,
            "display": null,
            "left": null
          }
        },
        "dd44ad10ae0049bba391211f85a69994": {
          "model_module": "@jupyter-widgets/controls",
          "model_name": "DescriptionStyleModel",
          "model_module_version": "1.5.0",
          "state": {
            "_view_name": "StyleView",
            "_model_name": "DescriptionStyleModel",
            "description_width": "",
            "_view_module": "@jupyter-widgets/base",
            "_model_module_version": "1.5.0",
            "_view_count": null,
            "_view_module_version": "1.2.0",
            "_model_module": "@jupyter-widgets/controls"
          }
        },
        "34115f2155a44b5db67ca3102e810cb1": {
          "model_module": "@jupyter-widgets/base",
          "model_name": "LayoutModel",
          "model_module_version": "1.2.0",
          "state": {
            "_view_name": "LayoutView",
            "grid_template_rows": null,
            "right": null,
            "justify_content": null,
            "_view_module": "@jupyter-widgets/base",
            "overflow": null,
            "_model_module_version": "1.2.0",
            "_view_count": null,
            "flex_flow": null,
            "width": null,
            "min_width": null,
            "border": null,
            "align_items": null,
            "bottom": null,
            "_model_module": "@jupyter-widgets/base",
            "top": null,
            "grid_column": null,
            "overflow_y": null,
            "overflow_x": null,
            "grid_auto_flow": null,
            "grid_area": null,
            "grid_template_columns": null,
            "flex": null,
            "_model_name": "LayoutModel",
            "justify_items": null,
            "grid_row": null,
            "max_height": null,
            "align_content": null,
            "visibility": null,
            "align_self": null,
            "height": null,
            "min_height": null,
            "padding": null,
            "grid_auto_rows": null,
            "grid_gap": null,
            "max_width": null,
            "order": null,
            "_view_module_version": "1.2.0",
            "grid_template_areas": null,
            "object_position": null,
            "object_fit": null,
            "grid_auto_columns": null,
            "margin": null,
            "display": null,
            "left": null
          }
        }
      }
    }
  },
  "cells": [
    {
      "cell_type": "markdown",
      "metadata": {
        "id": "K29I-OwCEYzW",
        "outputId": "db8b297c-a4b8-457a-b43f-7570135306c7"
      },
      "source": [
        "# Image De-blurring by Supervised Learning"
      ]
    },
    {
      "cell_type": "markdown",
      "metadata": {
        "id": "a6yVaO6Miinh"
      },
      "source": [
        "## import libraries"
      ]
    },
    {
      "cell_type": "code",
      "metadata": {
        "id": "GVzeQz6xiini"
      },
      "source": [
        "import torch\n",
        "import torch.nn as nn\n",
        "import torch.nn.functional as F\n",
        "import torchvision\n",
        "from torch.utils.data import Dataset\n",
        "from torch.utils.data import DataLoader\n",
        "from torchvision import datasets, transforms\n",
        "import numpy as np\n",
        "import matplotlib.pyplot as plt\n",
        "import math\n",
        "from math import log10\n",
        "from tqdm import tqdm, tqdm_notebook\n",
        "import random\n",
        "import os"
      ],
      "execution_count": 1,
      "outputs": []
    },
    {
      "cell_type": "markdown",
      "metadata": {
        "id": "XjATHJULiinj"
      },
      "source": [
        "## load data"
      ]
    },
    {
      "cell_type": "code",
      "metadata": {
        "id": "KhbJoC2miink",
        "outputId": "15a2a70b-b220-47dc-88d4-b7bb8943b0e1",
        "colab": {
          "base_uri": "https://localhost:8080/"
        }
      },
      "source": [
        "from google.colab import drive \n",
        "drive.mount('/content/drive/')\n",
        "\n",
        "directory_data  = './drive/MyDrive/Machine_Learning/'\n",
        "filename_data   = 'assignment_11_data.npz'\n",
        "data            = np.load(os.path.join(directory_data, filename_data))\n",
        "\n",
        "original_train  = data['original_train']\n",
        "blur_train      = data['blur_train']\n",
        "\n",
        "original_test   = data['original_test']\n",
        "blur_test       = data['blur_test']\n",
        "\n",
        "num_data_train  = original_train.shape[0]\n",
        "num_data_test   = original_test.shape[0]\n",
        "\n",
        "print('*************************************************')\n",
        "print('size of original_train :', original_train.shape)\n",
        "print('size of blur_train :', blur_train.shape)\n",
        "print('*************************************************')\n",
        "print('size of original_test :', original_test.shape)\n",
        "print('size of blur_test :', blur_test.shape)\n",
        "print('*************************************************')\n",
        "print('number of training image :', original_train.shape[0])\n",
        "print('height of training image :', original_train.shape[1])\n",
        "print('width of training image :', original_train.shape[2])\n",
        "print('*************************************************')\n",
        "print('number of testing image :', original_test.shape[0])\n",
        "print('height of testing image :', original_test.shape[1])\n",
        "print('width of testing image :', original_test.shape[2])\n",
        "print('*************************************************')"
      ],
      "execution_count": 2,
      "outputs": [
        {
          "output_type": "stream",
          "name": "stdout",
          "text": [
            "Drive already mounted at /content/drive/; to attempt to forcibly remount, call drive.mount(\"/content/drive/\", force_remount=True).\n",
            "*************************************************\n",
            "size of original_train : (200, 256, 256)\n",
            "size of blur_train : (200, 256, 256)\n",
            "*************************************************\n",
            "size of original_test : (100, 256, 256)\n",
            "size of blur_test : (100, 256, 256)\n",
            "*************************************************\n",
            "number of training image : 200\n",
            "height of training image : 256\n",
            "width of training image : 256\n",
            "*************************************************\n",
            "number of testing image : 100\n",
            "height of testing image : 256\n",
            "width of testing image : 256\n",
            "*************************************************\n"
          ]
        }
      ]
    },
    {
      "cell_type": "markdown",
      "metadata": {
        "id": "P6eQd9Uwiinm"
      },
      "source": [
        "## hyper-parameters"
      ]
    },
    {
      "cell_type": "code",
      "metadata": {
        "id": "9sIADL6wiinm"
      },
      "source": [
        "device          = torch.device('cuda' if torch.cuda.is_available() else 'cpu')\n",
        "\n",
        "number_epoch    = 100\n",
        "size_minibatch  = 50\n",
        "learning_rate   = 0.05\n",
        "weight_decay    = 0.000001"
      ],
      "execution_count": 3,
      "outputs": []
    },
    {
      "cell_type": "markdown",
      "metadata": {
        "id": "DdIukf5Niinn"
      },
      "source": [
        "## custom data loader for the PyTorch framework"
      ]
    },
    {
      "cell_type": "code",
      "metadata": {
        "id": "O1nqMQq5iinn"
      },
      "source": [
        "class dataset(Dataset):\n",
        "    \n",
        "    def __init__(self, original, blur, transform=False):\n",
        "        \n",
        "        self.original   = original\n",
        "        self.blur       = blur \n",
        "        self.transform = transform\n",
        "    \n",
        "    def __getitem__(self, index):\n",
        "        \n",
        "        original    = self.original[index]\n",
        "        blur        = self.blur[index]\n",
        "        \n",
        "        original    = torch.FloatTensor(original).unsqueeze(dim=0)\n",
        "        blur        = torch.FloatTensor(blur).unsqueeze(dim=0)\n",
        "\n",
        "        if self.transform:\n",
        "\n",
        "            crop_size = [128, 128]\n",
        "            # random crop\n",
        "            top         = random.randint(0, original.shape[1] - crop_size[0])\n",
        "            left        = random.randint(0, original.shape[2] - crop_size[1])\n",
        "            original    = transforms.functional.crop(original, top, left, crop_size[0], crop_size[1])\n",
        "            blur        = transforms.functional.crop(blur, top, left, crop_size[0], crop_size[1])\n",
        "            \n",
        "            # random horizontal flip\n",
        "            if random.random() > 0.5: \n",
        "                original = transforms.functional.hflip(original)\n",
        "                blur = transforms.functional.hflip(blur)\n",
        "\n",
        "            # random vertical flip\n",
        "            if random.random() > 0.5: \n",
        "                original = transforms.functional.vflip(original)\n",
        "                blur = transforms.functional.vflip(blur)\n",
        "\n",
        "        return (original, blur)\n",
        "    \n",
        "    def __len__(self):\n",
        "        \n",
        "        return self.original.shape[0]"
      ],
      "execution_count": 4,
      "outputs": []
    },
    {
      "cell_type": "markdown",
      "metadata": {
        "id": "G4YqJuBMiino"
      },
      "source": [
        "## construct datasets and dataloaders for training and testing"
      ]
    },
    {
      "cell_type": "code",
      "metadata": {
        "id": "s7AKae9Giinp"
      },
      "source": [
        "dataset_train_transform = dataset(original_train, blur_train, transform=True)\n",
        "dataset_train           = dataset(original_train, blur_train)\n",
        "dataset_test            = dataset(original_test, blur_test)\n",
        "\n",
        "dataloader_train_transform  = DataLoader(dataset_train_transform, batch_size=size_minibatch, shuffle=True, drop_last=True)\n",
        "dataloader_train            = DataLoader(dataset_train, batch_size=1, shuffle=False, drop_last=True)\n",
        "dataloader_test             = DataLoader(dataset_test, batch_size=1, shuffle=False, drop_last=True)"
      ],
      "execution_count": 5,
      "outputs": []
    },
    {
      "cell_type": "markdown",
      "metadata": {
        "id": "5E-WmRRmiinp"
      },
      "source": [
        "## shape of the data when using the data loader"
      ]
    },
    {
      "cell_type": "code",
      "metadata": {
        "id": "F-Rn4h5Piinq",
        "outputId": "7f45c498-b3c9-47ec-d41b-0c3cb1672dc2",
        "colab": {
          "base_uri": "https://localhost:8080/"
        }
      },
      "source": [
        "(original_train, blur_train)  = dataset_train[0]\n",
        "(original_test, blur_test)    = dataset_test[0]\n",
        "(original_train_transform, blur_train_transform)  = dataset_train_transform[0]\n",
        "print('*******************************************************************')\n",
        "print('shape of the original in the training dataset:', original_train.shape)\n",
        "print('shape of the blur in the training dataset:', blur_train.shape)\n",
        "print('*******************************************************************')\n",
        "print('shape of the original in the testing dataset:', original_test.shape)\n",
        "print('shape of the blur in the testing dataset:', blur_test.shape)\n",
        "print('*******************************************************************')\n",
        "print('shape of the original in the training transform dataset:', original_train_transform.shape)\n",
        "print('shape of the blur in the training transform dataset:', blur_train_transform.shape)\n",
        "print('*******************************************************************')"
      ],
      "execution_count": 6,
      "outputs": [
        {
          "output_type": "stream",
          "name": "stdout",
          "text": [
            "*******************************************************************\n",
            "shape of the original in the training dataset: torch.Size([1, 256, 256])\n",
            "shape of the blur in the training dataset: torch.Size([1, 256, 256])\n",
            "*******************************************************************\n",
            "shape of the original in the testing dataset: torch.Size([1, 256, 256])\n",
            "shape of the blur in the testing dataset: torch.Size([1, 256, 256])\n",
            "*******************************************************************\n",
            "shape of the original in the training transform dataset: torch.Size([1, 128, 128])\n",
            "shape of the blur in the training transform dataset: torch.Size([1, 128, 128])\n",
            "*******************************************************************\n"
          ]
        }
      ]
    },
    {
      "cell_type": "markdown",
      "metadata": {
        "id": "BKuKatRfiinr"
      },
      "source": [
        "## class for the neural network "
      ]
    },
    {
      "cell_type": "code",
      "metadata": {
        "id": "6EkSWG7vkMKa"
      },
      "source": [
        "class conv2DBatchNormRelu(nn.Module):\n",
        "    def __init__(\n",
        "            self,\n",
        "            in_channels,\n",
        "            n_filters,\n",
        "            k_size,\n",
        "            stride,\n",
        "            padding,\n",
        "            bias=True,\n",
        "            dilation=1,\n",
        "            with_bn=True,\n",
        "    ):\n",
        "        super(conv2DBatchNormRelu, self).__init__()\n",
        "\n",
        "        conv_mod = nn.Conv2d(int(in_channels),\n",
        "                             int(n_filters),\n",
        "                             kernel_size=k_size,\n",
        "                             padding=padding,\n",
        "                             stride=stride,\n",
        "                             bias=bias,\n",
        "                             dilation=dilation, )\n",
        "\n",
        "        if with_bn:\n",
        "            self.cbr_unit = nn.Sequential(conv_mod,\n",
        "                                          nn.BatchNorm2d(int(n_filters)),\n",
        "                                          nn.ReLU(inplace=True))\n",
        "        else:\n",
        "            self.cbr_unit = nn.Sequential(conv_mod, nn.ReLU(inplace=True))\n",
        "\n",
        "    def forward(self, inputs):\n",
        "        outputs = self.cbr_unit(inputs)\n",
        "        return outputs\n",
        "\n",
        "\n",
        "class segnetDown2(nn.Module):\n",
        "    def __init__(self, in_size, out_size):\n",
        "        super(segnetDown2, self).__init__()\n",
        "        self.conv1 = conv2DBatchNormRelu(in_size, out_size, 3, 1, 1)\n",
        "        self.conv2 = conv2DBatchNormRelu(out_size, out_size, 3, 1, 1)\n",
        "        self.maxpool_with_argmax = nn.MaxPool2d(2, 2, return_indices=True)\n",
        "\n",
        "    def forward(self, inputs):\n",
        "        outputs = self.conv1(inputs)\n",
        "        outputs = self.conv2(outputs)\n",
        "        unpooled_shape = outputs.size()\n",
        "        outputs, indices = self.maxpool_with_argmax(outputs)\n",
        "        return outputs, indices, unpooled_shape\n",
        "\n",
        "\n",
        "class segnetDown3(nn.Module):\n",
        "    def __init__(self, in_size, out_size):\n",
        "        super(segnetDown3, self).__init__()\n",
        "        self.conv1 = conv2DBatchNormRelu(in_size, out_size, 3, 1, 1)\n",
        "        self.conv2 = conv2DBatchNormRelu(out_size, out_size, 3, 1, 1)\n",
        "        self.conv3 = conv2DBatchNormRelu(out_size, out_size, 3, 1, 1)\n",
        "        self.maxpool_with_argmax = nn.MaxPool2d(2, 2, return_indices=True)\n",
        "\n",
        "    def forward(self, inputs):\n",
        "        outputs = self.conv1(inputs)\n",
        "        outputs = self.conv2(outputs)\n",
        "        outputs = self.conv3(outputs)\n",
        "        unpooled_shape = outputs.size()\n",
        "        outputs, indices = self.maxpool_with_argmax(outputs)\n",
        "        return outputs, indices, unpooled_shape\n",
        "\n",
        "\n",
        "class segnetUp2(nn.Module):\n",
        "    def __init__(self, in_size, out_size):\n",
        "        super(segnetUp2, self).__init__()\n",
        "        self.unpool = nn.MaxUnpool2d(2, 2)\n",
        "        self.conv1 = conv2DBatchNormRelu(in_size, in_size, 3, 1, 1)\n",
        "        self.conv2 = conv2DBatchNormRelu(in_size, out_size, 3, 1, 1)\n",
        "\n",
        "    def forward(self, inputs, indices, output_shape):\n",
        "        outputs = self.unpool(input=inputs, indices=indices, output_size=output_shape)\n",
        "        outputs = self.conv1(outputs)\n",
        "        outputs = self.conv2(outputs)\n",
        "        return outputs\n",
        "\n",
        "\n",
        "class segnetUp3(nn.Module):\n",
        "    def __init__(self, in_size, out_size):\n",
        "        super(segnetUp3, self).__init__()\n",
        "        self.unpool = nn.MaxUnpool2d(2, 2)\n",
        "        self.conv1 = conv2DBatchNormRelu(in_size, in_size, 3, 1, 1)\n",
        "        self.conv2 = conv2DBatchNormRelu(in_size, in_size, 3, 1, 1)\n",
        "        self.conv3 = conv2DBatchNormRelu(in_size, out_size, 3, 1, 1)\n",
        "\n",
        "    def forward(self, inputs, indices, output_shape):\n",
        "        outputs = self.unpool(input=inputs, indices=indices, output_size=output_shape)\n",
        "        outputs = self.conv1(outputs)\n",
        "        outputs = self.conv2(outputs)\n",
        "        outputs = self.conv3(outputs)\n",
        "        return outputs\n",
        "\n",
        "\n",
        "class SegNet(nn.Module):\n",
        "    def __init__(self, n_classes=1, in_channels=1, is_unpooling=True):\n",
        "        super(SegNet, self).__init__()\n",
        "\n",
        "        self.in_channels = in_channels\n",
        "        self.is_unpooling = is_unpooling\n",
        "\n",
        "        self.down1 = segnetDown2(self.in_channels, 128)\n",
        "        self.down2 = segnetDown2(128, 256)\n",
        "        self.down3 = segnetDown3(256, 512)\n",
        "        self.down4 = segnetDown3(512, 1024)\n",
        "        self.down5 = segnetDown3(1024, 2048)\n",
        "\n",
        "        self.up5 = segnetUp3(2048, 1024)\n",
        "        self.up4 = segnetUp3(1024, 512)\n",
        "        self.up3 = segnetUp3(512, 256)\n",
        "        self.up2 = segnetUp2(256, 128)\n",
        "        self.up1 = segnetUp2(128, n_classes)\n",
        "\n",
        "    def forward(self, inputs):\n",
        "\n",
        "        down1, indices_1, unpool_shape1 = self.down1(inputs)\n",
        "        down2, indices_2, unpool_shape2 = self.down2(down1)\n",
        "        down3, indices_3, unpool_shape3 = self.down3(down2)\n",
        "        down4, indices_4, unpool_shape4 = self.down4(down3)\n",
        "        down5, indices_5, unpool_shape5 = self.down5(down4)\n",
        "\n",
        "        up5 = self.up5(down5, indices_5, unpool_shape5)\n",
        "        up4 = self.up4(up5, indices_4, unpool_shape4)\n",
        "        up3 = self.up3(up4, indices_3, unpool_shape3)\n",
        "        up2 = self.up2(up3, indices_2, unpool_shape2)\n",
        "        up1 = self.up1(up2, indices_1, unpool_shape1)\n",
        "\n",
        "        return up1"
      ],
      "execution_count": 7,
      "outputs": []
    },
    {
      "cell_type": "markdown",
      "metadata": {
        "id": "Mg7VWL9Miint"
      },
      "source": [
        "## build network"
      ]
    },
    {
      "cell_type": "code",
      "metadata": {
        "id": "_hlDVgAXiint"
      },
      "source": [
        "model       = SegNet().to(device)\n",
        "optimizer   = torch.optim.Adam(model.parameters(), lr=learning_rate)"
      ],
      "execution_count": 8,
      "outputs": []
    },
    {
      "cell_type": "markdown",
      "metadata": {
        "id": "DTXFg_fwiinu"
      },
      "source": [
        "## compute the prediction"
      ]
    },
    {
      "cell_type": "code",
      "metadata": {
        "id": "7nKrCq5Biinu"
      },
      "source": [
        "def compute_prediction(model, input):\n",
        "    # ==================================================\n",
        "    # fill up the blank\n",
        "    #\n",
        "    prediction = model(input)\n",
        "    # \n",
        "    # ==================================================\n",
        "\n",
        "    return prediction"
      ],
      "execution_count": 9,
      "outputs": []
    },
    {
      "cell_type": "markdown",
      "metadata": {
        "id": "z3oIYUXkiinv"
      },
      "source": [
        "## compute the loss"
      ]
    },
    {
      "cell_type": "code",
      "metadata": {
        "id": "6Kt3dsKaiinv"
      },
      "source": [
        "def compute_loss(prediction, label):\n",
        "    # ==================================================\n",
        "    # fill up the blank\n",
        "    #\n",
        "    criterion   = nn.MSELoss()\n",
        "    # \n",
        "    # ==================================================\n",
        "    loss        = criterion(prediction, label)\n",
        "\n",
        "    return loss"
      ],
      "execution_count": 10,
      "outputs": []
    },
    {
      "cell_type": "markdown",
      "metadata": {
        "id": "JUwA_jejiinw"
      },
      "source": [
        "## compute the accuracy"
      ]
    },
    {
      "cell_type": "code",
      "metadata": {
        "id": "Rssnwimtiinw"
      },
      "source": [
        "def compute_accuracy(prediction, label):\n",
        "\n",
        "    prediction  = prediction.squeeze(axis=1)\n",
        "    label       = label.squeeze(axis=1)\n",
        "    mse_loss    = torch.mean((prediction - label) ** 2)\n",
        "\n",
        "    if mse_loss == 0.0:\n",
        "        psnr = 100\n",
        "    else:\n",
        "        psnr = 10 * torch.log10(1 / mse_loss)\n",
        "\n",
        "    psnr = psnr.item()\n",
        "    \n",
        "    return psnr"
      ],
      "execution_count": 11,
      "outputs": []
    },
    {
      "cell_type": "markdown",
      "metadata": {
        "id": "m61bwiE5iinx"
      },
      "source": [
        "## variables for the learning curve"
      ]
    },
    {
      "cell_type": "code",
      "metadata": {
        "id": "FhwZv7mciinx"
      },
      "source": [
        "loss_mean_train     = np.zeros(number_epoch)\n",
        "loss_std_train      = np.zeros(number_epoch)\n",
        "accuracy_mean_train = np.zeros(number_epoch)\n",
        "accuracy_std_train  = np.zeros(number_epoch)\n",
        "\n",
        "loss_mean_test      = np.zeros(number_epoch)\n",
        "loss_std_test       = np.zeros(number_epoch)\n",
        "accuracy_mean_test  = np.zeros(number_epoch)\n",
        "accuracy_std_test   = np.zeros(number_epoch)"
      ],
      "execution_count": 12,
      "outputs": []
    },
    {
      "cell_type": "markdown",
      "metadata": {
        "id": "b1K0w-Amiinx"
      },
      "source": [
        "## train"
      ]
    },
    {
      "cell_type": "code",
      "metadata": {
        "id": "Er1jYEpwiiny"
      },
      "source": [
        "def train(model, dataloader):\n",
        "\n",
        "    loss_epoch      = []\n",
        "    accuracy_epoch  = []\n",
        "\n",
        "    model.train()\n",
        "\n",
        "    for index_batch, (original, blur) in enumerate(dataloader):\n",
        "\n",
        "        original    = original.to(device)\n",
        "        blur        = blur.to(device)\n",
        "        \n",
        "        prediction  = compute_prediction(model, blur)\n",
        "        loss        = compute_loss(prediction, original)\n",
        "        accuracy    = compute_accuracy(prediction, original)\n",
        "\n",
        "        optimizer.zero_grad()\n",
        "        loss.backward()\n",
        "        optimizer.step()\n",
        "\n",
        "        loss_epoch.append(loss.item())\n",
        "        accuracy_epoch.append(accuracy)\n",
        "\n",
        "    loss_mean_epoch     = np.mean(loss_epoch)\n",
        "    loss_std_epoch      = np.std(loss_epoch)\n",
        "\n",
        "    accuracy_mean_epoch = np.mean(accuracy_epoch)\n",
        "    accuracy_std_epoch  = np.std(accuracy_epoch)\n",
        "\n",
        "    loss        = {'mean' : loss_mean_epoch, 'std' : loss_std_epoch}\n",
        "    accuracy    = {'mean' : accuracy_mean_epoch, 'std' : accuracy_std_epoch}\n",
        "\n",
        "    return (loss, accuracy)    \n"
      ],
      "execution_count": 13,
      "outputs": []
    },
    {
      "cell_type": "markdown",
      "metadata": {
        "id": "QhzUUjuYiiny"
      },
      "source": [
        "## test"
      ]
    },
    {
      "cell_type": "code",
      "metadata": {
        "id": "lf1itAEKiiny"
      },
      "source": [
        "def test(model, dataloader):\n",
        "\n",
        "    loss_epoch      = []\n",
        "    accuracy_epoch  = []\n",
        "\n",
        "    model.eval()\n",
        "\n",
        "    for index_batch, (original, blur) in enumerate(dataloader):\n",
        "\n",
        "        original    = original.to(device)\n",
        "        blur        = blur.to(device)\n",
        "        \n",
        "        prediction  = compute_prediction(model, blur)\n",
        "        loss        = compute_loss(prediction, original)\n",
        "        accuracy    = compute_accuracy(prediction, original)\n",
        "\n",
        "        loss_epoch.append(loss.item())\n",
        "        accuracy_epoch.append(accuracy)\n",
        "\n",
        "    loss_mean_epoch     = np.mean(loss_epoch)\n",
        "    loss_std_epoch      = np.std(loss_epoch)\n",
        "\n",
        "    accuracy_mean_epoch = np.mean(accuracy_epoch)\n",
        "    accuracy_std_epoch  = np.std(accuracy_epoch)\n",
        "\n",
        "    loss        = {'mean' : loss_mean_epoch, 'std' : loss_std_epoch}\n",
        "    accuracy    = {'mean' : accuracy_mean_epoch, 'std' : accuracy_std_epoch}\n",
        "\n",
        "    return (loss, accuracy)    "
      ],
      "execution_count": 14,
      "outputs": []
    },
    {
      "cell_type": "markdown",
      "metadata": {
        "id": "s3gUxX9Yiinz"
      },
      "source": [
        "## train and test"
      ]
    },
    {
      "cell_type": "code",
      "metadata": {
        "id": "I1Het53eiinz",
        "outputId": "c511bffc-cbbf-4902-b505-5045eaf42747",
        "colab": {
          "base_uri": "https://localhost:8080/",
          "height": 1000,
          "referenced_widgets": [
            "453e0c683b0243e086a588901bfabb6e",
            "805aed9b41bc4975ba5b0c89a96c7e3a",
            "9cf27d9f997c40d9a78bf72e29012d0a",
            "9d592fe3321b4984838b079a442756c0",
            "33e64f25f21449b5baf7a4f03571ee56",
            "e996a7910f664dd08315d49779d8d8eb",
            "de93f8d944c94341b15e63aec0007d96",
            "5b3f9f113f2645cea29ca3384b4ffb40",
            "733d3278cde74b248019e0d2618a4ff9",
            "dd44ad10ae0049bba391211f85a69994",
            "34115f2155a44b5db67ca3102e810cb1"
          ]
        }
      },
      "source": [
        "# ================================================================================\n",
        "# \n",
        "# iterations for epochs\n",
        "#\n",
        "# ================================================================================\n",
        "for i in tqdm_notebook(range(number_epoch)):\n",
        "    \n",
        "    # ================================================================================\n",
        "    # \n",
        "    # training\n",
        "    #\n",
        "    # ================================================================================\n",
        "    (loss_train, accuracy_train) = train(model, dataloader_train_transform)\n",
        "\n",
        "    loss_mean_train[i]      = loss_train['mean']\n",
        "    loss_std_train[i]       = loss_train['std']\n",
        "\n",
        "    accuracy_mean_train[i]  = accuracy_train['mean']\n",
        "    accuracy_std_train[i]   = accuracy_train['std']\n",
        "\n",
        "    # ================================================================================\n",
        "    # \n",
        "    # testing\n",
        "    #\n",
        "    # ================================================================================\n",
        "    (loss_test, accuracy_test) = test(model, dataloader_test)\n",
        "\n",
        "    loss_mean_test[i]      = loss_test['mean']\n",
        "    loss_std_test[i]       = loss_test['std']\n",
        "\n",
        "    accuracy_mean_test[i]  = accuracy_test['mean']\n",
        "    accuracy_std_test[i]   = accuracy_test['std']\n",
        "\n",
        "    print(f\"epoch : {i}\")\n",
        "    print(f\"\\ttrain loss : {loss_train['mean']}, train acc : {accuracy_train['mean']}\")\n",
        "    print(f\"\\ttest loss  : {loss_test['mean']},  test acc  : {accuracy_test['mean']}\")"
      ],
      "execution_count": null,
      "outputs": [
        {
          "output_type": "stream",
          "name": "stderr",
          "text": [
            "/usr/local/lib/python3.7/dist-packages/ipykernel_launcher.py:6: TqdmDeprecationWarning: This function will be removed in tqdm==5.0.0\n",
            "Please use `tqdm.notebook.tqdm` instead of `tqdm.tqdm_notebook`\n",
            "  \n"
          ]
        },
        {
          "output_type": "display_data",
          "data": {
            "application/vnd.jupyter.widget-view+json": {
              "model_id": "453e0c683b0243e086a588901bfabb6e",
              "version_minor": 0,
              "version_major": 2
            },
            "text/plain": [
              "  0%|          | 0/100 [00:00<?, ?it/s]"
            ]
          },
          "metadata": {}
        },
        {
          "output_type": "stream",
          "name": "stdout",
          "text": [
            "epoch : 0\n",
            "\ttrain loss : 0.24383309483528137, train acc : 6.808741211891174\n",
            "\ttest loss  : 0.2385721404850483,  test acc  : 6.803758380413055\n",
            "epoch : 1\n",
            "\ttrain loss : 0.10773800499737263, train acc : 9.68086862564087\n",
            "\ttest loss  : 0.2385721404850483,  test acc  : 6.803758380413055\n",
            "epoch : 2\n",
            "\ttrain loss : 0.08126472309231758, train acc : 10.965375185012817\n",
            "\ttest loss  : 0.2385721404850483,  test acc  : 6.803758380413055\n",
            "epoch : 3\n",
            "\ttrain loss : 0.06809665821492672, train acc : 11.67572283744812\n",
            "\ttest loss  : 0.23856783136725426,  test acc  : 6.8038787221908565\n",
            "epoch : 4\n",
            "\ttrain loss : 0.05778731685131788, train acc : 12.39590072631836\n",
            "\ttest loss  : 0.2360187241435051,  test acc  : 6.86832025051117\n",
            "epoch : 5\n",
            "\ttrain loss : 0.04839221201837063, train acc : 13.164917469024658\n",
            "\ttest loss  : 0.19689516723155975,  test acc  : 7.7651848793029785\n",
            "epoch : 6\n",
            "\ttrain loss : 0.04397974442690611, train acc : 13.589848756790161\n",
            "\ttest loss  : 0.15466414265334605,  test acc  : 8.831963262557984\n",
            "epoch : 7\n",
            "\ttrain loss : 0.03863105550408363, train acc : 14.14600920677185\n",
            "\ttest loss  : 0.09969049200415611,  test acc  : 10.77133731842041\n",
            "epoch : 8\n",
            "\ttrain loss : 0.035951873287558556, train acc : 14.447189092636108\n",
            "\ttest loss  : 0.0686117816530168,  test acc  : 12.682544894218445\n",
            "epoch : 9\n",
            "\ttrain loss : 0.032396952621638775, train acc : 14.895842552185059\n",
            "\ttest loss  : 0.05349458468146622,  test acc  : 13.945123138427734\n",
            "epoch : 10\n",
            "\ttrain loss : 0.032329633831977844, train acc : 14.919292211532593\n",
            "\ttest loss  : 0.0414482022728771,  test acc  : 14.856642215251922\n",
            "epoch : 11\n",
            "\ttrain loss : 0.029884966555982828, train acc : 15.24872374534607\n",
            "\ttest loss  : 0.032285128692165016,  test acc  : 15.494477100372315\n",
            "epoch : 12\n",
            "\ttrain loss : 0.02948524709790945, train acc : 15.320204973220825\n",
            "\ttest loss  : 0.02840930982492864,  test acc  : 15.871656150817872\n",
            "epoch : 13\n",
            "\ttrain loss : 0.027248860336840153, train acc : 15.655330181121826\n",
            "\ttest loss  : 0.0259641716722399,  test acc  : 16.331750555038454\n",
            "epoch : 14\n",
            "\ttrain loss : 0.02615700988098979, train acc : 15.824390172958374\n",
            "\ttest loss  : 0.02602041638456285,  test acc  : 16.336560859680176\n",
            "epoch : 15\n",
            "\ttrain loss : 0.02684101089835167, train acc : 15.71803069114685\n",
            "\ttest loss  : 0.026474099857732653,  test acc  : 16.147773733139037\n",
            "epoch : 16\n",
            "\ttrain loss : 0.024665703997015953, train acc : 16.087035655975342\n",
            "\ttest loss  : 0.024809607919305563,  test acc  : 16.42952341079712\n",
            "epoch : 17\n",
            "\ttrain loss : 0.025412597227841616, train acc : 15.955912113189697\n",
            "\ttest loss  : 0.02545056222938001,  test acc  : 16.30608603477478\n",
            "epoch : 18\n",
            "\ttrain loss : 0.024267738219350576, train acc : 16.152249813079834\n",
            "\ttest loss  : 0.024264612486585974,  test acc  : 16.555164823532106\n",
            "epoch : 19\n",
            "\ttrain loss : 0.023308917414397, train acc : 16.341829776763916\n",
            "\ttest loss  : 0.023825487196445463,  test acc  : 16.664366598129273\n",
            "epoch : 20\n",
            "\ttrain loss : 0.023427587002515793, train acc : 16.320754051208496\n",
            "\ttest loss  : 0.02316009771078825,  test acc  : 16.809330692291258\n",
            "epoch : 21\n",
            "\ttrain loss : 0.022681671660393476, train acc : 16.449743270874023\n",
            "\ttest loss  : 0.02270202500745654,  test acc  : 16.929656476974486\n",
            "epoch : 22\n",
            "\ttrain loss : 0.021975655108690262, train acc : 16.590542793273926\n",
            "\ttest loss  : 0.022701441114768385,  test acc  : 16.91530230522156\n",
            "epoch : 23\n",
            "\ttrain loss : 0.021201875060796738, train acc : 16.740871906280518\n",
            "\ttest loss  : 0.02174416484311223,  test acc  : 17.19018271446228\n",
            "epoch : 24\n",
            "\ttrain loss : 0.02048460114747286, train acc : 16.88731575012207\n",
            "\ttest loss  : 0.02181556759402156,  test acc  : 17.141208295822143\n",
            "epoch : 25\n",
            "\ttrain loss : 0.020425766706466675, train acc : 16.90108299255371\n",
            "\ttest loss  : 0.021434745099395514,  test acc  : 17.228936653137207\n",
            "epoch : 26\n",
            "\ttrain loss : 0.020915680564939976, train acc : 16.797919273376465\n",
            "\ttest loss  : 0.021181551478803157,  test acc  : 17.31449896812439\n",
            "epoch : 27\n",
            "\ttrain loss : 0.0199112631380558, train acc : 17.01527976989746\n",
            "\ttest loss  : 0.01992583498824388,  test acc  : 17.59182060241699\n",
            "epoch : 28\n",
            "\ttrain loss : 0.01908115576952696, train acc : 17.195839881896973\n",
            "\ttest loss  : 0.019929100666195153,  test acc  : 17.613786849975586\n",
            "epoch : 29\n",
            "\ttrain loss : 0.01877905847504735, train acc : 17.28357172012329\n",
            "\ttest loss  : 0.020029673431999982,  test acc  : 17.701607189178468\n",
            "epoch : 30\n",
            "\ttrain loss : 0.018980595748871565, train acc : 17.220376014709473\n",
            "\ttest loss  : 0.02144580899272114,  test acc  : 17.49707935333252\n",
            "epoch : 31\n",
            "\ttrain loss : 0.02012151526287198, train acc : 16.998159885406494\n",
            "\ttest loss  : 0.02102233060169965,  test acc  : 17.91079658508301\n",
            "epoch : 32\n",
            "\ttrain loss : 0.01742835738696158, train acc : 17.600417137145996\n",
            "\ttest loss  : 0.01879983603488654,  test acc  : 18.09636285305023\n",
            "epoch : 33\n",
            "\ttrain loss : 0.018181719817221165, train acc : 17.419057369232178\n",
            "\ttest loss  : 0.01774303606711328,  test acc  : 18.161909055709838\n",
            "epoch : 34\n",
            "\ttrain loss : 0.016824768856167793, train acc : 17.744886875152588\n",
            "\ttest loss  : 0.017217279309406877,  test acc  : 18.296119422912597\n",
            "epoch : 35\n",
            "\ttrain loss : 0.01653424883261323, train acc : 17.81905746459961\n",
            "\ttest loss  : 0.016300713857635856,  test acc  : 18.565118932723998\n",
            "epoch : 36\n",
            "\ttrain loss : 0.015865179942920804, train acc : 18.01410675048828\n",
            "\ttest loss  : 0.015523749352432788,  test acc  : 18.813611555099488\n",
            "epoch : 37\n",
            "\ttrain loss : 0.015644968952983618, train acc : 18.072645664215088\n",
            "\ttest loss  : 0.015034309406764805,  test acc  : 19.048572397232057\n",
            "epoch : 38\n",
            "\ttrain loss : 0.015497199958190322, train acc : 18.11441135406494\n",
            "\ttest loss  : 0.015181235545314848,  test acc  : 18.9726602935791\n",
            "epoch : 39\n",
            "\ttrain loss : 0.014973341254517436, train acc : 18.249694347381592\n",
            "\ttest loss  : 0.014937445712275803,  test acc  : 19.23464518547058\n",
            "epoch : 40\n",
            "\ttrain loss : 0.015309204813092947, train acc : 18.195993900299072\n",
            "\ttest loss  : 0.018166245548054575,  test acc  : 18.528322744369508\n",
            "epoch : 41\n",
            "\ttrain loss : 0.015074829338118434, train acc : 18.22061014175415\n",
            "\ttest loss  : 0.01639687452465296,  test acc  : 18.856173033714295\n",
            "epoch : 42\n",
            "\ttrain loss : 0.014554235385730863, train acc : 18.389284133911133\n",
            "\ttest loss  : 0.016002827542833983,  test acc  : 18.878552837371828\n",
            "epoch : 43\n",
            "\ttrain loss : 0.01349714258685708, train acc : 18.730326652526855\n",
            "\ttest loss  : 0.015069020609371365,  test acc  : 19.255033502578737\n",
            "epoch : 44\n",
            "\ttrain loss : 0.014107234310358763, train acc : 18.508904933929443\n",
            "\ttest loss  : 0.015630276552401484,  test acc  : 18.89361379623413\n",
            "epoch : 45\n",
            "\ttrain loss : 0.015684465412050486, train acc : 18.1221022605896\n",
            "\ttest loss  : 0.014531308291479946,  test acc  : 19.386052393913268\n",
            "epoch : 46\n",
            "\ttrain loss : 0.014697352889925241, train acc : 18.329695224761963\n",
            "\ttest loss  : 0.01426048159832135,  test acc  : 19.50947876930237\n",
            "epoch : 47\n",
            "\ttrain loss : 0.014648898039013147, train acc : 18.35538148880005\n",
            "\ttest loss  : 0.014094503498636186,  test acc  : 19.460845155715944\n",
            "epoch : 48\n",
            "\ttrain loss : 0.015047875931486487, train acc : 18.251628398895264\n",
            "\ttest loss  : 0.0143643912486732,  test acc  : 19.3610583114624\n",
            "epoch : 49\n",
            "\ttrain loss : 0.014314433326944709, train acc : 18.478152751922607\n",
            "\ttest loss  : 0.013466213080100715,  test acc  : 19.745121822357177\n",
            "epoch : 50\n",
            "\ttrain loss : 0.014784077182412148, train acc : 18.318886756896973\n",
            "\ttest loss  : 0.014760077358223498,  test acc  : 19.406088218688964\n",
            "epoch : 51\n",
            "\ttrain loss : 0.014966774266213179, train acc : 18.281227588653564\n",
            "\ttest loss  : 0.012983916383236647,  test acc  : 19.91081440925598\n",
            "epoch : 52\n",
            "\ttrain loss : 0.013132448773831129, train acc : 18.863552570343018\n",
            "\ttest loss  : 0.01320429471321404,  test acc  : 19.849974708557127\n",
            "epoch : 53\n",
            "\ttrain loss : 0.01352169830352068, train acc : 18.691422939300537\n",
            "\ttest loss  : 0.01485015869140625,  test acc  : 19.256066002845763\n",
            "epoch : 54\n",
            "\ttrain loss : 0.013396233087405562, train acc : 18.822126865386963\n",
            "\ttest loss  : 0.012560085135046393,  test acc  : 20.155027236938476\n",
            "epoch : 55\n",
            "\ttrain loss : 0.011944132624194026, train acc : 19.23294734954834\n",
            "\ttest loss  : 0.01242306370055303,  test acc  : 20.16207022666931\n",
            "epoch : 56\n",
            "\ttrain loss : 0.012836684240028262, train acc : 18.94175386428833\n",
            "\ttest loss  : 0.012482193848118186,  test acc  : 20.174165983200073\n",
            "epoch : 57\n",
            "\ttrain loss : 0.012261865893378854, train acc : 19.15727663040161\n",
            "\ttest loss  : 0.011977866212837397,  test acc  : 20.28251916885376\n",
            "epoch : 58\n",
            "\ttrain loss : 0.012112934375181794, train acc : 19.170065879821777\n",
            "\ttest loss  : 0.011669583157636226,  test acc  : 20.46733024597168\n",
            "epoch : 59\n",
            "\ttrain loss : 0.011650550179183483, train acc : 19.354921340942383\n",
            "\ttest loss  : 0.0118336040712893,  test acc  : 20.410188131332397\n",
            "epoch : 60\n",
            "\ttrain loss : 0.012278812238946557, train acc : 19.128294467926025\n",
            "\ttest loss  : 0.011488816069904715,  test acc  : 20.467006492614747\n",
            "epoch : 61\n",
            "\ttrain loss : 0.011864700121805072, train acc : 19.26525640487671\n",
            "\ttest loss  : 0.011401827037334443,  test acc  : 20.57095785140991\n",
            "epoch : 62\n",
            "\ttrain loss : 0.012078750412911177, train acc : 19.20161533355713\n",
            "\ttest loss  : 0.011598550649359822,  test acc  : 20.50246172904968\n",
            "epoch : 63\n",
            "\ttrain loss : 0.011862812330946326, train acc : 19.274420738220215\n",
            "\ttest loss  : 0.011509378526825457,  test acc  : 20.497014083862304\n",
            "epoch : 64\n",
            "\ttrain loss : 0.011524565517902374, train acc : 19.39555025100708\n",
            "\ttest loss  : 0.011499511532019824,  test acc  : 20.54459137916565\n",
            "epoch : 65\n",
            "\ttrain loss : 0.011860494269058108, train acc : 19.278031826019287\n",
            "\ttest loss  : 0.011320059788413345,  test acc  : 20.607162342071533\n",
            "epoch : 66\n",
            "\ttrain loss : 0.012220209231600165, train acc : 19.15978479385376\n",
            "\ttest loss  : 0.011577326075639575,  test acc  : 20.509820041656493\n",
            "epoch : 67\n",
            "\ttrain loss : 0.011873907875269651, train acc : 19.27731943130493\n",
            "\ttest loss  : 0.011566757787950337,  test acc  : 20.3870334815979\n",
            "epoch : 68\n",
            "\ttrain loss : 0.012224198784679174, train acc : 19.134592056274414\n",
            "\ttest loss  : 0.012006624890491367,  test acc  : 20.307652521133424\n"
          ]
        }
      ]
    },
    {
      "cell_type": "markdown",
      "metadata": {
        "id": "MoC_whDwiin0"
      },
      "source": [
        "---"
      ]
    },
    {
      "cell_type": "markdown",
      "metadata": {
        "id": "5X7Bb19siin0"
      },
      "source": [
        "# functions for visualizing the results "
      ]
    },
    {
      "cell_type": "markdown",
      "metadata": {
        "id": "ZfI2EWeviin0"
      },
      "source": [
        "---"
      ]
    },
    {
      "cell_type": "markdown",
      "metadata": {
        "id": "1rrZCx7Uiin1"
      },
      "source": [
        "## plot curve"
      ]
    },
    {
      "cell_type": "markdown",
      "metadata": {
        "id": "7Cn7IS4Eiin1"
      },
      "source": [
        ""
      ]
    },
    {
      "cell_type": "code",
      "metadata": {
        "id": "bFFC4JEBiin1"
      },
      "source": [
        "def plot_data_grid(data, index_data, nRow, nCol):\n",
        "    \n",
        "    size_col = 1.5\n",
        "    size_row = 1.5\n",
        "\n",
        "    fig, axes = plt.subplots(nRow, nCol, constrained_layout=True, figsize=(nCol * size_col, nRow * size_row))\n",
        "\n",
        "    for i in range(nRow):\n",
        "        for j in range(nCol):\n",
        "\n",
        "            k       = i * nCol + j\n",
        "            index   = index_data[k]\n",
        "\n",
        "            axes[i, j].imshow(data[index], cmap='gray', vmin=0, vmax=1)\n",
        "            axes[i, j].xaxis.set_visible(False)\n",
        "            axes[i, j].yaxis.set_visible(False)\n",
        "\n",
        "    plt.show()"
      ],
      "execution_count": null,
      "outputs": []
    },
    {
      "cell_type": "code",
      "metadata": {
        "id": "Sc7sIOXOiin2"
      },
      "source": [
        "def plot_data_tensor_grid(data, index_data, nRow, nCol):\n",
        "    \n",
        "    size_col = 1.5\n",
        "    size_row = 1.5\n",
        "\n",
        "    fig, axes = plt.subplots(nRow, nCol, constrained_layout=True, figsize=(nCol * size_col, nRow * size_row))\n",
        "\n",
        "    data = data.detach().cpu().squeeze(axis=1)\n",
        "\n",
        "    for i in range(nRow):\n",
        "        for j in range(nCol):\n",
        "\n",
        "            k       = i * nCol + j\n",
        "            index   = index_data[k]\n",
        "\n",
        "            axes[i, j].imshow(data[index], cmap='gray', vmin=0, vmax=1)\n",
        "            axes[i, j].xaxis.set_visible(False)\n",
        "            axes[i, j].yaxis.set_visible(False)\n",
        "\n",
        "    plt.show()"
      ],
      "execution_count": null,
      "outputs": []
    },
    {
      "cell_type": "code",
      "metadata": {
        "id": "Divc-qKLiin2"
      },
      "source": [
        "def plot_curve_error(data_mean, data_std, x_label, y_label, title):\n",
        "\n",
        "    plt.figure(figsize=(8, 6))\n",
        "    plt.title(title)\n",
        "\n",
        "    alpha = 0.3\n",
        "    \n",
        "    plt.plot(range(len(data_mean)), data_mean, '-', color = 'red')\n",
        "    plt.fill_between(range(len(data_mean)), data_mean - data_std, data_mean + data_std, facecolor = 'blue', alpha = alpha) \n",
        "    \n",
        "    plt.xlabel(x_label)\n",
        "    plt.ylabel(y_label)\n",
        "\n",
        "    plt.tight_layout()\n",
        "    plt.show()"
      ],
      "execution_count": null,
      "outputs": []
    },
    {
      "cell_type": "code",
      "metadata": {
        "id": "UMO5A4aXiin3"
      },
      "source": [
        "def print_curve(data, index):\n",
        "    \n",
        "    for i in range(len(index)):\n",
        "\n",
        "        idx = index[i]\n",
        "        val = data[idx]\n",
        "\n",
        "        print('index = %2d, value = %12.10f' % (idx, val))"
      ],
      "execution_count": null,
      "outputs": []
    },
    {
      "cell_type": "code",
      "metadata": {
        "id": "FXYGcGxxiin3"
      },
      "source": [
        "def get_data_last(data, index_start):\n",
        "\n",
        "    data_last = data[index_start:]\n",
        "\n",
        "    return data_last"
      ],
      "execution_count": null,
      "outputs": []
    },
    {
      "cell_type": "code",
      "metadata": {
        "id": "AGGKzEIpiin3"
      },
      "source": [
        "def get_max_last_range(data, index_start):\n",
        "\n",
        "    data_range = get_data_last(data, index_start)\n",
        "    value = data_range.max()\n",
        "\n",
        "    return value"
      ],
      "execution_count": null,
      "outputs": []
    },
    {
      "cell_type": "code",
      "metadata": {
        "id": "hj9RlRVUiin4"
      },
      "source": [
        "def get_min_last_range(data, index_start):\n",
        "\n",
        "    data_range = get_data_last(data, index_start)\n",
        "    value = data_range.min()\n",
        "\n",
        "    return value"
      ],
      "execution_count": null,
      "outputs": []
    },
    {
      "cell_type": "markdown",
      "metadata": {
        "id": "R26Q1Vpfiin4"
      },
      "source": [
        "---"
      ]
    },
    {
      "cell_type": "markdown",
      "metadata": {
        "id": "qbHYNIuDiin4"
      },
      "source": [
        "# functions for presenting the results"
      ]
    },
    {
      "cell_type": "markdown",
      "metadata": {
        "id": "yaBwP4zhiin4"
      },
      "source": [
        "---"
      ]
    },
    {
      "cell_type": "code",
      "metadata": {
        "id": "rHTeRjC_iin5"
      },
      "source": [
        "def function_result_01():\n",
        "\n",
        "    print('[plot examples of the training original images]')\n",
        "    print('') \n",
        "\n",
        "    nRow = 8\n",
        "    nCol = 6\n",
        "    index_data      = np.arange(0, nRow * nCol)\n",
        "    data_train, _   = dataset_train[index_data]\n",
        "    data_train      = data_train[0]\n",
        "    \n",
        "    plot_data_grid(data_train, index_data, nRow, nCol)"
      ],
      "execution_count": null,
      "outputs": []
    },
    {
      "cell_type": "code",
      "metadata": {
        "id": "wZRQgONDiin5"
      },
      "source": [
        "def function_result_02():\n",
        "\n",
        "    print('[plot examples of the training blur images]')\n",
        "    print('') \n",
        "    \n",
        "    nRow = 8\n",
        "    nCol = 6\n",
        "    index_data      = np.arange(0, nRow * nCol)\n",
        "    _, data_train   = dataset_train[index_data]\n",
        "    data_train      = data_train[0]\n",
        "    \n",
        "    plot_data_grid(data_train, index_data, nRow, nCol)"
      ],
      "execution_count": null,
      "outputs": []
    },
    {
      "cell_type": "code",
      "metadata": {
        "id": "N_5emj8Siin5"
      },
      "source": [
        "def function_result_03():\n",
        "\n",
        "    print('[plot examples of the training de-blurring results]')\n",
        "    print('') \n",
        "\n",
        "    nRow = 8\n",
        "    nCol = 6\n",
        "    index_data          = np.arange(0, nRow * nCol)\n",
        "    _, data_train       = dataset_train[index_data] \n",
        "    data_train          = data_train[0].unsqueeze(dim=1).to(device)\n",
        "    prediction_train    = compute_prediction(model, data_train)\n",
        "    \n",
        "    plot_data_tensor_grid(prediction_train, index_data, nRow, nCol)"
      ],
      "execution_count": null,
      "outputs": []
    },
    {
      "cell_type": "code",
      "metadata": {
        "id": "v_umdkhbiin6"
      },
      "source": [
        "def function_result_04():\n",
        "\n",
        "    print('[plot examples of the testing original images]')\n",
        "    print('') \n",
        "    \n",
        "    nRow = 8 \n",
        "    nCol = 6\n",
        "    index_data      = np.arange(0, nRow * nCol)\n",
        "    data_test, _    = dataset_test[index_data]\n",
        "    data_test       = data_test[0]\n",
        "    \n",
        "    plot_data_grid(data_test, index_data, nRow, nCol)"
      ],
      "execution_count": null,
      "outputs": []
    },
    {
      "cell_type": "code",
      "metadata": {
        "id": "9x2Gt2cyiin6"
      },
      "source": [
        "def function_result_05():\n",
        "\n",
        "    print('[plot examples of the testing blur images]')\n",
        "    print('') \n",
        "\n",
        "    nRow = 8\n",
        "    nCol = 6\n",
        "    index_data      = np.arange(0, nRow * nCol)\n",
        "    _, data_test    = dataset_test[index_data]\n",
        "    data_test       = data_test[0]\n",
        "    \n",
        "    plot_data_grid(data_test, index_data, nRow, nCol)"
      ],
      "execution_count": null,
      "outputs": []
    },
    {
      "cell_type": "code",
      "metadata": {
        "id": "ivVQedD1iin6"
      },
      "source": [
        "def function_result_06():\n",
        "\n",
        "    print('[plot examples of the testing de-blurring results]')\n",
        "    print('') \n",
        "\n",
        "    nRow = 8\n",
        "    nCol = 6\n",
        "    index_data      = np.arange(0, nRow * nCol)\n",
        "    _, data_test    = dataset_test[index_data]\n",
        "    data_test       = data_test[0].unsqueeze(dim=1).to(device)\n",
        "    prediction_test = compute_prediction(model, data_test)\n",
        "    \n",
        "    plot_data_tensor_grid(prediction_test, index_data, nRow, nCol)"
      ],
      "execution_count": null,
      "outputs": []
    },
    {
      "cell_type": "code",
      "metadata": {
        "id": "UjVxWIoQiin7"
      },
      "source": [
        "def function_result_07():\n",
        "\n",
        "    print('[plot the training loss]')\n",
        "    print('') \n",
        "\n",
        "    plot_curve_error(loss_mean_train, loss_std_train, 'epoch', 'loss', 'loss (training)')"
      ],
      "execution_count": null,
      "outputs": []
    },
    {
      "cell_type": "code",
      "metadata": {
        "id": "O2BxeS2eiin7"
      },
      "source": [
        "def function_result_08():\n",
        "\n",
        "    print('[plot the training accuracy]')\n",
        "    print('') \n",
        "    \n",
        "    plot_curve_error(accuracy_mean_train, accuracy_std_train, 'epoch', 'accuracy', 'accuracy (training)')"
      ],
      "execution_count": null,
      "outputs": []
    },
    {
      "cell_type": "code",
      "metadata": {
        "id": "4dBmJU9hiin7"
      },
      "source": [
        "def function_result_09():\n",
        "    \n",
        "    print('[plot the testing loss]')\n",
        "    print('') \n",
        "    \n",
        "    plot_curve_error(loss_mean_test, loss_std_test, 'epoch', 'loss', 'loss (testing)')"
      ],
      "execution_count": null,
      "outputs": []
    },
    {
      "cell_type": "code",
      "metadata": {
        "id": "NJOpL9imiin7"
      },
      "source": [
        "def function_result_10():\n",
        "    \n",
        "    print('[plot the testing accuracy]') \n",
        "    print('') \n",
        "    \n",
        "    plot_curve_error(accuracy_mean_test, accuracy_std_test, 'epoch', 'accuracy', 'accuracy (testing)')"
      ],
      "execution_count": null,
      "outputs": []
    },
    {
      "cell_type": "code",
      "metadata": {
        "id": "I5Q-6xZWiin8"
      },
      "source": [
        "def function_result_11():\n",
        "    \n",
        "    print('[print the training loss at the last 10 epochs]')\n",
        "    print('') \n",
        "\n",
        "    data_last   = get_data_last(loss_mean_train, -10)\n",
        "    index       = np.arange(0, 10)\n",
        "    print_curve(data_last, index)"
      ],
      "execution_count": null,
      "outputs": []
    },
    {
      "cell_type": "code",
      "metadata": {
        "id": "2xk48CYuiin8"
      },
      "source": [
        "def function_result_12():\n",
        "    \n",
        "    print('[print the training accuracy at the last 10 epochs]')\n",
        "    print('') \n",
        "    \n",
        "    data_last   = get_data_last(accuracy_mean_train, -10)\n",
        "    index       = np.arange(0, 10)\n",
        "    print_curve(data_last, index)"
      ],
      "execution_count": null,
      "outputs": []
    },
    {
      "cell_type": "code",
      "metadata": {
        "id": "FYnXMXHFiin8"
      },
      "source": [
        "def function_result_13():\n",
        "    \n",
        "    print('[print the testing loss at the last 10 epochs]')\n",
        "    print('') \n",
        "    \n",
        "    data_last   = get_data_last(loss_mean_test, -10)\n",
        "    index       = np.arange(0, 10)\n",
        "    print_curve(data_last, index)"
      ],
      "execution_count": null,
      "outputs": []
    },
    {
      "cell_type": "code",
      "metadata": {
        "id": "qELwsTaCiin9"
      },
      "source": [
        "def function_result_14():\n",
        "    \n",
        "    print('[print the testing accuracy at the last 10 epochs]')\n",
        "    print('') \n",
        "    \n",
        "    data_last   = get_data_last(accuracy_mean_test, -10)\n",
        "    index       = np.arange(0, 10)\n",
        "    print_curve(data_last, index)"
      ],
      "execution_count": null,
      "outputs": []
    },
    {
      "cell_type": "code",
      "metadata": {
        "id": "HzEfP-9uiin9"
      },
      "source": [
        "def function_result_15():\n",
        "    \n",
        "    print('[print the best training accuracy within the last 10 epochs]')\n",
        "    print('') \n",
        "\n",
        "    value = get_max_last_range(accuracy_mean_train, -10)\n",
        "    print('best training accuracy = %12.10f' % (value))"
      ],
      "execution_count": null,
      "outputs": []
    },
    {
      "cell_type": "code",
      "metadata": {
        "id": "6Djbc5XHiin9"
      },
      "source": [
        "def function_result_16():\n",
        "    \n",
        "    print('[print the best testing accuracy within the last 10 epochs]')\n",
        "    print('') \n",
        "    \n",
        "    value = get_max_last_range(accuracy_mean_test, -10)\n",
        "    print('best testing accuracy = %12.10f' % (value))"
      ],
      "execution_count": null,
      "outputs": []
    },
    {
      "cell_type": "markdown",
      "metadata": {
        "id": "YQDgGHHpiin-"
      },
      "source": [
        "---"
      ]
    },
    {
      "cell_type": "markdown",
      "metadata": {
        "id": "UO3Lic6yiin-"
      },
      "source": [
        "# RESULTS"
      ]
    },
    {
      "cell_type": "markdown",
      "metadata": {
        "id": "rDQEjFkXiin-"
      },
      "source": [
        "---"
      ]
    },
    {
      "cell_type": "code",
      "metadata": {
        "id": "hwrdcAItiin-"
      },
      "source": [
        "number_result = 16\n",
        "\n",
        "for i in range(number_result):\n",
        "\n",
        "    title           = '# RESULT # {:02d}'.format(i+1) \n",
        "    name_function   = 'function_result_{:02d}()'.format(i+1)\n",
        "\n",
        "    print('') \n",
        "    print('################################################################################')\n",
        "    print('#') \n",
        "    print(title)\n",
        "    print('#') \n",
        "    print('################################################################################')\n",
        "    print('') \n",
        "\n",
        "    eval(name_function)"
      ],
      "execution_count": null,
      "outputs": []
    },
    {
      "cell_type": "code",
      "metadata": {
        "id": "v06_BrI1iin_"
      },
      "source": [
        ""
      ],
      "execution_count": null,
      "outputs": []
    }
  ]
}