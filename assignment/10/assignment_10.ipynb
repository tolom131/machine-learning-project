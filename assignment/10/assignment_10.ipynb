{
  "nbformat": 4,
  "nbformat_minor": 0,
  "metadata": {
    "colab": {
      "name": "assignment_02.ipynb",
      "provenance": [],
      "collapsed_sections": []
    },
    "interpreter": {
      "hash": "17ed1555cfbb96ddcf655400d6c25a9cebe961c1b69daf25bae91d698acdd2a7"
    },
    "kernelspec": {
      "display_name": "Python 3.8.12 64-bit ('hsh': conda)",
      "name": "python3"
    },
    "language_info": {
      "codemirror_mode": {
        "name": "ipython",
        "version": 3
      },
      "file_extension": ".py",
      "mimetype": "text/x-python",
      "name": "python",
      "nbconvert_exporter": "python",
      "pygments_lexer": "ipython3",
      "version": "3.8.8"
    },
    "accelerator": "GPU",
    "widgets": {
      "application/vnd.jupyter.widget-state+json": {
        "8d3e21e24ec343199e319f7276780947": {
          "model_module": "@jupyter-widgets/controls",
          "model_name": "HBoxModel",
          "model_module_version": "1.5.0",
          "state": {
            "_view_name": "HBoxView",
            "_dom_classes": [],
            "_model_name": "HBoxModel",
            "_view_module": "@jupyter-widgets/controls",
            "_model_module_version": "1.5.0",
            "_view_count": null,
            "_view_module_version": "1.5.0",
            "box_style": "",
            "layout": "IPY_MODEL_13c94d3d52b0400e98f0b6c6008afd2d",
            "_model_module": "@jupyter-widgets/controls",
            "children": [
              "IPY_MODEL_16f79063421545f2bdb9c48f63d52011",
              "IPY_MODEL_7aaa4103f1f648b5b7739c3dd4874f98",
              "IPY_MODEL_bb997eee313b4c1698eed01c9c43275d"
            ]
          }
        },
        "13c94d3d52b0400e98f0b6c6008afd2d": {
          "model_module": "@jupyter-widgets/base",
          "model_name": "LayoutModel",
          "model_module_version": "1.2.0",
          "state": {
            "_view_name": "LayoutView",
            "grid_template_rows": null,
            "right": null,
            "justify_content": null,
            "_view_module": "@jupyter-widgets/base",
            "overflow": null,
            "_model_module_version": "1.2.0",
            "_view_count": null,
            "flex_flow": null,
            "width": null,
            "min_width": null,
            "border": null,
            "align_items": null,
            "bottom": null,
            "_model_module": "@jupyter-widgets/base",
            "top": null,
            "grid_column": null,
            "overflow_y": null,
            "overflow_x": null,
            "grid_auto_flow": null,
            "grid_area": null,
            "grid_template_columns": null,
            "flex": null,
            "_model_name": "LayoutModel",
            "justify_items": null,
            "grid_row": null,
            "max_height": null,
            "align_content": null,
            "visibility": null,
            "align_self": null,
            "height": null,
            "min_height": null,
            "padding": null,
            "grid_auto_rows": null,
            "grid_gap": null,
            "max_width": null,
            "order": null,
            "_view_module_version": "1.2.0",
            "grid_template_areas": null,
            "object_position": null,
            "object_fit": null,
            "grid_auto_columns": null,
            "margin": null,
            "display": null,
            "left": null
          }
        },
        "16f79063421545f2bdb9c48f63d52011": {
          "model_module": "@jupyter-widgets/controls",
          "model_name": "HTMLModel",
          "model_module_version": "1.5.0",
          "state": {
            "_view_name": "HTMLView",
            "style": "IPY_MODEL_b8019e4162414fe0a32bf00e5a844d44",
            "_dom_classes": [],
            "description": "",
            "_model_name": "HTMLModel",
            "placeholder": "​",
            "_view_module": "@jupyter-widgets/controls",
            "_model_module_version": "1.5.0",
            "value": " 35%",
            "_view_count": null,
            "_view_module_version": "1.5.0",
            "description_tooltip": null,
            "_model_module": "@jupyter-widgets/controls",
            "layout": "IPY_MODEL_8e9ed94a3cdf41eba6cfeb2318efda64"
          }
        },
        "7aaa4103f1f648b5b7739c3dd4874f98": {
          "model_module": "@jupyter-widgets/controls",
          "model_name": "FloatProgressModel",
          "model_module_version": "1.5.0",
          "state": {
            "_view_name": "ProgressView",
            "style": "IPY_MODEL_5993c3eb961b4d9daf1cdccb0fe9403c",
            "_dom_classes": [],
            "description": "",
            "_model_name": "FloatProgressModel",
            "bar_style": "danger",
            "max": 20,
            "_view_module": "@jupyter-widgets/controls",
            "_model_module_version": "1.5.0",
            "value": 7,
            "_view_count": null,
            "_view_module_version": "1.5.0",
            "orientation": "horizontal",
            "min": 0,
            "description_tooltip": null,
            "_model_module": "@jupyter-widgets/controls",
            "layout": "IPY_MODEL_24fb9c24457148efaf258cc97e66d00b"
          }
        },
        "bb997eee313b4c1698eed01c9c43275d": {
          "model_module": "@jupyter-widgets/controls",
          "model_name": "HTMLModel",
          "model_module_version": "1.5.0",
          "state": {
            "_view_name": "HTMLView",
            "style": "IPY_MODEL_1a3dea228db243039cdf02bb7589a801",
            "_dom_classes": [],
            "description": "",
            "_model_name": "HTMLModel",
            "placeholder": "​",
            "_view_module": "@jupyter-widgets/controls",
            "_model_module_version": "1.5.0",
            "value": " 7/20 [01:48&lt;03:12, 14.84s/it]",
            "_view_count": null,
            "_view_module_version": "1.5.0",
            "description_tooltip": null,
            "_model_module": "@jupyter-widgets/controls",
            "layout": "IPY_MODEL_9d1e26d6da8e4a2a9b1503b2bd19d484"
          }
        },
        "b8019e4162414fe0a32bf00e5a844d44": {
          "model_module": "@jupyter-widgets/controls",
          "model_name": "DescriptionStyleModel",
          "model_module_version": "1.5.0",
          "state": {
            "_view_name": "StyleView",
            "_model_name": "DescriptionStyleModel",
            "description_width": "",
            "_view_module": "@jupyter-widgets/base",
            "_model_module_version": "1.5.0",
            "_view_count": null,
            "_view_module_version": "1.2.0",
            "_model_module": "@jupyter-widgets/controls"
          }
        },
        "8e9ed94a3cdf41eba6cfeb2318efda64": {
          "model_module": "@jupyter-widgets/base",
          "model_name": "LayoutModel",
          "model_module_version": "1.2.0",
          "state": {
            "_view_name": "LayoutView",
            "grid_template_rows": null,
            "right": null,
            "justify_content": null,
            "_view_module": "@jupyter-widgets/base",
            "overflow": null,
            "_model_module_version": "1.2.0",
            "_view_count": null,
            "flex_flow": null,
            "width": null,
            "min_width": null,
            "border": null,
            "align_items": null,
            "bottom": null,
            "_model_module": "@jupyter-widgets/base",
            "top": null,
            "grid_column": null,
            "overflow_y": null,
            "overflow_x": null,
            "grid_auto_flow": null,
            "grid_area": null,
            "grid_template_columns": null,
            "flex": null,
            "_model_name": "LayoutModel",
            "justify_items": null,
            "grid_row": null,
            "max_height": null,
            "align_content": null,
            "visibility": null,
            "align_self": null,
            "height": null,
            "min_height": null,
            "padding": null,
            "grid_auto_rows": null,
            "grid_gap": null,
            "max_width": null,
            "order": null,
            "_view_module_version": "1.2.0",
            "grid_template_areas": null,
            "object_position": null,
            "object_fit": null,
            "grid_auto_columns": null,
            "margin": null,
            "display": null,
            "left": null
          }
        },
        "5993c3eb961b4d9daf1cdccb0fe9403c": {
          "model_module": "@jupyter-widgets/controls",
          "model_name": "ProgressStyleModel",
          "model_module_version": "1.5.0",
          "state": {
            "_view_name": "StyleView",
            "_model_name": "ProgressStyleModel",
            "description_width": "",
            "_view_module": "@jupyter-widgets/base",
            "_model_module_version": "1.5.0",
            "_view_count": null,
            "_view_module_version": "1.2.0",
            "bar_color": null,
            "_model_module": "@jupyter-widgets/controls"
          }
        },
        "24fb9c24457148efaf258cc97e66d00b": {
          "model_module": "@jupyter-widgets/base",
          "model_name": "LayoutModel",
          "model_module_version": "1.2.0",
          "state": {
            "_view_name": "LayoutView",
            "grid_template_rows": null,
            "right": null,
            "justify_content": null,
            "_view_module": "@jupyter-widgets/base",
            "overflow": null,
            "_model_module_version": "1.2.0",
            "_view_count": null,
            "flex_flow": null,
            "width": null,
            "min_width": null,
            "border": null,
            "align_items": null,
            "bottom": null,
            "_model_module": "@jupyter-widgets/base",
            "top": null,
            "grid_column": null,
            "overflow_y": null,
            "overflow_x": null,
            "grid_auto_flow": null,
            "grid_area": null,
            "grid_template_columns": null,
            "flex": null,
            "_model_name": "LayoutModel",
            "justify_items": null,
            "grid_row": null,
            "max_height": null,
            "align_content": null,
            "visibility": null,
            "align_self": null,
            "height": null,
            "min_height": null,
            "padding": null,
            "grid_auto_rows": null,
            "grid_gap": null,
            "max_width": null,
            "order": null,
            "_view_module_version": "1.2.0",
            "grid_template_areas": null,
            "object_position": null,
            "object_fit": null,
            "grid_auto_columns": null,
            "margin": null,
            "display": null,
            "left": null
          }
        },
        "1a3dea228db243039cdf02bb7589a801": {
          "model_module": "@jupyter-widgets/controls",
          "model_name": "DescriptionStyleModel",
          "model_module_version": "1.5.0",
          "state": {
            "_view_name": "StyleView",
            "_model_name": "DescriptionStyleModel",
            "description_width": "",
            "_view_module": "@jupyter-widgets/base",
            "_model_module_version": "1.5.0",
            "_view_count": null,
            "_view_module_version": "1.2.0",
            "_model_module": "@jupyter-widgets/controls"
          }
        },
        "9d1e26d6da8e4a2a9b1503b2bd19d484": {
          "model_module": "@jupyter-widgets/base",
          "model_name": "LayoutModel",
          "model_module_version": "1.2.0",
          "state": {
            "_view_name": "LayoutView",
            "grid_template_rows": null,
            "right": null,
            "justify_content": null,
            "_view_module": "@jupyter-widgets/base",
            "overflow": null,
            "_model_module_version": "1.2.0",
            "_view_count": null,
            "flex_flow": null,
            "width": null,
            "min_width": null,
            "border": null,
            "align_items": null,
            "bottom": null,
            "_model_module": "@jupyter-widgets/base",
            "top": null,
            "grid_column": null,
            "overflow_y": null,
            "overflow_x": null,
            "grid_auto_flow": null,
            "grid_area": null,
            "grid_template_columns": null,
            "flex": null,
            "_model_name": "LayoutModel",
            "justify_items": null,
            "grid_row": null,
            "max_height": null,
            "align_content": null,
            "visibility": null,
            "align_self": null,
            "height": null,
            "min_height": null,
            "padding": null,
            "grid_auto_rows": null,
            "grid_gap": null,
            "max_width": null,
            "order": null,
            "_view_module_version": "1.2.0",
            "grid_template_areas": null,
            "object_position": null,
            "object_fit": null,
            "grid_auto_columns": null,
            "margin": null,
            "display": null,
            "left": null
          }
        }
      }
    }
  },
  "cells": [
    {
      "cell_type": "markdown",
      "metadata": {
        "id": "K29I-OwCEYzW",
        "outputId": "db8b297c-a4b8-457a-b43f-7570135306c7"
      },
      "source": [
        "# Image Segmentation by unsupervised Learning"
      ]
    },
    {
      "cell_type": "markdown",
      "metadata": {
        "id": "PYX0qLKtJJ19"
      },
      "source": [
        "## import libraries"
      ]
    },
    {
      "cell_type": "code",
      "metadata": {
        "id": "l9ZR2R55JJ1-"
      },
      "source": [
        "import torch\n",
        "import torch.nn as nn\n",
        "import torch.nn.functional as F\n",
        "import torchvision\n",
        "from torch.utils.data import Dataset\n",
        "from torch.utils.data import DataLoader\n",
        "from torchvision import datasets, transforms\n",
        "import numpy as np\n",
        "import matplotlib.pyplot as plt\n",
        "import math\n",
        "from tqdm import tqdm, tqdm_notebook\n",
        "import random\n",
        "import os"
      ],
      "execution_count": 1,
      "outputs": []
    },
    {
      "cell_type": "markdown",
      "metadata": {
        "id": "hMFQfo7MJJ1_"
      },
      "source": [
        "## load data"
      ]
    },
    {
      "cell_type": "code",
      "metadata": {
        "colab": {
          "base_uri": "https://localhost:8080/"
        },
        "id": "AzjEayuoJJ2A",
        "outputId": "ceb396a1-45b3-448f-be94-2024e622d2fe"
      },
      "source": [
        "from google.colab import drive \n",
        "drive.mount('/content/drive/')\n",
        "\n",
        "directory_data  = './drive/MyDrive/Machine_Learning/'\n",
        "filename_data   = 'assignment_10_data.npz'\n",
        "\n",
        "data            = np.load(os.path.join(directory_data, filename_data))\n",
        "image_clean     = torch.from_numpy(data['real_images']).float()"
      ],
      "execution_count": 2,
      "outputs": [
        {
          "output_type": "stream",
          "name": "stdout",
          "text": [
            "Drive already mounted at /content/drive/; to attempt to forcibly remount, call drive.mount(\"/content/drive/\", force_remount=True).\n"
          ]
        }
      ]
    },
    {
      "cell_type": "code",
      "metadata": {
        "id": "JYUvbu4CO1qs"
      },
      "source": [
        "image_train = image_clean[::2]\n",
        "image_test  = image_clean[1::2]"
      ],
      "execution_count": 3,
      "outputs": []
    },
    {
      "cell_type": "markdown",
      "metadata": {
        "id": "KId6NfjyJJ2B"
      },
      "source": [
        "## custom data loader for the PyTorch framework"
      ]
    },
    {
      "cell_type": "code",
      "metadata": {
        "id": "8-DczpSRJJ2B"
      },
      "source": [
        "class dataset (Dataset):\n",
        "    def  __init__(self, data, std_noise):\n",
        "\n",
        "        noise = torch.randn(data.size()) * std_noise\n",
        "\n",
        "        self.clean  = data\n",
        "        self.noisy  = data + noise\n",
        "\n",
        "    def __getitem__(self, index):\n",
        "\n",
        "        clean   = self.clean[index]\n",
        "        noisy   = self.noisy[index]\n",
        "        \n",
        "        clean = torch.FloatTensor(clean).unsqueeze(dim=0)\n",
        "        noisy = torch.FloatTensor(noisy).unsqueeze(dim=0)\n",
        "\n",
        "        return (clean, noisy)\n",
        "  \n",
        "    def __len__(self):\n",
        "        \n",
        "        return self.clean.shape[0]"
      ],
      "execution_count": 16,
      "outputs": []
    },
    {
      "cell_type": "code",
      "metadata": {
        "id": "0nWREPfrKhnx"
      },
      "source": [
        "# rotattion\n",
        "def rotation(image, degree=90):\n",
        "\n",
        "    func_plt = transforms.functional.to_pil_image\n",
        "    func_rotate = transforms.functional.rotate\n",
        "    func_tensor = transforms.functional.to_tensor\n",
        "\n",
        "    for i in range(len(image)):\n",
        "\n",
        "        trans_image = func_plt(image[i])\n",
        "        trans_image = func_rotate(trans_image, degree)\n",
        "        trans_image = func_tensor(trans_image)\n",
        "        trans_image = trans_image.numpy()\n",
        "\n",
        "        if i == 0:\n",
        "            image_list = trans_image\n",
        "        else:\n",
        "            image_list = np.concatenate([image_list, trans_image], axis=0)\n",
        "\n",
        "    return image_list"
      ],
      "execution_count": 5,
      "outputs": []
    },
    {
      "cell_type": "code",
      "metadata": {
        "id": "6DNgtjhjMPLo"
      },
      "source": [
        "# affine\n",
        "def affine(image, shear=0, scale=1, rate=[10, 10]):\n",
        "\n",
        "    func_plt = transforms.functional.to_pil_image\n",
        "    func_affine = transforms.functional.affine\n",
        "    func_tensor = transforms.functional.to_tensor\n",
        "\n",
        "    for i in range(len(image)):\n",
        "\n",
        "        trans_image = func_plt(image[i])\n",
        "        trans_image = func_affine(trans_image, angle=0, shear=shear, scale=scale, translate=rate)\n",
        "        trans_image = func_tensor(trans_image)\n",
        "        trans_image = trans_image.numpy()\n",
        "\n",
        "        if i == 0:\n",
        "            image_list = trans_image\n",
        "        else:\n",
        "            image_list = np.concatenate([image_list, trans_image], axis=0)\n",
        "\n",
        "    return image_list"
      ],
      "execution_count": 6,
      "outputs": []
    },
    {
      "cell_type": "code",
      "metadata": {
        "id": "QT7DC2XZK1lc"
      },
      "source": [
        "trans_45  = rotation(image_train, degree=45)\n",
        "trans_135 = rotation(image_train, degree=135)\n",
        "trans_225 = rotation(image_train, degree=225)\n",
        "trans_315 = rotation(image_train, degree=315)"
      ],
      "execution_count": 7,
      "outputs": []
    },
    {
      "cell_type": "code",
      "metadata": {
        "id": "LRBbiRC_MO1F"
      },
      "source": [
        "affine_06 = affine(image_train, scale=0.6, rate=[0, 0])\n",
        "affine_12 = affine(image_train, scale=1.2, rate=[0, 0])"
      ],
      "execution_count": 8,
      "outputs": []
    },
    {
      "cell_type": "code",
      "metadata": {
        "id": "nANsIYvVNZyG",
        "outputId": "f4eb22ac-06e9-4074-e412-d11573fb1679",
        "colab": {
          "base_uri": "https://localhost:8080/"
        }
      },
      "source": [
        "x_train = np.concatenate([image_train, affine_06], axis=0)\n",
        "x_train = torch.from_numpy(x_train)\n",
        "print(\"shape of transformed x_train : \", x_train.shape)\n",
        "\n",
        "dataset_train   = dataset(x_train, 0.5)\n",
        "dataset_test    = dataset(image_test, 0.5)"
      ],
      "execution_count": 19,
      "outputs": [
        {
          "output_type": "stream",
          "name": "stdout",
          "text": [
            "shape of transformed x_train :  torch.Size([4324, 32, 32])\n"
          ]
        }
      ]
    },
    {
      "cell_type": "markdown",
      "metadata": {
        "id": "4COmXCafJJ2C"
      },
      "source": [
        "## hyper-parameters"
      ]
    },
    {
      "cell_type": "code",
      "metadata": {
        "id": "3k4HFCaaJJ2D"
      },
      "source": [
        "device          = torch.device('cuda' if torch.cuda.is_available() else 'cpu')\n",
        "\n",
        "number_epoch    = 20\n",
        "size_minibatch  = 50\n",
        "learning_rate   = 0.1\n",
        "weight_decay    = 0.0001\n",
        "weight_regular  = 0.0001"
      ],
      "execution_count": 20,
      "outputs": []
    },
    {
      "cell_type": "markdown",
      "metadata": {
        "id": "e47OCNc3JJ2E"
      },
      "source": [
        "## construct datasets and dataloaders for training and testing"
      ]
    },
    {
      "cell_type": "code",
      "metadata": {
        "id": "8Lz2f9TRJJ2E"
      },
      "source": [
        "dataloader_train            = DataLoader(dataset_train, batch_size=size_minibatch, shuffle=True, drop_last=True)\n",
        "dataloader_test             = DataLoader(dataset_test, batch_size=size_minibatch, shuffle=False, drop_last=True)"
      ],
      "execution_count": 21,
      "outputs": []
    },
    {
      "cell_type": "markdown",
      "metadata": {
        "id": "0WjsCrg3JJ2F"
      },
      "source": [
        "## shape of the data when using the data loader"
      ]
    },
    {
      "cell_type": "code",
      "metadata": {
        "colab": {
          "base_uri": "https://localhost:8080/"
        },
        "id": "VnUSBKz7JJ2F",
        "outputId": "77c13460-78a2-4cdf-98e5-6921e8b0bc67"
      },
      "source": [
        "(image_train, label_train)  = dataset_train[0]\n",
        "(image_test, label_test)    = dataset_test[0]\n",
        "print('*******************************************************************')\n",
        "print('shape of the image in the training dataset:', image_train.shape)\n",
        "print('shape of the label in the training dataset:', label_train.shape)\n",
        "print('*******************************************************************')\n",
        "print('shape of the image in the testing dataset:', image_test.shape)\n",
        "print('shape of the label in the testing dataset:', label_test.shape)\n",
        "print('*******************************************************************')"
      ],
      "execution_count": 22,
      "outputs": [
        {
          "output_type": "stream",
          "name": "stdout",
          "text": [
            "*******************************************************************\n",
            "shape of the image in the training dataset: torch.Size([1, 32, 32])\n",
            "shape of the label in the training dataset: torch.Size([1, 32, 32])\n",
            "*******************************************************************\n",
            "shape of the image in the testing dataset: torch.Size([1, 32, 32])\n",
            "shape of the label in the testing dataset: torch.Size([1, 32, 32])\n",
            "*******************************************************************\n"
          ]
        }
      ]
    },
    {
      "cell_type": "markdown",
      "metadata": {
        "id": "6LIxNzfqJJ2H"
      },
      "source": [
        "## class for the neural network "
      ]
    },
    {
      "cell_type": "markdown",
      "metadata": {
        "id": "UVpI-EQWJJ2J"
      },
      "source": [
        "## build network"
      ]
    },
    {
      "cell_type": "code",
      "metadata": {
        "id": "snDJZyiz_hNI"
      },
      "source": [
        "class Network(nn.Module): \n",
        "\n",
        "\tdef __init__(self, in_channel=1, out_channel=1, dim_feature=256):\n",
        "        \n",
        "\t\tsuper(Network, self).__init__()\n",
        "\n",
        "\t\tself.in_channel \t= in_channel\n",
        "\t\tself.out_channel\t= out_channel\n",
        "\t\tself.dim_feature\t= dim_feature\n",
        "\t\t\n",
        "\t\tself.conv_encode1\t= nn.Conv2d(in_channel , dim_feature * 1, kernel_size=3, stride=2, padding=1, bias=True)\n",
        "\t\tself.conv_encode2\t= nn.Conv2d(dim_feature * 1, dim_feature * 2, kernel_size=3, stride=2, padding=1, bias=True)\n",
        "\n",
        "\t\tself.conv_middle\t= nn.Conv2d(dim_feature * 2, dim_feature * 4, kernel_size=3, stride=1, padding=1, bias=True)\n",
        "\n",
        "\t\tself.conv_decode2 \t= nn.Conv2d(dim_feature * 4, dim_feature * 2, kernel_size=3, stride=1, padding=1, bias=True)\n",
        "\t\tself.conv_decode1 \t= nn.Conv2d(dim_feature * 2, dim_feature * 1, kernel_size=3, stride=1, padding=1, bias=True)\n",
        "\t\tself.conv_out \t\t= nn.Conv2d(dim_feature * 1, out_channel,\tkernel_size=1, stride=1, padding=0, bias=True)\n",
        "\n",
        "\t\tself.ebn1\t\t\t= nn.BatchNorm2d(dim_feature * 1)\n",
        "\t\tself.ebn2\t\t\t= nn.BatchNorm2d(dim_feature * 2)\n",
        "\t\tself.mbn\t\t \t= nn.BatchNorm2d(dim_feature * 4)\n",
        "\t\tself.dbn2\t\t\t= nn.BatchNorm2d(dim_feature * 2)\n",
        "\t\tself.dbn1\t\t\t= nn.BatchNorm2d(dim_feature * 1)\n",
        "\n",
        "\t\tself.activation\t\t= nn.ReLU(inplace=True)\n",
        "\t\tself.activation_out\t= nn.Sigmoid()\n",
        "\n",
        "\t\t# *********************************************************************\n",
        "\t\t# forward propagation\n",
        "\t\t# *********************************************************************\n",
        "\tdef forward(self, x):\n",
        "\n",
        "\t\tx1  = self.conv_encode1(x)\n",
        "\t\teb1 = self.ebn1(x1)\n",
        "\t\te1  = self.activation(eb1)\n",
        "\t\t\n",
        "\t\tx2  = self.conv_encode2(e1)\n",
        "\t\teb2 = self.ebn2(x2)\n",
        "\t\te2  = self.activation(eb2)\n",
        "\t\t\n",
        "\t\tm   = self.conv_middle(e2)\n",
        "\t\tmb  = self.mbn(m)\n",
        "\t\tc   = self.activation(mb)\n",
        "\n",
        "\t\ty2  = nn.Upsample(scale_factor=2, mode='bilinear', align_corners=False)(c)\n",
        "\t\ty2  = self.conv_decode2(y2) \n",
        "\t\tdb2 = self.dbn2(y2)\n",
        "\t\td2  = self.activation(db2)\n",
        "\n",
        "\t\ty1  = nn.Upsample(scale_factor=2, mode='bilinear', align_corners=False)(d2)\n",
        "\t\ty1  = self.conv_decode1(y1) \n",
        "\t\tdb1 = self.dbn1(y1)\n",
        "\t\td1  = self.activation(db1)\n",
        "\t\t\n",
        "\t\ty1  = self.conv_out(d1)\n",
        "\t\ty = self.activation_out(y1)\n",
        "\n",
        "\t\treturn y"
      ],
      "execution_count": 23,
      "outputs": []
    },
    {
      "cell_type": "code",
      "metadata": {
        "id": "fTqHIFHDJJ2K"
      },
      "source": [
        "model       = Network().to(device)\n",
        "optimizer   = torch.optim.Adam(model.parameters(), lr=0.01)"
      ],
      "execution_count": 24,
      "outputs": []
    },
    {
      "cell_type": "code",
      "metadata": {
        "id": "VNyv77IgG2MT"
      },
      "source": [
        "# from torchsummary import summary\n",
        "# summary(model, (1, 32, 32))"
      ],
      "execution_count": 25,
      "outputs": []
    },
    {
      "cell_type": "markdown",
      "metadata": {
        "id": "Qwh6rOvcJJ2K"
      },
      "source": [
        "## compute the prediction"
      ]
    },
    {
      "cell_type": "code",
      "metadata": {
        "id": "FztcGRP1JJ2L"
      },
      "source": [
        "def compute_prediction(model, input):\n",
        "    # ==================================================\n",
        "    # fill up the blank\n",
        "    #\n",
        "\n",
        "    prediction = model(input)\n",
        "    \n",
        "    # \n",
        "    # ==================================================\n",
        "\n",
        "    return prediction"
      ],
      "execution_count": 26,
      "outputs": []
    },
    {
      "cell_type": "code",
      "metadata": {
        "id": "jP1PYiI9JJ2L"
      },
      "source": [
        "def compute_estimate(input, prediction):\n",
        "\n",
        "    number_phase = 2 # bi-partitioning\n",
        "    (batch, channel, height, width) = input.size()\n",
        "\n",
        "    estimate = torch.zeros(number_phase, batch, channel).to(device)\n",
        "    \n",
        "    prediction_inside   = prediction\n",
        "    prediction_outside  = 1 - prediction\n",
        "\n",
        "    # ==================================================\n",
        "    # fill up the blank for the estimate of the inside of segmenting region\n",
        "    #\n",
        "    inside = input * prediction_inside\n",
        "    #print(inside.shape)\n",
        "    inside = inside.sum(axis=3).sum(axis=2)\n",
        "    inside = inside / prediction_inside.sum(axis=3).sum(axis=2)\n",
        "    estimate[0] = inside\n",
        "    # \n",
        "    # ==================================================\n",
        "    \n",
        "    # ==================================================\n",
        "    # fill up the blank for the estimate of the outside of segmenting region\n",
        "    #\n",
        "    outside = input * prediction_outside\n",
        "    outside = outside.sum(axis=3).sum(axis=2)\n",
        "    outside = outside / prediction_outside.sum(axis=3).sum(axis=2)\n",
        "    estimate[1] = outside  \n",
        "    # \n",
        "    # ==================================================\n",
        "    \n",
        "    return estimate"
      ],
      "execution_count": 27,
      "outputs": []
    },
    {
      "cell_type": "code",
      "metadata": {
        "id": "o7ACkCgXJJ2M"
      },
      "source": [
        "def compute_loss_data(input, prediction):\n",
        "\n",
        "    (batch, channel, height, width) = input.size()\n",
        "    estimate = compute_estimate(input, prediction)\n",
        "\n",
        "    prediction_inside   = prediction\n",
        "    prediction_outside  = 1 - prediction\n",
        "\n",
        "    estimate0           = torch.unsqueeze(torch.unsqueeze(estimate[0], dim=-1), dim=-1) \n",
        "    estimate1           = torch.unsqueeze(torch.unsqueeze(estimate[1], dim=-1), dim=-1) \n",
        "\n",
        "    residual_inside     = torch.square(input - estimate0)\n",
        "    residual_outside    = torch.square(input - estimate1)\n",
        "\n",
        "    # print(\"shape of residual_inside : \", residual_inside.shape)\n",
        "    # print(\"shape of residual_outside : \", residual_outside.shape)\n",
        "    \n",
        "    # ==================================================\n",
        "    # fill up the blank for the data fidelity of the inside of segmenting region\n",
        "    #\n",
        "    fidelity_inside = (residual_inside * prediction_inside).sum()\n",
        "    # \n",
        "    # ==================================================\n",
        "    \n",
        "    # ==================================================\n",
        "    # fill up the blank for the data fidelity of the inside of segmenting region\n",
        "    #\n",
        "    fidelity_outside = (residual_outside * prediction_outside).sum()\n",
        "    # \n",
        "    # ==================================================\n",
        "\n",
        "    fidelity = fidelity_inside + fidelity_outside\n",
        "    loss_data       = fidelity / (batch * channel * height * width)\n",
        "    loss_data_value = loss_data.item()\n",
        "\n",
        "    return loss_data, loss_data_value"
      ],
      "execution_count": 28,
      "outputs": []
    },
    {
      "cell_type": "code",
      "metadata": {
        "id": "-f5e-jGIJJ2M"
      },
      "source": [
        "def compute_regularization(prediction):\n",
        "\n",
        "    (batch, channel, height, width) = prediction.size()\n",
        "   \n",
        "    gradient_height = torch.abs(prediction[:, :, 1:, :] - prediction[:, :, :- 1, :]).sum()\n",
        "    gradient_width  = torch.abs(prediction[:, :, :, 1:] - prediction[:, :, :, :-1]).sum()\n",
        "\n",
        "    loss_regularization         = (gradient_height + gradient_width) / (batch * channel * height * width)\n",
        "    loss_regularization_value   = loss_regularization.item()\n",
        "    \n",
        "    return loss_regularization, loss_regularization_value"
      ],
      "execution_count": 29,
      "outputs": []
    },
    {
      "cell_type": "markdown",
      "metadata": {
        "id": "a7sEFAzmJJ2N"
      },
      "source": [
        "## compute the loss"
      ]
    },
    {
      "cell_type": "code",
      "metadata": {
        "id": "dcPxOg4nJJ2N"
      },
      "source": [
        "def compute_loss(input, prediction, alpha):\n",
        "\n",
        "    (loss_data, _)              = compute_loss_data(input, prediction)\n",
        "    (loss_regularization, _)    = compute_regularization(prediction)\n",
        "\n",
        "    # ==================================================\n",
        "    # fill up the blank for the loss that consists of the data fidelity and the regularization with a weight\n",
        "    #\n",
        "    loss        = loss_data + alpha * loss_regularization\n",
        "    # \n",
        "    # ==================================================\n",
        "\n",
        "    loss_value  = loss.item()\n",
        "\n",
        "    return loss, loss_value"
      ],
      "execution_count": 30,
      "outputs": []
    },
    {
      "cell_type": "markdown",
      "metadata": {
        "id": "kHCnQ7SBJJ2O"
      },
      "source": [
        "## compute the accuracy"
      ]
    },
    {
      "cell_type": "code",
      "metadata": {
        "id": "UvWBEMpvJJ2O"
      },
      "source": [
        "def compute_accuracy(prediction, label):\n",
        "    \n",
        "    prediction  = prediction.squeeze(axis=1)\n",
        "    label       = label.squeeze(axis=1)\n",
        "\n",
        "    prediction_binary   = (prediction >= 0.5).cpu().numpy()\n",
        "    label               = label.bool().cpu().numpy()\n",
        "    \n",
        "    region_intersection = prediction_binary & label\n",
        "    region_union        = prediction_binary | label\n",
        "\n",
        "    area_intersection   = region_intersection.sum(axis=1).sum(axis=1).astype(float)\n",
        "    area_union          = region_union.sum(axis=1).sum(axis=1).astype(float)\n",
        "\n",
        "    eps         = np.finfo(float).eps\n",
        "    correct     = area_intersection / (area_union + eps)\n",
        "    accuracy    = correct.mean() * 100.0\n",
        "    \n",
        "    return accuracy"
      ],
      "execution_count": 31,
      "outputs": []
    },
    {
      "cell_type": "markdown",
      "metadata": {
        "id": "RYcZfv1zJJ2O"
      },
      "source": [
        "## variables for the learning curve"
      ]
    },
    {
      "cell_type": "code",
      "metadata": {
        "id": "ATqrjzX4JJ2P"
      },
      "source": [
        "loss_mean_train     = np.zeros(number_epoch)\n",
        "loss_std_train      = np.zeros(number_epoch)\n",
        "accuracy_mean_train = np.zeros(number_epoch)\n",
        "accuracy_std_train  = np.zeros(number_epoch)\n",
        "\n",
        "loss_mean_test      = np.zeros(number_epoch)\n",
        "loss_std_test       = np.zeros(number_epoch)\n",
        "accuracy_mean_test  = np.zeros(number_epoch)\n",
        "accuracy_std_test   = np.zeros(number_epoch)"
      ],
      "execution_count": 32,
      "outputs": []
    },
    {
      "cell_type": "markdown",
      "metadata": {
        "id": "yXYA-PGpJJ2P"
      },
      "source": [
        "## train"
      ]
    },
    {
      "cell_type": "code",
      "metadata": {
        "id": "nczD8ADXJJ2P"
      },
      "source": [
        "def train(model, dataloader):\n",
        "\n",
        "    loss_epoch      = []\n",
        "    accuracy_epoch  = []\n",
        "\n",
        "    model.train()\n",
        "\n",
        "    for index_batch, (clean, noisy) in enumerate(dataloader):\n",
        "\n",
        "        clean = clean.to(device)\n",
        "        noisy = noisy.to(device)\n",
        "        \n",
        "        prediction          = compute_prediction(model, noisy)\n",
        "        loss, loss_value    = compute_loss(noisy, prediction, weight_regular)\n",
        "        accuracy1           = compute_accuracy(prediction, clean)\n",
        "        accuracy2           = compute_accuracy(1 - prediction, clean)\n",
        "        accuracy            = np.maximum(accuracy1, accuracy2)\n",
        "\n",
        "        optimizer.zero_grad()\n",
        "        loss.backward()\n",
        "        optimizer.step()\n",
        "\n",
        "        loss_epoch.append(loss_value)\n",
        "        accuracy_epoch.append(accuracy)\n",
        "\n",
        "    loss_mean_epoch     = np.mean(loss_epoch)\n",
        "    loss_std_epoch      = np.std(loss_epoch)\n",
        "\n",
        "    accuracy_mean_epoch = np.mean(accuracy_epoch)\n",
        "    accuracy_std_epoch  = np.std(accuracy_epoch)\n",
        "\n",
        "    loss        = {'mean' : loss_mean_epoch, 'std' : loss_std_epoch}\n",
        "    accuracy    = {'mean' : accuracy_mean_epoch, 'std' : accuracy_std_epoch}\n",
        "\n",
        "    return (loss, accuracy)    \n"
      ],
      "execution_count": 33,
      "outputs": []
    },
    {
      "cell_type": "markdown",
      "metadata": {
        "id": "W7IynYknJJ2Q"
      },
      "source": [
        "## test"
      ]
    },
    {
      "cell_type": "code",
      "metadata": {
        "id": "PvZrdQYOJJ2Q"
      },
      "source": [
        "def test(model, dataloader):\n",
        "\n",
        "    loss_epoch      = []\n",
        "    accuracy_epoch  = []\n",
        "\n",
        "    model.eval()\n",
        "\n",
        "    for index_batch, (clean, noisy) in enumerate(dataloader):\n",
        "\n",
        "        clean = clean.to(device)\n",
        "        noisy = noisy.to(device)\n",
        "        \n",
        "        prediction          = compute_prediction(model, noisy)\n",
        "        loss, loss_value    = compute_loss(noisy, prediction, weight_regular)\n",
        "        accuracy1           = compute_accuracy(prediction, clean)\n",
        "        accuracy2           = compute_accuracy(1 - prediction, clean)\n",
        "        accuracy            = np.maximum(accuracy1, accuracy2)\n",
        "\n",
        "        loss_epoch.append(loss_value)\n",
        "        accuracy_epoch.append(accuracy)\n",
        "\n",
        "    loss_mean_epoch     = np.mean(loss_epoch)\n",
        "    loss_std_epoch      = np.std(loss_epoch)\n",
        "\n",
        "    accuracy_mean_epoch = np.mean(accuracy_epoch)\n",
        "    accuracy_std_epoch  = np.std(accuracy_epoch)\n",
        "\n",
        "    loss        = {'mean' : loss_mean_epoch, 'std' : loss_std_epoch}\n",
        "    accuracy    = {'mean' : accuracy_mean_epoch, 'std' : accuracy_std_epoch}\n",
        "\n",
        "    return (loss, accuracy)    "
      ],
      "execution_count": 34,
      "outputs": []
    },
    {
      "cell_type": "markdown",
      "metadata": {
        "id": "aLM2ynO8JJ2R"
      },
      "source": [
        "## train and test"
      ]
    },
    {
      "cell_type": "code",
      "metadata": {
        "colab": {
          "base_uri": "https://localhost:8080/",
          "height": 873,
          "referenced_widgets": [
            "8d3e21e24ec343199e319f7276780947",
            "13c94d3d52b0400e98f0b6c6008afd2d",
            "16f79063421545f2bdb9c48f63d52011",
            "7aaa4103f1f648b5b7739c3dd4874f98",
            "bb997eee313b4c1698eed01c9c43275d",
            "b8019e4162414fe0a32bf00e5a844d44",
            "8e9ed94a3cdf41eba6cfeb2318efda64",
            "5993c3eb961b4d9daf1cdccb0fe9403c",
            "24fb9c24457148efaf258cc97e66d00b",
            "1a3dea228db243039cdf02bb7589a801",
            "9d1e26d6da8e4a2a9b1503b2bd19d484"
          ]
        },
        "id": "3s4xxgQnJJ2R",
        "outputId": "6a806b31-1ac8-42ee-8b62-1e159864187b"
      },
      "source": [
        "# ================================================================================\n",
        "# \n",
        "# iterations for epochs\n",
        "#\n",
        "# ================================================================================\n",
        "for i in tqdm_notebook(range(number_epoch)):\n",
        "    \n",
        "    # ================================================================================\n",
        "    # \n",
        "    # training\n",
        "    #\n",
        "    # ================================================================================\n",
        "    (loss_train, accuracy_train) = train(model, dataloader_train)\n",
        "\n",
        "    loss_mean_train[i]      = loss_train['mean']\n",
        "    loss_std_train[i]       = loss_train['std']\n",
        "\n",
        "    accuracy_mean_train[i]  = accuracy_train['mean']\n",
        "    accuracy_std_train[i]   = accuracy_train['std']\n",
        "\n",
        "    # ================================================================================\n",
        "    # \n",
        "    # testing\n",
        "    #\n",
        "    # ================================================================================\n",
        "    (loss_test, accuracy_test) = test(model, dataloader_test)\n",
        "\n",
        "    loss_mean_test[i]      = loss_test['mean']\n",
        "    loss_std_test[i]       = loss_test['std']\n",
        "\n",
        "    accuracy_mean_test[i]  = accuracy_test['mean']\n",
        "    accuracy_std_test[i]   = accuracy_test['std']\n",
        "\n",
        "    print(f\"epoch : {i}\")\n",
        "    print(f\"\\ttrain loss : {loss_train['mean']}, train acc : {accuracy_train['mean']}\")\n",
        "    print(f\"\\ttest loss  : {loss_test['mean']},  test acc  : {accuracy_test['mean']}\")"
      ],
      "execution_count": 35,
      "outputs": [
        {
          "output_type": "stream",
          "name": "stderr",
          "text": [
            "/usr/local/lib/python3.7/dist-packages/ipykernel_launcher.py:6: TqdmDeprecationWarning: This function will be removed in tqdm==5.0.0\n",
            "Please use `tqdm.notebook.tqdm` instead of `tqdm.tqdm_notebook`\n",
            "  \n"
          ]
        },
        {
          "output_type": "display_data",
          "data": {
            "application/vnd.jupyter.widget-view+json": {
              "model_id": "8d3e21e24ec343199e319f7276780947",
              "version_minor": 0,
              "version_major": 2
            },
            "text/plain": [
              "  0%|          | 0/20 [00:00<?, ?it/s]"
            ]
          },
          "metadata": {}
        },
        {
          "output_type": "stream",
          "name": "stdout",
          "text": [
            "epoch : 0\n",
            "\ttrain loss : 0.267849468561106, train acc : 71.68751271635982\n",
            "\ttest loss  : 0.2556727986003077,  test acc  : 90.9523389816841\n",
            "epoch : 1\n",
            "\ttrain loss : 0.25457058881604394, train acc : 87.08138328215774\n",
            "\ttest loss  : 0.26854420539944673,  test acc  : 81.77734076777485\n",
            "epoch : 2\n",
            "\ttrain loss : 0.25202265104582144, train acc : 90.95678012468343\n",
            "\ttest loss  : 0.25094850777193556,  test acc  : 96.31433532718958\n",
            "epoch : 3\n",
            "\ttrain loss : 0.25047319330448325, train acc : 93.32285559550968\n",
            "\ttest loss  : 0.25013878560343455,  test acc  : 96.65790835769882\n",
            "epoch : 4\n",
            "\ttrain loss : 0.24973126985999042, train acc : 91.56221734849039\n",
            "\ttest loss  : 0.2499357448067776,  test acc  : 94.31953270068072\n",
            "epoch : 5\n",
            "\ttrain loss : 0.248148545276287, train acc : 82.02786143760629\n",
            "\ttest loss  : 0.24713689573975497,  test acc  : 85.79869934303599\n",
            "epoch : 6\n",
            "\ttrain loss : 0.2442514315940613, train acc : 71.46796339238237\n",
            "\ttest loss  : 0.24356471417948258,  test acc  : 82.08574105842216\n"
          ]
        },
        {
          "output_type": "error",
          "ename": "KeyboardInterrupt",
          "evalue": "ignored",
          "traceback": [
            "\u001b[0;31m---------------------------------------------------------------------------\u001b[0m",
            "\u001b[0;31mKeyboardInterrupt\u001b[0m                         Traceback (most recent call last)",
            "\u001b[0;32m<ipython-input-35-0b01f2f70014>\u001b[0m in \u001b[0;36m<module>\u001b[0;34m()\u001b[0m\n\u001b[1;32m     11\u001b[0m     \u001b[0;31m#\u001b[0m\u001b[0;34m\u001b[0m\u001b[0;34m\u001b[0m\u001b[0;34m\u001b[0m\u001b[0m\n\u001b[1;32m     12\u001b[0m     \u001b[0;31m# ================================================================================\u001b[0m\u001b[0;34m\u001b[0m\u001b[0;34m\u001b[0m\u001b[0;34m\u001b[0m\u001b[0m\n\u001b[0;32m---> 13\u001b[0;31m     \u001b[0;34m(\u001b[0m\u001b[0mloss_train\u001b[0m\u001b[0;34m,\u001b[0m \u001b[0maccuracy_train\u001b[0m\u001b[0;34m)\u001b[0m \u001b[0;34m=\u001b[0m \u001b[0mtrain\u001b[0m\u001b[0;34m(\u001b[0m\u001b[0mmodel\u001b[0m\u001b[0;34m,\u001b[0m \u001b[0mdataloader_train\u001b[0m\u001b[0;34m)\u001b[0m\u001b[0;34m\u001b[0m\u001b[0;34m\u001b[0m\u001b[0m\n\u001b[0m\u001b[1;32m     14\u001b[0m \u001b[0;34m\u001b[0m\u001b[0m\n\u001b[1;32m     15\u001b[0m     \u001b[0mloss_mean_train\u001b[0m\u001b[0;34m[\u001b[0m\u001b[0mi\u001b[0m\u001b[0;34m]\u001b[0m      \u001b[0;34m=\u001b[0m \u001b[0mloss_train\u001b[0m\u001b[0;34m[\u001b[0m\u001b[0;34m'mean'\u001b[0m\u001b[0;34m]\u001b[0m\u001b[0;34m\u001b[0m\u001b[0;34m\u001b[0m\u001b[0m\n",
            "\u001b[0;32m<ipython-input-33-2a1502e09afd>\u001b[0m in \u001b[0;36mtrain\u001b[0;34m(model, dataloader)\u001b[0m\n\u001b[1;32m     12\u001b[0m \u001b[0;34m\u001b[0m\u001b[0m\n\u001b[1;32m     13\u001b[0m         \u001b[0mprediction\u001b[0m          \u001b[0;34m=\u001b[0m \u001b[0mcompute_prediction\u001b[0m\u001b[0;34m(\u001b[0m\u001b[0mmodel\u001b[0m\u001b[0;34m,\u001b[0m \u001b[0mnoisy\u001b[0m\u001b[0;34m)\u001b[0m\u001b[0;34m\u001b[0m\u001b[0;34m\u001b[0m\u001b[0m\n\u001b[0;32m---> 14\u001b[0;31m         \u001b[0mloss\u001b[0m\u001b[0;34m,\u001b[0m \u001b[0mloss_value\u001b[0m    \u001b[0;34m=\u001b[0m \u001b[0mcompute_loss\u001b[0m\u001b[0;34m(\u001b[0m\u001b[0mnoisy\u001b[0m\u001b[0;34m,\u001b[0m \u001b[0mprediction\u001b[0m\u001b[0;34m,\u001b[0m \u001b[0mweight_regular\u001b[0m\u001b[0;34m)\u001b[0m\u001b[0;34m\u001b[0m\u001b[0;34m\u001b[0m\u001b[0m\n\u001b[0m\u001b[1;32m     15\u001b[0m         \u001b[0maccuracy1\u001b[0m           \u001b[0;34m=\u001b[0m \u001b[0mcompute_accuracy\u001b[0m\u001b[0;34m(\u001b[0m\u001b[0mprediction\u001b[0m\u001b[0;34m,\u001b[0m \u001b[0mclean\u001b[0m\u001b[0;34m)\u001b[0m\u001b[0;34m\u001b[0m\u001b[0;34m\u001b[0m\u001b[0m\n\u001b[1;32m     16\u001b[0m         \u001b[0maccuracy2\u001b[0m           \u001b[0;34m=\u001b[0m \u001b[0mcompute_accuracy\u001b[0m\u001b[0;34m(\u001b[0m\u001b[0;36m1\u001b[0m \u001b[0;34m-\u001b[0m \u001b[0mprediction\u001b[0m\u001b[0;34m,\u001b[0m \u001b[0mclean\u001b[0m\u001b[0;34m)\u001b[0m\u001b[0;34m\u001b[0m\u001b[0;34m\u001b[0m\u001b[0m\n",
            "\u001b[0;32m<ipython-input-30-cb2b932a2d94>\u001b[0m in \u001b[0;36mcompute_loss\u001b[0;34m(input, prediction, alpha)\u001b[0m\n\u001b[1;32m      1\u001b[0m \u001b[0;32mdef\u001b[0m \u001b[0mcompute_loss\u001b[0m\u001b[0;34m(\u001b[0m\u001b[0minput\u001b[0m\u001b[0;34m,\u001b[0m \u001b[0mprediction\u001b[0m\u001b[0;34m,\u001b[0m \u001b[0malpha\u001b[0m\u001b[0;34m)\u001b[0m\u001b[0;34m:\u001b[0m\u001b[0;34m\u001b[0m\u001b[0;34m\u001b[0m\u001b[0m\n\u001b[1;32m      2\u001b[0m \u001b[0;34m\u001b[0m\u001b[0m\n\u001b[0;32m----> 3\u001b[0;31m     \u001b[0;34m(\u001b[0m\u001b[0mloss_data\u001b[0m\u001b[0;34m,\u001b[0m \u001b[0m_\u001b[0m\u001b[0;34m)\u001b[0m              \u001b[0;34m=\u001b[0m \u001b[0mcompute_loss_data\u001b[0m\u001b[0;34m(\u001b[0m\u001b[0minput\u001b[0m\u001b[0;34m,\u001b[0m \u001b[0mprediction\u001b[0m\u001b[0;34m)\u001b[0m\u001b[0;34m\u001b[0m\u001b[0;34m\u001b[0m\u001b[0m\n\u001b[0m\u001b[1;32m      4\u001b[0m     \u001b[0;34m(\u001b[0m\u001b[0mloss_regularization\u001b[0m\u001b[0;34m,\u001b[0m \u001b[0m_\u001b[0m\u001b[0;34m)\u001b[0m    \u001b[0;34m=\u001b[0m \u001b[0mcompute_regularization\u001b[0m\u001b[0;34m(\u001b[0m\u001b[0mprediction\u001b[0m\u001b[0;34m)\u001b[0m\u001b[0;34m\u001b[0m\u001b[0;34m\u001b[0m\u001b[0m\n\u001b[1;32m      5\u001b[0m \u001b[0;34m\u001b[0m\u001b[0m\n",
            "\u001b[0;32m<ipython-input-28-a109d7ea9d2e>\u001b[0m in \u001b[0;36mcompute_loss_data\u001b[0;34m(input, prediction)\u001b[0m\n\u001b[1;32m      2\u001b[0m \u001b[0;34m\u001b[0m\u001b[0m\n\u001b[1;32m      3\u001b[0m     \u001b[0;34m(\u001b[0m\u001b[0mbatch\u001b[0m\u001b[0;34m,\u001b[0m \u001b[0mchannel\u001b[0m\u001b[0;34m,\u001b[0m \u001b[0mheight\u001b[0m\u001b[0;34m,\u001b[0m \u001b[0mwidth\u001b[0m\u001b[0;34m)\u001b[0m \u001b[0;34m=\u001b[0m \u001b[0minput\u001b[0m\u001b[0;34m.\u001b[0m\u001b[0msize\u001b[0m\u001b[0;34m(\u001b[0m\u001b[0;34m)\u001b[0m\u001b[0;34m\u001b[0m\u001b[0;34m\u001b[0m\u001b[0m\n\u001b[0;32m----> 4\u001b[0;31m     \u001b[0mestimate\u001b[0m \u001b[0;34m=\u001b[0m \u001b[0mcompute_estimate\u001b[0m\u001b[0;34m(\u001b[0m\u001b[0minput\u001b[0m\u001b[0;34m,\u001b[0m \u001b[0mprediction\u001b[0m\u001b[0;34m)\u001b[0m\u001b[0;34m\u001b[0m\u001b[0;34m\u001b[0m\u001b[0m\n\u001b[0m\u001b[1;32m      5\u001b[0m \u001b[0;34m\u001b[0m\u001b[0m\n\u001b[1;32m      6\u001b[0m     \u001b[0mprediction_inside\u001b[0m   \u001b[0;34m=\u001b[0m \u001b[0mprediction\u001b[0m\u001b[0;34m\u001b[0m\u001b[0;34m\u001b[0m\u001b[0m\n",
            "\u001b[0;32m<ipython-input-27-05dbb9b36d14>\u001b[0m in \u001b[0;36mcompute_estimate\u001b[0;34m(input, prediction)\u001b[0m\n\u001b[1;32m      4\u001b[0m     \u001b[0;34m(\u001b[0m\u001b[0mbatch\u001b[0m\u001b[0;34m,\u001b[0m \u001b[0mchannel\u001b[0m\u001b[0;34m,\u001b[0m \u001b[0mheight\u001b[0m\u001b[0;34m,\u001b[0m \u001b[0mwidth\u001b[0m\u001b[0;34m)\u001b[0m \u001b[0;34m=\u001b[0m \u001b[0minput\u001b[0m\u001b[0;34m.\u001b[0m\u001b[0msize\u001b[0m\u001b[0;34m(\u001b[0m\u001b[0;34m)\u001b[0m\u001b[0;34m\u001b[0m\u001b[0;34m\u001b[0m\u001b[0m\n\u001b[1;32m      5\u001b[0m \u001b[0;34m\u001b[0m\u001b[0m\n\u001b[0;32m----> 6\u001b[0;31m     \u001b[0mestimate\u001b[0m \u001b[0;34m=\u001b[0m \u001b[0mtorch\u001b[0m\u001b[0;34m.\u001b[0m\u001b[0mzeros\u001b[0m\u001b[0;34m(\u001b[0m\u001b[0mnumber_phase\u001b[0m\u001b[0;34m,\u001b[0m \u001b[0mbatch\u001b[0m\u001b[0;34m,\u001b[0m \u001b[0mchannel\u001b[0m\u001b[0;34m)\u001b[0m\u001b[0;34m.\u001b[0m\u001b[0mto\u001b[0m\u001b[0;34m(\u001b[0m\u001b[0mdevice\u001b[0m\u001b[0;34m)\u001b[0m\u001b[0;34m\u001b[0m\u001b[0;34m\u001b[0m\u001b[0m\n\u001b[0m\u001b[1;32m      7\u001b[0m \u001b[0;34m\u001b[0m\u001b[0m\n\u001b[1;32m      8\u001b[0m     \u001b[0mprediction_inside\u001b[0m   \u001b[0;34m=\u001b[0m \u001b[0mprediction\u001b[0m\u001b[0;34m\u001b[0m\u001b[0;34m\u001b[0m\u001b[0m\n",
            "\u001b[0;31mKeyboardInterrupt\u001b[0m: "
          ]
        }
      ]
    },
    {
      "cell_type": "markdown",
      "metadata": {
        "id": "OaTHU7pkJJ2S"
      },
      "source": [
        "# functions for visualizing the results "
      ]
    },
    {
      "cell_type": "markdown",
      "metadata": {
        "id": "48fQ2nVqJJ2T"
      },
      "source": [
        "---"
      ]
    },
    {
      "cell_type": "markdown",
      "metadata": {
        "id": "Zz37CiQLJJ2T"
      },
      "source": [
        "## plot curve"
      ]
    },
    {
      "cell_type": "markdown",
      "metadata": {
        "id": "awrJeSG7JJ2T"
      },
      "source": [
        ""
      ]
    },
    {
      "cell_type": "code",
      "metadata": {
        "id": "8uZnOrurJJ2T"
      },
      "source": [
        "def plot_data_grid(data, index_data, nRow, nCol):\n",
        "    \n",
        "    size_col = 1.5\n",
        "    size_row = 1.5\n",
        "\n",
        "    fig, axes = plt.subplots(nRow, nCol, constrained_layout=True, figsize=(nCol * size_col, nRow * size_row))\n",
        "\n",
        "    for i in range(nRow):\n",
        "        for j in range(nCol):\n",
        "\n",
        "            k       = i * nCol + j\n",
        "            index   = index_data[k]\n",
        "\n",
        "            axes[i, j].imshow(data[index], cmap='gray', vmin=0, vmax=1)\n",
        "            axes[i, j].xaxis.set_visible(False)\n",
        "            axes[i, j].yaxis.set_visible(False)\n",
        "\n",
        "    plt.show()"
      ],
      "execution_count": null,
      "outputs": []
    },
    {
      "cell_type": "code",
      "metadata": {
        "id": "FKCPqJgaJJ2U"
      },
      "source": [
        "def plot_data_tensor_grid(data, index_data, nRow, nCol):\n",
        "    \n",
        "    size_col = 1.5\n",
        "    size_row = 1.5\n",
        "\n",
        "    fig, axes = plt.subplots(nRow, nCol, constrained_layout=True, figsize=(nCol * size_col, nRow * size_row))\n",
        "\n",
        "    data = data.detach().cpu().squeeze(axis=1)\n",
        "\n",
        "    for i in range(nRow):\n",
        "        for j in range(nCol):\n",
        "\n",
        "            k       = i * nCol + j\n",
        "            index   = index_data[k]\n",
        "\n",
        "            axes[i, j].imshow(data[index], cmap='gray', vmin=0, vmax=1)\n",
        "            axes[i, j].xaxis.set_visible(False)\n",
        "            axes[i, j].yaxis.set_visible(False)\n",
        "\n",
        "    plt.show()"
      ],
      "execution_count": null,
      "outputs": []
    },
    {
      "cell_type": "code",
      "metadata": {
        "id": "b0n6hrbIJJ2U"
      },
      "source": [
        "def plot_curve_error(data_mean, data_std, x_label, y_label, title):\n",
        "\n",
        "    plt.figure(figsize=(8, 6))\n",
        "    plt.title(title)\n",
        "\n",
        "    alpha = 0.3\n",
        "    \n",
        "    plt.plot(range(len(data_mean)), data_mean, '-', color = 'red')\n",
        "    plt.fill_between(range(len(data_mean)), data_mean - data_std, data_mean + data_std, facecolor = 'blue', alpha = alpha) \n",
        "    \n",
        "    plt.xlabel(x_label)\n",
        "    plt.ylabel(y_label)\n",
        "\n",
        "    plt.tight_layout()\n",
        "    plt.show()"
      ],
      "execution_count": null,
      "outputs": []
    },
    {
      "cell_type": "code",
      "metadata": {
        "id": "zBXfnozEJJ2U"
      },
      "source": [
        "def print_curve(data, index):\n",
        "    \n",
        "    for i in range(len(index)):\n",
        "\n",
        "        idx = index[i]\n",
        "        val = data[idx]\n",
        "\n",
        "        print('index = %2d, value = %12.10f' % (idx, val))"
      ],
      "execution_count": null,
      "outputs": []
    },
    {
      "cell_type": "code",
      "metadata": {
        "id": "mqotIPERJJ2V"
      },
      "source": [
        "def get_data_last(data, index_start):\n",
        "\n",
        "    data_last = data[index_start:]\n",
        "\n",
        "    return data_last"
      ],
      "execution_count": null,
      "outputs": []
    },
    {
      "cell_type": "code",
      "metadata": {
        "id": "8fFsFFKDJJ2V"
      },
      "source": [
        "def get_max_last_range(data, index_start):\n",
        "\n",
        "    data_range = get_data_last(data, index_start)\n",
        "    value = data_range.max()\n",
        "\n",
        "    return value"
      ],
      "execution_count": null,
      "outputs": []
    },
    {
      "cell_type": "code",
      "metadata": {
        "id": "2W3GlCt2JJ2V"
      },
      "source": [
        "def get_min_last_range(data, index_start):\n",
        "\n",
        "    data_range = get_data_last(data, index_start)\n",
        "    value = data_range.min()\n",
        "\n",
        "    return value"
      ],
      "execution_count": null,
      "outputs": []
    },
    {
      "cell_type": "markdown",
      "metadata": {
        "id": "i1TEOnoLJJ2W"
      },
      "source": [
        "---"
      ]
    },
    {
      "cell_type": "markdown",
      "metadata": {
        "id": "4ziCTMzmJJ2W"
      },
      "source": [
        "# functions for presenting the results"
      ]
    },
    {
      "cell_type": "markdown",
      "metadata": {
        "id": "1FIMx1NTJJ2W"
      },
      "source": [
        "---"
      ]
    },
    {
      "cell_type": "code",
      "metadata": {
        "id": "myyWO1m0JJ2W"
      },
      "source": [
        "def function_result_01():\n",
        "\n",
        "    print('[plot examples of the training noisy images]')\n",
        "    print('') \n",
        "\n",
        "    nRow = 8\n",
        "    nCol = 6\n",
        "\n",
        "    number_data = len(dataset_train)\n",
        "    step        = np.floor(number_data / (nRow * nCol))\n",
        "    index_data  = np.arange(0, number_data, step)\n",
        "    index_plot  = np.arange(0, nRow * nCol)\n",
        "\n",
        "    _, data     = dataset_train[index_data]\n",
        "    data        = data[0]\n",
        "    \n",
        "    plot_data_grid(data, index_plot, nRow, nCol)"
      ],
      "execution_count": null,
      "outputs": []
    },
    {
      "cell_type": "code",
      "metadata": {
        "id": "o1RnAv48JJ2X"
      },
      "source": [
        "def function_result_02():\n",
        "\n",
        "    print('[plot examples of the training ground truth images]')\n",
        "    print('') \n",
        "    \n",
        "    nRow = 8\n",
        "    nCol = 6\n",
        "\n",
        "    number_data = len(dataset_train)\n",
        "    step        = np.floor(number_data / (nRow * nCol))\n",
        "    index_data  = np.arange(0, number_data, step)\n",
        "    index_plot  = np.arange(0, nRow * nCol)\n",
        "\n",
        "    data, _     = dataset_train[index_data]\n",
        "    data        = data[0]\n",
        "    \n",
        "    plot_data_grid(data, index_plot, nRow, nCol)"
      ],
      "execution_count": null,
      "outputs": []
    },
    {
      "cell_type": "code",
      "metadata": {
        "id": "wzKFsbw9JJ2X"
      },
      "source": [
        "def function_result_03():\n",
        "\n",
        "    print('[plot examples of the training segmentation results]')\n",
        "    print('') \n",
        "\n",
        "    nRow = 8\n",
        "    nCol = 6\n",
        "\n",
        "    number_data = len(dataset_train)\n",
        "    step        = np.floor(number_data / (nRow * nCol))\n",
        "    index_data  = np.arange(0, number_data, step)\n",
        "    index_plot  = np.arange(0, nRow * nCol)\n",
        "\n",
        "    _, data     = dataset_train[index_data] \n",
        "    data        = data[0].unsqueeze(dim=1).to(device)\n",
        "    prediction  = compute_prediction(model, data)\n",
        "    \n",
        "    plot_data_tensor_grid(prediction, index_plot, nRow, nCol)"
      ],
      "execution_count": null,
      "outputs": []
    },
    {
      "cell_type": "code",
      "metadata": {
        "id": "nY1D7x3NJJ2X"
      },
      "source": [
        "def function_result_04():\n",
        "\n",
        "    print('[plot examples of the testing noisy images]')\n",
        "    print('') \n",
        "    \n",
        "    nRow = 8\n",
        "    nCol = 6\n",
        "\n",
        "    number_data = len(dataset_test)\n",
        "    step        = np.floor(number_data / (nRow * nCol))\n",
        "    index_data  = np.arange(0, number_data, step)\n",
        "    index_plot  = np.arange(0, nRow * nCol)\n",
        "\n",
        "    _, data     = dataset_test[index_data]\n",
        "    data        = data[0]\n",
        "    \n",
        "    plot_data_grid(data, index_plot, nRow, nCol)"
      ],
      "execution_count": null,
      "outputs": []
    },
    {
      "cell_type": "code",
      "metadata": {
        "id": "yVeG_ASaJJ2Y"
      },
      "source": [
        "def function_result_05():\n",
        "\n",
        "    print('[plot examples of the testing ground truth images]')\n",
        "    print('') \n",
        "\n",
        "    nRow = 8\n",
        "    nCol = 6\n",
        "\n",
        "    number_data = len(dataset_test)\n",
        "    step        = np.floor(number_data / (nRow * nCol))\n",
        "    index_data  = np.arange(0, number_data, step)\n",
        "    index_plot  = np.arange(0, nRow * nCol)\n",
        "   \n",
        "    data, _     = dataset_test[index_data]\n",
        "    data        = data[0]\n",
        "    \n",
        "    plot_data_grid(data, index_plot, nRow, nCol)"
      ],
      "execution_count": null,
      "outputs": []
    },
    {
      "cell_type": "code",
      "metadata": {
        "id": "wrGyPJaDJJ2Y"
      },
      "source": [
        "def function_result_06():\n",
        "\n",
        "    print('[plot examples of the testing segmentation results]')\n",
        "    print('') \n",
        "\n",
        "    nRow = 8\n",
        "    nCol = 6\n",
        "\n",
        "    number_data = len(dataset_test)\n",
        "    step        = np.floor(number_data / (nRow * nCol))\n",
        "    index_data  = np.arange(0, number_data, step)\n",
        "    index_plot  = np.arange(0, nRow * nCol)\n",
        "\n",
        "    _, data     = dataset_test[index_data]\n",
        "    data        = data[0].unsqueeze(dim=1).to(device)\n",
        "    prediction  = compute_prediction(model, data)\n",
        "    \n",
        "    plot_data_tensor_grid(prediction, index_plot, nRow, nCol)"
      ],
      "execution_count": null,
      "outputs": []
    },
    {
      "cell_type": "code",
      "metadata": {
        "id": "u5ReombcJJ2Y"
      },
      "source": [
        "def function_result_07():\n",
        "\n",
        "    print('[plot the training loss]')\n",
        "    print('') \n",
        "\n",
        "    plot_curve_error(loss_mean_train, loss_std_train, 'epoch', 'loss', 'loss (training)')"
      ],
      "execution_count": null,
      "outputs": []
    },
    {
      "cell_type": "code",
      "metadata": {
        "id": "-z41viADJJ2Z"
      },
      "source": [
        "def function_result_08():\n",
        "\n",
        "    print('[plot the training accuracy]')\n",
        "    print('') \n",
        "    \n",
        "    plot_curve_error(accuracy_mean_train, accuracy_std_train, 'epoch', 'accuracy', 'accuracy (training)')"
      ],
      "execution_count": null,
      "outputs": []
    },
    {
      "cell_type": "code",
      "metadata": {
        "id": "dzmf2PeHJJ2Z"
      },
      "source": [
        "def function_result_09():\n",
        "    \n",
        "    print('[plot the testing loss]')\n",
        "    print('') \n",
        "    \n",
        "    plot_curve_error(loss_mean_test, loss_std_test, 'epoch', 'loss', 'loss (testing)')"
      ],
      "execution_count": null,
      "outputs": []
    },
    {
      "cell_type": "code",
      "metadata": {
        "id": "muZqxZRfJJ2Z"
      },
      "source": [
        "def function_result_10():\n",
        "    \n",
        "    print('[plot the testing accuracy]') \n",
        "    print('') \n",
        "    \n",
        "    plot_curve_error(accuracy_mean_test, accuracy_std_test, 'epoch', 'accuracy', 'accuracy (testing)')"
      ],
      "execution_count": null,
      "outputs": []
    },
    {
      "cell_type": "code",
      "metadata": {
        "id": "q7V4y1YmJJ2a"
      },
      "source": [
        "def function_result_11():\n",
        "    \n",
        "    print('[print the training loss at the last 10 epochs]')\n",
        "    print('') \n",
        "\n",
        "    data_last   = get_data_last(loss_mean_train, -10)\n",
        "    index       = np.arange(0, 10)\n",
        "    \n",
        "    print_curve(data_last, index)"
      ],
      "execution_count": null,
      "outputs": []
    },
    {
      "cell_type": "code",
      "metadata": {
        "id": "XikG4C6yJJ2a"
      },
      "source": [
        "def function_result_12():\n",
        "    \n",
        "    print('[print the training accuracy at the last 10 epochs]')\n",
        "    print('') \n",
        "    \n",
        "    data_last   = get_data_last(accuracy_mean_train, -10)\n",
        "    index       = np.arange(0, 10)\n",
        "    \n",
        "    print_curve(data_last, index)"
      ],
      "execution_count": null,
      "outputs": []
    },
    {
      "cell_type": "code",
      "metadata": {
        "id": "rjpmQujAJJ2a"
      },
      "source": [
        "def function_result_13():\n",
        "    \n",
        "    print('[print the testing loss at the last 10 epochs]')\n",
        "    print('') \n",
        "    \n",
        "    data_last   = get_data_last(loss_mean_test, -10)\n",
        "    index       = np.arange(0, 10)\n",
        "    \n",
        "    print_curve(data_last, index)"
      ],
      "execution_count": null,
      "outputs": []
    },
    {
      "cell_type": "code",
      "metadata": {
        "id": "6ySuJq8sJJ2b"
      },
      "source": [
        "def function_result_14():\n",
        "    \n",
        "    print('[print the testing accuracy at the last 10 epochs]')\n",
        "    print('') \n",
        "    \n",
        "    data_last   = get_data_last(accuracy_mean_test, -10)\n",
        "    index       = np.arange(0, 10)\n",
        "    \n",
        "    print_curve(data_last, index)"
      ],
      "execution_count": null,
      "outputs": []
    },
    {
      "cell_type": "code",
      "metadata": {
        "id": "DN2NltY2JJ2b"
      },
      "source": [
        "def function_result_15():\n",
        "    \n",
        "    print('[print the best training accuracy within the last 10 epochs]')\n",
        "    print('') \n",
        "\n",
        "    value = get_max_last_range(accuracy_mean_train, -10)\n",
        "    print('best training accuracy = %12.10f' % (value))"
      ],
      "execution_count": null,
      "outputs": []
    },
    {
      "cell_type": "code",
      "metadata": {
        "id": "hT8-R00vJJ2b"
      },
      "source": [
        "def function_result_16():\n",
        "    \n",
        "    print('[print the best testing accuracy within the last 10 epochs]')\n",
        "    print('') \n",
        "    \n",
        "    value = get_max_last_range(accuracy_mean_test, -10)\n",
        "    print('best testing accuracy = %12.10f' % (value))"
      ],
      "execution_count": null,
      "outputs": []
    },
    {
      "cell_type": "markdown",
      "metadata": {
        "id": "il6agliZJJ2b"
      },
      "source": [
        "---"
      ]
    },
    {
      "cell_type": "markdown",
      "metadata": {
        "id": "rQ5_DyJAJJ2c"
      },
      "source": [
        "# RESULTS"
      ]
    },
    {
      "cell_type": "markdown",
      "metadata": {
        "id": "rRfvU1k1JJ2c"
      },
      "source": [
        "---"
      ]
    },
    {
      "cell_type": "code",
      "metadata": {
        "id": "phEjtos-JJ2c"
      },
      "source": [
        "number_result = 16\n",
        "\n",
        "for i in range(number_result):\n",
        "\n",
        "    title           = '# RESULT # {:02d}'.format(i+1) \n",
        "    name_function   = 'function_result_{:02d}()'.format(i+1)\n",
        "\n",
        "    print('') \n",
        "    print('################################################################################')\n",
        "    print('#') \n",
        "    print(title)\n",
        "    print('#') \n",
        "    print('################################################################################')\n",
        "    print('') \n",
        "\n",
        "    eval(name_function)"
      ],
      "execution_count": null,
      "outputs": []
    },
    {
      "cell_type": "code",
      "metadata": {
        "id": "KipRWZB0JJ2d"
      },
      "source": [
        ""
      ],
      "execution_count": null,
      "outputs": []
    }
  ]
}