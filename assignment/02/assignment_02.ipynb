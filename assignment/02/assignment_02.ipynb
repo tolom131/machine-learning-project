{
  "nbformat": 4,
  "nbformat_minor": 0,
  "metadata": {
    "colab": {
      "name": "assignment_02.ipynb",
      "provenance": [],
      "collapsed_sections": []
    },
    "kernelspec": {
      "name": "python3",
      "display_name": "Python 3.8.8 64-bit ('base': conda)"
    },
    "language_info": {
      "name": "python",
      "version": "3.8.8",
      "mimetype": "text/x-python",
      "codemirror_mode": {
        "name": "ipython",
        "version": 3
      },
      "pygments_lexer": "ipython3",
      "nbconvert_exporter": "python",
      "file_extension": ".py"
    },
    "interpreter": {
      "hash": "dca0ade3e726a953b501b15e8e990130d2b7799f14cfd9f4271676035ebe5511"
    }
  },
  "cells": [
    {
      "cell_type": "markdown",
      "metadata": {
        "id": "K29I-OwCEYzW",
        "outputId": "db8b297c-a4b8-457a-b43f-7570135306c7"
      },
      "source": [
        "# Logistic regression for binary classification"
      ]
    },
    {
      "cell_type": "markdown",
      "metadata": {
        "id": "CsGoH9GA_y4Q"
      },
      "source": [
        "## import libraries"
      ]
    },
    {
      "cell_type": "code",
      "metadata": {
        "id": "8VY-jU3r_y4R"
      },
      "source": [
        "import numpy as np\n",
        "import matplotlib.image as img\n",
        "import matplotlib.pyplot as plt\n",
        "import matplotlib.colors as colors\n",
        "import os"
      ],
      "execution_count": 13,
      "outputs": []
    },
    {
      "cell_type": "markdown",
      "metadata": {
        "id": "nAvZ0wxa_y4R"
      },
      "source": [
        "## load data"
      ]
    },
    {
      "cell_type": "code",
      "metadata": {
        "colab": {
          "base_uri": "https://localhost:8080/"
        },
        "id": "YmDDE5NC_y4R",
        "outputId": "d076247a-22eb-4e9a-d0a4-988e14459542"
      },
      "source": [
        "directory_data  = './data/'\n",
        "filename_data   = 'assignment_02_data.npz'\n",
        "data            = np.load(os.path.join(directory_data, filename_data))\n",
        "\n",
        "x = data['x']\n",
        "y = data['y']\n",
        "\n",
        "print('size of x (image) :', x.shape)\n",
        "print('size of y (label) :', y.shape)\n",
        "\n",
        "print('number of image :', x.shape[0])\n",
        "print('height of image :', x.shape[1])\n",
        "print('width of image :', x.shape[2])\n",
        "im_0    = x[0,:,:]\n",
        "im_1    = x[1,:,:]\n",
        "label_0 = y[0]\n",
        "label_1 = y[1]\n",
        "\n"
      ],
      "execution_count": 14,
      "outputs": [
        {
          "output_type": "stream",
          "name": "stdout",
          "text": [
            "size of x (image) : (2, 28, 28)\n",
            "size of y (label) : (2,)\n",
            "number of image : 2\n",
            "height of image : 28\n",
            "width of image : 28\n"
          ]
        }
      ]
    },
    {
      "cell_type": "markdown",
      "metadata": {
        "id": "SEE3dNzF_y4S"
      },
      "source": [
        "## plot data"
      ]
    },
    {
      "cell_type": "code",
      "metadata": {
        "id": "XgtXSfAj_y4S"
      },
      "source": [
        "def plot_data2(title1, data1, title2, data2):\n",
        "\n",
        "    fig = plt.figure(figsize=(8,4))\n",
        "\n",
        "    rows = 1\n",
        "    cols = 2\n",
        "\n",
        "    ax1 = fig.add_subplot(rows, cols, 1)\n",
        "    ax1.set_title(title1)\n",
        "    ax1.imshow(data1, cmap='gray', vmin=0, vmax=1)\n",
        "\n",
        "    ax2 = fig.add_subplot(rows, cols, 2)\n",
        "    ax2.set_title(title2)\n",
        "    ax2.imshow(data2, cmap='gray', vmin=0, vmax=1)\n",
        "\n",
        "    plt.tight_layout()\n",
        "    plt.show()"
      ],
      "execution_count": 15,
      "outputs": []
    },
    {
      "cell_type": "code",
      "metadata": {
        "colab": {
          "base_uri": "https://localhost:8080/",
          "height": 312
        },
        "id": "dFZFg6HX_y4S",
        "outputId": "ad37f648-381c-4ed2-86c6-7423d68e1524"
      },
      "source": [
        "plot_data2('label: 0', im_0, 'label: 1', im_1)"
      ],
      "execution_count": 16,
      "outputs": [
        {
          "output_type": "display_data",
          "data": {
            "image/png": "[encoded data removed]",
            "text/plain": [
              "<Figure size 576x288 with 2 Axes>"
            ]
          },
          "metadata": {
            "needs_background": "light"
          }
        }
      ]
    },
    {
      "cell_type": "markdown",
      "metadata": {
        "id": "jBOQR-2y_y4T"
      },
      "source": [
        "## convert gray scale image to color"
      ]
    },
    {
      "cell_type": "code",
      "metadata": {
        "colab": {
          "base_uri": "https://localhost:8080/"
        },
        "id": "hW0xd-W8_y4T",
        "outputId": "81454dde-f74c-4f56-c658-379b34990c39"
      },
      "source": [
        "im_0_red    = np.zeros((im_0.shape[0], im_0.shape[1], 3))\n",
        "im_0_green  = np.zeros((im_0.shape[0], im_0.shape[1], 3))\n",
        "im_0_blue   = np.zeros((im_0.shape[0], im_0.shape[1], 3))\n",
        "\n",
        "im_1_red    = np.zeros((im_1.shape[0], im_1.shape[1], 3))\n",
        "im_1_green  = np.zeros((im_1.shape[0], im_1.shape[1], 3))\n",
        "im_1_blue   = np.zeros((im_1.shape[0], im_1.shape[1], 3))\n",
        "\n",
        "im_0_red[:,:,0]     = im_0\n",
        "im_0_green[:,:,1]   = im_0\n",
        "im_0_blue[:,:,2]    = im_0\n",
        "\n",
        "im_1_red[:,:,0]     = im_1\n",
        "im_1_green[:,:,1]   = im_1\n",
        "im_1_blue[:,:,2]    = im_1\n",
        "\n",
        "print(im_0_red.shape)\n",
        "print(im_0_green.shape)\n",
        "print(im_0_blue.shape)\n",
        "\n",
        "print(im_1_red.shape)\n",
        "print(im_1_green.shape)\n",
        "print(im_1_blue.shape)\n"
      ],
      "execution_count": 17,
      "outputs": [
        {
          "output_type": "stream",
          "name": "stdout",
          "text": [
            "(28, 28, 3)\n",
            "(28, 28, 3)\n",
            "(28, 28, 3)\n",
            "(28, 28, 3)\n",
            "(28, 28, 3)\n",
            "(28, 28, 3)\n"
          ]
        }
      ]
    },
    {
      "cell_type": "markdown",
      "metadata": {
        "id": "Vw2GR8m6_y4T"
      },
      "source": [
        "## plot color data"
      ]
    },
    {
      "cell_type": "code",
      "metadata": {
        "id": "F_L0FiS4_y4T"
      },
      "source": [
        "def plot_data_color3(title1, data1, title2, data2, title3, data3):\n",
        "\n",
        "    fig, axes = plt.subplots(1, 3, constrained_layout=True, figsize=(12, 4))\n",
        "\n",
        "    axes[0].imshow(data1, vmin=0, vmax=1)\n",
        "    axes[0].set(title=title1)\n",
        "    \n",
        "    axes[1].imshow(data2, vmin=0, vmax=1)\n",
        "    axes[1].set(title=title2)\n",
        "    \n",
        "    axes[2].imshow(data3, vmin=0, vmax=1)\n",
        "    axes[2].set(title=title3)\n",
        "\n",
        "    plt.show()\n"
      ],
      "execution_count": 18,
      "outputs": []
    },
    {
      "cell_type": "code",
      "metadata": {
        "colab": {
          "base_uri": "https://localhost:8080/",
          "height": 309
        },
        "id": "aI1mO8pc_y4T",
        "outputId": "512ada21-aae7-41d5-8d8b-3a56d98da6bb"
      },
      "source": [
        "plot_data_color3('im 0: red', im_0_red, 'im 0: green', im_0_green, 'im 0: blue', im_0_blue)"
      ],
      "execution_count": 19,
      "outputs": [
        {
          "output_type": "display_data",
          "data": {
            "image/png": "[encoded data removed]",
            "text/plain": [
              "<Figure size 864x288 with 3 Axes>"
            ]
          },
          "metadata": {
            "needs_background": "light"
          }
        }
      ]
    },
    {
      "cell_type": "code",
      "metadata": {
        "colab": {
          "base_uri": "https://localhost:8080/",
          "height": 309
        },
        "id": "d0rUf8F-_y4U",
        "outputId": "545950ad-5bfb-454d-aeb7-9734ad4d01d2"
      },
      "source": [
        "plot_data_color3('im 1: red', im_1_red, 'im 1: green', im_1_green, 'im 1: blue', im_1_blue)"
      ],
      "execution_count": 20,
      "outputs": [
        {
          "output_type": "display_data",
          "data": {
            "image/png": "[encoded data removed]",
            "text/plain": [
              "<Figure size 864x288 with 3 Axes>"
            ]
          },
          "metadata": {
            "needs_background": "light"
          }
        }
      ]
    },
    {
      "cell_type": "markdown",
      "metadata": {
        "id": "owVdvPSw_y4U"
      },
      "source": [
        "## linear layer"
      ]
    },
    {
      "cell_type": "code",
      "metadata": {
        "id": "hvLwJWOu_y4U"
      },
      "source": [
        "def layer_linear(input, weight):\n",
        "    \n",
        "    # fill in the function body\n",
        "    output = np.dot(input, weight)\n",
        "    # -------------------------\n",
        "\n",
        "    return output"
      ],
      "execution_count": 21,
      "outputs": []
    },
    {
      "cell_type": "markdown",
      "metadata": {
        "id": "rkr0v7Ec_y4U"
      },
      "source": [
        "## [git commit # 01] % git commit -a -m \"complete the function for linear layer\""
      ]
    },
    {
      "cell_type": "markdown",
      "metadata": {
        "id": "yzdf_bmM_y4U"
      },
      "source": [
        "## activation function : Sigmoid"
      ]
    },
    {
      "cell_type": "code",
      "metadata": {
        "id": "Hurg5BiL_y4U"
      },
      "source": [
        "def activation_sigmoid(input):\n",
        "    \n",
        "    # fill in the function body\n",
        "    output = 1 / (1 + np.exp(-input))\n",
        "    # -------------------------\n",
        "\n",
        "    return output"
      ],
      "execution_count": 22,
      "outputs": []
    },
    {
      "cell_type": "markdown",
      "metadata": {
        "id": "tYpZjWiW_y4V"
      },
      "source": [
        "## [git commit # 02] % git commit -a -m \"complete the function for the sigmoid activation\""
      ]
    },
    {
      "cell_type": "markdown",
      "metadata": {
        "id": "P_diEWfs_y4V"
      },
      "source": [
        "## forward propagation "
      ]
    },
    {
      "cell_type": "code",
      "metadata": {
        "id": "mhKkuT12_y4V"
      },
      "source": [
        "def propagation_forward(input, weight):\n",
        "    \n",
        "    # fill in the function body\n",
        "    output      = layer_linear(input, weight)\n",
        "    prediction  = activation_sigmoid(output)\n",
        "    # -------------------------\n",
        "\n",
        "    return prediction"
      ],
      "execution_count": 23,
      "outputs": []
    },
    {
      "cell_type": "markdown",
      "metadata": {
        "id": "n2__guUX_y4V"
      },
      "source": [
        "## [git commit # 03] % git commit -a -m \"complete the function for the forward propagation\""
      ]
    },
    {
      "cell_type": "markdown",
      "metadata": {
        "id": "1Ueh8zE0_y4W"
      },
      "source": [
        "## compute loss function"
      ]
    },
    {
      "cell_type": "code",
      "metadata": {
        "id": "4SjOS4d6_y4W"
      },
      "source": [
        "def compute_loss(input, weight, label):\n",
        "\n",
        "    # fill in the function body\n",
        "    prediction      = \n",
        "    loss            = \n",
        "    loss_average    = \n",
        "    # -------------------------\n",
        "\n",
        "    return loss_average"
      ],
      "execution_count": null,
      "outputs": []
    },
    {
      "cell_type": "markdown",
      "metadata": {
        "id": "viRfQbL5_y4W"
      },
      "source": [
        "## [git commit # 04] % git commit -a -m \"complete the function for the loss\""
      ]
    },
    {
      "cell_type": "markdown",
      "metadata": {
        "id": "IjOUwg3h_y4W"
      },
      "source": [
        "## compute gradient"
      ]
    },
    {
      "cell_type": "code",
      "metadata": {
        "id": "eQ_uSPx0_y4W"
      },
      "source": [
        "def compute_gradient(input, weight, label):\n",
        "\n",
        "    # fill in the function body\n",
        "    prediction  = \n",
        "    residual    = \n",
        "    gradient    = \n",
        "    # -------------------------\n",
        "\n",
        "    return gradient"
      ],
      "execution_count": null,
      "outputs": []
    },
    {
      "cell_type": "markdown",
      "metadata": {
        "id": "wFFXeKDn_y4W"
      },
      "source": [
        "## [git commit # 05] % git commit -a -m \"complete the function for the computation of gradient\""
      ]
    },
    {
      "cell_type": "markdown",
      "metadata": {
        "id": "o55lQRoW_y4W"
      },
      "source": [
        "## initialize weight"
      ]
    },
    {
      "cell_type": "code",
      "metadata": {
        "id": "TBv9fnR3_y4W"
      },
      "source": [
        "weight  = np.ones(np.prod(im_0.shape))\n",
        "weight  = weight * 0.001\n",
        "\n",
        "vector_0    = np.matrix.flatten(im_0)\n",
        "vector_1    = np.matrix.flatten(im_1)\n",
        "\n",
        "input   = [vector_0, vector_1]\n",
        "label   = y"
      ],
      "execution_count": null,
      "outputs": []
    },
    {
      "cell_type": "markdown",
      "metadata": {
        "id": "-H--WwAn_y4X"
      },
      "source": [
        "## hyper-parameters"
      ]
    },
    {
      "cell_type": "code",
      "metadata": {
        "id": "f2frJiNF_y4X"
      },
      "source": [
        "number_iteration    = 1000\n",
        "learning_rate       = 0.01"
      ],
      "execution_count": null,
      "outputs": []
    },
    {
      "cell_type": "markdown",
      "metadata": {
        "id": "TEygl_Cz_y4X"
      },
      "source": [
        "## gradient descent"
      ]
    },
    {
      "cell_type": "code",
      "metadata": {
        "id": "j0NxMlCO_y4X"
      },
      "source": [
        "loss_iteration      = np.zeros(number_iteration)\n",
        "pred_0_iteration    = np.zeros(number_iteration) \n",
        "pred_1_iteration    = np.zeros(number_iteration) \n",
        "\n",
        "for i in range(number_iteration):\n",
        "\n",
        "    # fill in the function body\n",
        "    weight  = \n",
        "    loss    = \n",
        "    pred    = \n",
        "    # -------------------------\n",
        "\n",
        "    loss_iteration[i]   = loss\n",
        "    pred_0_iteration[i] = pred[0]\n",
        "    pred_1_iteration[i] = pred[1]\n",
        "    \n",
        "    # print('iteration = %4d, loss = %5.5f' % (i, loss))"
      ],
      "execution_count": null,
      "outputs": []
    },
    {
      "cell_type": "markdown",
      "metadata": {
        "id": "-2lXlbu3_y4Y"
      },
      "source": [
        "## [git commit # 06] % git commit -a -m \"complete the function for the gradient descent\""
      ]
    },
    {
      "cell_type": "markdown",
      "metadata": {
        "id": "LummjqeF_y4Y"
      },
      "source": [
        "## plot learning curve"
      ]
    },
    {
      "cell_type": "code",
      "metadata": {
        "id": "yjmoiLMT_y4Y"
      },
      "source": [
        "def plot_curve(title, data):\n",
        "\n",
        "    plt.figure(figsize=(8, 6))\n",
        "    plt.title(title)\n",
        "\n",
        "    plt.plot(data, '-', color='red')\n",
        "    plt.xlabel('iteration')\n",
        "    plt.ylabel('loss')\n",
        "\n",
        "    plt.tight_layout()\n",
        "    plt.show()"
      ],
      "execution_count": null,
      "outputs": []
    },
    {
      "cell_type": "code",
      "metadata": {
        "id": "7nhMT5SB_y4Y",
        "outputId": "97a58bfb-5c43-4434-be1a-300b325fca1e"
      },
      "source": [
        "plot_curve('loss', loss_iteration)"
      ],
      "execution_count": null,
      "outputs": [
        {
          "output_type": "display_data",
          "data": {
            "image/png": "[encoded data removed]",
            "text/plain": [
              "<Figure size 576x432 with 1 Axes>"
            ]
          },
          "metadata": {
            "needs_background": "light"
          }
        }
      ]
    },
    {
      "cell_type": "markdown",
      "metadata": {
        "id": "KmZu_17u_y4Y"
      },
      "source": [
        "## plot prediction values"
      ]
    },
    {
      "cell_type": "code",
      "metadata": {
        "id": "bnTmAtLa_y4Y"
      },
      "source": [
        "def plot_curve2(title, data1, label1, data2, label2):\n",
        "\n",
        "\n",
        "    fig = plt.figure(figsize=(8,6))\n",
        "    plt.title(title)\n",
        "\n",
        "    plt.plot(data1, '-', color='blue', label=label1)\n",
        "    plt.plot(data2, '-', color='red', label=label2)\n",
        "    plt.legend()\n",
        "    plt.tight_layout()\n",
        "\n",
        "    plt.show()"
      ],
      "execution_count": null,
      "outputs": []
    },
    {
      "cell_type": "code",
      "metadata": {
        "id": "nnMJAfrs_y4Y",
        "outputId": "c4ce6f58-775c-4cb8-dd10-d4179fcb4d96"
      },
      "source": [
        "plot_curve2('prediction', pred_0_iteration, 'im 0', pred_1_iteration, 'im 1')"
      ],
      "execution_count": null,
      "outputs": [
        {
          "output_type": "display_data",
          "data": {
            "image/png": "[encoded data removed]",
            "text/plain": [
              "<Figure size 576x432 with 1 Axes>"
            ]
          },
          "metadata": {
            "needs_background": "light"
          }
        }
      ]
    },
    {
      "cell_type": "markdown",
      "metadata": {
        "id": "Z6BaXa9f_y4Z"
      },
      "source": [
        "## given iterations at which the values are presented"
      ]
    },
    {
      "cell_type": "code",
      "metadata": {
        "id": "Lqlp-m4q_y4Z"
      },
      "source": [
        "iter0   = 0\n",
        "iter1   = 100\n",
        "iter2   = 200\n",
        "iter3   = 300\n",
        "iter4   = 400\n",
        "iter5   = 500\n",
        "iter6   = 600\n",
        "iter7   = 700\n",
        "iter8   = 800\n",
        "iter9   = 900\n"
      ],
      "execution_count": null,
      "outputs": []
    },
    {
      "cell_type": "markdown",
      "metadata": {
        "id": "o_XpCQ93_y4Z"
      },
      "source": [
        "## loss values"
      ]
    },
    {
      "cell_type": "code",
      "metadata": {
        "id": "LZ6UGtXW_y4Z",
        "outputId": "976fa340-a30c-48b7-b6f2-709dd485640f"
      },
      "source": [
        "print('iteration = %4d, loss = %12.10f' % (iter0, loss_iteration[iter0]))\n",
        "print('iteration = %4d, loss = %12.10f' % (iter1, loss_iteration[iter1]))\n",
        "print('iteration = %4d, loss = %12.10f' % (iter2, loss_iteration[iter2]))\n",
        "print('iteration = %4d, loss = %12.10f' % (iter3, loss_iteration[iter3]))\n",
        "print('iteration = %4d, loss = %12.10f' % (iter4, loss_iteration[iter4]))\n",
        "print('iteration = %4d, loss = %12.10f' % (iter5, loss_iteration[iter5]))\n",
        "print('iteration = %4d, loss = %12.10f' % (iter6, loss_iteration[iter6]))\n",
        "print('iteration = %4d, loss = %12.10f' % (iter7, loss_iteration[iter7]))\n",
        "print('iteration = %4d, loss = %12.10f' % (iter8, loss_iteration[iter8]))\n",
        "print('iteration = %4d, loss = %12.10f' % (iter9, loss_iteration[iter9]))"
      ],
      "execution_count": null,
      "outputs": [
        {
          "output_type": "stream",
          "name": "stdout",
          "text": [
            "iteration =    0, loss = 0.0000000000\n",
            "iteration =  100, loss = 0.0000000000\n",
            "iteration =  200, loss = 0.0000000000\n",
            "iteration =  300, loss = 0.0000000000\n",
            "iteration =  400, loss = 0.0000000000\n",
            "iteration =  500, loss = 0.0000000000\n",
            "iteration =  600, loss = 0.0000000000\n",
            "iteration =  700, loss = 0.0000000000\n",
            "iteration =  800, loss = 0.0000000000\n",
            "iteration =  900, loss = 0.0000000000\n"
          ]
        }
      ]
    },
    {
      "cell_type": "markdown",
      "metadata": {
        "id": "8BEAFMjs_y4Z"
      },
      "source": [
        "## prediction values for im_0"
      ]
    },
    {
      "cell_type": "code",
      "metadata": {
        "id": "d0-nFiMj_y4Z",
        "outputId": "d1134585-e242-40c0-c158-21205b1c7c2f"
      },
      "source": [
        "print('iteration = %4d, pred im0 = %12.10f' % (iter0, pred_0_iteration[iter0]))\n",
        "print('iteration = %4d, pred im0 = %12.10f' % (iter1, pred_0_iteration[iter1]))\n",
        "print('iteration = %4d, pred im0 = %12.10f' % (iter2, pred_0_iteration[iter2]))\n",
        "print('iteration = %4d, pred im0 = %12.10f' % (iter3, pred_0_iteration[iter3]))\n",
        "print('iteration = %4d, pred im0 = %12.10f' % (iter4, pred_0_iteration[iter4]))\n",
        "print('iteration = %4d, pred im0 = %12.10f' % (iter5, pred_0_iteration[iter5]))\n",
        "print('iteration = %4d, pred im0 = %12.10f' % (iter6, pred_0_iteration[iter6]))\n",
        "print('iteration = %4d, pred im0 = %12.10f' % (iter7, pred_0_iteration[iter7]))\n",
        "print('iteration = %4d, pred im0 = %12.10f' % (iter8, pred_0_iteration[iter8]))\n",
        "print('iteration = %4d, pred im0 = %12.10f' % (iter9, pred_0_iteration[iter9]))"
      ],
      "execution_count": null,
      "outputs": [
        {
          "output_type": "stream",
          "name": "stdout",
          "text": [
            "iteration =    0, pred im0 = 0.0000000000\n",
            "iteration =  100, pred im0 = 0.0000000000\n",
            "iteration =  200, pred im0 = 0.0000000000\n",
            "iteration =  300, pred im0 = 0.0000000000\n",
            "iteration =  400, pred im0 = 0.0000000000\n",
            "iteration =  500, pred im0 = 0.0000000000\n",
            "iteration =  600, pred im0 = 0.0000000000\n",
            "iteration =  700, pred im0 = 0.0000000000\n",
            "iteration =  800, pred im0 = 0.0000000000\n",
            "iteration =  900, pred im0 = 0.0000000000\n"
          ]
        }
      ]
    },
    {
      "cell_type": "markdown",
      "metadata": {
        "id": "W0j7Ru3U_y4a"
      },
      "source": [
        "## prediction values for im_1"
      ]
    },
    {
      "cell_type": "code",
      "metadata": {
        "id": "lLPKhUhV_y4a",
        "outputId": "d6ce3d0a-a146-4ef2-bba8-76f69350ac99"
      },
      "source": [
        "print('iteration = %4d, pred im1 = %12.10f' % (iter0, pred_1_iteration[iter0]))\n",
        "print('iteration = %4d, pred im1 = %12.10f' % (iter1, pred_1_iteration[iter1]))\n",
        "print('iteration = %4d, pred im1 = %12.10f' % (iter2, pred_1_iteration[iter2]))\n",
        "print('iteration = %4d, pred im1 = %12.10f' % (iter3, pred_1_iteration[iter3]))\n",
        "print('iteration = %4d, pred im1 = %12.10f' % (iter4, pred_1_iteration[iter4]))\n",
        "print('iteration = %4d, pred im1 = %12.10f' % (iter5, pred_1_iteration[iter5]))\n",
        "print('iteration = %4d, pred im1 = %12.10f' % (iter6, pred_1_iteration[iter6]))\n",
        "print('iteration = %4d, pred im1 = %12.10f' % (iter7, pred_1_iteration[iter7]))\n",
        "print('iteration = %4d, pred im1 = %12.10f' % (iter8, pred_1_iteration[iter8]))\n",
        "print('iteration = %4d, pred im1 = %12.10f' % (iter9, pred_1_iteration[iter9]))"
      ],
      "execution_count": null,
      "outputs": [
        {
          "output_type": "stream",
          "name": "stdout",
          "text": [
            "iteration =    0, pred im1 = 0.0000000000\n",
            "iteration =  100, pred im1 = 0.0000000000\n",
            "iteration =  200, pred im1 = 0.0000000000\n",
            "iteration =  300, pred im1 = 0.0000000000\n",
            "iteration =  400, pred im1 = 0.0000000000\n",
            "iteration =  500, pred im1 = 0.0000000000\n",
            "iteration =  600, pred im1 = 0.0000000000\n",
            "iteration =  700, pred im1 = 0.0000000000\n",
            "iteration =  800, pred im1 = 0.0000000000\n",
            "iteration =  900, pred im1 = 0.0000000000\n"
          ]
        }
      ]
    },
    {
      "cell_type": "code",
      "metadata": {
        "id": "rqXOsfDh_y4a"
      },
      "source": [
        "def function_result_01(*args):\n",
        "\n",
        "    pass"
      ],
      "execution_count": null,
      "outputs": []
    },
    {
      "cell_type": "markdown",
      "metadata": {
        "id": "G3BWgQYD_y4a"
      },
      "source": [
        "## [git commit # 07] % git commit -a -m \"complete the function for the function result 01\""
      ]
    },
    {
      "cell_type": "code",
      "metadata": {
        "id": "uSnejGDj_y4b"
      },
      "source": [
        "def function_result_02(*args):\n",
        "\n",
        "    pass"
      ],
      "execution_count": null,
      "outputs": []
    },
    {
      "cell_type": "markdown",
      "metadata": {
        "id": "r9xPCs9z_y4c"
      },
      "source": [
        "## [git commit # 08] % git commit -a -m \"complete the function for the function result 02\""
      ]
    },
    {
      "cell_type": "code",
      "metadata": {
        "id": "G-WOaA9P_y4c"
      },
      "source": [
        "def function_result_03(*args):\n",
        "    \n",
        "    pass"
      ],
      "execution_count": null,
      "outputs": []
    },
    {
      "cell_type": "markdown",
      "metadata": {
        "id": "z4uNbm5l_y4d"
      },
      "source": [
        "## [git commit # 09] % git commit -a -m \"complete the function for the function result 03\""
      ]
    },
    {
      "cell_type": "code",
      "metadata": {
        "id": "T52-LDZH_y4d"
      },
      "source": [
        "def function_result_04(*args):\n",
        "\n",
        "    pass"
      ],
      "execution_count": null,
      "outputs": []
    },
    {
      "cell_type": "markdown",
      "metadata": {
        "id": "cP4ZSJVt_y4d"
      },
      "source": [
        "## [git commit # 10] % git commit -a -m \"complete the function for the function result 04\""
      ]
    },
    {
      "cell_type": "code",
      "metadata": {
        "id": "opxxRsYm_y4d"
      },
      "source": [
        "def function_result_05(*args):\n",
        "\n",
        "    pass"
      ],
      "execution_count": null,
      "outputs": []
    },
    {
      "cell_type": "markdown",
      "metadata": {
        "id": "WQmPRJR5_y4d"
      },
      "source": [
        "## [git commit # 11] % git commit -a -m \"complete the function for the function result 05\""
      ]
    },
    {
      "cell_type": "code",
      "metadata": {
        "id": "jbHsHQ6__y4d"
      },
      "source": [
        "def function_result_06(*args):\n",
        "\n",
        "    pass"
      ],
      "execution_count": null,
      "outputs": []
    },
    {
      "cell_type": "markdown",
      "metadata": {
        "id": "8mGaOS6C_y4e"
      },
      "source": [
        "## [git commit # 12] % git commit -a -m \"complete the function for the function result 06\""
      ]
    },
    {
      "cell_type": "code",
      "metadata": {
        "id": "C4DrsAkR_y4e"
      },
      "source": [
        "def function_result_07(*args):\n",
        "\n",
        "    pass"
      ],
      "execution_count": null,
      "outputs": []
    },
    {
      "cell_type": "markdown",
      "metadata": {
        "id": "1nfcgcb3_y4e"
      },
      "source": [
        "## [git commit # 13] % git commit -a -m \"complete the function for the function result 07\""
      ]
    },
    {
      "cell_type": "markdown",
      "metadata": {
        "id": "1NWpryn4_y4e"
      },
      "source": [
        "---"
      ]
    },
    {
      "cell_type": "markdown",
      "metadata": {
        "id": "mjw-O2i6_y4e"
      },
      "source": [
        "# RESULTS"
      ]
    },
    {
      "cell_type": "markdown",
      "metadata": {
        "id": "RRHZGCfO_y4f"
      },
      "source": [
        "---"
      ]
    },
    {
      "cell_type": "markdown",
      "metadata": {
        "id": "ugaNRvoP_y4f"
      },
      "source": [
        "## # 01. plot the input images (left: image 0, right: image 1)"
      ]
    },
    {
      "cell_type": "code",
      "metadata": {
        "id": "V2Im0DWf_y4f",
        "outputId": "e132f468-e2ef-47f4-e135-2873b8ca35f6"
      },
      "source": [
        "function_result_01(...)"
      ],
      "execution_count": null,
      "outputs": [
        {
          "output_type": "display_data",
          "data": {
            "image/png": "[encoded data removed]",
            "text/plain": [
              "<Figure size 576x288 with 2 Axes>"
            ]
          },
          "metadata": {
            "needs_background": "light"
          }
        }
      ]
    },
    {
      "cell_type": "markdown",
      "metadata": {
        "id": "IHEYXik5_y4f"
      },
      "source": [
        "## # 02. plot the loss curve (x-axis: iteration, y-axis: loss)"
      ]
    },
    {
      "cell_type": "code",
      "metadata": {
        "id": "OAmX3c6f_y4f",
        "outputId": "ec93d124-c609-46a1-e9ec-be020a18deac"
      },
      "source": [
        "function_result_02(...)"
      ],
      "execution_count": null,
      "outputs": [
        {
          "output_type": "display_data",
          "data": {
            "image/png": "[encoded data removed]",
            "text/plain": [
              "<Figure size 576x432 with 1 Axes>"
            ]
          },
          "metadata": {
            "needs_background": "light"
          }
        }
      ]
    },
    {
      "cell_type": "markdown",
      "metadata": {
        "id": "p_KiAYGD_y4f"
      },
      "source": [
        "## # 03. plot the prediction value for image 0 (x-axis: iteration, y-axis: prediction)"
      ]
    },
    {
      "cell_type": "code",
      "metadata": {
        "id": "cC3EiD-G_y4f",
        "outputId": "ab18ab87-2e1e-46c4-e7a4-5b9a8b1acfe8"
      },
      "source": [
        "function_result_03(...)"
      ],
      "execution_count": null,
      "outputs": [
        {
          "output_type": "display_data",
          "data": {
            "image/png": "[encoded data removed]",
            "text/plain": [
              "<Figure size 576x432 with 1 Axes>"
            ]
          },
          "metadata": {
            "needs_background": "light"
          }
        }
      ]
    },
    {
      "cell_type": "markdown",
      "metadata": {
        "id": "UnUH6nzj_y4f"
      },
      "source": [
        "## # 04. plot the prediction value for image 1 (x-axis: iteration, y-axis: prediction)"
      ]
    },
    {
      "cell_type": "code",
      "metadata": {
        "id": "vxFPmonV_y4g",
        "outputId": "83df00f0-7599-4646-c971-b84928274f56"
      },
      "source": [
        "function_result_04(...)"
      ],
      "execution_count": null,
      "outputs": [
        {
          "output_type": "display_data",
          "data": {
            "image/png": "[encoded data removed]",
            "text/plain": [
              "<Figure size 576x432 with 1 Axes>"
            ]
          },
          "metadata": {
            "needs_background": "light"
          }
        }
      ]
    },
    {
      "cell_type": "markdown",
      "metadata": {
        "id": "BSIdkjm0_y4g"
      },
      "source": [
        "## # 05. print the loss values at iterations 0, 100, 200, 300, 400, 500, 600, 700, 800, 900"
      ]
    },
    {
      "cell_type": "code",
      "metadata": {
        "id": "pQGlvyMf_y4g",
        "outputId": "e57762bf-fdd3-4379-8cd7-5f631e25af6b"
      },
      "source": [
        "function_result_05(...)"
      ],
      "execution_count": null,
      "outputs": [
        {
          "output_type": "stream",
          "name": "stdout",
          "text": [
            "iteration =    0, loss = 0.0000000000\n",
            "iteration =  100, loss = 0.0000000000\n",
            "iteration =  200, loss = 0.0000000000\n",
            "iteration =  300, loss = 0.0000000000\n",
            "iteration =  400, loss = 0.0000000000\n",
            "iteration =  500, loss = 0.0000000000\n",
            "iteration =  600, loss = 0.0000000000\n",
            "iteration =  700, loss = 0.0000000000\n",
            "iteration =  800, loss = 0.0000000000\n",
            "iteration =  900, loss = 0.0000000000\n"
          ]
        }
      ]
    },
    {
      "cell_type": "markdown",
      "metadata": {
        "id": "Hh3IEKuQ_y4g"
      },
      "source": [
        "## # 06. print the prediction values for image 0 at iterations 0, 100, 200, 300, 400, 500, 600, 700, 800, 900"
      ]
    },
    {
      "cell_type": "code",
      "metadata": {
        "id": "3bwp5qZV_y4g",
        "outputId": "543489aa-fcc2-44c2-a694-528c8bd69dba"
      },
      "source": [
        "function_result_06(...)"
      ],
      "execution_count": null,
      "outputs": [
        {
          "output_type": "stream",
          "name": "stdout",
          "text": [
            "iteration =    0, pred im0 = 0.0000000000\n",
            "iteration =  100, pred im0 = 0.0000000000\n",
            "iteration =  200, pred im0 = 0.0000000000\n",
            "iteration =  300, pred im0 = 0.0000000000\n",
            "iteration =  400, pred im0 = 0.0000000000\n",
            "iteration =  500, pred im0 = 0.0000000000\n",
            "iteration =  600, pred im0 = 0.0000000000\n",
            "iteration =  700, pred im0 = 0.0000000000\n",
            "iteration =  800, pred im0 = 0.0000000000\n",
            "iteration =  900, pred im0 = 0.0000000000\n"
          ]
        }
      ]
    },
    {
      "cell_type": "markdown",
      "metadata": {
        "id": "d6hI0MDo_y4g"
      },
      "source": [
        "## # 07. print the prediction values for image 1 at iterations 0, 100, 200, 300, 400, 500, 600, 700, 800, 900"
      ]
    },
    {
      "cell_type": "code",
      "metadata": {
        "id": "uhOLNQsX_y4g",
        "outputId": "e283105c-680d-46a6-877f-97f9b2ba1e5e"
      },
      "source": [
        "function_result_07(...)"
      ],
      "execution_count": null,
      "outputs": [
        {
          "output_type": "stream",
          "name": "stdout",
          "text": [
            "iteration =    0, pred im1 = 0.0000000000\n",
            "iteration =  100, pred im1 = 0.0000000000\n",
            "iteration =  200, pred im1 = 0.0000000000\n",
            "iteration =  300, pred im1 = 0.0000000000\n",
            "iteration =  400, pred im1 = 0.0000000000\n",
            "iteration =  500, pred im1 = 0.0000000000\n",
            "iteration =  600, pred im1 = 0.0000000000\n",
            "iteration =  700, pred im1 = 0.0000000000\n",
            "iteration =  800, pred im1 = 0.0000000000\n",
            "iteration =  900, pred im1 = 0.0000000000\n"
          ]
        }
      ]
    }
  ]
}