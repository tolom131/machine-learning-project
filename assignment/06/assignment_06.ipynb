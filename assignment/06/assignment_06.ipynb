{
  "nbformat": 4,
  "nbformat_minor": 0,
  "metadata": {
    "colab": {
      "name": "assignment_02.ipynb",
      "provenance": [],
      "collapsed_sections": []
    },
    "interpreter": {
      "hash": "84bbda367bac7e7bffd9b7890a44d65326aaedad40e5a9021c2651157391b1ef"
    },
    "kernelspec": {
      "display_name": "Python 3.8.5 64-bit ('base': conda)",
      "name": "python3"
    },
    "language_info": {
      "codemirror_mode": {
        "name": "ipython",
        "version": 3
      },
      "file_extension": ".py",
      "mimetype": "text/x-python",
      "name": "python",
      "nbconvert_exporter": "python",
      "pygments_lexer": "ipython3",
      "version": "3.8.5"
    },
    "accelerator": "GPU"
  },
  "cells": [
    {
      "cell_type": "markdown",
      "metadata": {
        "id": "K29I-OwCEYzW",
        "outputId": "db8b297c-a4b8-457a-b43f-7570135306c7"
      },
      "source": [
        "# Multi-class classification based on Softmax and Cross-Entropy using pytorch"
      ]
    },
    {
      "cell_type": "markdown",
      "metadata": {
        "id": "1R6I5lDXpT6G"
      },
      "source": [
        "## import libraries"
      ]
    },
    {
      "cell_type": "code",
      "metadata": {
        "id": "s6t-DGMkpT6G"
      },
      "source": [
        "import torch\n",
        "import torch.nn as nn\n",
        "import torch.nn.functional as F\n",
        "import torchvision\n",
        "from torch.utils.data import Dataset\n",
        "from torchvision import datasets, transforms\n",
        "import torchvision.transforms.functional as F\n",
        "import numpy as np\n",
        "import matplotlib.pyplot as plt\n",
        "import math\n",
        "from tqdm import tqdm, tqdm_notebook\n",
        "import random\n",
        "import os"
      ],
      "execution_count": 1,
      "outputs": []
    },
    {
      "cell_type": "code",
      "metadata": {
        "id": "Kh76Jhzfpl-Z",
        "colab": {
          "base_uri": "https://localhost:8080/"
        },
        "outputId": "e3c9a543-e792-475e-90b2-cc9d22183f42"
      },
      "source": [
        "from google.colab import drive \n",
        "drive.mount('/content/drive/')"
      ],
      "execution_count": 2,
      "outputs": [
        {
          "output_type": "stream",
          "name": "stdout",
          "text": [
            "Drive already mounted at /content/drive/; to attempt to forcibly remount, call drive.mount(\"/content/drive/\", force_remount=True).\n"
          ]
        }
      ]
    },
    {
      "cell_type": "markdown",
      "metadata": {
        "id": "HqDD7Am1pT6I"
      },
      "source": [
        "## load data"
      ]
    },
    {
      "cell_type": "code",
      "metadata": {
        "id": "CfcD3ubEpT6I",
        "colab": {
          "base_uri": "https://localhost:8080/"
        },
        "outputId": "31bb6472-09f3-44ac-8a25-690c0bec414a"
      },
      "source": [
        "directory_data  = './drive/MyDrive/Machine_Learning/'\n",
        "filename_data   = 'assignment_06_data.npz'\n",
        "data            = np.load(os.path.join(directory_data, filename_data))\n",
        "\n",
        "x_train = data['x_train']\n",
        "y_train = data['y_train']\n",
        "\n",
        "x_test  = data['x_test']\n",
        "y_test  = data['y_test']\n",
        "\n",
        "num_data_train  = x_train.shape[0]\n",
        "num_data_test   = x_test.shape[0]\n",
        "\n",
        "print('*************************************************')\n",
        "print('size of x_train :', x_train.shape)\n",
        "print('size of y_train :', y_train.shape)\n",
        "print('*************************************************')\n",
        "print('size of x_test :', x_test.shape)\n",
        "print('size of y_test :', y_test.shape)\n",
        "print('*************************************************')\n",
        "print('number of training image :', x_train.shape[0])\n",
        "print('height of training image :', x_train.shape[1])\n",
        "print('width of training image :', x_train.shape[2])\n",
        "print('*************************************************')\n",
        "print('number of testing image :', x_test.shape[0])\n",
        "print('height of testing image :', x_test.shape[1])\n",
        "print('width of testing image :', x_test.shape[2])\n",
        "print('*************************************************')"
      ],
      "execution_count": 3,
      "outputs": [
        {
          "output_type": "stream",
          "name": "stdout",
          "text": [
            "*************************************************\n",
            "size of x_train : (20000, 32, 32)\n",
            "size of y_train : (20000,)\n",
            "*************************************************\n",
            "size of x_test : (8000, 32, 32)\n",
            "size of y_test : (8000,)\n",
            "*************************************************\n",
            "number of training image : 20000\n",
            "height of training image : 32\n",
            "width of training image : 32\n",
            "*************************************************\n",
            "number of testing image : 8000\n",
            "height of testing image : 32\n",
            "width of testing image : 32\n",
            "*************************************************\n"
          ]
        }
      ]
    },
    {
      "cell_type": "markdown",
      "metadata": {
        "id": "999PJvhMpT6K"
      },
      "source": [
        "## number of classes"
      ]
    },
    {
      "cell_type": "code",
      "metadata": {
        "id": "AOVW2Y8YpT6K",
        "colab": {
          "base_uri": "https://localhost:8080/"
        },
        "outputId": "5aff6d7e-5e13-4785-9d39-bb111955f439"
      },
      "source": [
        "print('*************************************************')\n",
        "print('number of classes :', len(set(y_train)))\n",
        "print('*************************************************')"
      ],
      "execution_count": 4,
      "outputs": [
        {
          "output_type": "stream",
          "name": "stdout",
          "text": [
            "*************************************************\n",
            "number of classes : 10\n",
            "*************************************************\n"
          ]
        }
      ]
    },
    {
      "cell_type": "markdown",
      "metadata": {
        "id": "HbaalUGLpT6L"
      },
      "source": [
        "## hyper-parameters"
      ]
    },
    {
      "cell_type": "code",
      "metadata": {
        "id": "_Kw_QF-dpT6L"
      },
      "source": [
        "device          = torch.device('cuda' if torch.cuda.is_available() else 'cpu')\n",
        "\n",
        "number_epoch    = 40\n",
        "size_minibatch  = 512\n",
        "learning_rate   = 0.01\n",
        "weight_decay    = 0.1"
      ],
      "execution_count": 5,
      "outputs": []
    },
    {
      "cell_type": "markdown",
      "metadata": {
        "id": "8MWaSxcRpT6L"
      },
      "source": [
        "## custom data loader for the PyTorch framework"
      ]
    },
    {
      "cell_type": "code",
      "metadata": {
        "id": "BaNZUnqmpT6M"
      },
      "source": [
        "class dataset(Dataset):\n",
        "    \n",
        "    def __init__(self, image, label):\n",
        "        \n",
        "        self.image  = image\n",
        "        self.label  = label.astype(np.long)\n",
        "    \n",
        "    def __getitem__(self, index):\n",
        "        \n",
        "        image   = self.image[index, :, :]\n",
        "        label   = self.label[index, ]\n",
        "\n",
        "        image   = torch.FloatTensor(image).unsqueeze(dim=0)\n",
        "        label   = torch.LongTensor([label])\n",
        "\n",
        "        return image, label\n",
        "    \n",
        "    def __len__(self):\n",
        "        \n",
        "        return self.image.shape[0]\n",
        "\n",
        "    def collate_fn(self, batch):\n",
        "        images  = list()\n",
        "        labels  = list()\n",
        "\n",
        "        for b in batch:\n",
        "            images.append(b[0])\n",
        "            labels.append(b[1])\n",
        "\n",
        "        images  = torch.stack(images, dim=0)\n",
        "        labels  = torch.stack(labels, dim=0).squeeze()\n",
        "\n",
        "        return images, labels\n",
        "        "
      ],
      "execution_count": 6,
      "outputs": []
    },
    {
      "cell_type": "code",
      "metadata": {
        "id": "5FBklDOa0mDl"
      },
      "source": [
        "#https://forensics.tistory.com/29\n",
        "class EarlyStopping():\n",
        "    def __init__(self, patience=0, verbose=0):\n",
        "        self._step = 0\n",
        "        self._loss = float('inf')\n",
        "        self.patience  = patience\n",
        "        self.verbose = verbose\n",
        "\n",
        "    def validate(self, loss):\n",
        "        if self._loss < loss:\n",
        "            self._step += 1\n",
        "            if self._step > self.patience:\n",
        "                if self.verbose:\n",
        "                    print(f'Training process is stopped early....')\n",
        "                return True\n",
        "        else:\n",
        "            self._step = 0\n",
        "            self._loss = loss\n",
        "\n",
        "        return False"
      ],
      "execution_count": 7,
      "outputs": []
    },
    {
      "cell_type": "markdown",
      "metadata": {
        "id": "L3PNV6IppT6N"
      },
      "source": [
        "## construct datasets and dataloaders for training and testing"
      ]
    },
    {
      "cell_type": "code",
      "metadata": {
        "id": "sYG9ZxDlpT6N"
      },
      "source": [
        "dataset_train   = dataset(x_train, y_train)\n",
        "dataset_test    = dataset(x_test, y_test)\n",
        "\n",
        "dataloader_train    = torch.utils.data.DataLoader(dataset_train, batch_size=size_minibatch, shuffle=True, drop_last=True, collate_fn=dataset_train.collate_fn)\n",
        "dataloader_test     = torch.utils.data.DataLoader(dataset_test, batch_size=size_minibatch, shuffle=True, drop_last=True, collate_fn=dataset_test.collate_fn)"
      ],
      "execution_count": 8,
      "outputs": []
    },
    {
      "cell_type": "markdown",
      "metadata": {
        "id": "n5u_FZ80pT6O"
      },
      "source": [
        "## shape of the data when using the data loader"
      ]
    },
    {
      "cell_type": "code",
      "metadata": {
        "id": "1VDt6AfIpT6O",
        "colab": {
          "base_uri": "https://localhost:8080/"
        },
        "outputId": "c696c81e-51d8-439b-a7b0-64f159669404"
      },
      "source": [
        "image, label    = next(iter(dataloader_train))\n",
        "print('************************************************************')\n",
        "print('size of mini-batch of the image:', image.shape)\n",
        "print('************************************************************')\n",
        "print('size of mini-batch of the label:', label.shape)\n",
        "print('************************************************************')"
      ],
      "execution_count": 9,
      "outputs": [
        {
          "output_type": "stream",
          "name": "stdout",
          "text": [
            "************************************************************\n",
            "size of mini-batch of the image: torch.Size([512, 1, 32, 32])\n",
            "************************************************************\n",
            "size of mini-batch of the label: torch.Size([512])\n",
            "************************************************************\n"
          ]
        }
      ]
    },
    {
      "cell_type": "markdown",
      "metadata": {
        "id": "5g0FphYMpT6P"
      },
      "source": [
        "## class for the neural network "
      ]
    },
    {
      "cell_type": "code",
      "metadata": {
        "id": "7pUMYa8_qPm3"
      },
      "source": [
        "class ResidualUnit(nn.Module):\n",
        "    def __init__(self, in_channel, out_channel, stride=1):\n",
        "        super(ResidualUnit, self).__init__()\n",
        "\n",
        "        self.main_layer = nn.Sequential (\n",
        "            nn.Conv2d(in_channels=in_channel, out_channels=out_channel, kernel_size=3, stride=stride, padding=1, bias=False),\n",
        "            nn.BatchNorm2d(out_channel),\n",
        "            nn.ReLU(),\n",
        "            nn.Conv2d(in_channels=out_channel, out_channels=out_channel, kernel_size=3, stride=1, padding=1, bias=False),\n",
        "            nn.BatchNorm2d(out_channel)\n",
        "        )\n",
        "\n",
        "        self.skip_layers = nn.Sequential()\n",
        "        if stride > 1:\n",
        "            self.skip_layers = nn.Sequential(\n",
        "                nn.Conv2d(in_channels=in_channel, out_channels=out_channel, kernel_size=3, stride=stride, padding=1, bias=False),\n",
        "                nn.BatchNorm2d(out_channel)\n",
        "            )\n",
        "\n",
        "        self.relu = nn.ReLU()\n",
        "\n",
        "    def forward(self, x):\n",
        "        Z = self.main_layer(x)\n",
        "        Z += self.skip_layers(x)\n",
        "        Z = self.relu(Z)\n",
        "        return Z"
      ],
      "execution_count": 10,
      "outputs": []
    },
    {
      "cell_type": "code",
      "metadata": {
        "id": "2dVrWX04raPD"
      },
      "source": [
        "class Classifier(nn.Module):\n",
        "    def __init__(self):\n",
        "        super(Classifier, self).__init__()\n",
        "\n",
        "        self.drop_1 = nn.Dropout(p=0.1)\n",
        "        self.cn_1 = nn.Conv2d(in_channels=1, out_channels=64, kernel_size=7, stride=1, padding=1, bias=False)\n",
        "        self.bn_1 = nn.BatchNorm2d(64)\n",
        "        self.re_1 = nn.ReLU()\n",
        "        self.maxpool = nn.MaxPool2d(kernel_size=2, stride=2)\n",
        "\n",
        "        self.resnet = nn.Sequential(\n",
        "            ResidualUnit(64, 64),\n",
        "            ResidualUnit(64, 64),\n",
        "            ResidualUnit(64, 64),\n",
        "\n",
        "            ResidualUnit(64, 128, stride=2),\n",
        "            ResidualUnit(128, 128),\n",
        "            ResidualUnit(128, 128),\n",
        "            ResidualUnit(128, 128),\n",
        "\n",
        "            ResidualUnit(128, 256, stride=2),\n",
        "            ResidualUnit(256, 256),\n",
        "            ResidualUnit(256, 256),\n",
        "            ResidualUnit(256, 256),\n",
        "            ResidualUnit(256, 256),\n",
        "            ResidualUnit(256, 256),\n",
        "\n",
        "            ResidualUnit(256, 512, stride=2),\n",
        "            ResidualUnit(512, 512),\n",
        "            ResidualUnit(512, 512)\n",
        "        )\n",
        "        self.avg = nn.AdaptiveAvgPool2d(1)\n",
        "        self.flatten = nn.Flatten()\n",
        "        \n",
        "        \n",
        "        self.classifier = nn.Linear(512, 10)\n",
        "\n",
        "    def forward(self, x):\n",
        "        Z = self.drop_1(x)\n",
        "        Z = self.cn_1(Z)\n",
        "        Z = self.bn_1(Z)\n",
        "        Z = self.re_1(Z)\n",
        "        Z = self.maxpool(Z)\n",
        "        Z = self.resnet(Z)\n",
        "        Z = self.avg(Z)\n",
        "        Z = self.flatten(Z)\n",
        "        Z = self.classifier(Z)\n",
        "        return Z"
      ],
      "execution_count": 11,
      "outputs": []
    },
    {
      "cell_type": "markdown",
      "metadata": {
        "id": "O-nJVFp-pT6R"
      },
      "source": [
        "## build network"
      ]
    },
    {
      "cell_type": "code",
      "metadata": {
        "id": "kKJVC3eYpT6R",
        "colab": {
          "base_uri": "https://localhost:8080/"
        },
        "outputId": "aac2af5c-e1a9-4dd5-f875-3edd82a00d17"
      },
      "source": [
        "classifier  = Classifier()\n",
        "optimizer   = torch.optim.SGD(classifier.parameters(), lr=learning_rate, weight_decay=weight_decay)\n",
        "from torchsummary import summary\n",
        "summary(classifier, (1, 28, 28), device=\"cpu\")"
      ],
      "execution_count": 12,
      "outputs": [
        {
          "output_type": "stream",
          "name": "stdout",
          "text": [
            "----------------------------------------------------------------\n",
            "        Layer (type)               Output Shape         Param #\n",
            "================================================================\n",
            "           Dropout-1            [-1, 1, 28, 28]               0\n",
            "            Conv2d-2           [-1, 64, 24, 24]           3,136\n",
            "       BatchNorm2d-3           [-1, 64, 24, 24]             128\n",
            "              ReLU-4           [-1, 64, 24, 24]               0\n",
            "         MaxPool2d-5           [-1, 64, 12, 12]               0\n",
            "            Conv2d-6           [-1, 64, 12, 12]          36,864\n",
            "       BatchNorm2d-7           [-1, 64, 12, 12]             128\n",
            "              ReLU-8           [-1, 64, 12, 12]               0\n",
            "            Conv2d-9           [-1, 64, 12, 12]          36,864\n",
            "      BatchNorm2d-10           [-1, 64, 12, 12]             128\n",
            "             ReLU-11           [-1, 64, 12, 12]               0\n",
            "     ResidualUnit-12           [-1, 64, 12, 12]               0\n",
            "           Conv2d-13           [-1, 64, 12, 12]          36,864\n",
            "      BatchNorm2d-14           [-1, 64, 12, 12]             128\n",
            "             ReLU-15           [-1, 64, 12, 12]               0\n",
            "           Conv2d-16           [-1, 64, 12, 12]          36,864\n",
            "      BatchNorm2d-17           [-1, 64, 12, 12]             128\n",
            "             ReLU-18           [-1, 64, 12, 12]               0\n",
            "     ResidualUnit-19           [-1, 64, 12, 12]               0\n",
            "           Conv2d-20           [-1, 64, 12, 12]          36,864\n",
            "      BatchNorm2d-21           [-1, 64, 12, 12]             128\n",
            "             ReLU-22           [-1, 64, 12, 12]               0\n",
            "           Conv2d-23           [-1, 64, 12, 12]          36,864\n",
            "      BatchNorm2d-24           [-1, 64, 12, 12]             128\n",
            "             ReLU-25           [-1, 64, 12, 12]               0\n",
            "     ResidualUnit-26           [-1, 64, 12, 12]               0\n",
            "           Conv2d-27            [-1, 128, 6, 6]          73,728\n",
            "      BatchNorm2d-28            [-1, 128, 6, 6]             256\n",
            "             ReLU-29            [-1, 128, 6, 6]               0\n",
            "           Conv2d-30            [-1, 128, 6, 6]         147,456\n",
            "      BatchNorm2d-31            [-1, 128, 6, 6]             256\n",
            "           Conv2d-32            [-1, 128, 6, 6]          73,728\n",
            "      BatchNorm2d-33            [-1, 128, 6, 6]             256\n",
            "             ReLU-34            [-1, 128, 6, 6]               0\n",
            "     ResidualUnit-35            [-1, 128, 6, 6]               0\n",
            "           Conv2d-36            [-1, 128, 6, 6]         147,456\n",
            "      BatchNorm2d-37            [-1, 128, 6, 6]             256\n",
            "             ReLU-38            [-1, 128, 6, 6]               0\n",
            "           Conv2d-39            [-1, 128, 6, 6]         147,456\n",
            "      BatchNorm2d-40            [-1, 128, 6, 6]             256\n",
            "             ReLU-41            [-1, 128, 6, 6]               0\n",
            "     ResidualUnit-42            [-1, 128, 6, 6]               0\n",
            "           Conv2d-43            [-1, 128, 6, 6]         147,456\n",
            "      BatchNorm2d-44            [-1, 128, 6, 6]             256\n",
            "             ReLU-45            [-1, 128, 6, 6]               0\n",
            "           Conv2d-46            [-1, 128, 6, 6]         147,456\n",
            "      BatchNorm2d-47            [-1, 128, 6, 6]             256\n",
            "             ReLU-48            [-1, 128, 6, 6]               0\n",
            "     ResidualUnit-49            [-1, 128, 6, 6]               0\n",
            "           Conv2d-50            [-1, 128, 6, 6]         147,456\n",
            "      BatchNorm2d-51            [-1, 128, 6, 6]             256\n",
            "             ReLU-52            [-1, 128, 6, 6]               0\n",
            "           Conv2d-53            [-1, 128, 6, 6]         147,456\n",
            "      BatchNorm2d-54            [-1, 128, 6, 6]             256\n",
            "             ReLU-55            [-1, 128, 6, 6]               0\n",
            "     ResidualUnit-56            [-1, 128, 6, 6]               0\n",
            "           Conv2d-57            [-1, 256, 3, 3]         294,912\n",
            "      BatchNorm2d-58            [-1, 256, 3, 3]             512\n",
            "             ReLU-59            [-1, 256, 3, 3]               0\n",
            "           Conv2d-60            [-1, 256, 3, 3]         589,824\n",
            "      BatchNorm2d-61            [-1, 256, 3, 3]             512\n",
            "           Conv2d-62            [-1, 256, 3, 3]         294,912\n",
            "      BatchNorm2d-63            [-1, 256, 3, 3]             512\n",
            "             ReLU-64            [-1, 256, 3, 3]               0\n",
            "     ResidualUnit-65            [-1, 256, 3, 3]               0\n",
            "           Conv2d-66            [-1, 256, 3, 3]         589,824\n",
            "      BatchNorm2d-67            [-1, 256, 3, 3]             512\n",
            "             ReLU-68            [-1, 256, 3, 3]               0\n",
            "           Conv2d-69            [-1, 256, 3, 3]         589,824\n",
            "      BatchNorm2d-70            [-1, 256, 3, 3]             512\n",
            "             ReLU-71            [-1, 256, 3, 3]               0\n",
            "     ResidualUnit-72            [-1, 256, 3, 3]               0\n",
            "           Conv2d-73            [-1, 256, 3, 3]         589,824\n",
            "      BatchNorm2d-74            [-1, 256, 3, 3]             512\n",
            "             ReLU-75            [-1, 256, 3, 3]               0\n",
            "           Conv2d-76            [-1, 256, 3, 3]         589,824\n",
            "      BatchNorm2d-77            [-1, 256, 3, 3]             512\n",
            "             ReLU-78            [-1, 256, 3, 3]               0\n",
            "     ResidualUnit-79            [-1, 256, 3, 3]               0\n",
            "           Conv2d-80            [-1, 256, 3, 3]         589,824\n",
            "      BatchNorm2d-81            [-1, 256, 3, 3]             512\n",
            "             ReLU-82            [-1, 256, 3, 3]               0\n",
            "           Conv2d-83            [-1, 256, 3, 3]         589,824\n",
            "      BatchNorm2d-84            [-1, 256, 3, 3]             512\n",
            "             ReLU-85            [-1, 256, 3, 3]               0\n",
            "     ResidualUnit-86            [-1, 256, 3, 3]               0\n",
            "           Conv2d-87            [-1, 256, 3, 3]         589,824\n",
            "      BatchNorm2d-88            [-1, 256, 3, 3]             512\n",
            "             ReLU-89            [-1, 256, 3, 3]               0\n",
            "           Conv2d-90            [-1, 256, 3, 3]         589,824\n",
            "      BatchNorm2d-91            [-1, 256, 3, 3]             512\n",
            "             ReLU-92            [-1, 256, 3, 3]               0\n",
            "     ResidualUnit-93            [-1, 256, 3, 3]               0\n",
            "           Conv2d-94            [-1, 256, 3, 3]         589,824\n",
            "      BatchNorm2d-95            [-1, 256, 3, 3]             512\n",
            "             ReLU-96            [-1, 256, 3, 3]               0\n",
            "           Conv2d-97            [-1, 256, 3, 3]         589,824\n",
            "      BatchNorm2d-98            [-1, 256, 3, 3]             512\n",
            "             ReLU-99            [-1, 256, 3, 3]               0\n",
            "    ResidualUnit-100            [-1, 256, 3, 3]               0\n",
            "          Conv2d-101            [-1, 512, 2, 2]       1,179,648\n",
            "     BatchNorm2d-102            [-1, 512, 2, 2]           1,024\n",
            "            ReLU-103            [-1, 512, 2, 2]               0\n",
            "          Conv2d-104            [-1, 512, 2, 2]       2,359,296\n",
            "     BatchNorm2d-105            [-1, 512, 2, 2]           1,024\n",
            "          Conv2d-106            [-1, 512, 2, 2]       1,179,648\n",
            "     BatchNorm2d-107            [-1, 512, 2, 2]           1,024\n",
            "            ReLU-108            [-1, 512, 2, 2]               0\n",
            "    ResidualUnit-109            [-1, 512, 2, 2]               0\n",
            "          Conv2d-110            [-1, 512, 2, 2]       2,359,296\n",
            "     BatchNorm2d-111            [-1, 512, 2, 2]           1,024\n",
            "            ReLU-112            [-1, 512, 2, 2]               0\n",
            "          Conv2d-113            [-1, 512, 2, 2]       2,359,296\n",
            "     BatchNorm2d-114            [-1, 512, 2, 2]           1,024\n",
            "            ReLU-115            [-1, 512, 2, 2]               0\n",
            "    ResidualUnit-116            [-1, 512, 2, 2]               0\n",
            "          Conv2d-117            [-1, 512, 2, 2]       2,359,296\n",
            "     BatchNorm2d-118            [-1, 512, 2, 2]           1,024\n",
            "            ReLU-119            [-1, 512, 2, 2]               0\n",
            "          Conv2d-120            [-1, 512, 2, 2]       2,359,296\n",
            "     BatchNorm2d-121            [-1, 512, 2, 2]           1,024\n",
            "            ReLU-122            [-1, 512, 2, 2]               0\n",
            "    ResidualUnit-123            [-1, 512, 2, 2]               0\n",
            "AdaptiveAvgPool2d-124            [-1, 512, 1, 1]               0\n",
            "         Flatten-125                  [-1, 512]               0\n",
            "          Linear-126                   [-1, 10]           5,130\n",
            "================================================================\n",
            "Total params: 22,659,786\n",
            "Trainable params: 22,659,786\n",
            "Non-trainable params: 0\n",
            "----------------------------------------------------------------\n",
            "Input size (MB): 0.00\n",
            "Forward/backward pass size (MB): 4.59\n",
            "Params size (MB): 86.44\n",
            "Estimated Total Size (MB): 91.04\n",
            "----------------------------------------------------------------\n"
          ]
        },
        {
          "output_type": "stream",
          "name": "stderr",
          "text": [
            "/usr/local/lib/python3.7/dist-packages/torch/nn/functional.py:718: UserWarning: Named tensors and all their associated APIs are an experimental feature and subject to change. Please do not use them for anything important until they are released as stable. (Triggered internally at  /pytorch/c10/core/TensorImpl.h:1156.)\n",
            "  return torch.max_pool2d(input, kernel_size, stride, padding, dilation, ceil_mode)\n"
          ]
        }
      ]
    },
    {
      "cell_type": "markdown",
      "metadata": {
        "id": "ifg1tRbOpT6R"
      },
      "source": [
        "## print the defined neural network"
      ]
    },
    {
      "cell_type": "code",
      "metadata": {
        "id": "y3WevbYlpT6S",
        "colab": {
          "base_uri": "https://localhost:8080/"
        },
        "outputId": "666ef2b4-5ea2-4461-a2db-8fca42af9ebe"
      },
      "source": [
        "print(classifier)"
      ],
      "execution_count": 13,
      "outputs": [
        {
          "output_type": "stream",
          "name": "stdout",
          "text": [
            "Classifier(\n",
            "  (drop_1): Dropout(p=0.1, inplace=False)\n",
            "  (cn_1): Conv2d(1, 64, kernel_size=(7, 7), stride=(1, 1), padding=(1, 1), bias=False)\n",
            "  (bn_1): BatchNorm2d(64, eps=1e-05, momentum=0.1, affine=True, track_running_stats=True)\n",
            "  (re_1): ReLU()\n",
            "  (maxpool): MaxPool2d(kernel_size=2, stride=2, padding=0, dilation=1, ceil_mode=False)\n",
            "  (resnet): Sequential(\n",
            "    (0): ResidualUnit(\n",
            "      (main_layer): Sequential(\n",
            "        (0): Conv2d(64, 64, kernel_size=(3, 3), stride=(1, 1), padding=(1, 1), bias=False)\n",
            "        (1): BatchNorm2d(64, eps=1e-05, momentum=0.1, affine=True, track_running_stats=True)\n",
            "        (2): ReLU()\n",
            "        (3): Conv2d(64, 64, kernel_size=(3, 3), stride=(1, 1), padding=(1, 1), bias=False)\n",
            "        (4): BatchNorm2d(64, eps=1e-05, momentum=0.1, affine=True, track_running_stats=True)\n",
            "      )\n",
            "      (skip_layers): Sequential()\n",
            "      (relu): ReLU()\n",
            "    )\n",
            "    (1): ResidualUnit(\n",
            "      (main_layer): Sequential(\n",
            "        (0): Conv2d(64, 64, kernel_size=(3, 3), stride=(1, 1), padding=(1, 1), bias=False)\n",
            "        (1): BatchNorm2d(64, eps=1e-05, momentum=0.1, affine=True, track_running_stats=True)\n",
            "        (2): ReLU()\n",
            "        (3): Conv2d(64, 64, kernel_size=(3, 3), stride=(1, 1), padding=(1, 1), bias=False)\n",
            "        (4): BatchNorm2d(64, eps=1e-05, momentum=0.1, affine=True, track_running_stats=True)\n",
            "      )\n",
            "      (skip_layers): Sequential()\n",
            "      (relu): ReLU()\n",
            "    )\n",
            "    (2): ResidualUnit(\n",
            "      (main_layer): Sequential(\n",
            "        (0): Conv2d(64, 64, kernel_size=(3, 3), stride=(1, 1), padding=(1, 1), bias=False)\n",
            "        (1): BatchNorm2d(64, eps=1e-05, momentum=0.1, affine=True, track_running_stats=True)\n",
            "        (2): ReLU()\n",
            "        (3): Conv2d(64, 64, kernel_size=(3, 3), stride=(1, 1), padding=(1, 1), bias=False)\n",
            "        (4): BatchNorm2d(64, eps=1e-05, momentum=0.1, affine=True, track_running_stats=True)\n",
            "      )\n",
            "      (skip_layers): Sequential()\n",
            "      (relu): ReLU()\n",
            "    )\n",
            "    (3): ResidualUnit(\n",
            "      (main_layer): Sequential(\n",
            "        (0): Conv2d(64, 128, kernel_size=(3, 3), stride=(2, 2), padding=(1, 1), bias=False)\n",
            "        (1): BatchNorm2d(128, eps=1e-05, momentum=0.1, affine=True, track_running_stats=True)\n",
            "        (2): ReLU()\n",
            "        (3): Conv2d(128, 128, kernel_size=(3, 3), stride=(1, 1), padding=(1, 1), bias=False)\n",
            "        (4): BatchNorm2d(128, eps=1e-05, momentum=0.1, affine=True, track_running_stats=True)\n",
            "      )\n",
            "      (skip_layers): Sequential(\n",
            "        (0): Conv2d(64, 128, kernel_size=(3, 3), stride=(2, 2), padding=(1, 1), bias=False)\n",
            "        (1): BatchNorm2d(128, eps=1e-05, momentum=0.1, affine=True, track_running_stats=True)\n",
            "      )\n",
            "      (relu): ReLU()\n",
            "    )\n",
            "    (4): ResidualUnit(\n",
            "      (main_layer): Sequential(\n",
            "        (0): Conv2d(128, 128, kernel_size=(3, 3), stride=(1, 1), padding=(1, 1), bias=False)\n",
            "        (1): BatchNorm2d(128, eps=1e-05, momentum=0.1, affine=True, track_running_stats=True)\n",
            "        (2): ReLU()\n",
            "        (3): Conv2d(128, 128, kernel_size=(3, 3), stride=(1, 1), padding=(1, 1), bias=False)\n",
            "        (4): BatchNorm2d(128, eps=1e-05, momentum=0.1, affine=True, track_running_stats=True)\n",
            "      )\n",
            "      (skip_layers): Sequential()\n",
            "      (relu): ReLU()\n",
            "    )\n",
            "    (5): ResidualUnit(\n",
            "      (main_layer): Sequential(\n",
            "        (0): Conv2d(128, 128, kernel_size=(3, 3), stride=(1, 1), padding=(1, 1), bias=False)\n",
            "        (1): BatchNorm2d(128, eps=1e-05, momentum=0.1, affine=True, track_running_stats=True)\n",
            "        (2): ReLU()\n",
            "        (3): Conv2d(128, 128, kernel_size=(3, 3), stride=(1, 1), padding=(1, 1), bias=False)\n",
            "        (4): BatchNorm2d(128, eps=1e-05, momentum=0.1, affine=True, track_running_stats=True)\n",
            "      )\n",
            "      (skip_layers): Sequential()\n",
            "      (relu): ReLU()\n",
            "    )\n",
            "    (6): ResidualUnit(\n",
            "      (main_layer): Sequential(\n",
            "        (0): Conv2d(128, 128, kernel_size=(3, 3), stride=(1, 1), padding=(1, 1), bias=False)\n",
            "        (1): BatchNorm2d(128, eps=1e-05, momentum=0.1, affine=True, track_running_stats=True)\n",
            "        (2): ReLU()\n",
            "        (3): Conv2d(128, 128, kernel_size=(3, 3), stride=(1, 1), padding=(1, 1), bias=False)\n",
            "        (4): BatchNorm2d(128, eps=1e-05, momentum=0.1, affine=True, track_running_stats=True)\n",
            "      )\n",
            "      (skip_layers): Sequential()\n",
            "      (relu): ReLU()\n",
            "    )\n",
            "    (7): ResidualUnit(\n",
            "      (main_layer): Sequential(\n",
            "        (0): Conv2d(128, 256, kernel_size=(3, 3), stride=(2, 2), padding=(1, 1), bias=False)\n",
            "        (1): BatchNorm2d(256, eps=1e-05, momentum=0.1, affine=True, track_running_stats=True)\n",
            "        (2): ReLU()\n",
            "        (3): Conv2d(256, 256, kernel_size=(3, 3), stride=(1, 1), padding=(1, 1), bias=False)\n",
            "        (4): BatchNorm2d(256, eps=1e-05, momentum=0.1, affine=True, track_running_stats=True)\n",
            "      )\n",
            "      (skip_layers): Sequential(\n",
            "        (0): Conv2d(128, 256, kernel_size=(3, 3), stride=(2, 2), padding=(1, 1), bias=False)\n",
            "        (1): BatchNorm2d(256, eps=1e-05, momentum=0.1, affine=True, track_running_stats=True)\n",
            "      )\n",
            "      (relu): ReLU()\n",
            "    )\n",
            "    (8): ResidualUnit(\n",
            "      (main_layer): Sequential(\n",
            "        (0): Conv2d(256, 256, kernel_size=(3, 3), stride=(1, 1), padding=(1, 1), bias=False)\n",
            "        (1): BatchNorm2d(256, eps=1e-05, momentum=0.1, affine=True, track_running_stats=True)\n",
            "        (2): ReLU()\n",
            "        (3): Conv2d(256, 256, kernel_size=(3, 3), stride=(1, 1), padding=(1, 1), bias=False)\n",
            "        (4): BatchNorm2d(256, eps=1e-05, momentum=0.1, affine=True, track_running_stats=True)\n",
            "      )\n",
            "      (skip_layers): Sequential()\n",
            "      (relu): ReLU()\n",
            "    )\n",
            "    (9): ResidualUnit(\n",
            "      (main_layer): Sequential(\n",
            "        (0): Conv2d(256, 256, kernel_size=(3, 3), stride=(1, 1), padding=(1, 1), bias=False)\n",
            "        (1): BatchNorm2d(256, eps=1e-05, momentum=0.1, affine=True, track_running_stats=True)\n",
            "        (2): ReLU()\n",
            "        (3): Conv2d(256, 256, kernel_size=(3, 3), stride=(1, 1), padding=(1, 1), bias=False)\n",
            "        (4): BatchNorm2d(256, eps=1e-05, momentum=0.1, affine=True, track_running_stats=True)\n",
            "      )\n",
            "      (skip_layers): Sequential()\n",
            "      (relu): ReLU()\n",
            "    )\n",
            "    (10): ResidualUnit(\n",
            "      (main_layer): Sequential(\n",
            "        (0): Conv2d(256, 256, kernel_size=(3, 3), stride=(1, 1), padding=(1, 1), bias=False)\n",
            "        (1): BatchNorm2d(256, eps=1e-05, momentum=0.1, affine=True, track_running_stats=True)\n",
            "        (2): ReLU()\n",
            "        (3): Conv2d(256, 256, kernel_size=(3, 3), stride=(1, 1), padding=(1, 1), bias=False)\n",
            "        (4): BatchNorm2d(256, eps=1e-05, momentum=0.1, affine=True, track_running_stats=True)\n",
            "      )\n",
            "      (skip_layers): Sequential()\n",
            "      (relu): ReLU()\n",
            "    )\n",
            "    (11): ResidualUnit(\n",
            "      (main_layer): Sequential(\n",
            "        (0): Conv2d(256, 256, kernel_size=(3, 3), stride=(1, 1), padding=(1, 1), bias=False)\n",
            "        (1): BatchNorm2d(256, eps=1e-05, momentum=0.1, affine=True, track_running_stats=True)\n",
            "        (2): ReLU()\n",
            "        (3): Conv2d(256, 256, kernel_size=(3, 3), stride=(1, 1), padding=(1, 1), bias=False)\n",
            "        (4): BatchNorm2d(256, eps=1e-05, momentum=0.1, affine=True, track_running_stats=True)\n",
            "      )\n",
            "      (skip_layers): Sequential()\n",
            "      (relu): ReLU()\n",
            "    )\n",
            "    (12): ResidualUnit(\n",
            "      (main_layer): Sequential(\n",
            "        (0): Conv2d(256, 256, kernel_size=(3, 3), stride=(1, 1), padding=(1, 1), bias=False)\n",
            "        (1): BatchNorm2d(256, eps=1e-05, momentum=0.1, affine=True, track_running_stats=True)\n",
            "        (2): ReLU()\n",
            "        (3): Conv2d(256, 256, kernel_size=(3, 3), stride=(1, 1), padding=(1, 1), bias=False)\n",
            "        (4): BatchNorm2d(256, eps=1e-05, momentum=0.1, affine=True, track_running_stats=True)\n",
            "      )\n",
            "      (skip_layers): Sequential()\n",
            "      (relu): ReLU()\n",
            "    )\n",
            "    (13): ResidualUnit(\n",
            "      (main_layer): Sequential(\n",
            "        (0): Conv2d(256, 512, kernel_size=(3, 3), stride=(2, 2), padding=(1, 1), bias=False)\n",
            "        (1): BatchNorm2d(512, eps=1e-05, momentum=0.1, affine=True, track_running_stats=True)\n",
            "        (2): ReLU()\n",
            "        (3): Conv2d(512, 512, kernel_size=(3, 3), stride=(1, 1), padding=(1, 1), bias=False)\n",
            "        (4): BatchNorm2d(512, eps=1e-05, momentum=0.1, affine=True, track_running_stats=True)\n",
            "      )\n",
            "      (skip_layers): Sequential(\n",
            "        (0): Conv2d(256, 512, kernel_size=(3, 3), stride=(2, 2), padding=(1, 1), bias=False)\n",
            "        (1): BatchNorm2d(512, eps=1e-05, momentum=0.1, affine=True, track_running_stats=True)\n",
            "      )\n",
            "      (relu): ReLU()\n",
            "    )\n",
            "    (14): ResidualUnit(\n",
            "      (main_layer): Sequential(\n",
            "        (0): Conv2d(512, 512, kernel_size=(3, 3), stride=(1, 1), padding=(1, 1), bias=False)\n",
            "        (1): BatchNorm2d(512, eps=1e-05, momentum=0.1, affine=True, track_running_stats=True)\n",
            "        (2): ReLU()\n",
            "        (3): Conv2d(512, 512, kernel_size=(3, 3), stride=(1, 1), padding=(1, 1), bias=False)\n",
            "        (4): BatchNorm2d(512, eps=1e-05, momentum=0.1, affine=True, track_running_stats=True)\n",
            "      )\n",
            "      (skip_layers): Sequential()\n",
            "      (relu): ReLU()\n",
            "    )\n",
            "    (15): ResidualUnit(\n",
            "      (main_layer): Sequential(\n",
            "        (0): Conv2d(512, 512, kernel_size=(3, 3), stride=(1, 1), padding=(1, 1), bias=False)\n",
            "        (1): BatchNorm2d(512, eps=1e-05, momentum=0.1, affine=True, track_running_stats=True)\n",
            "        (2): ReLU()\n",
            "        (3): Conv2d(512, 512, kernel_size=(3, 3), stride=(1, 1), padding=(1, 1), bias=False)\n",
            "        (4): BatchNorm2d(512, eps=1e-05, momentum=0.1, affine=True, track_running_stats=True)\n",
            "      )\n",
            "      (skip_layers): Sequential()\n",
            "      (relu): ReLU()\n",
            "    )\n",
            "  )\n",
            "  (avg): AdaptiveAvgPool2d(output_size=1)\n",
            "  (flatten): Flatten(start_dim=1, end_dim=-1)\n",
            "  (classifier): Linear(in_features=512, out_features=10, bias=True)\n",
            ")\n"
          ]
        }
      ]
    },
    {
      "cell_type": "markdown",
      "metadata": {
        "id": "uXhtDvkApT6S"
      },
      "source": [
        "## compute the prediction"
      ]
    },
    {
      "cell_type": "code",
      "metadata": {
        "id": "NQv7UqyqpT6T"
      },
      "source": [
        "def compute_prediction(model, input):\n",
        "\n",
        "    prediction = model(input)\n",
        "\n",
        "    return prediction"
      ],
      "execution_count": 14,
      "outputs": []
    },
    {
      "cell_type": "markdown",
      "metadata": {
        "id": "uuHs_ClBpT6T"
      },
      "source": [
        "## compute the loss"
      ]
    },
    {
      "cell_type": "code",
      "metadata": {
        "id": "_Oh-PPzbpT6T"
      },
      "source": [
        "def compute_loss(prediction, label):\n",
        "\n",
        "    criterion   = nn.CrossEntropyLoss()\n",
        "    loss        = criterion(prediction, label)\n",
        "    loss_value  = loss.item()\n",
        "\n",
        "    return loss, loss_value"
      ],
      "execution_count": 15,
      "outputs": []
    },
    {
      "cell_type": "markdown",
      "metadata": {
        "id": "3wi4pDDvpT6U"
      },
      "source": [
        "## compute the accuracy"
      ]
    },
    {
      "cell_type": "code",
      "metadata": {
        "id": "XgyhFIfNpT6U"
      },
      "source": [
        "def compute_accuracy(prediction, label):\n",
        "    # ================================================================================ \n",
        "    # complete the function body\n",
        "    b_Prediction = torch.argmax(prediction, 1)\n",
        "    bCorrect = (b_Prediction == label)\n",
        "    accuracy = bCorrect.float().mean()\n",
        "    # ================================================================================ \n",
        "\n",
        "    return accuracy"
      ],
      "execution_count": 16,
      "outputs": []
    },
    {
      "cell_type": "markdown",
      "metadata": {
        "id": "unxSNc0LpT6U"
      },
      "source": [
        "## variables for the learning curve"
      ]
    },
    {
      "cell_type": "code",
      "metadata": {
        "id": "B3sAfmbbpT6U"
      },
      "source": [
        "loss_mean_train     = np.zeros(number_epoch)\n",
        "loss_std_train      = np.zeros(number_epoch)\n",
        "accuracy_mean_train = np.zeros(number_epoch)\n",
        "accuracy_std_train  = np.zeros(number_epoch)\n",
        "\n",
        "loss_mean_test      = np.zeros(number_epoch)\n",
        "loss_std_test       = np.zeros(number_epoch)\n",
        "accuracy_mean_test  = np.zeros(number_epoch)\n",
        "accuracy_std_test   = np.zeros(number_epoch)"
      ],
      "execution_count": 17,
      "outputs": []
    },
    {
      "cell_type": "markdown",
      "metadata": {
        "id": "yhhCp2YppT6V"
      },
      "source": [
        "## train and test"
      ]
    },
    {
      "cell_type": "code",
      "metadata": {
        "id": "sP27BVwepT6V",
        "colab": {
          "base_uri": "https://localhost:8080/",
          "height": 0
        },
        "outputId": "c318cdc2-06cc-4711-cdf5-b07b5e42e228"
      },
      "source": [
        "## For Debugging\n",
        "classifier  = Classifier().to(device)\n",
        "optimizer   = torch.optim.SGD(classifier.parameters(), lr=learning_rate, weight_decay=weight_decay)\n",
        "early_stopping = EarlyStopping(patience=70, verbose=1)\n",
        "\n",
        "# ================================================================================\n",
        "# \n",
        "# iterations for epochs\n",
        "#\n",
        "# ================================================================================\n",
        "for i in tqdm_notebook(range(number_epoch)):\n",
        "    \n",
        "    # ================================================================================\n",
        "    # \n",
        "    # training\n",
        "    #\n",
        "    # ================================================================================\n",
        "    loss_train_epoch        = []\n",
        "    accuracy_train_epoch    = []\n",
        "\n",
        "    classifier.train()\n",
        "\n",
        "    for index_batch, (image_train, label_train) in enumerate(dataloader_train):\n",
        "\n",
        "        image_train = image_train.to(device)\n",
        "        label_train = label_train.to(device)\n",
        "        \n",
        "        prediction_train                = compute_prediction(classifier, image_train)\n",
        "        loss_train, loss_value_train    = compute_loss(prediction_train, label_train)\n",
        "        accuracy_train                  = compute_accuracy(prediction_train, label_train).to(\"cpu\")\n",
        "        accuracy_train = accuracy_train.numpy()\n",
        "        # loss_value_train = loss_value_train.to(\"cpu\")\n",
        "\n",
        "        optimizer.zero_grad()\n",
        "        loss_train.backward()\n",
        "        optimizer.step()\n",
        "\n",
        "        loss_train_epoch.append(loss_value_train)\n",
        "        accuracy_train_epoch.append(accuracy_train)\n",
        "\n",
        "    loss_mean_train[i]      = np.mean(loss_train_epoch)\n",
        "    loss_std_train[i]       = np.std(loss_train_epoch)\n",
        "\n",
        "    accuracy_mean_train[i]  = np.mean(accuracy_train_epoch)\n",
        "    accuracy_std_train[i]   = np.std(accuracy_train_epoch)\n",
        "\n",
        "    # ================================================================================\n",
        "    # \n",
        "    # testing\n",
        "    #\n",
        "    # ================================================================================\n",
        "    loss_test_epoch        = []\n",
        "    accuracy_test_epoch    = []\n",
        "\n",
        "    with torch.no_grad():\n",
        "        classifier.eval()\n",
        "\n",
        "    for index_batch, (image_test, label_test) in enumerate(dataloader_test):\n",
        "\n",
        "        image_test = image_test.to(device)\n",
        "        label_test = label_test.to(device)\n",
        "        \n",
        "        prediction_test             = compute_prediction(classifier, image_test)\n",
        "        loss_test, loss_value_test  = compute_loss(prediction_test, label_test)\n",
        "        accuracy_test               = compute_accuracy(prediction_test, label_test).to(\"cpu\")\n",
        "        accuracy_test = accuracy_test.numpy()\n",
        "\n",
        "        loss_test_epoch.append(loss_value_test)\n",
        "        accuracy_test_epoch.append(accuracy_test)\n",
        "\n",
        "    loss_mean_test[i]      = np.mean(loss_test_epoch)\n",
        "    loss_std_test[i]       = np.std(loss_test_epoch)\n",
        "\n",
        "    accuracy_mean_test[i]  = np.mean(accuracy_test)\n",
        "    accuracy_std_test[i]   = np.std(accuracy_test)\n",
        "\n",
        "    if i % 10 == 0:\n",
        "        print(f\"epoch : {i}, train acc : {np.mean(accuracy_train_epoch)}, train loss : {np.mean(loss_train_epoch)}\")\n",
        "        print(f\"epoch : {i}, test acc : {np.mean(accuracy_test_epoch)}, test loss : {np.mean(loss_test_epoch)}\")\n",
        "        print()\n",
        "\n",
        "    # if early_stopping.validate(np.mean(loss_test_epoch)):\n",
        "    #     break\n",
        "\n"
      ],
      "execution_count": 18,
      "outputs": [
        {
          "output_type": "stream",
          "name": "stderr",
          "text": [
            "/usr/local/lib/python3.7/dist-packages/ipykernel_launcher.py:11: TqdmDeprecationWarning: This function will be removed in tqdm==5.0.0\n",
            "Please use `tqdm.notebook.tqdm` instead of `tqdm.tqdm_notebook`\n",
            "  # This is added back by InteractiveShellApp.init_path()\n"
          ]
        },
        {
          "output_type": "display_data",
          "data": {
            "application/vnd.jupyter.widget-view+json": {
              "model_id": "c87f82d87f4348dc87f54fe8990524ca",
              "version_minor": 0,
              "version_major": 2
            },
            "text/plain": [
              "  0%|          | 0/40 [00:00<?, ?it/s]"
            ]
          },
          "metadata": {}
        },
        {
          "output_type": "stream",
          "name": "stdout",
          "text": [
            "epoch : 0, train acc : 0.7939202785491943, train loss : 0.7593097369640301\n",
            "epoch : 0, test acc : 0.6149739623069763, test loss : 1.3753399133682251\n",
            "\n",
            "epoch : 10, train acc : 0.9991486668586731, train loss : 0.021301131934309617\n",
            "epoch : 10, test acc : 0.981249988079071, test loss : 0.08956178774436314\n",
            "\n",
            "epoch : 20, train acc : 0.9998998641967773, train loss : 0.02152106576623061\n",
            "epoch : 20, test acc : 0.9848958253860474, test loss : 0.08243597745895385\n",
            "\n",
            "epoch : 30, train acc : 0.9985977411270142, train loss : 0.03358825902717236\n",
            "epoch : 30, test acc : 0.9837239384651184, test loss : 0.10231706251700719\n",
            "\n"
          ]
        }
      ]
    },
    {
      "cell_type": "markdown",
      "metadata": {
        "id": "90WPUllLpT6V"
      },
      "source": [
        "## plot curve"
      ]
    },
    {
      "cell_type": "code",
      "metadata": {
        "id": "8p5A78UgpT6V"
      },
      "source": [
        "def plot_curve_error(data_mean, data_std, x_label, y_label, title):\n",
        "\n",
        "    plt.figure(figsize=(8, 6))\n",
        "    plt.title(title)\n",
        "\n",
        "    alpha = 0.3\n",
        "    \n",
        "    plt.plot(range(len(data_mean)), data_mean, '-', color = 'red')\n",
        "    plt.fill_between(range(len(data_mean)), data_mean - data_std, data_mean + data_std, facecolor = 'blue', alpha = alpha) \n",
        "    \n",
        "    plt.xlabel(x_label)\n",
        "    plt.ylabel(y_label)\n",
        "\n",
        "    plt.tight_layout()\n",
        "    plt.show()"
      ],
      "execution_count": 19,
      "outputs": []
    },
    {
      "cell_type": "code",
      "metadata": {
        "id": "2ejqQNTNpT6W"
      },
      "source": [
        "def print_curve(data, index):\n",
        "    \n",
        "    for i in range(len(index)):\n",
        "\n",
        "        idx = index[i]\n",
        "        val = data[idx]\n",
        "\n",
        "        print('index = %2d, value = %12.10f' % (idx, val))"
      ],
      "execution_count": 20,
      "outputs": []
    },
    {
      "cell_type": "code",
      "metadata": {
        "id": "xIj3KePYpT6W"
      },
      "source": [
        "def get_data_last(data, index_start):\n",
        "\n",
        "    data_last = data[index_start:]\n",
        "\n",
        "    return data_last"
      ],
      "execution_count": 21,
      "outputs": []
    },
    {
      "cell_type": "code",
      "metadata": {
        "id": "Ir2WSmQCpT6W"
      },
      "source": [
        "def get_max_last_range(data, index_start):\n",
        "\n",
        "    data_range = get_data_last(data, index_start)\n",
        "    value = data_range.max()\n",
        "\n",
        "    return value"
      ],
      "execution_count": 22,
      "outputs": []
    },
    {
      "cell_type": "code",
      "metadata": {
        "id": "eiKhx2YHpT6W"
      },
      "source": [
        "def get_min_last_range(data, index_start):\n",
        "\n",
        "    data_range = get_data_last(data, index_start)\n",
        "    value = data_range.min()\n",
        "\n",
        "    return value"
      ],
      "execution_count": 23,
      "outputs": []
    },
    {
      "cell_type": "markdown",
      "metadata": {
        "id": "7sihIC7dpT6W"
      },
      "source": [
        "---"
      ]
    },
    {
      "cell_type": "markdown",
      "metadata": {
        "id": "HXwPh7JEpT6X"
      },
      "source": [
        "# functions for presenting the results"
      ]
    },
    {
      "cell_type": "markdown",
      "metadata": {
        "id": "6dKoEkwBpT6X"
      },
      "source": [
        "---"
      ]
    },
    {
      "cell_type": "code",
      "metadata": {
        "id": "ppT6PlLfpT6X"
      },
      "source": [
        "def function_result_01():\n",
        "\n",
        "    plot_curve_error(loss_mean_train, loss_std_train, 'epoch', 'loss', 'loss (training)')"
      ],
      "execution_count": 24,
      "outputs": []
    },
    {
      "cell_type": "code",
      "metadata": {
        "id": "tPSZIgGhpT6X"
      },
      "source": [
        "def function_result_02():\n",
        "\n",
        "    plot_curve_error(accuracy_mean_train, accuracy_std_train, 'epoch', 'accuracy', 'accuracy (training)')"
      ],
      "execution_count": 25,
      "outputs": []
    },
    {
      "cell_type": "code",
      "metadata": {
        "id": "08QzCnwlpT6X"
      },
      "source": [
        "def function_result_03():\n",
        "    \n",
        "    plot_curve_error(loss_mean_test, loss_std_test, 'epoch', 'loss', 'loss (testing)')"
      ],
      "execution_count": 26,
      "outputs": []
    },
    {
      "cell_type": "code",
      "metadata": {
        "id": "oLbSFzAjpT6X"
      },
      "source": [
        "def function_result_04():\n",
        "    \n",
        "    plot_curve_error(accuracy_mean_test, accuracy_std_test, 'epoch', 'accuracy', 'accuracy (testing)')"
      ],
      "execution_count": 27,
      "outputs": []
    },
    {
      "cell_type": "code",
      "metadata": {
        "id": "55UtBzMkpT6X"
      },
      "source": [
        "def function_result_05():\n",
        "    \n",
        "    data_last = get_data_last(loss_mean_train, -10)\n",
        "    index = np.arange(0, 10)\n",
        "    print_curve(data_last, index)"
      ],
      "execution_count": 28,
      "outputs": []
    },
    {
      "cell_type": "code",
      "metadata": {
        "id": "Kmf5Zrj-pT6Y"
      },
      "source": [
        "def function_result_06():\n",
        "    \n",
        "    data_last = get_data_last(accuracy_mean_train, -10)\n",
        "    index = np.arange(0, 10)\n",
        "    print_curve(data_last, index)"
      ],
      "execution_count": 29,
      "outputs": []
    },
    {
      "cell_type": "code",
      "metadata": {
        "id": "gD3IU_TapT6Y"
      },
      "source": [
        "def function_result_07():\n",
        "    \n",
        "    data_last = get_data_last(loss_mean_test, -10)\n",
        "    index = np.arange(0, 10)\n",
        "    print_curve(data_last, index)"
      ],
      "execution_count": 30,
      "outputs": []
    },
    {
      "cell_type": "code",
      "metadata": {
        "id": "7YSVW441pT6Y"
      },
      "source": [
        "def function_result_08():\n",
        "    \n",
        "    data_last = get_data_last(accuracy_mean_test, -10)\n",
        "    index = np.arange(0, 10)\n",
        "    print_curve(data_last, index)"
      ],
      "execution_count": 31,
      "outputs": []
    },
    {
      "cell_type": "code",
      "metadata": {
        "id": "34XQZEljpT6Y"
      },
      "source": [
        "def function_result_09():\n",
        "    \n",
        "    value = get_max_last_range(accuracy_mean_train, -10)\n",
        "    print('best training accuracy = %12.10f' % (value))"
      ],
      "execution_count": 32,
      "outputs": []
    },
    {
      "cell_type": "code",
      "metadata": {
        "id": "8Zh82H02pT6Y"
      },
      "source": [
        "def function_result_10():\n",
        "    \n",
        "    value = get_max_last_range(accuracy_mean_test, -10)\n",
        "    print('best testing accuracy = %12.10f' % (value))"
      ],
      "execution_count": 33,
      "outputs": []
    },
    {
      "cell_type": "markdown",
      "metadata": {
        "id": "dVJnBMsIpT6Y"
      },
      "source": [
        "---"
      ]
    },
    {
      "cell_type": "markdown",
      "metadata": {
        "id": "d_WGHZ35pT6Z"
      },
      "source": [
        "# RESULTS"
      ]
    },
    {
      "cell_type": "markdown",
      "metadata": {
        "id": "si3i6LPPpT6Z"
      },
      "source": [
        "---"
      ]
    },
    {
      "cell_type": "markdown",
      "metadata": {
        "id": "lr8EAziZpT6Z"
      },
      "source": [
        "## # 01. plot the training loss curve (mean, std)"
      ]
    },
    {
      "cell_type": "code",
      "metadata": {
        "id": "SacrtSXvpT6Z",
        "colab": {
          "base_uri": "https://localhost:8080/",
          "height": 0
        },
        "outputId": "ee6a04b9-403a-4d0e-b850-7e50e08aa4e9"
      },
      "source": [
        "function_result_01()"
      ],
      "execution_count": 34,
      "outputs": [
        {
          "output_type": "display_data",
          "data": {
            "image/png": "[encoded data removed]",
            "text/plain": [
              "<Figure size 576x432 with 1 Axes>"
            ]
          },
          "metadata": {
            "needs_background": "light"
          }
        }
      ]
    },
    {
      "cell_type": "markdown",
      "metadata": {
        "id": "gn5_tRFIpT6Z"
      },
      "source": [
        "## # 02. plot the training accuracy curve (mean, std)"
      ]
    },
    {
      "cell_type": "code",
      "metadata": {
        "id": "F5QZRbJ7pT6a",
        "colab": {
          "base_uri": "https://localhost:8080/",
          "height": 0
        },
        "outputId": "71bdf2d6-6533-446e-eb35-d603b777b42b"
      },
      "source": [
        "function_result_02()"
      ],
      "execution_count": 35,
      "outputs": [
        {
          "output_type": "display_data",
          "data": {
            "image/png": "[encoded data removed]",
            "text/plain": [
              "<Figure size 576x432 with 1 Axes>"
            ]
          },
          "metadata": {
            "needs_background": "light"
          }
        }
      ]
    },
    {
      "cell_type": "markdown",
      "metadata": {
        "id": "0VZ2n92dpT6a"
      },
      "source": [
        "## # 03. plot the testing loss curve (mean, std)"
      ]
    },
    {
      "cell_type": "code",
      "metadata": {
        "id": "Pz0B8gwXpT6a",
        "colab": {
          "base_uri": "https://localhost:8080/",
          "height": 0
        },
        "outputId": "260f7edb-6df1-41f4-9036-c6f8319f5296"
      },
      "source": [
        "function_result_03()"
      ],
      "execution_count": 36,
      "outputs": [
        {
          "output_type": "display_data",
          "data": {
            "image/png": "[encoded data removed]",
            "text/plain": [
              "<Figure size 576x432 with 1 Axes>"
            ]
          },
          "metadata": {
            "needs_background": "light"
          }
        }
      ]
    },
    {
      "cell_type": "markdown",
      "metadata": {
        "id": "HhzYebMjpT6a"
      },
      "source": [
        "## # 04. plot the testing accuracy curve (mean, std)"
      ]
    },
    {
      "cell_type": "code",
      "metadata": {
        "id": "9VUBZ-W7pT6a",
        "colab": {
          "base_uri": "https://localhost:8080/",
          "height": 0
        },
        "outputId": "7a285356-ae66-4533-95de-4c41022f63e1"
      },
      "source": [
        "function_result_04()"
      ],
      "execution_count": 37,
      "outputs": [
        {
          "output_type": "display_data",
          "data": {
            "image/png": "[encoded data removed]",
            "text/plain": [
              "<Figure size 576x432 with 1 Axes>"
            ]
          },
          "metadata": {
            "needs_background": "light"
          }
        }
      ]
    },
    {
      "cell_type": "markdown",
      "metadata": {
        "id": "mGaJ_03_pT6b"
      },
      "source": [
        "## # 05. print the training (mean) loss over batches at last 10 epochs"
      ]
    },
    {
      "cell_type": "code",
      "metadata": {
        "id": "5iYXMUcIpT6b",
        "colab": {
          "base_uri": "https://localhost:8080/"
        },
        "outputId": "3193a76c-ed96-4f38-dfef-75ca9d47f427"
      },
      "source": [
        "function_result_05()"
      ],
      "execution_count": 38,
      "outputs": [
        {
          "output_type": "stream",
          "name": "stdout",
          "text": [
            "index =  0, value = 0.0335882590\n",
            "index =  1, value = 0.0286893773\n",
            "index =  2, value = 0.0294299959\n",
            "index =  3, value = 0.0296350619\n",
            "index =  4, value = 0.0307882176\n",
            "index =  5, value = 0.0317569672\n",
            "index =  6, value = 0.3499722081\n",
            "index =  7, value = 0.0996625641\n",
            "index =  8, value = 0.0697552692\n",
            "index =  9, value = 0.0559550973\n"
          ]
        }
      ]
    },
    {
      "cell_type": "markdown",
      "metadata": {
        "id": "LUry0bHspT6b"
      },
      "source": [
        "## # 06. print the training (mean) accuracy over batches at last 10 epochs"
      ]
    },
    {
      "cell_type": "code",
      "metadata": {
        "id": "uB-M1KOUpT6b",
        "colab": {
          "base_uri": "https://localhost:8080/"
        },
        "outputId": "36e212c2-e754-4096-add4-a9e140070af0"
      },
      "source": [
        "function_result_06()"
      ],
      "execution_count": 39,
      "outputs": [
        {
          "output_type": "stream",
          "name": "stdout",
          "text": [
            "index =  0, value = 0.9985977411\n",
            "index =  1, value = 0.9998497367\n",
            "index =  2, value = 0.9997996688\n",
            "index =  3, value = 0.9999499321\n",
            "index =  4, value = 1.0000000000\n",
            "index =  5, value = 1.0000000000\n",
            "index =  6, value = 0.9074018598\n",
            "index =  7, value = 0.9822716117\n",
            "index =  8, value = 0.9915865660\n",
            "index =  9, value = 0.9955428839\n"
          ]
        }
      ]
    },
    {
      "cell_type": "markdown",
      "metadata": {
        "id": "sidXzJ0ppT6b"
      },
      "source": [
        "## # 07. print the testing (mean) loss over batches at last 10 epochs"
      ]
    },
    {
      "cell_type": "code",
      "metadata": {
        "id": "drN0TulOpT6c",
        "colab": {
          "base_uri": "https://localhost:8080/"
        },
        "outputId": "63786d0f-b3c8-4e70-e3ed-0d37137541c2"
      },
      "source": [
        "function_result_07()"
      ],
      "execution_count": 40,
      "outputs": [
        {
          "output_type": "stream",
          "name": "stdout",
          "text": [
            "index =  0, value = 0.1023170625\n",
            "index =  1, value = 0.0824035297\n",
            "index =  2, value = 0.0768965664\n",
            "index =  3, value = 0.0792512536\n",
            "index =  4, value = 0.0829676740\n",
            "index =  5, value = 0.0846236783\n",
            "index =  6, value = 0.2117315372\n",
            "index =  7, value = 0.1528758367\n",
            "index =  8, value = 0.1498738726\n",
            "index =  9, value = 0.1014868329\n"
          ]
        }
      ]
    },
    {
      "cell_type": "markdown",
      "metadata": {
        "id": "ccZVqUcgpT6c"
      },
      "source": [
        "## # 08. print the testing (mean) accuracy over batches at last 10 epochs"
      ]
    },
    {
      "cell_type": "code",
      "metadata": {
        "id": "yBSyyygFpT6c",
        "colab": {
          "base_uri": "https://localhost:8080/"
        },
        "outputId": "2d97ce8d-4ac7-4a86-db29-39c8bdebfef1"
      },
      "source": [
        "function_result_08()"
      ],
      "execution_count": 41,
      "outputs": [
        {
          "output_type": "stream",
          "name": "stdout",
          "text": [
            "index =  0, value = 0.9785156250\n",
            "index =  1, value = 0.9863281250\n",
            "index =  2, value = 0.9941406250\n",
            "index =  3, value = 0.9902343750\n",
            "index =  4, value = 0.9941406250\n",
            "index =  5, value = 0.9941406250\n",
            "index =  6, value = 0.9609375000\n",
            "index =  7, value = 0.9804687500\n",
            "index =  8, value = 0.9628906250\n",
            "index =  9, value = 0.9882812500\n"
          ]
        }
      ]
    },
    {
      "cell_type": "markdown",
      "metadata": {
        "id": "tM2IUxQVpT6c"
      },
      "source": [
        "## # 09. print the best training (mean) accuracy within the last 10 epochs"
      ]
    },
    {
      "cell_type": "code",
      "metadata": {
        "id": "-cImK64ypT6c",
        "colab": {
          "base_uri": "https://localhost:8080/"
        },
        "outputId": "e22f8082-fa0b-445c-dca9-8564d0bed411"
      },
      "source": [
        "function_result_09()"
      ],
      "execution_count": 42,
      "outputs": [
        {
          "output_type": "stream",
          "name": "stdout",
          "text": [
            "best training accuracy = 1.0000000000\n"
          ]
        }
      ]
    },
    {
      "cell_type": "markdown",
      "metadata": {
        "id": "0jWtRfhjpT6c"
      },
      "source": [
        "## # 10. print the best testing (mean) accuracy within the last 10 epochs"
      ]
    },
    {
      "cell_type": "code",
      "metadata": {
        "id": "O0rFbBUTpT6c",
        "colab": {
          "base_uri": "https://localhost:8080/"
        },
        "outputId": "0de3b93b-758c-4495-b39d-51b40680458a"
      },
      "source": [
        "function_result_10()"
      ],
      "execution_count": 43,
      "outputs": [
        {
          "output_type": "stream",
          "name": "stdout",
          "text": [
            "best testing accuracy = 0.9941406250\n"
          ]
        }
      ]
    },
    {
      "cell_type": "code",
      "metadata": {
        "id": "U71rvnD13T79"
      },
      "source": [
        ""
      ],
      "execution_count": 43,
      "outputs": []
    }
  ]
}