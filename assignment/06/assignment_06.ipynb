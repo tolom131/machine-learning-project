{
  "nbformat": 4,
  "nbformat_minor": 0,
  "metadata": {
    "colab": {
      "name": "assignment_02.ipynb",
      "provenance": [],
      "collapsed_sections": []
    },
    "interpreter": {
      "hash": "84bbda367bac7e7bffd9b7890a44d65326aaedad40e5a9021c2651157391b1ef"
    },
    "kernelspec": {
      "display_name": "Python 3.8.5 64-bit ('base': conda)",
      "name": "python3"
    },
    "language_info": {
      "codemirror_mode": {
        "name": "ipython",
        "version": 3
      },
      "file_extension": ".py",
      "mimetype": "text/x-python",
      "name": "python",
      "nbconvert_exporter": "python",
      "pygments_lexer": "ipython3",
      "version": "3.8.5"
    },
    "accelerator": "GPU"
  },
  "cells": [
    {
      "cell_type": "markdown",
      "metadata": {
        "id": "K29I-OwCEYzW",
        "outputId": "db8b297c-a4b8-457a-b43f-7570135306c7"
      },
      "source": [
        "# Multi-class classification based on Softmax and Cross-Entropy using pytorch"
      ]
    },
    {
      "cell_type": "markdown",
      "metadata": {
        "id": "1R6I5lDXpT6G"
      },
      "source": [
        "## import libraries"
      ]
    },
    {
      "cell_type": "code",
      "metadata": {
        "id": "s6t-DGMkpT6G"
      },
      "source": [
        "import torch\n",
        "import torch.nn as nn\n",
        "import torch.nn.functional as F\n",
        "import torchvision\n",
        "from torch.utils.data import Dataset\n",
        "from torchvision import datasets, transforms\n",
        "import torchvision.transforms.functional as F\n",
        "import numpy as np\n",
        "import matplotlib.pyplot as plt\n",
        "import math\n",
        "from tqdm import tqdm, tqdm_notebook\n",
        "import random\n",
        "import os"
      ],
      "execution_count": 1,
      "outputs": []
    },
    {
      "cell_type": "code",
      "metadata": {
        "id": "Kh76Jhzfpl-Z",
        "colab": {
          "base_uri": "https://localhost:8080/"
        },
        "outputId": "0eab0ae9-1d43-49ea-ec0e-75159be3227b"
      },
      "source": [
        "from google.colab import drive \n",
        "drive.mount('/content/drive/')"
      ],
      "execution_count": 2,
      "outputs": [
        {
          "output_type": "stream",
          "name": "stdout",
          "text": [
            "Drive already mounted at /content/drive/; to attempt to forcibly remount, call drive.mount(\"/content/drive/\", force_remount=True).\n"
          ]
        }
      ]
    },
    {
      "cell_type": "markdown",
      "metadata": {
        "id": "HqDD7Am1pT6I"
      },
      "source": [
        "## load data"
      ]
    },
    {
      "cell_type": "code",
      "metadata": {
        "id": "CfcD3ubEpT6I",
        "colab": {
          "base_uri": "https://localhost:8080/"
        },
        "outputId": "a7798230-925d-4023-de3a-9f8200eb4aae"
      },
      "source": [
        "directory_data  = './drive/MyDrive/Machine_Learning/'\n",
        "filename_data   = 'assignment_06_data.npz'\n",
        "data            = np.load(os.path.join(directory_data, filename_data))\n",
        "\n",
        "x_train = data['x_train']\n",
        "y_train = data['y_train']\n",
        "\n",
        "x_test  = data['x_test']\n",
        "y_test  = data['y_test']\n",
        "\n",
        "num_data_train  = x_train.shape[0]\n",
        "num_data_test   = x_test.shape[0]\n",
        "\n",
        "print('*************************************************')\n",
        "print('size of x_train :', x_train.shape)\n",
        "print('size of y_train :', y_train.shape)\n",
        "print('*************************************************')\n",
        "print('size of x_test :', x_test.shape)\n",
        "print('size of y_test :', y_test.shape)\n",
        "print('*************************************************')\n",
        "print('number of training image :', x_train.shape[0])\n",
        "print('height of training image :', x_train.shape[1])\n",
        "print('width of training image :', x_train.shape[2])\n",
        "print('*************************************************')\n",
        "print('number of testing image :', x_test.shape[0])\n",
        "print('height of testing image :', x_test.shape[1])\n",
        "print('width of testing image :', x_test.shape[2])\n",
        "print('*************************************************')"
      ],
      "execution_count": 3,
      "outputs": [
        {
          "output_type": "stream",
          "name": "stdout",
          "text": [
            "*************************************************\n",
            "size of x_train : (20000, 32, 32)\n",
            "size of y_train : (20000,)\n",
            "*************************************************\n",
            "size of x_test : (8000, 32, 32)\n",
            "size of y_test : (8000,)\n",
            "*************************************************\n",
            "number of training image : 20000\n",
            "height of training image : 32\n",
            "width of training image : 32\n",
            "*************************************************\n",
            "number of testing image : 8000\n",
            "height of testing image : 32\n",
            "width of testing image : 32\n",
            "*************************************************\n"
          ]
        }
      ]
    },
    {
      "cell_type": "markdown",
      "metadata": {
        "id": "999PJvhMpT6K"
      },
      "source": [
        "## number of classes"
      ]
    },
    {
      "cell_type": "code",
      "metadata": {
        "id": "AOVW2Y8YpT6K",
        "colab": {
          "base_uri": "https://localhost:8080/"
        },
        "outputId": "e1f4f121-cf7c-4311-b869-5b0b29064ff3"
      },
      "source": [
        "print('*************************************************')\n",
        "print('number of classes :', len(set(y_train)))\n",
        "print('*************************************************')"
      ],
      "execution_count": 4,
      "outputs": [
        {
          "output_type": "stream",
          "name": "stdout",
          "text": [
            "*************************************************\n",
            "number of classes : 10\n",
            "*************************************************\n"
          ]
        }
      ]
    },
    {
      "cell_type": "markdown",
      "metadata": {
        "id": "HbaalUGLpT6L"
      },
      "source": [
        "## hyper-parameters"
      ]
    },
    {
      "cell_type": "code",
      "metadata": {
        "id": "_Kw_QF-dpT6L"
      },
      "source": [
        "device          = torch.device('cuda' if torch.cuda.is_available() else 'cpu')\n",
        "\n",
        "number_epoch    = 50\n",
        "size_minibatch  = 440\n",
        "learning_rate   = 0.01\n",
        "weight_decay    = 0.1"
      ],
      "execution_count": 5,
      "outputs": []
    },
    {
      "cell_type": "markdown",
      "metadata": {
        "id": "8MWaSxcRpT6L"
      },
      "source": [
        "## custom data loader for the PyTorch framework"
      ]
    },
    {
      "cell_type": "code",
      "metadata": {
        "id": "BaNZUnqmpT6M"
      },
      "source": [
        "class dataset(Dataset):\n",
        "    \n",
        "    def __init__(self, image, label):\n",
        "        \n",
        "        self.image  = image\n",
        "        self.label  = label.astype(np.long)\n",
        "    \n",
        "    def __getitem__(self, index):\n",
        "        \n",
        "        image   = self.image[index, :, :]\n",
        "        label   = self.label[index, ]\n",
        "\n",
        "        image   = torch.FloatTensor(image).unsqueeze(dim=0)\n",
        "        label   = torch.LongTensor([label])\n",
        "\n",
        "        return image, label\n",
        "    \n",
        "    def __len__(self):\n",
        "        \n",
        "        return self.image.shape[0]\n",
        "\n",
        "    def collate_fn(self, batch):\n",
        "        images  = list()\n",
        "        labels  = list()\n",
        "\n",
        "        for b in batch:\n",
        "            images.append(b[0])\n",
        "            labels.append(b[1])\n",
        "\n",
        "        images  = torch.stack(images, dim=0)\n",
        "        labels  = torch.stack(labels, dim=0).squeeze()\n",
        "\n",
        "        return images, labels\n",
        "        "
      ],
      "execution_count": 6,
      "outputs": []
    },
    {
      "cell_type": "code",
      "metadata": {
        "id": "5FBklDOa0mDl"
      },
      "source": [
        "#https://forensics.tistory.com/29\n",
        "class EarlyStopping():\n",
        "    def __init__(self, patience=0, verbose=0):\n",
        "        self._step = 0\n",
        "        self._loss = float('inf')\n",
        "        self.patience  = patience\n",
        "        self.verbose = verbose\n",
        "\n",
        "    def validate(self, loss):\n",
        "        if self._loss < loss:\n",
        "            self._step += 1\n",
        "            if self._step > self.patience:\n",
        "                if self.verbose:\n",
        "                    print(f'Training process is stopped early....')\n",
        "                return True\n",
        "        else:\n",
        "            self._step = 0\n",
        "            self._loss = loss\n",
        "\n",
        "        return False"
      ],
      "execution_count": 7,
      "outputs": []
    },
    {
      "cell_type": "markdown",
      "metadata": {
        "id": "L3PNV6IppT6N"
      },
      "source": [
        "## construct datasets and dataloaders for training and testing"
      ]
    },
    {
      "cell_type": "code",
      "metadata": {
        "id": "sYG9ZxDlpT6N"
      },
      "source": [
        "dataset_train   = dataset(x_train, y_train)\n",
        "dataset_test    = dataset(x_test, y_test)\n",
        "\n",
        "dataloader_train    = torch.utils.data.DataLoader(dataset_train, batch_size=size_minibatch, shuffle=True, drop_last=True, collate_fn=dataset_train.collate_fn)\n",
        "dataloader_test     = torch.utils.data.DataLoader(dataset_test, batch_size=size_minibatch, shuffle=True, drop_last=True, collate_fn=dataset_test.collate_fn)"
      ],
      "execution_count": 8,
      "outputs": []
    },
    {
      "cell_type": "markdown",
      "metadata": {
        "id": "n5u_FZ80pT6O"
      },
      "source": [
        "## shape of the data when using the data loader"
      ]
    },
    {
      "cell_type": "code",
      "metadata": {
        "id": "1VDt6AfIpT6O",
        "colab": {
          "base_uri": "https://localhost:8080/"
        },
        "outputId": "d5b01680-cd76-4f77-89fe-a08bb8db0aa9"
      },
      "source": [
        "image, label    = next(iter(dataloader_train))\n",
        "print('************************************************************')\n",
        "print('size of mini-batch of the image:', image.shape)\n",
        "print('************************************************************')\n",
        "print('size of mini-batch of the label:', label.shape)\n",
        "print('************************************************************')"
      ],
      "execution_count": 9,
      "outputs": [
        {
          "output_type": "stream",
          "name": "stdout",
          "text": [
            "************************************************************\n",
            "size of mini-batch of the image: torch.Size([440, 1, 32, 32])\n",
            "************************************************************\n",
            "size of mini-batch of the label: torch.Size([440])\n",
            "************************************************************\n"
          ]
        }
      ]
    },
    {
      "cell_type": "markdown",
      "metadata": {
        "id": "5g0FphYMpT6P"
      },
      "source": [
        "## class for the neural network "
      ]
    },
    {
      "cell_type": "code",
      "metadata": {
        "id": "7pUMYa8_qPm3"
      },
      "source": [
        "class ResidualUnit(nn.Module):\n",
        "    def __init__(self, in_channel, out_channel, stride=1):\n",
        "        super(ResidualUnit, self).__init__()\n",
        "\n",
        "        self.main_layer = nn.Sequential (\n",
        "            nn.Conv2d(in_channels=in_channel, out_channels=out_channel, kernel_size=3, stride=stride, padding=1, bias=False),\n",
        "            nn.BatchNorm2d(out_channel),\n",
        "            nn.ReLU(),\n",
        "            nn.Conv2d(in_channels=out_channel, out_channels=out_channel, kernel_size=3, stride=1, padding=1, bias=False),\n",
        "            nn.BatchNorm2d(out_channel)\n",
        "        )\n",
        "\n",
        "        self.skip_layers = nn.Sequential()\n",
        "        if stride > 1:\n",
        "            self.skip_layers = nn.Sequential(\n",
        "                nn.Conv2d(in_channels=in_channel, out_channels=out_channel, kernel_size=3, stride=stride, padding=1, bias=False),\n",
        "                nn.BatchNorm2d(out_channel)\n",
        "            )\n",
        "\n",
        "        self.relu = nn.ReLU()\n",
        "\n",
        "    def forward(self, x):\n",
        "        Z = self.main_layer(x)\n",
        "        Z += self.skip_layers(x)\n",
        "        Z = self.relu(Z)\n",
        "        return Z"
      ],
      "execution_count": 10,
      "outputs": []
    },
    {
      "cell_type": "code",
      "metadata": {
        "id": "2dVrWX04raPD"
      },
      "source": [
        "class Classifier(nn.Module):\n",
        "    def __init__(self):\n",
        "        super(Classifier, self).__init__()\n",
        "\n",
        "        self.drop_1 = nn.Dropout(p=0.12)\n",
        "        self.cn_1 = nn.Conv2d(in_channels=1, out_channels=64, kernel_size=7, stride=1, padding=1, bias=False)\n",
        "        self.bn_1 = nn.BatchNorm2d(64)\n",
        "        self.re_1 = nn.ReLU()\n",
        "        self.maxpool = nn.MaxPool2d(kernel_size=2, stride=2)\n",
        "\n",
        "        self.resnet = nn.Sequential(\n",
        "            ResidualUnit(64, 64),\n",
        "            ResidualUnit(64, 64),\n",
        "            ResidualUnit(64, 64),\n",
        "\n",
        "            ResidualUnit(64, 128, stride=2),\n",
        "            ResidualUnit(128, 128),\n",
        "            ResidualUnit(128, 128),\n",
        "            ResidualUnit(128, 128),\n",
        "\n",
        "            ResidualUnit(128, 256, stride=2),\n",
        "            ResidualUnit(256, 256),\n",
        "            ResidualUnit(256, 256),\n",
        "            ResidualUnit(256, 256),\n",
        "            ResidualUnit(256, 256),\n",
        "            ResidualUnit(256, 256),\n",
        "\n",
        "            ResidualUnit(256, 512, stride=2),\n",
        "            ResidualUnit(512, 512),\n",
        "            ResidualUnit(512, 512)\n",
        "        )\n",
        "        self.avg = nn.AdaptiveAvgPool2d(1)\n",
        "        self.flatten = nn.Flatten()\n",
        "        self.drop_2 = nn.Dropout(p=0.1)\n",
        "\n",
        "        self.classifier_1 = nn.Linear(512, 256)\n",
        "        self.bn_2 = nn.BatchNorm1d(256)\n",
        "        self.re_2 = nn.ReLU()\n",
        "\n",
        "        self.classifier_2 = nn.Linear(256, 128)\n",
        "        self.bn_3 = nn.BatchNorm1d(128)\n",
        "        self.re_3 = nn.ReLU()\n",
        "\n",
        "        self.classifier_3 = nn.Linear(128, 10)\n",
        "        # torch.nn.init.xavier_uniform_(self.classifier.weight)\n",
        "\n",
        "    def forward(self, x):\n",
        "        Z = self.drop_1(x)\n",
        "        Z = self.cn_1(Z)\n",
        "        Z = self.bn_1(Z)\n",
        "        Z = self.re_1(Z)\n",
        "        Z = self.maxpool(Z)\n",
        "\n",
        "        Z = self.resnet(Z)\n",
        "\n",
        "        Z = self.avg(Z)\n",
        "        Z = self.flatten(Z)\n",
        "        # Z = self.drop_2(Z)\n",
        "\n",
        "        Z = self.classifier_1(Z)\n",
        "        Z = self.bn_2(Z)\n",
        "        Z = self.re_2(Z)\n",
        "\n",
        "        Z = self.classifier_2(Z)\n",
        "        Z = self.bn_3(Z)\n",
        "        Z = self.re_3(Z)\n",
        "        \n",
        "        Z = self.classifier_3(Z)\n",
        "        return Z"
      ],
      "execution_count": 11,
      "outputs": []
    },
    {
      "cell_type": "markdown",
      "metadata": {
        "id": "O-nJVFp-pT6R"
      },
      "source": [
        "## build network"
      ]
    },
    {
      "cell_type": "code",
      "metadata": {
        "id": "kKJVC3eYpT6R",
        "colab": {
          "base_uri": "https://localhost:8080/"
        },
        "outputId": "01315d36-3817-4080-d134-19a5f80bcd24"
      },
      "source": [
        "classifier  = Classifier()\n",
        "optimizer   = torch.optim.SGD(classifier.parameters(), lr=learning_rate, weight_decay=weight_decay)\n",
        "from torchsummary import summary\n",
        "summary(classifier, (1, 28, 28), device=\"cpu\")"
      ],
      "execution_count": 12,
      "outputs": [
        {
          "output_type": "stream",
          "name": "stdout",
          "text": [
            "----------------------------------------------------------------\n",
            "        Layer (type)               Output Shape         Param #\n",
            "================================================================\n",
            "           Dropout-1            [-1, 1, 28, 28]               0\n",
            "            Conv2d-2           [-1, 64, 24, 24]           3,136\n",
            "       BatchNorm2d-3           [-1, 64, 24, 24]             128\n",
            "              ReLU-4           [-1, 64, 24, 24]               0\n",
            "         MaxPool2d-5           [-1, 64, 12, 12]               0\n",
            "            Conv2d-6           [-1, 64, 12, 12]          36,864\n",
            "       BatchNorm2d-7           [-1, 64, 12, 12]             128\n",
            "              ReLU-8           [-1, 64, 12, 12]               0\n",
            "            Conv2d-9           [-1, 64, 12, 12]          36,864\n",
            "      BatchNorm2d-10           [-1, 64, 12, 12]             128\n",
            "             ReLU-11           [-1, 64, 12, 12]               0\n",
            "     ResidualUnit-12           [-1, 64, 12, 12]               0\n",
            "           Conv2d-13           [-1, 64, 12, 12]          36,864\n",
            "      BatchNorm2d-14           [-1, 64, 12, 12]             128\n",
            "             ReLU-15           [-1, 64, 12, 12]               0\n",
            "           Conv2d-16           [-1, 64, 12, 12]          36,864\n",
            "      BatchNorm2d-17           [-1, 64, 12, 12]             128\n",
            "             ReLU-18           [-1, 64, 12, 12]               0\n",
            "     ResidualUnit-19           [-1, 64, 12, 12]               0\n",
            "           Conv2d-20           [-1, 64, 12, 12]          36,864\n",
            "      BatchNorm2d-21           [-1, 64, 12, 12]             128\n",
            "             ReLU-22           [-1, 64, 12, 12]               0\n",
            "           Conv2d-23           [-1, 64, 12, 12]          36,864\n",
            "      BatchNorm2d-24           [-1, 64, 12, 12]             128\n",
            "             ReLU-25           [-1, 64, 12, 12]               0\n",
            "     ResidualUnit-26           [-1, 64, 12, 12]               0\n",
            "           Conv2d-27            [-1, 128, 6, 6]          73,728\n",
            "      BatchNorm2d-28            [-1, 128, 6, 6]             256\n",
            "             ReLU-29            [-1, 128, 6, 6]               0\n",
            "           Conv2d-30            [-1, 128, 6, 6]         147,456\n",
            "      BatchNorm2d-31            [-1, 128, 6, 6]             256\n",
            "           Conv2d-32            [-1, 128, 6, 6]          73,728\n",
            "      BatchNorm2d-33            [-1, 128, 6, 6]             256\n",
            "             ReLU-34            [-1, 128, 6, 6]               0\n",
            "     ResidualUnit-35            [-1, 128, 6, 6]               0\n",
            "           Conv2d-36            [-1, 128, 6, 6]         147,456\n",
            "      BatchNorm2d-37            [-1, 128, 6, 6]             256\n",
            "             ReLU-38            [-1, 128, 6, 6]               0\n",
            "           Conv2d-39            [-1, 128, 6, 6]         147,456\n",
            "      BatchNorm2d-40            [-1, 128, 6, 6]             256\n",
            "             ReLU-41            [-1, 128, 6, 6]               0\n",
            "     ResidualUnit-42            [-1, 128, 6, 6]               0\n",
            "           Conv2d-43            [-1, 128, 6, 6]         147,456\n",
            "      BatchNorm2d-44            [-1, 128, 6, 6]             256\n",
            "             ReLU-45            [-1, 128, 6, 6]               0\n",
            "           Conv2d-46            [-1, 128, 6, 6]         147,456\n",
            "      BatchNorm2d-47            [-1, 128, 6, 6]             256\n",
            "             ReLU-48            [-1, 128, 6, 6]               0\n",
            "     ResidualUnit-49            [-1, 128, 6, 6]               0\n",
            "           Conv2d-50            [-1, 128, 6, 6]         147,456\n",
            "      BatchNorm2d-51            [-1, 128, 6, 6]             256\n",
            "             ReLU-52            [-1, 128, 6, 6]               0\n",
            "           Conv2d-53            [-1, 128, 6, 6]         147,456\n",
            "      BatchNorm2d-54            [-1, 128, 6, 6]             256\n",
            "             ReLU-55            [-1, 128, 6, 6]               0\n",
            "     ResidualUnit-56            [-1, 128, 6, 6]               0\n",
            "           Conv2d-57            [-1, 256, 3, 3]         294,912\n",
            "      BatchNorm2d-58            [-1, 256, 3, 3]             512\n",
            "             ReLU-59            [-1, 256, 3, 3]               0\n",
            "           Conv2d-60            [-1, 256, 3, 3]         589,824\n",
            "      BatchNorm2d-61            [-1, 256, 3, 3]             512\n",
            "           Conv2d-62            [-1, 256, 3, 3]         294,912\n",
            "      BatchNorm2d-63            [-1, 256, 3, 3]             512\n",
            "             ReLU-64            [-1, 256, 3, 3]               0\n",
            "     ResidualUnit-65            [-1, 256, 3, 3]               0\n",
            "           Conv2d-66            [-1, 256, 3, 3]         589,824\n",
            "      BatchNorm2d-67            [-1, 256, 3, 3]             512\n",
            "             ReLU-68            [-1, 256, 3, 3]               0\n",
            "           Conv2d-69            [-1, 256, 3, 3]         589,824\n",
            "      BatchNorm2d-70            [-1, 256, 3, 3]             512\n",
            "             ReLU-71            [-1, 256, 3, 3]               0\n",
            "     ResidualUnit-72            [-1, 256, 3, 3]               0\n",
            "           Conv2d-73            [-1, 256, 3, 3]         589,824\n",
            "      BatchNorm2d-74            [-1, 256, 3, 3]             512\n",
            "             ReLU-75            [-1, 256, 3, 3]               0\n",
            "           Conv2d-76            [-1, 256, 3, 3]         589,824\n",
            "      BatchNorm2d-77            [-1, 256, 3, 3]             512\n",
            "             ReLU-78            [-1, 256, 3, 3]               0\n",
            "     ResidualUnit-79            [-1, 256, 3, 3]               0\n",
            "           Conv2d-80            [-1, 256, 3, 3]         589,824\n",
            "      BatchNorm2d-81            [-1, 256, 3, 3]             512\n",
            "             ReLU-82            [-1, 256, 3, 3]               0\n",
            "           Conv2d-83            [-1, 256, 3, 3]         589,824\n",
            "      BatchNorm2d-84            [-1, 256, 3, 3]             512\n",
            "             ReLU-85            [-1, 256, 3, 3]               0\n",
            "     ResidualUnit-86            [-1, 256, 3, 3]               0\n",
            "           Conv2d-87            [-1, 256, 3, 3]         589,824\n",
            "      BatchNorm2d-88            [-1, 256, 3, 3]             512\n",
            "             ReLU-89            [-1, 256, 3, 3]               0\n",
            "           Conv2d-90            [-1, 256, 3, 3]         589,824\n",
            "      BatchNorm2d-91            [-1, 256, 3, 3]             512\n",
            "             ReLU-92            [-1, 256, 3, 3]               0\n",
            "     ResidualUnit-93            [-1, 256, 3, 3]               0\n",
            "           Conv2d-94            [-1, 256, 3, 3]         589,824\n",
            "      BatchNorm2d-95            [-1, 256, 3, 3]             512\n",
            "             ReLU-96            [-1, 256, 3, 3]               0\n",
            "           Conv2d-97            [-1, 256, 3, 3]         589,824\n",
            "      BatchNorm2d-98            [-1, 256, 3, 3]             512\n",
            "             ReLU-99            [-1, 256, 3, 3]               0\n",
            "    ResidualUnit-100            [-1, 256, 3, 3]               0\n",
            "          Conv2d-101            [-1, 512, 2, 2]       1,179,648\n",
            "     BatchNorm2d-102            [-1, 512, 2, 2]           1,024\n",
            "            ReLU-103            [-1, 512, 2, 2]               0\n",
            "          Conv2d-104            [-1, 512, 2, 2]       2,359,296\n",
            "     BatchNorm2d-105            [-1, 512, 2, 2]           1,024\n",
            "          Conv2d-106            [-1, 512, 2, 2]       1,179,648\n",
            "     BatchNorm2d-107            [-1, 512, 2, 2]           1,024\n",
            "            ReLU-108            [-1, 512, 2, 2]               0\n",
            "    ResidualUnit-109            [-1, 512, 2, 2]               0\n",
            "          Conv2d-110            [-1, 512, 2, 2]       2,359,296\n",
            "     BatchNorm2d-111            [-1, 512, 2, 2]           1,024\n",
            "            ReLU-112            [-1, 512, 2, 2]               0\n",
            "          Conv2d-113            [-1, 512, 2, 2]       2,359,296\n",
            "     BatchNorm2d-114            [-1, 512, 2, 2]           1,024\n",
            "            ReLU-115            [-1, 512, 2, 2]               0\n",
            "    ResidualUnit-116            [-1, 512, 2, 2]               0\n",
            "          Conv2d-117            [-1, 512, 2, 2]       2,359,296\n",
            "     BatchNorm2d-118            [-1, 512, 2, 2]           1,024\n",
            "            ReLU-119            [-1, 512, 2, 2]               0\n",
            "          Conv2d-120            [-1, 512, 2, 2]       2,359,296\n",
            "     BatchNorm2d-121            [-1, 512, 2, 2]           1,024\n",
            "            ReLU-122            [-1, 512, 2, 2]               0\n",
            "    ResidualUnit-123            [-1, 512, 2, 2]               0\n",
            "AdaptiveAvgPool2d-124            [-1, 512, 1, 1]               0\n",
            "         Flatten-125                  [-1, 512]               0\n",
            "          Linear-126                  [-1, 256]         131,328\n",
            "     BatchNorm1d-127                  [-1, 256]             512\n",
            "            ReLU-128                  [-1, 256]               0\n",
            "          Linear-129                  [-1, 128]          32,896\n",
            "     BatchNorm1d-130                  [-1, 128]             256\n",
            "            ReLU-131                  [-1, 128]               0\n",
            "          Linear-132                   [-1, 10]           1,290\n",
            "================================================================\n",
            "Total params: 22,820,938\n",
            "Trainable params: 22,820,938\n",
            "Non-trainable params: 0\n",
            "----------------------------------------------------------------\n",
            "Input size (MB): 0.00\n",
            "Forward/backward pass size (MB): 4.60\n",
            "Params size (MB): 87.05\n",
            "Estimated Total Size (MB): 91.66\n",
            "----------------------------------------------------------------\n"
          ]
        },
        {
          "output_type": "stream",
          "name": "stderr",
          "text": [
            "/usr/local/lib/python3.7/dist-packages/torch/nn/functional.py:718: UserWarning: Named tensors and all their associated APIs are an experimental feature and subject to change. Please do not use them for anything important until they are released as stable. (Triggered internally at  /pytorch/c10/core/TensorImpl.h:1156.)\n",
            "  return torch.max_pool2d(input, kernel_size, stride, padding, dilation, ceil_mode)\n"
          ]
        }
      ]
    },
    {
      "cell_type": "markdown",
      "metadata": {
        "id": "ifg1tRbOpT6R"
      },
      "source": [
        "## print the defined neural network"
      ]
    },
    {
      "cell_type": "code",
      "metadata": {
        "id": "y3WevbYlpT6S",
        "colab": {
          "base_uri": "https://localhost:8080/"
        },
        "outputId": "a46e4ef7-49ef-46bc-8a6b-0ef4672aa741"
      },
      "source": [
        "print(classifier)"
      ],
      "execution_count": 13,
      "outputs": [
        {
          "output_type": "stream",
          "name": "stdout",
          "text": [
            "Classifier(\n",
            "  (drop_1): Dropout(p=0.12, inplace=False)\n",
            "  (cn_1): Conv2d(1, 64, kernel_size=(7, 7), stride=(1, 1), padding=(1, 1), bias=False)\n",
            "  (bn_1): BatchNorm2d(64, eps=1e-05, momentum=0.1, affine=True, track_running_stats=True)\n",
            "  (re_1): ReLU()\n",
            "  (maxpool): MaxPool2d(kernel_size=2, stride=2, padding=0, dilation=1, ceil_mode=False)\n",
            "  (resnet): Sequential(\n",
            "    (0): ResidualUnit(\n",
            "      (main_layer): Sequential(\n",
            "        (0): Conv2d(64, 64, kernel_size=(3, 3), stride=(1, 1), padding=(1, 1), bias=False)\n",
            "        (1): BatchNorm2d(64, eps=1e-05, momentum=0.1, affine=True, track_running_stats=True)\n",
            "        (2): ReLU()\n",
            "        (3): Conv2d(64, 64, kernel_size=(3, 3), stride=(1, 1), padding=(1, 1), bias=False)\n",
            "        (4): BatchNorm2d(64, eps=1e-05, momentum=0.1, affine=True, track_running_stats=True)\n",
            "      )\n",
            "      (skip_layers): Sequential()\n",
            "      (relu): ReLU()\n",
            "    )\n",
            "    (1): ResidualUnit(\n",
            "      (main_layer): Sequential(\n",
            "        (0): Conv2d(64, 64, kernel_size=(3, 3), stride=(1, 1), padding=(1, 1), bias=False)\n",
            "        (1): BatchNorm2d(64, eps=1e-05, momentum=0.1, affine=True, track_running_stats=True)\n",
            "        (2): ReLU()\n",
            "        (3): Conv2d(64, 64, kernel_size=(3, 3), stride=(1, 1), padding=(1, 1), bias=False)\n",
            "        (4): BatchNorm2d(64, eps=1e-05, momentum=0.1, affine=True, track_running_stats=True)\n",
            "      )\n",
            "      (skip_layers): Sequential()\n",
            "      (relu): ReLU()\n",
            "    )\n",
            "    (2): ResidualUnit(\n",
            "      (main_layer): Sequential(\n",
            "        (0): Conv2d(64, 64, kernel_size=(3, 3), stride=(1, 1), padding=(1, 1), bias=False)\n",
            "        (1): BatchNorm2d(64, eps=1e-05, momentum=0.1, affine=True, track_running_stats=True)\n",
            "        (2): ReLU()\n",
            "        (3): Conv2d(64, 64, kernel_size=(3, 3), stride=(1, 1), padding=(1, 1), bias=False)\n",
            "        (4): BatchNorm2d(64, eps=1e-05, momentum=0.1, affine=True, track_running_stats=True)\n",
            "      )\n",
            "      (skip_layers): Sequential()\n",
            "      (relu): ReLU()\n",
            "    )\n",
            "    (3): ResidualUnit(\n",
            "      (main_layer): Sequential(\n",
            "        (0): Conv2d(64, 128, kernel_size=(3, 3), stride=(2, 2), padding=(1, 1), bias=False)\n",
            "        (1): BatchNorm2d(128, eps=1e-05, momentum=0.1, affine=True, track_running_stats=True)\n",
            "        (2): ReLU()\n",
            "        (3): Conv2d(128, 128, kernel_size=(3, 3), stride=(1, 1), padding=(1, 1), bias=False)\n",
            "        (4): BatchNorm2d(128, eps=1e-05, momentum=0.1, affine=True, track_running_stats=True)\n",
            "      )\n",
            "      (skip_layers): Sequential(\n",
            "        (0): Conv2d(64, 128, kernel_size=(3, 3), stride=(2, 2), padding=(1, 1), bias=False)\n",
            "        (1): BatchNorm2d(128, eps=1e-05, momentum=0.1, affine=True, track_running_stats=True)\n",
            "      )\n",
            "      (relu): ReLU()\n",
            "    )\n",
            "    (4): ResidualUnit(\n",
            "      (main_layer): Sequential(\n",
            "        (0): Conv2d(128, 128, kernel_size=(3, 3), stride=(1, 1), padding=(1, 1), bias=False)\n",
            "        (1): BatchNorm2d(128, eps=1e-05, momentum=0.1, affine=True, track_running_stats=True)\n",
            "        (2): ReLU()\n",
            "        (3): Conv2d(128, 128, kernel_size=(3, 3), stride=(1, 1), padding=(1, 1), bias=False)\n",
            "        (4): BatchNorm2d(128, eps=1e-05, momentum=0.1, affine=True, track_running_stats=True)\n",
            "      )\n",
            "      (skip_layers): Sequential()\n",
            "      (relu): ReLU()\n",
            "    )\n",
            "    (5): ResidualUnit(\n",
            "      (main_layer): Sequential(\n",
            "        (0): Conv2d(128, 128, kernel_size=(3, 3), stride=(1, 1), padding=(1, 1), bias=False)\n",
            "        (1): BatchNorm2d(128, eps=1e-05, momentum=0.1, affine=True, track_running_stats=True)\n",
            "        (2): ReLU()\n",
            "        (3): Conv2d(128, 128, kernel_size=(3, 3), stride=(1, 1), padding=(1, 1), bias=False)\n",
            "        (4): BatchNorm2d(128, eps=1e-05, momentum=0.1, affine=True, track_running_stats=True)\n",
            "      )\n",
            "      (skip_layers): Sequential()\n",
            "      (relu): ReLU()\n",
            "    )\n",
            "    (6): ResidualUnit(\n",
            "      (main_layer): Sequential(\n",
            "        (0): Conv2d(128, 128, kernel_size=(3, 3), stride=(1, 1), padding=(1, 1), bias=False)\n",
            "        (1): BatchNorm2d(128, eps=1e-05, momentum=0.1, affine=True, track_running_stats=True)\n",
            "        (2): ReLU()\n",
            "        (3): Conv2d(128, 128, kernel_size=(3, 3), stride=(1, 1), padding=(1, 1), bias=False)\n",
            "        (4): BatchNorm2d(128, eps=1e-05, momentum=0.1, affine=True, track_running_stats=True)\n",
            "      )\n",
            "      (skip_layers): Sequential()\n",
            "      (relu): ReLU()\n",
            "    )\n",
            "    (7): ResidualUnit(\n",
            "      (main_layer): Sequential(\n",
            "        (0): Conv2d(128, 256, kernel_size=(3, 3), stride=(2, 2), padding=(1, 1), bias=False)\n",
            "        (1): BatchNorm2d(256, eps=1e-05, momentum=0.1, affine=True, track_running_stats=True)\n",
            "        (2): ReLU()\n",
            "        (3): Conv2d(256, 256, kernel_size=(3, 3), stride=(1, 1), padding=(1, 1), bias=False)\n",
            "        (4): BatchNorm2d(256, eps=1e-05, momentum=0.1, affine=True, track_running_stats=True)\n",
            "      )\n",
            "      (skip_layers): Sequential(\n",
            "        (0): Conv2d(128, 256, kernel_size=(3, 3), stride=(2, 2), padding=(1, 1), bias=False)\n",
            "        (1): BatchNorm2d(256, eps=1e-05, momentum=0.1, affine=True, track_running_stats=True)\n",
            "      )\n",
            "      (relu): ReLU()\n",
            "    )\n",
            "    (8): ResidualUnit(\n",
            "      (main_layer): Sequential(\n",
            "        (0): Conv2d(256, 256, kernel_size=(3, 3), stride=(1, 1), padding=(1, 1), bias=False)\n",
            "        (1): BatchNorm2d(256, eps=1e-05, momentum=0.1, affine=True, track_running_stats=True)\n",
            "        (2): ReLU()\n",
            "        (3): Conv2d(256, 256, kernel_size=(3, 3), stride=(1, 1), padding=(1, 1), bias=False)\n",
            "        (4): BatchNorm2d(256, eps=1e-05, momentum=0.1, affine=True, track_running_stats=True)\n",
            "      )\n",
            "      (skip_layers): Sequential()\n",
            "      (relu): ReLU()\n",
            "    )\n",
            "    (9): ResidualUnit(\n",
            "      (main_layer): Sequential(\n",
            "        (0): Conv2d(256, 256, kernel_size=(3, 3), stride=(1, 1), padding=(1, 1), bias=False)\n",
            "        (1): BatchNorm2d(256, eps=1e-05, momentum=0.1, affine=True, track_running_stats=True)\n",
            "        (2): ReLU()\n",
            "        (3): Conv2d(256, 256, kernel_size=(3, 3), stride=(1, 1), padding=(1, 1), bias=False)\n",
            "        (4): BatchNorm2d(256, eps=1e-05, momentum=0.1, affine=True, track_running_stats=True)\n",
            "      )\n",
            "      (skip_layers): Sequential()\n",
            "      (relu): ReLU()\n",
            "    )\n",
            "    (10): ResidualUnit(\n",
            "      (main_layer): Sequential(\n",
            "        (0): Conv2d(256, 256, kernel_size=(3, 3), stride=(1, 1), padding=(1, 1), bias=False)\n",
            "        (1): BatchNorm2d(256, eps=1e-05, momentum=0.1, affine=True, track_running_stats=True)\n",
            "        (2): ReLU()\n",
            "        (3): Conv2d(256, 256, kernel_size=(3, 3), stride=(1, 1), padding=(1, 1), bias=False)\n",
            "        (4): BatchNorm2d(256, eps=1e-05, momentum=0.1, affine=True, track_running_stats=True)\n",
            "      )\n",
            "      (skip_layers): Sequential()\n",
            "      (relu): ReLU()\n",
            "    )\n",
            "    (11): ResidualUnit(\n",
            "      (main_layer): Sequential(\n",
            "        (0): Conv2d(256, 256, kernel_size=(3, 3), stride=(1, 1), padding=(1, 1), bias=False)\n",
            "        (1): BatchNorm2d(256, eps=1e-05, momentum=0.1, affine=True, track_running_stats=True)\n",
            "        (2): ReLU()\n",
            "        (3): Conv2d(256, 256, kernel_size=(3, 3), stride=(1, 1), padding=(1, 1), bias=False)\n",
            "        (4): BatchNorm2d(256, eps=1e-05, momentum=0.1, affine=True, track_running_stats=True)\n",
            "      )\n",
            "      (skip_layers): Sequential()\n",
            "      (relu): ReLU()\n",
            "    )\n",
            "    (12): ResidualUnit(\n",
            "      (main_layer): Sequential(\n",
            "        (0): Conv2d(256, 256, kernel_size=(3, 3), stride=(1, 1), padding=(1, 1), bias=False)\n",
            "        (1): BatchNorm2d(256, eps=1e-05, momentum=0.1, affine=True, track_running_stats=True)\n",
            "        (2): ReLU()\n",
            "        (3): Conv2d(256, 256, kernel_size=(3, 3), stride=(1, 1), padding=(1, 1), bias=False)\n",
            "        (4): BatchNorm2d(256, eps=1e-05, momentum=0.1, affine=True, track_running_stats=True)\n",
            "      )\n",
            "      (skip_layers): Sequential()\n",
            "      (relu): ReLU()\n",
            "    )\n",
            "    (13): ResidualUnit(\n",
            "      (main_layer): Sequential(\n",
            "        (0): Conv2d(256, 512, kernel_size=(3, 3), stride=(2, 2), padding=(1, 1), bias=False)\n",
            "        (1): BatchNorm2d(512, eps=1e-05, momentum=0.1, affine=True, track_running_stats=True)\n",
            "        (2): ReLU()\n",
            "        (3): Conv2d(512, 512, kernel_size=(3, 3), stride=(1, 1), padding=(1, 1), bias=False)\n",
            "        (4): BatchNorm2d(512, eps=1e-05, momentum=0.1, affine=True, track_running_stats=True)\n",
            "      )\n",
            "      (skip_layers): Sequential(\n",
            "        (0): Conv2d(256, 512, kernel_size=(3, 3), stride=(2, 2), padding=(1, 1), bias=False)\n",
            "        (1): BatchNorm2d(512, eps=1e-05, momentum=0.1, affine=True, track_running_stats=True)\n",
            "      )\n",
            "      (relu): ReLU()\n",
            "    )\n",
            "    (14): ResidualUnit(\n",
            "      (main_layer): Sequential(\n",
            "        (0): Conv2d(512, 512, kernel_size=(3, 3), stride=(1, 1), padding=(1, 1), bias=False)\n",
            "        (1): BatchNorm2d(512, eps=1e-05, momentum=0.1, affine=True, track_running_stats=True)\n",
            "        (2): ReLU()\n",
            "        (3): Conv2d(512, 512, kernel_size=(3, 3), stride=(1, 1), padding=(1, 1), bias=False)\n",
            "        (4): BatchNorm2d(512, eps=1e-05, momentum=0.1, affine=True, track_running_stats=True)\n",
            "      )\n",
            "      (skip_layers): Sequential()\n",
            "      (relu): ReLU()\n",
            "    )\n",
            "    (15): ResidualUnit(\n",
            "      (main_layer): Sequential(\n",
            "        (0): Conv2d(512, 512, kernel_size=(3, 3), stride=(1, 1), padding=(1, 1), bias=False)\n",
            "        (1): BatchNorm2d(512, eps=1e-05, momentum=0.1, affine=True, track_running_stats=True)\n",
            "        (2): ReLU()\n",
            "        (3): Conv2d(512, 512, kernel_size=(3, 3), stride=(1, 1), padding=(1, 1), bias=False)\n",
            "        (4): BatchNorm2d(512, eps=1e-05, momentum=0.1, affine=True, track_running_stats=True)\n",
            "      )\n",
            "      (skip_layers): Sequential()\n",
            "      (relu): ReLU()\n",
            "    )\n",
            "  )\n",
            "  (avg): AdaptiveAvgPool2d(output_size=1)\n",
            "  (flatten): Flatten(start_dim=1, end_dim=-1)\n",
            "  (drop_2): Dropout(p=0.1, inplace=False)\n",
            "  (classifier_1): Linear(in_features=512, out_features=256, bias=True)\n",
            "  (bn_2): BatchNorm1d(256, eps=1e-05, momentum=0.1, affine=True, track_running_stats=True)\n",
            "  (re_2): ReLU()\n",
            "  (classifier_2): Linear(in_features=256, out_features=128, bias=True)\n",
            "  (bn_3): BatchNorm1d(128, eps=1e-05, momentum=0.1, affine=True, track_running_stats=True)\n",
            "  (re_3): ReLU()\n",
            "  (classifier_3): Linear(in_features=128, out_features=10, bias=True)\n",
            ")\n"
          ]
        }
      ]
    },
    {
      "cell_type": "markdown",
      "metadata": {
        "id": "uXhtDvkApT6S"
      },
      "source": [
        "## compute the prediction"
      ]
    },
    {
      "cell_type": "code",
      "metadata": {
        "id": "NQv7UqyqpT6T"
      },
      "source": [
        "def compute_prediction(model, input):\n",
        "\n",
        "    prediction = model(input)\n",
        "\n",
        "    return prediction"
      ],
      "execution_count": 14,
      "outputs": []
    },
    {
      "cell_type": "markdown",
      "metadata": {
        "id": "uuHs_ClBpT6T"
      },
      "source": [
        "## compute the loss"
      ]
    },
    {
      "cell_type": "code",
      "metadata": {
        "id": "_Oh-PPzbpT6T"
      },
      "source": [
        "def compute_loss(prediction, label):\n",
        "\n",
        "    criterion   = nn.CrossEntropyLoss()\n",
        "    loss        = criterion(prediction, label)\n",
        "    loss_value  = loss.item()\n",
        "\n",
        "    return loss, loss_value"
      ],
      "execution_count": 15,
      "outputs": []
    },
    {
      "cell_type": "markdown",
      "metadata": {
        "id": "3wi4pDDvpT6U"
      },
      "source": [
        "## compute the accuracy"
      ]
    },
    {
      "cell_type": "code",
      "metadata": {
        "id": "XgyhFIfNpT6U"
      },
      "source": [
        "def compute_accuracy(prediction, label):\n",
        "    # ================================================================================ \n",
        "    # complete the function body\n",
        "    b_Prediction = torch.argmax(prediction, 1)\n",
        "    bCorrect = (b_Prediction == label)\n",
        "    accuracy = bCorrect.float().mean()\n",
        "    # ================================================================================ \n",
        "\n",
        "    return accuracy"
      ],
      "execution_count": 16,
      "outputs": []
    },
    {
      "cell_type": "markdown",
      "metadata": {
        "id": "unxSNc0LpT6U"
      },
      "source": [
        "## variables for the learning curve"
      ]
    },
    {
      "cell_type": "code",
      "metadata": {
        "id": "B3sAfmbbpT6U"
      },
      "source": [
        "loss_mean_train     = np.zeros(number_epoch)\n",
        "loss_std_train      = np.zeros(number_epoch)\n",
        "accuracy_mean_train = np.zeros(number_epoch)\n",
        "accuracy_std_train  = np.zeros(number_epoch)\n",
        "\n",
        "loss_mean_test      = np.zeros(number_epoch)\n",
        "loss_std_test       = np.zeros(number_epoch)\n",
        "accuracy_mean_test  = np.zeros(number_epoch)\n",
        "accuracy_std_test   = np.zeros(number_epoch)"
      ],
      "execution_count": 17,
      "outputs": []
    },
    {
      "cell_type": "markdown",
      "metadata": {
        "id": "yhhCp2YppT6V"
      },
      "source": [
        "## train and test"
      ]
    },
    {
      "cell_type": "code",
      "metadata": {
        "id": "sP27BVwepT6V",
        "colab": {
          "base_uri": "https://localhost:8080/",
          "height": 643
        },
        "outputId": "e40c18b8-d35e-49e2-b3b2-e3b59f75753a"
      },
      "source": [
        "## For Debugging\n",
        "classifier  = Classifier().to(device)\n",
        "optimizer   = torch.optim.SGD(classifier.parameters(), lr=learning_rate, weight_decay=weight_decay)\n",
        "early_stopping = EarlyStopping(patience=70, verbose=1)\n",
        "\n",
        "# ================================================================================\n",
        "# \n",
        "# iterations for epochs\n",
        "#\n",
        "# ================================================================================\n",
        "for i in tqdm_notebook(range(number_epoch)):\n",
        "    \n",
        "    # ================================================================================\n",
        "    # \n",
        "    # training\n",
        "    #\n",
        "    # ================================================================================\n",
        "    loss_train_epoch        = []\n",
        "    accuracy_train_epoch    = []\n",
        "\n",
        "    classifier.train()\n",
        "\n",
        "    for index_batch, (image_train, label_train) in enumerate(dataloader_train):\n",
        "\n",
        "        image_train = image_train.to(device)\n",
        "        label_train = label_train.to(device)\n",
        "        \n",
        "        prediction_train                = compute_prediction(classifier, image_train)\n",
        "        loss_train, loss_value_train    = compute_loss(prediction_train, label_train)\n",
        "        accuracy_train                  = compute_accuracy(prediction_train, label_train).to(\"cpu\")\n",
        "        accuracy_train = accuracy_train.numpy()\n",
        "        # loss_value_train = loss_value_train.to(\"cpu\")\n",
        "\n",
        "        optimizer.zero_grad()\n",
        "        loss_train.backward()\n",
        "        optimizer.step()\n",
        "\n",
        "        loss_train_epoch.append(loss_value_train)\n",
        "        accuracy_train_epoch.append(accuracy_train)\n",
        "\n",
        "    loss_mean_train[i]      = np.mean(loss_train_epoch)\n",
        "    loss_std_train[i]       = np.std(loss_train_epoch)\n",
        "\n",
        "    accuracy_mean_train[i]  = np.mean(accuracy_train_epoch)\n",
        "    accuracy_std_train[i]   = np.std(accuracy_train_epoch)\n",
        "\n",
        "    # ================================================================================\n",
        "    # \n",
        "    # testing\n",
        "    #\n",
        "    # ================================================================================\n",
        "    loss_test_epoch        = []\n",
        "    accuracy_test_epoch    = []\n",
        "\n",
        "    with torch.no_grad():\n",
        "        classifier.eval()\n",
        "\n",
        "    for index_batch, (image_test, label_test) in enumerate(dataloader_test):\n",
        "\n",
        "        image_test = image_test.to(device)\n",
        "        label_test = label_test.to(device)\n",
        "        \n",
        "        prediction_test             = compute_prediction(classifier, image_test)\n",
        "        loss_test, loss_value_test  = compute_loss(prediction_test, label_test)\n",
        "        accuracy_test               = compute_accuracy(prediction_test, label_test).to(\"cpu\")\n",
        "        accuracy_test = accuracy_test.numpy()\n",
        "\n",
        "        loss_test_epoch.append(loss_value_test)\n",
        "        accuracy_test_epoch.append(accuracy_test)\n",
        "\n",
        "    loss_mean_test[i]      = np.mean(loss_test_epoch)\n",
        "    loss_std_test[i]       = np.std(loss_test_epoch)\n",
        "\n",
        "    accuracy_mean_test[i]  = np.mean(accuracy_test)\n",
        "    accuracy_std_test[i]   = np.std(accuracy_test)\n",
        "\n",
        "    if i % 5 == 0:\n",
        "        print(f\"epoch : {i}, train acc : {np.mean(accuracy_train_epoch)}, train loss : {np.mean(loss_train_epoch)}\")\n",
        "        print(f\"epoch : {i}, test acc : {np.mean(accuracy_test_epoch)}, test loss : {np.mean(loss_test_epoch)}\")\n",
        "        print()\n",
        "\n",
        "    # if early_stopping.validate(np.mean(loss_test_epoch)):\n",
        "    #     break\n",
        "\n"
      ],
      "execution_count": 18,
      "outputs": [
        {
          "output_type": "stream",
          "name": "stderr",
          "text": [
            "/usr/local/lib/python3.7/dist-packages/ipykernel_launcher.py:11: TqdmDeprecationWarning: This function will be removed in tqdm==5.0.0\n",
            "Please use `tqdm.notebook.tqdm` instead of `tqdm.tqdm_notebook`\n",
            "  # This is added back by InteractiveShellApp.init_path()\n"
          ]
        },
        {
          "output_type": "display_data",
          "data": {
            "application/vnd.jupyter.widget-view+json": {
              "model_id": "c91a8a8fde294204a4dda8fda66449dc",
              "version_minor": 0,
              "version_major": 2
            },
            "text/plain": [
              "  0%|          | 0/50 [00:00<?, ?it/s]"
            ]
          },
          "metadata": {}
        },
        {
          "output_type": "stream",
          "name": "stdout",
          "text": [
            "epoch : 0, train acc : 0.7611616253852844, train loss : 1.077730123202006\n",
            "epoch : 0, test acc : 0.7981060147285461, test loss : 1.3600918584399753\n",
            "\n",
            "epoch : 5, train acc : 0.9908584356307983, train loss : 0.18303687738047705\n",
            "epoch : 5, test acc : 0.9756312966346741, test loss : 0.2637089921368493\n",
            "\n",
            "epoch : 10, train acc : 0.9976766705513, train loss : 0.17919082542260487\n",
            "epoch : 10, test acc : 0.9785353541374207, test loss : 0.2660183111826579\n",
            "\n",
            "epoch : 15, train acc : 0.9994949102401733, train loss : 0.21098770565456815\n",
            "epoch : 15, test acc : 0.9818180799484253, test loss : 0.2932179156276915\n",
            "\n",
            "epoch : 20, train acc : 0.9993433356285095, train loss : 0.25550665855407717\n",
            "epoch : 20, test acc : 0.971717119216919, test loss : 0.370651255051295\n",
            "\n",
            "epoch : 25, train acc : 0.9990403056144714, train loss : 0.29908240305052863\n",
            "epoch : 25, test acc : 0.9854797720909119, test loss : 0.3644458403189977\n",
            "\n",
            "epoch : 30, train acc : 0.9984341859817505, train loss : 0.3330729279253218\n",
            "epoch : 30, test acc : 0.9872474670410156, test loss : 0.39246713287300533\n",
            "\n",
            "epoch : 35, train acc : 0.9901008605957031, train loss : 0.38194639682769777\n",
            "epoch : 35, test acc : 0.9828281402587891, test loss : 0.43599145942264134\n",
            "\n",
            "epoch : 40, train acc : 0.9968686699867249, train loss : 0.37906440827581617\n",
            "epoch : 40, test acc : 0.9824494123458862, test loss : 0.4317484762933519\n",
            "\n",
            "epoch : 45, train acc : 0.9019192457199097, train loss : 0.6376759933100806\n",
            "epoch : 45, test acc : 0.9785352349281311, test loss : 0.5659932792186737\n",
            "\n"
          ]
        }
      ]
    },
    {
      "cell_type": "markdown",
      "metadata": {
        "id": "90WPUllLpT6V"
      },
      "source": [
        "## plot curve"
      ]
    },
    {
      "cell_type": "code",
      "metadata": {
        "id": "8p5A78UgpT6V"
      },
      "source": [
        "def plot_curve_error(data_mean, data_std, x_label, y_label, title):\n",
        "\n",
        "    plt.figure(figsize=(8, 6))\n",
        "    plt.title(title)\n",
        "\n",
        "    alpha = 0.3\n",
        "    \n",
        "    plt.plot(range(len(data_mean)), data_mean, '-', color = 'red')\n",
        "    plt.fill_between(range(len(data_mean)), data_mean - data_std, data_mean + data_std, facecolor = 'blue', alpha = alpha) \n",
        "    \n",
        "    plt.xlabel(x_label)\n",
        "    plt.ylabel(y_label)\n",
        "\n",
        "    plt.tight_layout()\n",
        "    plt.show()"
      ],
      "execution_count": 19,
      "outputs": []
    },
    {
      "cell_type": "code",
      "metadata": {
        "id": "2ejqQNTNpT6W"
      },
      "source": [
        "def print_curve(data, index):\n",
        "    \n",
        "    for i in range(len(index)):\n",
        "\n",
        "        idx = index[i]\n",
        "        val = data[idx]\n",
        "\n",
        "        print('index = %2d, value = %12.10f' % (idx, val))"
      ],
      "execution_count": 20,
      "outputs": []
    },
    {
      "cell_type": "code",
      "metadata": {
        "id": "xIj3KePYpT6W"
      },
      "source": [
        "def get_data_last(data, index_start):\n",
        "\n",
        "    data_last = data[index_start:]\n",
        "\n",
        "    return data_last"
      ],
      "execution_count": 21,
      "outputs": []
    },
    {
      "cell_type": "code",
      "metadata": {
        "id": "Ir2WSmQCpT6W"
      },
      "source": [
        "def get_max_last_range(data, index_start):\n",
        "\n",
        "    data_range = get_data_last(data, index_start)\n",
        "    value = data_range.max()\n",
        "\n",
        "    return value"
      ],
      "execution_count": 22,
      "outputs": []
    },
    {
      "cell_type": "code",
      "metadata": {
        "id": "eiKhx2YHpT6W"
      },
      "source": [
        "def get_min_last_range(data, index_start):\n",
        "\n",
        "    data_range = get_data_last(data, index_start)\n",
        "    value = data_range.min()\n",
        "\n",
        "    return value"
      ],
      "execution_count": 23,
      "outputs": []
    },
    {
      "cell_type": "markdown",
      "metadata": {
        "id": "7sihIC7dpT6W"
      },
      "source": [
        "---"
      ]
    },
    {
      "cell_type": "markdown",
      "metadata": {
        "id": "HXwPh7JEpT6X"
      },
      "source": [
        "# functions for presenting the results"
      ]
    },
    {
      "cell_type": "markdown",
      "metadata": {
        "id": "6dKoEkwBpT6X"
      },
      "source": [
        "---"
      ]
    },
    {
      "cell_type": "code",
      "metadata": {
        "id": "ppT6PlLfpT6X"
      },
      "source": [
        "def function_result_01():\n",
        "\n",
        "    plot_curve_error(loss_mean_train, loss_std_train, 'epoch', 'loss', 'loss (training)')"
      ],
      "execution_count": 24,
      "outputs": []
    },
    {
      "cell_type": "code",
      "metadata": {
        "id": "tPSZIgGhpT6X"
      },
      "source": [
        "def function_result_02():\n",
        "\n",
        "    plot_curve_error(accuracy_mean_train, accuracy_std_train, 'epoch', 'accuracy', 'accuracy (training)')"
      ],
      "execution_count": 25,
      "outputs": []
    },
    {
      "cell_type": "code",
      "metadata": {
        "id": "08QzCnwlpT6X"
      },
      "source": [
        "def function_result_03():\n",
        "    \n",
        "    plot_curve_error(loss_mean_test, loss_std_test, 'epoch', 'loss', 'loss (testing)')"
      ],
      "execution_count": 26,
      "outputs": []
    },
    {
      "cell_type": "code",
      "metadata": {
        "id": "oLbSFzAjpT6X"
      },
      "source": [
        "def function_result_04():\n",
        "    \n",
        "    plot_curve_error(accuracy_mean_test, accuracy_std_test, 'epoch', 'accuracy', 'accuracy (testing)')"
      ],
      "execution_count": 27,
      "outputs": []
    },
    {
      "cell_type": "code",
      "metadata": {
        "id": "55UtBzMkpT6X"
      },
      "source": [
        "def function_result_05():\n",
        "    \n",
        "    data_last = get_data_last(loss_mean_train, -10)\n",
        "    index = np.arange(0, 10)\n",
        "    print_curve(data_last, index)"
      ],
      "execution_count": 28,
      "outputs": []
    },
    {
      "cell_type": "code",
      "metadata": {
        "id": "Kmf5Zrj-pT6Y"
      },
      "source": [
        "def function_result_06():\n",
        "    \n",
        "    data_last = get_data_last(accuracy_mean_train, -10)\n",
        "    index = np.arange(0, 10)\n",
        "    print_curve(data_last, index)"
      ],
      "execution_count": 29,
      "outputs": []
    },
    {
      "cell_type": "code",
      "metadata": {
        "id": "gD3IU_TapT6Y"
      },
      "source": [
        "def function_result_07():\n",
        "    \n",
        "    data_last = get_data_last(loss_mean_test, -10)\n",
        "    index = np.arange(0, 10)\n",
        "    print_curve(data_last, index)"
      ],
      "execution_count": 30,
      "outputs": []
    },
    {
      "cell_type": "code",
      "metadata": {
        "id": "7YSVW441pT6Y"
      },
      "source": [
        "def function_result_08():\n",
        "    \n",
        "    data_last = get_data_last(accuracy_mean_test, -10)\n",
        "    index = np.arange(0, 10)\n",
        "    print_curve(data_last, index)"
      ],
      "execution_count": 31,
      "outputs": []
    },
    {
      "cell_type": "code",
      "metadata": {
        "id": "34XQZEljpT6Y"
      },
      "source": [
        "def function_result_09():\n",
        "    \n",
        "    value = get_max_last_range(accuracy_mean_train, -10)\n",
        "    print('best training accuracy = %12.10f' % (value))"
      ],
      "execution_count": 32,
      "outputs": []
    },
    {
      "cell_type": "code",
      "metadata": {
        "id": "8Zh82H02pT6Y"
      },
      "source": [
        "def function_result_10():\n",
        "    \n",
        "    value = get_max_last_range(accuracy_mean_test, -10)\n",
        "    print('best testing accuracy = %12.10f' % (value))"
      ],
      "execution_count": 33,
      "outputs": []
    },
    {
      "cell_type": "markdown",
      "metadata": {
        "id": "dVJnBMsIpT6Y"
      },
      "source": [
        "---"
      ]
    },
    {
      "cell_type": "markdown",
      "metadata": {
        "id": "d_WGHZ35pT6Z"
      },
      "source": [
        "# RESULTS"
      ]
    },
    {
      "cell_type": "markdown",
      "metadata": {
        "id": "si3i6LPPpT6Z"
      },
      "source": [
        "---"
      ]
    },
    {
      "cell_type": "markdown",
      "metadata": {
        "id": "lr8EAziZpT6Z"
      },
      "source": [
        "## # 01. plot the training loss curve (mean, std)"
      ]
    },
    {
      "cell_type": "code",
      "metadata": {
        "id": "SacrtSXvpT6Z",
        "colab": {
          "base_uri": "https://localhost:8080/",
          "height": 441
        },
        "outputId": "c5e09be6-6061-4223-fe7f-2e15f390ad09"
      },
      "source": [
        "function_result_01()"
      ],
      "execution_count": 34,
      "outputs": [
        {
          "output_type": "display_data",
          "data": {
            "image/png": "[encoded data removed]",
            "text/plain": [
              "<Figure size 576x432 with 1 Axes>"
            ]
          },
          "metadata": {
            "needs_background": "light"
          }
        }
      ]
    },
    {
      "cell_type": "markdown",
      "metadata": {
        "id": "gn5_tRFIpT6Z"
      },
      "source": [
        "## # 02. plot the training accuracy curve (mean, std)"
      ]
    },
    {
      "cell_type": "code",
      "metadata": {
        "id": "F5QZRbJ7pT6a",
        "colab": {
          "base_uri": "https://localhost:8080/",
          "height": 441
        },
        "outputId": "81793e1c-be92-4141-cc1c-c809402ac5df"
      },
      "source": [
        "function_result_02()"
      ],
      "execution_count": 35,
      "outputs": [
        {
          "output_type": "display_data",
          "data": {
            "image/png": "[encoded data removed]",
            "text/plain": [
              "<Figure size 576x432 with 1 Axes>"
            ]
          },
          "metadata": {
            "needs_background": "light"
          }
        }
      ]
    },
    {
      "cell_type": "markdown",
      "metadata": {
        "id": "0VZ2n92dpT6a"
      },
      "source": [
        "## # 03. plot the testing loss curve (mean, std)"
      ]
    },
    {
      "cell_type": "code",
      "metadata": {
        "id": "Pz0B8gwXpT6a",
        "colab": {
          "base_uri": "https://localhost:8080/",
          "height": 441
        },
        "outputId": "c5bdcd72-e823-4119-ad6b-73b30cffb19b"
      },
      "source": [
        "function_result_03()"
      ],
      "execution_count": 36,
      "outputs": [
        {
          "output_type": "display_data",
          "data": {
            "image/png": "[encoded data removed]",
            "text/plain": [
              "<Figure size 576x432 with 1 Axes>"
            ]
          },
          "metadata": {
            "needs_background": "light"
          }
        }
      ]
    },
    {
      "cell_type": "markdown",
      "metadata": {
        "id": "HhzYebMjpT6a"
      },
      "source": [
        "## # 04. plot the testing accuracy curve (mean, std)"
      ]
    },
    {
      "cell_type": "code",
      "metadata": {
        "id": "9VUBZ-W7pT6a",
        "colab": {
          "base_uri": "https://localhost:8080/",
          "height": 441
        },
        "outputId": "2f129944-b543-4373-c7af-e9da4c0babe5"
      },
      "source": [
        "function_result_04()"
      ],
      "execution_count": 37,
      "outputs": [
        {
          "output_type": "display_data",
          "data": {
            "image/png": "[encoded data removed]",
            "text/plain": [
              "<Figure size 576x432 with 1 Axes>"
            ]
          },
          "metadata": {
            "needs_background": "light"
          }
        }
      ]
    },
    {
      "cell_type": "markdown",
      "metadata": {
        "id": "mGaJ_03_pT6b"
      },
      "source": [
        "## # 05. print the training (mean) loss over batches at last 10 epochs"
      ]
    },
    {
      "cell_type": "code",
      "metadata": {
        "id": "5iYXMUcIpT6b",
        "colab": {
          "base_uri": "https://localhost:8080/"
        },
        "outputId": "357b8538-2c55-4397-a765-60fdbe704db4"
      },
      "source": [
        "function_result_05()"
      ],
      "execution_count": 38,
      "outputs": [
        {
          "output_type": "stream",
          "name": "stdout",
          "text": [
            "index =  0, value = 0.3790644083\n",
            "index =  1, value = 0.3979172680\n",
            "index =  2, value = 0.3901332385\n",
            "index =  3, value = 0.3865525517\n",
            "index =  4, value = 0.3898683217\n",
            "index =  5, value = 0.6376759933\n",
            "index =  6, value = 0.4249810371\n",
            "index =  7, value = 0.4092785743\n",
            "index =  8, value = 0.4084646589\n",
            "index =  9, value = 0.3998920725\n"
          ]
        }
      ]
    },
    {
      "cell_type": "markdown",
      "metadata": {
        "id": "LUry0bHspT6b"
      },
      "source": [
        "## # 06. print the training (mean) accuracy over batches at last 10 epochs"
      ]
    },
    {
      "cell_type": "code",
      "metadata": {
        "id": "uB-M1KOUpT6b",
        "colab": {
          "base_uri": "https://localhost:8080/"
        },
        "outputId": "e94189e9-267b-4240-8dc8-043238b8f8c5"
      },
      "source": [
        "function_result_06()"
      ],
      "execution_count": 39,
      "outputs": [
        {
          "output_type": "stream",
          "name": "stdout",
          "text": [
            "index =  0, value = 0.9968686700\n",
            "index =  1, value = 0.9895455241\n",
            "index =  2, value = 0.9941918254\n",
            "index =  3, value = 0.9963635802\n",
            "index =  4, value = 0.9955554605\n",
            "index =  5, value = 0.9019192457\n",
            "index =  6, value = 0.9878787398\n",
            "index =  7, value = 0.9935858250\n",
            "index =  8, value = 0.9935352802\n",
            "index =  9, value = 0.9969190955\n"
          ]
        }
      ]
    },
    {
      "cell_type": "markdown",
      "metadata": {
        "id": "sidXzJ0ppT6b"
      },
      "source": [
        "## # 07. print the testing (mean) loss over batches at last 10 epochs"
      ]
    },
    {
      "cell_type": "code",
      "metadata": {
        "id": "drN0TulOpT6c",
        "colab": {
          "base_uri": "https://localhost:8080/"
        },
        "outputId": "8e5650d8-06ae-45c8-efa2-e0883ff127fe"
      },
      "source": [
        "function_result_07()"
      ],
      "execution_count": 40,
      "outputs": [
        {
          "output_type": "stream",
          "name": "stdout",
          "text": [
            "index =  0, value = 0.4317484763\n",
            "index =  1, value = 0.4350122942\n",
            "index =  2, value = 0.4181567993\n",
            "index =  3, value = 0.4289487749\n",
            "index =  4, value = 0.5282236387\n",
            "index =  5, value = 0.5659932792\n",
            "index =  6, value = 0.4978090078\n",
            "index =  7, value = 0.4696452369\n",
            "index =  8, value = 0.4417530083\n",
            "index =  9, value = 0.4470749266\n"
          ]
        }
      ]
    },
    {
      "cell_type": "markdown",
      "metadata": {
        "id": "ccZVqUcgpT6c"
      },
      "source": [
        "## # 08. print the testing (mean) accuracy over batches at last 10 epochs"
      ]
    },
    {
      "cell_type": "code",
      "metadata": {
        "id": "yBSyyygFpT6c",
        "colab": {
          "base_uri": "https://localhost:8080/"
        },
        "outputId": "b888a9ab-fc9b-4422-fc27-b0afb81c86f2"
      },
      "source": [
        "function_result_08()"
      ],
      "execution_count": 41,
      "outputs": [
        {
          "output_type": "stream",
          "name": "stdout",
          "text": [
            "index =  0, value = 0.9772726893\n",
            "index =  1, value = 0.9886363149\n",
            "index =  2, value = 0.9863635898\n",
            "index =  3, value = 0.9863635898\n",
            "index =  4, value = 0.9477272630\n",
            "index =  5, value = 0.9818181396\n",
            "index =  6, value = 0.9863635898\n",
            "index =  7, value = 0.9818181396\n",
            "index =  8, value = 0.9954544902\n",
            "index =  9, value = 0.9863635898\n"
          ]
        }
      ]
    },
    {
      "cell_type": "markdown",
      "metadata": {
        "id": "tM2IUxQVpT6c"
      },
      "source": [
        "## # 09. print the best training (mean) accuracy within the last 10 epochs"
      ]
    },
    {
      "cell_type": "code",
      "metadata": {
        "id": "-cImK64ypT6c",
        "colab": {
          "base_uri": "https://localhost:8080/"
        },
        "outputId": "69a9ac49-c126-42f0-f9d3-13ac827a6b86"
      },
      "source": [
        "function_result_09()"
      ],
      "execution_count": 42,
      "outputs": [
        {
          "output_type": "stream",
          "name": "stdout",
          "text": [
            "best training accuracy = 0.9969190955\n"
          ]
        }
      ]
    },
    {
      "cell_type": "markdown",
      "metadata": {
        "id": "0jWtRfhjpT6c"
      },
      "source": [
        "## # 10. print the best testing (mean) accuracy within the last 10 epochs"
      ]
    },
    {
      "cell_type": "code",
      "metadata": {
        "id": "O0rFbBUTpT6c",
        "colab": {
          "base_uri": "https://localhost:8080/"
        },
        "outputId": "f391bd12-4743-44f2-eea9-4335a2f3ad30"
      },
      "source": [
        "function_result_10()"
      ],
      "execution_count": 43,
      "outputs": [
        {
          "output_type": "stream",
          "name": "stdout",
          "text": [
            "best testing accuracy = 0.9954544902\n"
          ]
        }
      ]
    },
    {
      "cell_type": "code",
      "metadata": {
        "id": "U71rvnD13T79"
      },
      "source": [
        ""
      ],
      "execution_count": 43,
      "outputs": []
    }
  ]
}