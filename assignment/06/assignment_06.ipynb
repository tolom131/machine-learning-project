{
  "nbformat": 4,
  "nbformat_minor": 0,
  "metadata": {
    "colab": {
      "name": "assignment_02.ipynb",
      "provenance": [],
      "collapsed_sections": []
    },
    "interpreter": {
      "hash": "84bbda367bac7e7bffd9b7890a44d65326aaedad40e5a9021c2651157391b1ef"
    },
    "kernelspec": {
      "display_name": "Python 3.8.5 64-bit ('base': conda)",
      "name": "python3"
    },
    "language_info": {
      "codemirror_mode": {
        "name": "ipython",
        "version": 3
      },
      "file_extension": ".py",
      "mimetype": "text/x-python",
      "name": "python",
      "nbconvert_exporter": "python",
      "pygments_lexer": "ipython3",
      "version": "3.8.5"
    },
    "accelerator": "GPU",
    "widgets": {
      "application/vnd.jupyter.widget-state+json": {
        "d428133e88a4475aba2466050738d270": {
          "model_module": "@jupyter-widgets/controls",
          "model_name": "HBoxModel",
          "model_module_version": "1.5.0",
          "state": {
            "_view_name": "HBoxView",
            "_dom_classes": [],
            "_model_name": "HBoxModel",
            "_view_module": "@jupyter-widgets/controls",
            "_model_module_version": "1.5.0",
            "_view_count": null,
            "_view_module_version": "1.5.0",
            "box_style": "",
            "layout": "IPY_MODEL_ad006a2db7ee42ffbfd8d24df3412a3f",
            "_model_module": "@jupyter-widgets/controls",
            "children": [
              "IPY_MODEL_20efa62c858c4dde9efaf3928a8b4040",
              "IPY_MODEL_295b7eef6b954be1a868ce1b44455618",
              "IPY_MODEL_ee2303a2356a4e94813f67100946a6c9"
            ]
          }
        },
        "ad006a2db7ee42ffbfd8d24df3412a3f": {
          "model_module": "@jupyter-widgets/base",
          "model_name": "LayoutModel",
          "model_module_version": "1.2.0",
          "state": {
            "_view_name": "LayoutView",
            "grid_template_rows": null,
            "right": null,
            "justify_content": null,
            "_view_module": "@jupyter-widgets/base",
            "overflow": null,
            "_model_module_version": "1.2.0",
            "_view_count": null,
            "flex_flow": null,
            "width": null,
            "min_width": null,
            "border": null,
            "align_items": null,
            "bottom": null,
            "_model_module": "@jupyter-widgets/base",
            "top": null,
            "grid_column": null,
            "overflow_y": null,
            "overflow_x": null,
            "grid_auto_flow": null,
            "grid_area": null,
            "grid_template_columns": null,
            "flex": null,
            "_model_name": "LayoutModel",
            "justify_items": null,
            "grid_row": null,
            "max_height": null,
            "align_content": null,
            "visibility": null,
            "align_self": null,
            "height": null,
            "min_height": null,
            "padding": null,
            "grid_auto_rows": null,
            "grid_gap": null,
            "max_width": null,
            "order": null,
            "_view_module_version": "1.2.0",
            "grid_template_areas": null,
            "object_position": null,
            "object_fit": null,
            "grid_auto_columns": null,
            "margin": null,
            "display": null,
            "left": null
          }
        },
        "20efa62c858c4dde9efaf3928a8b4040": {
          "model_module": "@jupyter-widgets/controls",
          "model_name": "HTMLModel",
          "model_module_version": "1.5.0",
          "state": {
            "_view_name": "HTMLView",
            "style": "IPY_MODEL_0493b7c06c3b47a8bc3d6abd3d2927e7",
            "_dom_classes": [],
            "description": "",
            "_model_name": "HTMLModel",
            "placeholder": "​",
            "_view_module": "@jupyter-widgets/controls",
            "_model_module_version": "1.5.0",
            "value": "100%",
            "_view_count": null,
            "_view_module_version": "1.5.0",
            "description_tooltip": null,
            "_model_module": "@jupyter-widgets/controls",
            "layout": "IPY_MODEL_ceba430189414b5181c18ee34c8dccc4"
          }
        },
        "295b7eef6b954be1a868ce1b44455618": {
          "model_module": "@jupyter-widgets/controls",
          "model_name": "FloatProgressModel",
          "model_module_version": "1.5.0",
          "state": {
            "_view_name": "ProgressView",
            "style": "IPY_MODEL_7cef87e5b3e84bfeb17cd163d0adb8e0",
            "_dom_classes": [],
            "description": "",
            "_model_name": "FloatProgressModel",
            "bar_style": "success",
            "max": 30,
            "_view_module": "@jupyter-widgets/controls",
            "_model_module_version": "1.5.0",
            "value": 30,
            "_view_count": null,
            "_view_module_version": "1.5.0",
            "orientation": "horizontal",
            "min": 0,
            "description_tooltip": null,
            "_model_module": "@jupyter-widgets/controls",
            "layout": "IPY_MODEL_d7d959efcfed40a0aff9a031e12290d9"
          }
        },
        "ee2303a2356a4e94813f67100946a6c9": {
          "model_module": "@jupyter-widgets/controls",
          "model_name": "HTMLModel",
          "model_module_version": "1.5.0",
          "state": {
            "_view_name": "HTMLView",
            "style": "IPY_MODEL_7179bdc90beb4c20aa2222d98dea51f3",
            "_dom_classes": [],
            "description": "",
            "_model_name": "HTMLModel",
            "placeholder": "​",
            "_view_module": "@jupyter-widgets/controls",
            "_model_module_version": "1.5.0",
            "value": " 30/30 [09:12&lt;00:00, 18.40s/it]",
            "_view_count": null,
            "_view_module_version": "1.5.0",
            "description_tooltip": null,
            "_model_module": "@jupyter-widgets/controls",
            "layout": "IPY_MODEL_cff648a7f02c4a5c8a1cb2284b24ee8a"
          }
        },
        "0493b7c06c3b47a8bc3d6abd3d2927e7": {
          "model_module": "@jupyter-widgets/controls",
          "model_name": "DescriptionStyleModel",
          "model_module_version": "1.5.0",
          "state": {
            "_view_name": "StyleView",
            "_model_name": "DescriptionStyleModel",
            "description_width": "",
            "_view_module": "@jupyter-widgets/base",
            "_model_module_version": "1.5.0",
            "_view_count": null,
            "_view_module_version": "1.2.0",
            "_model_module": "@jupyter-widgets/controls"
          }
        },
        "ceba430189414b5181c18ee34c8dccc4": {
          "model_module": "@jupyter-widgets/base",
          "model_name": "LayoutModel",
          "model_module_version": "1.2.0",
          "state": {
            "_view_name": "LayoutView",
            "grid_template_rows": null,
            "right": null,
            "justify_content": null,
            "_view_module": "@jupyter-widgets/base",
            "overflow": null,
            "_model_module_version": "1.2.0",
            "_view_count": null,
            "flex_flow": null,
            "width": null,
            "min_width": null,
            "border": null,
            "align_items": null,
            "bottom": null,
            "_model_module": "@jupyter-widgets/base",
            "top": null,
            "grid_column": null,
            "overflow_y": null,
            "overflow_x": null,
            "grid_auto_flow": null,
            "grid_area": null,
            "grid_template_columns": null,
            "flex": null,
            "_model_name": "LayoutModel",
            "justify_items": null,
            "grid_row": null,
            "max_height": null,
            "align_content": null,
            "visibility": null,
            "align_self": null,
            "height": null,
            "min_height": null,
            "padding": null,
            "grid_auto_rows": null,
            "grid_gap": null,
            "max_width": null,
            "order": null,
            "_view_module_version": "1.2.0",
            "grid_template_areas": null,
            "object_position": null,
            "object_fit": null,
            "grid_auto_columns": null,
            "margin": null,
            "display": null,
            "left": null
          }
        },
        "7cef87e5b3e84bfeb17cd163d0adb8e0": {
          "model_module": "@jupyter-widgets/controls",
          "model_name": "ProgressStyleModel",
          "model_module_version": "1.5.0",
          "state": {
            "_view_name": "StyleView",
            "_model_name": "ProgressStyleModel",
            "description_width": "",
            "_view_module": "@jupyter-widgets/base",
            "_model_module_version": "1.5.0",
            "_view_count": null,
            "_view_module_version": "1.2.0",
            "bar_color": null,
            "_model_module": "@jupyter-widgets/controls"
          }
        },
        "d7d959efcfed40a0aff9a031e12290d9": {
          "model_module": "@jupyter-widgets/base",
          "model_name": "LayoutModel",
          "model_module_version": "1.2.0",
          "state": {
            "_view_name": "LayoutView",
            "grid_template_rows": null,
            "right": null,
            "justify_content": null,
            "_view_module": "@jupyter-widgets/base",
            "overflow": null,
            "_model_module_version": "1.2.0",
            "_view_count": null,
            "flex_flow": null,
            "width": null,
            "min_width": null,
            "border": null,
            "align_items": null,
            "bottom": null,
            "_model_module": "@jupyter-widgets/base",
            "top": null,
            "grid_column": null,
            "overflow_y": null,
            "overflow_x": null,
            "grid_auto_flow": null,
            "grid_area": null,
            "grid_template_columns": null,
            "flex": null,
            "_model_name": "LayoutModel",
            "justify_items": null,
            "grid_row": null,
            "max_height": null,
            "align_content": null,
            "visibility": null,
            "align_self": null,
            "height": null,
            "min_height": null,
            "padding": null,
            "grid_auto_rows": null,
            "grid_gap": null,
            "max_width": null,
            "order": null,
            "_view_module_version": "1.2.0",
            "grid_template_areas": null,
            "object_position": null,
            "object_fit": null,
            "grid_auto_columns": null,
            "margin": null,
            "display": null,
            "left": null
          }
        },
        "7179bdc90beb4c20aa2222d98dea51f3": {
          "model_module": "@jupyter-widgets/controls",
          "model_name": "DescriptionStyleModel",
          "model_module_version": "1.5.0",
          "state": {
            "_view_name": "StyleView",
            "_model_name": "DescriptionStyleModel",
            "description_width": "",
            "_view_module": "@jupyter-widgets/base",
            "_model_module_version": "1.5.0",
            "_view_count": null,
            "_view_module_version": "1.2.0",
            "_model_module": "@jupyter-widgets/controls"
          }
        },
        "cff648a7f02c4a5c8a1cb2284b24ee8a": {
          "model_module": "@jupyter-widgets/base",
          "model_name": "LayoutModel",
          "model_module_version": "1.2.0",
          "state": {
            "_view_name": "LayoutView",
            "grid_template_rows": null,
            "right": null,
            "justify_content": null,
            "_view_module": "@jupyter-widgets/base",
            "overflow": null,
            "_model_module_version": "1.2.0",
            "_view_count": null,
            "flex_flow": null,
            "width": null,
            "min_width": null,
            "border": null,
            "align_items": null,
            "bottom": null,
            "_model_module": "@jupyter-widgets/base",
            "top": null,
            "grid_column": null,
            "overflow_y": null,
            "overflow_x": null,
            "grid_auto_flow": null,
            "grid_area": null,
            "grid_template_columns": null,
            "flex": null,
            "_model_name": "LayoutModel",
            "justify_items": null,
            "grid_row": null,
            "max_height": null,
            "align_content": null,
            "visibility": null,
            "align_self": null,
            "height": null,
            "min_height": null,
            "padding": null,
            "grid_auto_rows": null,
            "grid_gap": null,
            "max_width": null,
            "order": null,
            "_view_module_version": "1.2.0",
            "grid_template_areas": null,
            "object_position": null,
            "object_fit": null,
            "grid_auto_columns": null,
            "margin": null,
            "display": null,
            "left": null
          }
        }
      }
    }
  },
  "cells": [
    {
      "cell_type": "markdown",
      "metadata": {
        "id": "K29I-OwCEYzW",
        "outputId": "db8b297c-a4b8-457a-b43f-7570135306c7"
      },
      "source": [
        "# Multi-class classification based on Softmax and Cross-Entropy using pytorch"
      ]
    },
    {
      "cell_type": "markdown",
      "metadata": {
        "id": "1R6I5lDXpT6G"
      },
      "source": [
        "## import libraries"
      ]
    },
    {
      "cell_type": "code",
      "metadata": {
        "id": "s6t-DGMkpT6G"
      },
      "source": [
        "import torch\n",
        "import torch.nn as nn\n",
        "import torch.nn.functional as F\n",
        "import torchvision\n",
        "from torch.utils.data import Dataset\n",
        "from torchvision import datasets, transforms\n",
        "import torchvision.transforms.functional as F\n",
        "import numpy as np\n",
        "import matplotlib.pyplot as plt\n",
        "import math\n",
        "from tqdm import tqdm, tqdm_notebook\n",
        "import random\n",
        "import os"
      ],
      "execution_count": 1,
      "outputs": []
    },
    {
      "cell_type": "code",
      "metadata": {
        "id": "Kh76Jhzfpl-Z",
        "colab": {
          "base_uri": "https://localhost:8080/"
        },
        "outputId": "9be6ff0c-2323-4272-dbc1-865490b51543"
      },
      "source": [
        "from google.colab import drive \n",
        "drive.mount('/content/drive/')"
      ],
      "execution_count": 2,
      "outputs": [
        {
          "output_type": "stream",
          "name": "stdout",
          "text": [
            "Drive already mounted at /content/drive/; to attempt to forcibly remount, call drive.mount(\"/content/drive/\", force_remount=True).\n"
          ]
        }
      ]
    },
    {
      "cell_type": "markdown",
      "metadata": {
        "id": "HqDD7Am1pT6I"
      },
      "source": [
        "## load data"
      ]
    },
    {
      "cell_type": "code",
      "metadata": {
        "id": "CfcD3ubEpT6I",
        "colab": {
          "base_uri": "https://localhost:8080/"
        },
        "outputId": "29055e5a-d0a9-4d0e-b986-232747d484cd"
      },
      "source": [
        "directory_data  = './drive/MyDrive/Machine_Learning/'\n",
        "filename_data   = 'assignment_06_data.npz'\n",
        "data            = np.load(os.path.join(directory_data, filename_data))\n",
        "\n",
        "x_train = data['x_train']\n",
        "y_train = data['y_train']\n",
        "\n",
        "x_test  = data['x_test']\n",
        "y_test  = data['y_test']\n",
        "\n",
        "num_data_train  = x_train.shape[0]\n",
        "num_data_test   = x_test.shape[0]\n",
        "\n",
        "print('*************************************************')\n",
        "print('size of x_train :', x_train.shape)\n",
        "print('size of y_train :', y_train.shape)\n",
        "print('*************************************************')\n",
        "print('size of x_test :', x_test.shape)\n",
        "print('size of y_test :', y_test.shape)\n",
        "print('*************************************************')\n",
        "print('number of training image :', x_train.shape[0])\n",
        "print('height of training image :', x_train.shape[1])\n",
        "print('width of training image :', x_train.shape[2])\n",
        "print('*************************************************')\n",
        "print('number of testing image :', x_test.shape[0])\n",
        "print('height of testing image :', x_test.shape[1])\n",
        "print('width of testing image :', x_test.shape[2])\n",
        "print('*************************************************')"
      ],
      "execution_count": 3,
      "outputs": [
        {
          "output_type": "stream",
          "name": "stdout",
          "text": [
            "*************************************************\n",
            "size of x_train : (20000, 32, 32)\n",
            "size of y_train : (20000,)\n",
            "*************************************************\n",
            "size of x_test : (8000, 32, 32)\n",
            "size of y_test : (8000,)\n",
            "*************************************************\n",
            "number of training image : 20000\n",
            "height of training image : 32\n",
            "width of training image : 32\n",
            "*************************************************\n",
            "number of testing image : 8000\n",
            "height of testing image : 32\n",
            "width of testing image : 32\n",
            "*************************************************\n"
          ]
        }
      ]
    },
    {
      "cell_type": "markdown",
      "metadata": {
        "id": "999PJvhMpT6K"
      },
      "source": [
        "## number of classes"
      ]
    },
    {
      "cell_type": "code",
      "metadata": {
        "id": "AOVW2Y8YpT6K",
        "colab": {
          "base_uri": "https://localhost:8080/"
        },
        "outputId": "bd90d384-d355-4128-fef7-ced07cbd2473"
      },
      "source": [
        "print('*************************************************')\n",
        "print('number of classes :', len(set(y_train)))\n",
        "print('*************************************************')"
      ],
      "execution_count": 4,
      "outputs": [
        {
          "output_type": "stream",
          "name": "stdout",
          "text": [
            "*************************************************\n",
            "number of classes : 10\n",
            "*************************************************\n"
          ]
        }
      ]
    },
    {
      "cell_type": "markdown",
      "metadata": {
        "id": "HbaalUGLpT6L"
      },
      "source": [
        "## hyper-parameters"
      ]
    },
    {
      "cell_type": "code",
      "metadata": {
        "id": "_Kw_QF-dpT6L"
      },
      "source": [
        "device          = torch.device('cuda' if torch.cuda.is_available() else 'cpu')\n",
        "\n",
        "number_epoch    = 30\n",
        "size_minibatch  = 32\n",
        "learning_rate   = 0.01\n",
        "weight_decay    = 0.01"
      ],
      "execution_count": 5,
      "outputs": []
    },
    {
      "cell_type": "markdown",
      "metadata": {
        "id": "8MWaSxcRpT6L"
      },
      "source": [
        "## custom data loader for the PyTorch framework"
      ]
    },
    {
      "cell_type": "code",
      "metadata": {
        "id": "BaNZUnqmpT6M"
      },
      "source": [
        "class dataset(Dataset):\n",
        "    \n",
        "    def __init__(self, image, label):\n",
        "        \n",
        "        self.image  = image\n",
        "        self.label  = label.astype(np.long)\n",
        "    \n",
        "    def __getitem__(self, index):\n",
        "        \n",
        "        image   = self.image[index, :, :]\n",
        "        label   = self.label[index, ]\n",
        "\n",
        "        image   = torch.FloatTensor(image).unsqueeze(dim=0)\n",
        "        label   = torch.LongTensor([label])\n",
        "\n",
        "        return image, label\n",
        "    \n",
        "    def __len__(self):\n",
        "        \n",
        "        return self.image.shape[0]\n",
        "\n",
        "    def collate_fn(self, batch):\n",
        "        images  = list()\n",
        "        labels  = list()\n",
        "\n",
        "        for b in batch:\n",
        "            images.append(b[0])\n",
        "            labels.append(b[1])\n",
        "\n",
        "        images  = torch.stack(images, dim=0)\n",
        "        labels  = torch.stack(labels, dim=0).squeeze()\n",
        "\n",
        "        return images, labels\n",
        "        "
      ],
      "execution_count": 6,
      "outputs": []
    },
    {
      "cell_type": "code",
      "metadata": {
        "id": "5FBklDOa0mDl"
      },
      "source": [
        "#https://forensics.tistory.com/29\n",
        "class EarlyStopping():\n",
        "    def __init__(self, patience=0, verbose=0):\n",
        "        self._step = 0\n",
        "        self._loss = float('inf')\n",
        "        self.patience  = patience\n",
        "        self.verbose = verbose\n",
        "\n",
        "    def validate(self, loss):\n",
        "        if self._loss < loss:\n",
        "            self._step += 1\n",
        "            if self._step > self.patience:\n",
        "                if self.verbose:\n",
        "                    print(f'Training process is stopped early....')\n",
        "                return True\n",
        "        else:\n",
        "            self._step = 0\n",
        "            self._loss = loss\n",
        "\n",
        "        return False"
      ],
      "execution_count": 7,
      "outputs": []
    },
    {
      "cell_type": "markdown",
      "metadata": {
        "id": "L3PNV6IppT6N"
      },
      "source": [
        "## construct datasets and dataloaders for training and testing"
      ]
    },
    {
      "cell_type": "code",
      "metadata": {
        "id": "sYG9ZxDlpT6N"
      },
      "source": [
        "dataset_train   = dataset(x_train, y_train)\n",
        "dataset_test    = dataset(x_test, y_test)\n",
        "\n",
        "dataloader_train    = torch.utils.data.DataLoader(dataset_train, batch_size=size_minibatch, shuffle=True, drop_last=True, collate_fn=dataset_train.collate_fn)\n",
        "dataloader_test     = torch.utils.data.DataLoader(dataset_test, batch_size=size_minibatch, shuffle=True, drop_last=True, collate_fn=dataset_test.collate_fn)"
      ],
      "execution_count": 8,
      "outputs": []
    },
    {
      "cell_type": "markdown",
      "metadata": {
        "id": "n5u_FZ80pT6O"
      },
      "source": [
        "## shape of the data when using the data loader"
      ]
    },
    {
      "cell_type": "code",
      "metadata": {
        "id": "1VDt6AfIpT6O",
        "colab": {
          "base_uri": "https://localhost:8080/"
        },
        "outputId": "8742cf34-eba5-48aa-cd9b-e9636b0c5ebb"
      },
      "source": [
        "image, label    = next(iter(dataloader_train))\n",
        "print('************************************************************')\n",
        "print('size of mini-batch of the image:', image.shape)\n",
        "print('************************************************************')\n",
        "print('size of mini-batch of the label:', label.shape)\n",
        "print('************************************************************')"
      ],
      "execution_count": 9,
      "outputs": [
        {
          "output_type": "stream",
          "name": "stdout",
          "text": [
            "************************************************************\n",
            "size of mini-batch of the image: torch.Size([32, 1, 32, 32])\n",
            "************************************************************\n",
            "size of mini-batch of the label: torch.Size([32])\n",
            "************************************************************\n"
          ]
        }
      ]
    },
    {
      "cell_type": "markdown",
      "metadata": {
        "id": "5g0FphYMpT6P"
      },
      "source": [
        "## class for the neural network "
      ]
    },
    {
      "cell_type": "code",
      "metadata": {
        "id": "7pUMYa8_qPm3"
      },
      "source": [
        "class ResidualUnit(nn.Module):\n",
        "    def __init__(self, in_channel, out_channel, stride=1):\n",
        "        super(ResidualUnit, self).__init__()\n",
        "\n",
        "        self.main_layer = nn.Sequential (\n",
        "            nn.Conv2d(in_channels=in_channel, out_channels=out_channel, kernel_size=3, stride=stride, padding=1, bias=False),\n",
        "            nn.BatchNorm2d(out_channel),\n",
        "            nn.ReLU(),\n",
        "            nn.Conv2d(in_channels=out_channel, out_channels=out_channel, kernel_size=3, stride=1, padding=1, bias=False),\n",
        "            nn.BatchNorm2d(out_channel)\n",
        "        )\n",
        "\n",
        "        self.skip_layers = nn.Sequential()\n",
        "        if stride > 1:\n",
        "            self.skip_layers = nn.Sequential(\n",
        "                nn.Conv2d(in_channels=in_channel, out_channels=out_channel, kernel_size=3, stride=stride, padding=1, bias=False),\n",
        "                nn.BatchNorm2d(out_channel)\n",
        "            )\n",
        "\n",
        "        self.relu = nn.ReLU()\n",
        "\n",
        "    def forward(self, x):\n",
        "        Z = self.main_layer(x)\n",
        "        Z += self.skip_layers(x)\n",
        "        Z = self.relu(Z)\n",
        "        return Z"
      ],
      "execution_count": 10,
      "outputs": []
    },
    {
      "cell_type": "code",
      "metadata": {
        "id": "2dVrWX04raPD"
      },
      "source": [
        "class Classifier(nn.Module):\n",
        "    def __init__(self):\n",
        "        super(Classifier, self).__init__()\n",
        "\n",
        "        self.drop_1 = nn.Dropout(p=0.12)\n",
        "        self.cn_1 = nn.Conv2d(in_channels=1, out_channels=64, kernel_size=7, stride=1, padding=1, bias=False)\n",
        "        self.bn_1 = nn.BatchNorm2d(64)\n",
        "        self.re_1 = nn.ReLU()\n",
        "        self.maxpool = nn.MaxPool2d(kernel_size=2, stride=2)\n",
        "\n",
        "        self.resnet = nn.Sequential(\n",
        "            ResidualUnit(64, 64),\n",
        "            ResidualUnit(64, 64),\n",
        "            ResidualUnit(64, 64),\n",
        "\n",
        "            ResidualUnit(64, 128, stride=2),\n",
        "            ResidualUnit(128, 128),\n",
        "            ResidualUnit(128, 128),\n",
        "            ResidualUnit(128, 128),\n",
        "\n",
        "            ResidualUnit(128, 256, stride=2),\n",
        "            ResidualUnit(256, 256),\n",
        "            ResidualUnit(256, 256),\n",
        "            ResidualUnit(256, 256),\n",
        "            ResidualUnit(256, 256),\n",
        "            ResidualUnit(256, 256),\n",
        "\n",
        "            ResidualUnit(256, 512, stride=2),\n",
        "            ResidualUnit(512, 512),\n",
        "            ResidualUnit(512, 512)\n",
        "        )\n",
        "        self.avg = nn.AdaptiveAvgPool2d(1)\n",
        "        self.flatten = nn.Flatten()\n",
        "        self.drop_2 = nn.Dropout(p=0.1)\n",
        "\n",
        "        self.classifier_1 = nn.Linear(512, 10)\n",
        "        self.bn_2 = nn.BatchNorm1d(256)\n",
        "        self.re_2 = nn.ReLU()\n",
        "\n",
        "        self.classifier_2 = nn.Linear(256, 128)\n",
        "        self.bn_3 = nn.BatchNorm1d(128)\n",
        "        self.re_3 = nn.ReLU()\n",
        "\n",
        "        self.classifier_3 = nn.Linear(128, 10)\n",
        "\n",
        "        nn.init.xavier_uniform_(self.classifier_1.weight)\n",
        "        nn.init.xavier_uniform_(self.classifier_2.weight)\n",
        "        nn.init.xavier_uniform_(self.classifier_3.weight)\n",
        "\n",
        "        # nn.init.kaiming_normal_(self.classifier_1.weight)\n",
        "        # nn.init.kaiming_normal_(self.classifier_2.weight)\n",
        "        # nn.init.kaiming_normal_(self.classifier_3.weight)\n",
        "\n",
        "        # nn.init.constant_(self.classifier_1.weight, 1)\n",
        "        # nn.init.constant_(self.classifier_2.weight, 1)\n",
        "        # nn.init.constant_(self.classifier_3.weight, 1)\n",
        "\n",
        "        # torch.nn.init.normal_(self.classifier_1.weight)\n",
        "        # torch.nn.init.normal_(self.classifier_2.weight)\n",
        "        #torch.nn.init.normal_(self.classifier_3.weight)\n",
        "\n",
        "\n",
        "    def forward(self, x):\n",
        "        # Z = self.drop_1(x)\n",
        "        Z = self.cn_1(x)\n",
        "        Z = self.bn_1(Z)\n",
        "        Z = self.re_1(Z)\n",
        "        Z = self.maxpool(Z)\n",
        "\n",
        "        Z = self.resnet(Z)\n",
        "\n",
        "        Z = self.avg(Z)\n",
        "        Z = self.flatten(Z)\n",
        "        # Z = self.drop_2(Z)\n",
        "\n",
        "        Z = self.classifier_1(Z)\n",
        "        # Z = self.bn_2(Z)\n",
        "        # Z = self.re_2(Z)\n",
        "\n",
        "        # Z = self.classifier_2(Z)\n",
        "        # Z = self.bn_3(Z)\n",
        "        # Z = self.re_3(Z)\n",
        "        \n",
        "        # Z = self.classifier_3(Z)\n",
        "        return Z"
      ],
      "execution_count": 11,
      "outputs": []
    },
    {
      "cell_type": "markdown",
      "metadata": {
        "id": "O-nJVFp-pT6R"
      },
      "source": [
        "## build network"
      ]
    },
    {
      "cell_type": "code",
      "metadata": {
        "id": "kKJVC3eYpT6R",
        "colab": {
          "base_uri": "https://localhost:8080/"
        },
        "outputId": "9a7d9d2b-9064-4954-9c58-9c7ea79e16ea"
      },
      "source": [
        "classifier  = Classifier()\n",
        "optimizer   = torch.optim.SGD(classifier.parameters(), lr=learning_rate, weight_decay=weight_decay)\n",
        "from torchsummary import summary\n",
        "summary(classifier, (1, 28, 28), device=\"cpu\")"
      ],
      "execution_count": 12,
      "outputs": [
        {
          "output_type": "stream",
          "name": "stdout",
          "text": [
            "----------------------------------------------------------------\n",
            "        Layer (type)               Output Shape         Param #\n",
            "================================================================\n",
            "            Conv2d-1           [-1, 64, 24, 24]           3,136\n",
            "       BatchNorm2d-2           [-1, 64, 24, 24]             128\n",
            "              ReLU-3           [-1, 64, 24, 24]               0\n",
            "         MaxPool2d-4           [-1, 64, 12, 12]               0\n",
            "            Conv2d-5           [-1, 64, 12, 12]          36,864\n",
            "       BatchNorm2d-6           [-1, 64, 12, 12]             128\n",
            "              ReLU-7           [-1, 64, 12, 12]               0\n",
            "            Conv2d-8           [-1, 64, 12, 12]          36,864\n",
            "       BatchNorm2d-9           [-1, 64, 12, 12]             128\n",
            "             ReLU-10           [-1, 64, 12, 12]               0\n",
            "     ResidualUnit-11           [-1, 64, 12, 12]               0\n",
            "           Conv2d-12           [-1, 64, 12, 12]          36,864\n",
            "      BatchNorm2d-13           [-1, 64, 12, 12]             128\n",
            "             ReLU-14           [-1, 64, 12, 12]               0\n",
            "           Conv2d-15           [-1, 64, 12, 12]          36,864\n",
            "      BatchNorm2d-16           [-1, 64, 12, 12]             128\n",
            "             ReLU-17           [-1, 64, 12, 12]               0\n",
            "     ResidualUnit-18           [-1, 64, 12, 12]               0\n",
            "           Conv2d-19           [-1, 64, 12, 12]          36,864\n",
            "      BatchNorm2d-20           [-1, 64, 12, 12]             128\n",
            "             ReLU-21           [-1, 64, 12, 12]               0\n",
            "           Conv2d-22           [-1, 64, 12, 12]          36,864\n",
            "      BatchNorm2d-23           [-1, 64, 12, 12]             128\n",
            "             ReLU-24           [-1, 64, 12, 12]               0\n",
            "     ResidualUnit-25           [-1, 64, 12, 12]               0\n",
            "           Conv2d-26            [-1, 128, 6, 6]          73,728\n",
            "      BatchNorm2d-27            [-1, 128, 6, 6]             256\n",
            "             ReLU-28            [-1, 128, 6, 6]               0\n",
            "           Conv2d-29            [-1, 128, 6, 6]         147,456\n",
            "      BatchNorm2d-30            [-1, 128, 6, 6]             256\n",
            "           Conv2d-31            [-1, 128, 6, 6]          73,728\n",
            "      BatchNorm2d-32            [-1, 128, 6, 6]             256\n",
            "             ReLU-33            [-1, 128, 6, 6]               0\n",
            "     ResidualUnit-34            [-1, 128, 6, 6]               0\n",
            "           Conv2d-35            [-1, 128, 6, 6]         147,456\n",
            "      BatchNorm2d-36            [-1, 128, 6, 6]             256\n",
            "             ReLU-37            [-1, 128, 6, 6]               0\n",
            "           Conv2d-38            [-1, 128, 6, 6]         147,456\n",
            "      BatchNorm2d-39            [-1, 128, 6, 6]             256\n",
            "             ReLU-40            [-1, 128, 6, 6]               0\n",
            "     ResidualUnit-41            [-1, 128, 6, 6]               0\n",
            "           Conv2d-42            [-1, 128, 6, 6]         147,456\n",
            "      BatchNorm2d-43            [-1, 128, 6, 6]             256\n",
            "             ReLU-44            [-1, 128, 6, 6]               0\n",
            "           Conv2d-45            [-1, 128, 6, 6]         147,456\n",
            "      BatchNorm2d-46            [-1, 128, 6, 6]             256\n",
            "             ReLU-47            [-1, 128, 6, 6]               0\n",
            "     ResidualUnit-48            [-1, 128, 6, 6]               0\n",
            "           Conv2d-49            [-1, 128, 6, 6]         147,456\n",
            "      BatchNorm2d-50            [-1, 128, 6, 6]             256\n",
            "             ReLU-51            [-1, 128, 6, 6]               0\n",
            "           Conv2d-52            [-1, 128, 6, 6]         147,456\n",
            "      BatchNorm2d-53            [-1, 128, 6, 6]             256\n",
            "             ReLU-54            [-1, 128, 6, 6]               0\n",
            "     ResidualUnit-55            [-1, 128, 6, 6]               0\n",
            "           Conv2d-56            [-1, 256, 3, 3]         294,912\n",
            "      BatchNorm2d-57            [-1, 256, 3, 3]             512\n",
            "             ReLU-58            [-1, 256, 3, 3]               0\n",
            "           Conv2d-59            [-1, 256, 3, 3]         589,824\n",
            "      BatchNorm2d-60            [-1, 256, 3, 3]             512\n",
            "           Conv2d-61            [-1, 256, 3, 3]         294,912\n",
            "      BatchNorm2d-62            [-1, 256, 3, 3]             512\n",
            "             ReLU-63            [-1, 256, 3, 3]               0\n",
            "     ResidualUnit-64            [-1, 256, 3, 3]               0\n",
            "           Conv2d-65            [-1, 256, 3, 3]         589,824\n",
            "      BatchNorm2d-66            [-1, 256, 3, 3]             512\n",
            "             ReLU-67            [-1, 256, 3, 3]               0\n",
            "           Conv2d-68            [-1, 256, 3, 3]         589,824\n",
            "      BatchNorm2d-69            [-1, 256, 3, 3]             512\n",
            "             ReLU-70            [-1, 256, 3, 3]               0\n",
            "     ResidualUnit-71            [-1, 256, 3, 3]               0\n",
            "           Conv2d-72            [-1, 256, 3, 3]         589,824\n",
            "      BatchNorm2d-73            [-1, 256, 3, 3]             512\n",
            "             ReLU-74            [-1, 256, 3, 3]               0\n",
            "           Conv2d-75            [-1, 256, 3, 3]         589,824\n",
            "      BatchNorm2d-76            [-1, 256, 3, 3]             512\n",
            "             ReLU-77            [-1, 256, 3, 3]               0\n",
            "     ResidualUnit-78            [-1, 256, 3, 3]               0\n",
            "           Conv2d-79            [-1, 256, 3, 3]         589,824\n",
            "      BatchNorm2d-80            [-1, 256, 3, 3]             512\n",
            "             ReLU-81            [-1, 256, 3, 3]               0\n",
            "           Conv2d-82            [-1, 256, 3, 3]         589,824\n",
            "      BatchNorm2d-83            [-1, 256, 3, 3]             512\n",
            "             ReLU-84            [-1, 256, 3, 3]               0\n",
            "     ResidualUnit-85            [-1, 256, 3, 3]               0\n",
            "           Conv2d-86            [-1, 256, 3, 3]         589,824\n",
            "      BatchNorm2d-87            [-1, 256, 3, 3]             512\n",
            "             ReLU-88            [-1, 256, 3, 3]               0\n",
            "           Conv2d-89            [-1, 256, 3, 3]         589,824\n",
            "      BatchNorm2d-90            [-1, 256, 3, 3]             512\n",
            "             ReLU-91            [-1, 256, 3, 3]               0\n",
            "     ResidualUnit-92            [-1, 256, 3, 3]               0\n",
            "           Conv2d-93            [-1, 256, 3, 3]         589,824\n",
            "      BatchNorm2d-94            [-1, 256, 3, 3]             512\n",
            "             ReLU-95            [-1, 256, 3, 3]               0\n",
            "           Conv2d-96            [-1, 256, 3, 3]         589,824\n",
            "      BatchNorm2d-97            [-1, 256, 3, 3]             512\n",
            "             ReLU-98            [-1, 256, 3, 3]               0\n",
            "     ResidualUnit-99            [-1, 256, 3, 3]               0\n",
            "          Conv2d-100            [-1, 512, 2, 2]       1,179,648\n",
            "     BatchNorm2d-101            [-1, 512, 2, 2]           1,024\n",
            "            ReLU-102            [-1, 512, 2, 2]               0\n",
            "          Conv2d-103            [-1, 512, 2, 2]       2,359,296\n",
            "     BatchNorm2d-104            [-1, 512, 2, 2]           1,024\n",
            "          Conv2d-105            [-1, 512, 2, 2]       1,179,648\n",
            "     BatchNorm2d-106            [-1, 512, 2, 2]           1,024\n",
            "            ReLU-107            [-1, 512, 2, 2]               0\n",
            "    ResidualUnit-108            [-1, 512, 2, 2]               0\n",
            "          Conv2d-109            [-1, 512, 2, 2]       2,359,296\n",
            "     BatchNorm2d-110            [-1, 512, 2, 2]           1,024\n",
            "            ReLU-111            [-1, 512, 2, 2]               0\n",
            "          Conv2d-112            [-1, 512, 2, 2]       2,359,296\n",
            "     BatchNorm2d-113            [-1, 512, 2, 2]           1,024\n",
            "            ReLU-114            [-1, 512, 2, 2]               0\n",
            "    ResidualUnit-115            [-1, 512, 2, 2]               0\n",
            "          Conv2d-116            [-1, 512, 2, 2]       2,359,296\n",
            "     BatchNorm2d-117            [-1, 512, 2, 2]           1,024\n",
            "            ReLU-118            [-1, 512, 2, 2]               0\n",
            "          Conv2d-119            [-1, 512, 2, 2]       2,359,296\n",
            "     BatchNorm2d-120            [-1, 512, 2, 2]           1,024\n",
            "            ReLU-121            [-1, 512, 2, 2]               0\n",
            "    ResidualUnit-122            [-1, 512, 2, 2]               0\n",
            "AdaptiveAvgPool2d-123            [-1, 512, 1, 1]               0\n",
            "         Flatten-124                  [-1, 512]               0\n",
            "          Linear-125                   [-1, 10]           5,130\n",
            "================================================================\n",
            "Total params: 22,659,786\n",
            "Trainable params: 22,659,786\n",
            "Non-trainable params: 0\n",
            "----------------------------------------------------------------\n",
            "Input size (MB): 0.00\n",
            "Forward/backward pass size (MB): 4.59\n",
            "Params size (MB): 86.44\n",
            "Estimated Total Size (MB): 91.03\n",
            "----------------------------------------------------------------\n"
          ]
        },
        {
          "output_type": "stream",
          "name": "stderr",
          "text": [
            "/usr/local/lib/python3.7/dist-packages/torch/nn/functional.py:718: UserWarning: Named tensors and all their associated APIs are an experimental feature and subject to change. Please do not use them for anything important until they are released as stable. (Triggered internally at  /pytorch/c10/core/TensorImpl.h:1156.)\n",
            "  return torch.max_pool2d(input, kernel_size, stride, padding, dilation, ceil_mode)\n"
          ]
        }
      ]
    },
    {
      "cell_type": "markdown",
      "metadata": {
        "id": "ifg1tRbOpT6R"
      },
      "source": [
        "## print the defined neural network"
      ]
    },
    {
      "cell_type": "code",
      "metadata": {
        "id": "y3WevbYlpT6S",
        "colab": {
          "base_uri": "https://localhost:8080/"
        },
        "outputId": "fc52b8d3-d993-43fc-831d-ff114eac28db"
      },
      "source": [
        "print(classifier)"
      ],
      "execution_count": 13,
      "outputs": [
        {
          "output_type": "stream",
          "name": "stdout",
          "text": [
            "Classifier(\n",
            "  (drop_1): Dropout(p=0.12, inplace=False)\n",
            "  (cn_1): Conv2d(1, 64, kernel_size=(7, 7), stride=(1, 1), padding=(1, 1), bias=False)\n",
            "  (bn_1): BatchNorm2d(64, eps=1e-05, momentum=0.1, affine=True, track_running_stats=True)\n",
            "  (re_1): ReLU()\n",
            "  (maxpool): MaxPool2d(kernel_size=2, stride=2, padding=0, dilation=1, ceil_mode=False)\n",
            "  (resnet): Sequential(\n",
            "    (0): ResidualUnit(\n",
            "      (main_layer): Sequential(\n",
            "        (0): Conv2d(64, 64, kernel_size=(3, 3), stride=(1, 1), padding=(1, 1), bias=False)\n",
            "        (1): BatchNorm2d(64, eps=1e-05, momentum=0.1, affine=True, track_running_stats=True)\n",
            "        (2): ReLU()\n",
            "        (3): Conv2d(64, 64, kernel_size=(3, 3), stride=(1, 1), padding=(1, 1), bias=False)\n",
            "        (4): BatchNorm2d(64, eps=1e-05, momentum=0.1, affine=True, track_running_stats=True)\n",
            "      )\n",
            "      (skip_layers): Sequential()\n",
            "      (relu): ReLU()\n",
            "    )\n",
            "    (1): ResidualUnit(\n",
            "      (main_layer): Sequential(\n",
            "        (0): Conv2d(64, 64, kernel_size=(3, 3), stride=(1, 1), padding=(1, 1), bias=False)\n",
            "        (1): BatchNorm2d(64, eps=1e-05, momentum=0.1, affine=True, track_running_stats=True)\n",
            "        (2): ReLU()\n",
            "        (3): Conv2d(64, 64, kernel_size=(3, 3), stride=(1, 1), padding=(1, 1), bias=False)\n",
            "        (4): BatchNorm2d(64, eps=1e-05, momentum=0.1, affine=True, track_running_stats=True)\n",
            "      )\n",
            "      (skip_layers): Sequential()\n",
            "      (relu): ReLU()\n",
            "    )\n",
            "    (2): ResidualUnit(\n",
            "      (main_layer): Sequential(\n",
            "        (0): Conv2d(64, 64, kernel_size=(3, 3), stride=(1, 1), padding=(1, 1), bias=False)\n",
            "        (1): BatchNorm2d(64, eps=1e-05, momentum=0.1, affine=True, track_running_stats=True)\n",
            "        (2): ReLU()\n",
            "        (3): Conv2d(64, 64, kernel_size=(3, 3), stride=(1, 1), padding=(1, 1), bias=False)\n",
            "        (4): BatchNorm2d(64, eps=1e-05, momentum=0.1, affine=True, track_running_stats=True)\n",
            "      )\n",
            "      (skip_layers): Sequential()\n",
            "      (relu): ReLU()\n",
            "    )\n",
            "    (3): ResidualUnit(\n",
            "      (main_layer): Sequential(\n",
            "        (0): Conv2d(64, 128, kernel_size=(3, 3), stride=(2, 2), padding=(1, 1), bias=False)\n",
            "        (1): BatchNorm2d(128, eps=1e-05, momentum=0.1, affine=True, track_running_stats=True)\n",
            "        (2): ReLU()\n",
            "        (3): Conv2d(128, 128, kernel_size=(3, 3), stride=(1, 1), padding=(1, 1), bias=False)\n",
            "        (4): BatchNorm2d(128, eps=1e-05, momentum=0.1, affine=True, track_running_stats=True)\n",
            "      )\n",
            "      (skip_layers): Sequential(\n",
            "        (0): Conv2d(64, 128, kernel_size=(3, 3), stride=(2, 2), padding=(1, 1), bias=False)\n",
            "        (1): BatchNorm2d(128, eps=1e-05, momentum=0.1, affine=True, track_running_stats=True)\n",
            "      )\n",
            "      (relu): ReLU()\n",
            "    )\n",
            "    (4): ResidualUnit(\n",
            "      (main_layer): Sequential(\n",
            "        (0): Conv2d(128, 128, kernel_size=(3, 3), stride=(1, 1), padding=(1, 1), bias=False)\n",
            "        (1): BatchNorm2d(128, eps=1e-05, momentum=0.1, affine=True, track_running_stats=True)\n",
            "        (2): ReLU()\n",
            "        (3): Conv2d(128, 128, kernel_size=(3, 3), stride=(1, 1), padding=(1, 1), bias=False)\n",
            "        (4): BatchNorm2d(128, eps=1e-05, momentum=0.1, affine=True, track_running_stats=True)\n",
            "      )\n",
            "      (skip_layers): Sequential()\n",
            "      (relu): ReLU()\n",
            "    )\n",
            "    (5): ResidualUnit(\n",
            "      (main_layer): Sequential(\n",
            "        (0): Conv2d(128, 128, kernel_size=(3, 3), stride=(1, 1), padding=(1, 1), bias=False)\n",
            "        (1): BatchNorm2d(128, eps=1e-05, momentum=0.1, affine=True, track_running_stats=True)\n",
            "        (2): ReLU()\n",
            "        (3): Conv2d(128, 128, kernel_size=(3, 3), stride=(1, 1), padding=(1, 1), bias=False)\n",
            "        (4): BatchNorm2d(128, eps=1e-05, momentum=0.1, affine=True, track_running_stats=True)\n",
            "      )\n",
            "      (skip_layers): Sequential()\n",
            "      (relu): ReLU()\n",
            "    )\n",
            "    (6): ResidualUnit(\n",
            "      (main_layer): Sequential(\n",
            "        (0): Conv2d(128, 128, kernel_size=(3, 3), stride=(1, 1), padding=(1, 1), bias=False)\n",
            "        (1): BatchNorm2d(128, eps=1e-05, momentum=0.1, affine=True, track_running_stats=True)\n",
            "        (2): ReLU()\n",
            "        (3): Conv2d(128, 128, kernel_size=(3, 3), stride=(1, 1), padding=(1, 1), bias=False)\n",
            "        (4): BatchNorm2d(128, eps=1e-05, momentum=0.1, affine=True, track_running_stats=True)\n",
            "      )\n",
            "      (skip_layers): Sequential()\n",
            "      (relu): ReLU()\n",
            "    )\n",
            "    (7): ResidualUnit(\n",
            "      (main_layer): Sequential(\n",
            "        (0): Conv2d(128, 256, kernel_size=(3, 3), stride=(2, 2), padding=(1, 1), bias=False)\n",
            "        (1): BatchNorm2d(256, eps=1e-05, momentum=0.1, affine=True, track_running_stats=True)\n",
            "        (2): ReLU()\n",
            "        (3): Conv2d(256, 256, kernel_size=(3, 3), stride=(1, 1), padding=(1, 1), bias=False)\n",
            "        (4): BatchNorm2d(256, eps=1e-05, momentum=0.1, affine=True, track_running_stats=True)\n",
            "      )\n",
            "      (skip_layers): Sequential(\n",
            "        (0): Conv2d(128, 256, kernel_size=(3, 3), stride=(2, 2), padding=(1, 1), bias=False)\n",
            "        (1): BatchNorm2d(256, eps=1e-05, momentum=0.1, affine=True, track_running_stats=True)\n",
            "      )\n",
            "      (relu): ReLU()\n",
            "    )\n",
            "    (8): ResidualUnit(\n",
            "      (main_layer): Sequential(\n",
            "        (0): Conv2d(256, 256, kernel_size=(3, 3), stride=(1, 1), padding=(1, 1), bias=False)\n",
            "        (1): BatchNorm2d(256, eps=1e-05, momentum=0.1, affine=True, track_running_stats=True)\n",
            "        (2): ReLU()\n",
            "        (3): Conv2d(256, 256, kernel_size=(3, 3), stride=(1, 1), padding=(1, 1), bias=False)\n",
            "        (4): BatchNorm2d(256, eps=1e-05, momentum=0.1, affine=True, track_running_stats=True)\n",
            "      )\n",
            "      (skip_layers): Sequential()\n",
            "      (relu): ReLU()\n",
            "    )\n",
            "    (9): ResidualUnit(\n",
            "      (main_layer): Sequential(\n",
            "        (0): Conv2d(256, 256, kernel_size=(3, 3), stride=(1, 1), padding=(1, 1), bias=False)\n",
            "        (1): BatchNorm2d(256, eps=1e-05, momentum=0.1, affine=True, track_running_stats=True)\n",
            "        (2): ReLU()\n",
            "        (3): Conv2d(256, 256, kernel_size=(3, 3), stride=(1, 1), padding=(1, 1), bias=False)\n",
            "        (4): BatchNorm2d(256, eps=1e-05, momentum=0.1, affine=True, track_running_stats=True)\n",
            "      )\n",
            "      (skip_layers): Sequential()\n",
            "      (relu): ReLU()\n",
            "    )\n",
            "    (10): ResidualUnit(\n",
            "      (main_layer): Sequential(\n",
            "        (0): Conv2d(256, 256, kernel_size=(3, 3), stride=(1, 1), padding=(1, 1), bias=False)\n",
            "        (1): BatchNorm2d(256, eps=1e-05, momentum=0.1, affine=True, track_running_stats=True)\n",
            "        (2): ReLU()\n",
            "        (3): Conv2d(256, 256, kernel_size=(3, 3), stride=(1, 1), padding=(1, 1), bias=False)\n",
            "        (4): BatchNorm2d(256, eps=1e-05, momentum=0.1, affine=True, track_running_stats=True)\n",
            "      )\n",
            "      (skip_layers): Sequential()\n",
            "      (relu): ReLU()\n",
            "    )\n",
            "    (11): ResidualUnit(\n",
            "      (main_layer): Sequential(\n",
            "        (0): Conv2d(256, 256, kernel_size=(3, 3), stride=(1, 1), padding=(1, 1), bias=False)\n",
            "        (1): BatchNorm2d(256, eps=1e-05, momentum=0.1, affine=True, track_running_stats=True)\n",
            "        (2): ReLU()\n",
            "        (3): Conv2d(256, 256, kernel_size=(3, 3), stride=(1, 1), padding=(1, 1), bias=False)\n",
            "        (4): BatchNorm2d(256, eps=1e-05, momentum=0.1, affine=True, track_running_stats=True)\n",
            "      )\n",
            "      (skip_layers): Sequential()\n",
            "      (relu): ReLU()\n",
            "    )\n",
            "    (12): ResidualUnit(\n",
            "      (main_layer): Sequential(\n",
            "        (0): Conv2d(256, 256, kernel_size=(3, 3), stride=(1, 1), padding=(1, 1), bias=False)\n",
            "        (1): BatchNorm2d(256, eps=1e-05, momentum=0.1, affine=True, track_running_stats=True)\n",
            "        (2): ReLU()\n",
            "        (3): Conv2d(256, 256, kernel_size=(3, 3), stride=(1, 1), padding=(1, 1), bias=False)\n",
            "        (4): BatchNorm2d(256, eps=1e-05, momentum=0.1, affine=True, track_running_stats=True)\n",
            "      )\n",
            "      (skip_layers): Sequential()\n",
            "      (relu): ReLU()\n",
            "    )\n",
            "    (13): ResidualUnit(\n",
            "      (main_layer): Sequential(\n",
            "        (0): Conv2d(256, 512, kernel_size=(3, 3), stride=(2, 2), padding=(1, 1), bias=False)\n",
            "        (1): BatchNorm2d(512, eps=1e-05, momentum=0.1, affine=True, track_running_stats=True)\n",
            "        (2): ReLU()\n",
            "        (3): Conv2d(512, 512, kernel_size=(3, 3), stride=(1, 1), padding=(1, 1), bias=False)\n",
            "        (4): BatchNorm2d(512, eps=1e-05, momentum=0.1, affine=True, track_running_stats=True)\n",
            "      )\n",
            "      (skip_layers): Sequential(\n",
            "        (0): Conv2d(256, 512, kernel_size=(3, 3), stride=(2, 2), padding=(1, 1), bias=False)\n",
            "        (1): BatchNorm2d(512, eps=1e-05, momentum=0.1, affine=True, track_running_stats=True)\n",
            "      )\n",
            "      (relu): ReLU()\n",
            "    )\n",
            "    (14): ResidualUnit(\n",
            "      (main_layer): Sequential(\n",
            "        (0): Conv2d(512, 512, kernel_size=(3, 3), stride=(1, 1), padding=(1, 1), bias=False)\n",
            "        (1): BatchNorm2d(512, eps=1e-05, momentum=0.1, affine=True, track_running_stats=True)\n",
            "        (2): ReLU()\n",
            "        (3): Conv2d(512, 512, kernel_size=(3, 3), stride=(1, 1), padding=(1, 1), bias=False)\n",
            "        (4): BatchNorm2d(512, eps=1e-05, momentum=0.1, affine=True, track_running_stats=True)\n",
            "      )\n",
            "      (skip_layers): Sequential()\n",
            "      (relu): ReLU()\n",
            "    )\n",
            "    (15): ResidualUnit(\n",
            "      (main_layer): Sequential(\n",
            "        (0): Conv2d(512, 512, kernel_size=(3, 3), stride=(1, 1), padding=(1, 1), bias=False)\n",
            "        (1): BatchNorm2d(512, eps=1e-05, momentum=0.1, affine=True, track_running_stats=True)\n",
            "        (2): ReLU()\n",
            "        (3): Conv2d(512, 512, kernel_size=(3, 3), stride=(1, 1), padding=(1, 1), bias=False)\n",
            "        (4): BatchNorm2d(512, eps=1e-05, momentum=0.1, affine=True, track_running_stats=True)\n",
            "      )\n",
            "      (skip_layers): Sequential()\n",
            "      (relu): ReLU()\n",
            "    )\n",
            "  )\n",
            "  (avg): AdaptiveAvgPool2d(output_size=1)\n",
            "  (flatten): Flatten(start_dim=1, end_dim=-1)\n",
            "  (drop_2): Dropout(p=0.1, inplace=False)\n",
            "  (classifier_1): Linear(in_features=512, out_features=10, bias=True)\n",
            "  (bn_2): BatchNorm1d(256, eps=1e-05, momentum=0.1, affine=True, track_running_stats=True)\n",
            "  (re_2): ReLU()\n",
            "  (classifier_2): Linear(in_features=256, out_features=128, bias=True)\n",
            "  (bn_3): BatchNorm1d(128, eps=1e-05, momentum=0.1, affine=True, track_running_stats=True)\n",
            "  (re_3): ReLU()\n",
            "  (classifier_3): Linear(in_features=128, out_features=10, bias=True)\n",
            ")\n"
          ]
        }
      ]
    },
    {
      "cell_type": "markdown",
      "metadata": {
        "id": "uXhtDvkApT6S"
      },
      "source": [
        "## compute the prediction"
      ]
    },
    {
      "cell_type": "code",
      "metadata": {
        "id": "NQv7UqyqpT6T"
      },
      "source": [
        "def compute_prediction(model, input):\n",
        "\n",
        "    prediction = model(input)\n",
        "\n",
        "    return prediction"
      ],
      "execution_count": 14,
      "outputs": []
    },
    {
      "cell_type": "markdown",
      "metadata": {
        "id": "uuHs_ClBpT6T"
      },
      "source": [
        "## compute the loss"
      ]
    },
    {
      "cell_type": "code",
      "metadata": {
        "id": "_Oh-PPzbpT6T"
      },
      "source": [
        "def compute_loss(prediction, label):\n",
        "\n",
        "    criterion   = nn.CrossEntropyLoss()\n",
        "    loss        = criterion(prediction, label)\n",
        "    loss_value  = loss.item()\n",
        "\n",
        "    return loss, loss_value"
      ],
      "execution_count": 15,
      "outputs": []
    },
    {
      "cell_type": "markdown",
      "metadata": {
        "id": "3wi4pDDvpT6U"
      },
      "source": [
        "## compute the accuracy"
      ]
    },
    {
      "cell_type": "code",
      "metadata": {
        "id": "XgyhFIfNpT6U"
      },
      "source": [
        "def compute_accuracy(prediction, label):\n",
        "    # ================================================================================ \n",
        "    # complete the function body\n",
        "    b_Prediction = torch.argmax(prediction, 1)\n",
        "    bCorrect = (b_Prediction == label)\n",
        "    accuracy = bCorrect.float().mean() * 100\n",
        "    # ================================================================================ \n",
        "\n",
        "    return accuracy"
      ],
      "execution_count": 16,
      "outputs": []
    },
    {
      "cell_type": "markdown",
      "metadata": {
        "id": "unxSNc0LpT6U"
      },
      "source": [
        "## variables for the learning curve"
      ]
    },
    {
      "cell_type": "code",
      "metadata": {
        "id": "B3sAfmbbpT6U"
      },
      "source": [
        "loss_mean_train     = np.zeros(number_epoch)\n",
        "loss_std_train      = np.zeros(number_epoch)\n",
        "accuracy_mean_train = np.zeros(number_epoch)\n",
        "accuracy_std_train  = np.zeros(number_epoch)\n",
        "\n",
        "loss_mean_test      = np.zeros(number_epoch)\n",
        "loss_std_test       = np.zeros(number_epoch)\n",
        "accuracy_mean_test  = np.zeros(number_epoch)\n",
        "accuracy_std_test   = np.zeros(number_epoch)"
      ],
      "execution_count": 17,
      "outputs": []
    },
    {
      "cell_type": "markdown",
      "metadata": {
        "id": "yhhCp2YppT6V"
      },
      "source": [
        "## train and test"
      ]
    },
    {
      "cell_type": "code",
      "metadata": {
        "id": "sP27BVwepT6V",
        "colab": {
          "base_uri": "https://localhost:8080/",
          "height": 418,
          "referenced_widgets": [
            "d428133e88a4475aba2466050738d270",
            "ad006a2db7ee42ffbfd8d24df3412a3f",
            "20efa62c858c4dde9efaf3928a8b4040",
            "295b7eef6b954be1a868ce1b44455618",
            "ee2303a2356a4e94813f67100946a6c9",
            "0493b7c06c3b47a8bc3d6abd3d2927e7",
            "ceba430189414b5181c18ee34c8dccc4",
            "7cef87e5b3e84bfeb17cd163d0adb8e0",
            "d7d959efcfed40a0aff9a031e12290d9",
            "7179bdc90beb4c20aa2222d98dea51f3",
            "cff648a7f02c4a5c8a1cb2284b24ee8a"
          ]
        },
        "outputId": "91c1fa20-0648-40d0-a356-c0c62e660630"
      },
      "source": [
        "## For Debugging\n",
        "classifier  = Classifier().to(device)\n",
        "optimizer   = torch.optim.SGD(classifier.parameters(), lr=learning_rate, weight_decay=weight_decay)\n",
        "early_stopping = EarlyStopping(patience=70, verbose=1)\n",
        "\n",
        "# ================================================================================\n",
        "# \n",
        "# iterations for epochs\n",
        "#\n",
        "# ================================================================================\n",
        "for i in tqdm_notebook(range(number_epoch)):\n",
        "    \n",
        "    # ================================================================================\n",
        "    # \n",
        "    # training\n",
        "    #\n",
        "    # ================================================================================\n",
        "    loss_train_epoch        = []\n",
        "    accuracy_train_epoch    = []\n",
        "\n",
        "    classifier.train()\n",
        "\n",
        "    for index_batch, (image_train, label_train) in enumerate(dataloader_train):\n",
        "\n",
        "        image_train = image_train.to(device)\n",
        "        label_train = label_train.to(device)\n",
        "        \n",
        "        prediction_train                = compute_prediction(classifier, image_train)\n",
        "        loss_train, loss_value_train    = compute_loss(prediction_train, label_train)\n",
        "        accuracy_train                  = compute_accuracy(prediction_train, label_train).to(\"cpu\")\n",
        "        accuracy_train = accuracy_train.numpy()\n",
        "        # loss_value_train = loss_value_train.to(\"cpu\")\n",
        "\n",
        "        optimizer.zero_grad()\n",
        "        loss_train.backward()\n",
        "        optimizer.step()\n",
        "\n",
        "        loss_train_epoch.append(loss_value_train)\n",
        "        accuracy_train_epoch.append(accuracy_train)\n",
        "\n",
        "    loss_mean_train[i]      = np.mean(loss_train_epoch)\n",
        "    loss_std_train[i]       = np.std(loss_train_epoch)\n",
        "\n",
        "    accuracy_mean_train[i]  = np.mean(accuracy_train_epoch)\n",
        "    accuracy_std_train[i]   = np.std(accuracy_train_epoch)\n",
        "\n",
        "    # ================================================================================\n",
        "    # \n",
        "    # testing\n",
        "    #\n",
        "    # ================================================================================\n",
        "    loss_test_epoch        = []\n",
        "    accuracy_test_epoch    = []\n",
        "\n",
        "    with torch.no_grad():\n",
        "        classifier.eval()\n",
        "\n",
        "    for index_batch, (image_test, label_test) in enumerate(dataloader_test):\n",
        "\n",
        "        image_test = image_test.to(device)\n",
        "        label_test = label_test.to(device)\n",
        "        \n",
        "        prediction_test             = compute_prediction(classifier, image_test)\n",
        "        loss_test, loss_value_test  = compute_loss(prediction_test, label_test)\n",
        "        accuracy_test               = compute_accuracy(prediction_test, label_test).to(\"cpu\")\n",
        "        accuracy_test = accuracy_test.numpy()\n",
        "\n",
        "        loss_test_epoch.append(loss_value_test)\n",
        "        accuracy_test_epoch.append(accuracy_test)\n",
        "\n",
        "    loss_mean_test[i]      = np.mean(loss_test_epoch)\n",
        "    loss_std_test[i]       = np.std(loss_test_epoch)\n",
        "\n",
        "    accuracy_mean_test[i]  = np.mean(accuracy_test_epoch)\n",
        "    accuracy_std_test[i]   = np.std(accuracy_test_epoch)\n",
        "\n",
        "    if i % 5 == 0:\n",
        "        print(f\"epoch : {i}, train acc : {np.mean(accuracy_train_epoch)}, train loss : {np.mean(loss_train_epoch)}\")\n",
        "        print(f\"epoch : {i}, test acc : {np.mean(accuracy_test_epoch)}, test loss : {np.mean(loss_test_epoch)}\")\n",
        "        print()\n",
        "\n",
        "    # if early_stopping.validate(np.mean(loss_test_epoch)):\n",
        "    #     break\n",
        "\n"
      ],
      "execution_count": 18,
      "outputs": [
        {
          "output_type": "stream",
          "name": "stderr",
          "text": [
            "/usr/local/lib/python3.7/dist-packages/ipykernel_launcher.py:11: TqdmDeprecationWarning: This function will be removed in tqdm==5.0.0\n",
            "Please use `tqdm.notebook.tqdm` instead of `tqdm.tqdm_notebook`\n",
            "  # This is added back by InteractiveShellApp.init_path()\n"
          ]
        },
        {
          "output_type": "display_data",
          "data": {
            "application/vnd.jupyter.widget-view+json": {
              "model_id": "d428133e88a4475aba2466050738d270",
              "version_minor": 0,
              "version_major": 2
            },
            "text/plain": [
              "  0%|          | 0/30 [00:00<?, ?it/s]"
            ]
          },
          "metadata": {}
        },
        {
          "output_type": "stream",
          "name": "stdout",
          "text": [
            "epoch : 0, train acc : 93.86499786376953, train loss : 0.2035241733806208\n",
            "epoch : 0, test acc : 97.875, test loss : 0.06546907176938839\n",
            "\n",
            "epoch : 5, train acc : 99.63999938964844, train loss : 0.012931190086342394\n",
            "epoch : 5, test acc : 98.5374984741211, test loss : 0.05210061342769768\n",
            "\n",
            "epoch : 10, train acc : 99.71499633789062, train loss : 0.011493631162494421\n",
            "epoch : 10, test acc : 94.5625, test loss : 0.22512067670328542\n",
            "\n",
            "epoch : 15, train acc : 99.44000244140625, train loss : 0.022892404998838902\n",
            "epoch : 15, test acc : 98.44999694824219, test loss : 0.0576455874950625\n",
            "\n",
            "epoch : 20, train acc : 99.36499786376953, train loss : 0.028424983497336506\n",
            "epoch : 20, test acc : 98.8375015258789, test loss : 0.045114639084786176\n",
            "\n",
            "epoch : 25, train acc : 99.33999633789062, train loss : 0.03131128313913941\n",
            "epoch : 25, test acc : 98.32499694824219, test loss : 0.06270613623782992\n",
            "\n"
          ]
        }
      ]
    },
    {
      "cell_type": "markdown",
      "metadata": {
        "id": "90WPUllLpT6V"
      },
      "source": [
        "## plot curve"
      ]
    },
    {
      "cell_type": "code",
      "metadata": {
        "id": "8p5A78UgpT6V"
      },
      "source": [
        "def plot_curve_error(data_mean, data_std, x_label, y_label, title):\n",
        "\n",
        "    plt.figure(figsize=(8, 6))\n",
        "    plt.title(title)\n",
        "\n",
        "    alpha = 0.3\n",
        "    \n",
        "    plt.plot(range(len(data_mean)), data_mean, '-', color = 'red')\n",
        "    plt.fill_between(range(len(data_mean)), data_mean - data_std, data_mean + data_std, facecolor = 'blue', alpha = alpha) \n",
        "    \n",
        "    plt.xlabel(x_label)\n",
        "    plt.ylabel(y_label)\n",
        "\n",
        "    plt.tight_layout()\n",
        "    plt.show()"
      ],
      "execution_count": 19,
      "outputs": []
    },
    {
      "cell_type": "code",
      "metadata": {
        "id": "2ejqQNTNpT6W"
      },
      "source": [
        "def print_curve(data, index):\n",
        "    \n",
        "    for i in range(len(index)):\n",
        "\n",
        "        idx = index[i]\n",
        "        val = data[idx]\n",
        "\n",
        "        print('index = %2d, value = %12.10f' % (idx, val))"
      ],
      "execution_count": 20,
      "outputs": []
    },
    {
      "cell_type": "code",
      "metadata": {
        "id": "xIj3KePYpT6W"
      },
      "source": [
        "def get_data_last(data, index_start):\n",
        "\n",
        "    data_last = data[index_start:]\n",
        "\n",
        "    return data_last"
      ],
      "execution_count": 21,
      "outputs": []
    },
    {
      "cell_type": "code",
      "metadata": {
        "id": "Ir2WSmQCpT6W"
      },
      "source": [
        "def get_max_last_range(data, index_start):\n",
        "\n",
        "    data_range = get_data_last(data, index_start)\n",
        "    value = data_range.max()\n",
        "\n",
        "    return value"
      ],
      "execution_count": 22,
      "outputs": []
    },
    {
      "cell_type": "code",
      "metadata": {
        "id": "eiKhx2YHpT6W"
      },
      "source": [
        "def get_min_last_range(data, index_start):\n",
        "\n",
        "    data_range = get_data_last(data, index_start)\n",
        "    value = data_range.min()\n",
        "\n",
        "    return value"
      ],
      "execution_count": 23,
      "outputs": []
    },
    {
      "cell_type": "markdown",
      "metadata": {
        "id": "7sihIC7dpT6W"
      },
      "source": [
        "---"
      ]
    },
    {
      "cell_type": "markdown",
      "metadata": {
        "id": "HXwPh7JEpT6X"
      },
      "source": [
        "# functions for presenting the results"
      ]
    },
    {
      "cell_type": "markdown",
      "metadata": {
        "id": "6dKoEkwBpT6X"
      },
      "source": [
        "---"
      ]
    },
    {
      "cell_type": "code",
      "metadata": {
        "id": "ppT6PlLfpT6X"
      },
      "source": [
        "def function_result_01():\n",
        "\n",
        "    plot_curve_error(loss_mean_train, loss_std_train, 'epoch', 'loss', 'loss (training)')"
      ],
      "execution_count": 24,
      "outputs": []
    },
    {
      "cell_type": "code",
      "metadata": {
        "id": "tPSZIgGhpT6X"
      },
      "source": [
        "def function_result_02():\n",
        "\n",
        "    plot_curve_error(accuracy_mean_train, accuracy_std_train, 'epoch', 'accuracy', 'accuracy (training)')"
      ],
      "execution_count": 25,
      "outputs": []
    },
    {
      "cell_type": "code",
      "metadata": {
        "id": "08QzCnwlpT6X"
      },
      "source": [
        "def function_result_03():\n",
        "    \n",
        "    plot_curve_error(loss_mean_test, loss_std_test, 'epoch', 'loss', 'loss (testing)')"
      ],
      "execution_count": 26,
      "outputs": []
    },
    {
      "cell_type": "code",
      "metadata": {
        "id": "oLbSFzAjpT6X"
      },
      "source": [
        "def function_result_04():\n",
        "    \n",
        "    plot_curve_error(accuracy_mean_test, accuracy_std_test, 'epoch', 'accuracy', 'accuracy (testing)')"
      ],
      "execution_count": 27,
      "outputs": []
    },
    {
      "cell_type": "code",
      "metadata": {
        "id": "55UtBzMkpT6X"
      },
      "source": [
        "def function_result_05():\n",
        "    \n",
        "    data_last = get_data_last(loss_mean_train, -10)\n",
        "    index = np.arange(0, 10)\n",
        "    print_curve(data_last, index)"
      ],
      "execution_count": 28,
      "outputs": []
    },
    {
      "cell_type": "code",
      "metadata": {
        "id": "Kmf5Zrj-pT6Y"
      },
      "source": [
        "def function_result_06():\n",
        "    \n",
        "    data_last = get_data_last(accuracy_mean_train, -10)\n",
        "    index = np.arange(0, 10)\n",
        "    print_curve(data_last, index)"
      ],
      "execution_count": 29,
      "outputs": []
    },
    {
      "cell_type": "code",
      "metadata": {
        "id": "gD3IU_TapT6Y"
      },
      "source": [
        "def function_result_07():\n",
        "    \n",
        "    data_last = get_data_last(loss_mean_test, -10)\n",
        "    index = np.arange(0, 10)\n",
        "    print_curve(data_last, index)"
      ],
      "execution_count": 30,
      "outputs": []
    },
    {
      "cell_type": "code",
      "metadata": {
        "id": "7YSVW441pT6Y"
      },
      "source": [
        "def function_result_08():\n",
        "    \n",
        "    data_last = get_data_last(accuracy_mean_test, -10)\n",
        "    index = np.arange(0, 10)\n",
        "    print_curve(data_last, index)"
      ],
      "execution_count": 31,
      "outputs": []
    },
    {
      "cell_type": "code",
      "metadata": {
        "id": "34XQZEljpT6Y"
      },
      "source": [
        "def function_result_09():\n",
        "    \n",
        "    value = get_max_last_range(accuracy_mean_train, -10)\n",
        "    print('best training accuracy = %12.10f' % (value))"
      ],
      "execution_count": 32,
      "outputs": []
    },
    {
      "cell_type": "code",
      "metadata": {
        "id": "8Zh82H02pT6Y"
      },
      "source": [
        "def function_result_10():\n",
        "    \n",
        "    value = get_max_last_range(accuracy_mean_test, -10)\n",
        "    print('best testing accuracy = %12.10f' % (value))"
      ],
      "execution_count": 33,
      "outputs": []
    },
    {
      "cell_type": "markdown",
      "metadata": {
        "id": "dVJnBMsIpT6Y"
      },
      "source": [
        "---"
      ]
    },
    {
      "cell_type": "markdown",
      "metadata": {
        "id": "d_WGHZ35pT6Z"
      },
      "source": [
        "# RESULTS"
      ]
    },
    {
      "cell_type": "markdown",
      "metadata": {
        "id": "si3i6LPPpT6Z"
      },
      "source": [
        "---"
      ]
    },
    {
      "cell_type": "markdown",
      "metadata": {
        "id": "lr8EAziZpT6Z"
      },
      "source": [
        "## # 01. plot the training loss curve (mean, std)"
      ]
    },
    {
      "cell_type": "code",
      "metadata": {
        "id": "SacrtSXvpT6Z",
        "colab": {
          "base_uri": "https://localhost:8080/",
          "height": 441
        },
        "outputId": "14746d76-496b-46f3-d368-624fcbffc92d"
      },
      "source": [
        "function_result_01()"
      ],
      "execution_count": 34,
      "outputs": [
        {
          "output_type": "display_data",
          "data": {
            "image/png": "[encoded data removed]",
            "text/plain": [
              "<Figure size 576x432 with 1 Axes>"
            ]
          },
          "metadata": {
            "needs_background": "light"
          }
        }
      ]
    },
    {
      "cell_type": "markdown",
      "metadata": {
        "id": "gn5_tRFIpT6Z"
      },
      "source": [
        "## # 02. plot the training accuracy curve (mean, std)"
      ]
    },
    {
      "cell_type": "code",
      "metadata": {
        "id": "F5QZRbJ7pT6a",
        "colab": {
          "base_uri": "https://localhost:8080/",
          "height": 441
        },
        "outputId": "e28e6ec7-6e23-4bb9-d624-8014901971c3"
      },
      "source": [
        "function_result_02()"
      ],
      "execution_count": 35,
      "outputs": [
        {
          "output_type": "display_data",
          "data": {
            "image/png": "[encoded data removed]",
            "text/plain": [
              "<Figure size 576x432 with 1 Axes>"
            ]
          },
          "metadata": {
            "needs_background": "light"
          }
        }
      ]
    },
    {
      "cell_type": "markdown",
      "metadata": {
        "id": "0VZ2n92dpT6a"
      },
      "source": [
        "## # 03. plot the testing loss curve (mean, std)"
      ]
    },
    {
      "cell_type": "code",
      "metadata": {
        "id": "Pz0B8gwXpT6a",
        "colab": {
          "base_uri": "https://localhost:8080/",
          "height": 441
        },
        "outputId": "46ca048b-24ec-4c31-d03c-dfd0b6e107d4"
      },
      "source": [
        "function_result_03()"
      ],
      "execution_count": 36,
      "outputs": [
        {
          "output_type": "display_data",
          "data": {
            "image/png": "[encoded data removed]",
            "text/plain": [
              "<Figure size 576x432 with 1 Axes>"
            ]
          },
          "metadata": {
            "needs_background": "light"
          }
        }
      ]
    },
    {
      "cell_type": "markdown",
      "metadata": {
        "id": "HhzYebMjpT6a"
      },
      "source": [
        "## # 04. plot the testing accuracy curve (mean, std)"
      ]
    },
    {
      "cell_type": "code",
      "metadata": {
        "id": "9VUBZ-W7pT6a",
        "colab": {
          "base_uri": "https://localhost:8080/",
          "height": 441
        },
        "outputId": "af3b54a2-58ac-4c57-fbec-2804cb549da5"
      },
      "source": [
        "function_result_04()"
      ],
      "execution_count": 37,
      "outputs": [
        {
          "output_type": "display_data",
          "data": {
            "image/png": "[encoded data removed]",
            "text/plain": [
              "<Figure size 576x432 with 1 Axes>"
            ]
          },
          "metadata": {
            "needs_background": "light"
          }
        }
      ]
    },
    {
      "cell_type": "markdown",
      "metadata": {
        "id": "mGaJ_03_pT6b"
      },
      "source": [
        "## # 05. print the training (mean) loss over batches at last 10 epochs"
      ]
    },
    {
      "cell_type": "code",
      "metadata": {
        "id": "5iYXMUcIpT6b",
        "colab": {
          "base_uri": "https://localhost:8080/"
        },
        "outputId": "a66dd523-ae1c-4ed7-ee1f-67dec078e9bb"
      },
      "source": [
        "function_result_05()"
      ],
      "execution_count": 38,
      "outputs": [
        {
          "output_type": "stream",
          "name": "stdout",
          "text": [
            "index =  0, value = 0.0284249835\n",
            "index =  1, value = 0.0307248612\n",
            "index =  2, value = 0.0261271443\n",
            "index =  3, value = 0.0277131870\n",
            "index =  4, value = 0.0282044331\n",
            "index =  5, value = 0.0313112831\n",
            "index =  6, value = 0.0334995836\n",
            "index =  7, value = 0.0306003443\n",
            "index =  8, value = 0.0264274737\n",
            "index =  9, value = 0.0309797285\n"
          ]
        }
      ]
    },
    {
      "cell_type": "markdown",
      "metadata": {
        "id": "LUry0bHspT6b"
      },
      "source": [
        "## # 06. print the training (mean) accuracy over batches at last 10 epochs"
      ]
    },
    {
      "cell_type": "code",
      "metadata": {
        "id": "uB-M1KOUpT6b",
        "colab": {
          "base_uri": "https://localhost:8080/"
        },
        "outputId": "86454aac-5df8-45a5-a407-ec8d2e098ebd"
      },
      "source": [
        "function_result_06()"
      ],
      "execution_count": 39,
      "outputs": [
        {
          "output_type": "stream",
          "name": "stdout",
          "text": [
            "index =  0, value = 99.3649978638\n",
            "index =  1, value = 99.2549972534\n",
            "index =  2, value = 99.4400024414\n",
            "index =  3, value = 99.4800033569\n",
            "index =  4, value = 99.4199981689\n",
            "index =  5, value = 99.3399963379\n",
            "index =  6, value = 99.3099975586\n",
            "index =  7, value = 99.4300003052\n",
            "index =  8, value = 99.5599975586\n",
            "index =  9, value = 99.4700012207\n"
          ]
        }
      ]
    },
    {
      "cell_type": "markdown",
      "metadata": {
        "id": "sidXzJ0ppT6b"
      },
      "source": [
        "## # 07. print the testing (mean) loss over batches at last 10 epochs"
      ]
    },
    {
      "cell_type": "code",
      "metadata": {
        "id": "drN0TulOpT6c",
        "colab": {
          "base_uri": "https://localhost:8080/"
        },
        "outputId": "b889a1a0-ded8-4984-b8f0-5e9faf4ed27e"
      },
      "source": [
        "function_result_07()"
      ],
      "execution_count": 40,
      "outputs": [
        {
          "output_type": "stream",
          "name": "stdout",
          "text": [
            "index =  0, value = 0.0451146391\n",
            "index =  1, value = 0.0484413702\n",
            "index =  2, value = 0.0736457946\n",
            "index =  3, value = 0.0619188861\n",
            "index =  4, value = 0.0480850730\n",
            "index =  5, value = 0.0627061362\n",
            "index =  6, value = 0.0645561054\n",
            "index =  7, value = 0.0354561238\n",
            "index =  8, value = 0.0535291422\n",
            "index =  9, value = 0.0720367285\n"
          ]
        }
      ]
    },
    {
      "cell_type": "markdown",
      "metadata": {
        "id": "ccZVqUcgpT6c"
      },
      "source": [
        "## # 08. print the testing (mean) accuracy over batches at last 10 epochs"
      ]
    },
    {
      "cell_type": "code",
      "metadata": {
        "id": "yBSyyygFpT6c",
        "colab": {
          "base_uri": "https://localhost:8080/"
        },
        "outputId": "dfe0488d-534e-4f7d-a039-bd244a4fd2db"
      },
      "source": [
        "function_result_08()"
      ],
      "execution_count": 41,
      "outputs": [
        {
          "output_type": "stream",
          "name": "stdout",
          "text": [
            "index =  0, value = 98.8375015259\n",
            "index =  1, value = 98.6999969482\n",
            "index =  2, value = 98.0875015259\n",
            "index =  3, value = 98.4000015259\n",
            "index =  4, value = 98.7624969482\n",
            "index =  5, value = 98.3249969482\n",
            "index =  6, value = 98.4499969482\n",
            "index =  7, value = 99.1500015259\n",
            "index =  8, value = 98.8000030518\n",
            "index =  9, value = 98.2125015259\n"
          ]
        }
      ]
    },
    {
      "cell_type": "markdown",
      "metadata": {
        "id": "tM2IUxQVpT6c"
      },
      "source": [
        "## # 09. print the best training (mean) accuracy within the last 10 epochs"
      ]
    },
    {
      "cell_type": "code",
      "metadata": {
        "id": "-cImK64ypT6c",
        "colab": {
          "base_uri": "https://localhost:8080/"
        },
        "outputId": "6add9f3c-e7b2-4619-aa1f-9859f8c030f9"
      },
      "source": [
        "function_result_09()"
      ],
      "execution_count": 42,
      "outputs": [
        {
          "output_type": "stream",
          "name": "stdout",
          "text": [
            "best training accuracy = 99.5599975586\n"
          ]
        }
      ]
    },
    {
      "cell_type": "markdown",
      "metadata": {
        "id": "0jWtRfhjpT6c"
      },
      "source": [
        "## # 10. print the best testing (mean) accuracy within the last 10 epochs"
      ]
    },
    {
      "cell_type": "code",
      "metadata": {
        "id": "O0rFbBUTpT6c",
        "colab": {
          "base_uri": "https://localhost:8080/"
        },
        "outputId": "f7218882-5a1b-46e7-c3aa-9e0debb7d496"
      },
      "source": [
        "function_result_10()"
      ],
      "execution_count": 43,
      "outputs": [
        {
          "output_type": "stream",
          "name": "stdout",
          "text": [
            "best testing accuracy = 99.1500015259\n"
          ]
        }
      ]
    },
    {
      "cell_type": "code",
      "metadata": {
        "id": "WYnopfPhGANs"
      },
      "source": [
        "# classifier.classifier_1.weight[:, 10]"
      ],
      "execution_count": 44,
      "outputs": []
    },
    {
      "cell_type": "code",
      "metadata": {
        "id": "U71rvnD13T79",
        "colab": {
          "base_uri": "https://localhost:8080/"
        },
        "outputId": "d8d75e16-59c8-44a1-aee4-3e9863d2edc8"
      },
      "source": [
        "print(max(accuracy_mean_test), np.argmax(accuracy_mean_test))\n",
        "print(max(accuracy_mean_train), np.argmax(accuracy_mean_train))"
      ],
      "execution_count": 45,
      "outputs": [
        {
          "output_type": "stream",
          "name": "stdout",
          "text": [
            "99.1500015258789 27\n",
            "99.71499633789062 10\n"
          ]
        }
      ]
    },
    {
      "cell_type": "code",
      "metadata": {
        "id": "uMusFg0hJuk-",
        "outputId": "284a57e9-dfb6-4c34-db0c-8e4927b14ae5",
        "colab": {
          "base_uri": "https://localhost:8080/"
        }
      },
      "source": [
        "accuracy_mean_train"
      ],
      "execution_count": 46,
      "outputs": [
        {
          "output_type": "execute_result",
          "data": {
            "text/plain": [
              "array([93.86499786, 98.55500031, 99.18499756, 99.34999847, 99.43000031,\n",
              "       99.63999939, 99.42500305, 99.55500031, 99.50499725, 99.61499786,\n",
              "       99.71499634, 99.33999634, 99.70500183, 99.45500183, 99.41999817,\n",
              "       99.44000244, 99.26000214, 99.36000061, 99.56500244, 99.48500061,\n",
              "       99.36499786, 99.25499725, 99.44000244, 99.48000336, 99.41999817,\n",
              "       99.33999634, 99.30999756, 99.43000031, 99.55999756, 99.47000122])"
            ]
          },
          "metadata": {},
          "execution_count": 46
        }
      ]
    },
    {
      "cell_type": "code",
      "metadata": {
        "id": "PFW5RiJuJzVA",
        "outputId": "a083a20d-1ac6-4a6a-883e-d6985d7c663d",
        "colab": {
          "base_uri": "https://localhost:8080/"
        }
      },
      "source": [
        "accuracy_mean_test"
      ],
      "execution_count": 47,
      "outputs": [
        {
          "output_type": "execute_result",
          "data": {
            "text/plain": [
              "array([97.875     , 98.41249847, 98.36250305, 98.48750305, 98.75      ,\n",
              "       98.53749847, 98.55000305, 98.13749695, 98.83750153, 98.65000153,\n",
              "       94.5625    , 98.875     , 98.5625    , 98.59999847, 98.69999695,\n",
              "       98.44999695, 98.5       , 98.92500305, 98.98750305, 98.5       ,\n",
              "       98.83750153, 98.69999695, 98.08750153, 98.40000153, 98.76249695,\n",
              "       98.32499695, 98.44999695, 99.15000153, 98.80000305, 98.21250153])"
            ]
          },
          "metadata": {},
          "execution_count": 47
        }
      ]
    }
  ]
}