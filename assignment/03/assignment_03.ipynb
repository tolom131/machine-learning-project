{
  "nbformat": 4,
  "nbformat_minor": 0,
  "metadata": {
    "colab": {
      "name": "assignment_02.ipynb",
      "provenance": [],
      "collapsed_sections": []
    },
    "kernelspec": {
      "name": "python3",
      "display_name": "Python 3.8.8 64-bit ('base': conda)"
    },
    "language_info": {
      "name": "python",
      "version": "3.8.8",
      "mimetype": "text/x-python",
      "codemirror_mode": {
        "name": "ipython",
        "version": 3
      },
      "pygments_lexer": "ipython3",
      "nbconvert_exporter": "python",
      "file_extension": ".py"
    },
    "interpreter": {
      "hash": "dca0ade3e726a953b501b15e8e990130d2b7799f14cfd9f4271676035ebe5511"
    },
    "accelerator": "GPU",
    "widgets": {
      "application/vnd.jupyter.widget-state+json": {
        "289f39fe16164130a962da1ab3967637": {
          "model_module": "@jupyter-widgets/controls",
          "model_name": "HBoxModel",
          "model_module_version": "1.5.0",
          "state": {
            "_view_name": "HBoxView",
            "_dom_classes": [],
            "_model_name": "HBoxModel",
            "_view_module": "@jupyter-widgets/controls",
            "_model_module_version": "1.5.0",
            "_view_count": null,
            "_view_module_version": "1.5.0",
            "box_style": "",
            "layout": "IPY_MODEL_fe337772f7bc4f83b0311772f4457226",
            "_model_module": "@jupyter-widgets/controls",
            "children": [
              "IPY_MODEL_8f301429eb7945b99a62e80abf2bade6",
              "IPY_MODEL_feab9d9fec97448ebc4dbc89c4301e21",
              "IPY_MODEL_5360f55165524ad4ba4d9f82947edfa0"
            ]
          }
        },
        "fe337772f7bc4f83b0311772f4457226": {
          "model_module": "@jupyter-widgets/base",
          "model_name": "LayoutModel",
          "model_module_version": "1.2.0",
          "state": {
            "_view_name": "LayoutView",
            "grid_template_rows": null,
            "right": null,
            "justify_content": null,
            "_view_module": "@jupyter-widgets/base",
            "overflow": null,
            "_model_module_version": "1.2.0",
            "_view_count": null,
            "flex_flow": null,
            "width": null,
            "min_width": null,
            "border": null,
            "align_items": null,
            "bottom": null,
            "_model_module": "@jupyter-widgets/base",
            "top": null,
            "grid_column": null,
            "overflow_y": null,
            "overflow_x": null,
            "grid_auto_flow": null,
            "grid_area": null,
            "grid_template_columns": null,
            "flex": null,
            "_model_name": "LayoutModel",
            "justify_items": null,
            "grid_row": null,
            "max_height": null,
            "align_content": null,
            "visibility": null,
            "align_self": null,
            "height": null,
            "min_height": null,
            "padding": null,
            "grid_auto_rows": null,
            "grid_gap": null,
            "max_width": null,
            "order": null,
            "_view_module_version": "1.2.0",
            "grid_template_areas": null,
            "object_position": null,
            "object_fit": null,
            "grid_auto_columns": null,
            "margin": null,
            "display": null,
            "left": null
          }
        },
        "8f301429eb7945b99a62e80abf2bade6": {
          "model_module": "@jupyter-widgets/controls",
          "model_name": "HTMLModel",
          "model_module_version": "1.5.0",
          "state": {
            "_view_name": "HTMLView",
            "style": "IPY_MODEL_23bd8b49c3c34df09b26340f1a2b78d8",
            "_dom_classes": [],
            "description": "",
            "_model_name": "HTMLModel",
            "placeholder": "​",
            "_view_module": "@jupyter-widgets/controls",
            "_model_module_version": "1.5.0",
            "value": "100%",
            "_view_count": null,
            "_view_module_version": "1.5.0",
            "description_tooltip": null,
            "_model_module": "@jupyter-widgets/controls",
            "layout": "IPY_MODEL_dca2b6e0b1f746f48f741441d3d1c133"
          }
        },
        "feab9d9fec97448ebc4dbc89c4301e21": {
          "model_module": "@jupyter-widgets/controls",
          "model_name": "FloatProgressModel",
          "model_module_version": "1.5.0",
          "state": {
            "_view_name": "ProgressView",
            "style": "IPY_MODEL_e5504b5062ea44c68ba108d98801abb7",
            "_dom_classes": [],
            "description": "",
            "_model_name": "FloatProgressModel",
            "bar_style": "success",
            "max": 1000,
            "_view_module": "@jupyter-widgets/controls",
            "_model_module_version": "1.5.0",
            "value": 1000,
            "_view_count": null,
            "_view_module_version": "1.5.0",
            "orientation": "horizontal",
            "min": 0,
            "description_tooltip": null,
            "_model_module": "@jupyter-widgets/controls",
            "layout": "IPY_MODEL_54cd5afbf61945bd953ae3d541d9cc44"
          }
        },
        "5360f55165524ad4ba4d9f82947edfa0": {
          "model_module": "@jupyter-widgets/controls",
          "model_name": "HTMLModel",
          "model_module_version": "1.5.0",
          "state": {
            "_view_name": "HTMLView",
            "style": "IPY_MODEL_322f5a5ea1df4f9c8691332113861da0",
            "_dom_classes": [],
            "description": "",
            "_model_name": "HTMLModel",
            "placeholder": "​",
            "_view_module": "@jupyter-widgets/controls",
            "_model_module_version": "1.5.0",
            "value": " 1000/1000 [01:16&lt;00:00, 13.30it/s]",
            "_view_count": null,
            "_view_module_version": "1.5.0",
            "description_tooltip": null,
            "_model_module": "@jupyter-widgets/controls",
            "layout": "IPY_MODEL_ced84db9fe5043d197ffd175f0f760e3"
          }
        },
        "23bd8b49c3c34df09b26340f1a2b78d8": {
          "model_module": "@jupyter-widgets/controls",
          "model_name": "DescriptionStyleModel",
          "model_module_version": "1.5.0",
          "state": {
            "_view_name": "StyleView",
            "_model_name": "DescriptionStyleModel",
            "description_width": "",
            "_view_module": "@jupyter-widgets/base",
            "_model_module_version": "1.5.0",
            "_view_count": null,
            "_view_module_version": "1.2.0",
            "_model_module": "@jupyter-widgets/controls"
          }
        },
        "dca2b6e0b1f746f48f741441d3d1c133": {
          "model_module": "@jupyter-widgets/base",
          "model_name": "LayoutModel",
          "model_module_version": "1.2.0",
          "state": {
            "_view_name": "LayoutView",
            "grid_template_rows": null,
            "right": null,
            "justify_content": null,
            "_view_module": "@jupyter-widgets/base",
            "overflow": null,
            "_model_module_version": "1.2.0",
            "_view_count": null,
            "flex_flow": null,
            "width": null,
            "min_width": null,
            "border": null,
            "align_items": null,
            "bottom": null,
            "_model_module": "@jupyter-widgets/base",
            "top": null,
            "grid_column": null,
            "overflow_y": null,
            "overflow_x": null,
            "grid_auto_flow": null,
            "grid_area": null,
            "grid_template_columns": null,
            "flex": null,
            "_model_name": "LayoutModel",
            "justify_items": null,
            "grid_row": null,
            "max_height": null,
            "align_content": null,
            "visibility": null,
            "align_self": null,
            "height": null,
            "min_height": null,
            "padding": null,
            "grid_auto_rows": null,
            "grid_gap": null,
            "max_width": null,
            "order": null,
            "_view_module_version": "1.2.0",
            "grid_template_areas": null,
            "object_position": null,
            "object_fit": null,
            "grid_auto_columns": null,
            "margin": null,
            "display": null,
            "left": null
          }
        },
        "e5504b5062ea44c68ba108d98801abb7": {
          "model_module": "@jupyter-widgets/controls",
          "model_name": "ProgressStyleModel",
          "model_module_version": "1.5.0",
          "state": {
            "_view_name": "StyleView",
            "_model_name": "ProgressStyleModel",
            "description_width": "",
            "_view_module": "@jupyter-widgets/base",
            "_model_module_version": "1.5.0",
            "_view_count": null,
            "_view_module_version": "1.2.0",
            "bar_color": null,
            "_model_module": "@jupyter-widgets/controls"
          }
        },
        "54cd5afbf61945bd953ae3d541d9cc44": {
          "model_module": "@jupyter-widgets/base",
          "model_name": "LayoutModel",
          "model_module_version": "1.2.0",
          "state": {
            "_view_name": "LayoutView",
            "grid_template_rows": null,
            "right": null,
            "justify_content": null,
            "_view_module": "@jupyter-widgets/base",
            "overflow": null,
            "_model_module_version": "1.2.0",
            "_view_count": null,
            "flex_flow": null,
            "width": null,
            "min_width": null,
            "border": null,
            "align_items": null,
            "bottom": null,
            "_model_module": "@jupyter-widgets/base",
            "top": null,
            "grid_column": null,
            "overflow_y": null,
            "overflow_x": null,
            "grid_auto_flow": null,
            "grid_area": null,
            "grid_template_columns": null,
            "flex": null,
            "_model_name": "LayoutModel",
            "justify_items": null,
            "grid_row": null,
            "max_height": null,
            "align_content": null,
            "visibility": null,
            "align_self": null,
            "height": null,
            "min_height": null,
            "padding": null,
            "grid_auto_rows": null,
            "grid_gap": null,
            "max_width": null,
            "order": null,
            "_view_module_version": "1.2.0",
            "grid_template_areas": null,
            "object_position": null,
            "object_fit": null,
            "grid_auto_columns": null,
            "margin": null,
            "display": null,
            "left": null
          }
        },
        "322f5a5ea1df4f9c8691332113861da0": {
          "model_module": "@jupyter-widgets/controls",
          "model_name": "DescriptionStyleModel",
          "model_module_version": "1.5.0",
          "state": {
            "_view_name": "StyleView",
            "_model_name": "DescriptionStyleModel",
            "description_width": "",
            "_view_module": "@jupyter-widgets/base",
            "_model_module_version": "1.5.0",
            "_view_count": null,
            "_view_module_version": "1.2.0",
            "_model_module": "@jupyter-widgets/controls"
          }
        },
        "ced84db9fe5043d197ffd175f0f760e3": {
          "model_module": "@jupyter-widgets/base",
          "model_name": "LayoutModel",
          "model_module_version": "1.2.0",
          "state": {
            "_view_name": "LayoutView",
            "grid_template_rows": null,
            "right": null,
            "justify_content": null,
            "_view_module": "@jupyter-widgets/base",
            "overflow": null,
            "_model_module_version": "1.2.0",
            "_view_count": null,
            "flex_flow": null,
            "width": null,
            "min_width": null,
            "border": null,
            "align_items": null,
            "bottom": null,
            "_model_module": "@jupyter-widgets/base",
            "top": null,
            "grid_column": null,
            "overflow_y": null,
            "overflow_x": null,
            "grid_auto_flow": null,
            "grid_area": null,
            "grid_template_columns": null,
            "flex": null,
            "_model_name": "LayoutModel",
            "justify_items": null,
            "grid_row": null,
            "max_height": null,
            "align_content": null,
            "visibility": null,
            "align_self": null,
            "height": null,
            "min_height": null,
            "padding": null,
            "grid_auto_rows": null,
            "grid_gap": null,
            "max_width": null,
            "order": null,
            "_view_module_version": "1.2.0",
            "grid_template_areas": null,
            "object_position": null,
            "object_fit": null,
            "grid_auto_columns": null,
            "margin": null,
            "display": null,
            "left": null
          }
        }
      }
    }
  },
  "cells": [
    {
      "cell_type": "markdown",
      "metadata": {
        "id": "K29I-OwCEYzW",
        "outputId": "db8b297c-a4b8-457a-b43f-7570135306c7"
      },
      "source": [
        "# Logistic regression for binary classification"
      ]
    },
    {
      "cell_type": "markdown",
      "metadata": {
        "id": "un_ZnrheTPIQ"
      },
      "source": [
        "## import libraries"
      ]
    },
    {
      "cell_type": "code",
      "metadata": {
        "id": "agAI_NRCTPIS"
      },
      "source": [
        "import numpy as np\n",
        "import matplotlib.pyplot as plt\n",
        "import os\n",
        "from tqdm import tqdm, tqdm_notebook"
      ],
      "execution_count": 57,
      "outputs": []
    },
    {
      "cell_type": "markdown",
      "metadata": {
        "id": "-MwW4w2eTPIY"
      },
      "source": [
        "## load data"
      ]
    },
    {
      "cell_type": "code",
      "metadata": {
        "colab": {
          "base_uri": "https://localhost:8080/"
        },
        "id": "eyxrsZcHTPIa",
        "outputId": "7f6e05f4-e31a-4fc9-9630-a52eb1399d3a"
      },
      "source": [
        "directory_data  = './data/'\n",
        "filename_data   = 'assignment_03_data.npz'\n",
        "data            = np.load(os.path.join(directory_data, filename_data))\n",
        "\n",
        "x_train = data['x_train']\n",
        "y_train = data['y_train']\n",
        "\n",
        "x_test  = data['x_test']\n",
        "y_test  = data['y_test']\n",
        "\n",
        "print('*************************************************')\n",
        "print('size of x_train :', x_train.shape)\n",
        "print('size of y_train :', y_train.shape)\n",
        "print('*************************************************')\n",
        "print('size of x_test :', x_test.shape)\n",
        "print('size of y_test :', y_test.shape)\n",
        "print('*************************************************')\n",
        "print('number of training image :', x_train.shape[0])\n",
        "print('height of training image :', x_train.shape[1])\n",
        "print('width of training image :', x_train.shape[2])\n",
        "print('*************************************************')\n",
        "print('number of testing image :', x_test.shape[0])\n",
        "print('height of testing image :', x_test.shape[1])\n",
        "print('width of testing image :', x_test.shape[2])\n",
        "print('*************************************************')"
      ],
      "execution_count": 9,
      "outputs": [
        {
          "output_type": "stream",
          "name": "stdout",
          "text": [
            "*************************************************\n",
            "size of x_train : (10000, 28, 28)\n",
            "size of y_train : (10000,)\n",
            "*************************************************\n",
            "size of x_test : (1800, 28, 28)\n",
            "size of y_test : (1800,)\n",
            "*************************************************\n",
            "number of training image : 10000\n",
            "height of training image : 28\n",
            "width of training image : 28\n",
            "*************************************************\n",
            "number of testing image : 1800\n",
            "height of testing image : 28\n",
            "width of testing image : 28\n",
            "*************************************************\n"
          ]
        }
      ]
    },
    {
      "cell_type": "markdown",
      "metadata": {
        "id": "GW-MD8iaTPIg"
      },
      "source": [
        "```console\n",
        "\n",
        "$ git commit -m \"YOUR MESSAGE\" assignment_03.ipynb\n",
        "\n",
        "```"
      ]
    },
    {
      "cell_type": "markdown",
      "metadata": {
        "id": "FadEiG-KTPIi"
      },
      "source": [
        "## vectorize image data"
      ]
    },
    {
      "cell_type": "code",
      "metadata": {
        "colab": {
          "base_uri": "https://localhost:8080/"
        },
        "id": "8Q6D1LUhTPIk",
        "outputId": "2b596dee-2ede-448b-d9c1-e34b3794548c"
      },
      "source": [
        "vector_x_train  = x_train.reshape(x_train.shape[0], x_train.shape[1] * x_train.shape[2])\n",
        "vector_x_test   = x_test.reshape(x_test.shape[0], x_test.shape[1] * x_test.shape[2])\n",
        "\n",
        "print(vector_x_train.shape)\n",
        "print(vector_x_test.shape)"
      ],
      "execution_count": 10,
      "outputs": [
        {
          "output_type": "stream",
          "name": "stdout",
          "text": [
            "(10000, 784)\n",
            "(1800, 784)\n"
          ]
        }
      ]
    },
    {
      "cell_type": "markdown",
      "metadata": {
        "id": "_3mJBlD1TPIl"
      },
      "source": [
        "```console\n",
        "\n",
        "$ git commit -m \"YOUR MESSAGE\" assignment_03.ipynb\n",
        "\n",
        "```"
      ]
    },
    {
      "cell_type": "markdown",
      "metadata": {
        "id": "h_KovGTATPIm"
      },
      "source": [
        "## index for each class"
      ]
    },
    {
      "cell_type": "code",
      "metadata": {
        "id": "_yGVLwW0TPIn"
      },
      "source": [
        "index_train_0 = np.where(np.array(y_train) == 0, True, False)\n",
        "index_train_1 = np.where(np.array(y_train) == 1, True, False)\n",
        "\n",
        "index_test_0 = np.where(np.array(y_test) == 0, True, False)\n",
        "index_test_1 = np.where(np.array(y_test) == 1, True, False)"
      ],
      "execution_count": 11,
      "outputs": []
    },
    {
      "cell_type": "markdown",
      "metadata": {
        "id": "xKnMDggITPIn"
      },
      "source": [
        "```console\n",
        "\n",
        "$ git commit -m \"YOUR MESSAGE\" assignment_03.ipynb\n",
        "\n",
        "```"
      ]
    },
    {
      "cell_type": "markdown",
      "metadata": {
        "id": "QSFq7HMoTPIo"
      },
      "source": [
        "## plot data"
      ]
    },
    {
      "cell_type": "code",
      "metadata": {
        "id": "p4bHp-EeTPIp"
      },
      "source": [
        "def plot_data_grid(data, index_data, nRow, nCol):\n",
        "\n",
        "    fig, axes = plt.subplots(nRow, nCol, constrained_layout=True, figsize=(nCol * 3, nRow * 3))\n",
        "\n",
        "    for i in range(nRow):\n",
        "        for j in range(nCol):\n",
        "\n",
        "            k       = i * nCol + j\n",
        "            index   = index_data[k]\n",
        "\n",
        "            axes[i, j].imshow(data[index], cmap='gray', vmin=0, vmax=1)\n",
        "            axes[i, j].xaxis.set_visible(False)\n",
        "            axes[i, j].yaxis.set_visible(False)\n",
        "\n",
        "    plt.show()"
      ],
      "execution_count": 12,
      "outputs": []
    },
    {
      "cell_type": "code",
      "metadata": {
        "id": "pEM-8J_UTPIp"
      },
      "source": [
        "nRow    = 2\n",
        "nCol    = 4\n",
        "nPlot   = nRow * nCol"
      ],
      "execution_count": 13,
      "outputs": []
    },
    {
      "cell_type": "code",
      "metadata": {
        "colab": {
          "base_uri": "https://localhost:8080/",
          "height": 438
        },
        "id": "aPr-bYEtTPIq",
        "outputId": "ea102db5-7a9b-4da1-d952-5c4b92bd25aa"
      },
      "source": [
        "\n",
        "index_data_0 = np.array(range(nPlot))\n",
        "plot_data_grid(x_train, index_data_0, nRow, nCol)"
      ],
      "execution_count": 14,
      "outputs": [
        {
          "output_type": "display_data",
          "data": {
            "image/png": "[encoded data removed]",
            "text/plain": [
              "<Figure size 864x432 with 8 Axes>"
            ]
          },
          "metadata": {
            "needs_background": "light"
          }
        }
      ]
    },
    {
      "cell_type": "code",
      "metadata": {
        "colab": {
          "base_uri": "https://localhost:8080/",
          "height": 438
        },
        "id": "pJotvuN6TPIr",
        "outputId": "defac83e-8822-4e6b-dca5-8fd89586a439"
      },
      "source": [
        "index_data_1 = index_data_0 + 5000\n",
        "plot_data_grid(x_train, index_data_1, nRow, nCol)"
      ],
      "execution_count": 15,
      "outputs": [
        {
          "output_type": "display_data",
          "data": {
            "image/png": "[encoded data removed]",
            "text/plain": [
              "<Figure size 864x432 with 8 Axes>"
            ]
          },
          "metadata": {
            "needs_background": "light"
          }
        }
      ]
    },
    {
      "cell_type": "markdown",
      "metadata": {
        "id": "ko6X_-QsTPIr"
      },
      "source": [
        "```console\n",
        "\n",
        "$ git commit -m \"YOUR MESSAGE\" assignment_03.ipynb\n",
        "\n",
        "```"
      ]
    },
    {
      "cell_type": "markdown",
      "metadata": {
        "id": "iulNvvW1TPIr"
      },
      "source": [
        "## linear layer"
      ]
    },
    {
      "cell_type": "code",
      "metadata": {
        "id": "mk6zzekMTPIs"
      },
      "source": [
        "def layer_linear(input, weight):\n",
        "\n",
        "    output = np.dot(input, weight)\n",
        "\n",
        "    return output"
      ],
      "execution_count": 16,
      "outputs": []
    },
    {
      "cell_type": "markdown",
      "metadata": {
        "id": "WtgLHAkGTPIs"
      },
      "source": [
        "```console\n",
        "\n",
        "$ git commit -m \"YOUR MESSAGE\" assignment_03.ipynb\n",
        "\n",
        "```"
      ]
    },
    {
      "cell_type": "markdown",
      "metadata": {
        "id": "2pxSFJ26TPIt"
      },
      "source": [
        "## activation function : Sigmoid"
      ]
    },
    {
      "cell_type": "code",
      "metadata": {
        "id": "ytufwqpMTPIt"
      },
      "source": [
        "def activation_sigmoid(input):\n",
        "\n",
        "    output = 1 / (1 + np.exp(-input))\n",
        "    \n",
        "    return output"
      ],
      "execution_count": 17,
      "outputs": []
    },
    {
      "cell_type": "markdown",
      "metadata": {
        "id": "SClRtmUnTPIu"
      },
      "source": [
        "```console\n",
        "\n",
        "$ git commit -m \"YOUR MESSAGE\" assignment_03.ipynb\n",
        "\n",
        "```"
      ]
    },
    {
      "cell_type": "markdown",
      "metadata": {
        "id": "_c4tJ-QITPIu"
      },
      "source": [
        "## compute prediction by the forward propagation of the neural network"
      ]
    },
    {
      "cell_type": "code",
      "metadata": {
        "id": "TWBWg3ZWTPIu"
      },
      "source": [
        "def compute_prediction(input, weight):\n",
        "\n",
        "    output      = layer_linear(input, weight)\n",
        "    prediction  = 1 / (1 + np.exp(-output))\n",
        "\n",
        "    return prediction"
      ],
      "execution_count": 18,
      "outputs": []
    },
    {
      "cell_type": "markdown",
      "metadata": {
        "id": "fNavn_XWTPIv"
      },
      "source": [
        "```console\n",
        "\n",
        "$ git commit -m \"YOUR MESSAGE\" assignment_03.ipynb\n",
        "\n",
        "```"
      ]
    },
    {
      "cell_type": "markdown",
      "metadata": {
        "id": "rvjNJCpdTPIv"
      },
      "source": [
        "## compute loss function"
      ]
    },
    {
      "cell_type": "code",
      "metadata": {
        "id": "cEgMsLumTPIv"
      },
      "source": [
        "def compute_loss(prediction, label):\n",
        "\n",
        "    loss            = -(label * np.log(prediction) + (1 - label) * np.log(1 - prediction))\n",
        "    loss_average    = np.average(loss)\n",
        "\n",
        "    return loss_average"
      ],
      "execution_count": 19,
      "outputs": []
    },
    {
      "cell_type": "markdown",
      "metadata": {
        "id": "fTyPLFxaTPIw"
      },
      "source": [
        "```console\n",
        "\n",
        "$ git commit -m \"YOUR MESSAGE\" assignment_03.ipynb\n",
        "\n",
        "```"
      ]
    },
    {
      "cell_type": "markdown",
      "metadata": {
        "id": "vHrtWVRPTPIw"
      },
      "source": [
        "## compute gradient"
      ]
    },
    {
      "cell_type": "code",
      "metadata": {
        "id": "J_m_uOm5TPIw"
      },
      "source": [
        "def compute_gradient(input, prediction, label):\n",
        "\n",
        "    prediction  = np.array(compute_prediction(input, weight))\n",
        "    residual    = (prediction - label).reshape(-1, 1) * np.array(input)\n",
        "    gradient    = np.mean(residual, axis=0)\n",
        "\n",
        "    return gradient"
      ],
      "execution_count": 20,
      "outputs": []
    },
    {
      "cell_type": "markdown",
      "metadata": {
        "id": "GnunGbiVTPIx"
      },
      "source": [
        "```console\n",
        "\n",
        "$ git commit -m \"YOUR MESSAGE\" assignment_03.ipynb\n",
        "\n",
        "```"
      ]
    },
    {
      "cell_type": "markdown",
      "metadata": {
        "id": "qEAr9MfDTPIx"
      },
      "source": [
        "## compute accuracy"
      ]
    },
    {
      "cell_type": "code",
      "metadata": {
        "id": "Zd8d41xnTPIx"
      },
      "source": [
        "def compute_accuracy(prediction, label):\n",
        "\n",
        "    threshold   = 0.5\n",
        "\n",
        "    prediction_np = np.array(prediction)\n",
        "    label_np      = np.array(label)\n",
        "    correct       = np.where(prediction_np >= threshold, 1, 0)\n",
        "    bCorrect      = np.where(correct == label_np, True, False)\n",
        "    accuracy      = np.sum(bCorrect) / len(label)\n",
        "\n",
        "    return accuracy"
      ],
      "execution_count": 82,
      "outputs": []
    },
    {
      "cell_type": "markdown",
      "metadata": {
        "id": "AEeruesNTPIy"
      },
      "source": [
        "```console\n",
        "\n",
        "$ git commit -m \"YOUR MESSAGE\" assignment_03.ipynb\n",
        "\n",
        "```"
      ]
    },
    {
      "cell_type": "markdown",
      "metadata": {
        "id": "LiZCJCe6TPIy"
      },
      "source": [
        "## initialize weight"
      ]
    },
    {
      "cell_type": "code",
      "metadata": {
        "colab": {
          "base_uri": "https://localhost:8080/"
        },
        "id": "rXNX8jPVTPIz",
        "outputId": "a6e16001-737e-4fc0-80a2-4b2da631d492"
      },
      "source": [
        "length_weight   = vector_x_train.shape[1]\n",
        "weight          = np.ones(length_weight)\n",
        "weight          = weight * 0.001\n",
        "\n",
        "print('number of weights: ', length_weight)"
      ],
      "execution_count": 86,
      "outputs": [
        {
          "output_type": "stream",
          "name": "stdout",
          "text": [
            "number of weights:  784\n"
          ]
        }
      ]
    },
    {
      "cell_type": "markdown",
      "metadata": {
        "id": "tY0DxtI8TPIz"
      },
      "source": [
        "```console\n",
        "\n",
        "$ git commit -m \"YOUR MESSAGE\" assignment_03.ipynb\n",
        "\n",
        "```"
      ]
    },
    {
      "cell_type": "markdown",
      "metadata": {
        "id": "Vv-TOIjdTPI0"
      },
      "source": [
        "## hyper-parameters"
      ]
    },
    {
      "cell_type": "code",
      "metadata": {
        "id": "0TYt2ByWTPI0"
      },
      "source": [
        "number_iteration    = 1000\n",
        "learning_rate       = 0.1"
      ],
      "execution_count": 24,
      "outputs": []
    },
    {
      "cell_type": "markdown",
      "metadata": {
        "id": "SpQtmmCXTPI0"
      },
      "source": [
        "## variables for optimization information"
      ]
    },
    {
      "cell_type": "code",
      "metadata": {
        "id": "a3bp3kE4TPI0"
      },
      "source": [
        "loss_train_iteration        = np.zeros(number_iteration)\n",
        "loss_test_iteration         = np.zeros(number_iteration)\n",
        "\n",
        "accuracy_train_iteration    = np.zeros(number_iteration)\n",
        "accuracy_test_iteration     = np.zeros(number_iteration)\n",
        "\n",
        "pred_0_train_mean_iteration = np.zeros(number_iteration) \n",
        "pred_0_train_std_iteration  = np.zeros(number_iteration) \n",
        "pred_1_train_mean_iteration = np.zeros(number_iteration) \n",
        "pred_1_train_std_iteration  = np.zeros(number_iteration) \n",
        "\n",
        "pred_0_test_mean_iteration = np.zeros(number_iteration) \n",
        "pred_0_test_std_iteration  = np.zeros(number_iteration) \n",
        "pred_1_test_mean_iteration = np.zeros(number_iteration) \n",
        "pred_1_test_std_iteration  = np.zeros(number_iteration) "
      ],
      "execution_count": 25,
      "outputs": []
    },
    {
      "cell_type": "markdown",
      "metadata": {
        "id": "6tyrKu0oTPI1"
      },
      "source": [
        "## gradient descent iterations"
      ]
    },
    {
      "cell_type": "code",
      "metadata": {
        "colab": {
          "base_uri": "https://localhost:8080/",
          "height": 843,
          "referenced_widgets": [
            "289f39fe16164130a962da1ab3967637",
            "fe337772f7bc4f83b0311772f4457226",
            "8f301429eb7945b99a62e80abf2bade6",
            "feab9d9fec97448ebc4dbc89c4301e21",
            "5360f55165524ad4ba4d9f82947edfa0",
            "23bd8b49c3c34df09b26340f1a2b78d8",
            "dca2b6e0b1f746f48f741441d3d1c133",
            "e5504b5062ea44c68ba108d98801abb7",
            "54cd5afbf61945bd953ae3d541d9cc44",
            "322f5a5ea1df4f9c8691332113861da0",
            "ced84db9fe5043d197ffd175f0f760e3"
          ]
        },
        "id": "JJs3fzVRTPI1",
        "outputId": "1d306a93-32f4-4afe-e132-166a31658a7b"
      },
      "source": [
        "for i in tqdm_notebook(range(number_iteration)):\n",
        "\n",
        "    prediction_train    = compute_prediction(vector_x_train, weight)\n",
        "    prediction_test     = compute_prediction(vector_x_test, weight)\n",
        "\n",
        "    gradient_train      = compute_gradient(vector_x_train, prediction_train, y_train)\n",
        "    weight              = weight - learning_rate * gradient_train\n",
        "\n",
        "    prediction_train    = compute_prediction(vector_x_train, weight)\n",
        "    prediction_test     = compute_prediction(vector_x_test, weight)\n",
        "\n",
        "    loss_train          = compute_loss(prediction_train, y_train)\n",
        "    loss_test           = compute_loss(prediction_test, y_test)\n",
        "\n",
        "    accuracy_train      = compute_accuracy(prediction_train, y_train)\n",
        "    accuracy_test       = compute_accuracy(prediction_test, y_test)\n",
        "\n",
        "    if i % 100 == 0:\n",
        "        print(f\"{i+1} of {number_iteration+1} : \")\n",
        "        print(\"\\tloss_train : \", loss_train)\n",
        "        print(\"\\taccuracy_train : \", accuracy_train)\n",
        "        print(\"\\tgradient_train : \", len(gradient_train))\n",
        "\n",
        "    pred_train_0    = prediction_train[index_train_0]\n",
        "    pred_train_1    = prediction_train[index_train_1]\n",
        "\n",
        "    pred_test_0     = prediction_test[index_test_0]\n",
        "    pred_test_1     = prediction_test[index_test_1]\n",
        "\n",
        "    pred_0_train_mean_iteration[i]  = np.mean(pred_train_0)\n",
        "    pred_0_train_std_iteration[i]   = np.std(pred_train_0)\n",
        "    pred_1_train_mean_iteration[i]  = np.mean(pred_train_1)\n",
        "    pred_1_train_std_iteration[i]   = np.std(pred_train_1)\n",
        "\n",
        "    pred_0_test_mean_iteration[i]   = np.mean(pred_train_0)\n",
        "    pred_0_test_std_iteration[i]    = np.std(pred_train_0)\n",
        "    pred_1_test_mean_iteration[i]   = np.mean(pred_train_1)\n",
        "    pred_1_test_std_iteration[i]    = np.std(pred_train_1)\n",
        "\n",
        "    loss_train_iteration[i]         = loss_train\n",
        "    loss_test_iteration[i]          = loss_test\n",
        "\n",
        "    accuracy_train_iteration[i]     = accuracy_train \n",
        "    accuracy_test_iteration[i]      = accuracy_test"
      ],
      "execution_count": 87,
      "outputs": [
        {
          "output_type": "stream",
          "name": "stderr",
          "text": [
            "/usr/local/lib/python3.7/dist-packages/ipykernel_launcher.py:1: TqdmDeprecationWarning: This function will be removed in tqdm==5.0.0\n",
            "Please use `tqdm.notebook.tqdm` instead of `tqdm.tqdm_notebook`\n",
            "  \"\"\"Entry point for launching an IPython kernel.\n"
          ]
        },
        {
          "output_type": "display_data",
          "data": {
            "application/vnd.jupyter.widget-view+json": {
              "model_id": "289f39fe16164130a962da1ab3967637",
              "version_minor": 0,
              "version_major": 2
            },
            "text/plain": [
              "  0%|          | 0/1000 [00:00<?, ?it/s]"
            ]
          },
          "metadata": {}
        },
        {
          "output_type": "stream",
          "name": "stdout",
          "text": [
            "1 of 1001 : \n",
            "\tloss_train :  0.430722493803818\n",
            "\taccuracy_train :  0.9823\n",
            "\tgradient_train :  784\n",
            "101 of 1001 : \n",
            "\tloss_train :  0.022858716252135036\n",
            "\taccuracy_train :  0.9972\n",
            "\tgradient_train :  784\n",
            "201 of 1001 : \n",
            "\tloss_train :  0.015284843677198106\n",
            "\taccuracy_train :  0.9974\n",
            "\tgradient_train :  784\n",
            "301 of 1001 : \n",
            "\tloss_train :  0.012325240903159293\n",
            "\taccuracy_train :  0.9975\n",
            "\tgradient_train :  784\n",
            "401 of 1001 : \n",
            "\tloss_train :  0.010673324922758163\n",
            "\taccuracy_train :  0.9974\n",
            "\tgradient_train :  784\n",
            "501 of 1001 : \n",
            "\tloss_train :  0.009591439281232093\n",
            "\taccuracy_train :  0.9977\n",
            "\tgradient_train :  784\n",
            "601 of 1001 : \n",
            "\tloss_train :  0.008814884325527853\n",
            "\taccuracy_train :  0.998\n",
            "\tgradient_train :  784\n",
            "701 of 1001 : \n",
            "\tloss_train :  0.008223314936486627\n",
            "\taccuracy_train :  0.9983\n",
            "\tgradient_train :  784\n",
            "801 of 1001 : \n",
            "\tloss_train :  0.007753439011811075\n",
            "\taccuracy_train :  0.9984\n",
            "\tgradient_train :  784\n",
            "901 of 1001 : \n",
            "\tloss_train :  0.007368487144346324\n",
            "\taccuracy_train :  0.9985\n",
            "\tgradient_train :  784\n"
          ]
        }
      ]
    },
    {
      "cell_type": "code",
      "metadata": {
        "id": "aZjulypU2wPt"
      },
      "source": [
        ""
      ],
      "execution_count": null,
      "outputs": []
    },
    {
      "cell_type": "markdown",
      "metadata": {
        "id": "V1nV8cT6TPI2"
      },
      "source": [
        "```console\n",
        "\n",
        "$ git commit -m \"YOUR MESSAGE\" assignment_03.ipynb\n",
        "\n",
        "```"
      ]
    },
    {
      "cell_type": "markdown",
      "metadata": {
        "id": "4pTFsq-qTPI2"
      },
      "source": [
        "## plot curve"
      ]
    },
    {
      "cell_type": "code",
      "metadata": {
        "id": "TaZIjoiRTPI2"
      },
      "source": [
        "def plot_curve(data, x_label, y_label, title):\n",
        "    \n",
        "    plt.figure(figsize=(8, 6))\n",
        "    plt.title(title)\n",
        "\n",
        "    plt.plot(range(len(data)), data, '-', color='red')\n",
        "    \n",
        "    plt.xlabel(x_label)\n",
        "    plt.ylabel(y_label)\n",
        "\n",
        "    plt.tight_layout()\n",
        "    plt.show()"
      ],
      "execution_count": 88,
      "outputs": []
    },
    {
      "cell_type": "code",
      "metadata": {
        "id": "eoFUzZYBTPI2"
      },
      "source": [
        "def plot_curve2(data1, label_data1, data2, label_data2, x_label, y_label, title):\n",
        "    \n",
        "    plt.figure(figsize=(8, 6))\n",
        "    plt.title(title)\n",
        "\n",
        "    plt.plot(range(len(data1)), data1, '-', color = 'blue', label = label_data1)\n",
        "    plt.plot(range(len(data2)), data2, '-', color = 'red', label = label_data2)\n",
        "     \n",
        "    plt.xlabel(x_label)\n",
        "    plt.ylabel(y_label)\n",
        "\n",
        "    plt.tight_layout()\n",
        "    plt.show()"
      ],
      "execution_count": 89,
      "outputs": []
    },
    {
      "cell_type": "code",
      "metadata": {
        "id": "TD2cNK0_TPI3"
      },
      "source": [
        "def plot_curve_error(data_mean, data_std, x_label, y_label, title):\n",
        "\n",
        "    plt.figure(figsize=(8, 6))\n",
        "    plt.title(title)\n",
        "\n",
        "    alpha = 0.3\n",
        "    \n",
        "    plt.plot(range(len(data_mean)), data_mean, '-', color = 'red')\n",
        "    plt.fill_between(range(len(data_mean)), data_mean - data_std, data_mean + data_std, facecolor = 'blue', alpha = alpha) \n",
        "    \n",
        "    plt.xlabel(x_label)\n",
        "    plt.ylabel(y_label)\n",
        "\n",
        "    plt.tight_layout()\n",
        "    plt.show()"
      ],
      "execution_count": 90,
      "outputs": []
    },
    {
      "cell_type": "code",
      "metadata": {
        "id": "N2DjgWX7TPI3"
      },
      "source": [
        "def plot_curve_error2(data1_mean, data1_std, data1_label, data2_mean, data2_std, data2_label, x_label, y_label, title):\n",
        "    \n",
        "    plt.figure(figsize=(8, 6))\n",
        "    plt.title(title)\n",
        "\n",
        "    alpha = 0.3\n",
        "\n",
        "    plt.plot(range(len(data1_mean)), data1_mean, '-', color = 'blue', label = data1_label)\n",
        "    plt.fill_between(range(len(data1_mean)), data1_mean - data1_std, data1_mean + data1_std, facecolor = 'blue', alpha = alpha)\n",
        "\n",
        "    plt.plot(range(len(data2_mean)), data2_mean, '-', color = 'red', label = data2_label)\n",
        "    plt.fill_between(range(len(data2_mean)), data2_mean - data2_std, data2_mean + data2_std, facecolor = 'red', alpha = alpha)\n",
        "\n",
        "    plt.xlabel(x_label)\n",
        "    plt.ylabel(y_label)\n",
        "\n",
        "    plt.tight_layout()\n",
        "    plt.show()"
      ],
      "execution_count": 91,
      "outputs": []
    },
    {
      "cell_type": "markdown",
      "metadata": {
        "id": "bA_hqpWBTPI3"
      },
      "source": [
        "## loss (training) curve"
      ]
    },
    {
      "cell_type": "code",
      "metadata": {
        "colab": {
          "base_uri": "https://localhost:8080/",
          "height": 441
        },
        "id": "V1zyq4nDTPI4",
        "outputId": "a2844d09-a99b-4149-df21-4dbf465ea8dc"
      },
      "source": [
        "plot_curve(loss_train_iteration, 'iteration', 'loss', 'loss (training) curve')"
      ],
      "execution_count": 92,
      "outputs": [
        {
          "output_type": "display_data",
          "data": {
            "image/png": "[encoded data removed]",
            "text/plain": [
              "<Figure size 576x432 with 1 Axes>"
            ]
          },
          "metadata": {
            "needs_background": "light"
          }
        }
      ]
    },
    {
      "cell_type": "markdown",
      "metadata": {
        "id": "U68OCOE0TPI4"
      },
      "source": [
        "```console\n",
        "\n",
        "$ git commit -m \"YOUR MESSAGE\" assignment_03.ipynb\n",
        "\n",
        "```"
      ]
    },
    {
      "cell_type": "markdown",
      "metadata": {
        "id": "mHVMMvzJTPI4"
      },
      "source": [
        "## loss (testing) curve"
      ]
    },
    {
      "cell_type": "code",
      "metadata": {
        "colab": {
          "base_uri": "https://localhost:8080/",
          "height": 441
        },
        "id": "xKkwAsHgTPI5",
        "outputId": "f6cc12b7-2a7c-4d83-d4e8-2c64629d536e"
      },
      "source": [
        "plot_curve(loss_test_iteration, 'iteration', 'loss', 'loss (testing) curve')"
      ],
      "execution_count": 93,
      "outputs": [
        {
          "output_type": "display_data",
          "data": {
            "image/png": "[encoded data removed]",
            "text/plain": [
              "<Figure size 576x432 with 1 Axes>"
            ]
          },
          "metadata": {
            "needs_background": "light"
          }
        }
      ]
    },
    {
      "cell_type": "markdown",
      "metadata": {
        "id": "L0qpmCzATPI5"
      },
      "source": [
        "```console\n",
        "\n",
        "$ git commit -m \"YOUR MESSAGE\" assignment_03.ipynb\n",
        "\n",
        "```"
      ]
    },
    {
      "cell_type": "markdown",
      "metadata": {
        "id": "JbV6aeSWTPI5"
      },
      "source": [
        "## accuracy (training) curve"
      ]
    },
    {
      "cell_type": "markdown",
      "metadata": {
        "id": "_5TPHBUCv7lL"
      },
      "source": [
        "for commit, text is included."
      ]
    },
    {
      "cell_type": "code",
      "metadata": {
        "colab": {
          "base_uri": "https://localhost:8080/",
          "height": 441
        },
        "id": "woAEVhCBTPI6",
        "outputId": "60ab900d-8fce-4643-913d-1df135141ec6"
      },
      "source": [
        "plot_curve(accuracy_train_iteration, 'iteration', 'accuracy', 'accuracy (training) curve')"
      ],
      "execution_count": 94,
      "outputs": [
        {
          "output_type": "display_data",
          "data": {
            "image/png": "[encoded data removed]",
            "text/plain": [
              "<Figure size 576x432 with 1 Axes>"
            ]
          },
          "metadata": {
            "needs_background": "light"
          }
        }
      ]
    },
    {
      "cell_type": "markdown",
      "metadata": {
        "id": "lpX1bTowTPI6"
      },
      "source": [
        "```console\n",
        "\n",
        "$ git commit -m \"YOUR MESSAGE\" assignment_03.ipynb\n",
        "\n",
        "```"
      ]
    },
    {
      "cell_type": "markdown",
      "metadata": {
        "id": "ThKPwsB0TPI7"
      },
      "source": [
        "## accuracy (testing) curve"
      ]
    },
    {
      "cell_type": "code",
      "metadata": {
        "colab": {
          "base_uri": "https://localhost:8080/",
          "height": 441
        },
        "id": "JbbFqX74TPI7",
        "outputId": "f794651e-9cbb-4559-9ab8-ab76686df795"
      },
      "source": [
        "plot_curve(accuracy_test_iteration, 'iteration', 'accuracy', 'accuracy (testing) curve')"
      ],
      "execution_count": 95,
      "outputs": [
        {
          "output_type": "display_data",
          "data": {
            "image/png": "[encoded data removed]",
            "text/plain": [
              "<Figure size 576x432 with 1 Axes>"
            ]
          },
          "metadata": {
            "needs_background": "light"
          }
        }
      ]
    },
    {
      "cell_type": "markdown",
      "metadata": {
        "id": "r_bmhkDhTPI7"
      },
      "source": [
        "```console\n",
        "\n",
        "$ git commit -m \"YOUR MESSAGE\" assignment_03.ipynb\n",
        "\n",
        "```"
      ]
    },
    {
      "cell_type": "markdown",
      "metadata": {
        "id": "vyLPmvnfTPI7"
      },
      "source": [
        "## plot prediction values"
      ]
    },
    {
      "cell_type": "code",
      "metadata": {
        "colab": {
          "base_uri": "https://localhost:8080/",
          "height": 441
        },
        "id": "lydAUB_6TPI8",
        "outputId": "dab411a6-721f-432b-9715-4f4242c4ccfd"
      },
      "source": [
        "plot_curve_error(pred_0_train_mean_iteration, pred_0_train_std_iteration, 'iteration', 'prediction', 'prediction (training : 0)')"
      ],
      "execution_count": 97,
      "outputs": [
        {
          "output_type": "display_data",
          "data": {
            "image/png": "[encoded data removed]",
            "text/plain": [
              "<Figure size 576x432 with 1 Axes>"
            ]
          },
          "metadata": {
            "needs_background": "light"
          }
        }
      ]
    },
    {
      "cell_type": "markdown",
      "metadata": {
        "id": "7UxTXuTgTPI8"
      },
      "source": [
        "```console\n",
        "\n",
        "$ git commit -m \"YOUR MESSAGE\" assignment_03.ipynb\n",
        "\n",
        "```"
      ]
    },
    {
      "cell_type": "code",
      "metadata": {
        "colab": {
          "base_uri": "https://localhost:8080/",
          "height": 441
        },
        "id": "FlmKgCQnTPI8",
        "outputId": "ac1e4b1f-4fc4-4ec8-9c45-c8010a117992"
      },
      "source": [
        "plot_curve_error(pred_1_train_mean_iteration, pred_1_train_std_iteration, 'iteration', 'prediction', 'prediction (training : 1)')"
      ],
      "execution_count": 98,
      "outputs": [
        {
          "output_type": "display_data",
          "data": {
            "image/png": "[encoded data removed]",
            "text/plain": [
              "<Figure size 576x432 with 1 Axes>"
            ]
          },
          "metadata": {
            "needs_background": "light"
          }
        }
      ]
    },
    {
      "cell_type": "markdown",
      "metadata": {
        "id": "BfrOqfwNTPI9"
      },
      "source": [
        "```console\n",
        "\n",
        "$ git commit -m \"YOUR MESSAGE\" assignment_03.ipynb\n",
        "\n",
        "```"
      ]
    },
    {
      "cell_type": "code",
      "metadata": {
        "colab": {
          "base_uri": "https://localhost:8080/",
          "height": 441
        },
        "id": "PrU-1XiYTPI9",
        "outputId": "6f7edea4-afca-4db7-be27-f78e6215b2db"
      },
      "source": [
        "plot_curve_error(pred_0_test_mean_iteration, pred_0_test_std_iteration, 'iteration', 'prediction', 'prediction (testing : 0)')"
      ],
      "execution_count": 99,
      "outputs": [
        {
          "output_type": "display_data",
          "data": {
            "image/png": "[encoded data removed]",
            "text/plain": [
              "<Figure size 576x432 with 1 Axes>"
            ]
          },
          "metadata": {
            "needs_background": "light"
          }
        }
      ]
    },
    {
      "cell_type": "markdown",
      "metadata": {
        "id": "HK9oqnWeTPI9"
      },
      "source": [
        "```console\n",
        "\n",
        "$ git commit -m \"YOUR MESSAGE\" assignment_03.ipynb\n",
        "\n",
        "```"
      ]
    },
    {
      "cell_type": "code",
      "metadata": {
        "colab": {
          "base_uri": "https://localhost:8080/",
          "height": 441
        },
        "id": "IsFtxQAlTPI9",
        "outputId": "63c3546b-ff26-49dd-bfb7-b1c2cc5e9f72"
      },
      "source": [
        "plot_curve_error(pred_1_test_mean_iteration, pred_1_test_std_iteration, 'iteration', 'prediction', 'prediction (testing : 1)')"
      ],
      "execution_count": 38,
      "outputs": [
        {
          "output_type": "display_data",
          "data": {
            "image/png": "[encoded data removed]",
            "text/plain": [
              "<Figure size 576x432 with 1 Axes>"
            ]
          },
          "metadata": {
            "needs_background": "light"
          }
        }
      ]
    },
    {
      "cell_type": "markdown",
      "metadata": {
        "id": "rgia1I4yTPI-"
      },
      "source": [
        "```console\n",
        "\n",
        "$ git commit -m \"YOUR MESSAGE\" assignment_03.ipynb\n",
        "\n",
        "```"
      ]
    },
    {
      "cell_type": "markdown",
      "metadata": {
        "id": "fL4rB1aATPI-"
      },
      "source": [
        "## print values"
      ]
    },
    {
      "cell_type": "code",
      "metadata": {
        "id": "QpQi0MByTPI-"
      },
      "source": [
        "def print_curve(data, index):\n",
        "\n",
        "    for i in range(len(index)):\n",
        "\n",
        "        idx = index[i]\n",
        "        val = data[idx]\n",
        "\n",
        "        print('index = %4d, value = %12.10f' % (idx, val))"
      ],
      "execution_count": 100,
      "outputs": []
    },
    {
      "cell_type": "markdown",
      "metadata": {
        "id": "SIjrmmkaTPI-"
      },
      "source": [
        "## given iterations at which the values are presented"
      ]
    },
    {
      "cell_type": "code",
      "metadata": {
        "id": "5wW6e9JcTPI_"
      },
      "source": [
        "index = np.array([0, 100, 200, 300, 400, 500, 600, 700, 800, 900])"
      ],
      "execution_count": 101,
      "outputs": []
    },
    {
      "cell_type": "markdown",
      "metadata": {
        "id": "gyD0CcB8TPI_"
      },
      "source": [
        "## training loss"
      ]
    },
    {
      "cell_type": "code",
      "metadata": {
        "colab": {
          "base_uri": "https://localhost:8080/"
        },
        "id": "3aOCawx4TPI_",
        "outputId": "dacf6a84-fee2-4467-9a60-5aa32c35f976"
      },
      "source": [
        "print_curve(loss_train_iteration, index)"
      ],
      "execution_count": 102,
      "outputs": [
        {
          "output_type": "stream",
          "name": "stdout",
          "text": [
            "index =    0, value = 0.4307224938\n",
            "index =  100, value = 0.0228587163\n",
            "index =  200, value = 0.0152848437\n",
            "index =  300, value = 0.0123252409\n",
            "index =  400, value = 0.0106733249\n",
            "index =  500, value = 0.0095914393\n",
            "index =  600, value = 0.0088148843\n",
            "index =  700, value = 0.0082233149\n",
            "index =  800, value = 0.0077534390\n",
            "index =  900, value = 0.0073684871\n"
          ]
        }
      ]
    },
    {
      "cell_type": "markdown",
      "metadata": {
        "id": "XJlRrWghTPI_"
      },
      "source": [
        "```console\n",
        "\n",
        "$ git commit -m \"YOUR MESSAGE\" assignment_03.ipynb\n",
        "\n",
        "```"
      ]
    },
    {
      "cell_type": "markdown",
      "metadata": {
        "id": "2ZqR6gUBTPJA"
      },
      "source": [
        "## testing loss"
      ]
    },
    {
      "cell_type": "code",
      "metadata": {
        "colab": {
          "base_uri": "https://localhost:8080/"
        },
        "id": "mt5iBBYFTPJA",
        "outputId": "ee088997-f445-4354-b6d4-2ea20a836506"
      },
      "source": [
        "print_curve(loss_test_iteration, index)"
      ],
      "execution_count": 103,
      "outputs": [
        {
          "output_type": "stream",
          "name": "stdout",
          "text": [
            "index =    0, value = 0.4263057540\n",
            "index =  100, value = 0.0167458571\n",
            "index =  200, value = 0.0099479648\n",
            "index =  300, value = 0.0074345387\n",
            "index =  400, value = 0.0060961283\n",
            "index =  500, value = 0.0052563282\n",
            "index =  600, value = 0.0046772451\n",
            "index =  700, value = 0.0042526445\n",
            "index =  800, value = 0.0039275776\n",
            "index =  900, value = 0.0036706180\n"
          ]
        }
      ]
    },
    {
      "cell_type": "markdown",
      "metadata": {
        "id": "4fJQ_-k0TPJA"
      },
      "source": [
        "```console\n",
        "\n",
        "$ git commit -m \"YOUR MESSAGE\" assignment_03.ipynb\n",
        "\n",
        "```"
      ]
    },
    {
      "cell_type": "markdown",
      "metadata": {
        "id": "7ll0X5uQTPJA"
      },
      "source": [
        "## training accuracy"
      ]
    },
    {
      "cell_type": "code",
      "metadata": {
        "colab": {
          "base_uri": "https://localhost:8080/"
        },
        "id": "CuoK4VCCTPJB",
        "outputId": "cd55db71-c8a3-44fb-9696-92118481d2ed"
      },
      "source": [
        "print_curve(accuracy_train_iteration, index)"
      ],
      "execution_count": 104,
      "outputs": [
        {
          "output_type": "stream",
          "name": "stdout",
          "text": [
            "index =    0, value = 0.9823000000\n",
            "index =  100, value = 0.9972000000\n",
            "index =  200, value = 0.9974000000\n",
            "index =  300, value = 0.9975000000\n",
            "index =  400, value = 0.9974000000\n",
            "index =  500, value = 0.9977000000\n",
            "index =  600, value = 0.9980000000\n",
            "index =  700, value = 0.9983000000\n",
            "index =  800, value = 0.9984000000\n",
            "index =  900, value = 0.9985000000\n"
          ]
        }
      ]
    },
    {
      "cell_type": "markdown",
      "metadata": {
        "id": "fw1iU_OmTPJB"
      },
      "source": [
        "```console\n",
        "\n",
        "$ git commit -m \"YOUR MESSAGE\" assignment_03.ipynb\n",
        "\n",
        "```"
      ]
    },
    {
      "cell_type": "markdown",
      "metadata": {
        "id": "05e5DsFkTPJB"
      },
      "source": [
        "## testing accuracy"
      ]
    },
    {
      "cell_type": "code",
      "metadata": {
        "colab": {
          "base_uri": "https://localhost:8080/"
        },
        "id": "Y4uvnxVGTPJC",
        "outputId": "284fe38c-c3e0-49f6-9dfd-39d7a4b48d93"
      },
      "source": [
        "print_curve(accuracy_test_iteration, index)"
      ],
      "execution_count": 105,
      "outputs": [
        {
          "output_type": "stream",
          "name": "stdout",
          "text": [
            "index =    0, value = 0.9850000000\n",
            "index =  100, value = 0.9994444444\n",
            "index =  200, value = 0.9994444444\n",
            "index =  300, value = 1.0000000000\n",
            "index =  400, value = 1.0000000000\n",
            "index =  500, value = 1.0000000000\n",
            "index =  600, value = 1.0000000000\n",
            "index =  700, value = 1.0000000000\n",
            "index =  800, value = 1.0000000000\n",
            "index =  900, value = 1.0000000000\n"
          ]
        }
      ]
    },
    {
      "cell_type": "markdown",
      "metadata": {
        "id": "urxQO2-9TPJC"
      },
      "source": [
        "```console\n",
        "\n",
        "$ git commit -m \"YOUR MESSAGE\" assignment_03.ipynb\n",
        "\n",
        "```"
      ]
    },
    {
      "cell_type": "markdown",
      "metadata": {
        "id": "ZcXiqdxhTPJD"
      },
      "source": [
        "## functions for presenting the results"
      ]
    },
    {
      "cell_type": "code",
      "metadata": {
        "id": "rbWg7EDMTPJD"
      },
      "source": [
        "def function_results_01(*args):\n",
        "    index_data_0 = np.array(range(nPlot))\n",
        "    plot_data_grid(x_train, index_data_0, nRow, nCol)\n",
        "    pass"
      ],
      "execution_count": 106,
      "outputs": []
    },
    {
      "cell_type": "code",
      "metadata": {
        "id": "TNY_yeifTPJD"
      },
      "source": [
        "def function_results_02(*args):\n",
        "    index_data_1 = index_data_0 + 5000\n",
        "    plot_data_grid(x_train, index_data_1, nRow, nCol)   \n",
        "    pass"
      ],
      "execution_count": 108,
      "outputs": []
    },
    {
      "cell_type": "code",
      "metadata": {
        "id": "8jgIQuNPTPJD"
      },
      "source": [
        "def function_results_03(*args):\n",
        "    plot_curve(loss_train_iteration, 'iteration', 'loss', 'loss (training) curve')\n",
        "    pass"
      ],
      "execution_count": 110,
      "outputs": []
    },
    {
      "cell_type": "code",
      "metadata": {
        "id": "FdTTQtz_TPJE"
      },
      "source": [
        "def function_results_04(*args):\n",
        "    plot_curve(loss_test_iteration, 'iteration', 'loss', 'loss (testing) curve')\n",
        "    pass"
      ],
      "execution_count": 112,
      "outputs": []
    },
    {
      "cell_type": "code",
      "metadata": {
        "id": "4Sp78zDCTPJE"
      },
      "source": [
        "def function_results_05(*args):\n",
        "    plot_curve(accuracy_train_iteration, 'iteration', 'accuracy', 'accuracy (training) curve')\n",
        "    pass"
      ],
      "execution_count": 114,
      "outputs": []
    },
    {
      "cell_type": "code",
      "metadata": {
        "id": "sbJKOAfLTPJE"
      },
      "source": [
        "def function_results_06(*args):\n",
        "    plot_curve(accuracy_test_iteration, 'iteration', 'accuracy', 'accuracy (testing) curve')\n",
        "    pass"
      ],
      "execution_count": 116,
      "outputs": []
    },
    {
      "cell_type": "code",
      "metadata": {
        "id": "EwqWVHdRTPJE"
      },
      "source": [
        "def function_results_07(*args):\n",
        "    plot_curve_error(pred_0_train_mean_iteration, pred_0_train_std_iteration, 'iteration', 'prediction', 'prediction (training : 0)')\n",
        "    pass"
      ],
      "execution_count": 118,
      "outputs": []
    },
    {
      "cell_type": "code",
      "metadata": {
        "id": "vNz6SkaHTPJF"
      },
      "source": [
        "def function_results_08(*args):\n",
        "    plot_curve_error(pred_1_train_mean_iteration, pred_1_train_std_iteration, 'iteration', 'prediction', 'prediction (training : 1)')\n",
        "    pass"
      ],
      "execution_count": 120,
      "outputs": []
    },
    {
      "cell_type": "code",
      "metadata": {
        "id": "L81RNN3wTPJF"
      },
      "source": [
        "def function_results_09(*args):\n",
        "    \n",
        "    pass"
      ],
      "execution_count": null,
      "outputs": []
    },
    {
      "cell_type": "code",
      "metadata": {
        "id": "U___JIbmTPJF"
      },
      "source": [
        "def function_results_10(*args):\n",
        "    \n",
        "    pass"
      ],
      "execution_count": null,
      "outputs": []
    },
    {
      "cell_type": "code",
      "metadata": {
        "id": "i1v4EBFKTPJF"
      },
      "source": [
        "def function_results_11(*args):\n",
        "    \n",
        "    pass"
      ],
      "execution_count": null,
      "outputs": []
    },
    {
      "cell_type": "code",
      "metadata": {
        "id": "EcZAt_zGTPJG"
      },
      "source": [
        "def function_results_12(*args):\n",
        "    \n",
        "    pass"
      ],
      "execution_count": null,
      "outputs": []
    },
    {
      "cell_type": "code",
      "metadata": {
        "id": "I0FH8SoxTPJG"
      },
      "source": [
        "def function_results_13(*args):\n",
        "    \n",
        "    pass"
      ],
      "execution_count": null,
      "outputs": []
    },
    {
      "cell_type": "code",
      "metadata": {
        "id": "iQBZC5WpTPJG"
      },
      "source": [
        "def function_results_14(*args):\n",
        "    \n",
        "    pass"
      ],
      "execution_count": null,
      "outputs": []
    },
    {
      "cell_type": "markdown",
      "metadata": {
        "id": "4my4QrFpTPJJ"
      },
      "source": [
        "---"
      ]
    },
    {
      "cell_type": "markdown",
      "metadata": {
        "id": "46LWPusjTPJJ"
      },
      "source": [
        "# RESULTS"
      ]
    },
    {
      "cell_type": "markdown",
      "metadata": {
        "id": "AWLIB8rdTPJJ"
      },
      "source": [
        "---"
      ]
    },
    {
      "cell_type": "markdown",
      "metadata": {
        "id": "uf_9XokYTPJJ"
      },
      "source": [
        "## # 01. plot examples of the input training images for '0'"
      ]
    },
    {
      "cell_type": "code",
      "metadata": {
        "colab": {
          "base_uri": "https://localhost:8080/",
          "height": 438
        },
        "id": "beUDnoQyTPJJ",
        "outputId": "f1eb9ce4-f441-4f52-8d6a-037baabeb16b"
      },
      "source": [
        "function_results_01(...)"
      ],
      "execution_count": 107,
      "outputs": [
        {
          "output_type": "display_data",
          "data": {
            "image/png": "[encoded data removed]",
            "text/plain": [
              "<Figure size 864x432 with 8 Axes>"
            ]
          },
          "metadata": {
            "needs_background": "light"
          }
        }
      ]
    },
    {
      "cell_type": "markdown",
      "metadata": {
        "id": "ZxMVQ6ypTPJK"
      },
      "source": [
        "## # 02. plot examples of the input training images for '1'"
      ]
    },
    {
      "cell_type": "code",
      "metadata": {
        "colab": {
          "base_uri": "https://localhost:8080/",
          "height": 438
        },
        "id": "sZvMpCmaTPJK",
        "outputId": "f7014721-2882-44da-e4b0-eecc3ebe956b"
      },
      "source": [
        "function_results_02(...)"
      ],
      "execution_count": 109,
      "outputs": [
        {
          "output_type": "display_data",
          "data": {
            "image/png": "[encoded data removed]",
            "text/plain": [
              "<Figure size 864x432 with 8 Axes>"
            ]
          },
          "metadata": {
            "needs_background": "light"
          }
        }
      ]
    },
    {
      "cell_type": "markdown",
      "metadata": {
        "id": "-ZItS2YGTPJK"
      },
      "source": [
        "## # 03. plot the training loss curve (x-axis: iteration, y-axis: loss)"
      ]
    },
    {
      "cell_type": "code",
      "metadata": {
        "colab": {
          "base_uri": "https://localhost:8080/",
          "height": 441
        },
        "id": "lCQ8jy09TPJL",
        "outputId": "a65c5921-767b-4acc-bc71-bd116fabd64e"
      },
      "source": [
        "function_results_03(...)"
      ],
      "execution_count": 111,
      "outputs": [
        {
          "output_type": "display_data",
          "data": {
            "image/png": "[encoded data removed]",
            "text/plain": [
              "<Figure size 576x432 with 1 Axes>"
            ]
          },
          "metadata": {
            "needs_background": "light"
          }
        }
      ]
    },
    {
      "cell_type": "markdown",
      "metadata": {
        "id": "GiSZgGugTPJL"
      },
      "source": [
        "## # 04. plot the testing loss curve (x-axis: iteration, y-axis: loss)"
      ]
    },
    {
      "cell_type": "code",
      "metadata": {
        "colab": {
          "base_uri": "https://localhost:8080/",
          "height": 441
        },
        "id": "ftsf0v2ZTPJL",
        "outputId": "2954ff91-a158-458e-b849-b6512eb586a4"
      },
      "source": [
        "function_results_04(...)"
      ],
      "execution_count": 113,
      "outputs": [
        {
          "output_type": "display_data",
          "data": {
            "image/png": "[encoded data removed]",
            "text/plain": [
              "<Figure size 576x432 with 1 Axes>"
            ]
          },
          "metadata": {
            "needs_background": "light"
          }
        }
      ]
    },
    {
      "cell_type": "markdown",
      "metadata": {
        "id": "s_F-YkZqTPJM"
      },
      "source": [
        "## # 05. plot the training accuracy curve (x-axis: iteration, y-axis: accuracy)"
      ]
    },
    {
      "cell_type": "code",
      "metadata": {
        "colab": {
          "base_uri": "https://localhost:8080/",
          "height": 441
        },
        "id": "vpncfZyaTPJM",
        "outputId": "bfbc4f72-87be-4864-c63c-b12396c39d7e"
      },
      "source": [
        "function_results_05(...)"
      ],
      "execution_count": 115,
      "outputs": [
        {
          "output_type": "display_data",
          "data": {
            "image/png": "[encoded data removed]",
            "text/plain": [
              "<Figure size 576x432 with 1 Axes>"
            ]
          },
          "metadata": {
            "needs_background": "light"
          }
        }
      ]
    },
    {
      "cell_type": "markdown",
      "metadata": {
        "id": "uXPOaw1LTPJM"
      },
      "source": [
        "## # 06. plot the testing accuracy curve (x-axis: iteration, y-axis: accuracy)"
      ]
    },
    {
      "cell_type": "code",
      "metadata": {
        "colab": {
          "base_uri": "https://localhost:8080/",
          "height": 441
        },
        "id": "3AQezXC5TPJM",
        "outputId": "adae0586-47b9-4a23-cb3f-7630786ff301"
      },
      "source": [
        "function_results_06(...)"
      ],
      "execution_count": 117,
      "outputs": [
        {
          "output_type": "display_data",
          "data": {
            "image/png": "[encoded data removed]",
            "text/plain": [
              "<Figure size 576x432 with 1 Axes>"
            ]
          },
          "metadata": {
            "needs_background": "light"
          }
        }
      ]
    },
    {
      "cell_type": "markdown",
      "metadata": {
        "id": "IdzcWN39TPJN"
      },
      "source": [
        "## # 07. plot the training prediction curve (mean and std) for image 0 (x-axis: iteration, y-axis: prediction)"
      ]
    },
    {
      "cell_type": "code",
      "metadata": {
        "colab": {
          "base_uri": "https://localhost:8080/",
          "height": 441
        },
        "id": "quSboHugTPJN",
        "outputId": "a6d5fcd2-b10d-485d-a45b-85cc5e758189"
      },
      "source": [
        "function_results_07(...)"
      ],
      "execution_count": 119,
      "outputs": [
        {
          "output_type": "display_data",
          "data": {
            "image/png": "[encoded data removed]",
            "text/plain": [
              "<Figure size 576x432 with 1 Axes>"
            ]
          },
          "metadata": {
            "needs_background": "light"
          }
        }
      ]
    },
    {
      "cell_type": "markdown",
      "metadata": {
        "id": "tReFqRF0TPJN"
      },
      "source": [
        "## # 08. plot the training prediction curve (mean and std) for image 1 (x-axis: iteration, y-axis: prediction)"
      ]
    },
    {
      "cell_type": "code",
      "metadata": {
        "colab": {
          "base_uri": "https://localhost:8080/",
          "height": 441
        },
        "id": "kzLTuVoZTPJO",
        "outputId": "34cb1652-2eb2-49f3-fee6-9a3ae2e2ebf6"
      },
      "source": [
        "function_results_08(...)"
      ],
      "execution_count": 121,
      "outputs": [
        {
          "output_type": "display_data",
          "data": {
            "image/png": "[encoded data removed]",
            "text/plain": [
              "<Figure size 576x432 with 1 Axes>"
            ]
          },
          "metadata": {
            "needs_background": "light"
          }
        }
      ]
    },
    {
      "cell_type": "markdown",
      "metadata": {
        "id": "mC4Rd91pTPJO"
      },
      "source": [
        "## # 09. plot the testing prediction curve (mean and std) for image 0 (x-axis: iteration, y-axis: prediction)"
      ]
    },
    {
      "cell_type": "code",
      "metadata": {
        "id": "qAb5vmRFTPJO",
        "outputId": "3cda6e9e-dac4-47cd-fe65-438bc59af1b3"
      },
      "source": [
        "function_results_09(...)"
      ],
      "execution_count": null,
      "outputs": [
        {
          "output_type": "display_data",
          "data": {
            "image/png": "[encoded data removed]",
            "text/plain": [
              "<Figure size 576x432 with 1 Axes>"
            ]
          },
          "metadata": {
            "needs_background": "light"
          }
        }
      ]
    },
    {
      "cell_type": "markdown",
      "metadata": {
        "id": "Q8mNvwLzTPJO"
      },
      "source": [
        "## # 10. plot the testing prediction curve (mean and std) for image 1 (x-axis: iteration, y-axis: prediction)"
      ]
    },
    {
      "cell_type": "code",
      "metadata": {
        "id": "C5bznGr2TPJP",
        "outputId": "191264a5-fb44-4fbe-d115-ac4c6362d1ed"
      },
      "source": [
        "function_results_10(...)"
      ],
      "execution_count": null,
      "outputs": [
        {
          "output_type": "display_data",
          "data": {
            "image/png": "[encoded data removed]",
            "text/plain": [
              "<Figure size 576x432 with 1 Axes>"
            ]
          },
          "metadata": {
            "needs_background": "light"
          }
        }
      ]
    },
    {
      "cell_type": "markdown",
      "metadata": {
        "id": "pIhe81gATPJP"
      },
      "source": [
        "## # 11. print the training loss at iterations 0, 100, 200, 300, 400, 500, 600, 700, 800, 900"
      ]
    },
    {
      "cell_type": "code",
      "metadata": {
        "id": "zkj-JR5wTPJP",
        "outputId": "b305447e-64d6-4ad1-999a-2377c6c58c8d"
      },
      "source": [
        "function_results_11(...)"
      ],
      "execution_count": null,
      "outputs": [
        {
          "output_type": "stream",
          "name": "stdout",
          "text": [
            "index =    0, value = 0.0000000000\n",
            "index =  100, value = 0.0000000000\n",
            "index =  200, value = 0.0000000000\n",
            "index =  300, value = 0.0000000000\n",
            "index =  400, value = 0.0000000000\n",
            "index =  500, value = 0.0000000000\n",
            "index =  600, value = 0.0000000000\n",
            "index =  700, value = 0.0000000000\n",
            "index =  800, value = 0.0000000000\n",
            "index =  900, value = 0.0000000000\n"
          ]
        }
      ]
    },
    {
      "cell_type": "markdown",
      "metadata": {
        "id": "cOzDLXuJTPJQ"
      },
      "source": [
        "## # 12. print the testing loss at iterations 0, 100, 200, 300, 400, 500, 600, 700, 800, 900"
      ]
    },
    {
      "cell_type": "code",
      "metadata": {
        "id": "M4iqmfRQTPJQ",
        "outputId": "01b445bb-2b24-4880-95dc-a29014108ce1"
      },
      "source": [
        "function_results_12(...)"
      ],
      "execution_count": null,
      "outputs": [
        {
          "output_type": "stream",
          "name": "stdout",
          "text": [
            "index =    0, value = 0.0000000000\n",
            "index =  100, value = 0.0000000000\n",
            "index =  200, value = 0.0000000000\n",
            "index =  300, value = 0.0000000000\n",
            "index =  400, value = 0.0000000000\n",
            "index =  500, value = 0.0000000000\n",
            "index =  600, value = 0.0000000000\n",
            "index =  700, value = 0.0000000000\n",
            "index =  800, value = 0.0000000000\n",
            "index =  900, value = 0.0000000000\n"
          ]
        }
      ]
    },
    {
      "cell_type": "markdown",
      "metadata": {
        "id": "_JFMQKYOTPJQ"
      },
      "source": [
        "## # 13. print the training accuracy at iterations 0, 100, 200, 300, 400, 500, 600, 700, 800, 900"
      ]
    },
    {
      "cell_type": "code",
      "metadata": {
        "id": "RmWou5ykTPJR",
        "outputId": "867a2d83-3351-4540-8325-763c0ae13582"
      },
      "source": [
        "function_results_13(...)"
      ],
      "execution_count": null,
      "outputs": [
        {
          "output_type": "stream",
          "name": "stdout",
          "text": [
            "index =    0, value = 0.0000000000\n",
            "index =  100, value = 0.0000000000\n",
            "index =  200, value = 0.0000000000\n",
            "index =  300, value = 0.0000000000\n",
            "index =  400, value = 0.0000000000\n",
            "index =  500, value = 0.0000000000\n",
            "index =  600, value = 0.0000000000\n",
            "index =  700, value = 0.0000000000\n",
            "index =  800, value = 0.0000000000\n",
            "index =  900, value = 0.0000000000\n"
          ]
        }
      ]
    },
    {
      "cell_type": "markdown",
      "metadata": {
        "id": "9H3fXYUyTPJR"
      },
      "source": [
        "## # 14. print the testing accuracy at iterations 0, 100, 200, 300, 400, 500, 600, 700, 800, 900"
      ]
    },
    {
      "cell_type": "code",
      "metadata": {
        "id": "p8wVenS5TPJR",
        "outputId": "bb601ee4-64e9-4b94-d11c-c2a5debe0306"
      },
      "source": [
        "function_results_14(...)"
      ],
      "execution_count": null,
      "outputs": [
        {
          "output_type": "stream",
          "name": "stdout",
          "text": [
            "index =    0, value = 0.0000000000\n",
            "index =  100, value = 0.0000000000\n",
            "index =  200, value = 0.0000000000\n",
            "index =  300, value = 0.0000000000\n",
            "index =  400, value = 0.0000000000\n",
            "index =  500, value = 0.0000000000\n",
            "index =  600, value = 0.0000000000\n",
            "index =  700, value = 0.0000000000\n",
            "index =  800, value = 0.0000000000\n",
            "index =  900, value = 0.0000000000\n"
          ]
        }
      ]
    }
  ]
}