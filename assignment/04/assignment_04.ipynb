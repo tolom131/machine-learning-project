{
  "nbformat": 4,
  "nbformat_minor": 0,
  "metadata": {
    "colab": {
      "name": "assignment_02.ipynb",
      "provenance": [],
      "collapsed_sections": []
    },
    "kernelspec": {
      "name": "python3",
      "display_name": "Python 3.8.8 64-bit ('base': conda)"
    },
    "language_info": {
      "name": "python",
      "version": "3.8.8",
      "mimetype": "text/x-python",
      "codemirror_mode": {
        "name": "ipython",
        "version": 3
      },
      "pygments_lexer": "ipython3",
      "nbconvert_exporter": "python",
      "file_extension": ".py"
    },
    "interpreter": {
      "hash": "dca0ade3e726a953b501b15e8e990130d2b7799f14cfd9f4271676035ebe5511"
    },
    "accelerator": "GPU",
    "widgets": {
      "application/vnd.jupyter.widget-state+json": {
        "70f10d82a7384779b346bb32f5854e09": {
          "model_module": "@jupyter-widgets/controls",
          "model_name": "HBoxModel",
          "model_module_version": "1.5.0",
          "state": {
            "_view_name": "HBoxView",
            "_dom_classes": [],
            "_model_name": "HBoxModel",
            "_view_module": "@jupyter-widgets/controls",
            "_model_module_version": "1.5.0",
            "_view_count": null,
            "_view_module_version": "1.5.0",
            "box_style": "",
            "layout": "IPY_MODEL_5bdca881f49349d891f02dbd0e324abc",
            "_model_module": "@jupyter-widgets/controls",
            "children": [
              "IPY_MODEL_256e009e79474973bc67c4ac243533b7",
              "IPY_MODEL_785ab1c6ea394891a79a7f76d2833d86",
              "IPY_MODEL_53bad5793e40484ca69c391ce18beb72"
            ]
          }
        },
        "5bdca881f49349d891f02dbd0e324abc": {
          "model_module": "@jupyter-widgets/base",
          "model_name": "LayoutModel",
          "model_module_version": "1.2.0",
          "state": {
            "_view_name": "LayoutView",
            "grid_template_rows": null,
            "right": null,
            "justify_content": null,
            "_view_module": "@jupyter-widgets/base",
            "overflow": null,
            "_model_module_version": "1.2.0",
            "_view_count": null,
            "flex_flow": null,
            "width": null,
            "min_width": null,
            "border": null,
            "align_items": null,
            "bottom": null,
            "_model_module": "@jupyter-widgets/base",
            "top": null,
            "grid_column": null,
            "overflow_y": null,
            "overflow_x": null,
            "grid_auto_flow": null,
            "grid_area": null,
            "grid_template_columns": null,
            "flex": null,
            "_model_name": "LayoutModel",
            "justify_items": null,
            "grid_row": null,
            "max_height": null,
            "align_content": null,
            "visibility": null,
            "align_self": null,
            "height": null,
            "min_height": null,
            "padding": null,
            "grid_auto_rows": null,
            "grid_gap": null,
            "max_width": null,
            "order": null,
            "_view_module_version": "1.2.0",
            "grid_template_areas": null,
            "object_position": null,
            "object_fit": null,
            "grid_auto_columns": null,
            "margin": null,
            "display": null,
            "left": null
          }
        },
        "256e009e79474973bc67c4ac243533b7": {
          "model_module": "@jupyter-widgets/controls",
          "model_name": "HTMLModel",
          "model_module_version": "1.5.0",
          "state": {
            "_view_name": "HTMLView",
            "style": "IPY_MODEL_2fee6790baa2435eb30b35cc9d8644d7",
            "_dom_classes": [],
            "description": "",
            "_model_name": "HTMLModel",
            "placeholder": "​",
            "_view_module": "@jupyter-widgets/controls",
            "_model_module_version": "1.5.0",
            "value": "100%",
            "_view_count": null,
            "_view_module_version": "1.5.0",
            "description_tooltip": null,
            "_model_module": "@jupyter-widgets/controls",
            "layout": "IPY_MODEL_6a88b0c6199b4db69c7dc73e4a78fb1e"
          }
        },
        "785ab1c6ea394891a79a7f76d2833d86": {
          "model_module": "@jupyter-widgets/controls",
          "model_name": "FloatProgressModel",
          "model_module_version": "1.5.0",
          "state": {
            "_view_name": "ProgressView",
            "style": "IPY_MODEL_91d47e7e344d40d88a602166278d0a82",
            "_dom_classes": [],
            "description": "",
            "_model_name": "FloatProgressModel",
            "bar_style": "success",
            "max": 2000,
            "_view_module": "@jupyter-widgets/controls",
            "_model_module_version": "1.5.0",
            "value": 2000,
            "_view_count": null,
            "_view_module_version": "1.5.0",
            "orientation": "horizontal",
            "min": 0,
            "description_tooltip": null,
            "_model_module": "@jupyter-widgets/controls",
            "layout": "IPY_MODEL_308c69d2ffcb4697a32971c31d5b2ee9"
          }
        },
        "53bad5793e40484ca69c391ce18beb72": {
          "model_module": "@jupyter-widgets/controls",
          "model_name": "HTMLModel",
          "model_module_version": "1.5.0",
          "state": {
            "_view_name": "HTMLView",
            "style": "IPY_MODEL_7968be7b698744b298300b43718cd969",
            "_dom_classes": [],
            "description": "",
            "_model_name": "HTMLModel",
            "placeholder": "​",
            "_view_module": "@jupyter-widgets/controls",
            "_model_module_version": "1.5.0",
            "value": " 2000/2000 [04:27&lt;00:00,  7.21it/s]",
            "_view_count": null,
            "_view_module_version": "1.5.0",
            "description_tooltip": null,
            "_model_module": "@jupyter-widgets/controls",
            "layout": "IPY_MODEL_e160cd71e6d04d87984007812cf24b3d"
          }
        },
        "2fee6790baa2435eb30b35cc9d8644d7": {
          "model_module": "@jupyter-widgets/controls",
          "model_name": "DescriptionStyleModel",
          "model_module_version": "1.5.0",
          "state": {
            "_view_name": "StyleView",
            "_model_name": "DescriptionStyleModel",
            "description_width": "",
            "_view_module": "@jupyter-widgets/base",
            "_model_module_version": "1.5.0",
            "_view_count": null,
            "_view_module_version": "1.2.0",
            "_model_module": "@jupyter-widgets/controls"
          }
        },
        "6a88b0c6199b4db69c7dc73e4a78fb1e": {
          "model_module": "@jupyter-widgets/base",
          "model_name": "LayoutModel",
          "model_module_version": "1.2.0",
          "state": {
            "_view_name": "LayoutView",
            "grid_template_rows": null,
            "right": null,
            "justify_content": null,
            "_view_module": "@jupyter-widgets/base",
            "overflow": null,
            "_model_module_version": "1.2.0",
            "_view_count": null,
            "flex_flow": null,
            "width": null,
            "min_width": null,
            "border": null,
            "align_items": null,
            "bottom": null,
            "_model_module": "@jupyter-widgets/base",
            "top": null,
            "grid_column": null,
            "overflow_y": null,
            "overflow_x": null,
            "grid_auto_flow": null,
            "grid_area": null,
            "grid_template_columns": null,
            "flex": null,
            "_model_name": "LayoutModel",
            "justify_items": null,
            "grid_row": null,
            "max_height": null,
            "align_content": null,
            "visibility": null,
            "align_self": null,
            "height": null,
            "min_height": null,
            "padding": null,
            "grid_auto_rows": null,
            "grid_gap": null,
            "max_width": null,
            "order": null,
            "_view_module_version": "1.2.0",
            "grid_template_areas": null,
            "object_position": null,
            "object_fit": null,
            "grid_auto_columns": null,
            "margin": null,
            "display": null,
            "left": null
          }
        },
        "91d47e7e344d40d88a602166278d0a82": {
          "model_module": "@jupyter-widgets/controls",
          "model_name": "ProgressStyleModel",
          "model_module_version": "1.5.0",
          "state": {
            "_view_name": "StyleView",
            "_model_name": "ProgressStyleModel",
            "description_width": "",
            "_view_module": "@jupyter-widgets/base",
            "_model_module_version": "1.5.0",
            "_view_count": null,
            "_view_module_version": "1.2.0",
            "bar_color": null,
            "_model_module": "@jupyter-widgets/controls"
          }
        },
        "308c69d2ffcb4697a32971c31d5b2ee9": {
          "model_module": "@jupyter-widgets/base",
          "model_name": "LayoutModel",
          "model_module_version": "1.2.0",
          "state": {
            "_view_name": "LayoutView",
            "grid_template_rows": null,
            "right": null,
            "justify_content": null,
            "_view_module": "@jupyter-widgets/base",
            "overflow": null,
            "_model_module_version": "1.2.0",
            "_view_count": null,
            "flex_flow": null,
            "width": null,
            "min_width": null,
            "border": null,
            "align_items": null,
            "bottom": null,
            "_model_module": "@jupyter-widgets/base",
            "top": null,
            "grid_column": null,
            "overflow_y": null,
            "overflow_x": null,
            "grid_auto_flow": null,
            "grid_area": null,
            "grid_template_columns": null,
            "flex": null,
            "_model_name": "LayoutModel",
            "justify_items": null,
            "grid_row": null,
            "max_height": null,
            "align_content": null,
            "visibility": null,
            "align_self": null,
            "height": null,
            "min_height": null,
            "padding": null,
            "grid_auto_rows": null,
            "grid_gap": null,
            "max_width": null,
            "order": null,
            "_view_module_version": "1.2.0",
            "grid_template_areas": null,
            "object_position": null,
            "object_fit": null,
            "grid_auto_columns": null,
            "margin": null,
            "display": null,
            "left": null
          }
        },
        "7968be7b698744b298300b43718cd969": {
          "model_module": "@jupyter-widgets/controls",
          "model_name": "DescriptionStyleModel",
          "model_module_version": "1.5.0",
          "state": {
            "_view_name": "StyleView",
            "_model_name": "DescriptionStyleModel",
            "description_width": "",
            "_view_module": "@jupyter-widgets/base",
            "_model_module_version": "1.5.0",
            "_view_count": null,
            "_view_module_version": "1.2.0",
            "_model_module": "@jupyter-widgets/controls"
          }
        },
        "e160cd71e6d04d87984007812cf24b3d": {
          "model_module": "@jupyter-widgets/base",
          "model_name": "LayoutModel",
          "model_module_version": "1.2.0",
          "state": {
            "_view_name": "LayoutView",
            "grid_template_rows": null,
            "right": null,
            "justify_content": null,
            "_view_module": "@jupyter-widgets/base",
            "overflow": null,
            "_model_module_version": "1.2.0",
            "_view_count": null,
            "flex_flow": null,
            "width": null,
            "min_width": null,
            "border": null,
            "align_items": null,
            "bottom": null,
            "_model_module": "@jupyter-widgets/base",
            "top": null,
            "grid_column": null,
            "overflow_y": null,
            "overflow_x": null,
            "grid_auto_flow": null,
            "grid_area": null,
            "grid_template_columns": null,
            "flex": null,
            "_model_name": "LayoutModel",
            "justify_items": null,
            "grid_row": null,
            "max_height": null,
            "align_content": null,
            "visibility": null,
            "align_self": null,
            "height": null,
            "min_height": null,
            "padding": null,
            "grid_auto_rows": null,
            "grid_gap": null,
            "max_width": null,
            "order": null,
            "_view_module_version": "1.2.0",
            "grid_template_areas": null,
            "object_position": null,
            "object_fit": null,
            "grid_auto_columns": null,
            "margin": null,
            "display": null,
            "left": null
          }
        }
      }
    }
  },
  "cells": [
    {
      "cell_type": "markdown",
      "metadata": {
        "id": "K29I-OwCEYzW",
        "outputId": "db8b297c-a4b8-457a-b43f-7570135306c7"
      },
      "source": [
        "# Classification for multiple classes based on softmax and cross entropy"
      ]
    },
    {
      "cell_type": "markdown",
      "metadata": {
        "id": "mmZUGmQSl89N"
      },
      "source": [
        "## import libraries"
      ]
    },
    {
      "cell_type": "code",
      "metadata": {
        "id": "ClMU2hNJl89O"
      },
      "source": [
        "import numpy as np\n",
        "import matplotlib.pyplot as plt\n",
        "import os\n",
        "from tqdm import tqdm, tqdm_notebook"
      ],
      "execution_count": 1,
      "outputs": []
    },
    {
      "cell_type": "markdown",
      "metadata": {
        "id": "E1GTa6ZBl89P"
      },
      "source": [
        "## load data"
      ]
    },
    {
      "cell_type": "code",
      "metadata": {
        "colab": {
          "base_uri": "https://localhost:8080/"
        },
        "id": "ekAo92LEl89P",
        "outputId": "8ce1ccd5-2d70-4cc2-9761-f2d433b072ae"
      },
      "source": [
        "directory_data  = './data/'\n",
        "filename_data   = 'assignment_04_data.npz'\n",
        "data            = np.load(os.path.join(directory_data, filename_data))\n",
        "\n",
        "x_train = data['x_train']\n",
        "y_train = data['y_train']\n",
        "\n",
        "x_test  = data['x_test']\n",
        "y_test  = data['y_test']\n",
        "\n",
        "print('*************************************************')\n",
        "print('size of x_train :', x_train.shape)\n",
        "print('size of y_train :', y_train.shape)\n",
        "print('*************************************************')\n",
        "print('size of x_test :', x_test.shape)\n",
        "print('size of y_test :', y_test.shape)\n",
        "print('*************************************************')\n",
        "print('number of training image :', x_train.shape[0])\n",
        "print('height of training image :', x_train.shape[1])\n",
        "print('width of training image :', x_train.shape[2])\n",
        "print('*************************************************')\n",
        "print('number of testing image :', x_test.shape[0])\n",
        "print('height of testing image :', x_test.shape[1])\n",
        "print('width of testing image :', x_test.shape[2])\n",
        "print('*************************************************')"
      ],
      "execution_count": 3,
      "outputs": [
        {
          "output_type": "stream",
          "name": "stdout",
          "text": [
            "*************************************************\n",
            "size of x_train : (10000, 28, 28)\n",
            "size of y_train : (10000, 5)\n",
            "*************************************************\n",
            "size of x_test : (4500, 28, 28)\n",
            "size of y_test : (4500, 5)\n",
            "*************************************************\n",
            "number of training image : 10000\n",
            "height of training image : 28\n",
            "width of training image : 28\n",
            "*************************************************\n",
            "number of testing image : 4500\n",
            "height of testing image : 28\n",
            "width of testing image : 28\n",
            "*************************************************\n"
          ]
        }
      ]
    },
    {
      "cell_type": "markdown",
      "metadata": {
        "id": "Ic49ZDeol89Q"
      },
      "source": [
        "## number of classes"
      ]
    },
    {
      "cell_type": "code",
      "metadata": {
        "colab": {
          "base_uri": "https://localhost:8080/"
        },
        "id": "G5EsynHtl89R",
        "outputId": "aaac103e-7b5d-4fca-e459-6d45f94392eb"
      },
      "source": [
        "nClass = y_train.shape[1]\n",
        "print('number of classes: ', nClass)"
      ],
      "execution_count": 4,
      "outputs": [
        {
          "output_type": "stream",
          "name": "stdout",
          "text": [
            "number of classes:  5\n"
          ]
        }
      ]
    },
    {
      "cell_type": "markdown",
      "metadata": {
        "id": "qiif8hvul89S"
      },
      "source": [
        "## label data"
      ]
    },
    {
      "cell_type": "code",
      "metadata": {
        "colab": {
          "base_uri": "https://localhost:8080/"
        },
        "id": "7nViKgsml89S",
        "outputId": "4a6cf562-31d5-4273-b119-961d66f38e5f"
      },
      "source": [
        "print('label data for training image 0: ', y_train[0])\n",
        "print('label data for training image 1: ', y_train[2000])\n",
        "print('label data for training image 2: ', y_train[4000])\n",
        "print('label data for training image 3: ', y_train[6000])\n",
        "print('label data for training image 4: ', y_train[8000])\n"
      ],
      "execution_count": 5,
      "outputs": [
        {
          "output_type": "stream",
          "name": "stdout",
          "text": [
            "label data for training image 0:  [1. 0. 0. 0. 0.]\n",
            "label data for training image 1:  [0. 1. 0. 0. 0.]\n",
            "label data for training image 2:  [0. 0. 1. 0. 0.]\n",
            "label data for training image 3:  [0. 0. 0. 1. 0.]\n",
            "label data for training image 4:  [0. 0. 0. 0. 1.]\n"
          ]
        }
      ]
    },
    {
      "cell_type": "markdown",
      "metadata": {
        "id": "big4_PLil89T"
      },
      "source": [
        "## vectorize image data"
      ]
    },
    {
      "cell_type": "code",
      "metadata": {
        "colab": {
          "base_uri": "https://localhost:8080/"
        },
        "id": "HhcsLV2Yl89T",
        "outputId": "c9e47479-359a-4c70-d5a3-82f6e3e164f7"
      },
      "source": [
        "vector_x_train  = x_train.reshape(x_train.shape[0], x_train.shape[1] * x_train.shape[2])\n",
        "vector_x_test   = x_test.reshape(x_test.shape[0], x_test.shape[1] * x_test.shape[2])\n",
        "\n",
        "print('dimension of the training data matrix: ', vector_x_train.shape)\n",
        "print('dimension of the testing data matrix: ', vector_x_test.shape)\n",
        "\n",
        "print('dimension of the trainin label data: ', y_train.shape)\n",
        "print('dimension of the testing label data: ', y_test.shape)"
      ],
      "execution_count": 6,
      "outputs": [
        {
          "output_type": "stream",
          "name": "stdout",
          "text": [
            "dimension of the training data matrix:  (10000, 784)\n",
            "dimension of the testing data matrix:  (4500, 784)\n",
            "dimension of the trainin label data:  (10000, 5)\n",
            "dimension of the testing label data:  (4500, 5)\n"
          ]
        }
      ]
    },
    {
      "cell_type": "markdown",
      "metadata": {
        "id": "HByoh-wIl89U"
      },
      "source": [
        "## index for each class"
      ]
    },
    {
      "cell_type": "code",
      "metadata": {
        "colab": {
          "base_uri": "https://localhost:8080/"
        },
        "id": "uHqJbQtRl89U",
        "outputId": "faa49ace-fad0-4214-b4e4-1a8298d82554"
      },
      "source": [
        "index_train = [[] for _ in range(nClass)]\n",
        "index_test  = [[] for _ in range(nClass)]\n",
        "\n",
        "number_index_train  = np.zeros(nClass)\n",
        "number_index_test   = np.zeros(nClass)\n",
        "\n",
        "for i in range(nClass):\n",
        "\n",
        "    index_train[i]  = np.where(np.argmax(y_train, axis=1) == i)[0]\n",
        "    index_test[i]   = np.where(np.argmax(y_test, axis=1) == i)[0]\n",
        "\n",
        "    number_index_train[i]   = len(index_train[i])\n",
        "    number_index_test[i]    = len(index_test[i])\n",
        "\n",
        "print('number of training images for each class: ', number_index_train)\n",
        "print('number of testing images for each class: ', number_index_test)"
      ],
      "execution_count": 7,
      "outputs": [
        {
          "output_type": "stream",
          "name": "stdout",
          "text": [
            "number of training images for each class:  [2000. 2000. 2000. 2000. 2000.]\n",
            "number of testing images for each class:  [900. 900. 900. 900. 900.]\n"
          ]
        }
      ]
    },
    {
      "cell_type": "markdown",
      "metadata": {
        "id": "nGzMdY57l89V"
      },
      "source": [
        "## plot data"
      ]
    },
    {
      "cell_type": "code",
      "metadata": {
        "id": "NRhC1k56l89V"
      },
      "source": [
        "def plot_data_grid(data, index_data, nRow, nCol):\n",
        "\n",
        "    fig, axes = plt.subplots(nRow, nCol, constrained_layout=True, figsize=(nCol * 3, nRow * 3))\n",
        "\n",
        "    for i in range(nRow):\n",
        "        for j in range(nCol):\n",
        "\n",
        "            k       = i * nCol + j\n",
        "            index   = index_data[k]\n",
        "\n",
        "            axes[i, j].imshow(data[index], cmap='gray', vmin=0, vmax=1)\n",
        "            axes[i, j].xaxis.set_visible(False)\n",
        "            axes[i, j].yaxis.set_visible(False)\n",
        "\n",
        "    plt.show()"
      ],
      "execution_count": 8,
      "outputs": []
    },
    {
      "cell_type": "code",
      "metadata": {
        "id": "qHiyXN_bl89W"
      },
      "source": [
        "nRow    = 2\n",
        "nCol    = 4\n",
        "nPlot   = nRow * nCol"
      ],
      "execution_count": 9,
      "outputs": []
    },
    {
      "cell_type": "code",
      "metadata": {
        "colab": {
          "base_uri": "https://localhost:8080/",
          "height": 1000
        },
        "id": "lKBtiNzEl89X",
        "outputId": "fc04734d-506f-40bc-be10-88e7b2cb149b"
      },
      "source": [
        "for i in range(nClass):\n",
        "    index_class_plot = index_train[i][0:nPlot]\n",
        "    plot_data_grid(x_train, index_class_plot, nRow, nCol)"
      ],
      "execution_count": 14,
      "outputs": [
        {
          "output_type": "display_data",
          "data": {
            "image/png": "[encoded data removed]",
            "text/plain": [
              "<Figure size 864x432 with 8 Axes>"
            ]
          },
          "metadata": {
            "needs_background": "light"
          }
        },
        {
          "output_type": "display_data",
          "data": {
            "image/png": "[encoded data removed]",
            "text/plain": [
              "<Figure size 864x432 with 8 Axes>"
            ]
          },
          "metadata": {
            "needs_background": "light"
          }
        },
        {
          "output_type": "display_data",
          "data": {
            "image/png": "[encoded data removed]",
            "text/plain": [
              "<Figure size 864x432 with 8 Axes>"
            ]
          },
          "metadata": {
            "needs_background": "light"
          }
        },
        {
          "output_type": "display_data",
          "data": {
            "image/png": "[encoded data removed]",
            "text/plain": [
              "<Figure size 864x432 with 8 Axes>"
            ]
          },
          "metadata": {
            "needs_background": "light"
          }
        },
        {
          "output_type": "display_data",
          "data": {
            "image/png": "[encoded data removed]",
            "text/plain": [
              "<Figure size 864x432 with 8 Axes>"
            ]
          },
          "metadata": {
            "needs_background": "light"
          }
        }
      ]
    },
    {
      "cell_type": "markdown",
      "metadata": {
        "id": "XkxVrMlwl89X"
      },
      "source": [
        "## linear layer"
      ]
    },
    {
      "cell_type": "code",
      "metadata": {
        "id": "lpv7zoO_l89Y"
      },
      "source": [
        "def layer_linear(input, weight):\n",
        "    output = np.dot(input, weight)\n",
        "    return output"
      ],
      "execution_count": 15,
      "outputs": []
    },
    {
      "cell_type": "markdown",
      "metadata": {
        "id": "KxfyPqMxl89Y"
      },
      "source": [
        "## Softmax function"
      ]
    },
    {
      "cell_type": "code",
      "metadata": {
        "id": "76muZijSl89Z"
      },
      "source": [
        "def activation_softmax(input):\n",
        "    max = np.max(input, axis=1,keepdims=True) #returns max of each row and keeps same dims\n",
        "    e_x = np.exp(input - max) #subtracts each row with its max value\n",
        "    sum = np.sum(e_x,axis=1,keepdims=True) #returns sum of each row and keeps same dims\n",
        "    f_x = e_x / sum \n",
        "    return f_x\n",
        "\n",
        "# reference : https://www.delftstack.com/ko/howto/numpy/numpy-softmax/"
      ],
      "execution_count": 16,
      "outputs": []
    },
    {
      "cell_type": "code",
      "metadata": {
        "id": "4Fw0nBxy2VzM"
      },
      "source": [
        "# a = [1,2,3,4]\n",
        "# print(np.exp(a))\n",
        "\n",
        "# a = [[1,2,3,4,5],[4,5,6,7,8]]\n",
        "# print(np.exp(a))\n",
        "\n",
        "# a = np.array(a)\n",
        "# print(activation_softmax(a))"
      ],
      "execution_count": null,
      "outputs": []
    },
    {
      "cell_type": "markdown",
      "metadata": {
        "id": "_0C3kdVPl89a"
      },
      "source": [
        "## compute prediction by the forward propagation of the neural network"
      ]
    },
    {
      "cell_type": "code",
      "metadata": {
        "id": "F_p4-m_5l89a"
      },
      "source": [
        "def compute_prediction(input, weight):\n",
        "\n",
        "    output      = layer_linear(input, weight)\n",
        "    prediction  = activation_softmax(output)\n",
        "\n",
        "    return prediction"
      ],
      "execution_count": 17,
      "outputs": []
    },
    {
      "cell_type": "markdown",
      "metadata": {
        "id": "9U4p9H9pl89a"
      },
      "source": [
        "## compute loss function"
      ]
    },
    {
      "cell_type": "code",
      "metadata": {
        "id": "PlEc3bN7l89b"
      },
      "source": [
        "def compute_loss(prediction, label):\n",
        "    delta = 1e-7\n",
        "    loss = -np.sum(label * np.log(prediction+delta)) / label.shape[0]\n",
        "    return loss"
      ],
      "execution_count": 18,
      "outputs": []
    },
    {
      "cell_type": "markdown",
      "metadata": {
        "id": "ZJ1J-jPZl89b"
      },
      "source": [
        "## compute gradient"
      ]
    },
    {
      "cell_type": "code",
      "metadata": {
        "id": "UVrs06Oyl89b"
      },
      "source": [
        "def compute_gradient(input, prediction, label):\n",
        "    batch_size = label.shape[0]\n",
        "    gradient = (prediction - label) / batch_size \n",
        "    gradient = np.dot(input.T, gradient)\n",
        "    return gradient"
      ],
      "execution_count": 19,
      "outputs": []
    },
    {
      "cell_type": "code",
      "metadata": {
        "id": "acJGhKBrRrps"
      },
      "source": [
        "dim_input   = vector_x_train.shape[1]\n",
        "dim_output  = nClass\n",
        "weight      = np.ones((dim_input, dim_output))\n",
        "weight      = weight * 0.001"
      ],
      "execution_count": 20,
      "outputs": []
    },
    {
      "cell_type": "code",
      "metadata": {
        "colab": {
          "base_uri": "https://localhost:8080/"
        },
        "id": "fGMJW0hATJlR",
        "outputId": "523a29bf-793f-4912-d406-0c6b4657ab0f"
      },
      "source": [
        "prediction = compute_prediction(vector_x_train, weight)\n",
        "gradient = compute_gradient(vector_x_train, prediction, y_train)\n",
        "weight = weight - 0.5 * gradient\n",
        "prediction = compute_prediction(vector_x_train, weight)\n",
        "print(compute_loss(prediction, y_train))"
      ],
      "execution_count": 268,
      "outputs": [
        {
          "output_type": "stream",
          "name": "stdout",
          "text": [
            "sum shape :  (10000, 1)\n",
            "sum shape :  (10000, 1)\n",
            "4240.86483667943\n"
          ]
        }
      ]
    },
    {
      "cell_type": "code",
      "metadata": {
        "colab": {
          "base_uri": "https://localhost:8080/"
        },
        "id": "KX00fqpw_hf5",
        "outputId": "63d5ee5b-afcc-4c3f-f1de-714ee7118e00"
      },
      "source": [
        "a = np.array([[1,2,3],[4,5,6]])\n",
        "b = a[:, [1,1]]\n",
        "print(b)"
      ],
      "execution_count": 130,
      "outputs": [
        {
          "output_type": "stream",
          "name": "stdout",
          "text": [
            "[[2 2]\n",
            " [5 5]]\n"
          ]
        }
      ]
    },
    {
      "cell_type": "markdown",
      "metadata": {
        "id": "rfmY7Xtql89c"
      },
      "source": [
        "## compute accuracy"
      ]
    },
    {
      "cell_type": "code",
      "metadata": {
        "id": "eEUnS4eAl89c"
      },
      "source": [
        "def compute_accuracy(prediction, label):\n",
        "    a = np.argmax(prediction, axis=1)\n",
        "    b = np.argmax(label, axis=1)\n",
        "    bCorrect    = (a == b)\n",
        "    accuracy    = np.sum(bCorrect) / len(label)\n",
        "\n",
        "    return accuracy"
      ],
      "execution_count": 30,
      "outputs": []
    },
    {
      "cell_type": "markdown",
      "metadata": {
        "id": "D3aSpohml89c"
      },
      "source": [
        "## initialize weight"
      ]
    },
    {
      "cell_type": "code",
      "metadata": {
        "colab": {
          "base_uri": "https://localhost:8080/"
        },
        "id": "5M5cfY5El89d",
        "outputId": "8f1344bd-323f-4cbf-f795-62ee12ef2938"
      },
      "source": [
        "dim_input   = vector_x_train.shape[1]\n",
        "dim_output  = nClass\n",
        "weight      = np.ones((dim_input, dim_output))\n",
        "weight      = weight * 0.001\n",
        "\n",
        "print('size of weights: ', weight.shape)"
      ],
      "execution_count": 33,
      "outputs": [
        {
          "output_type": "stream",
          "name": "stdout",
          "text": [
            "size of weights:  (784, 5)\n"
          ]
        }
      ]
    },
    {
      "cell_type": "code",
      "metadata": {
        "colab": {
          "base_uri": "https://localhost:8080/"
        },
        "id": "S-AhBvNSPs3D",
        "outputId": "f61cc32b-f28e-4d39-bc11-e5e96e3efb33"
      },
      "source": [
        "print(weight[:5, :])"
      ],
      "execution_count": 168,
      "outputs": [
        {
          "output_type": "stream",
          "name": "stdout",
          "text": [
            "[[0.001 0.001 0.001 0.001 0.001]\n",
            " [0.001 0.001 0.001 0.001 0.001]\n",
            " [0.001 0.001 0.001 0.001 0.001]\n",
            " [0.001 0.001 0.001 0.001 0.001]\n",
            " [0.001 0.001 0.001 0.001 0.001]]\n"
          ]
        }
      ]
    },
    {
      "cell_type": "markdown",
      "metadata": {
        "id": "xUHw9tFTl89d"
      },
      "source": [
        "## hyper-parameters"
      ]
    },
    {
      "cell_type": "code",
      "metadata": {
        "id": "ojMWhpCAl89d"
      },
      "source": [
        "number_iteration    = 2000\n",
        "learning_rate       = 0.5 "
      ],
      "execution_count": 34,
      "outputs": []
    },
    {
      "cell_type": "markdown",
      "metadata": {
        "id": "vRO3X9Wql89e"
      },
      "source": [
        "## variables for optimization information"
      ]
    },
    {
      "cell_type": "code",
      "metadata": {
        "id": "kK_tRez8l89e"
      },
      "source": [
        "loss_train_iteration        = np.zeros(number_iteration)\n",
        "loss_test_iteration         = np.zeros(number_iteration)\n",
        "\n",
        "accuracy_train_iteration    = np.zeros(number_iteration)\n",
        "accuracy_test_iteration     = np.zeros(number_iteration)\n",
        "\n",
        "pred_train_mean_iteration   = np.zeros((nClass, number_iteration)) \n",
        "pred_train_std_iteration    = np.zeros((nClass, number_iteration)) \n",
        "pred_test_mean_iteration    = np.zeros((nClass, number_iteration)) \n",
        "pred_test_std_iteration     = np.zeros((nClass, number_iteration)) "
      ],
      "execution_count": 35,
      "outputs": []
    },
    {
      "cell_type": "markdown",
      "metadata": {
        "id": "oBqtQ1N3l89e"
      },
      "source": [
        "## gradient descent iterations"
      ]
    },
    {
      "cell_type": "code",
      "metadata": {
        "colab": {
          "base_uri": "https://localhost:8080/",
          "height": 454,
          "referenced_widgets": [
            "70f10d82a7384779b346bb32f5854e09",
            "5bdca881f49349d891f02dbd0e324abc",
            "256e009e79474973bc67c4ac243533b7",
            "785ab1c6ea394891a79a7f76d2833d86",
            "53bad5793e40484ca69c391ce18beb72",
            "2fee6790baa2435eb30b35cc9d8644d7",
            "6a88b0c6199b4db69c7dc73e4a78fb1e",
            "91d47e7e344d40d88a602166278d0a82",
            "308c69d2ffcb4697a32971c31d5b2ee9",
            "7968be7b698744b298300b43718cd969",
            "e160cd71e6d04d87984007812cf24b3d"
          ]
        },
        "id": "h4M885hCl89f",
        "outputId": "bb4f9925-05aa-48bb-dfe3-0084916d86da"
      },
      "source": [
        "for i in tqdm_notebook(range(number_iteration)):\n",
        "\n",
        "    prediction_train    = compute_prediction(vector_x_train, weight)\n",
        "    prediction_test     = compute_prediction(vector_x_test, weight)\n",
        "\n",
        "    gradient_train      = compute_gradient(vector_x_train, prediction_train, y_train)\n",
        "    weight              = weight - learning_rate * gradient_train\n",
        "\n",
        "    prediction_train    = compute_prediction(vector_x_train, weight)\n",
        "    prediction_test     = compute_prediction(vector_x_test, weight)\n",
        "\n",
        "    loss_train          = compute_loss(prediction_train, y_train)\n",
        "    loss_test           = compute_loss(prediction_test, y_test)\n",
        "    if i % 100 == 0:\n",
        "        print(\"loss : \", loss_train)\n",
        "\n",
        "    accuracy_train      = compute_accuracy(prediction_train, y_train)\n",
        "    accuracy_test       = compute_accuracy(prediction_test, y_test)\n",
        "\n",
        "    for j in range(nClass):\n",
        "\n",
        "        pred_train    = prediction_train[index_train[j]][:, j]\n",
        "        pred_test     = prediction_test[index_test[j]][:, j]\n",
        "\n",
        "        pred_train_mean_iteration[j, i] = np.mean(pred_train)\n",
        "        pred_train_std_iteration[j, i]  = np.std(pred_train)\n",
        "        \n",
        "        pred_test_mean_iteration[j, i]  = np.mean(pred_test)\n",
        "        pred_test_std_iteration[j, i]   = np.std(pred_test)\n",
        "\n",
        "    loss_train_iteration[i]         = loss_train\n",
        "    loss_test_iteration[i]          = loss_test\n",
        "\n",
        "    accuracy_train_iteration[i]     = accuracy_train \n",
        "    accuracy_test_iteration[i]      = accuracy_test"
      ],
      "execution_count": 36,
      "outputs": [
        {
          "output_type": "stream",
          "name": "stderr",
          "text": [
            "/usr/local/lib/python3.7/dist-packages/ipykernel_launcher.py:1: TqdmDeprecationWarning: This function will be removed in tqdm==5.0.0\n",
            "Please use `tqdm.notebook.tqdm` instead of `tqdm.tqdm_notebook`\n",
            "  \"\"\"Entry point for launching an IPython kernel.\n"
          ]
        },
        {
          "output_type": "display_data",
          "data": {
            "application/vnd.jupyter.widget-view+json": {
              "model_id": "70f10d82a7384779b346bb32f5854e09",
              "version_minor": 0,
              "version_major": 2
            },
            "text/plain": [
              "  0%|          | 0/2000 [00:00<?, ?it/s]"
            ]
          },
          "metadata": {}
        },
        {
          "output_type": "stream",
          "name": "stdout",
          "text": [
            "loss :  0.8516386202182034\n",
            "loss :  0.13394272381031191\n",
            "loss :  0.11577451731122149\n",
            "loss :  0.1069162569709707\n",
            "loss :  0.10116956077462062\n",
            "loss :  0.09693510080081397\n",
            "loss :  0.09358556676655158\n",
            "loss :  0.0908150754408031\n",
            "loss :  0.08845248246979688\n",
            "loss :  0.08639256854656126\n",
            "loss :  0.08456609903485192\n",
            "loss :  0.08292513234362396\n",
            "loss :  0.08143512614760323\n",
            "loss :  0.08007038733334322\n",
            "loss :  0.07881129865168812\n",
            "loss :  0.07764254962188936\n",
            "loss :  0.07655196461125026\n",
            "loss :  0.0755297015355779\n",
            "loss :  0.07456768919724141\n",
            "loss :  0.07365922326380545\n"
          ]
        }
      ]
    },
    {
      "cell_type": "markdown",
      "metadata": {
        "id": "Lcq6HXDel89f"
      },
      "source": [
        "## plot curve"
      ]
    },
    {
      "cell_type": "code",
      "metadata": {
        "id": "RPE7mSkNl89g"
      },
      "source": [
        "def plot_curve(data, x_label, y_label, title):\n",
        "    \n",
        "    plt.figure(figsize=(8, 6))\n",
        "    plt.title(title)\n",
        "\n",
        "    plt.plot(range(len(data)), data, '-', color='red')\n",
        "    \n",
        "    plt.xlabel(x_label)\n",
        "    plt.ylabel(y_label)\n",
        "\n",
        "    plt.tight_layout()\n",
        "    plt.show()"
      ],
      "execution_count": 37,
      "outputs": []
    },
    {
      "cell_type": "code",
      "metadata": {
        "id": "70p_J3CJl89g"
      },
      "source": [
        "def plot_curve2(data1, label_data1, data2, label_data2, x_label, y_label, title):\n",
        "    \n",
        "    plt.figure(figsize=(8, 6))\n",
        "    plt.title(title)\n",
        "\n",
        "    plt.plot(range(len(data1)), data1, '-', color = 'blue', label = label_data1)\n",
        "    plt.plot(range(len(data2)), data2, '-', color = 'red', label = label_data2)\n",
        "     \n",
        "    plt.xlabel(x_label)\n",
        "    plt.ylabel(y_label)\n",
        "\n",
        "    plt.tight_layout()\n",
        "    plt.show()"
      ],
      "execution_count": 38,
      "outputs": []
    },
    {
      "cell_type": "code",
      "metadata": {
        "id": "Vze8H7d9l89h"
      },
      "source": [
        "def plot_curve_error(data_mean, data_std, x_label, y_label, title):\n",
        "\n",
        "    plt.figure(figsize=(8, 6))\n",
        "    plt.title(title)\n",
        "\n",
        "    alpha = 0.3\n",
        "    \n",
        "    plt.plot(range(len(data_mean)), data_mean, '-', color = 'red')\n",
        "    plt.fill_between(range(len(data_mean)), data_mean - data_std, data_mean + data_std, facecolor = 'blue', alpha = alpha) \n",
        "    \n",
        "    plt.xlabel(x_label)\n",
        "    plt.ylabel(y_label)\n",
        "\n",
        "    plt.tight_layout()\n",
        "    plt.show()"
      ],
      "execution_count": 39,
      "outputs": []
    },
    {
      "cell_type": "code",
      "metadata": {
        "id": "FUbPxqiol89h"
      },
      "source": [
        "def plot_curve_error2(data1_mean, data1_std, data1_label, data2_mean, data2_std, data2_label, x_label, y_label, title):\n",
        "    \n",
        "    plt.figure(figsize=(8, 6))\n",
        "    plt.title(title)\n",
        "\n",
        "    alpha = 0.3\n",
        "\n",
        "    plt.plot(range(len(data1_mean)), data1_mean, '-', color = 'blue', label = data1_label)\n",
        "    plt.fill_between(range(len(data1_mean)), data1_mean - data1_std, data1_mean + data1_std, facecolor = 'blue', alpha = alpha)\n",
        "\n",
        "    plt.plot(range(len(data2_mean)), data2_mean, '-', color = 'red', label = data2_label)\n",
        "    plt.fill_between(range(len(data2_mean)), data2_mean - data2_std, data2_mean + data2_std, facecolor = 'red', alpha = alpha)\n",
        "\n",
        "    plt.xlabel(x_label)\n",
        "    plt.ylabel(y_label)\n",
        "\n",
        "    plt.tight_layout()\n",
        "    plt.show()"
      ],
      "execution_count": 40,
      "outputs": []
    },
    {
      "cell_type": "markdown",
      "metadata": {
        "id": "Ack4m-Fwl89i"
      },
      "source": [
        "## loss (training) curve"
      ]
    },
    {
      "cell_type": "code",
      "metadata": {
        "colab": {
          "base_uri": "https://localhost:8080/",
          "height": 441
        },
        "id": "O51AGxtql89i",
        "outputId": "169a5c09-3189-44ed-846f-50f5a12bbace"
      },
      "source": [
        "plot_curve(loss_train_iteration, 'iteration', 'loss', 'loss (training) curve')"
      ],
      "execution_count": 41,
      "outputs": [
        {
          "output_type": "display_data",
          "data": {
            "image/png": "[encoded data removed]",
            "text/plain": [
              "<Figure size 576x432 with 1 Axes>"
            ]
          },
          "metadata": {
            "needs_background": "light"
          }
        }
      ]
    },
    {
      "cell_type": "markdown",
      "metadata": {
        "id": "BGfoDPt1l89i"
      },
      "source": [
        "## loss (testing) curve"
      ]
    },
    {
      "cell_type": "code",
      "metadata": {
        "colab": {
          "base_uri": "https://localhost:8080/",
          "height": 441
        },
        "id": "7_jMFdcDl89j",
        "outputId": "a42729ef-c487-4cbd-9a0c-66aa4c9fdb04"
      },
      "source": [
        "plot_curve(loss_test_iteration, 'iteration', 'loss', 'loss (testing) curve')"
      ],
      "execution_count": 42,
      "outputs": [
        {
          "output_type": "display_data",
          "data": {
            "image/png": "[encoded data removed]",
            "text/plain": [
              "<Figure size 576x432 with 1 Axes>"
            ]
          },
          "metadata": {
            "needs_background": "light"
          }
        }
      ]
    },
    {
      "cell_type": "markdown",
      "metadata": {
        "id": "sopsYeWnl89j"
      },
      "source": [
        "## accuracy (training) curve"
      ]
    },
    {
      "cell_type": "code",
      "metadata": {
        "colab": {
          "base_uri": "https://localhost:8080/",
          "height": 441
        },
        "id": "4ymzO_r5l89j",
        "outputId": "3c4becfe-f484-47a0-b5c3-210c1a1cbe2a"
      },
      "source": [
        "plot_curve(accuracy_train_iteration, 'iteration', 'accuracy', 'accuracy (training) curve')"
      ],
      "execution_count": 43,
      "outputs": [
        {
          "output_type": "display_data",
          "data": {
            "image/png": "[encoded data removed]",
            "text/plain": [
              "<Figure size 576x432 with 1 Axes>"
            ]
          },
          "metadata": {
            "needs_background": "light"
          }
        }
      ]
    },
    {
      "cell_type": "markdown",
      "metadata": {
        "id": "Uy9Wo8-dl89k"
      },
      "source": [
        "## accuracy (testing) curve"
      ]
    },
    {
      "cell_type": "code",
      "metadata": {
        "colab": {
          "base_uri": "https://localhost:8080/",
          "height": 441
        },
        "id": "FQbfgni8l89k",
        "outputId": "0ab4826e-3aa1-436b-eeeb-79676e3e5951"
      },
      "source": [
        "plot_curve(accuracy_test_iteration, 'iteration', 'accuracy', 'accuracy (testing) curve')"
      ],
      "execution_count": 44,
      "outputs": [
        {
          "output_type": "display_data",
          "data": {
            "image/png": "[encoded data removed]",
            "text/plain": [
              "<Figure size 576x432 with 1 Axes>"
            ]
          },
          "metadata": {
            "needs_background": "light"
          }
        }
      ]
    },
    {
      "cell_type": "markdown",
      "metadata": {
        "id": "UGlS85Pbl89k"
      },
      "source": [
        "## plot prediction values"
      ]
    },
    {
      "cell_type": "code",
      "metadata": {
        "colab": {
          "base_uri": "https://localhost:8080/",
          "height": 1000
        },
        "id": "mPDxiHvLl89l",
        "outputId": "7c38e271-6b4d-42ba-cc18-28427741b708"
      },
      "source": [
        "for i in range(nClass):\n",
        "    \n",
        "    plot_curve_error(pred_train_mean_iteration[i], pred_train_std_iteration[i], 'iteration', 'prediction', 'prediction (training)')"
      ],
      "execution_count": 45,
      "outputs": [
        {
          "output_type": "display_data",
          "data": {
            "image/png": "[encoded data removed]",
            "text/plain": [
              "<Figure size 576x432 with 1 Axes>"
            ]
          },
          "metadata": {
            "needs_background": "light"
          }
        },
        {
          "output_type": "display_data",
          "data": {
            "image/png": "[encoded data removed]",
            "text/plain": [
              "<Figure size 576x432 with 1 Axes>"
            ]
          },
          "metadata": {
            "needs_background": "light"
          }
        },
        {
          "output_type": "display_data",
          "data": {
            "image/png": "[encoded data removed]",
            "text/plain": [
              "<Figure size 576x432 with 1 Axes>"
            ]
          },
          "metadata": {
            "needs_background": "light"
          }
        },
        {
          "output_type": "display_data",
          "data": {
            "image/png": "[encoded data removed]",
            "text/plain": [
              "<Figure size 576x432 with 1 Axes>"
            ]
          },
          "metadata": {
            "needs_background": "light"
          }
        },
        {
          "output_type": "display_data",
          "data": {
            "image/png": "[encoded data removed]",
            "text/plain": [
              "<Figure size 576x432 with 1 Axes>"
            ]
          },
          "metadata": {
            "needs_background": "light"
          }
        }
      ]
    },
    {
      "cell_type": "code",
      "metadata": {
        "colab": {
          "base_uri": "https://localhost:8080/",
          "height": 1000
        },
        "id": "v_atRkQol89l",
        "outputId": "24e45dcb-7834-4249-ef20-b2858174e069"
      },
      "source": [
        "for i in range(nClass):\n",
        "    \n",
        "    plot_curve_error(pred_test_mean_iteration[i], pred_test_std_iteration[i], 'iteration', 'prediction', 'prediction (testing)')"
      ],
      "execution_count": 47,
      "outputs": [
        {
          "output_type": "display_data",
          "data": {
            "image/png": "[encoded data removed]",
            "text/plain": [
              "<Figure size 576x432 with 1 Axes>"
            ]
          },
          "metadata": {
            "needs_background": "light"
          }
        },
        {
          "output_type": "display_data",
          "data": {
            "image/png": "[encoded data removed]",
            "text/plain": [
              "<Figure size 576x432 with 1 Axes>"
            ]
          },
          "metadata": {
            "needs_background": "light"
          }
        },
        {
          "output_type": "display_data",
          "data": {
            "image/png": "[encoded data removed]",
            "text/plain": [
              "<Figure size 576x432 with 1 Axes>"
            ]
          },
          "metadata": {
            "needs_background": "light"
          }
        },
        {
          "output_type": "display_data",
          "data": {
            "image/png": "[encoded data removed]",
            "text/plain": [
              "<Figure size 576x432 with 1 Axes>"
            ]
          },
          "metadata": {
            "needs_background": "light"
          }
        },
        {
          "output_type": "display_data",
          "data": {
            "image/png": "[encoded data removed]",
            "text/plain": [
              "<Figure size 576x432 with 1 Axes>"
            ]
          },
          "metadata": {
            "needs_background": "light"
          }
        }
      ]
    },
    {
      "cell_type": "markdown",
      "metadata": {
        "id": "M8_EBdTrl89l"
      },
      "source": [
        "## print values"
      ]
    },
    {
      "cell_type": "code",
      "metadata": {
        "id": "GVKDOuRpl89m"
      },
      "source": [
        "def print_curve(data, index):\n",
        "\n",
        "    for i in range(len(index)):\n",
        "\n",
        "        idx = index[i]\n",
        "        val = data[idx]\n",
        "\n",
        "        print('index = %4d, value = %12.10f' % (idx, val))"
      ],
      "execution_count": 48,
      "outputs": []
    },
    {
      "cell_type": "markdown",
      "metadata": {
        "id": "cxdpuFMal89m"
      },
      "source": [
        "## given iterations at which the values are presented"
      ]
    },
    {
      "cell_type": "code",
      "metadata": {
        "id": "XkQEZEFCl89m"
      },
      "source": [
        "index = np.array([0, 100, 200, 300, 400, 500, 600, 700, 800, 900])"
      ],
      "execution_count": 49,
      "outputs": []
    },
    {
      "cell_type": "markdown",
      "metadata": {
        "id": "e6dsI2ETl89n"
      },
      "source": [
        "## training loss"
      ]
    },
    {
      "cell_type": "code",
      "metadata": {
        "colab": {
          "base_uri": "https://localhost:8080/"
        },
        "id": "s7_B7Aifl89n",
        "outputId": "ea50da3d-5c98-4d1b-e5b9-95264cdc1770"
      },
      "source": [
        "print_curve(loss_train_iteration, index)"
      ],
      "execution_count": 50,
      "outputs": [
        {
          "output_type": "stream",
          "name": "stdout",
          "text": [
            "index =    0, value = 0.8516386202\n",
            "index =  100, value = 0.1339427238\n",
            "index =  200, value = 0.1157745173\n",
            "index =  300, value = 0.1069162570\n",
            "index =  400, value = 0.1011695608\n",
            "index =  500, value = 0.0969351008\n",
            "index =  600, value = 0.0935855668\n",
            "index =  700, value = 0.0908150754\n",
            "index =  800, value = 0.0884524825\n",
            "index =  900, value = 0.0863925685\n"
          ]
        }
      ]
    },
    {
      "cell_type": "markdown",
      "metadata": {
        "id": "N8h44h5Ol89o"
      },
      "source": [
        "## testing loss"
      ]
    },
    {
      "cell_type": "code",
      "metadata": {
        "colab": {
          "base_uri": "https://localhost:8080/"
        },
        "id": "vfVZCwOul89o",
        "outputId": "d8e0aba5-4fc8-423b-9f38-06fca2f0dd9a"
      },
      "source": [
        "print_curve(loss_test_iteration, index)"
      ],
      "execution_count": 51,
      "outputs": [
        {
          "output_type": "stream",
          "name": "stdout",
          "text": [
            "index =    0, value = 0.8360540007\n",
            "index =  100, value = 0.1155828242\n",
            "index =  200, value = 0.1030637888\n",
            "index =  300, value = 0.0984413794\n",
            "index =  400, value = 0.0961411719\n",
            "index =  500, value = 0.0948357887\n",
            "index =  600, value = 0.0940426584\n",
            "index =  700, value = 0.0935442408\n",
            "index =  800, value = 0.0932286112\n",
            "index =  900, value = 0.0930327785\n"
          ]
        }
      ]
    },
    {
      "cell_type": "markdown",
      "metadata": {
        "id": "JNHvEcZfl89o"
      },
      "source": [
        "## training accuracy"
      ]
    },
    {
      "cell_type": "code",
      "metadata": {
        "colab": {
          "base_uri": "https://localhost:8080/"
        },
        "id": "J2cW1ynOl89o",
        "outputId": "af8f6082-bb7c-4792-bc66-7579b67ed395"
      },
      "source": [
        "print_curve(accuracy_train_iteration, index)"
      ],
      "execution_count": 52,
      "outputs": [
        {
          "output_type": "stream",
          "name": "stdout",
          "text": [
            "index =    0, value = 0.8142000000\n",
            "index =  100, value = 0.9630000000\n",
            "index =  200, value = 0.9674000000\n",
            "index =  300, value = 0.9701000000\n",
            "index =  400, value = 0.9716000000\n",
            "index =  500, value = 0.9725000000\n",
            "index =  600, value = 0.9731000000\n",
            "index =  700, value = 0.9739000000\n",
            "index =  800, value = 0.9749000000\n",
            "index =  900, value = 0.9752000000\n"
          ]
        }
      ]
    },
    {
      "cell_type": "markdown",
      "metadata": {
        "id": "EWXdZCu3l89p"
      },
      "source": [
        "## testing accuracy"
      ]
    },
    {
      "cell_type": "code",
      "metadata": {
        "colab": {
          "base_uri": "https://localhost:8080/"
        },
        "id": "2YApSSS4l89p",
        "outputId": "1c6ced19-3a00-43aa-bfbd-51d4ba98b182"
      },
      "source": [
        "print_curve(accuracy_test_iteration, index)"
      ],
      "execution_count": 53,
      "outputs": [
        {
          "output_type": "stream",
          "name": "stdout",
          "text": [
            "index =    0, value = 0.8331111111\n",
            "index =  100, value = 0.9708888889\n",
            "index =  200, value = 0.9720000000\n",
            "index =  300, value = 0.9726666667\n",
            "index =  400, value = 0.9744444444\n",
            "index =  500, value = 0.9733333333\n",
            "index =  600, value = 0.9735555556\n",
            "index =  700, value = 0.9735555556\n",
            "index =  800, value = 0.9731111111\n",
            "index =  900, value = 0.9733333333\n"
          ]
        }
      ]
    },
    {
      "cell_type": "markdown",
      "metadata": {
        "id": "YU2KJLovl89p"
      },
      "source": [
        "## functions for presenting the results"
      ]
    },
    {
      "cell_type": "code",
      "metadata": {
        "id": "9zBGHNtAl89q"
      },
      "source": [
        "def function_results_01(*args):\n",
        "    index_class_plot = index_train[0][0:nPlot]\n",
        "    plot_data_grid(x_train, index_class_plot, nRow, nCol)\n",
        "    pass"
      ],
      "execution_count": 54,
      "outputs": []
    },
    {
      "cell_type": "code",
      "metadata": {
        "id": "hLtxRaTUl89q"
      },
      "source": [
        "def function_results_02(*args):\n",
        "    \n",
        "    pass"
      ],
      "execution_count": null,
      "outputs": []
    },
    {
      "cell_type": "code",
      "metadata": {
        "id": "V7Gxo1G1l89q"
      },
      "source": [
        "def function_results_03(*args):\n",
        "    \n",
        "    pass"
      ],
      "execution_count": null,
      "outputs": []
    },
    {
      "cell_type": "code",
      "metadata": {
        "id": "rFOlQDlil89r"
      },
      "source": [
        "def function_results_04(*args):\n",
        "    \n",
        "    pass"
      ],
      "execution_count": null,
      "outputs": []
    },
    {
      "cell_type": "code",
      "metadata": {
        "id": "XagnSpxll89r"
      },
      "source": [
        "def function_results_05(*args):\n",
        "    \n",
        "    pass"
      ],
      "execution_count": null,
      "outputs": []
    },
    {
      "cell_type": "code",
      "metadata": {
        "id": "WA-xg3dkl89r"
      },
      "source": [
        "def function_results_06(*args):\n",
        "    \n",
        "    pass"
      ],
      "execution_count": null,
      "outputs": []
    },
    {
      "cell_type": "code",
      "metadata": {
        "id": "548OzHerl89r"
      },
      "source": [
        "def function_results_07(*args):\n",
        "    \n",
        "    pass"
      ],
      "execution_count": null,
      "outputs": []
    },
    {
      "cell_type": "code",
      "metadata": {
        "id": "TWfxn2psl89s"
      },
      "source": [
        "def function_results_08(*args):\n",
        "    \n",
        "    pass"
      ],
      "execution_count": null,
      "outputs": []
    },
    {
      "cell_type": "code",
      "metadata": {
        "id": "uWg0jvn_l89s"
      },
      "source": [
        "def function_results_09(*args):\n",
        "    \n",
        "    pass"
      ],
      "execution_count": null,
      "outputs": []
    },
    {
      "cell_type": "code",
      "metadata": {
        "id": "6PhLsZWGl89s"
      },
      "source": [
        "def function_results_10(*args):\n",
        "    \n",
        "    pass"
      ],
      "execution_count": null,
      "outputs": []
    },
    {
      "cell_type": "code",
      "metadata": {
        "id": "3ZieJa1Sl89t"
      },
      "source": [
        "def function_results_11(*args):\n",
        "    \n",
        "    pass"
      ],
      "execution_count": null,
      "outputs": []
    },
    {
      "cell_type": "code",
      "metadata": {
        "id": "ivi8kIPpl89t"
      },
      "source": [
        "def function_results_12(*args):\n",
        "    \n",
        "    pass"
      ],
      "execution_count": null,
      "outputs": []
    },
    {
      "cell_type": "code",
      "metadata": {
        "id": "cXURt27nl89t"
      },
      "source": [
        "def function_results_13(*args):\n",
        "    \n",
        "    pass"
      ],
      "execution_count": null,
      "outputs": []
    },
    {
      "cell_type": "markdown",
      "metadata": {
        "id": "0Dl5c9ndl89t"
      },
      "source": [
        "---"
      ]
    },
    {
      "cell_type": "markdown",
      "metadata": {
        "id": "kIrdxo1ll89u"
      },
      "source": [
        "# RESULTS"
      ]
    },
    {
      "cell_type": "markdown",
      "metadata": {
        "id": "qXFYNTM6l89u"
      },
      "source": [
        "---"
      ]
    },
    {
      "cell_type": "markdown",
      "metadata": {
        "id": "8M2ZhZOYl89u"
      },
      "source": [
        "## # 01. plot the input images for '0'"
      ]
    },
    {
      "cell_type": "code",
      "metadata": {
        "colab": {
          "base_uri": "https://localhost:8080/",
          "height": 456
        },
        "id": "DTRfqpapl89u",
        "outputId": "212a39d5-b735-4070-b721-da24a4d4e5c4"
      },
      "source": [
        "function_results_01(...)"
      ],
      "execution_count": 55,
      "outputs": [
        {
          "output_type": "display_data",
          "data": {
            "image/png": "[encoded data removed]",
            "text/plain": [
              "<Figure size 864x432 with 8 Axes>"
            ]
          },
          "metadata": {
            "needs_background": "light"
          }
        }
      ]
    },
    {
      "cell_type": "markdown",
      "metadata": {
        "id": "mpIg0DJfl89v"
      },
      "source": [
        "## # 02. plot the input images for '1'"
      ]
    },
    {
      "cell_type": "code",
      "metadata": {
        "id": "JlddJry5l89v",
        "outputId": "23c9987f-b49a-4dd6-bd42-37c07f5019cd"
      },
      "source": [
        "function_results_02(...)"
      ],
      "execution_count": null,
      "outputs": [
        {
          "output_type": "display_data",
          "data": {
            "image/png": "[encoded data removed]",
            "text/plain": [
              "<Figure size 864x432 with 8 Axes>"
            ]
          },
          "metadata": {
            "needs_background": "light"
          }
        }
      ]
    },
    {
      "cell_type": "markdown",
      "metadata": {
        "id": "PRlMMVSDl89w"
      },
      "source": [
        "## # 03. plot the input images for '2'"
      ]
    },
    {
      "cell_type": "code",
      "metadata": {
        "id": "Rt-cxhLYl89w",
        "outputId": "39ebbe63-1601-4275-8952-a542ec93cfdd"
      },
      "source": [
        "function_results_03(...)"
      ],
      "execution_count": null,
      "outputs": [
        {
          "output_type": "display_data",
          "data": {
            "image/png": "[encoded data removed]",
            "text/plain": [
              "<Figure size 864x432 with 8 Axes>"
            ]
          },
          "metadata": {
            "needs_background": "light"
          }
        }
      ]
    },
    {
      "cell_type": "markdown",
      "metadata": {
        "id": "ar7_j9del89w"
      },
      "source": [
        "## # 04. plot the input images for '3'"
      ]
    },
    {
      "cell_type": "code",
      "metadata": {
        "id": "77TdCEGVl89w",
        "outputId": "cb8a860a-4165-4704-88b0-344760ca74f8"
      },
      "source": [
        "function_results_04(...)"
      ],
      "execution_count": null,
      "outputs": [
        {
          "output_type": "display_data",
          "data": {
            "image/png": "[encoded data removed]",
            "text/plain": [
              "<Figure size 864x432 with 8 Axes>"
            ]
          },
          "metadata": {
            "needs_background": "light"
          }
        }
      ]
    },
    {
      "cell_type": "markdown",
      "metadata": {
        "id": "m_SE1c9ql89x"
      },
      "source": [
        "## # 05. plot the input images for '4'"
      ]
    },
    {
      "cell_type": "code",
      "metadata": {
        "id": "XAyrqnZcl89x",
        "outputId": "7383bc54-4bd4-4488-b42c-3d03c19c6a48"
      },
      "source": [
        "function_results_05(...)"
      ],
      "execution_count": null,
      "outputs": [
        {
          "output_type": "display_data",
          "data": {
            "image/png": "[encoded data removed]",
            "text/plain": [
              "<Figure size 864x432 with 8 Axes>"
            ]
          },
          "metadata": {
            "needs_background": "light"
          }
        }
      ]
    },
    {
      "cell_type": "markdown",
      "metadata": {
        "id": "Itkw0ixml89x"
      },
      "source": [
        "## # 06. plot the training loss curve (x-axis: iteration, y-axis: loss)"
      ]
    },
    {
      "cell_type": "code",
      "metadata": {
        "id": "rRasVQ21l89y",
        "outputId": "38b7bc03-7da3-4aa3-99f9-bceb13435080"
      },
      "source": [
        "function_results_06(...)"
      ],
      "execution_count": null,
      "outputs": [
        {
          "output_type": "display_data",
          "data": {
            "image/png": "[encoded data removed]",
            "text/plain": [
              "<Figure size 576x432 with 1 Axes>"
            ]
          },
          "metadata": {
            "needs_background": "light"
          }
        }
      ]
    },
    {
      "cell_type": "markdown",
      "metadata": {
        "id": "io8ng5Ill89y"
      },
      "source": [
        "## # 07. plot the testing loss curve (x-axis: iteration, y-axis: loss)"
      ]
    },
    {
      "cell_type": "code",
      "metadata": {
        "id": "uDVj6nvfl89y",
        "outputId": "2a203fbf-5afb-4746-b037-93339419878b"
      },
      "source": [
        "function_results_07(...)"
      ],
      "execution_count": null,
      "outputs": [
        {
          "output_type": "display_data",
          "data": {
            "image/png": "[encoded data removed]",
            "text/plain": [
              "<Figure size 576x432 with 1 Axes>"
            ]
          },
          "metadata": {
            "needs_background": "light"
          }
        }
      ]
    },
    {
      "cell_type": "markdown",
      "metadata": {
        "id": "Sc6FOZWHl89z"
      },
      "source": [
        "## # 08. plot the training accuracy curve (x-axis: iteration, y-axis: accuracy)"
      ]
    },
    {
      "cell_type": "code",
      "metadata": {
        "id": "klNtTI8Kl89z",
        "outputId": "66ae666c-1943-4802-e7c8-ed60c0792653"
      },
      "source": [
        "function_results_08(...)"
      ],
      "execution_count": null,
      "outputs": [
        {
          "output_type": "display_data",
          "data": {
            "image/png": "[encoded data removed]",
            "text/plain": [
              "<Figure size 576x432 with 1 Axes>"
            ]
          },
          "metadata": {
            "needs_background": "light"
          }
        }
      ]
    },
    {
      "cell_type": "markdown",
      "metadata": {
        "id": "iI29yHeUl89z"
      },
      "source": [
        "## # 09. plot the testing accuracy curve (x-axis: iteration, y-axis: accuracy)"
      ]
    },
    {
      "cell_type": "code",
      "metadata": {
        "id": "ns0SDGQLl890",
        "outputId": "5dedb3a5-60bd-429e-db0f-a9701c1087e9"
      },
      "source": [
        "function_results_09(...)"
      ],
      "execution_count": null,
      "outputs": [
        {
          "output_type": "display_data",
          "data": {
            "image/png": "[encoded data removed]",
            "text/plain": [
              "<Figure size 576x432 with 1 Axes>"
            ]
          },
          "metadata": {
            "needs_background": "light"
          }
        }
      ]
    },
    {
      "cell_type": "markdown",
      "metadata": {
        "id": "mgldb2rsl890"
      },
      "source": [
        "## # 10. print the training loss at iterations 0, 100, 200, 300, 400, 500, 600, 700, 800, 900"
      ]
    },
    {
      "cell_type": "code",
      "metadata": {
        "id": "mKW9fRJwl892",
        "outputId": "c3cdb807-c120-4f82-ae4d-14ee3abb9c03"
      },
      "source": [
        "function_results_10(...)"
      ],
      "execution_count": null,
      "outputs": [
        {
          "output_type": "stream",
          "name": "stdout",
          "text": [
            "index =    0, value = 0.0000000000\n",
            "index =  100, value = 0.0000000000\n",
            "index =  200, value = 0.0000000000\n",
            "index =  300, value = 0.0000000000\n",
            "index =  400, value = 0.0000000000\n",
            "index =  500, value = 0.0000000000\n",
            "index =  600, value = 0.0000000000\n",
            "index =  700, value = 0.0000000000\n",
            "index =  800, value = 0.0000000000\n",
            "index =  900, value = 0.0000000000\n"
          ]
        }
      ]
    },
    {
      "cell_type": "markdown",
      "metadata": {
        "id": "pw1Zco-ql893"
      },
      "source": [
        "## # 11. print the testing loss at iterations 0, 100, 200, 300, 400, 500, 600, 700, 800, 900"
      ]
    },
    {
      "cell_type": "code",
      "metadata": {
        "id": "9Uo7r5Kgl893",
        "outputId": "46672a6f-3bac-49a5-fdde-dadbc8ebb906"
      },
      "source": [
        "function_results_11(...)"
      ],
      "execution_count": null,
      "outputs": [
        {
          "output_type": "stream",
          "name": "stdout",
          "text": [
            "index =    0, value = 0.0000000000\n",
            "index =  100, value = 0.0000000000\n",
            "index =  200, value = 0.0000000000\n",
            "index =  300, value = 0.0000000000\n",
            "index =  400, value = 0.0000000000\n",
            "index =  500, value = 0.0000000000\n",
            "index =  600, value = 0.0000000000\n",
            "index =  700, value = 0.0000000000\n",
            "index =  800, value = 0.0000000000\n",
            "index =  900, value = 0.0000000000\n"
          ]
        }
      ]
    },
    {
      "cell_type": "markdown",
      "metadata": {
        "id": "Vo8sn2XWl893"
      },
      "source": [
        "## # 12. print the training accuracy at iterations 0, 100, 200, 300, 400, 500, 600, 700, 800, 900"
      ]
    },
    {
      "cell_type": "code",
      "metadata": {
        "id": "d3UKBfjFl894",
        "outputId": "730722fe-af01-4ca8-9102-c1af568cd853"
      },
      "source": [
        "function_results_12(...)"
      ],
      "execution_count": null,
      "outputs": [
        {
          "output_type": "stream",
          "name": "stdout",
          "text": [
            "index =    0, value = 0.0000000000\n",
            "index =  100, value = 0.0000000000\n",
            "index =  200, value = 0.0000000000\n",
            "index =  300, value = 0.0000000000\n",
            "index =  400, value = 0.0000000000\n",
            "index =  500, value = 0.0000000000\n",
            "index =  600, value = 0.0000000000\n",
            "index =  700, value = 0.0000000000\n",
            "index =  800, value = 0.0000000000\n",
            "index =  900, value = 0.0000000000\n"
          ]
        }
      ]
    },
    {
      "cell_type": "markdown",
      "metadata": {
        "id": "wq-1qX7kl894"
      },
      "source": [
        "## # 13. print the testing accuracy at iterations 0, 100, 200, 300, 400, 500, 600, 700, 800, 900"
      ]
    },
    {
      "cell_type": "code",
      "metadata": {
        "id": "NAajm26Yl894",
        "outputId": "8bc1b926-6569-4a1e-a800-151e4cf8cc64"
      },
      "source": [
        "function_results_13(...)"
      ],
      "execution_count": null,
      "outputs": [
        {
          "output_type": "stream",
          "name": "stdout",
          "text": [
            "index =    0, value = 0.0000000000\n",
            "index =  100, value = 0.0000000000\n",
            "index =  200, value = 0.0000000000\n",
            "index =  300, value = 0.0000000000\n",
            "index =  400, value = 0.0000000000\n",
            "index =  500, value = 0.0000000000\n",
            "index =  600, value = 0.0000000000\n",
            "index =  700, value = 0.0000000000\n",
            "index =  800, value = 0.0000000000\n",
            "index =  900, value = 0.0000000000\n"
          ]
        }
      ]
    },
    {
      "cell_type": "code",
      "metadata": {
        "id": "3fWR3KGLl895"
      },
      "source": [
        ""
      ],
      "execution_count": null,
      "outputs": []
    }
  ]
}