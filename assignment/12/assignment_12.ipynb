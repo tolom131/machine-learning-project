{
  "cells": [
    {
      "cell_type": "markdown",
      "metadata": {
        "id": "K29I-OwCEYzW",
        "outputId": "db8b297c-a4b8-457a-b43f-7570135306c7"
      },
      "source": [
        "# Image Generation via Generative Adversarial Networks"
      ]
    },
    {
      "cell_type": "markdown",
      "metadata": {
        "id": "ODiv8rJRZiYC"
      },
      "source": [
        "## import libraries"
      ]
    },
    {
      "cell_type": "code",
      "execution_count": 1,
      "metadata": {
        "id": "9Wmr9dMLZiYD"
      },
      "outputs": [],
      "source": [
        "import torch\n",
        "import torch.nn as nn\n",
        "import torch.nn.functional as F\n",
        "import torchvision\n",
        "from torch.utils.data import Dataset\n",
        "from torch.utils.data import DataLoader\n",
        "from torchvision import datasets, transforms\n",
        "import numpy as np\n",
        "import matplotlib.pyplot as plt\n",
        "import math\n",
        "from tqdm import tqdm, tqdm_notebook\n",
        "import random\n",
        "import os\n",
        "from torchvision.utils import make_grid"
      ]
    },
    {
      "cell_type": "markdown",
      "metadata": {
        "id": "QK2e8feGZiYE"
      },
      "source": [
        "## load data"
      ]
    },
    {
      "cell_type": "code",
      "execution_count": 2,
      "metadata": {
        "id": "9xfI-4R9ZiYE",
        "outputId": "7f553b30-38eb-4170-c2ae-9ad0fe842348",
        "colab": {
          "base_uri": "https://localhost:8080/"
        }
      },
      "outputs": [
        {
          "output_type": "stream",
          "name": "stdout",
          "text": [
            "Drive already mounted at /content/drive/; to attempt to forcibly remount, call drive.mount(\"/content/drive/\", force_remount=True).\n"
          ]
        }
      ],
      "source": [
        "from google.colab import drive \n",
        "drive.mount('/content/drive/')\n",
        "\n",
        "directory_data  = './drive/MyDrive/Machine_Learning/'\n",
        "filename_data   = 'assignment_12_data.npz'\n",
        "data            = np.load(os.path.join(directory_data, filename_data))\n",
        "\n",
        "real            = torch.from_numpy(data['real_images']).float()"
      ]
    },
    {
      "cell_type": "markdown",
      "metadata": {
        "id": "jpOgjgv1ZiYF"
      },
      "source": [
        "## hyper-parameters"
      ]
    },
    {
      "cell_type": "code",
      "execution_count": 3,
      "metadata": {
        "id": "uiMjm-PXZiYF"
      },
      "outputs": [],
      "source": [
        "device          = torch.device('cuda' if torch.cuda.is_available() else 'cpu')\n",
        "\n",
        "number_epoch    = 100\n",
        "size_minibatch  = 128\n",
        "dim_latent      = 50\n",
        "dim_channel     = 1\n",
        "learning_rate_discriminator = 0.0005\n",
        "learning_rate_generator     = 0.0005"
      ]
    },
    {
      "cell_type": "code",
      "source": [
        "import random\n",
        "def affine(image, shear=0, scale=1, rate=[10, 10]):\n",
        "\n",
        "    func_plt = transforms.functional.to_pil_image\n",
        "    func_affine = transforms.functional.affine\n",
        "    func_tensor = transforms.functional.to_tensor\n",
        "\n",
        "    for i in range(len(image)):\n",
        "\n",
        "        # random movement\n",
        "        if rate[0] != 0:\n",
        "            rate_1 = np.random.randint(-rate[0], rate[0]+1)\n",
        "            rate_2 = np.random.randint(-rate[1], rate[1]+1)\n",
        "            movement = [rate_1, rate_2]\n",
        "        else:\n",
        "            movement = rate\n",
        "\n",
        "        if isinstance(scale, list):\n",
        "            rescale = np.random.randint(scale[0], scale[1]+1) / 10\n",
        "        else:\n",
        "            rescale = scale\n",
        "\n",
        "\n",
        "        trans_image = func_plt(image[i])\n",
        "        trans_image = func_affine(trans_image, angle=0, shear=shear, scale=rescale, translate=movement)\n",
        "        trans_image = func_tensor(trans_image)\n",
        "        trans_image = trans_image.numpy()\n",
        "\n",
        "        if i == 0:\n",
        "            image_list = trans_image\n",
        "        else:\n",
        "            image_list = np.concatenate([image_list, trans_image], axis=0)\n",
        "\n",
        "    return image_list"
      ],
      "metadata": {
        "id": "hf7t8raoYE1C"
      },
      "execution_count": 4,
      "outputs": []
    },
    {
      "cell_type": "code",
      "source": [
        "# real_image = real[::2]\n",
        "# affine_12 = affine(real_image, scale=[5, 12], rate=[0, 0])\n",
        "# affine_random = affine(real_image, scale=1, rate=[3, 3])"
      ],
      "metadata": {
        "id": "CDCTxOw1YNh1"
      },
      "execution_count": 5,
      "outputs": []
    },
    {
      "cell_type": "markdown",
      "metadata": {
        "id": "QrxulfRFZiYG"
      },
      "source": [
        "## custom data loader for the PyTorch framework"
      ]
    },
    {
      "cell_type": "code",
      "execution_count": 6,
      "metadata": {
        "id": "yNQe4OUCZiYH"
      },
      "outputs": [],
      "source": [
        "class dataset (Dataset):\n",
        "    def  __init__(self, data):\n",
        "\n",
        "        self.data = data\n",
        "\n",
        "    def __getitem__(self, index):\n",
        "\n",
        "        data = self.data[index]\n",
        "        data = torch.FloatTensor(data).unsqueeze(dim=0)\n",
        "\n",
        "        return data\n",
        "  \n",
        "    def __len__(self):\n",
        "        \n",
        "        return self.data.shape[0]"
      ]
    },
    {
      "cell_type": "markdown",
      "metadata": {
        "id": "X2888l7eZiYI"
      },
      "source": [
        "## construct datasets and dataloaders for training and testing"
      ]
    },
    {
      "cell_type": "code",
      "execution_count": 7,
      "metadata": {
        "id": "UwcMO-WdZiYI"
      },
      "outputs": [],
      "source": [
        "# image_train = np.concatenate([real[1::2], affine_12, affine_random], axis=0)\n",
        "dataset_real    = dataset(real)\n",
        "dataloader_real = DataLoader(dataset_real, batch_size=size_minibatch, shuffle=True, drop_last=True)"
      ]
    },
    {
      "cell_type": "code",
      "source": [
        "real.shape"
      ],
      "metadata": {
        "id": "UQiaccCThGlz",
        "colab": {
          "base_uri": "https://localhost:8080/"
        },
        "outputId": "e2cd7dd7-1a7d-4695-82d0-c700834ef35b"
      },
      "execution_count": 8,
      "outputs": [
        {
          "output_type": "execute_result",
          "data": {
            "text/plain": [
              "torch.Size([4324, 32, 32])"
            ]
          },
          "metadata": {},
          "execution_count": 8
        }
      ]
    },
    {
      "cell_type": "markdown",
      "metadata": {
        "id": "cSai363jZiYI"
      },
      "source": [
        "## shape of the data when using the data loader"
      ]
    },
    {
      "cell_type": "code",
      "execution_count": 9,
      "metadata": {
        "id": "mjAvXxDPZiYJ",
        "outputId": "3b4c9afa-3c0c-4e81-ded6-257938584b88",
        "colab": {
          "base_uri": "https://localhost:8080/"
        }
      },
      "outputs": [
        {
          "output_type": "stream",
          "name": "stdout",
          "text": [
            "*******************************************************************\n",
            "shape of the image in the training dataset: torch.Size([1, 32, 32])\n",
            "*******************************************************************\n"
          ]
        }
      ],
      "source": [
        "image_real = dataset_real[0]\n",
        "print('*******************************************************************')\n",
        "print('shape of the image in the training dataset:', image_real.shape)\n",
        "print('*******************************************************************')"
      ]
    },
    {
      "cell_type": "markdown",
      "metadata": {
        "id": "nlKo6SbwZiYK"
      },
      "source": [
        "## class for the neural network "
      ]
    },
    {
      "cell_type": "code",
      "execution_count": 10,
      "metadata": {
        "id": "xLd-pfJnZiYK"
      },
      "outputs": [],
      "source": [
        "class Generator(nn.Module): \n",
        "\n",
        "\tdef __init__(self, in_channel=1, out_channel=1, dim_feature=8):\n",
        "        \n",
        "\t\tsuper(Generator, self).__init__()\n",
        "\n",
        "\t\tself.in_channel \t= in_channel\n",
        "\t\tself.out_channel\t= out_channel\n",
        "\t\tself.dim_feature\t= dim_feature\n",
        "\t\tthreshold_ReLU \t\t= 0.2\n",
        "\n",
        "\t\tself.network = nn.Sequential(\n",
        "\t\t\t# ================================================================================\n",
        "\t\t\tnn.Upsample(scale_factor=2, mode='bilinear', align_corners=False),\n",
        "\t\t\tnn.Conv2d(in_channel, dim_feature * 8, kernel_size=3, stride=1, padding=1, bias=True),\n",
        "\t\t\tnn.BatchNorm2d(dim_feature * 8),\n",
        "\t\t\tnn.LeakyReLU(threshold_ReLU, inplace=True),\n",
        "\t\t\t# ================================================================================\n",
        "\t\t\tnn.Upsample(scale_factor=2, mode='bilinear', align_corners=False),\n",
        "\t\t\tnn.Conv2d(dim_feature * 8, dim_feature * 4, kernel_size=3, stride=1, padding=1, bias=True),\n",
        "\t\t\tnn.BatchNorm2d(dim_feature * 4),\n",
        "\t\t\tnn.LeakyReLU(threshold_ReLU, inplace=True),\n",
        "\t\t\t# ================================================================================\n",
        "\t\t\tnn.Upsample(scale_factor=2, mode='bilinear', align_corners=False),\n",
        "\t\t\tnn.Conv2d(dim_feature * 4, dim_feature * 2, kernel_size=3, stride=1, padding=1, bias=True),\n",
        "\t\t\tnn.BatchNorm2d(dim_feature * 2),\n",
        "\t\t\tnn.LeakyReLU(threshold_ReLU, inplace=True),\n",
        "\t\t\t# ================================================================================\n",
        "\t\t\tnn.Upsample(scale_factor=2, mode='bilinear', align_corners=False),\n",
        "\t\t\tnn.Conv2d(dim_feature * 2, dim_feature * 1, kernel_size=3, stride=1, padding=1, bias=True),\n",
        "\t\t\tnn.BatchNorm2d(dim_feature * 1),\n",
        "\t\t\tnn.LeakyReLU(threshold_ReLU, inplace=True),\n",
        "\t\t\t# ================================================================================\n",
        "\t\t\tnn.Upsample(scale_factor=2, mode='bilinear', align_corners=False),\n",
        "\t\t\tnn.Conv2d(dim_feature * 1, out_channel, kernel_size=3, stride=1, padding=1, bias=True),\n",
        "\t\t\tnn.BatchNorm2d(out_channel),\n",
        "\t\t\t# ================================================================================\n",
        "\t\t\tnn.Sigmoid(),\n",
        "\t\t\t# ================================================================================\n",
        "\t\t) \t\t\t\n",
        "\n",
        "\t\tself.initialize_weight()\n",
        "\t\t\n",
        "\t\t# *********************************************************************\n",
        "\t\t# forward propagation\n",
        "\t\t# *********************************************************************\n",
        "\tdef forward(self, x):\n",
        "\n",
        "\t\ty = self.network.forward(x)\n",
        "\n",
        "\t\treturn y\n",
        "\n",
        "\tdef initialize_weight(self):\n",
        "\t\n",
        "\t\tprint('initialize model parameters :', 'xavier_uniform')\n",
        "\n",
        "\t\tfor m in self.network.modules():\n",
        "\t\t\t\n",
        "\t\t\tif isinstance(m, nn.Conv2d):\n",
        "\t\t\t\t\n",
        "\t\t\t\tnn.init.xavier_uniform_(m.weight)\n",
        "\t\t\t\t\n",
        "\t\t\t\tif m.bias is not None:\n",
        "\n",
        "\t\t\t\t\tnn.init.constant_(m.bias, 1)\n",
        "\t\t\t\t\tpass\n",
        "\t\t\t\t\t\n",
        "\t\t\telif isinstance(m, nn.BatchNorm2d):\n",
        "\t\t\t\t\n",
        "\t\t\t\tnn.init.constant_(m.weight, 1)\n",
        "\t\t\t\tnn.init.constant_(m.bias, 1)\n",
        "\t\t\t\t\n",
        "\t\t\telif isinstance(m, nn.Linear):\n",
        "\t\t\t\t\n",
        "\t\t\t\tnn.init.xavier_uniform_(m.weight)\n",
        "\n",
        "\t\t\t\tif m.bias is not None:\n",
        "\t\t\t\t\t\n",
        "\t\t\t\t\tnn.init.constant_(m.bias, 1)\n",
        "\t\t\t\t\tpass"
      ]
    },
    {
      "cell_type": "code",
      "execution_count": 11,
      "metadata": {
        "id": "3TkAH7d1ZiYM"
      },
      "outputs": [],
      "source": [
        "class Discriminator(nn.Module): \n",
        "\n",
        "\tdef __init__(self, in_channel=1, out_channel=1, dim_feature=128):\n",
        "        \n",
        "\t\tsuper(Discriminator, self).__init__()\n",
        "\n",
        "\t\tself.in_channel \t= in_channel\n",
        "\t\tself.out_channel\t= out_channel\n",
        "\t\tself.dim_feature\t= dim_feature\n",
        "\t\tthreshold_ReLU \t\t= 0.2\n",
        "\t\t\n",
        "\t\tself.feature = nn.Sequential(\n",
        "\t\t\tnn.Dropout(0.2),\n",
        "\t\t\t# ================================================================================\n",
        "\t\t\tnn.Conv2d(in_channel, dim_feature * 1, kernel_size=3, stride=2, padding=1, bias=True),\n",
        "\t\t\tnn.LeakyReLU(threshold_ReLU, inplace=True),\n",
        "\t\t\t# ================================================================================\n",
        "\t\t\tnn.Conv2d(dim_feature * 1, dim_feature * 2, kernel_size=3, stride=2, padding=1, bias=True),\n",
        "\t\t\tnn.LeakyReLU(threshold_ReLU, inplace=True),\t\t\n",
        "\t\t\t# ================================================================================\n",
        "\t\t\tnn.Conv2d(dim_feature * 2, dim_feature * 4, kernel_size=3, stride=2, padding=1, bias=True),\n",
        "\t\t\tnn.LeakyReLU(threshold_ReLU, inplace=True),\t\t\n",
        "\t\t\t# ================================================================================\n",
        "\t\t\tnn.Conv2d(dim_feature * 4, dim_feature * 4, kernel_size=3, stride=2, padding=1, bias=True),\n",
        "\t\t\tnn.LeakyReLU(threshold_ReLU, inplace=True),\t\n",
        "\t\t\t# ================================================================================\n",
        "\t\t)\t\t\n",
        "\t\tself.classifier = nn.Sequential(\n",
        "\t\t\t# ================================================================================\n",
        "\t\t\tnn.Linear(dim_feature * 16, dim_feature * 8, bias=True),\n",
        "\t\t\tnn.LeakyReLU(threshold_ReLU, inplace=True),\t\t\t\n",
        "\t\t\t# ================================================================================\n",
        "\t\t\tnn.Linear(dim_feature * 8, dim_feature * 4, bias=True),\n",
        "\t\t\tnn.LeakyReLU(threshold_ReLU, inplace=True),\t\t\t\n",
        "\t\t\t# ================================================================================\n",
        "\t\t\tnn.Linear(dim_feature * 4, dim_feature * 2, bias=True),\n",
        "\t\t\tnn.LeakyReLU(threshold_ReLU, inplace=True),\t\t\t\n",
        "\t\t\t# ================================================================================\n",
        "\t\t\tnn.Linear(dim_feature * 2, out_channel, bias=True),\n",
        "\t\t\t# ================================================================================\n",
        "\t\t) \n",
        "\n",
        "\t\tself.network = nn.Sequential(\n",
        "\t\t\tself.feature,\n",
        "\t\t\tnn.Flatten(),\n",
        "\t\t\tself.classifier,\n",
        "\t\t)\n",
        "\n",
        "\t\tself.initialize_weight()\n",
        "\n",
        "\t\t# *********************************************************************\n",
        "\t\t# forward propagation\n",
        "\t\t# *********************************************************************\n",
        "\tdef forward(self, x):\n",
        "\n",
        "\t\ty = self.network(x)\n",
        "\n",
        "\t\treturn y\n",
        "\n",
        "\tdef initialize_weight(self):\n",
        "\t\n",
        "\t\tprint('initialize model parameters :', 'xavier_uniform')\n",
        "\n",
        "\t\tfor m in self.network.modules():\n",
        "\t\t\t\n",
        "\t\t\tif isinstance(m, nn.Conv2d):\n",
        "\t\t\t\t\n",
        "\t\t\t\tnn.init.xavier_uniform_(m.weight)\n",
        "\t\t\t\t\n",
        "\t\t\t\tif m.bias is not None:\n",
        "\n",
        "\t\t\t\t\tnn.init.constant_(m.bias, 1)\n",
        "\t\t\t\t\tpass\n",
        "\t\t\t\t\t\n",
        "\t\t\telif isinstance(m, nn.BatchNorm2d):\n",
        "\t\t\t\t\n",
        "\t\t\t\tnn.init.constant_(m.weight, 1)\n",
        "\t\t\t\tnn.init.constant_(m.bias, 1)\n",
        "\t\t\t\t\n",
        "\t\t\telif isinstance(m, nn.Linear):\n",
        "\t\t\t\t\n",
        "\t\t\t\tnn.init.xavier_uniform_(m.weight)\n",
        "\n",
        "\t\t\t\tif m.bias is not None:\n",
        "\t\t\t\t\t\n",
        "\t\t\t\t\tnn.init.constant_(m.bias, 1)\n",
        "\t\t\t\t\tpass"
      ]
    },
    {
      "cell_type": "markdown",
      "metadata": {
        "id": "j_KE-qN1ZiYP"
      },
      "source": [
        "## build network"
      ]
    },
    {
      "cell_type": "code",
      "execution_count": 12,
      "metadata": {
        "id": "lA6RQiZfZiYQ",
        "outputId": "eb45a6ca-7acd-44c0-9f99-aea8d11d4318",
        "colab": {
          "base_uri": "https://localhost:8080/"
        }
      },
      "outputs": [
        {
          "output_type": "stream",
          "name": "stdout",
          "text": [
            "initialize model parameters : xavier_uniform\n",
            "initialize model parameters : xavier_uniform\n"
          ]
        }
      ],
      "source": [
        "generator       = Generator(dim_latent, 1, 128).to(device)\n",
        "discriminator   = Discriminator(dim_channel, 1, 128).to(device)\n",
        "\n",
        "optimizer_generator     = torch.optim.AdamW(generator.parameters(), lr=learning_rate_generator, betas=(0.5, 0.999))\n",
        "optimizer_discriminator = torch.optim.AdamW(discriminator.parameters(), lr=learning_rate_discriminator, betas=(0.9, 0.999))"
      ]
    },
    {
      "cell_type": "code",
      "source": [
        "from torchsummary import summary\n",
        "summary(discriminator, (1, 32, 32))"
      ],
      "metadata": {
        "colab": {
          "base_uri": "https://localhost:8080/"
        },
        "id": "0D32KP_q1o5t",
        "outputId": "33d07385-fada-4aa5-8063-d571fc58d1e6"
      },
      "execution_count": 13,
      "outputs": [
        {
          "output_type": "stream",
          "name": "stdout",
          "text": [
            "----------------------------------------------------------------\n",
            "        Layer (type)               Output Shape         Param #\n",
            "================================================================\n",
            "           Dropout-1            [-1, 1, 32, 32]               0\n",
            "           Dropout-2            [-1, 1, 32, 32]               0\n",
            "            Conv2d-3          [-1, 128, 16, 16]           1,280\n",
            "            Conv2d-4          [-1, 128, 16, 16]           1,280\n",
            "         LeakyReLU-5          [-1, 128, 16, 16]               0\n",
            "         LeakyReLU-6          [-1, 128, 16, 16]               0\n",
            "            Conv2d-7            [-1, 256, 8, 8]         295,168\n",
            "            Conv2d-8            [-1, 256, 8, 8]         295,168\n",
            "         LeakyReLU-9            [-1, 256, 8, 8]               0\n",
            "        LeakyReLU-10            [-1, 256, 8, 8]               0\n",
            "           Conv2d-11            [-1, 512, 4, 4]       1,180,160\n",
            "           Conv2d-12            [-1, 512, 4, 4]       1,180,160\n",
            "        LeakyReLU-13            [-1, 512, 4, 4]               0\n",
            "        LeakyReLU-14            [-1, 512, 4, 4]               0\n",
            "           Conv2d-15            [-1, 512, 2, 2]       2,359,808\n",
            "           Conv2d-16            [-1, 512, 2, 2]       2,359,808\n",
            "        LeakyReLU-17            [-1, 512, 2, 2]               0\n",
            "        LeakyReLU-18            [-1, 512, 2, 2]               0\n",
            "          Flatten-19                 [-1, 2048]               0\n",
            "           Linear-20                 [-1, 1024]       2,098,176\n",
            "           Linear-21                 [-1, 1024]       2,098,176\n",
            "        LeakyReLU-22                 [-1, 1024]               0\n",
            "        LeakyReLU-23                 [-1, 1024]               0\n",
            "           Linear-24                  [-1, 512]         524,800\n",
            "           Linear-25                  [-1, 512]         524,800\n",
            "        LeakyReLU-26                  [-1, 512]               0\n",
            "        LeakyReLU-27                  [-1, 512]               0\n",
            "           Linear-28                  [-1, 256]         131,328\n",
            "           Linear-29                  [-1, 256]         131,328\n",
            "        LeakyReLU-30                  [-1, 256]               0\n",
            "        LeakyReLU-31                  [-1, 256]               0\n",
            "           Linear-32                    [-1, 1]             257\n",
            "           Linear-33                    [-1, 1]             257\n",
            "================================================================\n",
            "Total params: 13,181,954\n",
            "Trainable params: 13,181,954\n",
            "Non-trainable params: 0\n",
            "----------------------------------------------------------------\n",
            "Input size (MB): 0.00\n",
            "Forward/backward pass size (MB): 1.90\n",
            "Params size (MB): 50.29\n",
            "Estimated Total Size (MB): 52.19\n",
            "----------------------------------------------------------------\n"
          ]
        }
      ]
    },
    {
      "cell_type": "markdown",
      "metadata": {
        "id": "SIm_yasuZiYS"
      },
      "source": [
        "## compute the prediction"
      ]
    },
    {
      "cell_type": "code",
      "execution_count": 14,
      "metadata": {
        "id": "0mGxiPm4ZiYS"
      },
      "outputs": [],
      "source": [
        "def compute_prediction(model, input):\n",
        "\n",
        "    prediction = model(input)\n",
        "\n",
        "    return prediction"
      ]
    },
    {
      "cell_type": "markdown",
      "metadata": {
        "id": "iZQhbkdOZiYS"
      },
      "source": [
        "## compute the loss"
      ]
    },
    {
      "cell_type": "code",
      "execution_count": 15,
      "metadata": {
        "id": "2Gi0Von_ZiYS"
      },
      "outputs": [],
      "source": [
        "def compute_loss_discriminator(generator, discriminator, latent, data_real):\n",
        "\n",
        "    data_fake       = compute_prediction(generator, latent)\n",
        "    prediction_real = compute_prediction(discriminator, data_real)\n",
        "    prediction_fake = compute_prediction(discriminator, data_fake)\n",
        "\n",
        "    criterion   = nn.BCEWithLogitsLoss()\n",
        "    \n",
        "    label_real  = torch.ones_like(prediction_real)\n",
        "    label_fake  = torch.zeros_like(prediction_fake)\n",
        "\n",
        "    # ==================================================\n",
        "    # fill up the blank\n",
        "    #    \n",
        "    loss_real = criterion(prediction_real, label_real)\n",
        "    loss_fake = criterion(prediction_fake, label_fake)\n",
        "    # \n",
        "    # ==================================================\n",
        "\n",
        "    loss_discriminator = (loss_real + loss_fake) / 2.0\n",
        "\n",
        "    return loss_discriminator"
      ]
    },
    {
      "cell_type": "code",
      "execution_count": 16,
      "metadata": {
        "id": "w67uMCXkZiYS"
      },
      "outputs": [],
      "source": [
        "def compute_loss_generator(generator, discriminator, latent):\n",
        "\n",
        "    data_fake       = compute_prediction(generator, latent)\n",
        "    prediction_fake = compute_prediction(discriminator, data_fake)\n",
        "\n",
        "    criterion       = nn.BCEWithLogitsLoss()\n",
        "\n",
        "    label_real      = torch.ones_like(prediction_fake)\n",
        "\n",
        "    # ==================================================\n",
        "    # fill up the blank\n",
        "    #    \n",
        "    loss_generator  = criterion(prediction_fake, label_real)\n",
        "    # \n",
        "    # ==================================================\n",
        "\n",
        "    return loss_generator"
      ]
    },
    {
      "cell_type": "markdown",
      "metadata": {
        "id": "rnACLB1JZiYT"
      },
      "source": [
        "## compute the accuracy"
      ]
    },
    {
      "cell_type": "code",
      "execution_count": 17,
      "metadata": {
        "id": "g5g3SxP_ZiYU"
      },
      "outputs": [],
      "source": [
        "def get_center_index(binary_image):\n",
        "    \n",
        "    area_square = np.sum(binary_image)\n",
        "\n",
        "    height = binary_image.shape[0]\n",
        "    width = binary_image.shape[1]\n",
        "\n",
        "    x = np.linspace(0, width - 1, width)\n",
        "    y = np.linspace(0, height - 1, height)\n",
        "    indices_X, indices_Y = np.meshgrid(x, y)\n",
        "\n",
        "    x_mean = np.sum(binary_image * indices_X) / area_square\n",
        "    y_mean = np.sum(binary_image * indices_Y) / area_square\n",
        "\n",
        "    return (x_mean, y_mean)"
      ]
    },
    {
      "cell_type": "code",
      "execution_count": 18,
      "metadata": {
        "id": "CF1W_HGhZiYU"
      },
      "outputs": [],
      "source": [
        "# create ideal square image which has the same area to the input image\n",
        "def create_label(binary_images):\n",
        "    \n",
        "    label = np.zeros_like(binary_images)\n",
        "    \n",
        "    for i, binary_image in enumerate(binary_images):\n",
        "        \n",
        "        image_height = binary_image.shape[0]\n",
        "        image_width = binary_image.shape[1]\n",
        "\n",
        "        square_image = np.zeros((image_height, image_width))\n",
        "        square_length = np.round(np.sqrt(np.sum(binary_image)))\n",
        "\n",
        "        if square_length == 0:\n",
        "            # when there is no square\n",
        "            return square_image\n",
        "\n",
        "        (square_center_x, square_center_y) = get_center_index(binary_image)\n",
        "\n",
        "        if square_center_x < 0 or square_center_x > image_width - 1 or square_center_y < 0 or square_center_y > image_height - 1:\n",
        "            return square_image\n",
        "\n",
        "        top = np.ceil(square_center_y - square_length / 2)\n",
        "        bottom = np.floor(square_center_y + square_length / 2)\n",
        "        left = np.ceil(square_center_x - square_length / 2)\n",
        "        right = np.floor(square_center_x + square_length / 2)\n",
        "\n",
        "        top = int(top) if top >= 0 else 0\n",
        "        bottom = int(bottom) if bottom <= image_height - 1 else image_height - 1\n",
        "        left = int(left) if left >= 0 else 0\n",
        "        right = int(right) if right <= image_width - 1 else image_width - 1\n",
        "\n",
        "        square_image[top : bottom + 1, left : right + 1] = 1\n",
        "        \n",
        "        label[i] = square_image\n",
        "        \n",
        "    return label"
      ]
    },
    {
      "cell_type": "code",
      "execution_count": 19,
      "metadata": {
        "id": "gZ5GMpKqZiYU"
      },
      "outputs": [],
      "source": [
        "def compute_accuracy(prediction):\n",
        "\n",
        "    prediction  = prediction.squeeze(axis=1)\n",
        "    \n",
        "    prediction_binary   = (prediction >= 0.5).cpu().numpy().astype(int)\n",
        "    label               = create_label(prediction_binary).astype(int)\n",
        "    \n",
        "    region_intersection = prediction_binary & label\n",
        "    region_union        = prediction_binary | label\n",
        "\n",
        "    area_intersection   = region_intersection.sum(axis=1).sum(axis=1).astype(float)\n",
        "    area_union          = region_union.sum(axis=1).sum(axis=1).astype(float)\n",
        "\n",
        "    eps         = np.finfo(float).eps\n",
        "    correct     = area_intersection / (area_union + eps)\n",
        "    accuracy    = correct.mean() * 100.0\n",
        "    \n",
        "    return accuracy"
      ]
    },
    {
      "cell_type": "markdown",
      "metadata": {
        "id": "A2mS2JQyZiYU"
      },
      "source": [
        "## variables for the learning curve"
      ]
    },
    {
      "cell_type": "code",
      "execution_count": 20,
      "metadata": {
        "id": "OGibNn-WZiYU"
      },
      "outputs": [],
      "source": [
        "loss_generator_mean     = np.zeros(number_epoch)\n",
        "loss_generator_std      = np.zeros(number_epoch)\n",
        "loss_discriminator_mean = np.zeros(number_epoch)\n",
        "loss_discriminator_std  = np.zeros(number_epoch)\n",
        "\n",
        "accuracy_mean   = np.zeros(number_epoch)\n",
        "accuracy_std    = np.zeros(number_epoch)"
      ]
    },
    {
      "cell_type": "markdown",
      "metadata": {
        "id": "i44O38S9ZiYV"
      },
      "source": [
        "## train"
      ]
    },
    {
      "cell_type": "code",
      "execution_count": 21,
      "metadata": {
        "id": "0D8yRcpxZiYV"
      },
      "outputs": [],
      "source": [
        "def train(generator, discriminator, dataloader):\n",
        "\n",
        "    loss_epoch_generator      = []\n",
        "    loss_epoch_discriminator  = []\n",
        "    accuracy_epoch = []\n",
        "    \n",
        "    for index_batch, data_real in enumerate(dataloader):\n",
        "\n",
        "        size_batch  = len(data_real)\n",
        "        data_real   = data_real.to(device)\n",
        "        \n",
        "        latent  = torch.randn(size_batch, dim_latent, device=device)\n",
        "        latent  = torch.reshape(latent, [size_batch, dim_latent, 1, 1])\n",
        "\n",
        "        # ---------------------------------------------------------------------------\n",
        "        #  \n",
        "        # update the generator\n",
        "        #  \n",
        "        # ---------------------------------------------------------------------------\n",
        "        generator.train()\n",
        "        discriminator.eval()\n",
        "\n",
        "        optimizer_generator.zero_grad()\n",
        "        loss_generator = compute_loss_generator(generator, discriminator, latent)\n",
        "        loss_generator.backward()\n",
        "        optimizer_generator.step()\n",
        "\n",
        "        # ---------------------------------------------------------------------------\n",
        "        #  \n",
        "        # update the discriminator\n",
        "        #  \n",
        "        # ---------------------------------------------------------------------------\n",
        "        generator.eval()\n",
        "        discriminator.train()\n",
        "\n",
        "        optimizer_discriminator.zero_grad()\n",
        "        loss_discriminator = compute_loss_discriminator(generator, discriminator, latent, data_real)\n",
        "        loss_discriminator.backward()\n",
        "        optimizer_discriminator.step()\n",
        "\n",
        "        data_fake   = compute_prediction(generator, latent)\n",
        "        accuracy    = compute_accuracy(data_fake)\n",
        "\n",
        "        loss_epoch_generator.append(loss_generator.item())\n",
        "        loss_epoch_discriminator.append(loss_discriminator.item())\n",
        "        accuracy_epoch.append(accuracy)\n",
        "\n",
        "    loss_generator_mean_epoch       = np.mean(loss_epoch_generator)\n",
        "    loss_generator_std_epoch        = np.std(loss_epoch_generator)\n",
        "    \n",
        "    loss_discriminator_mean_epoch   = np.mean(loss_epoch_discriminator)\n",
        "    loss_discriminator_std_epoch    = np.std(loss_epoch_discriminator)\n",
        "\n",
        "    accuracy_mean_epoch             = np.mean(accuracy_epoch)\n",
        "    accuracy_std_epoch              = np.std(accuracy_epoch)\n",
        "\n",
        "    loss_value_generator        = {'mean' : loss_generator_mean_epoch, 'std' : loss_generator_std_epoch}\n",
        "    loss_value_discriminator    = {'mean' : loss_discriminator_mean_epoch, 'std' : loss_discriminator_std_epoch}\n",
        "    accuracy_value              = {'mean' : accuracy_mean_epoch, 'std' : accuracy_std_epoch} \n",
        "\n",
        "    return loss_value_generator, loss_value_discriminator, accuracy_value\n"
      ]
    },
    {
      "cell_type": "markdown",
      "metadata": {
        "id": "B7gyp-qHZiYV"
      },
      "source": [
        "## training epoch"
      ]
    },
    {
      "cell_type": "code",
      "execution_count": null,
      "metadata": {
        "id": "WcbnvnevZiYV",
        "outputId": "89691ee7-62eb-4650-f279-823f26595b7a",
        "colab": {
          "base_uri": "https://localhost:8080/",
          "height": 1000,
          "referenced_widgets": [
            "193695e13c714fc2a766a06ffefbbcf0",
            "28702107259c41408fd83439bf058a32",
            "40b59b6b58a94e199a4c57920d3bbf52",
            "da7751fd74cb4aac90fc51b028b25c06",
            "99100d7c87444dd7b18e7d2832df5ad8",
            "93efb54958ed4f7abe99072054c4f294",
            "aaf8bb23902f432ea9af3eceb5a82764",
            "586f16fe2ced4c969c5f011c0492794b",
            "0246501ceebf4502b6eb37007fe6de40",
            "b30c24790e2741628b3c25ffaf7b9f04",
            "806b2bd1d2a84990b55200a164608d0d"
          ]
        }
      },
      "outputs": [
        {
          "output_type": "stream",
          "name": "stderr",
          "text": [
            "/usr/local/lib/python3.7/dist-packages/ipykernel_launcher.py:6: TqdmDeprecationWarning: This function will be removed in tqdm==5.0.0\n",
            "Please use `tqdm.notebook.tqdm` instead of `tqdm.tqdm_notebook`\n",
            "  \n"
          ]
        },
        {
          "output_type": "display_data",
          "data": {
            "application/vnd.jupyter.widget-view+json": {
              "model_id": "193695e13c714fc2a766a06ffefbbcf0",
              "version_minor": 0,
              "version_major": 2
            },
            "text/plain": [
              "  0%|          | 0/100 [00:00<?, ?it/s]"
            ]
          },
          "metadata": {}
        },
        {
          "output_type": "stream",
          "name": "stdout",
          "text": [
            "epoch : 0\n",
            "\\loss_value_generator : 2.7820594828350074, acc mean : 67.49984982534805\n",
            "epoch : 1\n",
            "\\loss_value_generator : 1.2400062725399479, acc mean : 52.82650718015578\n",
            "epoch : 2\n",
            "\\loss_value_generator : 2.937963590477452, acc mean : 67.44645491999935\n",
            "epoch : 3\n",
            "\\loss_value_generator : 4.352234210028793, acc mean : 74.91783548654085\n",
            "epoch : 4\n",
            "\\loss_value_generator : 5.000338128118804, acc mean : 75.68592299067333\n",
            "epoch : 5\n",
            "\\loss_value_generator : 5.845680753389995, acc mean : 72.54583259687443\n",
            "epoch : 6\n",
            "\\loss_value_generator : 5.087095426790642, acc mean : 75.6160133006626\n",
            "epoch : 7\n",
            "\\loss_value_generator : 3.2958554539716607, acc mean : 79.30084869038919\n",
            "epoch : 8\n",
            "\\loss_value_generator : 9.051334951863144, acc mean : 68.39318731190899\n",
            "epoch : 9\n",
            "\\loss_value_generator : 9.225735031971425, acc mean : 72.55678771244442\n",
            "epoch : 10\n",
            "\\loss_value_generator : 11.52706035249161, acc mean : 65.66790374778138\n",
            "epoch : 11\n",
            "\\loss_value_generator : 21.141896187744074, acc mean : 61.57263470623805\n",
            "epoch : 12\n",
            "\\loss_value_generator : 37.83242734016421, acc mean : 70.53087270652578\n",
            "epoch : 13\n",
            "\\loss_value_generator : 107.45074088588422, acc mean : 61.97738278220592\n",
            "epoch : 14\n",
            "\\loss_value_generator : 13.944503105047977, acc mean : 66.95167589177368\n",
            "epoch : 15\n",
            "\\loss_value_generator : 8.079740610989658, acc mean : 71.99956908733523\n",
            "epoch : 16\n",
            "\\loss_value_generator : 9.918494007804178, acc mean : 79.53826978432198\n",
            "epoch : 17\n",
            "\\loss_value_generator : 10.349205421678947, acc mean : 86.29377647208644\n",
            "epoch : 18\n",
            "\\loss_value_generator : 10.423695853262236, acc mean : 87.3422005223221\n",
            "epoch : 19\n",
            "\\loss_value_generator : 10.172434199940074, acc mean : 92.49673011113443\n",
            "epoch : 20\n",
            "\\loss_value_generator : 10.424282709757486, acc mean : 94.7919000072375\n",
            "epoch : 21\n",
            "\\loss_value_generator : 10.635110566110322, acc mean : 94.51066136485456\n",
            "epoch : 22\n",
            "\\loss_value_generator : 11.11148588585131, acc mean : 94.34394136411072\n",
            "epoch : 23\n",
            "\\loss_value_generator : 10.8613788431341, acc mean : 93.96884103161972\n",
            "epoch : 24\n",
            "\\loss_value_generator : 11.632939454280969, acc mean : 94.45871962901883\n",
            "epoch : 25\n",
            "\\loss_value_generator : 11.330560077320445, acc mean : 93.9215982861286\n",
            "epoch : 26\n",
            "\\loss_value_generator : 11.150199976834385, acc mean : 93.71741595358483\n",
            "epoch : 27\n",
            "\\loss_value_generator : 11.371709910306064, acc mean : 95.36430113758729\n",
            "epoch : 28\n",
            "\\loss_value_generator : 14.76736849004572, acc mean : 86.00131078134027\n",
            "epoch : 29\n",
            "\\loss_value_generator : 53.05690564751399, acc mean : 80.21756604416144\n",
            "epoch : 30\n",
            "\\loss_value_generator : 18.381871272217143, acc mean : 64.04099718089724\n",
            "epoch : 31\n",
            "\\loss_value_generator : 11.366821296287306, acc mean : 71.47919198951001\n",
            "epoch : 32\n",
            "\\loss_value_generator : 6.681368437680331, acc mean : 74.96949476750257\n",
            "epoch : 33\n",
            "\\loss_value_generator : 5.517614624717019, acc mean : 76.79045477729676\n",
            "epoch : 34\n",
            "\\loss_value_generator : 6.149956486441872, acc mean : 89.12336379894427\n",
            "epoch : 35\n",
            "\\loss_value_generator : 8.160924246816924, acc mean : 92.44040493328403\n",
            "epoch : 36\n",
            "\\loss_value_generator : 8.244714997031473, acc mean : 89.70860554928261\n",
            "epoch : 37\n",
            "\\loss_value_generator : 8.186628038232977, acc mean : 89.57194154050988\n",
            "epoch : 38\n",
            "\\loss_value_generator : 8.455055207917184, acc mean : 89.36041212783223\n",
            "epoch : 39\n",
            "\\loss_value_generator : 8.550869363726992, acc mean : 88.55752507859948\n",
            "epoch : 40\n",
            "\\loss_value_generator : 8.358583146875555, acc mean : 84.70371889636948\n",
            "epoch : 41\n",
            "\\loss_value_generator : 8.86697682467374, acc mean : 82.43646797525953\n",
            "epoch : 42\n",
            "\\loss_value_generator : 9.121679623921713, acc mean : 83.76570165715816\n",
            "epoch : 43\n",
            "\\loss_value_generator : 9.661208745205041, acc mean : 87.00062981228452\n",
            "epoch : 44\n",
            "\\loss_value_generator : 10.251413937770959, acc mean : 88.35576373378264\n",
            "epoch : 45\n",
            "\\loss_value_generator : 9.677982619314482, acc mean : 83.83306596836981\n",
            "epoch : 46\n",
            "\\loss_value_generator : 14.45899233673558, acc mean : 87.71119008596997\n",
            "epoch : 47\n",
            "\\loss_value_generator : 7.943516539804863, acc mean : 87.43884404054667\n",
            "epoch : 48\n",
            "\\loss_value_generator : 6.664576776099928, acc mean : 94.08657752303142\n",
            "epoch : 49\n",
            "\\loss_value_generator : 6.890621214201956, acc mean : 91.21552457553058\n",
            "epoch : 50\n",
            "\\loss_value_generator : 7.363539175553755, acc mean : 93.50188063997338\n",
            "epoch : 51\n",
            "\\loss_value_generator : 6.712545235951741, acc mean : 92.44328067205211\n",
            "epoch : 52\n",
            "\\loss_value_generator : 7.722783305428245, acc mean : 90.85849043425436\n",
            "epoch : 53\n",
            "\\loss_value_generator : 7.772153594277122, acc mean : 90.9315468951625\n",
            "epoch : 54\n",
            "\\loss_value_generator : 8.307611219810717, acc mean : 87.94065073374668\n",
            "epoch : 55\n",
            "\\loss_value_generator : 9.443967975012844, acc mean : 85.68917141829165\n",
            "epoch : 56\n",
            "\\loss_value_generator : 12.05346766385165, acc mean : 87.7225338626879\n",
            "epoch : 57\n",
            "\\loss_value_generator : 1.2634909540435977, acc mean : 93.81292290294805\n",
            "epoch : 58\n",
            "\\loss_value_generator : 6.380709850426876, acc mean : 88.48784354438033\n",
            "epoch : 59\n",
            "\\loss_value_generator : 7.3880534172058105, acc mean : 94.13707156912196\n",
            "epoch : 60\n",
            "\\loss_value_generator : 6.397325609669541, acc mean : 87.33894049076382\n",
            "epoch : 61\n",
            "\\loss_value_generator : 9.533584421331232, acc mean : 83.76943178217199\n",
            "epoch : 62\n",
            "\\loss_value_generator : 13.266426886572983, acc mean : 81.3622564434986\n",
            "epoch : 63\n",
            "\\loss_value_generator : 80.83167613371077, acc mean : 72.8596922804461\n",
            "epoch : 64\n",
            "\\loss_value_generator : 287.136290882573, acc mean : 68.18777736210137\n",
            "epoch : 65\n",
            "\\loss_value_generator : 206.27069100000958, acc mean : 63.648486408480906\n",
            "epoch : 66\n",
            "\\loss_value_generator : 49.79258634620498, acc mean : 60.83364019325917\n",
            "epoch : 67\n",
            "\\loss_value_generator : 76.35877678842482, acc mean : 69.87453887785458\n",
            "epoch : 68\n",
            "\\loss_value_generator : 22.111138592516497, acc mean : 71.41582781645704\n",
            "epoch : 69\n",
            "\\loss_value_generator : 11.13178724231142, acc mean : 83.33005794466105\n",
            "epoch : 70\n",
            "\\loss_value_generator : 7.429184191154711, acc mean : 86.83458276288732\n",
            "epoch : 71\n",
            "\\loss_value_generator : 8.478330771128336, acc mean : 89.89529261288604\n",
            "epoch : 72\n",
            "\\loss_value_generator : 8.104346809965191, acc mean : 90.22855021785753\n",
            "epoch : 73\n",
            "\\loss_value_generator : 6.978112524205988, acc mean : 90.31166834759955\n"
          ]
        }
      ],
      "source": [
        "# ================================================================================\n",
        "# \n",
        "# iterations for epochs\n",
        "#\n",
        "# ================================================================================\n",
        "for i in tqdm_notebook(range(number_epoch)):\n",
        "    \n",
        "    # ================================================================================\n",
        "    # \n",
        "    # training\n",
        "    #\n",
        "    # ================================================================================\n",
        "    (loss_value_generator, loss_value_discriminator, accuracy_value) = train(generator, discriminator, dataloader_real)\n",
        "\n",
        "    loss_generator_mean[i]      = loss_value_generator['mean']\n",
        "    loss_generator_std[i]       = loss_value_generator['std']\n",
        "\n",
        "    loss_discriminator_mean[i]  = loss_value_discriminator['mean']\n",
        "    loss_discriminator_std[i]   = loss_value_discriminator['std']\n",
        "\n",
        "    accuracy_mean[i]            = accuracy_value['mean']\n",
        "    accuracy_std[i]             = accuracy_value['std']\n",
        "\n",
        "    print(f\"epoch : {i}\")\n",
        "    print(f\"\\loss_value_generator : {loss_value_generator['mean']}, acc mean : {accuracy_value['mean']}\")"
      ]
    },
    {
      "cell_type": "markdown",
      "metadata": {
        "id": "gGpzL2sHZiYV"
      },
      "source": [
        "---"
      ]
    },
    {
      "cell_type": "markdown",
      "metadata": {
        "id": "sig1-Xv-ZiYW"
      },
      "source": [
        "# functions for visualizing the results "
      ]
    },
    {
      "cell_type": "markdown",
      "metadata": {
        "id": "mo8Kr3FzZiYW"
      },
      "source": [
        "---"
      ]
    },
    {
      "cell_type": "markdown",
      "metadata": {
        "id": "G5BarCiNZiYW"
      },
      "source": [
        "## plot curve"
      ]
    },
    {
      "cell_type": "markdown",
      "metadata": {
        "id": "Oh-F0VPWZiYW"
      },
      "source": [
        ""
      ]
    },
    {
      "cell_type": "code",
      "execution_count": null,
      "metadata": {
        "id": "IllnUpY9ZiYW"
      },
      "outputs": [],
      "source": [
        "def plot_image_grid(data, nRow, nCol, filename=None):\n",
        "\n",
        "    size_col = 1.5\n",
        "    size_row = 1.5\n",
        "\n",
        "    fig, axes = plt.subplots(nRow, nCol, constrained_layout=True, figsize=(nCol * size_col, nRow * size_row))\n",
        "    \n",
        "    data = data.detach().cpu()\n",
        "\n",
        "    for i in range(nRow):\n",
        "        for j in range(nCol):\n",
        "\n",
        "            k       = i * nCol + j\n",
        "            image   = np.squeeze(data[k], axis=0)\n",
        "\n",
        "            axes[i, j].imshow(image, cmap='gray', vmin=0, vmax=1)\n",
        "            axes[i, j].xaxis.set_visible(False)\n",
        "            axes[i, j].yaxis.set_visible(False)\n",
        "\n",
        "    plt.show()\n",
        "\n",
        "    if filename is not None:\n",
        "\n",
        "        fig.savefig(filename)\n",
        "        pass"
      ]
    },
    {
      "cell_type": "code",
      "execution_count": null,
      "metadata": {
        "id": "qowDwzLAZiYW"
      },
      "outputs": [],
      "source": [
        "def plot_data_grid(data, index_data, nRow, nCol):\n",
        "    \n",
        "    size_col = 1.5\n",
        "    size_row = 1.5\n",
        "\n",
        "    fig, axes = plt.subplots(nRow, nCol, constrained_layout=True, figsize=(nCol * size_col, nRow * size_row))\n",
        "\n",
        "    for i in range(nRow):\n",
        "        for j in range(nCol):\n",
        "\n",
        "            k       = i * nCol + j\n",
        "            index   = index_data[k]\n",
        "\n",
        "            axes[i, j].imshow(data[index], cmap='gray', vmin=0, vmax=1)\n",
        "            axes[i, j].xaxis.set_visible(False)\n",
        "            axes[i, j].yaxis.set_visible(False)\n",
        "\n",
        "    plt.show()"
      ]
    },
    {
      "cell_type": "code",
      "execution_count": null,
      "metadata": {
        "id": "rMGtJBm7ZiYW"
      },
      "outputs": [],
      "source": [
        "def plot_data_tensor_grid(data, index_data, nRow, nCol):\n",
        "    \n",
        "    size_col = 1.5\n",
        "    size_row = 1.5\n",
        "\n",
        "    fig, axes = plt.subplots(nRow, nCol, constrained_layout=True, figsize=(nCol * size_col, nRow * size_row))\n",
        "\n",
        "    data = data.detach().cpu().squeeze(axis=1)\n",
        "\n",
        "    for i in range(nRow):\n",
        "        for j in range(nCol):\n",
        "\n",
        "            k       = i * nCol + j\n",
        "            index   = index_data[k]\n",
        "\n",
        "            axes[i, j].imshow(data[index], cmap='gray', vmin=0, vmax=1)\n",
        "            axes[i, j].xaxis.set_visible(False)\n",
        "            axes[i, j].yaxis.set_visible(False)\n",
        "\n",
        "    plt.show()"
      ]
    },
    {
      "cell_type": "code",
      "execution_count": null,
      "metadata": {
        "id": "k9Rvahj_ZiYX"
      },
      "outputs": [],
      "source": [
        "def plot_curve_error(data_mean, data_std, x_label, y_label, title, filename=None):\n",
        "\n",
        "    fig = plt.figure(figsize=(8, 6))\n",
        "    plt.title(title)\n",
        "\n",
        "    alpha = 0.3\n",
        "    \n",
        "    plt.plot(range(len(data_mean)), data_mean, '-', color = 'red')\n",
        "    plt.fill_between(range(len(data_mean)), data_mean - data_std, data_mean + data_std, facecolor = 'blue', alpha = alpha) \n",
        "    \n",
        "    plt.xlabel(x_label)\n",
        "    plt.ylabel(y_label)\n",
        "\n",
        "    plt.tight_layout()\n",
        "    plt.show()\n",
        "\n",
        "    if filename is not None:\n",
        "\n",
        "        fig.savefig(filename)\n",
        "        pass"
      ]
    },
    {
      "cell_type": "code",
      "execution_count": null,
      "metadata": {
        "id": "mrTtty56ZiYX"
      },
      "outputs": [],
      "source": [
        "def print_curve(data, index):\n",
        "    \n",
        "    for i in range(len(index)):\n",
        "\n",
        "        idx = index[i]\n",
        "        val = data[idx]\n",
        "\n",
        "        print('index = %2d, value = %12.10f' % (idx, val))"
      ]
    },
    {
      "cell_type": "code",
      "execution_count": null,
      "metadata": {
        "id": "lIZj7BMNZiYX"
      },
      "outputs": [],
      "source": [
        "def get_data_last(data, index_start):\n",
        "\n",
        "    data_last = data[index_start:]\n",
        "\n",
        "    return data_last"
      ]
    },
    {
      "cell_type": "code",
      "execution_count": null,
      "metadata": {
        "id": "hSWP-LXEZiYX"
      },
      "outputs": [],
      "source": [
        "def get_max_last_range(data, index_start):\n",
        "\n",
        "    data_range = get_data_last(data, index_start)\n",
        "    value = data_range.max()\n",
        "\n",
        "    return value"
      ]
    },
    {
      "cell_type": "code",
      "execution_count": null,
      "metadata": {
        "id": "jJl9ZgUxZiYX"
      },
      "outputs": [],
      "source": [
        "def get_min_last_range(data, index_start):\n",
        "\n",
        "    data_range = get_data_last(data, index_start)\n",
        "    value = data_range.min()\n",
        "\n",
        "    return value"
      ]
    },
    {
      "cell_type": "markdown",
      "metadata": {
        "id": "JOdRbokrZiYX"
      },
      "source": [
        "---"
      ]
    },
    {
      "cell_type": "markdown",
      "metadata": {
        "id": "1ukEa2-2ZiYY"
      },
      "source": [
        "# functions for presenting the results"
      ]
    },
    {
      "cell_type": "markdown",
      "metadata": {
        "id": "VyWYXuUpZiYY"
      },
      "source": [
        "---"
      ]
    },
    {
      "cell_type": "code",
      "execution_count": null,
      "metadata": {
        "id": "MEe41fgTZiYY"
      },
      "outputs": [],
      "source": [
        "def function_result_01():\n",
        "\n",
        "    print('[plot examples of the real images]')\n",
        "    print('') \n",
        "\n",
        "    nRow = 8\n",
        "    nCol = 6\n",
        "\n",
        "    number_data = len(dataset_real)\n",
        "    step        = int(np.floor(number_data / (nRow * nCol)))\n",
        "    index_data  = np.arange(0, number_data, step)\n",
        "    index_plot  = np.arange(0, nRow * nCol)\n",
        "\n",
        "    data = dataset_real[index_data]\n",
        "    data = data[0]\n",
        "    \n",
        "    plot_data_grid(data, index_plot, nRow, nCol)"
      ]
    },
    {
      "cell_type": "code",
      "execution_count": null,
      "metadata": {
        "id": "UL9Dr3NaZiYY"
      },
      "outputs": [],
      "source": [
        "def function_result_02():\n",
        "\n",
        "    print('[plot examples of the fake images]')\n",
        "    print('') \n",
        "\n",
        "    nRow = 8\n",
        "    nCol = 6\n",
        "    number_latent = nRow * nCol\n",
        "\n",
        "    latent  = torch.randn(number_latent, dim_latent, device=device)\n",
        "    latent  = torch.reshape(latent, [number_latent, dim_latent, 1, 1])\n",
        "\n",
        "    generator.eval()\n",
        "\n",
        "    data_fake   = generator(latent)\n",
        "    filename    = 'fake_image.png'\n",
        "\n",
        "    plot_image_grid(data_fake, nRow, nCol, filename)"
      ]
    },
    {
      "cell_type": "code",
      "execution_count": null,
      "metadata": {
        "id": "8sXOPrEkZiYY"
      },
      "outputs": [],
      "source": [
        "def function_result_03():\n",
        "\n",
        "    print('[plot the generator loss]')\n",
        "    print('') \n",
        "\n",
        "    plot_curve_error(loss_generator_mean, loss_generator_std, 'epoch', 'loss', 'generator loss', 'loss_generator.png')"
      ]
    },
    {
      "cell_type": "code",
      "execution_count": null,
      "metadata": {
        "id": "EZ7wWBKmZiYY"
      },
      "outputs": [],
      "source": [
        "def function_result_04():\n",
        "    \n",
        "    print('[plot the discriminator loss]')\n",
        "    print('') \n",
        "    \n",
        "    plot_curve_error(loss_discriminator_mean, loss_discriminator_std, 'epoch', 'loss', 'discriminator loss', 'loss_discriminator.png')"
      ]
    },
    {
      "cell_type": "code",
      "execution_count": null,
      "metadata": {
        "id": "z4GVlcfwZiYY"
      },
      "outputs": [],
      "source": [
        "def function_result_05():\n",
        "    \n",
        "    print('[plot the accuracy]')\n",
        "    print('') \n",
        "    \n",
        "    plot_curve_error(accuracy_mean, accuracy_std, 'epoch', 'accuracy', 'training accuracy', 'training_accuracy.png')"
      ]
    },
    {
      "cell_type": "code",
      "execution_count": null,
      "metadata": {
        "id": "DfgfXKPuZiYY"
      },
      "outputs": [],
      "source": [
        "def function_result_06():\n",
        "    \n",
        "    print('[print the generator loss at the last 10 epochs]')\n",
        "    print('') \n",
        "\n",
        "    data_last = get_data_last(loss_generator_mean, -10)\n",
        "    index = np.arange(0, 10)\n",
        "    print_curve(data_last, index)"
      ]
    },
    {
      "cell_type": "code",
      "execution_count": null,
      "metadata": {
        "id": "HgAGW3flZiYZ"
      },
      "outputs": [],
      "source": [
        "def function_result_07():\n",
        "    \n",
        "    print('[print the discriminator loss at the last 10 epochs]')\n",
        "    print('') \n",
        "\n",
        "    data_last = get_data_last(loss_discriminator_mean, -10)\n",
        "    index = np.arange(0, 10)\n",
        "    print_curve(data_last, index)"
      ]
    },
    {
      "cell_type": "code",
      "execution_count": null,
      "metadata": {
        "id": "m25LJAC-ZiYZ"
      },
      "outputs": [],
      "source": [
        "def function_result_08():\n",
        "    \n",
        "    print('[print the accuracy at the last 10 epochs]')\n",
        "    print('') \n",
        "\n",
        "    data_last = get_data_last(accuracy_mean, -10)\n",
        "    index = np.arange(0, 10)\n",
        "    print_curve(data_last, index)"
      ]
    },
    {
      "cell_type": "code",
      "execution_count": null,
      "metadata": {
        "id": "kecDyh2GZiYZ"
      },
      "outputs": [],
      "source": [
        "def function_result_09():\n",
        "    \n",
        "    print('[print the best accuracy within the last 10 epochs]')\n",
        "    print('') \n",
        "    \n",
        "    value = get_max_last_range(accuracy_mean, -10)\n",
        "    print('best accuracy = %12.10f' % (value))"
      ]
    },
    {
      "cell_type": "markdown",
      "metadata": {
        "id": "LZbp5pPOZiYZ"
      },
      "source": [
        "---"
      ]
    },
    {
      "cell_type": "markdown",
      "metadata": {
        "id": "TU1P0Y7qZiYZ"
      },
      "source": [
        "# RESULTS"
      ]
    },
    {
      "cell_type": "markdown",
      "metadata": {
        "id": "DuWnhH62ZiYZ"
      },
      "source": [
        "---"
      ]
    },
    {
      "cell_type": "code",
      "execution_count": null,
      "metadata": {
        "id": "XP0f5JD9ZiYa"
      },
      "outputs": [],
      "source": [
        "number_result = 9\n",
        "\n",
        "for i in range(number_result):\n",
        "\n",
        "    title           = '# RESULT # {:02d}'.format(i+1) \n",
        "    name_function   = 'function_result_{:02d}()'.format(i+1)\n",
        "\n",
        "    print('') \n",
        "    print('################################################################################')\n",
        "    print('#') \n",
        "    print(title)\n",
        "    print('#') \n",
        "    print('################################################################################')\n",
        "    print('') \n",
        "\n",
        "    eval(name_function)"
      ]
    }
  ],
  "metadata": {
    "colab": {
      "collapsed_sections": [],
      "name": "assignment_02.ipynb",
      "provenance": []
    },
    "interpreter": {
      "hash": "17ed1555cfbb96ddcf655400d6c25a9cebe961c1b69daf25bae91d698acdd2a7"
    },
    "kernelspec": {
      "display_name": "Python 3.8.12 64-bit ('hsh': conda)",
      "name": "python3"
    },
    "language_info": {
      "codemirror_mode": {
        "name": "ipython",
        "version": 3
      },
      "file_extension": ".py",
      "mimetype": "text/x-python",
      "name": "python",
      "nbconvert_exporter": "python",
      "pygments_lexer": "ipython3",
      "version": "3.8.8"
    },
    "accelerator": "GPU",
    "widgets": {
      "application/vnd.jupyter.widget-state+json": {
        "193695e13c714fc2a766a06ffefbbcf0": {
          "model_module": "@jupyter-widgets/controls",
          "model_name": "HBoxModel",
          "model_module_version": "1.5.0",
          "state": {
            "_view_name": "HBoxView",
            "_dom_classes": [],
            "_model_name": "HBoxModel",
            "_view_module": "@jupyter-widgets/controls",
            "_model_module_version": "1.5.0",
            "_view_count": null,
            "_view_module_version": "1.5.0",
            "box_style": "",
            "layout": "IPY_MODEL_28702107259c41408fd83439bf058a32",
            "_model_module": "@jupyter-widgets/controls",
            "children": [
              "IPY_MODEL_40b59b6b58a94e199a4c57920d3bbf52",
              "IPY_MODEL_da7751fd74cb4aac90fc51b028b25c06",
              "IPY_MODEL_99100d7c87444dd7b18e7d2832df5ad8"
            ]
          }
        },
        "28702107259c41408fd83439bf058a32": {
          "model_module": "@jupyter-widgets/base",
          "model_name": "LayoutModel",
          "model_module_version": "1.2.0",
          "state": {
            "_view_name": "LayoutView",
            "grid_template_rows": null,
            "right": null,
            "justify_content": null,
            "_view_module": "@jupyter-widgets/base",
            "overflow": null,
            "_model_module_version": "1.2.0",
            "_view_count": null,
            "flex_flow": null,
            "width": null,
            "min_width": null,
            "border": null,
            "align_items": null,
            "bottom": null,
            "_model_module": "@jupyter-widgets/base",
            "top": null,
            "grid_column": null,
            "overflow_y": null,
            "overflow_x": null,
            "grid_auto_flow": null,
            "grid_area": null,
            "grid_template_columns": null,
            "flex": null,
            "_model_name": "LayoutModel",
            "justify_items": null,
            "grid_row": null,
            "max_height": null,
            "align_content": null,
            "visibility": null,
            "align_self": null,
            "height": null,
            "min_height": null,
            "padding": null,
            "grid_auto_rows": null,
            "grid_gap": null,
            "max_width": null,
            "order": null,
            "_view_module_version": "1.2.0",
            "grid_template_areas": null,
            "object_position": null,
            "object_fit": null,
            "grid_auto_columns": null,
            "margin": null,
            "display": null,
            "left": null
          }
        },
        "40b59b6b58a94e199a4c57920d3bbf52": {
          "model_module": "@jupyter-widgets/controls",
          "model_name": "HTMLModel",
          "model_module_version": "1.5.0",
          "state": {
            "_view_name": "HTMLView",
            "style": "IPY_MODEL_93efb54958ed4f7abe99072054c4f294",
            "_dom_classes": [],
            "description": "",
            "_model_name": "HTMLModel",
            "placeholder": "​",
            "_view_module": "@jupyter-widgets/controls",
            "_model_module_version": "1.5.0",
            "value": " 74%",
            "_view_count": null,
            "_view_module_version": "1.5.0",
            "description_tooltip": null,
            "_model_module": "@jupyter-widgets/controls",
            "layout": "IPY_MODEL_aaf8bb23902f432ea9af3eceb5a82764"
          }
        },
        "da7751fd74cb4aac90fc51b028b25c06": {
          "model_module": "@jupyter-widgets/controls",
          "model_name": "FloatProgressModel",
          "model_module_version": "1.5.0",
          "state": {
            "_view_name": "ProgressView",
            "style": "IPY_MODEL_586f16fe2ced4c969c5f011c0492794b",
            "_dom_classes": [],
            "description": "",
            "_model_name": "FloatProgressModel",
            "bar_style": "",
            "max": 100,
            "_view_module": "@jupyter-widgets/controls",
            "_model_module_version": "1.5.0",
            "value": 74,
            "_view_count": null,
            "_view_module_version": "1.5.0",
            "orientation": "horizontal",
            "min": 0,
            "description_tooltip": null,
            "_model_module": "@jupyter-widgets/controls",
            "layout": "IPY_MODEL_0246501ceebf4502b6eb37007fe6de40"
          }
        },
        "99100d7c87444dd7b18e7d2832df5ad8": {
          "model_module": "@jupyter-widgets/controls",
          "model_name": "HTMLModel",
          "model_module_version": "1.5.0",
          "state": {
            "_view_name": "HTMLView",
            "style": "IPY_MODEL_b30c24790e2741628b3c25ffaf7b9f04",
            "_dom_classes": [],
            "description": "",
            "_model_name": "HTMLModel",
            "placeholder": "​",
            "_view_module": "@jupyter-widgets/controls",
            "_model_module_version": "1.5.0",
            "value": " 74/100 [17:29&lt;06:08, 14.17s/it]",
            "_view_count": null,
            "_view_module_version": "1.5.0",
            "description_tooltip": null,
            "_model_module": "@jupyter-widgets/controls",
            "layout": "IPY_MODEL_806b2bd1d2a84990b55200a164608d0d"
          }
        },
        "93efb54958ed4f7abe99072054c4f294": {
          "model_module": "@jupyter-widgets/controls",
          "model_name": "DescriptionStyleModel",
          "model_module_version": "1.5.0",
          "state": {
            "_view_name": "StyleView",
            "_model_name": "DescriptionStyleModel",
            "description_width": "",
            "_view_module": "@jupyter-widgets/base",
            "_model_module_version": "1.5.0",
            "_view_count": null,
            "_view_module_version": "1.2.0",
            "_model_module": "@jupyter-widgets/controls"
          }
        },
        "aaf8bb23902f432ea9af3eceb5a82764": {
          "model_module": "@jupyter-widgets/base",
          "model_name": "LayoutModel",
          "model_module_version": "1.2.0",
          "state": {
            "_view_name": "LayoutView",
            "grid_template_rows": null,
            "right": null,
            "justify_content": null,
            "_view_module": "@jupyter-widgets/base",
            "overflow": null,
            "_model_module_version": "1.2.0",
            "_view_count": null,
            "flex_flow": null,
            "width": null,
            "min_width": null,
            "border": null,
            "align_items": null,
            "bottom": null,
            "_model_module": "@jupyter-widgets/base",
            "top": null,
            "grid_column": null,
            "overflow_y": null,
            "overflow_x": null,
            "grid_auto_flow": null,
            "grid_area": null,
            "grid_template_columns": null,
            "flex": null,
            "_model_name": "LayoutModel",
            "justify_items": null,
            "grid_row": null,
            "max_height": null,
            "align_content": null,
            "visibility": null,
            "align_self": null,
            "height": null,
            "min_height": null,
            "padding": null,
            "grid_auto_rows": null,
            "grid_gap": null,
            "max_width": null,
            "order": null,
            "_view_module_version": "1.2.0",
            "grid_template_areas": null,
            "object_position": null,
            "object_fit": null,
            "grid_auto_columns": null,
            "margin": null,
            "display": null,
            "left": null
          }
        },
        "586f16fe2ced4c969c5f011c0492794b": {
          "model_module": "@jupyter-widgets/controls",
          "model_name": "ProgressStyleModel",
          "model_module_version": "1.5.0",
          "state": {
            "_view_name": "StyleView",
            "_model_name": "ProgressStyleModel",
            "description_width": "",
            "_view_module": "@jupyter-widgets/base",
            "_model_module_version": "1.5.0",
            "_view_count": null,
            "_view_module_version": "1.2.0",
            "bar_color": null,
            "_model_module": "@jupyter-widgets/controls"
          }
        },
        "0246501ceebf4502b6eb37007fe6de40": {
          "model_module": "@jupyter-widgets/base",
          "model_name": "LayoutModel",
          "model_module_version": "1.2.0",
          "state": {
            "_view_name": "LayoutView",
            "grid_template_rows": null,
            "right": null,
            "justify_content": null,
            "_view_module": "@jupyter-widgets/base",
            "overflow": null,
            "_model_module_version": "1.2.0",
            "_view_count": null,
            "flex_flow": null,
            "width": null,
            "min_width": null,
            "border": null,
            "align_items": null,
            "bottom": null,
            "_model_module": "@jupyter-widgets/base",
            "top": null,
            "grid_column": null,
            "overflow_y": null,
            "overflow_x": null,
            "grid_auto_flow": null,
            "grid_area": null,
            "grid_template_columns": null,
            "flex": null,
            "_model_name": "LayoutModel",
            "justify_items": null,
            "grid_row": null,
            "max_height": null,
            "align_content": null,
            "visibility": null,
            "align_self": null,
            "height": null,
            "min_height": null,
            "padding": null,
            "grid_auto_rows": null,
            "grid_gap": null,
            "max_width": null,
            "order": null,
            "_view_module_version": "1.2.0",
            "grid_template_areas": null,
            "object_position": null,
            "object_fit": null,
            "grid_auto_columns": null,
            "margin": null,
            "display": null,
            "left": null
          }
        },
        "b30c24790e2741628b3c25ffaf7b9f04": {
          "model_module": "@jupyter-widgets/controls",
          "model_name": "DescriptionStyleModel",
          "model_module_version": "1.5.0",
          "state": {
            "_view_name": "StyleView",
            "_model_name": "DescriptionStyleModel",
            "description_width": "",
            "_view_module": "@jupyter-widgets/base",
            "_model_module_version": "1.5.0",
            "_view_count": null,
            "_view_module_version": "1.2.0",
            "_model_module": "@jupyter-widgets/controls"
          }
        },
        "806b2bd1d2a84990b55200a164608d0d": {
          "model_module": "@jupyter-widgets/base",
          "model_name": "LayoutModel",
          "model_module_version": "1.2.0",
          "state": {
            "_view_name": "LayoutView",
            "grid_template_rows": null,
            "right": null,
            "justify_content": null,
            "_view_module": "@jupyter-widgets/base",
            "overflow": null,
            "_model_module_version": "1.2.0",
            "_view_count": null,
            "flex_flow": null,
            "width": null,
            "min_width": null,
            "border": null,
            "align_items": null,
            "bottom": null,
            "_model_module": "@jupyter-widgets/base",
            "top": null,
            "grid_column": null,
            "overflow_y": null,
            "overflow_x": null,
            "grid_auto_flow": null,
            "grid_area": null,
            "grid_template_columns": null,
            "flex": null,
            "_model_name": "LayoutModel",
            "justify_items": null,
            "grid_row": null,
            "max_height": null,
            "align_content": null,
            "visibility": null,
            "align_self": null,
            "height": null,
            "min_height": null,
            "padding": null,
            "grid_auto_rows": null,
            "grid_gap": null,
            "max_width": null,
            "order": null,
            "_view_module_version": "1.2.0",
            "grid_template_areas": null,
            "object_position": null,
            "object_fit": null,
            "grid_auto_columns": null,
            "margin": null,
            "display": null,
            "left": null
          }
        }
      }
    }
  },
  "nbformat": 4,
  "nbformat_minor": 0
}