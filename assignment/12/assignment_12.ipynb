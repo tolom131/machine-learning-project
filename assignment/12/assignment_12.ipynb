{
  "cells": [
    {
      "cell_type": "markdown",
      "metadata": {
        "id": "K29I-OwCEYzW",
        "outputId": "db8b297c-a4b8-457a-b43f-7570135306c7"
      },
      "source": [
        "# Image Generation via Generative Adversarial Networks"
      ]
    },
    {
      "cell_type": "markdown",
      "metadata": {
        "id": "ODiv8rJRZiYC"
      },
      "source": [
        "## import libraries"
      ]
    },
    {
      "cell_type": "code",
      "execution_count": 1,
      "metadata": {
        "id": "9Wmr9dMLZiYD"
      },
      "outputs": [],
      "source": [
        "import torch\n",
        "import torch.nn as nn\n",
        "import torch.nn.functional as F\n",
        "import torchvision\n",
        "from torch.utils.data import Dataset\n",
        "from torch.utils.data import DataLoader\n",
        "from torchvision import datasets, transforms\n",
        "import numpy as np\n",
        "import matplotlib.pyplot as plt\n",
        "import math\n",
        "from tqdm import tqdm\n",
        "import random\n",
        "import os\n",
        "from torchvision.utils import make_grid"
      ]
    },
    {
      "cell_type": "markdown",
      "metadata": {
        "id": "QK2e8feGZiYE"
      },
      "source": [
        "## load data"
      ]
    },
    {
      "cell_type": "code",
      "execution_count": 2,
      "metadata": {
        "id": "9xfI-4R9ZiYE",
        "outputId": "c6ee2eee-34c3-4f92-a32b-5e4cf954aae2",
        "colab": {
          "base_uri": "https://localhost:8080/"
        }
      },
      "outputs": [
        {
          "output_type": "stream",
          "name": "stdout",
          "text": [
            "Drive already mounted at /content/drive/; to attempt to forcibly remount, call drive.mount(\"/content/drive/\", force_remount=True).\n"
          ]
        }
      ],
      "source": [
        "from google.colab import drive \n",
        "drive.mount('/content/drive/')\n",
        "\n",
        "directory_data  = './drive/MyDrive/Machine_Learning/'\n",
        "filename_data   = 'assignment_12_data.npz'\n",
        "data            = np.load(os.path.join(directory_data, filename_data))\n",
        "\n",
        "real            = torch.from_numpy(data['real_images']).float()"
      ]
    },
    {
      "cell_type": "markdown",
      "metadata": {
        "id": "jpOgjgv1ZiYF"
      },
      "source": [
        "## hyper-parameters"
      ]
    },
    {
      "cell_type": "code",
      "execution_count": 3,
      "metadata": {
        "id": "uiMjm-PXZiYF"
      },
      "outputs": [],
      "source": [
        "device          = torch.device('cuda' if torch.cuda.is_available() else 'cpu')\n",
        "\n",
        "number_epoch    = 150\n",
        "size_minibatch  = 50\n",
        "dim_latent      = 50\n",
        "dim_channel     = 1\n",
        "learning_rate_discriminator = 0.001\n",
        "learning_rate_generator     = 0.001"
      ]
    },
    {
      "cell_type": "code",
      "source": [
        "import random\n",
        "def affine(image, shear=0, scale=1, rate=[10, 10]):\n",
        "\n",
        "    func_plt = transforms.functional.to_pil_image\n",
        "    func_affine = transforms.functional.affine\n",
        "    func_tensor = transforms.functional.to_tensor\n",
        "\n",
        "    for i in range(len(image)):\n",
        "\n",
        "        # random movement\n",
        "        if rate[0] != 0:\n",
        "            rate_1 = np.random.randint(-rate[0], rate[0]+1)\n",
        "            rate_2 = np.random.randint(-rate[1], rate[1]+1)\n",
        "            movement = [rate_1, rate_2]\n",
        "        else:\n",
        "            movement = rate\n",
        "\n",
        "        if isinstance(scale, list):\n",
        "            rescale = np.random.randint(scale[0], scale[1]+1) / 10\n",
        "        else:\n",
        "            rescale = scale\n",
        "\n",
        "\n",
        "        trans_image = func_plt(image[i])\n",
        "        trans_image = func_affine(trans_image, angle=0, shear=shear, scale=rescale, translate=movement)\n",
        "        trans_image = func_tensor(trans_image)\n",
        "        trans_image = trans_image.numpy()\n",
        "\n",
        "        if i == 0:\n",
        "            image_list = trans_image\n",
        "        else:\n",
        "            image_list = np.concatenate([image_list, trans_image], axis=0)\n",
        "\n",
        "    return image_list"
      ],
      "metadata": {
        "id": "hf7t8raoYE1C"
      },
      "execution_count": 4,
      "outputs": []
    },
    {
      "cell_type": "code",
      "source": [
        "real_image = real[::2]\n",
        "affine_12 = affine(real_image, scale=[10, 12], rate=[0, 0])\n",
        "affine_random = affine(real_image, scale=1, rate=[3, 3])"
      ],
      "metadata": {
        "id": "CDCTxOw1YNh1"
      },
      "execution_count": 5,
      "outputs": []
    },
    {
      "cell_type": "markdown",
      "metadata": {
        "id": "QrxulfRFZiYG"
      },
      "source": [
        "## custom data loader for the PyTorch framework"
      ]
    },
    {
      "cell_type": "code",
      "execution_count": 6,
      "metadata": {
        "id": "yNQe4OUCZiYH"
      },
      "outputs": [],
      "source": [
        "class dataset (Dataset):\n",
        "    def  __init__(self, data):\n",
        "\n",
        "        self.data = data\n",
        "\n",
        "    def __getitem__(self, index):\n",
        "\n",
        "        data = self.data[index]\n",
        "        data = torch.FloatTensor(data).unsqueeze(dim=0)\n",
        "\n",
        "        return data\n",
        "  \n",
        "    def __len__(self):\n",
        "        \n",
        "        return self.data.shape[0]"
      ]
    },
    {
      "cell_type": "markdown",
      "metadata": {
        "id": "X2888l7eZiYI"
      },
      "source": [
        "## construct datasets and dataloaders for training and testing"
      ]
    },
    {
      "cell_type": "code",
      "execution_count": 7,
      "metadata": {
        "id": "UwcMO-WdZiYI"
      },
      "outputs": [],
      "source": [
        "# image_train = np.concatenate([real[1::2], affine_12, affine_random], axis=0)\n",
        "dataset_real    = dataset(real)\n",
        "dataloader_real = DataLoader(dataset_real, batch_size=size_minibatch, shuffle=True, drop_last=True)"
      ]
    },
    {
      "cell_type": "code",
      "source": [
        "# image_train.shape"
      ],
      "metadata": {
        "id": "UQiaccCThGlz"
      },
      "execution_count": 8,
      "outputs": []
    },
    {
      "cell_type": "markdown",
      "metadata": {
        "id": "cSai363jZiYI"
      },
      "source": [
        "## shape of the data when using the data loader"
      ]
    },
    {
      "cell_type": "code",
      "execution_count": 9,
      "metadata": {
        "id": "mjAvXxDPZiYJ",
        "outputId": "263b2594-a798-48d5-ba35-ad926c8f8945",
        "colab": {
          "base_uri": "https://localhost:8080/"
        }
      },
      "outputs": [
        {
          "output_type": "stream",
          "name": "stdout",
          "text": [
            "*******************************************************************\n",
            "shape of the image in the training dataset: torch.Size([1, 32, 32])\n",
            "*******************************************************************\n"
          ]
        }
      ],
      "source": [
        "image_real = dataset_real[0]\n",
        "print('*******************************************************************')\n",
        "print('shape of the image in the training dataset:', image_real.shape)\n",
        "print('*******************************************************************')"
      ]
    },
    {
      "cell_type": "markdown",
      "metadata": {
        "id": "nlKo6SbwZiYK"
      },
      "source": [
        "## class for the neural network "
      ]
    },
    {
      "cell_type": "code",
      "execution_count": 10,
      "metadata": {
        "id": "xLd-pfJnZiYK"
      },
      "outputs": [],
      "source": [
        "class Discriminator(nn.Module): \n",
        "\n",
        "\tdef __init__(self, in_channel=1, out_channel=1, dim_feature=128):\n",
        "        \n",
        "\t\tsuper(Discriminator, self).__init__()\n",
        "\n",
        "\t\tself.in_channel \t= in_channel\n",
        "\t\tself.out_channel\t= out_channel\n",
        "\t\tself.dim_feature\t= dim_feature\n",
        "\t\tthreshold_ReLU \t\t= 0.2\n",
        "\t\t\n",
        "\t\tself.feature = nn.Sequential(\n",
        "\t\t\t# ================================================================================\n",
        "\t\t\tnn.Conv2d(in_channel, dim_feature * 1, kernel_size=3, stride=2, padding=1, bias=True),\n",
        "\t\t\tnn.LeakyReLU(threshold_ReLU, inplace=True),\t\t\t\n",
        "\t\t\t# ================================================================================\n",
        "\t\t\tnn.Conv2d(dim_feature * 1, dim_feature * 2, kernel_size=3, stride=2, padding=1, bias=True),\n",
        "\t\t\tnn.LeakyReLU(threshold_ReLU, inplace=True),\t\t\t\n",
        "\t\t\t# ================================================================================\n",
        "\t\t\tnn.Conv2d(dim_feature * 2, dim_feature * 4, kernel_size=3, stride=2, padding=1, bias=True),\n",
        "\t\t\tnn.LeakyReLU(threshold_ReLU, inplace=True),\t\t\t\n",
        "\t\t\t# ================================================================================\n",
        "\t\t\tnn.Conv2d(dim_feature * 4, dim_feature * 8, kernel_size=3, stride=2, padding=1, bias=True),\n",
        "\t\t\tnn.LeakyReLU(threshold_ReLU, inplace=True),\t\t\t\n",
        "\t\t\t# ================================================================================\n",
        "\t\t\tnn.Conv2d(dim_feature * 8, dim_feature * 16, kernel_size=3, stride=2, padding=1, bias=True),\n",
        "\t\t\tnn.LeakyReLU(threshold_ReLU, inplace=True),\t\t\t\n",
        "\t\t\t# ================================================================================\n",
        "\t\t)\t\n",
        "\t\t\n",
        "\t\tself.classifier = nn.Sequential(\n",
        "\t\t\t# ================================================================================\n",
        "\t\t\tnn.Linear(dim_feature * 16, dim_feature * 8, bias=True),\n",
        "\t\t\tnn.LeakyReLU(threshold_ReLU, inplace=True),\t\t\t\n",
        "\t\t\t# ================================================================================\n",
        "\t\t\tnn.Linear(dim_feature * 8, dim_feature * 4, bias=True),\n",
        "\t\t\tnn.LeakyReLU(threshold_ReLU, inplace=True),\t\t\t\n",
        "\t\t\t# ================================================================================\n",
        "\t\t\tnn.Linear(dim_feature * 4, dim_feature * 2, bias=True),\n",
        "\t\t\tnn.LeakyReLU(threshold_ReLU, inplace=True),\t\t\t\n",
        "\t\t\t# ================================================================================\n",
        "\t\t\tnn.Linear(dim_feature * 2, dim_feature * 1, bias=True),\n",
        "\t\t\tnn.LeakyReLU(threshold_ReLU, inplace=True),\t\t\t\n",
        "\t\t\t# ================================================================================\n",
        "\t\t\tnn.Linear(dim_feature * 1, out_channel, bias=True),\n",
        "\t\t\t# ================================================================================\n",
        "\t\t) \n",
        "\n",
        "\t\tself.network = nn.Sequential(\n",
        "\t\t\tself.feature,\n",
        "\t\t\tnn.Flatten(),\n",
        "\t\t\tself.classifier,\n",
        "\t\t)\n",
        "\n",
        "\t\tself.initialize_weight()\n",
        "\n",
        "\t\t# *********************************************************************\n",
        "\t\t# forward propagation\n",
        "\t\t# *********************************************************************\n",
        "\tdef forward(self, x):\n",
        "\n",
        "\t\ty = self.network.forward(x)\n",
        "\n",
        "\t\treturn y\n",
        "\n",
        "\tdef initialize_weight(self):\n",
        "\t\n",
        "\t\tprint('initialize model parameters :', 'xavier_uniform')\n",
        "\n",
        "\t\tfor m in self.network.modules():\n",
        "\t\t\t\n",
        "\t\t\tif isinstance(m, nn.Conv2d):\n",
        "\t\t\t\t\n",
        "\t\t\t\tnn.init.xavier_uniform_(m.weight)\n",
        "\t\t\t\t\n",
        "\t\t\t\tif m.bias is not None:\n",
        "\n",
        "\t\t\t\t\tnn.init.constant_(m.bias, 1)\n",
        "\t\t\t\t\tpass\n",
        "\t\t\t\t\t\n",
        "\t\t\telif isinstance(m, nn.BatchNorm2d):\n",
        "\t\t\t\t\n",
        "\t\t\t\tnn.init.constant_(m.weight, 1)\n",
        "\t\t\t\tnn.init.constant_(m.bias, 1)\n",
        "\t\t\t\t\n",
        "\t\t\telif isinstance(m, nn.Linear):\n",
        "\t\t\t\t\n",
        "\t\t\t\tnn.init.xavier_uniform_(m.weight)\n",
        "\n",
        "\t\t\t\tif m.bias is not None:\n",
        "\t\t\t\t\t\n",
        "\t\t\t\t\tnn.init.constant_(m.bias, 1)\n",
        "\t\t\t\t\tpass"
      ]
    },
    {
      "cell_type": "code",
      "execution_count": 11,
      "metadata": {
        "id": "3TkAH7d1ZiYM"
      },
      "outputs": [],
      "source": [
        "class Generator(nn.Module): \n",
        "\n",
        "\tdef __init__(self, in_channel=1, out_channel=1, dim_feature=8):\n",
        "        \n",
        "\t\tsuper(Generator, self).__init__()\n",
        "\n",
        "\t\tself.in_channel \t= in_channel\n",
        "\t\tself.out_channel\t= out_channel\n",
        "\t\tself.dim_feature\t= dim_feature\n",
        "\t\tthreshold_ReLU \t\t= 0.2\n",
        "\n",
        "\t\tself.network = nn.Sequential(\n",
        "\t\t\t# ================================================================================\n",
        "\t\t\tnn.Upsample(scale_factor=2, mode='bilinear', align_corners=False),\n",
        "\t\t\tnn.Conv2d(in_channel, dim_feature * 8, kernel_size=3, stride=1, padding=1, bias=True),\n",
        "\t\t\tnn.BatchNorm2d(dim_feature * 8),\n",
        "\t\t\tnn.LeakyReLU(threshold_ReLU, inplace=True),\n",
        "\t\t\t# ================================================================================\n",
        "\t\t\tnn.Upsample(scale_factor=2, mode='bilinear', align_corners=False),\n",
        "\t\t\tnn.Conv2d(dim_feature * 8, dim_feature * 4, kernel_size=3, stride=1, padding=1, bias=True),\n",
        "\t\t\tnn.BatchNorm2d(dim_feature * 4),\n",
        "\t\t\tnn.LeakyReLU(threshold_ReLU, inplace=True),\n",
        "\t\t\t# ================================================================================\n",
        "\t\t\tnn.Upsample(scale_factor=2, mode='bilinear', align_corners=False),\n",
        "\t\t\tnn.Conv2d(dim_feature * 4, dim_feature * 2, kernel_size=3, stride=1, padding=1, bias=True),\n",
        "\t\t\tnn.BatchNorm2d(dim_feature * 2),\n",
        "\t\t\tnn.LeakyReLU(threshold_ReLU, inplace=True),\n",
        "\t\t\t# ================================================================================\n",
        "\t\t\tnn.Upsample(scale_factor=2, mode='bilinear', align_corners=False),\n",
        "\t\t\tnn.Conv2d(dim_feature * 2, dim_feature * 1, kernel_size=3, stride=1, padding=1, bias=True),\n",
        "\t\t\tnn.BatchNorm2d(dim_feature * 1),\n",
        "\t\t\tnn.LeakyReLU(threshold_ReLU, inplace=True),\n",
        "\t\t\t# ================================================================================\n",
        "\t\t\tnn.Upsample(scale_factor=2, mode='bilinear', align_corners=False),\n",
        "\t\t\tnn.Conv2d(dim_feature * 1, out_channel, kernel_size=3, stride=1, padding=1, bias=True),\n",
        "\t\t\tnn.BatchNorm2d(out_channel),\n",
        "\t\t\t# ================================================================================\n",
        "\t\t\tnn.Sigmoid(),\n",
        "\t\t\t# ================================================================================\n",
        "\t\t) \t\t\t\n",
        "\n",
        "\t\t# self.initialize_weight()\n",
        "\t\t\n",
        "\t\t# *********************************************************************\n",
        "\t\t# forward propagation\n",
        "\t\t# *********************************************************************\n",
        "\tdef forward(self, x):\n",
        "\n",
        "\t\ty = self.network.forward(x)\n",
        "\n",
        "\t\treturn y\n",
        "\n",
        "\tdef initialize_weight(self):\n",
        "\t\n",
        "\t\tprint('initialize model parameters :', 'xavier_uniform')\n",
        "\n",
        "\t\tfor m in self.network.modules():\n",
        "\t\t\t\n",
        "\t\t\tif isinstance(m, nn.Conv2d):\n",
        "\t\t\t\t\n",
        "\t\t\t\tnn.init.xavier_uniform_(m.weight)\n",
        "\t\t\t\t\n",
        "\t\t\t\tif m.bias is not None:\n",
        "\n",
        "\t\t\t\t\tnn.init.constant_(m.bias, 1)\n",
        "\t\t\t\t\tpass\n",
        "\t\t\t\t\t\n",
        "\t\t\telif isinstance(m, nn.BatchNorm2d):\n",
        "\t\t\t\t\n",
        "\t\t\t\tnn.init.constant_(m.weight, 1)\n",
        "\t\t\t\tnn.init.constant_(m.bias, 1)\n",
        "\t\t\t\t\n",
        "\t\t\telif isinstance(m, nn.Linear):\n",
        "\t\t\t\t\n",
        "\t\t\t\tnn.init.xavier_uniform_(m.weight)\n",
        "\n",
        "\t\t\t\tif m.bias is not None:\n",
        "\t\t\t\t\t\n",
        "\t\t\t\t\tnn.init.constant_(m.bias, 1)\n",
        "\t\t\t\t\tpass\n"
      ]
    },
    {
      "cell_type": "markdown",
      "metadata": {
        "id": "j_KE-qN1ZiYP"
      },
      "source": [
        "## build network"
      ]
    },
    {
      "cell_type": "code",
      "execution_count": 12,
      "metadata": {
        "id": "lA6RQiZfZiYQ",
        "outputId": "d8c32c24-6a9b-4d56-d3ec-5c4e74d5c527",
        "colab": {
          "base_uri": "https://localhost:8080/"
        }
      },
      "outputs": [
        {
          "output_type": "stream",
          "name": "stdout",
          "text": [
            "initialize model parameters : xavier_uniform\n"
          ]
        }
      ],
      "source": [
        "generator       = Generator(dim_latent, 1, 128).to(device)\n",
        "discriminator   = Discriminator(dim_channel, 1, 128).to(device)\n",
        "\n",
        "optimizer_generator     = torch.optim.Adam(generator.parameters(), lr=learning_rate_generator, betas=(0.5, 0.999))\n",
        "optimizer_discriminator = torch.optim.Adam(discriminator.parameters(), lr=learning_rate_discriminator, betas=(0.5, 0.999))"
      ]
    },
    {
      "cell_type": "markdown",
      "metadata": {
        "id": "SIm_yasuZiYS"
      },
      "source": [
        "## compute the prediction"
      ]
    },
    {
      "cell_type": "code",
      "execution_count": 13,
      "metadata": {
        "id": "0mGxiPm4ZiYS"
      },
      "outputs": [],
      "source": [
        "def compute_prediction(model, input):\n",
        "\n",
        "    prediction = model(input)\n",
        "\n",
        "    return prediction"
      ]
    },
    {
      "cell_type": "markdown",
      "metadata": {
        "id": "iZQhbkdOZiYS"
      },
      "source": [
        "## compute the loss"
      ]
    },
    {
      "cell_type": "code",
      "execution_count": 14,
      "metadata": {
        "id": "2Gi0Von_ZiYS"
      },
      "outputs": [],
      "source": [
        "def compute_loss_discriminator(generator, discriminator, latent, data_real):\n",
        "\n",
        "    data_fake       = compute_prediction(generator, latent)\n",
        "    prediction_real = compute_prediction(discriminator, data_real)\n",
        "    prediction_fake = compute_prediction(discriminator, data_fake)\n",
        "\n",
        "    criterion   = nn.BCEWithLogitsLoss()\n",
        "    \n",
        "    label_real  = torch.ones_like(prediction_real)\n",
        "    label_fake  = torch.zeros_like(prediction_fake)\n",
        "\n",
        "    # ==================================================\n",
        "    # fill up the blank\n",
        "    #    \n",
        "    loss_real = criterion(prediction_real, label_real)\n",
        "    loss_fake = criterion(prediction_fake, label_fake)\n",
        "    # \n",
        "    # ==================================================\n",
        "\n",
        "    loss_discriminator = (loss_real + loss_fake) / 2.0\n",
        "\n",
        "    return loss_discriminator"
      ]
    },
    {
      "cell_type": "code",
      "execution_count": 15,
      "metadata": {
        "id": "w67uMCXkZiYS"
      },
      "outputs": [],
      "source": [
        "def compute_loss_generator(generator, discriminator, latent):\n",
        "\n",
        "    data_fake       = compute_prediction(generator, latent)\n",
        "    prediction_fake = compute_prediction(discriminator, data_fake)\n",
        "\n",
        "    criterion       = nn.BCEWithLogitsLoss()\n",
        "\n",
        "    label_real      = torch.ones_like(prediction_fake)\n",
        "\n",
        "    # ==================================================\n",
        "    # fill up the blank\n",
        "    #    \n",
        "    loss_generator  = criterion(prediction_fake, label_real)\n",
        "    # \n",
        "    # ==================================================\n",
        "\n",
        "    return loss_generator"
      ]
    },
    {
      "cell_type": "markdown",
      "metadata": {
        "id": "rnACLB1JZiYT"
      },
      "source": [
        "## compute the accuracy"
      ]
    },
    {
      "cell_type": "code",
      "execution_count": 16,
      "metadata": {
        "id": "g5g3SxP_ZiYU"
      },
      "outputs": [],
      "source": [
        "def get_center_index(binary_image):\n",
        "    \n",
        "    area_square = np.sum(binary_image)\n",
        "\n",
        "    height = binary_image.shape[0]\n",
        "    width = binary_image.shape[1]\n",
        "\n",
        "    x = np.linspace(0, width - 1, width)\n",
        "    y = np.linspace(0, height - 1, height)\n",
        "    indices_X, indices_Y = np.meshgrid(x, y)\n",
        "\n",
        "    x_mean = np.sum(binary_image * indices_X) / area_square\n",
        "    y_mean = np.sum(binary_image * indices_Y) / area_square\n",
        "\n",
        "    return (x_mean, y_mean)"
      ]
    },
    {
      "cell_type": "code",
      "execution_count": 17,
      "metadata": {
        "id": "CF1W_HGhZiYU"
      },
      "outputs": [],
      "source": [
        "# create ideal square image which has the same area to the input image\n",
        "def create_label(binary_images):\n",
        "    \n",
        "    label = np.zeros_like(binary_images)\n",
        "    \n",
        "    for i, binary_image in enumerate(binary_images):\n",
        "        \n",
        "        image_height = binary_image.shape[0]\n",
        "        image_width = binary_image.shape[1]\n",
        "\n",
        "        square_image = np.zeros((image_height, image_width))\n",
        "        square_length = np.round(np.sqrt(np.sum(binary_image)))\n",
        "\n",
        "        if square_length == 0:\n",
        "            # when there is no square\n",
        "            return square_image\n",
        "\n",
        "        (square_center_x, square_center_y) = get_center_index(binary_image)\n",
        "\n",
        "        if square_center_x < 0 or square_center_x > image_width - 1 or square_center_y < 0 or square_center_y > image_height - 1:\n",
        "            return square_image\n",
        "\n",
        "        top = np.ceil(square_center_y - square_length / 2)\n",
        "        bottom = np.floor(square_center_y + square_length / 2)\n",
        "        left = np.ceil(square_center_x - square_length / 2)\n",
        "        right = np.floor(square_center_x + square_length / 2)\n",
        "\n",
        "        top = int(top) if top >= 0 else 0\n",
        "        bottom = int(bottom) if bottom <= image_height - 1 else image_height - 1\n",
        "        left = int(left) if left >= 0 else 0\n",
        "        right = int(right) if right <= image_width - 1 else image_width - 1\n",
        "\n",
        "        square_image[top : bottom + 1, left : right + 1] = 1\n",
        "        \n",
        "        label[i] = square_image\n",
        "        \n",
        "    return label"
      ]
    },
    {
      "cell_type": "code",
      "execution_count": 18,
      "metadata": {
        "id": "gZ5GMpKqZiYU"
      },
      "outputs": [],
      "source": [
        "def compute_accuracy(prediction):\n",
        "\n",
        "    prediction  = prediction.squeeze(axis=1)\n",
        "    \n",
        "    prediction_binary   = (prediction >= 0.5).cpu().numpy().astype(int)\n",
        "    label               = create_label(prediction_binary).astype(int)\n",
        "    \n",
        "    region_intersection = prediction_binary & label\n",
        "    region_union        = prediction_binary | label\n",
        "\n",
        "    area_intersection   = region_intersection.sum(axis=1).sum(axis=1).astype(float)\n",
        "    area_union          = region_union.sum(axis=1).sum(axis=1).astype(float)\n",
        "\n",
        "    eps         = np.finfo(float).eps\n",
        "    correct     = area_intersection / (area_union + eps)\n",
        "    accuracy    = correct.mean() * 100.0\n",
        "    \n",
        "    return accuracy"
      ]
    },
    {
      "cell_type": "markdown",
      "metadata": {
        "id": "A2mS2JQyZiYU"
      },
      "source": [
        "## variables for the learning curve"
      ]
    },
    {
      "cell_type": "code",
      "execution_count": 19,
      "metadata": {
        "id": "OGibNn-WZiYU"
      },
      "outputs": [],
      "source": [
        "loss_generator_mean     = np.zeros(number_epoch)\n",
        "loss_generator_std      = np.zeros(number_epoch)\n",
        "loss_discriminator_mean = np.zeros(number_epoch)\n",
        "loss_discriminator_std  = np.zeros(number_epoch)\n",
        "\n",
        "accuracy_mean   = np.zeros(number_epoch)\n",
        "accuracy_std    = np.zeros(number_epoch)"
      ]
    },
    {
      "cell_type": "markdown",
      "metadata": {
        "id": "i44O38S9ZiYV"
      },
      "source": [
        "## train"
      ]
    },
    {
      "cell_type": "code",
      "execution_count": 20,
      "metadata": {
        "id": "0D8yRcpxZiYV"
      },
      "outputs": [],
      "source": [
        "def train(generator, discriminator, dataloader):\n",
        "\n",
        "    loss_epoch_generator      = []\n",
        "    loss_epoch_discriminator  = []\n",
        "    accuracy_epoch = []\n",
        "    \n",
        "    for index_batch, data_real in enumerate(dataloader):\n",
        "\n",
        "        size_batch  = len(data_real)\n",
        "        data_real   = data_real.to(device)\n",
        "        \n",
        "        latent  = torch.randn(size_batch, dim_latent, device=device)\n",
        "        latent  = torch.reshape(latent, [size_batch, dim_latent, 1, 1])\n",
        "\n",
        "        # ---------------------------------------------------------------------------\n",
        "        #  \n",
        "        # update the generator\n",
        "        #  \n",
        "        # ---------------------------------------------------------------------------\n",
        "        generator.train()\n",
        "        discriminator.eval()\n",
        "\n",
        "        optimizer_generator.zero_grad()\n",
        "        loss_generator = compute_loss_generator(generator, discriminator, latent)\n",
        "        loss_generator.backward()\n",
        "        optimizer_generator.step()\n",
        "\n",
        "        # ---------------------------------------------------------------------------\n",
        "        #  \n",
        "        # update the discriminator\n",
        "        #  \n",
        "        # ---------------------------------------------------------------------------\n",
        "        generator.eval()\n",
        "        discriminator.train()\n",
        "\n",
        "        optimizer_discriminator.zero_grad()\n",
        "        loss_discriminator = compute_loss_discriminator(generator, discriminator, latent, data_real)\n",
        "        loss_discriminator.backward()\n",
        "        optimizer_discriminator.step()\n",
        "\n",
        "        data_fake   = compute_prediction(generator, latent)\n",
        "        accuracy    = compute_accuracy(data_fake)\n",
        "\n",
        "        loss_epoch_generator.append(loss_generator.item())\n",
        "        loss_epoch_discriminator.append(loss_discriminator.item())\n",
        "        accuracy_epoch.append(accuracy)\n",
        "\n",
        "    loss_generator_mean_epoch       = np.mean(loss_epoch_generator)\n",
        "    loss_generator_std_epoch        = np.std(loss_epoch_generator)\n",
        "    \n",
        "    loss_discriminator_mean_epoch   = np.mean(loss_epoch_discriminator)\n",
        "    loss_discriminator_std_epoch    = np.std(loss_epoch_discriminator)\n",
        "\n",
        "    accuracy_mean_epoch             = np.mean(accuracy_epoch)\n",
        "    accuracy_std_epoch              = np.std(accuracy_epoch)\n",
        "\n",
        "    loss_value_generator        = {'mean' : loss_generator_mean_epoch, 'std' : loss_generator_std_epoch}\n",
        "    loss_value_discriminator    = {'mean' : loss_discriminator_mean_epoch, 'std' : loss_discriminator_std_epoch}\n",
        "    accuracy_value              = {'mean' : accuracy_mean_epoch, 'std' : accuracy_std_epoch} \n",
        "\n",
        "    return loss_value_generator, loss_value_discriminator, accuracy_value\n"
      ]
    },
    {
      "cell_type": "markdown",
      "metadata": {
        "id": "B7gyp-qHZiYV"
      },
      "source": [
        "## training epoch"
      ]
    },
    {
      "cell_type": "code",
      "execution_count": 21,
      "metadata": {
        "id": "WcbnvnevZiYV",
        "outputId": "22b8fccf-df2c-4a84-ad8c-ddf6eb2afcb9",
        "colab": {
          "base_uri": "https://localhost:8080/"
        }
      },
      "outputs": [
        {
          "output_type": "stream",
          "name": "stderr",
          "text": [
            "  1%|          | 1/150 [00:17<43:24, 17.48s/it]"
          ]
        },
        {
          "output_type": "stream",
          "name": "stdout",
          "text": [
            "epoch : 0\n",
            "\tloss_value_discriminator : 8.72911584862443, acc mean : 68.76511695934664\n"
          ]
        },
        {
          "output_type": "stream",
          "name": "stderr",
          "text": [
            "\r  1%|▏         | 2/150 [00:34<43:02, 17.45s/it]"
          ]
        },
        {
          "output_type": "stream",
          "name": "stdout",
          "text": [
            "epoch : 1\n",
            "\tloss_value_discriminator : 0.8505695586980775, acc mean : 70.43305550021303\n"
          ]
        },
        {
          "output_type": "stream",
          "name": "stderr",
          "text": [
            "\r  2%|▏         | 3/150 [00:52<42:46, 17.46s/it]"
          ]
        },
        {
          "output_type": "stream",
          "name": "stdout",
          "text": [
            "epoch : 2\n",
            "\tloss_value_discriminator : 0.7152452891649201, acc mean : 57.608057526719314\n"
          ]
        },
        {
          "output_type": "stream",
          "name": "stderr",
          "text": [
            "\r  3%|▎         | 4/150 [01:09<42:27, 17.45s/it]"
          ]
        },
        {
          "output_type": "stream",
          "name": "stdout",
          "text": [
            "epoch : 3\n",
            "\tloss_value_discriminator : 0.7277896574070287, acc mean : 27.796360153021887\n"
          ]
        },
        {
          "output_type": "stream",
          "name": "stderr",
          "text": [
            "\r  3%|▎         | 5/150 [01:27<41:58, 17.37s/it]"
          ]
        },
        {
          "output_type": "stream",
          "name": "stdout",
          "text": [
            "epoch : 4\n",
            "\tloss_value_discriminator : 0.6349864394165748, acc mean : 36.549332556550716\n"
          ]
        },
        {
          "output_type": "stream",
          "name": "stderr",
          "text": [
            "\r  4%|▍         | 6/150 [01:43<41:18, 17.21s/it]"
          ]
        },
        {
          "output_type": "stream",
          "name": "stdout",
          "text": [
            "epoch : 5\n",
            "\tloss_value_discriminator : 3257715.24699654, acc mean : 9.369022874483631\n"
          ]
        },
        {
          "output_type": "stream",
          "name": "stderr",
          "text": [
            "\r  5%|▍         | 7/150 [02:01<41:05, 17.24s/it]"
          ]
        },
        {
          "output_type": "stream",
          "name": "stdout",
          "text": [
            "epoch : 6\n",
            "\tloss_value_discriminator : 237335.3203429067, acc mean : 47.89438911854447\n"
          ]
        },
        {
          "output_type": "stream",
          "name": "stderr",
          "text": [
            "\r  5%|▌         | 8/150 [02:18<40:31, 17.12s/it]"
          ]
        },
        {
          "output_type": "stream",
          "name": "stdout",
          "text": [
            "epoch : 7\n",
            "\tloss_value_discriminator : 641.7482366035151, acc mean : 9.043999411885778\n"
          ]
        },
        {
          "output_type": "stream",
          "name": "stderr",
          "text": [
            "\r  6%|▌         | 9/150 [02:34<39:55, 16.99s/it]"
          ]
        },
        {
          "output_type": "stream",
          "name": "stdout",
          "text": [
            "epoch : 8\n",
            "\tloss_value_discriminator : 33.64931702876507, acc mean : 0.0\n"
          ]
        },
        {
          "output_type": "stream",
          "name": "stderr",
          "text": [
            "\r  7%|▋         | 10/150 [02:51<39:23, 16.88s/it]"
          ]
        },
        {
          "output_type": "stream",
          "name": "stdout",
          "text": [
            "epoch : 9\n",
            "\tloss_value_discriminator : 20.58052222448033, acc mean : 0.0\n"
          ]
        },
        {
          "output_type": "stream",
          "name": "stderr",
          "text": [
            "\r  7%|▋         | 11/150 [03:08<38:53, 16.79s/it]"
          ]
        },
        {
          "output_type": "stream",
          "name": "stdout",
          "text": [
            "epoch : 10\n",
            "\tloss_value_discriminator : 15.035176531476683, acc mean : 0.0\n"
          ]
        },
        {
          "output_type": "stream",
          "name": "stderr",
          "text": [
            "\r  8%|▊         | 12/150 [03:24<38:27, 16.72s/it]"
          ]
        },
        {
          "output_type": "stream",
          "name": "stdout",
          "text": [
            "epoch : 11\n",
            "\tloss_value_discriminator : 75.61130885246187, acc mean : 0.0\n"
          ]
        },
        {
          "output_type": "stream",
          "name": "stderr",
          "text": [
            "\r  9%|▊         | 13/150 [03:41<38:03, 16.67s/it]"
          ]
        },
        {
          "output_type": "stream",
          "name": "stdout",
          "text": [
            "epoch : 12\n",
            "\tloss_value_discriminator : 98.65419797369209, acc mean : 0.0\n"
          ]
        },
        {
          "output_type": "stream",
          "name": "stderr",
          "text": [
            "\r  9%|▉         | 14/150 [03:57<37:41, 16.63s/it]"
          ]
        },
        {
          "output_type": "stream",
          "name": "stdout",
          "text": [
            "epoch : 13\n",
            "\tloss_value_discriminator : 29.856061666035203, acc mean : 0.0\n"
          ]
        },
        {
          "output_type": "stream",
          "name": "stderr",
          "text": [
            "\r 10%|█         | 15/150 [04:14<37:19, 16.59s/it]"
          ]
        },
        {
          "output_type": "stream",
          "name": "stdout",
          "text": [
            "epoch : 14\n",
            "\tloss_value_discriminator : 153.18797269660632, acc mean : 0.0\n"
          ]
        },
        {
          "output_type": "stream",
          "name": "stderr",
          "text": [
            "\r 11%|█         | 16/150 [04:30<36:59, 16.56s/it]"
          ]
        },
        {
          "output_type": "stream",
          "name": "stdout",
          "text": [
            "epoch : 15\n",
            "\tloss_value_discriminator : 35.93407874243897, acc mean : 0.0\n"
          ]
        },
        {
          "output_type": "stream",
          "name": "stderr",
          "text": [
            "\r 11%|█▏        | 17/150 [04:47<36:40, 16.55s/it]"
          ]
        },
        {
          "output_type": "stream",
          "name": "stdout",
          "text": [
            "epoch : 16\n",
            "\tloss_value_discriminator : 135.88409245083497, acc mean : 0.0\n"
          ]
        },
        {
          "output_type": "stream",
          "name": "stderr",
          "text": [
            "\r 12%|█▏        | 18/150 [05:03<36:22, 16.54s/it]"
          ]
        },
        {
          "output_type": "stream",
          "name": "stdout",
          "text": [
            "epoch : 17\n",
            "\tloss_value_discriminator : 272.4715221143046, acc mean : 0.0\n"
          ]
        },
        {
          "output_type": "stream",
          "name": "stderr",
          "text": [
            "\r 13%|█▎        | 19/150 [05:20<36:05, 16.53s/it]"
          ]
        },
        {
          "output_type": "stream",
          "name": "stdout",
          "text": [
            "epoch : 18\n",
            "\tloss_value_discriminator : 18.363118225165785, acc mean : 0.0\n"
          ]
        },
        {
          "output_type": "stream",
          "name": "stderr",
          "text": [
            "\r 13%|█▎        | 20/150 [05:36<35:48, 16.52s/it]"
          ]
        },
        {
          "output_type": "stream",
          "name": "stdout",
          "text": [
            "epoch : 19\n",
            "\tloss_value_discriminator : 10.84164838238711, acc mean : 0.0\n"
          ]
        },
        {
          "output_type": "stream",
          "name": "stderr",
          "text": [
            "\r 14%|█▍        | 21/150 [05:53<35:31, 16.52s/it]"
          ]
        },
        {
          "output_type": "stream",
          "name": "stdout",
          "text": [
            "epoch : 20\n",
            "\tloss_value_discriminator : 257.6139462895602, acc mean : 0.0\n"
          ]
        },
        {
          "output_type": "stream",
          "name": "stderr",
          "text": [
            "\r 15%|█▍        | 22/150 [06:09<35:15, 16.53s/it]"
          ]
        },
        {
          "output_type": "stream",
          "name": "stdout",
          "text": [
            "epoch : 21\n",
            "\tloss_value_discriminator : 90.22497041779029, acc mean : 0.0\n"
          ]
        },
        {
          "output_type": "stream",
          "name": "stderr",
          "text": [
            "\r 15%|█▌        | 23/150 [06:26<34:59, 16.53s/it]"
          ]
        },
        {
          "output_type": "stream",
          "name": "stdout",
          "text": [
            "epoch : 22\n",
            "\tloss_value_discriminator : 3.5687619153258585, acc mean : 0.0\n"
          ]
        },
        {
          "output_type": "stream",
          "name": "stderr",
          "text": [
            "\r 16%|█▌        | 24/150 [06:42<34:43, 16.53s/it]"
          ]
        },
        {
          "output_type": "stream",
          "name": "stdout",
          "text": [
            "epoch : 23\n",
            "\tloss_value_discriminator : 30.97641328789922, acc mean : 0.0\n"
          ]
        },
        {
          "output_type": "stream",
          "name": "stderr",
          "text": [
            "\r 17%|█▋        | 25/150 [06:59<34:28, 16.55s/it]"
          ]
        },
        {
          "output_type": "stream",
          "name": "stdout",
          "text": [
            "epoch : 24\n",
            "\tloss_value_discriminator : 1.0903482882377453, acc mean : 0.0\n"
          ]
        },
        {
          "output_type": "stream",
          "name": "stderr",
          "text": [
            "\r 17%|█▋        | 26/150 [07:15<34:12, 16.55s/it]"
          ]
        },
        {
          "output_type": "stream",
          "name": "stdout",
          "text": [
            "epoch : 25\n",
            "\tloss_value_discriminator : 14.650725272130394, acc mean : 0.0\n"
          ]
        },
        {
          "output_type": "stream",
          "name": "stderr",
          "text": [
            "\r 18%|█▊        | 27/150 [07:32<33:56, 16.56s/it]"
          ]
        },
        {
          "output_type": "stream",
          "name": "stdout",
          "text": [
            "epoch : 26\n",
            "\tloss_value_discriminator : 2.89743140432345, acc mean : 0.8964425137585331\n"
          ]
        },
        {
          "output_type": "stream",
          "name": "stderr",
          "text": [
            "\r 19%|█▊        | 28/150 [07:49<33:42, 16.58s/it]"
          ]
        },
        {
          "output_type": "stream",
          "name": "stdout",
          "text": [
            "epoch : 27\n",
            "\tloss_value_discriminator : 0.7561627463604287, acc mean : 0.0\n"
          ]
        },
        {
          "output_type": "stream",
          "name": "stderr",
          "text": [
            "\r 19%|█▉        | 29/150 [08:05<33:25, 16.57s/it]"
          ]
        },
        {
          "output_type": "stream",
          "name": "stdout",
          "text": [
            "epoch : 28\n",
            "\tloss_value_discriminator : 2.0718652382372644, acc mean : 0.0\n"
          ]
        },
        {
          "output_type": "stream",
          "name": "stderr",
          "text": [
            "\r 20%|██        | 30/150 [08:22<33:09, 16.58s/it]"
          ]
        },
        {
          "output_type": "stream",
          "name": "stdout",
          "text": [
            "epoch : 29\n",
            "\tloss_value_discriminator : 0.5156541855610213, acc mean : 0.0\n"
          ]
        },
        {
          "output_type": "stream",
          "name": "stderr",
          "text": [
            "\r 21%|██        | 31/150 [08:39<32:55, 16.60s/it]"
          ]
        },
        {
          "output_type": "stream",
          "name": "stdout",
          "text": [
            "epoch : 30\n",
            "\tloss_value_discriminator : 132.19484495798298, acc mean : 0.0\n"
          ]
        },
        {
          "output_type": "stream",
          "name": "stderr",
          "text": [
            "\r 21%|██▏       | 32/150 [08:56<32:55, 16.74s/it]"
          ]
        },
        {
          "output_type": "stream",
          "name": "stdout",
          "text": [
            "epoch : 31\n",
            "\tloss_value_discriminator : 1006.9425382078733, acc mean : 24.140004927741586\n"
          ]
        },
        {
          "output_type": "stream",
          "name": "stderr",
          "text": [
            "\r 22%|██▏       | 33/150 [09:12<32:36, 16.73s/it]"
          ]
        },
        {
          "output_type": "stream",
          "name": "stdout",
          "text": [
            "epoch : 32\n",
            "\tloss_value_discriminator : 26.403207103897103, acc mean : 2.932010975483275\n"
          ]
        },
        {
          "output_type": "stream",
          "name": "stderr",
          "text": [
            "\r 23%|██▎       | 34/150 [09:29<32:18, 16.71s/it]"
          ]
        },
        {
          "output_type": "stream",
          "name": "stdout",
          "text": [
            "epoch : 33\n",
            "\tloss_value_discriminator : 7.221181774714983, acc mean : 0.0\n"
          ]
        },
        {
          "output_type": "stream",
          "name": "stderr",
          "text": [
            "\r 23%|██▎       | 35/150 [09:46<32:02, 16.71s/it]"
          ]
        },
        {
          "output_type": "stream",
          "name": "stdout",
          "text": [
            "epoch : 34\n",
            "\tloss_value_discriminator : 5.686468864249629, acc mean : 1.4839209458695977\n"
          ]
        },
        {
          "output_type": "stream",
          "name": "stderr",
          "text": [
            "\r 24%|██▍       | 36/150 [10:03<31:51, 16.77s/it]"
          ]
        },
        {
          "output_type": "stream",
          "name": "stdout",
          "text": [
            "epoch : 35\n",
            "\tloss_value_discriminator : 4.982350031411448, acc mean : 8.624424753893956\n"
          ]
        },
        {
          "output_type": "stream",
          "name": "stderr",
          "text": [
            "\r 25%|██▍       | 37/150 [10:19<31:35, 16.77s/it]"
          ]
        },
        {
          "output_type": "stream",
          "name": "stdout",
          "text": [
            "epoch : 36\n",
            "\tloss_value_discriminator : 1.398177186246788, acc mean : 3.2328475370529595\n"
          ]
        },
        {
          "output_type": "stream",
          "name": "stderr",
          "text": [
            "\r 25%|██▌       | 38/150 [10:36<31:23, 16.82s/it]"
          ]
        },
        {
          "output_type": "stream",
          "name": "stdout",
          "text": [
            "epoch : 37\n",
            "\tloss_value_discriminator : 88.27774907163409, acc mean : 14.950786250311038\n"
          ]
        },
        {
          "output_type": "stream",
          "name": "stderr",
          "text": [
            "\r 26%|██▌       | 39/150 [10:53<30:59, 16.75s/it]"
          ]
        },
        {
          "output_type": "stream",
          "name": "stdout",
          "text": [
            "epoch : 38\n",
            "\tloss_value_discriminator : 1.9026495731172766, acc mean : 0.0\n"
          ]
        },
        {
          "output_type": "stream",
          "name": "stderr",
          "text": [
            "\r 27%|██▋       | 40/150 [11:09<30:37, 16.71s/it]"
          ]
        },
        {
          "output_type": "stream",
          "name": "stdout",
          "text": [
            "epoch : 39\n",
            "\tloss_value_discriminator : 5.287627990509188, acc mean : 0.0\n"
          ]
        },
        {
          "output_type": "stream",
          "name": "stderr",
          "text": [
            "\r 27%|██▋       | 41/150 [11:27<30:35, 16.84s/it]"
          ]
        },
        {
          "output_type": "stream",
          "name": "stdout",
          "text": [
            "epoch : 40\n",
            "\tloss_value_discriminator : 1378.19421163799, acc mean : 30.549314606674344\n"
          ]
        },
        {
          "output_type": "stream",
          "name": "stderr",
          "text": [
            "\r 28%|██▊       | 42/150 [11:43<30:19, 16.84s/it]"
          ]
        },
        {
          "output_type": "stream",
          "name": "stdout",
          "text": [
            "epoch : 41\n",
            "\tloss_value_discriminator : 17.809142632259952, acc mean : 3.806813273144172\n"
          ]
        },
        {
          "output_type": "stream",
          "name": "stderr",
          "text": [
            "\r 29%|██▊       | 43/150 [12:00<30:06, 16.88s/it]"
          ]
        },
        {
          "output_type": "stream",
          "name": "stdout",
          "text": [
            "epoch : 42\n",
            "\tloss_value_discriminator : 4.724745358744986, acc mean : 13.238983677754605\n"
          ]
        },
        {
          "output_type": "stream",
          "name": "stderr",
          "text": [
            "\r 29%|██▉       | 44/150 [12:18<30:00, 16.98s/it]"
          ]
        },
        {
          "output_type": "stream",
          "name": "stdout",
          "text": [
            "epoch : 43\n",
            "\tloss_value_discriminator : 10.849838531608839, acc mean : 35.50606562541757\n"
          ]
        },
        {
          "output_type": "stream",
          "name": "stderr",
          "text": [
            "\r 30%|███       | 45/150 [12:35<29:48, 17.03s/it]"
          ]
        },
        {
          "output_type": "stream",
          "name": "stdout",
          "text": [
            "epoch : 44\n",
            "\tloss_value_discriminator : 3.022119397616121, acc mean : 21.845078422837314\n"
          ]
        },
        {
          "output_type": "stream",
          "name": "stderr",
          "text": [
            "\r 31%|███       | 46/150 [12:52<29:34, 17.06s/it]"
          ]
        },
        {
          "output_type": "stream",
          "name": "stdout",
          "text": [
            "epoch : 45\n",
            "\tloss_value_discriminator : 0.14946570403354112, acc mean : 23.012391434530855\n"
          ]
        },
        {
          "output_type": "stream",
          "name": "stderr",
          "text": [
            "\r 31%|███▏      | 47/150 [13:09<29:27, 17.16s/it]"
          ]
        },
        {
          "output_type": "stream",
          "name": "stdout",
          "text": [
            "epoch : 46\n",
            "\tloss_value_discriminator : 0.4274805273080981, acc mean : 43.89385331879437\n"
          ]
        },
        {
          "output_type": "stream",
          "name": "stderr",
          "text": [
            "\r 32%|███▏      | 48/150 [13:27<29:20, 17.26s/it]"
          ]
        },
        {
          "output_type": "stream",
          "name": "stdout",
          "text": [
            "epoch : 47\n",
            "\tloss_value_discriminator : 0.9275306244527137, acc mean : 48.819919901778356\n"
          ]
        },
        {
          "output_type": "stream",
          "name": "stderr",
          "text": [
            "\r 33%|███▎      | 49/150 [13:44<29:09, 17.32s/it]"
          ]
        },
        {
          "output_type": "stream",
          "name": "stdout",
          "text": [
            "epoch : 48\n",
            "\tloss_value_discriminator : 0.5814102678884601, acc mean : 47.267168068435645\n"
          ]
        },
        {
          "output_type": "stream",
          "name": "stderr",
          "text": [
            "\r 33%|███▎      | 50/150 [14:02<28:56, 17.37s/it]"
          ]
        },
        {
          "output_type": "stream",
          "name": "stdout",
          "text": [
            "epoch : 49\n",
            "\tloss_value_discriminator : 0.9293326938588485, acc mean : 47.28787148737295\n"
          ]
        },
        {
          "output_type": "stream",
          "name": "stderr",
          "text": [
            "\r 34%|███▍      | 51/150 [14:19<28:42, 17.39s/it]"
          ]
        },
        {
          "output_type": "stream",
          "name": "stdout",
          "text": [
            "epoch : 50\n",
            "\tloss_value_discriminator : 0.24221950984268237, acc mean : 46.84094586795598\n"
          ]
        },
        {
          "output_type": "stream",
          "name": "stderr",
          "text": [
            "\r 35%|███▍      | 52/150 [14:37<28:24, 17.39s/it]"
          ]
        },
        {
          "output_type": "stream",
          "name": "stdout",
          "text": [
            "epoch : 51\n",
            "\tloss_value_discriminator : 1667.4512851661166, acc mean : 41.038611431440636\n"
          ]
        },
        {
          "output_type": "stream",
          "name": "stderr",
          "text": [
            "\r 35%|███▌      | 53/150 [14:54<28:05, 17.37s/it]"
          ]
        },
        {
          "output_type": "stream",
          "name": "stdout",
          "text": [
            "epoch : 52\n",
            "\tloss_value_discriminator : 99.22502896363636, acc mean : 40.79045786265039\n"
          ]
        },
        {
          "output_type": "stream",
          "name": "stderr",
          "text": [
            "\r 36%|███▌      | 54/150 [15:11<27:50, 17.40s/it]"
          ]
        },
        {
          "output_type": "stream",
          "name": "stdout",
          "text": [
            "epoch : 53\n",
            "\tloss_value_discriminator : 2.6866229235833328, acc mean : 45.82296554085875\n"
          ]
        },
        {
          "output_type": "stream",
          "name": "stderr",
          "text": [
            "\r 37%|███▋      | 55/150 [15:29<27:34, 17.42s/it]"
          ]
        },
        {
          "output_type": "stream",
          "name": "stdout",
          "text": [
            "epoch : 54\n",
            "\tloss_value_discriminator : 0.7550382508040836, acc mean : 44.058567096948195\n"
          ]
        },
        {
          "output_type": "stream",
          "name": "stderr",
          "text": [
            "\r 37%|███▋      | 56/150 [15:46<27:18, 17.43s/it]"
          ]
        },
        {
          "output_type": "stream",
          "name": "stdout",
          "text": [
            "epoch : 55\n",
            "\tloss_value_discriminator : 2.5257712111942414, acc mean : 42.77257407991519\n"
          ]
        },
        {
          "output_type": "stream",
          "name": "stderr",
          "text": [
            "\r 38%|███▊      | 57/150 [16:04<27:02, 17.45s/it]"
          ]
        },
        {
          "output_type": "stream",
          "name": "stdout",
          "text": [
            "epoch : 56\n",
            "\tloss_value_discriminator : 0.4380951189893423, acc mean : 44.27401926440364\n"
          ]
        },
        {
          "output_type": "stream",
          "name": "stderr",
          "text": [
            "\r 39%|███▊      | 58/150 [16:21<26:45, 17.45s/it]"
          ]
        },
        {
          "output_type": "stream",
          "name": "stdout",
          "text": [
            "epoch : 57\n",
            "\tloss_value_discriminator : 0.1690978256699859, acc mean : 44.25104547633065\n"
          ]
        },
        {
          "output_type": "stream",
          "name": "stderr",
          "text": [
            "\r 39%|███▉      | 59/150 [16:39<26:28, 17.45s/it]"
          ]
        },
        {
          "output_type": "stream",
          "name": "stdout",
          "text": [
            "epoch : 58\n",
            "\tloss_value_discriminator : 23.326287640846257, acc mean : 44.42259349105328\n"
          ]
        },
        {
          "output_type": "stream",
          "name": "stderr",
          "text": [
            "\r 40%|████      | 60/150 [16:56<26:11, 17.46s/it]"
          ]
        },
        {
          "output_type": "stream",
          "name": "stdout",
          "text": [
            "epoch : 59\n",
            "\tloss_value_discriminator : 7.2358558933698, acc mean : 43.67634037810995\n"
          ]
        },
        {
          "output_type": "stream",
          "name": "stderr",
          "text": [
            "\r 41%|████      | 61/150 [17:14<25:53, 17.46s/it]"
          ]
        },
        {
          "output_type": "stream",
          "name": "stdout",
          "text": [
            "epoch : 60\n",
            "\tloss_value_discriminator : 0.09075459307631448, acc mean : 45.66695961095084\n"
          ]
        },
        {
          "output_type": "stream",
          "name": "stderr",
          "text": [
            "\r 41%|████▏     | 62/150 [17:31<25:36, 17.46s/it]"
          ]
        },
        {
          "output_type": "stream",
          "name": "stdout",
          "text": [
            "epoch : 61\n",
            "\tloss_value_discriminator : 26.88977083262506, acc mean : 47.11834105475784\n"
          ]
        },
        {
          "output_type": "stream",
          "name": "stderr",
          "text": [
            "\r 42%|████▏     | 63/150 [17:49<25:19, 17.46s/it]"
          ]
        },
        {
          "output_type": "stream",
          "name": "stdout",
          "text": [
            "epoch : 62\n",
            "\tloss_value_discriminator : 23.13051304091333, acc mean : 44.140678932194874\n"
          ]
        },
        {
          "output_type": "stream",
          "name": "stderr",
          "text": [
            "\r 43%|████▎     | 64/150 [18:06<25:02, 17.47s/it]"
          ]
        },
        {
          "output_type": "stream",
          "name": "stdout",
          "text": [
            "epoch : 63\n",
            "\tloss_value_discriminator : 0.06757120086182748, acc mean : 47.995150052821565\n"
          ]
        },
        {
          "output_type": "stream",
          "name": "stderr",
          "text": [
            "\r 43%|████▎     | 65/150 [18:23<24:43, 17.46s/it]"
          ]
        },
        {
          "output_type": "stream",
          "name": "stdout",
          "text": [
            "epoch : 64\n",
            "\tloss_value_discriminator : 0.04188240007129172, acc mean : 50.41870227278813\n"
          ]
        },
        {
          "output_type": "stream",
          "name": "stderr",
          "text": [
            "\r 44%|████▍     | 66/150 [18:41<24:26, 17.46s/it]"
          ]
        },
        {
          "output_type": "stream",
          "name": "stdout",
          "text": [
            "epoch : 65\n",
            "\tloss_value_discriminator : 0.022308803816422033, acc mean : 50.35523823522525\n"
          ]
        },
        {
          "output_type": "stream",
          "name": "stderr",
          "text": [
            "\r 45%|████▍     | 67/150 [18:58<24:09, 17.46s/it]"
          ]
        },
        {
          "output_type": "stream",
          "name": "stdout",
          "text": [
            "epoch : 66\n",
            "\tloss_value_discriminator : 0.09382792690709277, acc mean : 51.069055120067986\n"
          ]
        },
        {
          "output_type": "stream",
          "name": "stderr",
          "text": [
            "\r 45%|████▌     | 68/150 [19:16<23:51, 17.46s/it]"
          ]
        },
        {
          "output_type": "stream",
          "name": "stdout",
          "text": [
            "epoch : 67\n",
            "\tloss_value_discriminator : 434.8061294389048, acc mean : 50.609522078463065\n"
          ]
        },
        {
          "output_type": "stream",
          "name": "stderr",
          "text": [
            "\r 46%|████▌     | 69/150 [19:33<23:34, 17.46s/it]"
          ]
        },
        {
          "output_type": "stream",
          "name": "stdout",
          "text": [
            "epoch : 68\n",
            "\tloss_value_discriminator : 8.303632069931313, acc mean : 48.72368680094659\n"
          ]
        },
        {
          "output_type": "stream",
          "name": "stderr",
          "text": [
            "\r 47%|████▋     | 70/150 [19:51<23:17, 17.46s/it]"
          ]
        },
        {
          "output_type": "stream",
          "name": "stdout",
          "text": [
            "epoch : 69\n",
            "\tloss_value_discriminator : 1.0690981762340155, acc mean : 48.62649446825567\n"
          ]
        },
        {
          "output_type": "stream",
          "name": "stderr",
          "text": [
            "\r 47%|████▋     | 71/150 [20:08<22:59, 17.47s/it]"
          ]
        },
        {
          "output_type": "stream",
          "name": "stdout",
          "text": [
            "epoch : 70\n",
            "\tloss_value_discriminator : 0.3498793559478119, acc mean : 47.965656964647415\n"
          ]
        },
        {
          "output_type": "stream",
          "name": "stderr",
          "text": [
            "\r 48%|████▊     | 72/150 [20:26<22:41, 17.46s/it]"
          ]
        },
        {
          "output_type": "stream",
          "name": "stdout",
          "text": [
            "epoch : 71\n",
            "\tloss_value_discriminator : 0.037672784651973636, acc mean : 49.00443656026605\n"
          ]
        },
        {
          "output_type": "stream",
          "name": "stderr",
          "text": [
            "\r 49%|████▊     | 73/150 [20:43<22:24, 17.46s/it]"
          ]
        },
        {
          "output_type": "stream",
          "name": "stdout",
          "text": [
            "epoch : 72\n",
            "\tloss_value_discriminator : 0.04498260685154148, acc mean : 48.71843108437238\n"
          ]
        },
        {
          "output_type": "stream",
          "name": "stderr",
          "text": [
            "\r 49%|████▉     | 74/150 [21:01<22:07, 17.47s/it]"
          ]
        },
        {
          "output_type": "stream",
          "name": "stdout",
          "text": [
            "epoch : 73\n",
            "\tloss_value_discriminator : 0.008880656582436874, acc mean : 50.02895525187237\n"
          ]
        },
        {
          "output_type": "stream",
          "name": "stderr",
          "text": [
            "\r 50%|█████     | 75/150 [21:18<21:50, 17.47s/it]"
          ]
        },
        {
          "output_type": "stream",
          "name": "stdout",
          "text": [
            "epoch : 74\n",
            "\tloss_value_discriminator : 0.011344152286397296, acc mean : 49.10974031666973\n"
          ]
        },
        {
          "output_type": "stream",
          "name": "stderr",
          "text": [
            "\r 51%|█████     | 76/150 [21:36<21:32, 17.46s/it]"
          ]
        },
        {
          "output_type": "stream",
          "name": "stdout",
          "text": [
            "epoch : 75\n",
            "\tloss_value_discriminator : 0.0, acc mean : 50.01137374719171\n"
          ]
        },
        {
          "output_type": "stream",
          "name": "stderr",
          "text": [
            "\r 51%|█████▏    | 77/150 [21:53<21:14, 17.46s/it]"
          ]
        },
        {
          "output_type": "stream",
          "name": "stdout",
          "text": [
            "epoch : 76\n",
            "\tloss_value_discriminator : 1106.7184042585409, acc mean : 48.5562649047778\n"
          ]
        },
        {
          "output_type": "stream",
          "name": "stderr",
          "text": [
            "\r 52%|█████▏    | 78/150 [22:10<20:49, 17.35s/it]"
          ]
        },
        {
          "output_type": "stream",
          "name": "stdout",
          "text": [
            "epoch : 77\n",
            "\tloss_value_discriminator : 45881768.280922465, acc mean : 27.348473045085182\n"
          ]
        },
        {
          "output_type": "stream",
          "name": "stderr",
          "text": [
            "\r 53%|█████▎    | 79/150 [22:28<20:34, 17.39s/it]"
          ]
        },
        {
          "output_type": "stream",
          "name": "stdout",
          "text": [
            "epoch : 78\n",
            "\tloss_value_discriminator : 11379.789203732513, acc mean : 62.77777519188573\n"
          ]
        },
        {
          "output_type": "stream",
          "name": "stderr",
          "text": [
            "\r 53%|█████▎    | 80/150 [22:45<20:09, 17.28s/it]"
          ]
        },
        {
          "output_type": "stream",
          "name": "stdout",
          "text": [
            "epoch : 79\n",
            "\tloss_value_discriminator : 57263.02380343076, acc mean : 19.28432757343689\n"
          ]
        },
        {
          "output_type": "stream",
          "name": "stderr",
          "text": [
            "\r 54%|█████▍    | 81/150 [23:01<19:41, 17.12s/it]"
          ]
        },
        {
          "output_type": "stream",
          "name": "stdout",
          "text": [
            "epoch : 80\n",
            "\tloss_value_discriminator : 5620.9759172838785, acc mean : 2.4264523852669133\n"
          ]
        },
        {
          "output_type": "stream",
          "name": "stderr",
          "text": [
            "\r 55%|█████▍    | 82/150 [23:18<19:13, 16.97s/it]"
          ]
        },
        {
          "output_type": "stream",
          "name": "stdout",
          "text": [
            "epoch : 81\n",
            "\tloss_value_discriminator : 1097.1218697498011, acc mean : 0.7999418829965966\n"
          ]
        },
        {
          "output_type": "stream",
          "name": "stderr",
          "text": [
            "\r 55%|█████▌    | 83/150 [23:35<18:49, 16.86s/it]"
          ]
        },
        {
          "output_type": "stream",
          "name": "stdout",
          "text": [
            "epoch : 82\n",
            "\tloss_value_discriminator : 4728.6999761087945, acc mean : 0.0\n"
          ]
        },
        {
          "output_type": "stream",
          "name": "stderr",
          "text": [
            "\r 56%|█████▌    | 84/150 [23:51<18:26, 16.77s/it]"
          ]
        },
        {
          "output_type": "stream",
          "name": "stdout",
          "text": [
            "epoch : 83\n",
            "\tloss_value_discriminator : 374.1891685363858, acc mean : 0.0\n"
          ]
        },
        {
          "output_type": "stream",
          "name": "stderr",
          "text": [
            "\r 57%|█████▋    | 85/150 [24:08<18:05, 16.71s/it]"
          ]
        },
        {
          "output_type": "stream",
          "name": "stdout",
          "text": [
            "epoch : 84\n",
            "\tloss_value_discriminator : 16916.431000545967, acc mean : 0.0\n"
          ]
        },
        {
          "output_type": "stream",
          "name": "stderr",
          "text": [
            "\r 57%|█████▋    | 86/150 [24:24<17:47, 16.68s/it]"
          ]
        },
        {
          "output_type": "stream",
          "name": "stdout",
          "text": [
            "epoch : 85\n",
            "\tloss_value_discriminator : 587.0041147719982, acc mean : 1.6977552163790492\n"
          ]
        },
        {
          "output_type": "stream",
          "name": "stderr",
          "text": [
            "\r 58%|█████▊    | 87/150 [24:42<17:43, 16.88s/it]"
          ]
        },
        {
          "output_type": "stream",
          "name": "stdout",
          "text": [
            "epoch : 86\n",
            "\tloss_value_discriminator : 348.10627727193196, acc mean : 52.09067423551949\n"
          ]
        },
        {
          "output_type": "stream",
          "name": "stderr",
          "text": [
            "\r 59%|█████▊    | 88/150 [24:59<17:37, 17.05s/it]"
          ]
        },
        {
          "output_type": "stream",
          "name": "stdout",
          "text": [
            "epoch : 87\n",
            "\tloss_value_discriminator : 214.03965163785358, acc mean : 65.66807029437344\n"
          ]
        },
        {
          "output_type": "stream",
          "name": "stderr",
          "text": [
            "\r 59%|█████▉    | 89/150 [25:17<17:26, 17.16s/it]"
          ]
        },
        {
          "output_type": "stream",
          "name": "stdout",
          "text": [
            "epoch : 88\n",
            "\tloss_value_discriminator : 65.9019656014997, acc mean : 67.55054044965047\n"
          ]
        },
        {
          "output_type": "stream",
          "name": "stderr",
          "text": [
            "\r 60%|██████    | 90/150 [25:34<17:15, 17.25s/it]"
          ]
        },
        {
          "output_type": "stream",
          "name": "stdout",
          "text": [
            "epoch : 89\n",
            "\tloss_value_discriminator : 27.64006974426813, acc mean : 68.84983661835706\n"
          ]
        },
        {
          "output_type": "stream",
          "name": "stderr",
          "text": [
            "\r 61%|██████    | 91/150 [25:51<17:01, 17.31s/it]"
          ]
        },
        {
          "output_type": "stream",
          "name": "stdout",
          "text": [
            "epoch : 90\n",
            "\tloss_value_discriminator : 9.446139831875646, acc mean : 69.26483714539128\n"
          ]
        },
        {
          "output_type": "stream",
          "name": "stderr",
          "text": [
            "\r 61%|██████▏   | 92/150 [26:09<16:46, 17.36s/it]"
          ]
        },
        {
          "output_type": "stream",
          "name": "stdout",
          "text": [
            "epoch : 91\n",
            "\tloss_value_discriminator : 4.231874507527019, acc mean : 70.56642354509435\n"
          ]
        },
        {
          "output_type": "stream",
          "name": "stderr",
          "text": [
            "\r 62%|██████▏   | 93/150 [26:26<16:31, 17.39s/it]"
          ]
        },
        {
          "output_type": "stream",
          "name": "stdout",
          "text": [
            "epoch : 92\n",
            "\tloss_value_discriminator : 1.965680626935737, acc mean : 71.41559088590755\n"
          ]
        },
        {
          "output_type": "stream",
          "name": "stderr",
          "text": [
            "\r 63%|██████▎   | 94/150 [26:44<16:14, 17.41s/it]"
          ]
        },
        {
          "output_type": "stream",
          "name": "stdout",
          "text": [
            "epoch : 93\n",
            "\tloss_value_discriminator : 1.9301352556361708, acc mean : 72.9162629381578\n"
          ]
        },
        {
          "output_type": "stream",
          "name": "stderr",
          "text": [
            "\r 63%|██████▎   | 95/150 [27:01<15:58, 17.42s/it]"
          ]
        },
        {
          "output_type": "stream",
          "name": "stdout",
          "text": [
            "epoch : 94\n",
            "\tloss_value_discriminator : 2.70436429977417, acc mean : 73.96052362026238\n"
          ]
        },
        {
          "output_type": "stream",
          "name": "stderr",
          "text": [
            "\r 64%|██████▍   | 96/150 [27:19<15:41, 17.44s/it]"
          ]
        },
        {
          "output_type": "stream",
          "name": "stdout",
          "text": [
            "epoch : 95\n",
            "\tloss_value_discriminator : 3.553975770639819, acc mean : 74.84238767831962\n"
          ]
        },
        {
          "output_type": "stream",
          "name": "stderr",
          "text": [
            "\r 65%|██████▍   | 97/150 [27:36<15:24, 17.45s/it]"
          ]
        },
        {
          "output_type": "stream",
          "name": "stdout",
          "text": [
            "epoch : 96\n",
            "\tloss_value_discriminator : 2.5923812999281775, acc mean : 75.23643609527134\n"
          ]
        },
        {
          "output_type": "stream",
          "name": "stderr",
          "text": [
            "\r 65%|██████▌   | 98/150 [27:54<15:07, 17.46s/it]"
          ]
        },
        {
          "output_type": "stream",
          "name": "stdout",
          "text": [
            "epoch : 97\n",
            "\tloss_value_discriminator : 4.181034423048765, acc mean : 75.48161093708183\n"
          ]
        },
        {
          "output_type": "stream",
          "name": "stderr",
          "text": [
            "\r 66%|██████▌   | 99/150 [28:11<14:50, 17.46s/it]"
          ]
        },
        {
          "output_type": "stream",
          "name": "stdout",
          "text": [
            "epoch : 98\n",
            "\tloss_value_discriminator : 20.43843492241793, acc mean : 75.13073808841403\n"
          ]
        },
        {
          "output_type": "stream",
          "name": "stderr",
          "text": [
            "\r 67%|██████▋   | 100/150 [28:29<14:33, 17.46s/it]"
          ]
        },
        {
          "output_type": "stream",
          "name": "stdout",
          "text": [
            "epoch : 99\n",
            "\tloss_value_discriminator : 5.503695754117744, acc mean : 74.31802114774128\n"
          ]
        },
        {
          "output_type": "stream",
          "name": "stderr",
          "text": [
            "\r 67%|██████▋   | 101/150 [28:46<14:15, 17.47s/it]"
          ]
        },
        {
          "output_type": "stream",
          "name": "stdout",
          "text": [
            "epoch : 100\n",
            "\tloss_value_discriminator : 0.3607335783714472, acc mean : 73.6569727224055\n"
          ]
        },
        {
          "output_type": "stream",
          "name": "stderr",
          "text": [
            "\r 68%|██████▊   | 102/150 [29:04<13:58, 17.46s/it]"
          ]
        },
        {
          "output_type": "stream",
          "name": "stdout",
          "text": [
            "epoch : 101\n",
            "\tloss_value_discriminator : 0.0, acc mean : 73.35479498799647\n"
          ]
        },
        {
          "output_type": "stream",
          "name": "stderr",
          "text": [
            "\r 69%|██████▊   | 103/150 [29:21<13:40, 17.46s/it]"
          ]
        },
        {
          "output_type": "stream",
          "name": "stdout",
          "text": [
            "epoch : 102\n",
            "\tloss_value_discriminator : 0.0, acc mean : 73.3401862874184\n"
          ]
        },
        {
          "output_type": "stream",
          "name": "stderr",
          "text": [
            "\r 69%|██████▉   | 104/150 [29:39<13:23, 17.46s/it]"
          ]
        },
        {
          "output_type": "stream",
          "name": "stdout",
          "text": [
            "epoch : 103\n",
            "\tloss_value_discriminator : 0.0, acc mean : 73.26807985778063\n"
          ]
        },
        {
          "output_type": "stream",
          "name": "stderr",
          "text": [
            "\r 70%|███████   | 105/150 [29:56<13:06, 17.47s/it]"
          ]
        },
        {
          "output_type": "stream",
          "name": "stdout",
          "text": [
            "epoch : 104\n",
            "\tloss_value_discriminator : 0.3072506549746491, acc mean : 73.13760823528517\n"
          ]
        },
        {
          "output_type": "stream",
          "name": "stderr",
          "text": [
            "\r 71%|███████   | 106/150 [30:13<12:48, 17.47s/it]"
          ]
        },
        {
          "output_type": "stream",
          "name": "stdout",
          "text": [
            "epoch : 105\n",
            "\tloss_value_discriminator : 2.4070539474487305, acc mean : 73.22802948087383\n"
          ]
        },
        {
          "output_type": "stream",
          "name": "stderr",
          "text": [
            "\r 71%|███████▏  | 107/150 [30:31<12:31, 17.47s/it]"
          ]
        },
        {
          "output_type": "stream",
          "name": "stdout",
          "text": [
            "epoch : 106\n",
            "\tloss_value_discriminator : 3.7399064219275187, acc mean : 73.14606096022429\n"
          ]
        },
        {
          "output_type": "stream",
          "name": "stderr",
          "text": [
            "\r 72%|███████▏  | 108/150 [30:48<12:13, 17.47s/it]"
          ]
        },
        {
          "output_type": "stream",
          "name": "stdout",
          "text": [
            "epoch : 107\n",
            "\tloss_value_discriminator : 0.5282453520353451, acc mean : 72.60002468040952\n"
          ]
        },
        {
          "output_type": "stream",
          "name": "stderr",
          "text": [
            "\r 73%|███████▎  | 109/150 [31:06<11:56, 17.47s/it]"
          ]
        },
        {
          "output_type": "stream",
          "name": "stdout",
          "text": [
            "epoch : 108\n",
            "\tloss_value_discriminator : 9.00244252626286, acc mean : 70.93412105769744\n"
          ]
        },
        {
          "output_type": "stream",
          "name": "stderr",
          "text": [
            "\r 73%|███████▎  | 110/150 [31:23<11:39, 17.48s/it]"
          ]
        },
        {
          "output_type": "stream",
          "name": "stdout",
          "text": [
            "epoch : 109\n",
            "\tloss_value_discriminator : 20.84326485145924, acc mean : 70.31779065016082\n"
          ]
        },
        {
          "output_type": "stream",
          "name": "stderr",
          "text": [
            "\r 74%|███████▍  | 111/150 [31:41<11:21, 17.47s/it]"
          ]
        },
        {
          "output_type": "stream",
          "name": "stdout",
          "text": [
            "epoch : 110\n",
            "\tloss_value_discriminator : 5.172856619191724, acc mean : 69.3239612682724\n"
          ]
        },
        {
          "output_type": "stream",
          "name": "stderr",
          "text": [
            "\r 75%|███████▍  | 112/150 [31:58<11:03, 17.47s/it]"
          ]
        },
        {
          "output_type": "stream",
          "name": "stdout",
          "text": [
            "epoch : 111\n",
            "\tloss_value_discriminator : 3.6137171734211058, acc mean : 69.62170918344209\n"
          ]
        },
        {
          "output_type": "stream",
          "name": "stderr",
          "text": [
            "\r 75%|███████▌  | 113/150 [32:16<10:46, 17.47s/it]"
          ]
        },
        {
          "output_type": "stream",
          "name": "stdout",
          "text": [
            "epoch : 112\n",
            "\tloss_value_discriminator : 51450.36986191606, acc mean : 61.697101919639216\n"
          ]
        },
        {
          "output_type": "stream",
          "name": "stderr",
          "text": [
            "\r 76%|███████▌  | 114/150 [32:33<10:29, 17.48s/it]"
          ]
        },
        {
          "output_type": "stream",
          "name": "stdout",
          "text": [
            "epoch : 113\n",
            "\tloss_value_discriminator : 489.60654253322025, acc mean : 35.23389914685997\n"
          ]
        },
        {
          "output_type": "stream",
          "name": "stderr",
          "text": [
            "\r 77%|███████▋  | 115/150 [32:51<10:11, 17.48s/it]"
          ]
        },
        {
          "output_type": "stream",
          "name": "stdout",
          "text": [
            "epoch : 114\n",
            "\tloss_value_discriminator : 308.3043426711892, acc mean : 36.98852704423854\n"
          ]
        },
        {
          "output_type": "stream",
          "name": "stderr",
          "text": [
            "\r 77%|███████▋  | 116/150 [33:08<09:54, 17.48s/it]"
          ]
        },
        {
          "output_type": "stream",
          "name": "stdout",
          "text": [
            "epoch : 115\n",
            "\tloss_value_discriminator : 252.7612970318905, acc mean : 40.186655693822175\n"
          ]
        },
        {
          "output_type": "stream",
          "name": "stderr",
          "text": [
            "\r 78%|███████▊  | 117/150 [33:26<09:36, 17.46s/it]"
          ]
        },
        {
          "output_type": "stream",
          "name": "stdout",
          "text": [
            "epoch : 116\n",
            "\tloss_value_discriminator : 51.86968441284803, acc mean : 43.35120569169258\n"
          ]
        },
        {
          "output_type": "stream",
          "name": "stderr",
          "text": [
            "\r 79%|███████▊  | 118/150 [33:43<09:18, 17.47s/it]"
          ]
        },
        {
          "output_type": "stream",
          "name": "stdout",
          "text": [
            "epoch : 117\n",
            "\tloss_value_discriminator : 23.364133858982864, acc mean : 45.94650725531742\n"
          ]
        },
        {
          "output_type": "stream",
          "name": "stderr",
          "text": [
            "\r 79%|███████▉  | 119/150 [34:01<09:01, 17.47s/it]"
          ]
        },
        {
          "output_type": "stream",
          "name": "stdout",
          "text": [
            "epoch : 118\n",
            "\tloss_value_discriminator : 5.367223501205444, acc mean : 47.308656279179836\n"
          ]
        },
        {
          "output_type": "stream",
          "name": "stderr",
          "text": [
            "\r 80%|████████  | 120/150 [34:18<08:44, 17.47s/it]"
          ]
        },
        {
          "output_type": "stream",
          "name": "stdout",
          "text": [
            "epoch : 119\n",
            "\tloss_value_discriminator : 10.718686272931654, acc mean : 49.32143099008213\n"
          ]
        },
        {
          "output_type": "stream",
          "name": "stderr",
          "text": [
            "\r 81%|████████  | 121/150 [34:36<08:26, 17.48s/it]"
          ]
        },
        {
          "output_type": "stream",
          "name": "stdout",
          "text": [
            "epoch : 120\n",
            "\tloss_value_discriminator : 2.2465504047482514, acc mean : 50.21562350406032\n"
          ]
        },
        {
          "output_type": "stream",
          "name": "stderr",
          "text": [
            "\r 81%|████████▏ | 122/150 [34:53<08:09, 17.47s/it]"
          ]
        },
        {
          "output_type": "stream",
          "name": "stdout",
          "text": [
            "epoch : 121\n",
            "\tloss_value_discriminator : 1.926835112793501, acc mean : 50.592029495872\n"
          ]
        },
        {
          "output_type": "stream",
          "name": "stderr",
          "text": [
            "\r 82%|████████▏ | 123/150 [35:10<07:51, 17.46s/it]"
          ]
        },
        {
          "output_type": "stream",
          "name": "stdout",
          "text": [
            "epoch : 122\n",
            "\tloss_value_discriminator : 1.6288935417352721, acc mean : 51.02215422606607\n"
          ]
        },
        {
          "output_type": "stream",
          "name": "stderr",
          "text": [
            "\r 83%|████████▎ | 124/150 [35:28<07:34, 17.46s/it]"
          ]
        },
        {
          "output_type": "stream",
          "name": "stdout",
          "text": [
            "epoch : 123\n",
            "\tloss_value_discriminator : 0.20053058446839797, acc mean : 51.09541491375205\n"
          ]
        },
        {
          "output_type": "stream",
          "name": "stderr",
          "text": [
            "\r 83%|████████▎ | 125/150 [35:45<07:16, 17.47s/it]"
          ]
        },
        {
          "output_type": "stream",
          "name": "stdout",
          "text": [
            "epoch : 124\n",
            "\tloss_value_discriminator : 0.0, acc mean : 51.404985667046034\n"
          ]
        },
        {
          "output_type": "stream",
          "name": "stderr",
          "text": [
            "\r 84%|████████▍ | 126/150 [36:03<06:59, 17.46s/it]"
          ]
        },
        {
          "output_type": "stream",
          "name": "stdout",
          "text": [
            "epoch : 125\n",
            "\tloss_value_discriminator : 0.4049832820892334, acc mean : 51.477691290776036\n"
          ]
        },
        {
          "output_type": "stream",
          "name": "stderr",
          "text": [
            "\r 85%|████████▍ | 127/150 [36:20<06:41, 17.46s/it]"
          ]
        },
        {
          "output_type": "stream",
          "name": "stdout",
          "text": [
            "epoch : 126\n",
            "\tloss_value_discriminator : 20.794365372768667, acc mean : 50.7738674115863\n"
          ]
        },
        {
          "output_type": "stream",
          "name": "stderr",
          "text": [
            "\r 85%|████████▌ | 128/150 [36:38<06:24, 17.46s/it]"
          ]
        },
        {
          "output_type": "stream",
          "name": "stdout",
          "text": [
            "epoch : 127\n",
            "\tloss_value_discriminator : 0.5766801473706268, acc mean : 50.13656151055122\n"
          ]
        },
        {
          "output_type": "stream",
          "name": "stderr",
          "text": [
            "\r 86%|████████▌ | 129/150 [36:55<06:06, 17.47s/it]"
          ]
        },
        {
          "output_type": "stream",
          "name": "stdout",
          "text": [
            "epoch : 128\n",
            "\tloss_value_discriminator : 0.0155979547389718, acc mean : 50.29214094078015\n"
          ]
        },
        {
          "output_type": "stream",
          "name": "stderr",
          "text": [
            "\r 87%|████████▋ | 130/150 [37:13<05:49, 17.47s/it]"
          ]
        },
        {
          "output_type": "stream",
          "name": "stdout",
          "text": [
            "epoch : 129\n",
            "\tloss_value_discriminator : 1.198595601458882, acc mean : 50.933339378789846\n"
          ]
        },
        {
          "output_type": "stream",
          "name": "stderr",
          "text": [
            "\r 87%|████████▋ | 131/150 [37:30<05:31, 17.47s/it]"
          ]
        },
        {
          "output_type": "stream",
          "name": "stdout",
          "text": [
            "epoch : 130\n",
            "\tloss_value_discriminator : 2.299417584441429, acc mean : 52.12046722678302\n"
          ]
        },
        {
          "output_type": "stream",
          "name": "stderr",
          "text": [
            "\r 88%|████████▊ | 132/150 [37:48<05:14, 17.48s/it]"
          ]
        },
        {
          "output_type": "stream",
          "name": "stdout",
          "text": [
            "epoch : 131\n",
            "\tloss_value_discriminator : 3.6024722027224163, acc mean : 53.41015871457335\n"
          ]
        },
        {
          "output_type": "stream",
          "name": "stderr",
          "text": [
            "\r 89%|████████▊ | 133/150 [38:05<04:57, 17.48s/it]"
          ]
        },
        {
          "output_type": "stream",
          "name": "stdout",
          "text": [
            "epoch : 132\n",
            "\tloss_value_discriminator : 0.0, acc mean : 53.72636762648896\n"
          ]
        },
        {
          "output_type": "stream",
          "name": "stderr",
          "text": [
            "\r 89%|████████▉ | 134/150 [38:23<04:39, 17.48s/it]"
          ]
        },
        {
          "output_type": "stream",
          "name": "stdout",
          "text": [
            "epoch : 133\n",
            "\tloss_value_discriminator : 0.0, acc mean : 53.83874709550959\n"
          ]
        },
        {
          "output_type": "stream",
          "name": "stderr",
          "text": [
            "\r 90%|█████████ | 135/150 [38:40<04:22, 17.47s/it]"
          ]
        },
        {
          "output_type": "stream",
          "name": "stdout",
          "text": [
            "epoch : 134\n",
            "\tloss_value_discriminator : 0.0, acc mean : 54.16698357781722\n"
          ]
        },
        {
          "output_type": "stream",
          "name": "stderr",
          "text": [
            "\r 91%|█████████ | 136/150 [38:58<04:04, 17.46s/it]"
          ]
        },
        {
          "output_type": "stream",
          "name": "stdout",
          "text": [
            "epoch : 135\n",
            "\tloss_value_discriminator : 2.7810408736384193, acc mean : 54.67789472306104\n"
          ]
        },
        {
          "output_type": "stream",
          "name": "stderr",
          "text": [
            "\r 91%|█████████▏| 137/150 [39:15<03:46, 17.46s/it]"
          ]
        },
        {
          "output_type": "stream",
          "name": "stdout",
          "text": [
            "epoch : 136\n",
            "\tloss_value_discriminator : 24.879250038501826, acc mean : 54.88295946460737\n"
          ]
        },
        {
          "output_type": "stream",
          "name": "stderr",
          "text": [
            "\r 92%|█████████▏| 138/150 [39:32<03:29, 17.46s/it]"
          ]
        },
        {
          "output_type": "stream",
          "name": "stdout",
          "text": [
            "epoch : 137\n",
            "\tloss_value_discriminator : 0.039401226265485895, acc mean : 54.44577108968449\n"
          ]
        },
        {
          "output_type": "stream",
          "name": "stderr",
          "text": [
            "\r 93%|█████████▎| 139/150 [39:50<03:12, 17.46s/it]"
          ]
        },
        {
          "output_type": "stream",
          "name": "stdout",
          "text": [
            "epoch : 138\n",
            "\tloss_value_discriminator : 556840.5683851921, acc mean : 54.912281451996385\n"
          ]
        },
        {
          "output_type": "stream",
          "name": "stderr",
          "text": [
            "\r 93%|█████████▎| 140/150 [40:06<02:51, 17.19s/it]"
          ]
        },
        {
          "output_type": "stream",
          "name": "stdout",
          "text": [
            "epoch : 139\n",
            "\tloss_value_discriminator : 9733768.485044967, acc mean : 1.5818101407563496\n"
          ]
        },
        {
          "output_type": "stream",
          "name": "stderr",
          "text": [
            "\r 94%|█████████▍| 141/150 [40:23<02:32, 16.99s/it]"
          ]
        },
        {
          "output_type": "stream",
          "name": "stdout",
          "text": [
            "epoch : 140\n",
            "\tloss_value_discriminator : 10408.31461777798, acc mean : 0.0\n"
          ]
        },
        {
          "output_type": "stream",
          "name": "stderr",
          "text": [
            "\r 95%|█████████▍| 142/150 [40:40<02:14, 16.85s/it]"
          ]
        },
        {
          "output_type": "stream",
          "name": "stdout",
          "text": [
            "epoch : 141\n",
            "\tloss_value_discriminator : 4297.30234438874, acc mean : 0.0\n"
          ]
        },
        {
          "output_type": "stream",
          "name": "stderr",
          "text": [
            "\r 95%|█████████▌| 143/150 [40:56<01:57, 16.75s/it]"
          ]
        },
        {
          "output_type": "stream",
          "name": "stdout",
          "text": [
            "epoch : 142\n",
            "\tloss_value_discriminator : 4190.659787909929, acc mean : 0.0\n"
          ]
        },
        {
          "output_type": "stream",
          "name": "stderr",
          "text": [
            "\r 96%|█████████▌| 144/150 [41:13<01:40, 16.68s/it]"
          ]
        },
        {
          "output_type": "stream",
          "name": "stdout",
          "text": [
            "epoch : 143\n",
            "\tloss_value_discriminator : 5049.3415058934415, acc mean : 0.0\n"
          ]
        },
        {
          "output_type": "stream",
          "name": "stderr",
          "text": [
            "\r 97%|█████████▋| 145/150 [41:29<01:23, 16.63s/it]"
          ]
        },
        {
          "output_type": "stream",
          "name": "stdout",
          "text": [
            "epoch : 144\n",
            "\tloss_value_discriminator : 3537.858476505723, acc mean : 0.0\n"
          ]
        },
        {
          "output_type": "stream",
          "name": "stderr",
          "text": [
            "\r 97%|█████████▋| 146/150 [41:46<01:06, 16.60s/it]"
          ]
        },
        {
          "output_type": "stream",
          "name": "stdout",
          "text": [
            "epoch : 145\n",
            "\tloss_value_discriminator : 5835.9261474609375, acc mean : 0.0\n"
          ]
        },
        {
          "output_type": "stream",
          "name": "stderr",
          "text": [
            "\r 98%|█████████▊| 147/150 [42:02<00:49, 16.58s/it]"
          ]
        },
        {
          "output_type": "stream",
          "name": "stdout",
          "text": [
            "epoch : 146\n",
            "\tloss_value_discriminator : 4398.7590800440585, acc mean : 0.0\n"
          ]
        },
        {
          "output_type": "stream",
          "name": "stderr",
          "text": [
            "\r 99%|█████████▊| 148/150 [42:19<00:33, 16.57s/it]"
          ]
        },
        {
          "output_type": "stream",
          "name": "stdout",
          "text": [
            "epoch : 147\n",
            "\tloss_value_discriminator : 3630.5582587663516, acc mean : 0.0\n"
          ]
        },
        {
          "output_type": "stream",
          "name": "stderr",
          "text": [
            "\r 99%|█████████▉| 149/150 [42:35<00:16, 16.56s/it]"
          ]
        },
        {
          "output_type": "stream",
          "name": "stdout",
          "text": [
            "epoch : 148\n",
            "\tloss_value_discriminator : 2558.963926093523, acc mean : 0.0\n"
          ]
        },
        {
          "output_type": "stream",
          "name": "stderr",
          "text": [
            "100%|██████████| 150/150 [42:52<00:00, 17.15s/it]"
          ]
        },
        {
          "output_type": "stream",
          "name": "stdout",
          "text": [
            "epoch : 149\n",
            "\tloss_value_discriminator : 1868.5054220155228, acc mean : 0.0\n"
          ]
        },
        {
          "output_type": "stream",
          "name": "stderr",
          "text": [
            "\n"
          ]
        }
      ],
      "source": [
        "# ================================================================================\n",
        "# \n",
        "# iterations for epochs\n",
        "#\n",
        "# ================================================================================\n",
        "for i in tqdm(range(number_epoch)):\n",
        "    \n",
        "    # ================================================================================\n",
        "    # \n",
        "    # training\n",
        "    #\n",
        "    # ================================================================================\n",
        "    (loss_value_generator, loss_value_discriminator, accuracy_value) = train(generator, discriminator, dataloader_real)\n",
        "\n",
        "    loss_generator_mean[i]      = loss_value_generator['mean']\n",
        "    loss_generator_std[i]       = loss_value_generator['std']\n",
        "\n",
        "    loss_discriminator_mean[i]  = loss_value_discriminator['mean']\n",
        "    loss_discriminator_std[i]   = loss_value_discriminator['std']\n",
        "\n",
        "    accuracy_mean[i]            = accuracy_value['mean']\n",
        "    accuracy_std[i]             = accuracy_value['std']\n",
        "\n",
        "    print(f\"epoch : {i}\")\n",
        "    print(f\"\\tloss_value_discriminator : {loss_value_discriminator['mean']}, acc mean : {accuracy_value['mean']}\")"
      ]
    },
    {
      "cell_type": "markdown",
      "metadata": {
        "id": "gGpzL2sHZiYV"
      },
      "source": [
        "---"
      ]
    },
    {
      "cell_type": "markdown",
      "metadata": {
        "id": "sig1-Xv-ZiYW"
      },
      "source": [
        "# functions for visualizing the results "
      ]
    },
    {
      "cell_type": "markdown",
      "metadata": {
        "id": "mo8Kr3FzZiYW"
      },
      "source": [
        "---"
      ]
    },
    {
      "cell_type": "markdown",
      "metadata": {
        "id": "G5BarCiNZiYW"
      },
      "source": [
        "## plot curve"
      ]
    },
    {
      "cell_type": "markdown",
      "metadata": {
        "id": "Oh-F0VPWZiYW"
      },
      "source": [
        ""
      ]
    },
    {
      "cell_type": "code",
      "execution_count": 22,
      "metadata": {
        "id": "IllnUpY9ZiYW"
      },
      "outputs": [],
      "source": [
        "def plot_image_grid(data, nRow, nCol, filename=None):\n",
        "\n",
        "    size_col = 1.5\n",
        "    size_row = 1.5\n",
        "\n",
        "    fig, axes = plt.subplots(nRow, nCol, constrained_layout=True, figsize=(nCol * size_col, nRow * size_row))\n",
        "    \n",
        "    data = data.detach().cpu()\n",
        "\n",
        "    for i in range(nRow):\n",
        "        for j in range(nCol):\n",
        "\n",
        "            k       = i * nCol + j\n",
        "            image   = np.squeeze(data[k], axis=0)\n",
        "\n",
        "            axes[i, j].imshow(image, cmap='gray', vmin=0, vmax=1)\n",
        "            axes[i, j].xaxis.set_visible(False)\n",
        "            axes[i, j].yaxis.set_visible(False)\n",
        "\n",
        "    plt.show()\n",
        "\n",
        "    if filename is not None:\n",
        "\n",
        "        fig.savefig(filename)\n",
        "        pass"
      ]
    },
    {
      "cell_type": "code",
      "execution_count": 23,
      "metadata": {
        "id": "qowDwzLAZiYW"
      },
      "outputs": [],
      "source": [
        "def plot_data_grid(data, index_data, nRow, nCol):\n",
        "    \n",
        "    size_col = 1.5\n",
        "    size_row = 1.5\n",
        "\n",
        "    fig, axes = plt.subplots(nRow, nCol, constrained_layout=True, figsize=(nCol * size_col, nRow * size_row))\n",
        "\n",
        "    for i in range(nRow):\n",
        "        for j in range(nCol):\n",
        "\n",
        "            k       = i * nCol + j\n",
        "            index   = index_data[k]\n",
        "\n",
        "            axes[i, j].imshow(data[index], cmap='gray', vmin=0, vmax=1)\n",
        "            axes[i, j].xaxis.set_visible(False)\n",
        "            axes[i, j].yaxis.set_visible(False)\n",
        "\n",
        "    plt.show()"
      ]
    },
    {
      "cell_type": "code",
      "execution_count": 24,
      "metadata": {
        "id": "rMGtJBm7ZiYW"
      },
      "outputs": [],
      "source": [
        "def plot_data_tensor_grid(data, index_data, nRow, nCol):\n",
        "    \n",
        "    size_col = 1.5\n",
        "    size_row = 1.5\n",
        "\n",
        "    fig, axes = plt.subplots(nRow, nCol, constrained_layout=True, figsize=(nCol * size_col, nRow * size_row))\n",
        "\n",
        "    data = data.detach().cpu().squeeze(axis=1)\n",
        "\n",
        "    for i in range(nRow):\n",
        "        for j in range(nCol):\n",
        "\n",
        "            k       = i * nCol + j\n",
        "            index   = index_data[k]\n",
        "\n",
        "            axes[i, j].imshow(data[index], cmap='gray', vmin=0, vmax=1)\n",
        "            axes[i, j].xaxis.set_visible(False)\n",
        "            axes[i, j].yaxis.set_visible(False)\n",
        "\n",
        "    plt.show()"
      ]
    },
    {
      "cell_type": "code",
      "execution_count": 25,
      "metadata": {
        "id": "k9Rvahj_ZiYX"
      },
      "outputs": [],
      "source": [
        "def plot_curve_error(data_mean, data_std, x_label, y_label, title, filename=None):\n",
        "\n",
        "    fig = plt.figure(figsize=(8, 6))\n",
        "    plt.title(title)\n",
        "\n",
        "    alpha = 0.3\n",
        "    \n",
        "    plt.plot(range(len(data_mean)), data_mean, '-', color = 'red')\n",
        "    plt.fill_between(range(len(data_mean)), data_mean - data_std, data_mean + data_std, facecolor = 'blue', alpha = alpha) \n",
        "    \n",
        "    plt.xlabel(x_label)\n",
        "    plt.ylabel(y_label)\n",
        "\n",
        "    plt.tight_layout()\n",
        "    plt.show()\n",
        "\n",
        "    if filename is not None:\n",
        "\n",
        "        fig.savefig(filename)\n",
        "        pass"
      ]
    },
    {
      "cell_type": "code",
      "execution_count": 26,
      "metadata": {
        "id": "mrTtty56ZiYX"
      },
      "outputs": [],
      "source": [
        "def print_curve(data, index):\n",
        "    \n",
        "    for i in range(len(index)):\n",
        "\n",
        "        idx = index[i]\n",
        "        val = data[idx]\n",
        "\n",
        "        print('index = %2d, value = %12.10f' % (idx, val))"
      ]
    },
    {
      "cell_type": "code",
      "execution_count": 27,
      "metadata": {
        "id": "lIZj7BMNZiYX"
      },
      "outputs": [],
      "source": [
        "def get_data_last(data, index_start):\n",
        "\n",
        "    data_last = data[index_start:]\n",
        "\n",
        "    return data_last"
      ]
    },
    {
      "cell_type": "code",
      "execution_count": 28,
      "metadata": {
        "id": "hSWP-LXEZiYX"
      },
      "outputs": [],
      "source": [
        "def get_max_last_range(data, index_start):\n",
        "\n",
        "    data_range = get_data_last(data, index_start)\n",
        "    value = data_range.max()\n",
        "\n",
        "    return value"
      ]
    },
    {
      "cell_type": "code",
      "execution_count": 29,
      "metadata": {
        "id": "jJl9ZgUxZiYX"
      },
      "outputs": [],
      "source": [
        "def get_min_last_range(data, index_start):\n",
        "\n",
        "    data_range = get_data_last(data, index_start)\n",
        "    value = data_range.min()\n",
        "\n",
        "    return value"
      ]
    },
    {
      "cell_type": "markdown",
      "metadata": {
        "id": "JOdRbokrZiYX"
      },
      "source": [
        "---"
      ]
    },
    {
      "cell_type": "markdown",
      "metadata": {
        "id": "1ukEa2-2ZiYY"
      },
      "source": [
        "# functions for presenting the results"
      ]
    },
    {
      "cell_type": "markdown",
      "metadata": {
        "id": "VyWYXuUpZiYY"
      },
      "source": [
        "---"
      ]
    },
    {
      "cell_type": "code",
      "execution_count": 30,
      "metadata": {
        "id": "MEe41fgTZiYY"
      },
      "outputs": [],
      "source": [
        "def function_result_01():\n",
        "\n",
        "    print('[plot examples of the real images]')\n",
        "    print('') \n",
        "\n",
        "    nRow = 8\n",
        "    nCol = 6\n",
        "\n",
        "    number_data = len(dataset_real)\n",
        "    step        = int(np.floor(number_data / (nRow * nCol)))\n",
        "    index_data  = np.arange(0, number_data, step)\n",
        "    index_plot  = np.arange(0, nRow * nCol)\n",
        "\n",
        "    data = dataset_real[index_data]\n",
        "    data = data[0]\n",
        "    \n",
        "    plot_data_grid(data, index_plot, nRow, nCol)"
      ]
    },
    {
      "cell_type": "code",
      "execution_count": 31,
      "metadata": {
        "id": "UL9Dr3NaZiYY"
      },
      "outputs": [],
      "source": [
        "def function_result_02():\n",
        "\n",
        "    print('[plot examples of the fake images]')\n",
        "    print('') \n",
        "\n",
        "    nRow = 8\n",
        "    nCol = 6\n",
        "    number_latent = nRow * nCol\n",
        "\n",
        "    latent  = torch.randn(number_latent, dim_latent, device=device)\n",
        "    latent  = torch.reshape(latent, [number_latent, dim_latent, 1, 1])\n",
        "\n",
        "    generator.eval()\n",
        "\n",
        "    data_fake   = generator(latent)\n",
        "    filename    = 'fake_image.png'\n",
        "\n",
        "    plot_image_grid(data_fake, nRow, nCol, filename)"
      ]
    },
    {
      "cell_type": "code",
      "execution_count": 32,
      "metadata": {
        "id": "8sXOPrEkZiYY"
      },
      "outputs": [],
      "source": [
        "def function_result_03():\n",
        "\n",
        "    print('[plot the generator loss]')\n",
        "    print('') \n",
        "\n",
        "    plot_curve_error(loss_generator_mean, loss_generator_std, 'epoch', 'loss', 'generator loss', 'loss_generator.png')"
      ]
    },
    {
      "cell_type": "code",
      "execution_count": 33,
      "metadata": {
        "id": "EZ7wWBKmZiYY"
      },
      "outputs": [],
      "source": [
        "def function_result_04():\n",
        "    \n",
        "    print('[plot the discriminator loss]')\n",
        "    print('') \n",
        "    \n",
        "    plot_curve_error(loss_discriminator_mean, loss_discriminator_std, 'epoch', 'loss', 'discriminator loss', 'loss_discriminator.png')"
      ]
    },
    {
      "cell_type": "code",
      "execution_count": 34,
      "metadata": {
        "id": "z4GVlcfwZiYY"
      },
      "outputs": [],
      "source": [
        "def function_result_05():\n",
        "    \n",
        "    print('[plot the accuracy]')\n",
        "    print('') \n",
        "    \n",
        "    plot_curve_error(accuracy_mean, accuracy_std, 'epoch', 'accuracy', 'training accuracy', 'training_accuracy.png')"
      ]
    },
    {
      "cell_type": "code",
      "execution_count": 35,
      "metadata": {
        "id": "DfgfXKPuZiYY"
      },
      "outputs": [],
      "source": [
        "def function_result_06():\n",
        "    \n",
        "    print('[print the generator loss at the last 10 epochs]')\n",
        "    print('') \n",
        "\n",
        "    data_last = get_data_last(loss_generator_mean, -10)\n",
        "    index = np.arange(0, 10)\n",
        "    print_curve(data_last, index)"
      ]
    },
    {
      "cell_type": "code",
      "execution_count": 36,
      "metadata": {
        "id": "HgAGW3flZiYZ"
      },
      "outputs": [],
      "source": [
        "def function_result_07():\n",
        "    \n",
        "    print('[print the discriminator loss at the last 10 epochs]')\n",
        "    print('') \n",
        "\n",
        "    data_last = get_data_last(loss_discriminator_mean, -10)\n",
        "    index = np.arange(0, 10)\n",
        "    print_curve(data_last, index)"
      ]
    },
    {
      "cell_type": "code",
      "execution_count": 37,
      "metadata": {
        "id": "m25LJAC-ZiYZ"
      },
      "outputs": [],
      "source": [
        "def function_result_08():\n",
        "    \n",
        "    print('[print the accuracy at the last 10 epochs]')\n",
        "    print('') \n",
        "\n",
        "    data_last = get_data_last(accuracy_mean, -10)\n",
        "    index = np.arange(0, 10)\n",
        "    print_curve(data_last, index)"
      ]
    },
    {
      "cell_type": "code",
      "execution_count": 38,
      "metadata": {
        "id": "kecDyh2GZiYZ"
      },
      "outputs": [],
      "source": [
        "def function_result_09():\n",
        "    \n",
        "    print('[print the best accuracy within the last 10 epochs]')\n",
        "    print('') \n",
        "    \n",
        "    value = get_max_last_range(accuracy_mean, -10)\n",
        "    print('best accuracy = %12.10f' % (value))"
      ]
    },
    {
      "cell_type": "markdown",
      "metadata": {
        "id": "LZbp5pPOZiYZ"
      },
      "source": [
        "---"
      ]
    },
    {
      "cell_type": "markdown",
      "metadata": {
        "id": "TU1P0Y7qZiYZ"
      },
      "source": [
        "# RESULTS"
      ]
    },
    {
      "cell_type": "markdown",
      "metadata": {
        "id": "DuWnhH62ZiYZ"
      },
      "source": [
        "---"
      ]
    },
    {
      "cell_type": "code",
      "execution_count": 39,
      "metadata": {
        "id": "XP0f5JD9ZiYa",
        "outputId": "17e2e74f-3fbe-4caa-cc94-747d14e44b61",
        "colab": {
          "base_uri": "https://localhost:8080/",
          "height": 1000
        }
      },
      "outputs": [
        {
          "output_type": "stream",
          "name": "stdout",
          "text": [
            "\n",
            "################################################################################\n",
            "#\n",
            "# RESULT # 01\n",
            "#\n",
            "################################################################################\n",
            "\n",
            "[plot examples of the real images]\n",
            "\n"
          ]
        },
        {
          "output_type": "display_data",
          "data": {
            "image/png": "[encoded data removed]",
            "text/plain": [
              "<Figure size 648x864 with 48 Axes>"
            ]
          },
          "metadata": {
            "needs_background": "light"
          }
        },
        {
          "output_type": "stream",
          "name": "stdout",
          "text": [
            "\n",
            "################################################################################\n",
            "#\n",
            "# RESULT # 02\n",
            "#\n",
            "################################################################################\n",
            "\n",
            "[plot examples of the fake images]\n",
            "\n"
          ]
        },
        {
          "output_type": "display_data",
          "data": {
            "image/png": "[encoded data removed]",
            "text/plain": [
              "<Figure size 648x864 with 48 Axes>"
            ]
          },
          "metadata": {
            "needs_background": "light"
          }
        },
        {
          "output_type": "stream",
          "name": "stdout",
          "text": [
            "\n",
            "################################################################################\n",
            "#\n",
            "# RESULT # 03\n",
            "#\n",
            "################################################################################\n",
            "\n",
            "[plot the generator loss]\n",
            "\n"
          ]
        },
        {
          "output_type": "display_data",
          "data": {
            "image/png": "[encoded data removed]",
            "text/plain": [
              "<Figure size 576x432 with 1 Axes>"
            ]
          },
          "metadata": {
            "needs_background": "light"
          }
        },
        {
          "output_type": "stream",
          "name": "stdout",
          "text": [
            "\n",
            "################################################################################\n",
            "#\n",
            "# RESULT # 04\n",
            "#\n",
            "################################################################################\n",
            "\n",
            "[plot the discriminator loss]\n",
            "\n"
          ]
        },
        {
          "output_type": "display_data",
          "data": {
            "image/png": "[encoded data removed]",
            "text/plain": [
              "<Figure size 576x432 with 1 Axes>"
            ]
          },
          "metadata": {
            "needs_background": "light"
          }
        },
        {
          "output_type": "stream",
          "name": "stdout",
          "text": [
            "\n",
            "################################################################################\n",
            "#\n",
            "# RESULT # 05\n",
            "#\n",
            "################################################################################\n",
            "\n",
            "[plot the accuracy]\n",
            "\n"
          ]
        },
        {
          "output_type": "display_data",
          "data": {
            "image/png": "[encoded data removed]",
            "text/plain": [
              "<Figure size 576x432 with 1 Axes>"
            ]
          },
          "metadata": {
            "needs_background": "light"
          }
        },
        {
          "output_type": "stream",
          "name": "stdout",
          "text": [
            "\n",
            "################################################################################\n",
            "#\n",
            "# RESULT # 06\n",
            "#\n",
            "################################################################################\n",
            "\n",
            "[print the generator loss at the last 10 epochs]\n",
            "\n",
            "index =  0, value = 49598.4003947058\n",
            "index =  1, value = 33777.5290044740\n",
            "index =  2, value = 30643.9714014807\n",
            "index =  3, value = 23668.5373498784\n",
            "index =  4, value = 23419.0948543105\n",
            "index =  5, value = 19108.4312128466\n",
            "index =  6, value = 13944.0439304086\n",
            "index =  7, value = 12054.2066266259\n",
            "index =  8, value = 8931.2253464544\n",
            "index =  9, value = 8293.4763928790\n",
            "\n",
            "################################################################################\n",
            "#\n",
            "# RESULT # 07\n",
            "#\n",
            "################################################################################\n",
            "\n",
            "[print the discriminator loss at the last 10 epochs]\n",
            "\n",
            "index =  0, value = 10408.3146177780\n",
            "index =  1, value = 4297.3023443887\n",
            "index =  2, value = 4190.6597879099\n",
            "index =  3, value = 5049.3415058934\n",
            "index =  4, value = 3537.8584765057\n",
            "index =  5, value = 5835.9261474609\n",
            "index =  6, value = 4398.7590800441\n",
            "index =  7, value = 3630.5582587664\n",
            "index =  8, value = 2558.9639260935\n",
            "index =  9, value = 1868.5054220155\n",
            "\n",
            "################################################################################\n",
            "#\n",
            "# RESULT # 08\n",
            "#\n",
            "################################################################################\n",
            "\n",
            "[print the accuracy at the last 10 epochs]\n",
            "\n",
            "index =  0, value = 0.0000000000\n",
            "index =  1, value = 0.0000000000\n",
            "index =  2, value = 0.0000000000\n",
            "index =  3, value = 0.0000000000\n",
            "index =  4, value = 0.0000000000\n",
            "index =  5, value = 0.0000000000\n",
            "index =  6, value = 0.0000000000\n",
            "index =  7, value = 0.0000000000\n",
            "index =  8, value = 0.0000000000\n",
            "index =  9, value = 0.0000000000\n",
            "\n",
            "################################################################################\n",
            "#\n",
            "# RESULT # 09\n",
            "#\n",
            "################################################################################\n",
            "\n",
            "[print the best accuracy within the last 10 epochs]\n",
            "\n",
            "best accuracy = 0.0000000000\n"
          ]
        }
      ],
      "source": [
        "number_result = 9\n",
        "\n",
        "for i in range(number_result):\n",
        "\n",
        "    title           = '# RESULT # {:02d}'.format(i+1) \n",
        "    name_function   = 'function_result_{:02d}()'.format(i+1)\n",
        "\n",
        "    print('') \n",
        "    print('################################################################################')\n",
        "    print('#') \n",
        "    print(title)\n",
        "    print('#') \n",
        "    print('################################################################################')\n",
        "    print('') \n",
        "\n",
        "    eval(name_function)"
      ]
    }
  ],
  "metadata": {
    "colab": {
      "collapsed_sections": [],
      "name": "assignment_02.ipynb",
      "provenance": []
    },
    "interpreter": {
      "hash": "17ed1555cfbb96ddcf655400d6c25a9cebe961c1b69daf25bae91d698acdd2a7"
    },
    "kernelspec": {
      "display_name": "Python 3.8.12 64-bit ('hsh': conda)",
      "name": "python3"
    },
    "language_info": {
      "codemirror_mode": {
        "name": "ipython",
        "version": 3
      },
      "file_extension": ".py",
      "mimetype": "text/x-python",
      "name": "python",
      "nbconvert_exporter": "python",
      "pygments_lexer": "ipython3",
      "version": "3.8.8"
    },
    "accelerator": "GPU"
  },
  "nbformat": 4,
  "nbformat_minor": 0
}